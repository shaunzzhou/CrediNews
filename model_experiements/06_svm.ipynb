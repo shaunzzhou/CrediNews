{
 "cells": [
  {
   "cell_type": "code",
   "execution_count": 9,
   "metadata": {},
   "outputs": [],
   "source": [
    "from sklearn.feature_extraction.text import CountVectorizer\n",
    "from sklearn.model_selection import train_test_split\n",
    "from sklearn.svm import SVC\n",
    "from sklearn.metrics import classification_report, confusion_matrix, f1_score\n",
    "from sklearn.linear_model import SGDClassifier\n",
    "\n",
    "# Data manipulation\n",
    "import pandas as pd\n",
    "import numpy as np\n",
    "\n",
    "# Statistical functions\n",
    "from scipy.stats import zscore\n",
    "\n",
    "# For concurrency (running functions in parallel)\n",
    "from concurrent.futures import ThreadPoolExecutor\n",
    "\n",
    "# For caching (to speed up repeated function calls)\n",
    "from functools import lru_cache\n",
    "\n",
    "# For progress tracking\n",
    "from tqdm import tqdm\n",
    "\n",
    "# Plotting and Visualisation\n",
    "import matplotlib.pyplot as plt\n",
    "import seaborn as sns\n",
    "\n",
    "# Language Detection packages\n",
    "# `langdetect` for detecting language\n",
    "from langdetect import detect as langdetect_detect, DetectorFactory\n",
    "from langdetect.lang_detect_exception import LangDetectException\n",
    "# `langid` for an alternative language detection method\n",
    "from langid import classify as langid_classify\n",
    "\n",
    "# Text Preprocessing and NLP\n",
    "# Stopwords (common words to ignore) from NLTK\n",
    "from nltk.corpus import stopwords\n",
    "# Tokenizing sentences/words\n",
    "from nltk.tokenize import word_tokenize\n",
    "# Part-of-speech tagging\n",
    "from nltk import pos_tag\n",
    "# Lemmatization (converting words to their base form)\n",
    "from nltk.stem import WordNetLemmatizer\n",
    "import nltk\n",
    "# Regular expressions for text pattern matching\n",
    "import re\n",
    "\n",
    "# Word Cloud generation\n",
    "from wordcloud import WordCloud\n",
    "import tensorflow as tf\n",
    "import numpy as np\n",
    "import random\n",
    "\n",
    "seed = 42\n",
    "tf.random.set_seed(seed)\n",
    "np.random.seed(seed)\n",
    "random.seed(seed)"
   ]
  },
  {
   "cell_type": "code",
   "execution_count": 10,
   "metadata": {},
   "outputs": [
    {
     "name": "stdout",
     "output_type": "stream",
     "text": [
      "working dir: /home/dariusng2103/projects/dm_project/DM-Fake-News-Detection\n"
     ]
    }
   ],
   "source": [
    "import os\n",
    "import sys\n",
    "from pathlib import Path\n",
    "\n",
    "if \"workding_dir\" not in locals():\n",
    "    workding_dir = str(Path.cwd().parent)\n",
    "os.chdir(workding_dir)\n",
    "sys.path.append(workding_dir)\n",
    "print(\"working dir:\", workding_dir)"
   ]
  },
  {
   "cell_type": "code",
   "execution_count": 11,
   "metadata": {},
   "outputs": [
    {
     "data": {
      "text/plain": [
       "DatasetDict({\n",
       "    train: Dataset({\n",
       "        features: ['label', 'full_content', 'processed_full_content'],\n",
       "        num_rows: 54441\n",
       "    })\n",
       "    test: Dataset({\n",
       "        features: ['label', 'full_content', 'processed_full_content'],\n",
       "        num_rows: 6050\n",
       "    })\n",
       "    rewritten_train: Dataset({\n",
       "        features: ['label', 'full_content', 'processed_full_content'],\n",
       "        num_rows: 54441\n",
       "    })\n",
       "    rewritten_test: Dataset({\n",
       "        features: ['label', 'full_content', 'processed_full_content'],\n",
       "        num_rows: 6050\n",
       "    })\n",
       "})"
      ]
     },
     "execution_count": 11,
     "metadata": {},
     "output_type": "execute_result"
    }
   ],
   "source": [
    "from datasets import load_dataset, concatenate_datasets, Dataset\n",
    "\n",
    "datasets = load_dataset(\n",
    "    \"csv\",\n",
    "    data_files={\n",
    "        \"train\": [\n",
    "            \"dataset/train_data_1.csv\",\n",
    "            \"dataset/train_data_2.csv\",\n",
    "            \"dataset/train_data_3.csv\",\n",
    "            \"dataset/train_data_4.csv\",\n",
    "        ],\n",
    "        \"test\": \"dataset/test_data.csv\",\n",
    "        \"rewritten_train\": [\n",
    "            \"dataset/rewritten_train_data_1.csv\",\n",
    "            \"dataset/rewritten_train_data_2.csv\",\n",
    "            \"dataset/rewritten_train_data_3.csv\",\n",
    "            \"dataset/rewritten_train_data_4.csv\",\n",
    "        ],\n",
    "        \"rewritten_test\": \"dataset/rewritten_test_data.csv\",\n",
    "    },\n",
    ")\n",
    "datasets"
   ]
  },
  {
   "cell_type": "code",
   "execution_count": null,
   "metadata": {},
   "outputs": [],
   "source": [
    "from sklearn.svm import SVC\n",
    "from sklearn.feature_extraction.text import TfidfVectorizer\n",
    "import joblib  # ✅ For saving/loading the vectorizer\n",
    "\n",
    "def train_model(train_data, val_data, C=1.0, kernel=\"linear\"):\n",
    "    \"\"\"Trains an SVM model using TF-IDF vectorization.\"\"\"\n",
    "    \n",
    "    print(f\"\\n🚀 Training SVM with C={C}, kernel={kernel}\")\n",
    "\n",
    "    # ✅ Extract texts and labels\n",
    "    train_texts = train_data[\"processed_full_content\"]\n",
    "    val_texts = val_data[\"processed_full_content\"]\n",
    "    y_train = train_data[\"label\"]\n",
    "    y_val = val_data[\"label\"]\n",
    "\n",
    "    # ✅ Use TF-IDF instead of CountVectorizer\n",
    "    vectorizer = TfidfVectorizer(max_features=5000)\n",
    "    X_train = vectorizer.fit_transform(train_texts)\n",
    "    X_val = vectorizer.transform(val_texts)  # ✅ Transform val data with same vectorizer\n",
    "\n",
    "    # ✅ Train SVM\n",
    "    model = SVC(C=C, kernel=kernel, probability=True)\n",
    "    model.fit(X_train, y_train)\n",
    "\n",
    "    # ✅ Save the trained model\n",
    "    joblib.dump(model, \"svm_model.pkl\")\n",
    "\n",
    "    print(\"✅ Model and vectorizer saved successfully!\")\n",
    "\n",
    "    return model\n"
   ]
  },
  {
   "cell_type": "code",
   "execution_count": null,
   "metadata": {},
   "outputs": [],
   "source": [
    "from sklearn.metrics import accuracy_score, precision_score, recall_score, f1_score\n",
    "import joblib\n",
    "\n",
    "def evaluate_model(model, train_data, val_data):\n",
    "    \"\"\"Evaluates the trained SVM model using the stored TF-IDF vectorizer.\"\"\"\n",
    "    print(\"\\n📊 Evaluating SVM Model...\")\n",
    "\n",
    "    # ✅ Load saved TF-IDF vectorizer\n",
    "    vectorizer = TfidfVectorizer(max_features=5000)\n",
    "\n",
    "    # ✅ Transform validation set\n",
    "    y_val = val_data[\"label\"]\n",
    "    val_texts = val_data[\"processed_full_content\"]\n",
    "    X_val = vectorizer.transform(val_texts)\n",
    "\n",
    "    # ✅ Predict labels\n",
    "    y_pred = model.predict(X_val)\n",
    "\n",
    "    # ✅ Compute metrics\n",
    "    accuracy = accuracy_score(y_val, y_pred)\n",
    "    precision = precision_score(y_val, y_pred)\n",
    "    recall = recall_score(y_val, y_pred)\n",
    "    f1 = f1_score(y_val, y_pred)\n",
    "\n",
    "    print(\"\\n🏆 Final Evaluation Results:\")\n",
    "    for key, value in {\"accuracy\": accuracy, \"precision\": precision, \"recall\": recall, \"f1_score\": f1}.items():\n",
    "        print(f\"🔹 {key.capitalize()}: {value:.4f}\")\n",
    "\n",
    "    return {\"accuracy\": accuracy, \"precision\": precision, \"recall\": recall, \"f1_score\": f1}\n"
   ]
  },
  {
   "cell_type": "code",
   "execution_count": 14,
   "metadata": {},
   "outputs": [],
   "source": [
    "from sklearn.svm import SVC\n",
    "from sklearn.feature_extraction.text import TfidfVectorizer\n",
    "from sklearn.pipeline import Pipeline\n",
    "from sklearn.model_selection import StratifiedKFold, GridSearchCV\n",
    "\n",
    "def do_grid_search(data):\n",
    "    \"\"\"Performs Grid Search using SVM with TF-IDF (5000 features).\"\"\"\n",
    "    \n",
    "    param_grid = {\n",
    "        \"clf__C\": [0.1, 1, 10],  \n",
    "        \"clf__kernel\": [\"linear\"]  \n",
    "    }\n",
    "\n",
    "    X = data[\"processed_full_content\"]\n",
    "    y = data[\"label\"].to_numpy().ravel()\n",
    "\n",
    "    # ✅ Use Stratified K-Fold (Reduce folds if too slow)\n",
    "    kfold = StratifiedKFold(n_splits=5, shuffle=True, random_state=42)  # ✅ Reduced to 3 folds\n",
    "\n",
    "    # ✅ Use Pipeline (TF-IDF + SVM)\n",
    "    pipeline = Pipeline([\n",
    "        (\"vectorizer\", TfidfVectorizer(max_features=5000)),  \n",
    "        (\"clf\", SVC(probability=True))  \n",
    "    ])\n",
    "\n",
    "    grid_search = GridSearchCV(pipeline, param_grid, cv=kfold, scoring=\"f1\", verbose=2, n_jobs=-1)\n",
    "    grid_search.fit(X, y)\n",
    "\n",
    "    best_params = grid_search.best_params_\n",
    "    print(f\"\\n🏆 Best Parameters Found: C={best_params['clf__C']}, Kernel={best_params['clf__kernel']}\")\n",
    "\n",
    "    return best_params\n"
   ]
  },
  {
   "cell_type": "code",
   "execution_count": 15,
   "metadata": {},
   "outputs": [
    {
     "name": "stdout",
     "output_type": "stream",
     "text": [
      "<class 'pandas.core.frame.DataFrame'>\n",
      "RangeIndex: 60491 entries, 0 to 60490\n",
      "Data columns (total 3 columns):\n",
      " #   Column                  Non-Null Count  Dtype \n",
      "---  ------                  --------------  ----- \n",
      " 0   label                   60491 non-null  int64 \n",
      " 1   full_content            60491 non-null  object\n",
      " 2   processed_full_content  60491 non-null  object\n",
      "dtypes: int64(1), object(2)\n",
      "memory usage: 1.4+ MB\n"
     ]
    }
   ],
   "source": [
    "train_data = datasets[\"train\"].to_pandas()\n",
    "val_data = datasets[\"test\"].to_pandas()\n",
    "data = pd.concat([train_data, val_data], ignore_index=True)\n",
    "data.info()"
   ]
  },
  {
   "cell_type": "code",
   "execution_count": 16,
   "metadata": {},
   "outputs": [
    {
     "name": "stdout",
     "output_type": "stream",
     "text": [
      "Fitting 5 folds for each of 3 candidates, totalling 15 fits\n",
      "[CV] END .......................clf__C=1, clf__kernel=linear; total time=83.1min\n",
      "[CV] END .......................clf__C=1, clf__kernel=linear; total time=84.0min\n",
      "[CV] END .......................clf__C=1, clf__kernel=linear; total time=86.1min\n",
      "[CV] END .......................clf__C=1, clf__kernel=linear; total time=88.2min\n",
      "[CV] END .......................clf__C=1, clf__kernel=linear; total time=90.3min\n",
      "[CV] END .....................clf__C=0.1, clf__kernel=linear; total time=94.1min\n",
      "[CV] END .....................clf__C=0.1, clf__kernel=linear; total time=95.6min\n",
      "[CV] END .....................clf__C=0.1, clf__kernel=linear; total time=98.2min\n",
      "[CV] END .....................clf__C=0.1, clf__kernel=linear; total time=98.6min\n",
      "[CV] END ....................clf__C=0.1, clf__kernel=linear; total time=100.5min\n",
      "[CV] END .....................clf__C=10, clf__kernel=linear; total time=107.9min\n",
      "[CV] END .....................clf__C=10, clf__kernel=linear; total time=112.5min\n",
      "[CV] END ......................clf__C=10, clf__kernel=linear; total time=85.1min\n",
      "[CV] END ......................clf__C=10, clf__kernel=linear; total time=83.1min\n",
      "[CV] END ......................clf__C=10, clf__kernel=linear; total time=87.6min\n",
      "\n",
      "🏆 Best Parameters Found: C=1, Kernel=linear\n",
      "CPU times: user 1h 21min 24s, sys: 11.4 s, total: 1h 21min 36s\n",
      "Wall time: 4h 11min 44s\n"
     ]
    }
   ],
   "source": [
    "%%time\n",
    "best_params = do_grid_search(data)"
   ]
  },
  {
   "cell_type": "code",
   "execution_count": 23,
   "metadata": {},
   "outputs": [
    {
     "name": "stdout",
     "output_type": "stream",
     "text": [
      "\n",
      "🚀 Training SVM with C=1, kernel=linear\n",
      "✅ Model and vectorizer saved successfully!\n",
      "CPU times: user 1h 6min 24s, sys: 0 ns, total: 1h 6min 24s\n",
      "Wall time: 1h 6min 24s\n"
     ]
    }
   ],
   "source": [
    "%%time\n",
    "\n",
    "model = train_model(train_data, val_data, C=best_params[\"clf__C\"], kernel=best_params[\"clf__kernel\"])\n"
   ]
  },
  {
   "cell_type": "code",
   "execution_count": 24,
   "metadata": {},
   "outputs": [
    {
     "name": "stdout",
     "output_type": "stream",
     "text": [
      "✅ Model loaded successfully!\n"
     ]
    }
   ],
   "source": [
    "# ✅ Load the trained model\n",
    "model2 = joblib.load(\"svm_model.pkl\")\n",
    "\n",
    "print(\"✅ Model loaded successfully!\")\n"
   ]
  },
  {
   "cell_type": "code",
   "execution_count": 25,
   "metadata": {},
   "outputs": [
    {
     "name": "stdout",
     "output_type": "stream",
     "text": [
      "\n",
      "📊 Evaluating SVM Model...\n",
      "\n",
      "🏆 Final Evaluation Results:\n",
      "🔹 Accuracy: 0.9650\n",
      "🔹 Precision: 0.9586\n",
      "🔹 Recall: 0.9615\n",
      "🔹 F1_score: 0.9600\n"
     ]
    },
    {
     "data": {
      "text/plain": [
       "{'accuracy': 0.9649586776859504,\n",
       " 'precision': 0.9585687382297552,\n",
       " 'recall': 0.9614658103513412,\n",
       " 'f1_score': 0.960015088645794}"
      ]
     },
     "execution_count": 25,
     "metadata": {},
     "output_type": "execute_result"
    }
   ],
   "source": [
    "evaluate_model(model, train_data, val_data)"
   ]
  },
  {
   "cell_type": "code",
   "execution_count": 26,
   "metadata": {},
   "outputs": [
    {
     "name": "stdout",
     "output_type": "stream",
     "text": [
      "\n",
      "📊 Evaluating SVM Model...\n",
      "\n",
      "🏆 Final Evaluation Results:\n",
      "🔹 Accuracy: 0.9650\n",
      "🔹 Precision: 0.9586\n",
      "🔹 Recall: 0.9615\n",
      "🔹 F1_score: 0.9600\n"
     ]
    },
    {
     "data": {
      "text/plain": [
       "{'accuracy': 0.9649586776859504,\n",
       " 'precision': 0.9585687382297552,\n",
       " 'recall': 0.9614658103513412,\n",
       " 'f1_score': 0.960015088645794}"
      ]
     },
     "execution_count": 26,
     "metadata": {},
     "output_type": "execute_result"
    }
   ],
   "source": [
    "evaluate_model(model2, train_data, val_data)"
   ]
  },
  {
   "cell_type": "code",
   "execution_count": 27,
   "metadata": {},
   "outputs": [
    {
     "name": "stdout",
     "output_type": "stream",
     "text": [
      "<class 'pandas.core.frame.DataFrame'>\n",
      "RangeIndex: 120982 entries, 0 to 120981\n",
      "Data columns (total 3 columns):\n",
      " #   Column                  Non-Null Count   Dtype \n",
      "---  ------                  --------------   ----- \n",
      " 0   label                   120982 non-null  int64 \n",
      " 1   full_content            120982 non-null  object\n",
      " 2   processed_full_content  120982 non-null  object\n",
      "dtypes: int64(1), object(2)\n",
      "memory usage: 2.8+ MB\n"
     ]
    }
   ],
   "source": [
    "val_data_rewritten = datasets[\"rewritten_test\"].to_pandas()\n",
    "train_data_rewritten = datasets[\"rewritten_train\"].to_pandas()\n",
    "data_rewritten = pd.concat([train_data, train_data_rewritten, val_data, val_data_rewritten], ignore_index=True)\n",
    "data_rewritten.info()"
   ]
  },
  {
   "cell_type": "code",
   "execution_count": 28,
   "metadata": {},
   "outputs": [
    {
     "name": "stdout",
     "output_type": "stream",
     "text": [
      "\n",
      "📊 Evaluating SVM Model...\n",
      "\n",
      "🏆 Final Evaluation Results:\n",
      "🔹 Accuracy: 0.8607\n",
      "🔹 Precision: 0.8700\n",
      "🔹 Recall: 0.8013\n",
      "🔹 F1_score: 0.8342\n"
     ]
    },
    {
     "data": {
      "text/plain": [
       "{'accuracy': 0.8606611570247934,\n",
       " 'precision': 0.8699753896636587,\n",
       " 'recall': 0.8012844729882886,\n",
       " 'f1_score': 0.8342182890855457}"
      ]
     },
     "execution_count": 28,
     "metadata": {},
     "output_type": "execute_result"
    }
   ],
   "source": [
    "evaluate_model(model, train_data, val_data_rewritten)"
   ]
  },
  {
   "cell_type": "code",
   "execution_count": null,
   "metadata": {},
   "outputs": [
    {
     "name": "stdout",
     "output_type": "stream",
     "text": [
      "\n",
      "📊 Evaluating SVM Model...\n",
      "\n",
      "🏆 Final Evaluation Results:\n",
      "🔹 Accuracy: 0.8607\n",
      "🔹 Precision: 0.8700\n",
      "🔹 Recall: 0.8013\n",
      "🔹 F1_score: 0.8342\n"
     ]
    },
    {
     "data": {
      "text/plain": [
       "{'accuracy': 0.8606611570247934,\n",
       " 'precision': 0.8699753896636587,\n",
       " 'recall': 0.8012844729882886,\n",
       " 'f1_score': 0.8342182890855457}"
      ]
     },
     "execution_count": 29,
     "metadata": {},
     "output_type": "execute_result"
    },
    {
     "ename": "",
     "evalue": "",
     "output_type": "error",
     "traceback": [
      "\u001b[1;31mThe Kernel crashed while executing code in the current cell or a previous cell. \n",
      "\u001b[1;31mPlease review the code in the cell(s) to identify a possible cause of the failure. \n",
      "\u001b[1;31mClick <a href='https://aka.ms/vscodeJupyterKernelCrash'>here</a> for more info. \n",
      "\u001b[1;31mView Jupyter <a href='command:jupyter.viewOutput'>log</a> for further details."
     ]
    }
   ],
   "source": [
    "evaluate_model(model2, train_data, val_data_rewritten)"
   ]
  },
  {
   "cell_type": "code",
   "execution_count": null,
   "metadata": {},
   "outputs": [
    {
     "name": "stdout",
     "output_type": "stream",
     "text": [
      "Fitting 5 folds for each of 3 candidates, totalling 15 fits\n"
     ]
    }
   ],
   "source": [
    "%%time\n",
    "\n",
    "best_params_rewritten = do_grid_search(data_rewritten)\n",
    "best_params_rewritten"
   ]
  },
  {
   "cell_type": "code",
   "execution_count": null,
   "metadata": {},
   "outputs": [],
   "source": [
    "%%time\n",
    "\n",
    "train_data_combined = pd.concat([train_data, train_data_rewritten], ignore_index=True)\n",
    "val_data_combined = pd.concat([val_data, val_data_rewritten], ignore_index=True)\n",
    "model_combined = train_model(train_data_combined, val_data_combined, \n",
    "                             C=best_params_rewritten[\"clf__C\"], \n",
    "                             kernel=best_params_rewritten[\"clf__kernel\"])\n",
    "model_combined.save(\"results/SVM_model_combined.keras\")"
   ]
  },
  {
   "cell_type": "code",
   "execution_count": null,
   "metadata": {},
   "outputs": [],
   "source": [
    "evaluate_model(model_combined, train_data_combined, val_data_combined)"
   ]
  },
  {
   "cell_type": "code",
   "execution_count": null,
   "metadata": {},
   "outputs": [],
   "source": [
    "evaluate_model(model_combined, train_data_combined, val_data)"
   ]
  },
  {
   "cell_type": "code",
   "execution_count": null,
   "metadata": {},
   "outputs": [],
   "source": [
    "evaluate_model(model_combined, train_data_combined, val_data_rewritten)"
   ]
  },
  {
   "cell_type": "code",
   "execution_count": null,
   "metadata": {},
   "outputs": [],
   "source": [
    "model_combined2 = load_model(\"results/SVM_model_combined.keras\")\n",
    "model_combined2.summary()"
   ]
  },
  {
   "cell_type": "code",
   "execution_count": null,
   "metadata": {},
   "outputs": [],
   "source": [
    "evaluate_model(model_combined2, train_data_combined, val_data_combined)"
   ]
  },
  {
   "cell_type": "code",
   "execution_count": null,
   "metadata": {},
   "outputs": [],
   "source": [
    "evaluate_model(model_combined2, train_data_combined, val_data)"
   ]
  },
  {
   "cell_type": "code",
   "execution_count": null,
   "metadata": {},
   "outputs": [],
   "source": [
    "evaluate_model(model_combined2, train_data_combined, val_data_rewritten)"
   ]
  },
  {
   "cell_type": "code",
   "execution_count": null,
   "metadata": {},
   "outputs": [],
   "source": []
  }
 ],
 "metadata": {
  "kernelspec": {
   "display_name": "fake-news",
   "language": "python",
   "name": "python3"
  },
  "language_info": {
   "codemirror_mode": {
    "name": "ipython",
    "version": 3
   },
   "file_extension": ".py",
   "mimetype": "text/x-python",
   "name": "python",
   "nbconvert_exporter": "python",
   "pygments_lexer": "ipython3",
   "version": "3.10.16"
  }
 },
 "nbformat": 4,
 "nbformat_minor": 2
}
