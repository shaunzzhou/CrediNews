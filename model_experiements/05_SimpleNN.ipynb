{
 "cells": [
  {
   "cell_type": "code",
   "execution_count": 20,
   "metadata": {},
   "outputs": [],
   "source": [
    "# Import necessary libraries\n",
    "\n",
    "# Data manipulation\n",
    "import pandas as pd\n",
    "import numpy as np\n",
    "\n",
    "# Statistical functions\n",
    "from scipy.stats import zscore\n",
    "\n",
    "# For concurrency (running functions in parallel)\n",
    "from concurrent.futures import ThreadPoolExecutor\n",
    "\n",
    "# For caching (to speed up repeated function calls)\n",
    "from functools import lru_cache\n",
    "\n",
    "# For progress tracking\n",
    "from tqdm import tqdm\n",
    "\n",
    "# Plotting and Visualisation\n",
    "import matplotlib.pyplot as plt\n",
    "import seaborn as sns\n",
    "\n",
    "# Language Detection packages\n",
    "# `langdetect` for detecting language\n",
    "from langdetect import detect as langdetect_detect, DetectorFactory\n",
    "from langdetect.lang_detect_exception import LangDetectException\n",
    "# `langid` for an alternative language detection method\n",
    "from langid import classify as langid_classify\n",
    "\n",
    "# Text Preprocessing and NLP\n",
    "# Stopwords (common words to ignore) from NLTK\n",
    "from nltk.corpus import stopwords\n",
    "# Tokenizing sentences/words\n",
    "from nltk.tokenize import word_tokenize\n",
    "# Part-of-speech tagging\n",
    "from nltk import pos_tag\n",
    "# Lemmatization (converting words to their base form)\n",
    "from nltk.stem import WordNetLemmatizer\n",
    "import nltk\n",
    "# Regular expressions for text pattern matching\n",
    "import re\n",
    "\n",
    "# Word Cloud generation\n",
    "from wordcloud import WordCloud"
   ]
  },
  {
   "cell_type": "code",
   "execution_count": 21,
   "metadata": {},
   "outputs": [
    {
     "name": "stdout",
     "output_type": "stream",
     "text": [
      "working dir: /home/dariusng2103/projects/dm_project/DM-Fake-News-Detection\n"
     ]
    }
   ],
   "source": [
    "import os\n",
    "import sys\n",
    "from pathlib import Path\n",
    "\n",
    "if \"workding_dir\" not in locals():\n",
    "    workding_dir = str(Path.cwd().parent)\n",
    "os.chdir(workding_dir)\n",
    "sys.path.append(workding_dir)\n",
    "print(\"working dir:\", workding_dir)"
   ]
  },
  {
   "cell_type": "code",
   "execution_count": 22,
   "metadata": {},
   "outputs": [
    {
     "data": {
      "text/plain": [
       "DatasetDict({\n",
       "    train: Dataset({\n",
       "        features: ['label', 'full_content', 'processed_full_content'],\n",
       "        num_rows: 54441\n",
       "    })\n",
       "    test: Dataset({\n",
       "        features: ['label', 'full_content', 'processed_full_content'],\n",
       "        num_rows: 6050\n",
       "    })\n",
       "    rewritten_train: Dataset({\n",
       "        features: ['label', 'full_content', 'processed_full_content'],\n",
       "        num_rows: 54441\n",
       "    })\n",
       "    rewritten_test: Dataset({\n",
       "        features: ['label', 'full_content', 'processed_full_content'],\n",
       "        num_rows: 6050\n",
       "    })\n",
       "})"
      ]
     },
     "execution_count": 22,
     "metadata": {},
     "output_type": "execute_result"
    }
   ],
   "source": [
    "from datasets import load_dataset, concatenate_datasets, Dataset\n",
    "\n",
    "datasets = load_dataset(\n",
    "    \"csv\",\n",
    "    data_files={\n",
    "        \"train\": [\n",
    "            \"dataset/train_data_1.csv\",\n",
    "            \"dataset/train_data_2.csv\",\n",
    "            \"dataset/train_data_3.csv\",\n",
    "            \"dataset/train_data_4.csv\",\n",
    "        ],\n",
    "        \"test\": \"dataset/test_data.csv\",\n",
    "        \"rewritten_train\": [\n",
    "            \"dataset/rewritten_train_data_1.csv\",\n",
    "            \"dataset/rewritten_train_data_2.csv\",\n",
    "            \"dataset/rewritten_train_data_3.csv\",\n",
    "            \"dataset/rewritten_train_data_4.csv\",\n",
    "        ],\n",
    "        \"rewritten_test\": \"dataset/rewritten_test_data.csv\",\n",
    "    },\n",
    ")\n",
    "datasets"
   ]
  },
  {
   "cell_type": "code",
   "execution_count": 23,
   "metadata": {},
   "outputs": [],
   "source": [
    "from tensorflow.keras.models import Sequential\n",
    "from tensorflow.keras.layers import Embedding, Dense, Dropout, Flatten\n",
    "from tensorflow.keras.optimizers import Adam\n",
    "from tensorflow.keras.regularizers import l2\n",
    "\n",
    "def create_basic_nn(vocab_size=10000, embedding_dim=128, input_length=300, dense_units=64, dropout_rate=0.5, l2_lambda=0.01):\n",
    "    \"\"\"Creates a simple feedforward neural network with an embedding layer and configurable dense units.\"\"\"\n",
    "    \n",
    "    model = Sequential([\n",
    "        Embedding(vocab_size, embedding_dim, input_length=input_length),\n",
    "        Flatten(),  # Flatten the embedding output\n",
    "        Dense(dense_units, activation='relu', kernel_regularizer=l2(l2_lambda)),  \n",
    "        Dropout(dropout_rate),  \n",
    "        Dense(dense_units // 2, activation='relu', kernel_regularizer=l2(l2_lambda)), \n",
    "        Dropout(dropout_rate),\n",
    "        Dense(1, activation='sigmoid', kernel_regularizer=l2(l2_lambda))\n",
    "    ])\n",
    "\n",
    "    model.compile(optimizer=Adam(learning_rate=0.001), loss='binary_crossentropy', metrics=['accuracy'])\n",
    "    return model\n",
    "\n"
   ]
  },
  {
   "cell_type": "code",
   "execution_count": 24,
   "metadata": {},
   "outputs": [],
   "source": [
    "from tensorflow.keras.preprocessing.text import Tokenizer\n",
    "from tensorflow.keras.preprocessing.sequence import pad_sequences\n",
    "from tensorflow.keras.callbacks import EarlyStopping\n",
    "from sklearn.model_selection import train_test_split\n",
    "import tensorflow as tf\n",
    "from sklearn.metrics import accuracy_score, precision_score, recall_score, f1_score\n",
    "\n",
    "\n",
    "def train_model(train_data, val_data, epochs=10, batch_size=64, dense_units=64, dropout_rate=0.3, grid_search=False):\n",
    "    \"\"\"Trains a simple NN model with word embeddings.\"\"\"\n",
    "    seed = 42\n",
    "    tf.random.set_seed(seed)\n",
    "    np.random.seed(seed)\n",
    "\n",
    "    vocab_size = 10000\n",
    "    max_sequence_length = 300\n",
    "\n",
    "    print(f\"\\n🚀 Training Simple NN Model with dense_units = {dense_units}, dropout_rate = {dropout_rate} 🚀\\n\")\n",
    "\n",
    "    # Extract texts and labels\n",
    "    train_texts = train_data[\"processed_full_content\"]\n",
    "    val_texts = val_data[\"processed_full_content\"]\n",
    "    y_train = train_data[\"label\"]\n",
    "    y_val = val_data[\"label\"]\n",
    "\n",
    "    # Tokenize texts\n",
    "    tokenizer = Tokenizer(num_words=vocab_size)\n",
    "    tokenizer.fit_on_texts(train_texts)\n",
    "\n",
    "    # Convert texts to sequences and pad them\n",
    "    X_train = pad_sequences(tokenizer.texts_to_sequences(train_texts), maxlen=max_sequence_length)\n",
    "    X_val = pad_sequences(tokenizer.texts_to_sequences(val_texts), maxlen=max_sequence_length)\n",
    "\n",
    "    # Create and compile the model\n",
    "    model = create_basic_nn(vocab_size=vocab_size, input_length=max_sequence_length)\n",
    "\n",
    "    # Early stopping\n",
    "    early_stopping = EarlyStopping(monitor='val_loss', patience=3, restore_best_weights=True)\n",
    "\n",
    "    # Train the model\n",
    "    model.fit(\n",
    "        X_train, y_train,\n",
    "        epochs=epochs,\n",
    "        batch_size=batch_size,\n",
    "        validation_data=(X_val, y_val),\n",
    "        callbacks=[early_stopping],\n",
    "        verbose=1\n",
    "    )\n",
    "\n",
    "     # Evaluate model performance on validation data\n",
    "    y_pred = (model.predict(X_val) > 0.5).astype(int).reshape(-1)\n",
    "\n",
    "    accuracy = accuracy_score(y_val, y_pred)\n",
    "    precision = precision_score(y_val, y_pred)\n",
    "    recall = recall_score(y_val, y_pred)\n",
    "    f1 = f1_score(y_val, y_pred)\n",
    "\n",
    "    #  Print evaluation metrics\n",
    "    result = {\"accuracy\": accuracy, \"precision\": precision, \"recall\": recall, \"f1_score\": f1}\n",
    "    print(\"\\n🏆 Training Results:\")\n",
    "\n",
    "    for key, value in result.items():\n",
    "        print(f\"🔹 {key.capitalize()}: {value:.4f}\")\n",
    "\n",
    "    return result if grid_search else model"
   ]
  },
  {
   "cell_type": "code",
   "execution_count": 25,
   "metadata": {},
   "outputs": [],
   "source": [
    "from sklearn.metrics import accuracy_score, precision_score, recall_score, f1_score\n",
    "\n",
    "def evaluate_model(model, train_data, val_data):\n",
    "    \"\"\"Evaluates the trained NN model.\"\"\"\n",
    "    print(\"📊 Evaluating Model...\")\n",
    "\n",
    "    max_words = 10000\n",
    "    max_sequence_length = 300\n",
    "\n",
    "    train_texts = train_data[\"processed_full_content\"]\n",
    "    tokenizer = Tokenizer(num_words=max_words)\n",
    "    tokenizer.fit_on_texts(train_texts)\n",
    "\n",
    "    y_val = val_data[\"label\"]\n",
    "    val_texts = val_data[\"processed_full_content\"]\n",
    "\n",
    "    # Convert validation text into padded sequences using the same tokenizer\n",
    "    X_val = pad_sequences(tokenizer.texts_to_sequences(val_texts), maxlen=max_sequence_length)\n",
    "\n",
    "    # Predict and threshold\n",
    "    y_pred = (model.predict(X_val) > 0.5).astype(int).reshape(-1)\n",
    "\n",
    "    # Compute evaluation metrics\n",
    "    accuracy = accuracy_score(y_val, y_pred)\n",
    "    precision = precision_score(y_val, y_pred)\n",
    "    recall = recall_score(y_val, y_pred)\n",
    "    f1 = f1_score(y_val, y_pred)\n",
    "\n",
    "    print(f\"Accuracy: {accuracy:.4f}\")\n",
    "    print(f\"Precision: {precision:.4f}\")\n",
    "    print(f\"Recall: {recall:.4f}\")\n",
    "    print(f\"F1: {f1:.4f}\")\n",
    "\n",
    "    # print(\"\\n🏆 Final Evaluation Results:\")\n",
    "    # for key, value in {\"accuracy\": accuracy, \"precision\": precision, \"recall\": recall, \"f1_score\": f1}.items():\n",
    "    #     print(f\"🔹 {key.capitalize()}: {value:.4f}\")\n",
    "\n",
    "    # return {\"accuracy\": accuracy, \"precision\": precision, \"recall\": recall, \"f1_score\": f1}\n"
   ]
  },
  {
   "cell_type": "code",
   "execution_count": 26,
   "metadata": {},
   "outputs": [],
   "source": [
    "from sklearn.model_selection import StratifiedKFold\n",
    "import numpy as np\n",
    "\n",
    "def do_grid_search(data):\n",
    "    \"\"\"Performs Grid Search for the best NN hyperparameters (dropout_rate, dense_units).\"\"\"\n",
    "    \n",
    "    # ✅ Now testing different dropout rates and dense units\n",
    "    param_grid = {\n",
    "        \"dropout_rate\": [0.3, 0.5],  \n",
    "        \"dense_units\": [64, 128]  \n",
    "    }\n",
    "    \n",
    "    results = []\n",
    "    best_score = 0\n",
    "    best_params = None\n",
    "\n",
    "    for dense_units in param_grid[\"dense_units\"]:\n",
    "        for dropout_rate in param_grid[\"dropout_rate\"]:\n",
    "            print(f\"\\n🔍 Testing dense_units={dense_units}, dropout_rate={dropout_rate}\")\n",
    "\n",
    "            kfold = StratifiedKFold(n_splits=5, shuffle=True, random_state=42)\n",
    "            fold_scores = []\n",
    "\n",
    "            for fold, (train_idx, val_idx) in enumerate(\n",
    "                kfold.split(data[\"processed_full_content\"], data[\"label\"].to_numpy().ravel()), 1\n",
    "            ):\n",
    "                print(f\"\\n📂 Fold {fold}\")\n",
    "\n",
    "                train_data = data.iloc[train_idx]\n",
    "                val_data = data.iloc[val_idx]\n",
    "\n",
    "                # Pass dense_units into train_model\n",
    "                result = train_model(\n",
    "                    train_data=train_data,\n",
    "                    val_data=val_data,\n",
    "                    dense_units=dense_units,\n",
    "                    dropout_rate=dropout_rate,\n",
    "                    grid_search=True\n",
    "                )\n",
    "                \n",
    "                fold_scores.append(result[\"f1_score\"])\n",
    "\n",
    "            avg_score = np.mean(fold_scores)\n",
    "            print(f\"📊 Average F1-score: {avg_score:.4f}\")\n",
    "\n",
    "            if avg_score > best_score:\n",
    "                best_score = avg_score\n",
    "                best_params = {\"dense_units\": dense_units, \"dropout_rate\": dropout_rate}\n",
    "\n",
    "    return best_params\n"
   ]
  },
  {
   "cell_type": "code",
   "execution_count": 27,
   "metadata": {},
   "outputs": [
    {
     "name": "stdout",
     "output_type": "stream",
     "text": [
      "<class 'pandas.core.frame.DataFrame'>\n",
      "RangeIndex: 60491 entries, 0 to 60490\n",
      "Data columns (total 3 columns):\n",
      " #   Column                  Non-Null Count  Dtype \n",
      "---  ------                  --------------  ----- \n",
      " 0   label                   60491 non-null  int64 \n",
      " 1   full_content            60491 non-null  object\n",
      " 2   processed_full_content  60491 non-null  object\n",
      "dtypes: int64(1), object(2)\n",
      "memory usage: 1.4+ MB\n"
     ]
    }
   ],
   "source": [
    "train_data = datasets[\"train\"].to_pandas()\n",
    "val_data = datasets[\"test\"].to_pandas()\n",
    "data = pd.concat([train_data, val_data], ignore_index=True)\n",
    "data.info()"
   ]
  },
  {
   "cell_type": "code",
   "execution_count": 28,
   "metadata": {},
   "outputs": [
    {
     "name": "stdout",
     "output_type": "stream",
     "text": [
      "\n",
      "🔍 Testing dense_units=64, dropout_rate=0.3\n",
      "\n",
      "📂 Fold 1\n",
      "\n",
      "🚀 Training Simple NN Model with dense_units = 64, dropout_rate = 0.3 🚀\n",
      "\n",
      "Epoch 1/10\n"
     ]
    },
    {
     "name": "stderr",
     "output_type": "stream",
     "text": [
      "/home/dariusng2103/projects/dm_project/fake-news/lib/python3.10/site-packages/keras/src/layers/core/embedding.py:90: UserWarning: Argument `input_length` is deprecated. Just remove it.\n",
      "  warnings.warn(\n"
     ]
    },
    {
     "name": "stdout",
     "output_type": "stream",
     "text": [
      "\u001b[1m757/757\u001b[0m \u001b[32m━━━━━━━━━━━━━━━━━━━━\u001b[0m\u001b[37m\u001b[0m \u001b[1m4s\u001b[0m 3ms/step - accuracy: 0.8616 - loss: 0.7786 - val_accuracy: 0.9688 - val_loss: 0.3252\n",
      "Epoch 2/10\n",
      "\u001b[1m757/757\u001b[0m \u001b[32m━━━━━━━━━━━━━━━━━━━━\u001b[0m\u001b[37m\u001b[0m \u001b[1m2s\u001b[0m 2ms/step - accuracy: 0.9693 - loss: 0.3503 - val_accuracy: 0.9664 - val_loss: 0.3437\n",
      "Epoch 3/10\n",
      "\u001b[1m757/757\u001b[0m \u001b[32m━━━━━━━━━━━━━━━━━━━━\u001b[0m\u001b[37m\u001b[0m \u001b[1m1s\u001b[0m 2ms/step - accuracy: 0.9803 - loss: 0.3220 - val_accuracy: 0.9669 - val_loss: 0.3528\n",
      "Epoch 4/10\n",
      "\u001b[1m757/757\u001b[0m \u001b[32m━━━━━━━━━━━━━━━━━━━━\u001b[0m\u001b[37m\u001b[0m \u001b[1m2s\u001b[0m 2ms/step - accuracy: 0.9844 - loss: 0.3081 - val_accuracy: 0.9666 - val_loss: 0.3282\n",
      "\u001b[1m379/379\u001b[0m \u001b[32m━━━━━━━━━━━━━━━━━━━━\u001b[0m\u001b[37m\u001b[0m \u001b[1m0s\u001b[0m 840us/step\n",
      "\n",
      "🏆 Training Results:\n",
      "🔹 Accuracy: 0.9688\n",
      "🔹 Precision: 0.9598\n",
      "🔹 Recall: 0.9692\n",
      "🔹 F1_score: 0.9645\n",
      "\n",
      "📂 Fold 2\n",
      "\n",
      "🚀 Training Simple NN Model with dense_units = 64, dropout_rate = 0.3 🚀\n",
      "\n",
      "Epoch 1/10\n"
     ]
    },
    {
     "name": "stderr",
     "output_type": "stream",
     "text": [
      "/home/dariusng2103/projects/dm_project/fake-news/lib/python3.10/site-packages/keras/src/layers/core/embedding.py:90: UserWarning: Argument `input_length` is deprecated. Just remove it.\n",
      "  warnings.warn(\n"
     ]
    },
    {
     "name": "stdout",
     "output_type": "stream",
     "text": [
      "\u001b[1m757/757\u001b[0m \u001b[32m━━━━━━━━━━━━━━━━━━━━\u001b[0m\u001b[37m\u001b[0m \u001b[1m4s\u001b[0m 3ms/step - accuracy: 0.8621 - loss: 0.7637 - val_accuracy: 0.9626 - val_loss: 0.3962\n",
      "Epoch 2/10\n",
      "\u001b[1m757/757\u001b[0m \u001b[32m━━━━━━━━━━━━━━━━━━━━\u001b[0m\u001b[37m\u001b[0m \u001b[1m2s\u001b[0m 2ms/step - accuracy: 0.9701 - loss: 0.3758 - val_accuracy: 0.9640 - val_loss: 0.3875\n",
      "Epoch 3/10\n",
      "\u001b[1m757/757\u001b[0m \u001b[32m━━━━━━━━━━━━━━━━━━━━\u001b[0m\u001b[37m\u001b[0m \u001b[1m2s\u001b[0m 2ms/step - accuracy: 0.9780 - loss: 0.3341 - val_accuracy: 0.9621 - val_loss: 0.3439\n",
      "Epoch 4/10\n",
      "\u001b[1m757/757\u001b[0m \u001b[32m━━━━━━━━━━━━━━━━━━━━\u001b[0m\u001b[37m\u001b[0m \u001b[1m1s\u001b[0m 2ms/step - accuracy: 0.9855 - loss: 0.3007 - val_accuracy: 0.9504 - val_loss: 0.4373\n",
      "Epoch 5/10\n",
      "\u001b[1m757/757\u001b[0m \u001b[32m━━━━━━━━━━━━━━━━━━━━\u001b[0m\u001b[37m\u001b[0m \u001b[1m2s\u001b[0m 2ms/step - accuracy: 0.9868 - loss: 0.3065 - val_accuracy: 0.9536 - val_loss: 0.4000\n",
      "Epoch 6/10\n",
      "\u001b[1m757/757\u001b[0m \u001b[32m━━━━━━━━━━━━━━━━━━━━\u001b[0m\u001b[37m\u001b[0m \u001b[1m1s\u001b[0m 2ms/step - accuracy: 0.9875 - loss: 0.2845 - val_accuracy: 0.9563 - val_loss: 0.4364\n",
      "\u001b[1m379/379\u001b[0m \u001b[32m━━━━━━━━━━━━━━━━━━━━\u001b[0m\u001b[37m\u001b[0m \u001b[1m1s\u001b[0m 1ms/step\n",
      "\n",
      "🏆 Training Results:\n",
      "🔹 Accuracy: 0.9621\n",
      "🔹 Precision: 0.9693\n",
      "🔹 Recall: 0.9433\n",
      "🔹 F1_score: 0.9561\n",
      "\n",
      "📂 Fold 3\n",
      "\n",
      "🚀 Training Simple NN Model with dense_units = 64, dropout_rate = 0.3 🚀\n",
      "\n",
      "Epoch 1/10\n"
     ]
    },
    {
     "name": "stderr",
     "output_type": "stream",
     "text": [
      "/home/dariusng2103/projects/dm_project/fake-news/lib/python3.10/site-packages/keras/src/layers/core/embedding.py:90: UserWarning: Argument `input_length` is deprecated. Just remove it.\n",
      "  warnings.warn(\n"
     ]
    },
    {
     "name": "stdout",
     "output_type": "stream",
     "text": [
      "\u001b[1m757/757\u001b[0m \u001b[32m━━━━━━━━━━━━━━━━━━━━\u001b[0m\u001b[37m\u001b[0m \u001b[1m4s\u001b[0m 3ms/step - accuracy: 0.8514 - loss: 0.7747 - val_accuracy: 0.9657 - val_loss: 0.3474\n",
      "Epoch 2/10\n",
      "\u001b[1m757/757\u001b[0m \u001b[32m━━━━━━━━━━━━━━━━━━━━\u001b[0m\u001b[37m\u001b[0m \u001b[1m2s\u001b[0m 2ms/step - accuracy: 0.9702 - loss: 0.3489 - val_accuracy: 0.9668 - val_loss: 0.3855\n",
      "Epoch 3/10\n",
      "\u001b[1m757/757\u001b[0m \u001b[32m━━━━━━━━━━━━━━━━━━━━\u001b[0m\u001b[37m\u001b[0m \u001b[1m1s\u001b[0m 2ms/step - accuracy: 0.9808 - loss: 0.3211 - val_accuracy: 0.9623 - val_loss: 0.3808\n",
      "Epoch 4/10\n",
      "\u001b[1m757/757\u001b[0m \u001b[32m━━━━━━━━━━━━━━━━━━━━\u001b[0m\u001b[37m\u001b[0m \u001b[1m2s\u001b[0m 2ms/step - accuracy: 0.9839 - loss: 0.3092 - val_accuracy: 0.9638 - val_loss: 0.3785\n",
      "\u001b[1m379/379\u001b[0m \u001b[32m━━━━━━━━━━━━━━━━━━━━\u001b[0m\u001b[37m\u001b[0m \u001b[1m0s\u001b[0m 840us/step\n",
      "\n",
      "🏆 Training Results:\n",
      "🔹 Accuracy: 0.9657\n",
      "🔹 Precision: 0.9792\n",
      "🔹 Recall: 0.9416\n",
      "🔹 F1_score: 0.9600\n",
      "\n",
      "📂 Fold 4\n",
      "\n",
      "🚀 Training Simple NN Model with dense_units = 64, dropout_rate = 0.3 🚀\n",
      "\n",
      "Epoch 1/10\n"
     ]
    },
    {
     "name": "stderr",
     "output_type": "stream",
     "text": [
      "/home/dariusng2103/projects/dm_project/fake-news/lib/python3.10/site-packages/keras/src/layers/core/embedding.py:90: UserWarning: Argument `input_length` is deprecated. Just remove it.\n",
      "  warnings.warn(\n"
     ]
    },
    {
     "name": "stdout",
     "output_type": "stream",
     "text": [
      "\u001b[1m757/757\u001b[0m \u001b[32m━━━━━━━━━━━━━━━━━━━━\u001b[0m\u001b[37m\u001b[0m \u001b[1m4s\u001b[0m 3ms/step - accuracy: 0.8525 - loss: 0.7703 - val_accuracy: 0.9582 - val_loss: 0.3729\n",
      "Epoch 2/10\n",
      "\u001b[1m757/757\u001b[0m \u001b[32m━━━━━━━━━━━━━━━━━━━━\u001b[0m\u001b[37m\u001b[0m \u001b[1m2s\u001b[0m 2ms/step - accuracy: 0.9689 - loss: 0.3645 - val_accuracy: 0.9629 - val_loss: 0.4069\n",
      "Epoch 3/10\n",
      "\u001b[1m757/757\u001b[0m \u001b[32m━━━━━━━━━━━━━━━━━━━━\u001b[0m\u001b[37m\u001b[0m \u001b[1m2s\u001b[0m 2ms/step - accuracy: 0.9791 - loss: 0.3391 - val_accuracy: 0.9652 - val_loss: 0.3396\n",
      "Epoch 4/10\n",
      "\u001b[1m757/757\u001b[0m \u001b[32m━━━━━━━━━━━━━━━━━━━━\u001b[0m\u001b[37m\u001b[0m \u001b[1m1s\u001b[0m 2ms/step - accuracy: 0.9833 - loss: 0.3077 - val_accuracy: 0.9592 - val_loss: 0.3607\n",
      "Epoch 5/10\n",
      "\u001b[1m757/757\u001b[0m \u001b[32m━━━━━━━━━━━━━━━━━━━━\u001b[0m\u001b[37m\u001b[0m \u001b[1m2s\u001b[0m 2ms/step - accuracy: 0.9862 - loss: 0.2968 - val_accuracy: 0.9652 - val_loss: 0.3548\n",
      "Epoch 6/10\n",
      "\u001b[1m757/757\u001b[0m \u001b[32m━━━━━━━━━━━━━━━━━━━━\u001b[0m\u001b[37m\u001b[0m \u001b[1m1s\u001b[0m 2ms/step - accuracy: 0.9885 - loss: 0.2744 - val_accuracy: 0.9601 - val_loss: 0.3213\n",
      "Epoch 7/10\n",
      "\u001b[1m757/757\u001b[0m \u001b[32m━━━━━━━━━━━━━━━━━━━━\u001b[0m\u001b[37m\u001b[0m \u001b[1m1s\u001b[0m 2ms/step - accuracy: 0.9875 - loss: 0.2847 - val_accuracy: 0.9623 - val_loss: 0.3645\n",
      "Epoch 8/10\n",
      "\u001b[1m757/757\u001b[0m \u001b[32m━━━━━━━━━━━━━━━━━━━━\u001b[0m\u001b[37m\u001b[0m \u001b[1m2s\u001b[0m 2ms/step - accuracy: 0.9899 - loss: 0.2745 - val_accuracy: 0.9648 - val_loss: 0.3439\n",
      "Epoch 9/10\n",
      "\u001b[1m757/757\u001b[0m \u001b[32m━━━━━━━━━━━━━━━━━━━━\u001b[0m\u001b[37m\u001b[0m \u001b[1m1s\u001b[0m 2ms/step - accuracy: 0.9911 - loss: 0.2712 - val_accuracy: 0.9622 - val_loss: 0.3270\n",
      "\u001b[1m379/379\u001b[0m \u001b[32m━━━━━━━━━━━━━━━━━━━━\u001b[0m\u001b[37m\u001b[0m \u001b[1m0s\u001b[0m 863us/step\n",
      "\n",
      "🏆 Training Results:\n",
      "🔹 Accuracy: 0.9601\n",
      "🔹 Precision: 0.9666\n",
      "🔹 Recall: 0.9412\n",
      "🔹 F1_score: 0.9538\n",
      "\n",
      "📂 Fold 5\n",
      "\n",
      "🚀 Training Simple NN Model with dense_units = 64, dropout_rate = 0.3 🚀\n",
      "\n",
      "Epoch 1/10\n"
     ]
    },
    {
     "name": "stderr",
     "output_type": "stream",
     "text": [
      "/home/dariusng2103/projects/dm_project/fake-news/lib/python3.10/site-packages/keras/src/layers/core/embedding.py:90: UserWarning: Argument `input_length` is deprecated. Just remove it.\n",
      "  warnings.warn(\n"
     ]
    },
    {
     "name": "stdout",
     "output_type": "stream",
     "text": [
      "\u001b[1m757/757\u001b[0m \u001b[32m━━━━━━━━━━━━━━━━━━━━\u001b[0m\u001b[37m\u001b[0m \u001b[1m4s\u001b[0m 3ms/step - accuracy: 0.8670 - loss: 0.7753 - val_accuracy: 0.9631 - val_loss: 0.3463\n",
      "Epoch 2/10\n",
      "\u001b[1m757/757\u001b[0m \u001b[32m━━━━━━━━━━━━━━━━━━━━\u001b[0m\u001b[37m\u001b[0m \u001b[1m2s\u001b[0m 2ms/step - accuracy: 0.9695 - loss: 0.3537 - val_accuracy: 0.9623 - val_loss: 0.3753\n",
      "Epoch 3/10\n",
      "\u001b[1m757/757\u001b[0m \u001b[32m━━━━━━━━━━━━━━━━━━━━\u001b[0m\u001b[37m\u001b[0m \u001b[1m1s\u001b[0m 2ms/step - accuracy: 0.9784 - loss: 0.3286 - val_accuracy: 0.9590 - val_loss: 0.3287\n",
      "Epoch 4/10\n",
      "\u001b[1m757/757\u001b[0m \u001b[32m━━━━━━━━━━━━━━━━━━━━\u001b[0m\u001b[37m\u001b[0m \u001b[1m1s\u001b[0m 2ms/step - accuracy: 0.9848 - loss: 0.3032 - val_accuracy: 0.9634 - val_loss: 0.3432\n",
      "Epoch 5/10\n",
      "\u001b[1m757/757\u001b[0m \u001b[32m━━━━━━━━━━━━━━━━━━━━\u001b[0m\u001b[37m\u001b[0m \u001b[1m2s\u001b[0m 2ms/step - accuracy: 0.9877 - loss: 0.2927 - val_accuracy: 0.9656 - val_loss: 0.3478\n",
      "Epoch 6/10\n",
      "\u001b[1m757/757\u001b[0m \u001b[32m━━━━━━━━━━━━━━━━━━━━\u001b[0m\u001b[37m\u001b[0m \u001b[1m1s\u001b[0m 2ms/step - accuracy: 0.9879 - loss: 0.2876 - val_accuracy: 0.9635 - val_loss: 0.3586\n",
      "\u001b[1m379/379\u001b[0m \u001b[32m━━━━━━━━━━━━━━━━━━━━\u001b[0m\u001b[37m\u001b[0m \u001b[1m0s\u001b[0m 843us/step\n",
      "\n",
      "🏆 Training Results:\n",
      "🔹 Accuracy: 0.9590\n",
      "🔹 Precision: 0.9467\n",
      "🔹 Recall: 0.9603\n",
      "🔹 F1_score: 0.9535\n",
      "📊 Average F1-score: 0.9576\n",
      "\n",
      "🔍 Testing dense_units=64, dropout_rate=0.5\n",
      "\n",
      "📂 Fold 1\n",
      "\n",
      "🚀 Training Simple NN Model with dense_units = 64, dropout_rate = 0.5 🚀\n",
      "\n",
      "Epoch 1/10\n"
     ]
    },
    {
     "name": "stderr",
     "output_type": "stream",
     "text": [
      "/home/dariusng2103/projects/dm_project/fake-news/lib/python3.10/site-packages/keras/src/layers/core/embedding.py:90: UserWarning: Argument `input_length` is deprecated. Just remove it.\n",
      "  warnings.warn(\n"
     ]
    },
    {
     "name": "stdout",
     "output_type": "stream",
     "text": [
      "\u001b[1m757/757\u001b[0m \u001b[32m━━━━━━━━━━━━━━━━━━━━\u001b[0m\u001b[37m\u001b[0m \u001b[1m4s\u001b[0m 4ms/step - accuracy: 0.8601 - loss: 0.7794 - val_accuracy: 0.9642 - val_loss: 0.3837\n",
      "Epoch 2/10\n",
      "\u001b[1m757/757\u001b[0m \u001b[32m━━━━━━━━━━━━━━━━━━━━\u001b[0m\u001b[37m\u001b[0m \u001b[1m2s\u001b[0m 2ms/step - accuracy: 0.9707 - loss: 0.3664 - val_accuracy: 0.9653 - val_loss: 0.3519\n",
      "Epoch 3/10\n",
      "\u001b[1m757/757\u001b[0m \u001b[32m━━━━━━━━━━━━━━━━━━━━\u001b[0m\u001b[37m\u001b[0m \u001b[1m1s\u001b[0m 2ms/step - accuracy: 0.9793 - loss: 0.3311 - val_accuracy: 0.9660 - val_loss: 0.3077\n",
      "Epoch 4/10\n",
      "\u001b[1m757/757\u001b[0m \u001b[32m━━━━━━━━━━━━━━━━━━━━\u001b[0m\u001b[37m\u001b[0m \u001b[1m2s\u001b[0m 2ms/step - accuracy: 0.9852 - loss: 0.3139 - val_accuracy: 0.9688 - val_loss: 0.2955\n",
      "Epoch 5/10\n",
      "\u001b[1m757/757\u001b[0m \u001b[32m━━━━━━━━━━━━━━━━━━━━\u001b[0m\u001b[37m\u001b[0m \u001b[1m1s\u001b[0m 2ms/step - accuracy: 0.9855 - loss: 0.3124 - val_accuracy: 0.9678 - val_loss: 0.3268\n",
      "Epoch 6/10\n",
      "\u001b[1m757/757\u001b[0m \u001b[32m━━━━━━━━━━━━━━━━━━━━\u001b[0m\u001b[37m\u001b[0m \u001b[1m1s\u001b[0m 2ms/step - accuracy: 0.9873 - loss: 0.3043 - val_accuracy: 0.9674 - val_loss: 0.3161\n",
      "Epoch 7/10\n",
      "\u001b[1m757/757\u001b[0m \u001b[32m━━━━━━━━━━━━━━━━━━━━\u001b[0m\u001b[37m\u001b[0m \u001b[1m1s\u001b[0m 2ms/step - accuracy: 0.9883 - loss: 0.3019 - val_accuracy: 0.9650 - val_loss: 0.3075\n",
      "\u001b[1m379/379\u001b[0m \u001b[32m━━━━━━━━━━━━━━━━━━━━\u001b[0m\u001b[37m\u001b[0m \u001b[1m0s\u001b[0m 846us/step\n",
      "\n",
      "🏆 Training Results:\n",
      "🔹 Accuracy: 0.9688\n",
      "🔹 Precision: 0.9648\n",
      "🔹 Recall: 0.9639\n",
      "🔹 F1_score: 0.9644\n",
      "\n",
      "📂 Fold 2\n",
      "\n",
      "🚀 Training Simple NN Model with dense_units = 64, dropout_rate = 0.5 🚀\n",
      "\n",
      "Epoch 1/10\n"
     ]
    },
    {
     "name": "stderr",
     "output_type": "stream",
     "text": [
      "/home/dariusng2103/projects/dm_project/fake-news/lib/python3.10/site-packages/keras/src/layers/core/embedding.py:90: UserWarning: Argument `input_length` is deprecated. Just remove it.\n",
      "  warnings.warn(\n"
     ]
    },
    {
     "name": "stdout",
     "output_type": "stream",
     "text": [
      "\u001b[1m757/757\u001b[0m \u001b[32m━━━━━━━━━━━━━━━━━━━━\u001b[0m\u001b[37m\u001b[0m \u001b[1m4s\u001b[0m 4ms/step - accuracy: 0.8632 - loss: 0.7628 - val_accuracy: 0.9612 - val_loss: 0.3886\n",
      "Epoch 2/10\n",
      "\u001b[1m757/757\u001b[0m \u001b[32m━━━━━━━━━━━━━━━━━━━━\u001b[0m\u001b[37m\u001b[0m \u001b[1m2s\u001b[0m 2ms/step - accuracy: 0.9708 - loss: 0.3516 - val_accuracy: 0.9599 - val_loss: 0.3841\n",
      "Epoch 3/10\n",
      "\u001b[1m757/757\u001b[0m \u001b[32m━━━━━━━━━━━━━━━━━━━━\u001b[0m\u001b[37m\u001b[0m \u001b[1m1s\u001b[0m 2ms/step - accuracy: 0.9798 - loss: 0.3231 - val_accuracy: 0.9550 - val_loss: 0.4031\n",
      "Epoch 4/10\n",
      "\u001b[1m757/757\u001b[0m \u001b[32m━━━━━━━━━━━━━━━━━━━━\u001b[0m\u001b[37m\u001b[0m \u001b[1m1s\u001b[0m 2ms/step - accuracy: 0.9833 - loss: 0.3096 - val_accuracy: 0.9558 - val_loss: 0.4074\n",
      "Epoch 5/10\n",
      "\u001b[1m757/757\u001b[0m \u001b[32m━━━━━━━━━━━━━━━━━━━━\u001b[0m\u001b[37m\u001b[0m \u001b[1m2s\u001b[0m 2ms/step - accuracy: 0.9855 - loss: 0.3097 - val_accuracy: 0.9612 - val_loss: 0.3864\n",
      "\u001b[1m379/379\u001b[0m \u001b[32m━━━━━━━━━━━━━━━━━━━━\u001b[0m\u001b[37m\u001b[0m \u001b[1m0s\u001b[0m 865us/step\n",
      "\n",
      "🏆 Training Results:\n",
      "🔹 Accuracy: 0.9599\n",
      "🔹 Precision: 0.9708\n",
      "🔹 Recall: 0.9365\n",
      "🔹 F1_score: 0.9534\n",
      "\n",
      "📂 Fold 3\n",
      "\n",
      "🚀 Training Simple NN Model with dense_units = 64, dropout_rate = 0.5 🚀\n",
      "\n",
      "Epoch 1/10\n"
     ]
    },
    {
     "name": "stderr",
     "output_type": "stream",
     "text": [
      "/home/dariusng2103/projects/dm_project/fake-news/lib/python3.10/site-packages/keras/src/layers/core/embedding.py:90: UserWarning: Argument `input_length` is deprecated. Just remove it.\n",
      "  warnings.warn(\n"
     ]
    },
    {
     "name": "stdout",
     "output_type": "stream",
     "text": [
      "\u001b[1m757/757\u001b[0m \u001b[32m━━━━━━━━━━━━━━━━━━━━\u001b[0m\u001b[37m\u001b[0m \u001b[1m4s\u001b[0m 3ms/step - accuracy: 0.8564 - loss: 0.7585 - val_accuracy: 0.9647 - val_loss: 0.3590\n",
      "Epoch 2/10\n",
      "\u001b[1m757/757\u001b[0m \u001b[32m━━━━━━━━━━━━━━━━━━━━\u001b[0m\u001b[37m\u001b[0m \u001b[1m2s\u001b[0m 2ms/step - accuracy: 0.9699 - loss: 0.3466 - val_accuracy: 0.9653 - val_loss: 0.3568\n",
      "Epoch 3/10\n",
      "\u001b[1m757/757\u001b[0m \u001b[32m━━━━━━━━━━━━━━━━━━━━\u001b[0m\u001b[37m\u001b[0m \u001b[1m1s\u001b[0m 2ms/step - accuracy: 0.9790 - loss: 0.3174 - val_accuracy: 0.9649 - val_loss: 0.3897\n",
      "Epoch 4/10\n",
      "\u001b[1m757/757\u001b[0m \u001b[32m━━━━━━━━━━━━━━━━━━━━\u001b[0m\u001b[37m\u001b[0m \u001b[1m1s\u001b[0m 2ms/step - accuracy: 0.9846 - loss: 0.3040 - val_accuracy: 0.9674 - val_loss: 0.2960\n",
      "Epoch 5/10\n",
      "\u001b[1m757/757\u001b[0m \u001b[32m━━━━━━━━━━━━━━━━━━━━\u001b[0m\u001b[37m\u001b[0m \u001b[1m2s\u001b[0m 2ms/step - accuracy: 0.9863 - loss: 0.2854 - val_accuracy: 0.9653 - val_loss: 0.3794\n",
      "Epoch 6/10\n",
      "\u001b[1m757/757\u001b[0m \u001b[32m━━━━━━━━━━━━━━━━━━━━\u001b[0m\u001b[37m\u001b[0m \u001b[1m1s\u001b[0m 2ms/step - accuracy: 0.9872 - loss: 0.2908 - val_accuracy: 0.9674 - val_loss: 0.3463\n",
      "Epoch 7/10\n",
      "\u001b[1m757/757\u001b[0m \u001b[32m━━━━━━━━━━━━━━━━━━━━\u001b[0m\u001b[37m\u001b[0m \u001b[1m1s\u001b[0m 2ms/step - accuracy: 0.9910 - loss: 0.2655 - val_accuracy: 0.9664 - val_loss: 0.3238\n",
      "\u001b[1m379/379\u001b[0m \u001b[32m━━━━━━━━━━━━━━━━━━━━\u001b[0m\u001b[37m\u001b[0m \u001b[1m0s\u001b[0m 852us/step\n",
      "\n",
      "🏆 Training Results:\n",
      "🔹 Accuracy: 0.9674\n",
      "🔹 Precision: 0.9741\n",
      "🔹 Recall: 0.9509\n",
      "🔹 F1_score: 0.9623\n",
      "\n",
      "📂 Fold 4\n",
      "\n",
      "🚀 Training Simple NN Model with dense_units = 64, dropout_rate = 0.5 🚀\n",
      "\n",
      "Epoch 1/10\n"
     ]
    },
    {
     "name": "stderr",
     "output_type": "stream",
     "text": [
      "/home/dariusng2103/projects/dm_project/fake-news/lib/python3.10/site-packages/keras/src/layers/core/embedding.py:90: UserWarning: Argument `input_length` is deprecated. Just remove it.\n",
      "  warnings.warn(\n"
     ]
    },
    {
     "name": "stdout",
     "output_type": "stream",
     "text": [
      "\u001b[1m757/757\u001b[0m \u001b[32m━━━━━━━━━━━━━━━━━━━━\u001b[0m\u001b[37m\u001b[0m \u001b[1m4s\u001b[0m 3ms/step - accuracy: 0.8604 - loss: 0.7673 - val_accuracy: 0.9549 - val_loss: 0.3724\n",
      "Epoch 2/10\n",
      "\u001b[1m757/757\u001b[0m \u001b[32m━━━━━━━━━━━━━━━━━━━━\u001b[0m\u001b[37m\u001b[0m \u001b[1m2s\u001b[0m 2ms/step - accuracy: 0.9696 - loss: 0.3490 - val_accuracy: 0.9631 - val_loss: 0.4139\n",
      "Epoch 3/10\n",
      "\u001b[1m757/757\u001b[0m \u001b[32m━━━━━━━━━━━━━━━━━━━━\u001b[0m\u001b[37m\u001b[0m \u001b[1m1s\u001b[0m 2ms/step - accuracy: 0.9792 - loss: 0.3314 - val_accuracy: 0.9589 - val_loss: 0.3481\n",
      "Epoch 4/10\n",
      "\u001b[1m757/757\u001b[0m \u001b[32m━━━━━━━━━━━━━━━━━━━━\u001b[0m\u001b[37m\u001b[0m \u001b[1m2s\u001b[0m 2ms/step - accuracy: 0.9833 - loss: 0.3234 - val_accuracy: 0.9534 - val_loss: 0.3529\n",
      "Epoch 5/10\n",
      "\u001b[1m757/757\u001b[0m \u001b[32m━━━━━━━━━━━━━━━━━━━━\u001b[0m\u001b[37m\u001b[0m \u001b[1m1s\u001b[0m 2ms/step - accuracy: 0.9858 - loss: 0.3089 - val_accuracy: 0.9578 - val_loss: 0.3102\n",
      "Epoch 6/10\n",
      "\u001b[1m757/757\u001b[0m \u001b[32m━━━━━━━━━━━━━━━━━━━━\u001b[0m\u001b[37m\u001b[0m \u001b[1m1s\u001b[0m 2ms/step - accuracy: 0.9870 - loss: 0.3013 - val_accuracy: 0.9597 - val_loss: 0.3371\n",
      "Epoch 7/10\n",
      "\u001b[1m757/757\u001b[0m \u001b[32m━━━━━━━━━━━━━━━━━━━━\u001b[0m\u001b[37m\u001b[0m \u001b[1m2s\u001b[0m 2ms/step - accuracy: 0.9880 - loss: 0.2923 - val_accuracy: 0.9599 - val_loss: 0.3730\n",
      "Epoch 8/10\n",
      "\u001b[1m757/757\u001b[0m \u001b[32m━━━━━━━━━━━━━━━━━━━━\u001b[0m\u001b[37m\u001b[0m \u001b[1m2s\u001b[0m 2ms/step - accuracy: 0.9886 - loss: 0.2936 - val_accuracy: 0.9640 - val_loss: 0.2863\n",
      "Epoch 9/10\n",
      "\u001b[1m757/757\u001b[0m \u001b[32m━━━━━━━━━━━━━━━━━━━━\u001b[0m\u001b[37m\u001b[0m \u001b[1m1s\u001b[0m 2ms/step - accuracy: 0.9905 - loss: 0.2798 - val_accuracy: 0.9616 - val_loss: 0.3447\n",
      "Epoch 10/10\n",
      "\u001b[1m757/757\u001b[0m \u001b[32m━━━━━━━━━━━━━━━━━━━━\u001b[0m\u001b[37m\u001b[0m \u001b[1m2s\u001b[0m 2ms/step - accuracy: 0.9897 - loss: 0.2974 - val_accuracy: 0.9665 - val_loss: 0.2709\n",
      "\u001b[1m379/379\u001b[0m \u001b[32m━━━━━━━━━━━━━━━━━━━━\u001b[0m\u001b[37m\u001b[0m \u001b[1m0s\u001b[0m 851us/step\n",
      "\n",
      "🏆 Training Results:\n",
      "🔹 Accuracy: 0.9665\n",
      "🔹 Precision: 0.9582\n",
      "🔹 Recall: 0.9656\n",
      "🔹 F1_score: 0.9619\n",
      "\n",
      "📂 Fold 5\n",
      "\n",
      "🚀 Training Simple NN Model with dense_units = 64, dropout_rate = 0.5 🚀\n",
      "\n",
      "Epoch 1/10\n"
     ]
    },
    {
     "name": "stderr",
     "output_type": "stream",
     "text": [
      "/home/dariusng2103/projects/dm_project/fake-news/lib/python3.10/site-packages/keras/src/layers/core/embedding.py:90: UserWarning: Argument `input_length` is deprecated. Just remove it.\n",
      "  warnings.warn(\n"
     ]
    },
    {
     "name": "stdout",
     "output_type": "stream",
     "text": [
      "\u001b[1m757/757\u001b[0m \u001b[32m━━━━━━━━━━━━━━━━━━━━\u001b[0m\u001b[37m\u001b[0m \u001b[1m4s\u001b[0m 3ms/step - accuracy: 0.8657 - loss: 0.7597 - val_accuracy: 0.9574 - val_loss: 0.3634\n",
      "Epoch 2/10\n",
      "\u001b[1m757/757\u001b[0m \u001b[32m━━━━━━━━━━━━━━━━━━━━\u001b[0m\u001b[37m\u001b[0m \u001b[1m2s\u001b[0m 2ms/step - accuracy: 0.9690 - loss: 0.3537 - val_accuracy: 0.9596 - val_loss: 0.3405\n",
      "Epoch 3/10\n",
      "\u001b[1m757/757\u001b[0m \u001b[32m━━━━━━━━━━━━━━━━━━━━\u001b[0m\u001b[37m\u001b[0m \u001b[1m1s\u001b[0m 2ms/step - accuracy: 0.9784 - loss: 0.3235 - val_accuracy: 0.9639 - val_loss: 0.3727\n",
      "Epoch 4/10\n",
      "\u001b[1m757/757\u001b[0m \u001b[32m━━━━━━━━━━━━━━━━━━━━\u001b[0m\u001b[37m\u001b[0m \u001b[1m2s\u001b[0m 2ms/step - accuracy: 0.9834 - loss: 0.3149 - val_accuracy: 0.9648 - val_loss: 0.3450\n",
      "Epoch 5/10\n",
      "\u001b[1m757/757\u001b[0m \u001b[32m━━━━━━━━━━━━━━━━━━━━\u001b[0m\u001b[37m\u001b[0m \u001b[1m1s\u001b[0m 2ms/step - accuracy: 0.9872 - loss: 0.2937 - val_accuracy: 0.9665 - val_loss: 0.3246\n",
      "Epoch 6/10\n",
      "\u001b[1m757/757\u001b[0m \u001b[32m━━━━━━━━━━━━━━━━━━━━\u001b[0m\u001b[37m\u001b[0m \u001b[1m1s\u001b[0m 2ms/step - accuracy: 0.9887 - loss: 0.2934 - val_accuracy: 0.9611 - val_loss: 0.3729\n",
      "Epoch 7/10\n",
      "\u001b[1m757/757\u001b[0m \u001b[32m━━━━━━━━━━━━━━━━━━━━\u001b[0m\u001b[37m\u001b[0m \u001b[1m2s\u001b[0m 2ms/step - accuracy: 0.9894 - loss: 0.2822 - val_accuracy: 0.9614 - val_loss: 0.3497\n",
      "Epoch 8/10\n",
      "\u001b[1m757/757\u001b[0m \u001b[32m━━━━━━━━━━━━━━━━━━━━\u001b[0m\u001b[37m\u001b[0m \u001b[1m2s\u001b[0m 2ms/step - accuracy: 0.9918 - loss: 0.2640 - val_accuracy: 0.9629 - val_loss: 0.3533\n",
      "\u001b[1m379/379\u001b[0m \u001b[32m━━━━━━━━━━━━━━━━━━━━\u001b[0m\u001b[37m\u001b[0m \u001b[1m0s\u001b[0m 851us/step\n",
      "\n",
      "🏆 Training Results:\n",
      "🔹 Accuracy: 0.9665\n",
      "🔹 Precision: 0.9639\n",
      "🔹 Recall: 0.9594\n",
      "🔹 F1_score: 0.9616\n",
      "📊 Average F1-score: 0.9607\n",
      "\n",
      "🔍 Testing dense_units=128, dropout_rate=0.3\n",
      "\n",
      "📂 Fold 1\n",
      "\n",
      "🚀 Training Simple NN Model with dense_units = 128, dropout_rate = 0.3 🚀\n",
      "\n",
      "Epoch 1/10\n"
     ]
    },
    {
     "name": "stderr",
     "output_type": "stream",
     "text": [
      "/home/dariusng2103/projects/dm_project/fake-news/lib/python3.10/site-packages/keras/src/layers/core/embedding.py:90: UserWarning: Argument `input_length` is deprecated. Just remove it.\n",
      "  warnings.warn(\n"
     ]
    },
    {
     "name": "stdout",
     "output_type": "stream",
     "text": [
      "\u001b[1m757/757\u001b[0m \u001b[32m━━━━━━━━━━━━━━━━━━━━\u001b[0m\u001b[37m\u001b[0m \u001b[1m4s\u001b[0m 3ms/step - accuracy: 0.8460 - loss: 0.7601 - val_accuracy: 0.9667 - val_loss: 0.3522\n",
      "Epoch 2/10\n",
      "\u001b[1m757/757\u001b[0m \u001b[32m━━━━━━━━━━━━━━━━━━━━\u001b[0m\u001b[37m\u001b[0m \u001b[1m2s\u001b[0m 2ms/step - accuracy: 0.9682 - loss: 0.3670 - val_accuracy: 0.9662 - val_loss: 0.3331\n",
      "Epoch 3/10\n",
      "\u001b[1m757/757\u001b[0m \u001b[32m━━━━━━━━━━━━━━━━━━━━\u001b[0m\u001b[37m\u001b[0m \u001b[1m1s\u001b[0m 2ms/step - accuracy: 0.9780 - loss: 0.3209 - val_accuracy: 0.9650 - val_loss: 0.3456\n",
      "Epoch 4/10\n",
      "\u001b[1m757/757\u001b[0m \u001b[32m━━━━━━━━━━━━━━━━━━━━\u001b[0m\u001b[37m\u001b[0m \u001b[1m1s\u001b[0m 2ms/step - accuracy: 0.9832 - loss: 0.3234 - val_accuracy: 0.9667 - val_loss: 0.3714\n",
      "Epoch 5/10\n",
      "\u001b[1m757/757\u001b[0m \u001b[32m━━━━━━━━━━━━━━━━━━━━\u001b[0m\u001b[37m\u001b[0m \u001b[1m2s\u001b[0m 2ms/step - accuracy: 0.9862 - loss: 0.3051 - val_accuracy: 0.9657 - val_loss: 0.3647\n",
      "\u001b[1m379/379\u001b[0m \u001b[32m━━━━━━━━━━━━━━━━━━━━\u001b[0m\u001b[37m\u001b[0m \u001b[1m0s\u001b[0m 838us/step\n",
      "\n",
      "🏆 Training Results:\n",
      "🔹 Accuracy: 0.9662\n",
      "🔹 Precision: 0.9641\n",
      "🔹 Recall: 0.9584\n",
      "🔹 F1_score: 0.9613\n",
      "\n",
      "📂 Fold 2\n",
      "\n",
      "🚀 Training Simple NN Model with dense_units = 128, dropout_rate = 0.3 🚀\n",
      "\n",
      "Epoch 1/10\n"
     ]
    },
    {
     "name": "stderr",
     "output_type": "stream",
     "text": [
      "/home/dariusng2103/projects/dm_project/fake-news/lib/python3.10/site-packages/keras/src/layers/core/embedding.py:90: UserWarning: Argument `input_length` is deprecated. Just remove it.\n",
      "  warnings.warn(\n"
     ]
    },
    {
     "name": "stdout",
     "output_type": "stream",
     "text": [
      "\u001b[1m757/757\u001b[0m \u001b[32m━━━━━━━━━━━━━━━━━━━━\u001b[0m\u001b[37m\u001b[0m \u001b[1m4s\u001b[0m 3ms/step - accuracy: 0.8712 - loss: 0.7789 - val_accuracy: 0.9643 - val_loss: 0.3664\n",
      "Epoch 2/10\n",
      "\u001b[1m757/757\u001b[0m \u001b[32m━━━━━━━━━━━━━━━━━━━━\u001b[0m\u001b[37m\u001b[0m \u001b[1m2s\u001b[0m 2ms/step - accuracy: 0.9709 - loss: 0.3589 - val_accuracy: 0.9634 - val_loss: 0.3624\n",
      "Epoch 3/10\n",
      "\u001b[1m757/757\u001b[0m \u001b[32m━━━━━━━━━━━━━━━━━━━━\u001b[0m\u001b[37m\u001b[0m \u001b[1m1s\u001b[0m 2ms/step - accuracy: 0.9819 - loss: 0.3115 - val_accuracy: 0.9586 - val_loss: 0.3948\n",
      "Epoch 4/10\n",
      "\u001b[1m757/757\u001b[0m \u001b[32m━━━━━━━━━━━━━━━━━━━━\u001b[0m\u001b[37m\u001b[0m \u001b[1m1s\u001b[0m 2ms/step - accuracy: 0.9861 - loss: 0.2968 - val_accuracy: 0.9544 - val_loss: 0.4204\n",
      "Epoch 5/10\n",
      "\u001b[1m757/757\u001b[0m \u001b[32m━━━━━━━━━━━━━━━━━━━━\u001b[0m\u001b[37m\u001b[0m \u001b[1m1s\u001b[0m 2ms/step - accuracy: 0.9870 - loss: 0.3005 - val_accuracy: 0.9616 - val_loss: 0.3678\n",
      "\u001b[1m379/379\u001b[0m \u001b[32m━━━━━━━━━━━━━━━━━━━━\u001b[0m\u001b[37m\u001b[0m \u001b[1m0s\u001b[0m 841us/step\n",
      "\n",
      "🏆 Training Results:\n",
      "🔹 Accuracy: 0.9634\n",
      "🔹 Precision: 0.9705\n",
      "🔹 Recall: 0.9450\n",
      "🔹 F1_score: 0.9576\n",
      "\n",
      "📂 Fold 3\n",
      "\n",
      "🚀 Training Simple NN Model with dense_units = 128, dropout_rate = 0.3 🚀\n",
      "\n",
      "Epoch 1/10\n"
     ]
    },
    {
     "name": "stderr",
     "output_type": "stream",
     "text": [
      "/home/dariusng2103/projects/dm_project/fake-news/lib/python3.10/site-packages/keras/src/layers/core/embedding.py:90: UserWarning: Argument `input_length` is deprecated. Just remove it.\n",
      "  warnings.warn(\n"
     ]
    },
    {
     "name": "stdout",
     "output_type": "stream",
     "text": [
      "\u001b[1m757/757\u001b[0m \u001b[32m━━━━━━━━━━━━━━━━━━━━\u001b[0m\u001b[37m\u001b[0m \u001b[1m4s\u001b[0m 3ms/step - accuracy: 0.8665 - loss: 0.7719 - val_accuracy: 0.9597 - val_loss: 0.3876\n",
      "Epoch 2/10\n",
      "\u001b[1m757/757\u001b[0m \u001b[32m━━━━━━━━━━━━━━━━━━━━\u001b[0m\u001b[37m\u001b[0m \u001b[1m2s\u001b[0m 2ms/step - accuracy: 0.9701 - loss: 0.3529 - val_accuracy: 0.9658 - val_loss: 0.3677\n",
      "Epoch 3/10\n",
      "\u001b[1m757/757\u001b[0m \u001b[32m━━━━━━━━━━━━━━━━━━━━\u001b[0m\u001b[37m\u001b[0m \u001b[1m1s\u001b[0m 2ms/step - accuracy: 0.9796 - loss: 0.3247 - val_accuracy: 0.9667 - val_loss: 0.3599\n",
      "Epoch 4/10\n",
      "\u001b[1m757/757\u001b[0m \u001b[32m━━━━━━━━━━━━━━━━━━━━\u001b[0m\u001b[37m\u001b[0m \u001b[1m2s\u001b[0m 2ms/step - accuracy: 0.9828 - loss: 0.3204 - val_accuracy: 0.9687 - val_loss: 0.3423\n",
      "Epoch 5/10\n",
      "\u001b[1m757/757\u001b[0m \u001b[32m━━━━━━━━━━━━━━━━━━━━\u001b[0m\u001b[37m\u001b[0m \u001b[1m1s\u001b[0m 2ms/step - accuracy: 0.9862 - loss: 0.3005 - val_accuracy: 0.9655 - val_loss: 0.3304\n",
      "Epoch 6/10\n",
      "\u001b[1m757/757\u001b[0m \u001b[32m━━━━━━━━━━━━━━━━━━━━\u001b[0m\u001b[37m\u001b[0m \u001b[1m1s\u001b[0m 2ms/step - accuracy: 0.9867 - loss: 0.3176 - val_accuracy: 0.9642 - val_loss: 0.3734\n",
      "Epoch 7/10\n",
      "\u001b[1m757/757\u001b[0m \u001b[32m━━━━━━━━━━━━━━━━━━━━\u001b[0m\u001b[37m\u001b[0m \u001b[1m2s\u001b[0m 2ms/step - accuracy: 0.9882 - loss: 0.2949 - val_accuracy: 0.9676 - val_loss: 0.2933\n",
      "Epoch 8/10\n",
      "\u001b[1m757/757\u001b[0m \u001b[32m━━━━━━━━━━━━━━━━━━━━\u001b[0m\u001b[37m\u001b[0m \u001b[1m2s\u001b[0m 2ms/step - accuracy: 0.9887 - loss: 0.2947 - val_accuracy: 0.9683 - val_loss: 0.2994\n",
      "Epoch 9/10\n",
      "\u001b[1m757/757\u001b[0m \u001b[32m━━━━━━━━━━━━━━━━━━━━\u001b[0m\u001b[37m\u001b[0m \u001b[1m1s\u001b[0m 2ms/step - accuracy: 0.9908 - loss: 0.2675 - val_accuracy: 0.9624 - val_loss: 0.4144\n",
      "Epoch 10/10\n",
      "\u001b[1m757/757\u001b[0m \u001b[32m━━━━━━━━━━━━━━━━━━━━\u001b[0m\u001b[37m\u001b[0m \u001b[1m2s\u001b[0m 2ms/step - accuracy: 0.9904 - loss: 0.3000 - val_accuracy: 0.9664 - val_loss: 0.3529\n",
      "\u001b[1m379/379\u001b[0m \u001b[32m━━━━━━━━━━━━━━━━━━━━\u001b[0m\u001b[37m\u001b[0m \u001b[1m0s\u001b[0m 853us/step\n",
      "\n",
      "🏆 Training Results:\n",
      "🔹 Accuracy: 0.9676\n",
      "🔹 Precision: 0.9651\n",
      "🔹 Recall: 0.9607\n",
      "🔹 F1_score: 0.9629\n",
      "\n",
      "📂 Fold 4\n",
      "\n",
      "🚀 Training Simple NN Model with dense_units = 128, dropout_rate = 0.3 🚀\n",
      "\n",
      "Epoch 1/10\n"
     ]
    },
    {
     "name": "stderr",
     "output_type": "stream",
     "text": [
      "/home/dariusng2103/projects/dm_project/fake-news/lib/python3.10/site-packages/keras/src/layers/core/embedding.py:90: UserWarning: Argument `input_length` is deprecated. Just remove it.\n",
      "  warnings.warn(\n"
     ]
    },
    {
     "name": "stdout",
     "output_type": "stream",
     "text": [
      "\u001b[1m757/757\u001b[0m \u001b[32m━━━━━━━━━━━━━━━━━━━━\u001b[0m\u001b[37m\u001b[0m \u001b[1m4s\u001b[0m 3ms/step - accuracy: 0.8616 - loss: 0.7675 - val_accuracy: 0.9659 - val_loss: 0.3414\n",
      "Epoch 2/10\n",
      "\u001b[1m757/757\u001b[0m \u001b[32m━━━━━━━━━━━━━━━━━━━━\u001b[0m\u001b[37m\u001b[0m \u001b[1m2s\u001b[0m 2ms/step - accuracy: 0.9694 - loss: 0.3595 - val_accuracy: 0.9573 - val_loss: 0.3824\n",
      "Epoch 3/10\n",
      "\u001b[1m757/757\u001b[0m \u001b[32m━━━━━━━━━━━━━━━━━━━━\u001b[0m\u001b[37m\u001b[0m \u001b[1m2s\u001b[0m 2ms/step - accuracy: 0.9775 - loss: 0.3384 - val_accuracy: 0.9655 - val_loss: 0.3320\n",
      "Epoch 4/10\n",
      "\u001b[1m757/757\u001b[0m \u001b[32m━━━━━━━━━━━━━━━━━━━━\u001b[0m\u001b[37m\u001b[0m \u001b[1m1s\u001b[0m 2ms/step - accuracy: 0.9838 - loss: 0.3096 - val_accuracy: 0.9652 - val_loss: 0.3511\n",
      "Epoch 5/10\n",
      "\u001b[1m757/757\u001b[0m \u001b[32m━━━━━━━━━━━━━━━━━━━━\u001b[0m\u001b[37m\u001b[0m \u001b[1m2s\u001b[0m 2ms/step - accuracy: 0.9859 - loss: 0.2977 - val_accuracy: 0.9635 - val_loss: 0.3372\n",
      "Epoch 6/10\n",
      "\u001b[1m757/757\u001b[0m \u001b[32m━━━━━━━━━━━━━━━━━━━━\u001b[0m\u001b[37m\u001b[0m \u001b[1m2s\u001b[0m 2ms/step - accuracy: 0.9854 - loss: 0.3089 - val_accuracy: 0.9593 - val_loss: 0.4055\n",
      "\u001b[1m379/379\u001b[0m \u001b[32m━━━━━━━━━━━━━━━━━━━━\u001b[0m\u001b[37m\u001b[0m \u001b[1m0s\u001b[0m 848us/step\n",
      "\n",
      "🏆 Training Results:\n",
      "🔹 Accuracy: 0.9655\n",
      "🔹 Precision: 0.9651\n",
      "🔹 Recall: 0.9558\n",
      "🔹 F1_score: 0.9604\n",
      "\n",
      "📂 Fold 5\n",
      "\n",
      "🚀 Training Simple NN Model with dense_units = 128, dropout_rate = 0.3 🚀\n",
      "\n",
      "Epoch 1/10\n"
     ]
    },
    {
     "name": "stderr",
     "output_type": "stream",
     "text": [
      "/home/dariusng2103/projects/dm_project/fake-news/lib/python3.10/site-packages/keras/src/layers/core/embedding.py:90: UserWarning: Argument `input_length` is deprecated. Just remove it.\n",
      "  warnings.warn(\n"
     ]
    },
    {
     "name": "stdout",
     "output_type": "stream",
     "text": [
      "\u001b[1m757/757\u001b[0m \u001b[32m━━━━━━━━━━━━━━━━━━━━\u001b[0m\u001b[37m\u001b[0m \u001b[1m4s\u001b[0m 3ms/step - accuracy: 0.8604 - loss: 0.7687 - val_accuracy: 0.9636 - val_loss: 0.3323\n",
      "Epoch 2/10\n",
      "\u001b[1m757/757\u001b[0m \u001b[32m━━━━━━━━━━━━━━━━━━━━\u001b[0m\u001b[37m\u001b[0m \u001b[1m2s\u001b[0m 2ms/step - accuracy: 0.9701 - loss: 0.3502 - val_accuracy: 0.9644 - val_loss: 0.3671\n",
      "Epoch 3/10\n",
      "\u001b[1m757/757\u001b[0m \u001b[32m━━━━━━━━━━━━━━━━━━━━\u001b[0m\u001b[37m\u001b[0m \u001b[1m1s\u001b[0m 2ms/step - accuracy: 0.9780 - loss: 0.3327 - val_accuracy: 0.9601 - val_loss: 0.3610\n",
      "Epoch 4/10\n",
      "\u001b[1m757/757\u001b[0m \u001b[32m━━━━━━━━━━━━━━━━━━━━\u001b[0m\u001b[37m\u001b[0m \u001b[1m2s\u001b[0m 2ms/step - accuracy: 0.9851 - loss: 0.3070 - val_accuracy: 0.9635 - val_loss: 0.3330\n",
      "\u001b[1m379/379\u001b[0m \u001b[32m━━━━━━━━━━━━━━━━━━━━\u001b[0m\u001b[37m\u001b[0m \u001b[1m0s\u001b[0m 865us/step\n",
      "\n",
      "🏆 Training Results:\n",
      "🔹 Accuracy: 0.9636\n",
      "🔹 Precision: 0.9633\n",
      "🔹 Recall: 0.9531\n",
      "🔹 F1_score: 0.9582\n",
      "📊 Average F1-score: 0.9601\n",
      "\n",
      "🔍 Testing dense_units=128, dropout_rate=0.5\n",
      "\n",
      "📂 Fold 1\n",
      "\n",
      "🚀 Training Simple NN Model with dense_units = 128, dropout_rate = 0.5 🚀\n",
      "\n",
      "Epoch 1/10\n"
     ]
    },
    {
     "name": "stderr",
     "output_type": "stream",
     "text": [
      "/home/dariusng2103/projects/dm_project/fake-news/lib/python3.10/site-packages/keras/src/layers/core/embedding.py:90: UserWarning: Argument `input_length` is deprecated. Just remove it.\n",
      "  warnings.warn(\n"
     ]
    },
    {
     "name": "stdout",
     "output_type": "stream",
     "text": [
      "\u001b[1m757/757\u001b[0m \u001b[32m━━━━━━━━━━━━━━━━━━━━\u001b[0m\u001b[37m\u001b[0m \u001b[1m4s\u001b[0m 3ms/step - accuracy: 0.8502 - loss: 0.7792 - val_accuracy: 0.9655 - val_loss: 0.3979\n",
      "Epoch 2/10\n",
      "\u001b[1m757/757\u001b[0m \u001b[32m━━━━━━━━━━━━━━━━━━━━\u001b[0m\u001b[37m\u001b[0m \u001b[1m2s\u001b[0m 2ms/step - accuracy: 0.9688 - loss: 0.3719 - val_accuracy: 0.9677 - val_loss: 0.3516\n",
      "Epoch 3/10\n",
      "\u001b[1m757/757\u001b[0m \u001b[32m━━━━━━━━━━━━━━━━━━━━\u001b[0m\u001b[37m\u001b[0m \u001b[1m1s\u001b[0m 2ms/step - accuracy: 0.9796 - loss: 0.3211 - val_accuracy: 0.9689 - val_loss: 0.3376\n",
      "Epoch 4/10\n",
      "\u001b[1m757/757\u001b[0m \u001b[32m━━━━━━━━━━━━━━━━━━━━\u001b[0m\u001b[37m\u001b[0m \u001b[1m2s\u001b[0m 2ms/step - accuracy: 0.9851 - loss: 0.3083 - val_accuracy: 0.9629 - val_loss: 0.3743\n",
      "Epoch 5/10\n",
      "\u001b[1m757/757\u001b[0m \u001b[32m━━━━━━━━━━━━━━━━━━━━\u001b[0m\u001b[37m\u001b[0m \u001b[1m1s\u001b[0m 2ms/step - accuracy: 0.9855 - loss: 0.3037 - val_accuracy: 0.9683 - val_loss: 0.3226\n",
      "Epoch 6/10\n",
      "\u001b[1m757/757\u001b[0m \u001b[32m━━━━━━━━━━━━━━━━━━━━\u001b[0m\u001b[37m\u001b[0m \u001b[1m1s\u001b[0m 2ms/step - accuracy: 0.9886 - loss: 0.2860 - val_accuracy: 0.9676 - val_loss: 0.3015\n",
      "Epoch 7/10\n",
      "\u001b[1m757/757\u001b[0m \u001b[32m━━━━━━━━━━━━━━━━━━━━\u001b[0m\u001b[37m\u001b[0m \u001b[1m2s\u001b[0m 2ms/step - accuracy: 0.9891 - loss: 0.2906 - val_accuracy: 0.9665 - val_loss: 0.3143\n",
      "Epoch 8/10\n",
      "\u001b[1m757/757\u001b[0m \u001b[32m━━━━━━━━━━━━━━━━━━━━\u001b[0m\u001b[37m\u001b[0m \u001b[1m2s\u001b[0m 2ms/step - accuracy: 0.9891 - loss: 0.2963 - val_accuracy: 0.9701 - val_loss: 0.4057\n",
      "Epoch 9/10\n",
      "\u001b[1m757/757\u001b[0m \u001b[32m━━━━━━━━━━━━━━━━━━━━\u001b[0m\u001b[37m\u001b[0m \u001b[1m1s\u001b[0m 2ms/step - accuracy: 0.9899 - loss: 0.2941 - val_accuracy: 0.9663 - val_loss: 0.2630\n",
      "Epoch 10/10\n",
      "\u001b[1m757/757\u001b[0m \u001b[32m━━━━━━━━━━━━━━━━━━━━\u001b[0m\u001b[37m\u001b[0m \u001b[1m2s\u001b[0m 2ms/step - accuracy: 0.9912 - loss: 0.2751 - val_accuracy: 0.9672 - val_loss: 0.2760\n",
      "\u001b[1m379/379\u001b[0m \u001b[32m━━━━━━━━━━━━━━━━━━━━\u001b[0m\u001b[37m\u001b[0m \u001b[1m0s\u001b[0m 840us/step\n",
      "\n",
      "🏆 Training Results:\n",
      "🔹 Accuracy: 0.9663\n",
      "🔹 Precision: 0.9629\n",
      "🔹 Recall: 0.9599\n",
      "🔹 F1_score: 0.9614\n",
      "\n",
      "📂 Fold 2\n",
      "\n",
      "🚀 Training Simple NN Model with dense_units = 128, dropout_rate = 0.5 🚀\n",
      "\n",
      "Epoch 1/10\n"
     ]
    },
    {
     "name": "stderr",
     "output_type": "stream",
     "text": [
      "/home/dariusng2103/projects/dm_project/fake-news/lib/python3.10/site-packages/keras/src/layers/core/embedding.py:90: UserWarning: Argument `input_length` is deprecated. Just remove it.\n",
      "  warnings.warn(\n"
     ]
    },
    {
     "name": "stdout",
     "output_type": "stream",
     "text": [
      "\u001b[1m757/757\u001b[0m \u001b[32m━━━━━━━━━━━━━━━━━━━━\u001b[0m\u001b[37m\u001b[0m \u001b[1m4s\u001b[0m 4ms/step - accuracy: 0.8582 - loss: 0.7728 - val_accuracy: 0.9623 - val_loss: 0.3591\n",
      "Epoch 2/10\n",
      "\u001b[1m757/757\u001b[0m \u001b[32m━━━━━━━━━━━━━━━━━━━━\u001b[0m\u001b[37m\u001b[0m \u001b[1m2s\u001b[0m 2ms/step - accuracy: 0.9689 - loss: 0.3788 - val_accuracy: 0.9541 - val_loss: 0.3927\n",
      "Epoch 3/10\n",
      "\u001b[1m757/757\u001b[0m \u001b[32m━━━━━━━━━━━━━━━━━━━━\u001b[0m\u001b[37m\u001b[0m \u001b[1m1s\u001b[0m 2ms/step - accuracy: 0.9797 - loss: 0.3187 - val_accuracy: 0.9577 - val_loss: 0.3752\n",
      "Epoch 4/10\n",
      "\u001b[1m757/757\u001b[0m \u001b[32m━━━━━━━━━━━━━━━━━━━━\u001b[0m\u001b[37m\u001b[0m \u001b[1m2s\u001b[0m 2ms/step - accuracy: 0.9849 - loss: 0.2996 - val_accuracy: 0.9617 - val_loss: 0.3805\n",
      "\u001b[1m379/379\u001b[0m \u001b[32m━━━━━━━━━━━━━━━━━━━━\u001b[0m\u001b[37m\u001b[0m \u001b[1m0s\u001b[0m 860us/step\n",
      "\n",
      "🏆 Training Results:\n",
      "🔹 Accuracy: 0.9623\n",
      "🔹 Precision: 0.9638\n",
      "🔹 Recall: 0.9495\n",
      "🔹 F1_score: 0.9566\n",
      "\n",
      "📂 Fold 3\n",
      "\n",
      "🚀 Training Simple NN Model with dense_units = 128, dropout_rate = 0.5 🚀\n",
      "\n",
      "Epoch 1/10\n"
     ]
    },
    {
     "name": "stderr",
     "output_type": "stream",
     "text": [
      "/home/dariusng2103/projects/dm_project/fake-news/lib/python3.10/site-packages/keras/src/layers/core/embedding.py:90: UserWarning: Argument `input_length` is deprecated. Just remove it.\n",
      "  warnings.warn(\n"
     ]
    },
    {
     "name": "stdout",
     "output_type": "stream",
     "text": [
      "\u001b[1m757/757\u001b[0m \u001b[32m━━━━━━━━━━━━━━━━━━━━\u001b[0m\u001b[37m\u001b[0m \u001b[1m4s\u001b[0m 3ms/step - accuracy: 0.8690 - loss: 0.7724 - val_accuracy: 0.9650 - val_loss: 0.3767\n",
      "Epoch 2/10\n",
      "\u001b[1m757/757\u001b[0m \u001b[32m━━━━━━━━━━━━━━━━━━━━\u001b[0m\u001b[37m\u001b[0m \u001b[1m2s\u001b[0m 2ms/step - accuracy: 0.9736 - loss: 0.3477 - val_accuracy: 0.9688 - val_loss: 0.3362\n",
      "Epoch 3/10\n",
      "\u001b[1m757/757\u001b[0m \u001b[32m━━━━━━━━━━━━━━━━━━━━\u001b[0m\u001b[37m\u001b[0m \u001b[1m1s\u001b[0m 2ms/step - accuracy: 0.9820 - loss: 0.3074 - val_accuracy: 0.9678 - val_loss: 0.3509\n",
      "Epoch 4/10\n",
      "\u001b[1m757/757\u001b[0m \u001b[32m━━━━━━━━━━━━━━━━━━━━\u001b[0m\u001b[37m\u001b[0m \u001b[1m2s\u001b[0m 2ms/step - accuracy: 0.9844 - loss: 0.3034 - val_accuracy: 0.9656 - val_loss: 0.3696\n",
      "Epoch 5/10\n",
      "\u001b[1m757/757\u001b[0m \u001b[32m━━━━━━━━━━━━━━━━━━━━\u001b[0m\u001b[37m\u001b[0m \u001b[1m1s\u001b[0m 2ms/step - accuracy: 0.9878 - loss: 0.2939 - val_accuracy: 0.9667 - val_loss: 0.3221\n",
      "Epoch 6/10\n",
      "\u001b[1m757/757\u001b[0m \u001b[32m━━━━━━━━━━━━━━━━━━━━\u001b[0m\u001b[37m\u001b[0m \u001b[1m1s\u001b[0m 2ms/step - accuracy: 0.9871 - loss: 0.2982 - val_accuracy: 0.9602 - val_loss: 0.3840\n",
      "Epoch 7/10\n",
      "\u001b[1m757/757\u001b[0m \u001b[32m━━━━━━━━━━━━━━━━━━━━\u001b[0m\u001b[37m\u001b[0m \u001b[1m2s\u001b[0m 2ms/step - accuracy: 0.9903 - loss: 0.2683 - val_accuracy: 0.9657 - val_loss: 0.3127\n",
      "Epoch 8/10\n",
      "\u001b[1m757/757\u001b[0m \u001b[32m━━━━━━━━━━━━━━━━━━━━\u001b[0m\u001b[37m\u001b[0m \u001b[1m1s\u001b[0m 2ms/step - accuracy: 0.9898 - loss: 0.2782 - val_accuracy: 0.9640 - val_loss: 0.3600\n",
      "Epoch 9/10\n",
      "\u001b[1m757/757\u001b[0m \u001b[32m━━━━━━━━━━━━━━━━━━━━\u001b[0m\u001b[37m\u001b[0m \u001b[1m1s\u001b[0m 2ms/step - accuracy: 0.9917 - loss: 0.2647 - val_accuracy: 0.9683 - val_loss: 0.2904\n",
      "Epoch 10/10\n",
      "\u001b[1m757/757\u001b[0m \u001b[32m━━━━━━━━━━━━━━━━━━━━\u001b[0m\u001b[37m\u001b[0m \u001b[1m2s\u001b[0m 2ms/step - accuracy: 0.9909 - loss: 0.2892 - val_accuracy: 0.9619 - val_loss: 0.4185\n",
      "\u001b[1m379/379\u001b[0m \u001b[32m━━━━━━━━━━━━━━━━━━━━\u001b[0m\u001b[37m\u001b[0m \u001b[1m0s\u001b[0m 892us/step\n",
      "\n",
      "🏆 Training Results:\n",
      "🔹 Accuracy: 0.9683\n",
      "🔹 Precision: 0.9634\n",
      "🔹 Recall: 0.9643\n",
      "🔹 F1_score: 0.9638\n",
      "\n",
      "📂 Fold 4\n",
      "\n",
      "🚀 Training Simple NN Model with dense_units = 128, dropout_rate = 0.5 🚀\n",
      "\n",
      "Epoch 1/10\n"
     ]
    },
    {
     "name": "stderr",
     "output_type": "stream",
     "text": [
      "/home/dariusng2103/projects/dm_project/fake-news/lib/python3.10/site-packages/keras/src/layers/core/embedding.py:90: UserWarning: Argument `input_length` is deprecated. Just remove it.\n",
      "  warnings.warn(\n"
     ]
    },
    {
     "name": "stdout",
     "output_type": "stream",
     "text": [
      "\u001b[1m757/757\u001b[0m \u001b[32m━━━━━━━━━━━━━━━━━━━━\u001b[0m\u001b[37m\u001b[0m \u001b[1m4s\u001b[0m 3ms/step - accuracy: 0.8682 - loss: 0.7814 - val_accuracy: 0.9552 - val_loss: 0.3774\n",
      "Epoch 2/10\n",
      "\u001b[1m757/757\u001b[0m \u001b[32m━━━━━━━━━━━━━━━━━━━━\u001b[0m\u001b[37m\u001b[0m \u001b[1m2s\u001b[0m 2ms/step - accuracy: 0.9713 - loss: 0.3483 - val_accuracy: 0.9616 - val_loss: 0.3503\n",
      "Epoch 3/10\n",
      "\u001b[1m757/757\u001b[0m \u001b[32m━━━━━━━━━━━━━━━━━━━━\u001b[0m\u001b[37m\u001b[0m \u001b[1m1s\u001b[0m 2ms/step - accuracy: 0.9792 - loss: 0.3202 - val_accuracy: 0.9634 - val_loss: 0.3563\n",
      "Epoch 4/10\n",
      "\u001b[1m757/757\u001b[0m \u001b[32m━━━━━━━━━━━━━━━━━━━━\u001b[0m\u001b[37m\u001b[0m \u001b[1m2s\u001b[0m 2ms/step - accuracy: 0.9827 - loss: 0.3177 - val_accuracy: 0.9583 - val_loss: 0.4026\n",
      "Epoch 5/10\n",
      "\u001b[1m757/757\u001b[0m \u001b[32m━━━━━━━━━━━━━━━━━━━━\u001b[0m\u001b[37m\u001b[0m \u001b[1m1s\u001b[0m 2ms/step - accuracy: 0.9850 - loss: 0.3126 - val_accuracy: 0.9638 - val_loss: 0.3334\n",
      "Epoch 6/10\n",
      "\u001b[1m757/757\u001b[0m \u001b[32m━━━━━━━━━━━━━━━━━━━━\u001b[0m\u001b[37m\u001b[0m \u001b[1m1s\u001b[0m 2ms/step - accuracy: 0.9874 - loss: 0.2841 - val_accuracy: 0.9621 - val_loss: 0.3553\n",
      "Epoch 7/10\n",
      "\u001b[1m757/757\u001b[0m \u001b[32m━━━━━━━━━━━━━━━━━━━━\u001b[0m\u001b[37m\u001b[0m \u001b[1m2s\u001b[0m 2ms/step - accuracy: 0.9884 - loss: 0.2947 - val_accuracy: 0.9643 - val_loss: 0.3011\n",
      "Epoch 8/10\n",
      "\u001b[1m757/757\u001b[0m \u001b[32m━━━━━━━━━━━━━━━━━━━━\u001b[0m\u001b[37m\u001b[0m \u001b[1m2s\u001b[0m 2ms/step - accuracy: 0.9897 - loss: 0.2742 - val_accuracy: 0.9672 - val_loss: 0.3616\n",
      "Epoch 9/10\n",
      "\u001b[1m757/757\u001b[0m \u001b[32m━━━━━━━━━━━━━━━━━━━━\u001b[0m\u001b[37m\u001b[0m \u001b[1m1s\u001b[0m 2ms/step - accuracy: 0.9895 - loss: 0.2763 - val_accuracy: 0.9607 - val_loss: 0.3210\n",
      "Epoch 10/10\n",
      "\u001b[1m757/757\u001b[0m \u001b[32m━━━━━━━━━━━━━━━━━━━━\u001b[0m\u001b[37m\u001b[0m \u001b[1m2s\u001b[0m 2ms/step - accuracy: 0.9908 - loss: 0.2716 - val_accuracy: 0.9663 - val_loss: 0.3123\n",
      "\u001b[1m379/379\u001b[0m \u001b[32m━━━━━━━━━━━━━━━━━━━━\u001b[0m\u001b[37m\u001b[0m \u001b[1m0s\u001b[0m 865us/step\n",
      "\n",
      "🏆 Training Results:\n",
      "🔹 Accuracy: 0.9643\n",
      "🔹 Precision: 0.9525\n",
      "🔹 Recall: 0.9666\n",
      "🔹 F1_score: 0.9595\n",
      "\n",
      "📂 Fold 5\n",
      "\n",
      "🚀 Training Simple NN Model with dense_units = 128, dropout_rate = 0.5 🚀\n",
      "\n",
      "Epoch 1/10\n"
     ]
    },
    {
     "name": "stderr",
     "output_type": "stream",
     "text": [
      "/home/dariusng2103/projects/dm_project/fake-news/lib/python3.10/site-packages/keras/src/layers/core/embedding.py:90: UserWarning: Argument `input_length` is deprecated. Just remove it.\n",
      "  warnings.warn(\n"
     ]
    },
    {
     "name": "stdout",
     "output_type": "stream",
     "text": [
      "\u001b[1m757/757\u001b[0m \u001b[32m━━━━━━━━━━━━━━━━━━━━\u001b[0m\u001b[37m\u001b[0m \u001b[1m4s\u001b[0m 4ms/step - accuracy: 0.8549 - loss: 0.7663 - val_accuracy: 0.9597 - val_loss: 0.3513\n",
      "Epoch 2/10\n",
      "\u001b[1m757/757\u001b[0m \u001b[32m━━━━━━━━━━━━━━━━━━━━\u001b[0m\u001b[37m\u001b[0m \u001b[1m2s\u001b[0m 2ms/step - accuracy: 0.9701 - loss: 0.3482 - val_accuracy: 0.9578 - val_loss: 0.3769\n",
      "Epoch 3/10\n",
      "\u001b[1m757/757\u001b[0m \u001b[32m━━━━━━━━━━━━━━━━━━━━\u001b[0m\u001b[37m\u001b[0m \u001b[1m1s\u001b[0m 2ms/step - accuracy: 0.9804 - loss: 0.3202 - val_accuracy: 0.9551 - val_loss: 0.3755\n",
      "Epoch 4/10\n",
      "\u001b[1m757/757\u001b[0m \u001b[32m━━━━━━━━━━━━━━━━━━━━\u001b[0m\u001b[37m\u001b[0m \u001b[1m2s\u001b[0m 2ms/step - accuracy: 0.9864 - loss: 0.3003 - val_accuracy: 0.9610 - val_loss: 0.3153\n",
      "Epoch 5/10\n",
      "\u001b[1m757/757\u001b[0m \u001b[32m━━━━━━━━━━━━━━━━━━━━\u001b[0m\u001b[37m\u001b[0m \u001b[1m1s\u001b[0m 2ms/step - accuracy: 0.9869 - loss: 0.2840 - val_accuracy: 0.9646 - val_loss: 0.3200\n",
      "Epoch 6/10\n",
      "\u001b[1m757/757\u001b[0m \u001b[32m━━━━━━━━━━━━━━━━━━━━\u001b[0m\u001b[37m\u001b[0m \u001b[1m1s\u001b[0m 2ms/step - accuracy: 0.9879 - loss: 0.2900 - val_accuracy: 0.9594 - val_loss: 0.3775\n",
      "Epoch 7/10\n",
      "\u001b[1m757/757\u001b[0m \u001b[32m━━━━━━━━━━━━━━━━━━━━\u001b[0m\u001b[37m\u001b[0m \u001b[1m2s\u001b[0m 2ms/step - accuracy: 0.9890 - loss: 0.2859 - val_accuracy: 0.9615 - val_loss: 0.4291\n",
      "\u001b[1m379/379\u001b[0m \u001b[32m━━━━━━━━━━━━━━━━━━━━\u001b[0m\u001b[37m\u001b[0m \u001b[1m0s\u001b[0m 846us/step\n",
      "\n",
      "🏆 Training Results:\n",
      "🔹 Accuracy: 0.9610\n",
      "🔹 Precision: 0.9510\n",
      "🔹 Recall: 0.9603\n",
      "🔹 F1_score: 0.9556\n",
      "📊 Average F1-score: 0.9594\n",
      "CPU times: user 7min 39s, sys: 57.4 s, total: 8min 36s\n",
      "Wall time: 8min 39s\n"
     ]
    }
   ],
   "source": [
    "%%time\n",
    "best_params = do_grid_search(data)\n"
   ]
  },
  {
   "cell_type": "code",
   "execution_count": 29,
   "metadata": {},
   "outputs": [
    {
     "name": "stdout",
     "output_type": "stream",
     "text": [
      "\n",
      "🚀 Training Simple NN Model with dense_units = 64, dropout_rate = 0.5 🚀\n",
      "\n",
      "Epoch 1/10\n"
     ]
    },
    {
     "name": "stderr",
     "output_type": "stream",
     "text": [
      "/home/dariusng2103/projects/dm_project/fake-news/lib/python3.10/site-packages/keras/src/layers/core/embedding.py:90: UserWarning: Argument `input_length` is deprecated. Just remove it.\n",
      "  warnings.warn(\n"
     ]
    },
    {
     "name": "stdout",
     "output_type": "stream",
     "text": [
      "\u001b[1m851/851\u001b[0m \u001b[32m━━━━━━━━━━━━━━━━━━━━\u001b[0m\u001b[37m\u001b[0m \u001b[1m4s\u001b[0m 3ms/step - accuracy: 0.8594 - loss: 0.7258 - val_accuracy: 0.9608 - val_loss: 0.3820\n",
      "Epoch 2/10\n",
      "\u001b[1m851/851\u001b[0m \u001b[32m━━━━━━━━━━━━━━━━━━━━\u001b[0m\u001b[37m\u001b[0m \u001b[1m2s\u001b[0m 2ms/step - accuracy: 0.9695 - loss: 0.3525 - val_accuracy: 0.9661 - val_loss: 0.3296\n",
      "Epoch 3/10\n",
      "\u001b[1m851/851\u001b[0m \u001b[32m━━━━━━━━━━━━━━━━━━━━\u001b[0m\u001b[37m\u001b[0m \u001b[1m2s\u001b[0m 2ms/step - accuracy: 0.9794 - loss: 0.3261 - val_accuracy: 0.9658 - val_loss: 0.3540\n",
      "Epoch 4/10\n",
      "\u001b[1m851/851\u001b[0m \u001b[32m━━━━━━━━━━━━━━━━━━━━\u001b[0m\u001b[37m\u001b[0m \u001b[1m2s\u001b[0m 2ms/step - accuracy: 0.9836 - loss: 0.3194 - val_accuracy: 0.9612 - val_loss: 0.3732\n",
      "Epoch 5/10\n",
      "\u001b[1m851/851\u001b[0m \u001b[32m━━━━━━━━━━━━━━━━━━━━\u001b[0m\u001b[37m\u001b[0m \u001b[1m2s\u001b[0m 2ms/step - accuracy: 0.9861 - loss: 0.3159 - val_accuracy: 0.9655 - val_loss: 0.3417\n",
      "\u001b[1m190/190\u001b[0m \u001b[32m━━━━━━━━━━━━━━━━━━━━\u001b[0m\u001b[37m\u001b[0m \u001b[1m0s\u001b[0m 1ms/step\n",
      "\n",
      "🏆 Training Results:\n",
      "🔹 Accuracy: 0.9661\n",
      "🔹 Precision: 0.9653\n",
      "🔹 Recall: 0.9569\n",
      "🔹 F1_score: 0.9611\n",
      "CPU times: user 22.5 s, sys: 2.26 s, total: 24.8 s\n",
      "Wall time: 24.7 s\n"
     ]
    }
   ],
   "source": [
    "%%time\n",
    "model = train_model(train_data, val_data, dense_units=best_params[\"dense_units\"], dropout_rate=best_params[\"dropout_rate\"])\n"
   ]
  },
  {
   "cell_type": "code",
   "execution_count": 30,
   "metadata": {},
   "outputs": [],
   "source": [
    "model.save(\"results/NN_model_original.keras\")"
   ]
  },
  {
   "cell_type": "code",
   "execution_count": 31,
   "metadata": {},
   "outputs": [
    {
     "data": {
      "text/html": [
       "<pre style=\"white-space:pre;overflow-x:auto;line-height:normal;font-family:Menlo,'DejaVu Sans Mono',consolas,'Courier New',monospace\"><span style=\"font-weight: bold\">Model: \"sequential_41\"</span>\n",
       "</pre>\n"
      ],
      "text/plain": [
       "\u001b[1mModel: \"sequential_41\"\u001b[0m\n"
      ]
     },
     "metadata": {},
     "output_type": "display_data"
    },
    {
     "data": {
      "text/html": [
       "<pre style=\"white-space:pre;overflow-x:auto;line-height:normal;font-family:Menlo,'DejaVu Sans Mono',consolas,'Courier New',monospace\">┏━━━━━━━━━━━━━━━━━━━━━━━━━━━━━━━━━┳━━━━━━━━━━━━━━━━━━━━━━━━┳━━━━━━━━━━━━━━━┓\n",
       "┃<span style=\"font-weight: bold\"> Layer (type)                    </span>┃<span style=\"font-weight: bold\"> Output Shape           </span>┃<span style=\"font-weight: bold\">       Param # </span>┃\n",
       "┡━━━━━━━━━━━━━━━━━━━━━━━━━━━━━━━━━╇━━━━━━━━━━━━━━━━━━━━━━━━╇━━━━━━━━━━━━━━━┩\n",
       "│ embedding_41 (<span style=\"color: #0087ff; text-decoration-color: #0087ff\">Embedding</span>)        │ (<span style=\"color: #00d7ff; text-decoration-color: #00d7ff\">None</span>, <span style=\"color: #00af00; text-decoration-color: #00af00\">300</span>, <span style=\"color: #00af00; text-decoration-color: #00af00\">128</span>)       │     <span style=\"color: #00af00; text-decoration-color: #00af00\">1,280,000</span> │\n",
       "├─────────────────────────────────┼────────────────────────┼───────────────┤\n",
       "│ flatten_41 (<span style=\"color: #0087ff; text-decoration-color: #0087ff\">Flatten</span>)            │ (<span style=\"color: #00d7ff; text-decoration-color: #00d7ff\">None</span>, <span style=\"color: #00af00; text-decoration-color: #00af00\">38400</span>)          │             <span style=\"color: #00af00; text-decoration-color: #00af00\">0</span> │\n",
       "├─────────────────────────────────┼────────────────────────┼───────────────┤\n",
       "│ dense_123 (<span style=\"color: #0087ff; text-decoration-color: #0087ff\">Dense</span>)               │ (<span style=\"color: #00d7ff; text-decoration-color: #00d7ff\">None</span>, <span style=\"color: #00af00; text-decoration-color: #00af00\">64</span>)             │     <span style=\"color: #00af00; text-decoration-color: #00af00\">2,457,664</span> │\n",
       "├─────────────────────────────────┼────────────────────────┼───────────────┤\n",
       "│ dropout_82 (<span style=\"color: #0087ff; text-decoration-color: #0087ff\">Dropout</span>)            │ (<span style=\"color: #00d7ff; text-decoration-color: #00d7ff\">None</span>, <span style=\"color: #00af00; text-decoration-color: #00af00\">64</span>)             │             <span style=\"color: #00af00; text-decoration-color: #00af00\">0</span> │\n",
       "├─────────────────────────────────┼────────────────────────┼───────────────┤\n",
       "│ dense_124 (<span style=\"color: #0087ff; text-decoration-color: #0087ff\">Dense</span>)               │ (<span style=\"color: #00d7ff; text-decoration-color: #00d7ff\">None</span>, <span style=\"color: #00af00; text-decoration-color: #00af00\">32</span>)             │         <span style=\"color: #00af00; text-decoration-color: #00af00\">2,080</span> │\n",
       "├─────────────────────────────────┼────────────────────────┼───────────────┤\n",
       "│ dropout_83 (<span style=\"color: #0087ff; text-decoration-color: #0087ff\">Dropout</span>)            │ (<span style=\"color: #00d7ff; text-decoration-color: #00d7ff\">None</span>, <span style=\"color: #00af00; text-decoration-color: #00af00\">32</span>)             │             <span style=\"color: #00af00; text-decoration-color: #00af00\">0</span> │\n",
       "├─────────────────────────────────┼────────────────────────┼───────────────┤\n",
       "│ dense_125 (<span style=\"color: #0087ff; text-decoration-color: #0087ff\">Dense</span>)               │ (<span style=\"color: #00d7ff; text-decoration-color: #00d7ff\">None</span>, <span style=\"color: #00af00; text-decoration-color: #00af00\">1</span>)              │            <span style=\"color: #00af00; text-decoration-color: #00af00\">33</span> │\n",
       "└─────────────────────────────────┴────────────────────────┴───────────────┘\n",
       "</pre>\n"
      ],
      "text/plain": [
       "┏━━━━━━━━━━━━━━━━━━━━━━━━━━━━━━━━━┳━━━━━━━━━━━━━━━━━━━━━━━━┳━━━━━━━━━━━━━━━┓\n",
       "┃\u001b[1m \u001b[0m\u001b[1mLayer (type)                   \u001b[0m\u001b[1m \u001b[0m┃\u001b[1m \u001b[0m\u001b[1mOutput Shape          \u001b[0m\u001b[1m \u001b[0m┃\u001b[1m \u001b[0m\u001b[1m      Param #\u001b[0m\u001b[1m \u001b[0m┃\n",
       "┡━━━━━━━━━━━━━━━━━━━━━━━━━━━━━━━━━╇━━━━━━━━━━━━━━━━━━━━━━━━╇━━━━━━━━━━━━━━━┩\n",
       "│ embedding_41 (\u001b[38;5;33mEmbedding\u001b[0m)        │ (\u001b[38;5;45mNone\u001b[0m, \u001b[38;5;34m300\u001b[0m, \u001b[38;5;34m128\u001b[0m)       │     \u001b[38;5;34m1,280,000\u001b[0m │\n",
       "├─────────────────────────────────┼────────────────────────┼───────────────┤\n",
       "│ flatten_41 (\u001b[38;5;33mFlatten\u001b[0m)            │ (\u001b[38;5;45mNone\u001b[0m, \u001b[38;5;34m38400\u001b[0m)          │             \u001b[38;5;34m0\u001b[0m │\n",
       "├─────────────────────────────────┼────────────────────────┼───────────────┤\n",
       "│ dense_123 (\u001b[38;5;33mDense\u001b[0m)               │ (\u001b[38;5;45mNone\u001b[0m, \u001b[38;5;34m64\u001b[0m)             │     \u001b[38;5;34m2,457,664\u001b[0m │\n",
       "├─────────────────────────────────┼────────────────────────┼───────────────┤\n",
       "│ dropout_82 (\u001b[38;5;33mDropout\u001b[0m)            │ (\u001b[38;5;45mNone\u001b[0m, \u001b[38;5;34m64\u001b[0m)             │             \u001b[38;5;34m0\u001b[0m │\n",
       "├─────────────────────────────────┼────────────────────────┼───────────────┤\n",
       "│ dense_124 (\u001b[38;5;33mDense\u001b[0m)               │ (\u001b[38;5;45mNone\u001b[0m, \u001b[38;5;34m32\u001b[0m)             │         \u001b[38;5;34m2,080\u001b[0m │\n",
       "├─────────────────────────────────┼────────────────────────┼───────────────┤\n",
       "│ dropout_83 (\u001b[38;5;33mDropout\u001b[0m)            │ (\u001b[38;5;45mNone\u001b[0m, \u001b[38;5;34m32\u001b[0m)             │             \u001b[38;5;34m0\u001b[0m │\n",
       "├─────────────────────────────────┼────────────────────────┼───────────────┤\n",
       "│ dense_125 (\u001b[38;5;33mDense\u001b[0m)               │ (\u001b[38;5;45mNone\u001b[0m, \u001b[38;5;34m1\u001b[0m)              │            \u001b[38;5;34m33\u001b[0m │\n",
       "└─────────────────────────────────┴────────────────────────┴───────────────┘\n"
      ]
     },
     "metadata": {},
     "output_type": "display_data"
    },
    {
     "data": {
      "text/html": [
       "<pre style=\"white-space:pre;overflow-x:auto;line-height:normal;font-family:Menlo,'DejaVu Sans Mono',consolas,'Courier New',monospace\"><span style=\"font-weight: bold\"> Total params: </span><span style=\"color: #00af00; text-decoration-color: #00af00\">11,219,333</span> (42.80 MB)\n",
       "</pre>\n"
      ],
      "text/plain": [
       "\u001b[1m Total params: \u001b[0m\u001b[38;5;34m11,219,333\u001b[0m (42.80 MB)\n"
      ]
     },
     "metadata": {},
     "output_type": "display_data"
    },
    {
     "data": {
      "text/html": [
       "<pre style=\"white-space:pre;overflow-x:auto;line-height:normal;font-family:Menlo,'DejaVu Sans Mono',consolas,'Courier New',monospace\"><span style=\"font-weight: bold\"> Trainable params: </span><span style=\"color: #00af00; text-decoration-color: #00af00\">3,739,777</span> (14.27 MB)\n",
       "</pre>\n"
      ],
      "text/plain": [
       "\u001b[1m Trainable params: \u001b[0m\u001b[38;5;34m3,739,777\u001b[0m (14.27 MB)\n"
      ]
     },
     "metadata": {},
     "output_type": "display_data"
    },
    {
     "data": {
      "text/html": [
       "<pre style=\"white-space:pre;overflow-x:auto;line-height:normal;font-family:Menlo,'DejaVu Sans Mono',consolas,'Courier New',monospace\"><span style=\"font-weight: bold\"> Non-trainable params: </span><span style=\"color: #00af00; text-decoration-color: #00af00\">0</span> (0.00 B)\n",
       "</pre>\n"
      ],
      "text/plain": [
       "\u001b[1m Non-trainable params: \u001b[0m\u001b[38;5;34m0\u001b[0m (0.00 B)\n"
      ]
     },
     "metadata": {},
     "output_type": "display_data"
    },
    {
     "data": {
      "text/html": [
       "<pre style=\"white-space:pre;overflow-x:auto;line-height:normal;font-family:Menlo,'DejaVu Sans Mono',consolas,'Courier New',monospace\"><span style=\"font-weight: bold\"> Optimizer params: </span><span style=\"color: #00af00; text-decoration-color: #00af00\">7,479,556</span> (28.53 MB)\n",
       "</pre>\n"
      ],
      "text/plain": [
       "\u001b[1m Optimizer params: \u001b[0m\u001b[38;5;34m7,479,556\u001b[0m (28.53 MB)\n"
      ]
     },
     "metadata": {},
     "output_type": "display_data"
    }
   ],
   "source": [
    "# load model\n",
    "from tensorflow.keras.models import load_model\n",
    "\n",
    "model2 = load_model(\"results/NN_model_original.keras\")\n",
    "model2.summary()"
   ]
  },
  {
   "cell_type": "code",
   "execution_count": 38,
   "metadata": {},
   "outputs": [
    {
     "name": "stdout",
     "output_type": "stream",
     "text": [
      "📊 Evaluating Model...\n",
      "\u001b[1m190/190\u001b[0m \u001b[32m━━━━━━━━━━━━━━━━━━━━\u001b[0m\u001b[37m\u001b[0m \u001b[1m0s\u001b[0m 1ms/step\n",
      "Accuracy: 0.9661\n",
      "Precision: 0.9653\n",
      "Recall: 0.9569\n",
      "F1: 0.9611\n",
      "CPU times: user 8.37 s, sys: 38.9 ms, total: 8.41 s\n",
      "Wall time: 8.31 s\n"
     ]
    }
   ],
   "source": [
    "%%time\n",
    "evaluate_model(model, train_data, val_data)"
   ]
  },
  {
   "cell_type": "code",
   "execution_count": 39,
   "metadata": {},
   "outputs": [
    {
     "name": "stdout",
     "output_type": "stream",
     "text": [
      "📊 Evaluating Model...\n",
      "\u001b[1m190/190\u001b[0m \u001b[32m━━━━━━━━━━━━━━━━━━━━\u001b[0m\u001b[37m\u001b[0m \u001b[1m0s\u001b[0m 1ms/step\n",
      "Accuracy: 0.9661\n",
      "Precision: 0.9653\n",
      "Recall: 0.9569\n",
      "F1: 0.9611\n",
      "CPU times: user 8.28 s, sys: 39.3 ms, total: 8.32 s\n",
      "Wall time: 8.35 s\n"
     ]
    }
   ],
   "source": [
    "%%time\n",
    "evaluate_model(model2, train_data, val_data)"
   ]
  },
  {
   "cell_type": "code",
   "execution_count": 34,
   "metadata": {},
   "outputs": [
    {
     "name": "stdout",
     "output_type": "stream",
     "text": [
      "<class 'pandas.core.frame.DataFrame'>\n",
      "RangeIndex: 120982 entries, 0 to 120981\n",
      "Data columns (total 3 columns):\n",
      " #   Column                  Non-Null Count   Dtype \n",
      "---  ------                  --------------   ----- \n",
      " 0   label                   120982 non-null  int64 \n",
      " 1   full_content            120982 non-null  object\n",
      " 2   processed_full_content  120982 non-null  object\n",
      "dtypes: int64(1), object(2)\n",
      "memory usage: 2.8+ MB\n"
     ]
    }
   ],
   "source": [
    "val_data_rewritten = datasets[\"rewritten_test\"].to_pandas()\n",
    "train_data_rewritten = datasets[\"rewritten_train\"].to_pandas()\n",
    "data_rewritten = pd.concat([train_data, train_data_rewritten, val_data, val_data_rewritten], ignore_index=True)\n",
    "data_rewritten.info()"
   ]
  },
  {
   "cell_type": "code",
   "execution_count": 35,
   "metadata": {},
   "outputs": [
    {
     "name": "stdout",
     "output_type": "stream",
     "text": [
      "📊 Evaluating Model...\n",
      "\u001b[1m190/190\u001b[0m \u001b[32m━━━━━━━━━━━━━━━━━━━━\u001b[0m\u001b[37m\u001b[0m \u001b[1m0s\u001b[0m 1ms/step\n",
      "Accuracy: 0.8230\n",
      "Precision: 0.8807\n",
      "Recall: 0.6887\n",
      "F1: 0.7729\n",
      "CPU times: user 8.39 s, sys: 56.3 ms, total: 8.44 s\n",
      "Wall time: 8.47 s\n"
     ]
    }
   ],
   "source": [
    "%%time\n",
    "\n",
    "evaluate_model(model, train_data, val_data_rewritten)"
   ]
  },
  {
   "cell_type": "code",
   "execution_count": 36,
   "metadata": {},
   "outputs": [
    {
     "name": "stdout",
     "output_type": "stream",
     "text": [
      "📊 Evaluating Model...\n",
      "\u001b[1m190/190\u001b[0m \u001b[32m━━━━━━━━━━━━━━━━━━━━\u001b[0m\u001b[37m\u001b[0m \u001b[1m0s\u001b[0m 2ms/step\n",
      "Accuracy: 0.8230\n",
      "Precision: 0.8807\n",
      "Recall: 0.6887\n",
      "F1: 0.7729\n",
      "CPU times: user 8.32 s, sys: 4.32 ms, total: 8.32 s\n",
      "Wall time: 8.35 s\n"
     ]
    }
   ],
   "source": [
    "%%time\n",
    "\n",
    "evaluate_model(model2, train_data, val_data_rewritten)"
   ]
  },
  {
   "cell_type": "code",
   "execution_count": 37,
   "metadata": {},
   "outputs": [
    {
     "name": "stdout",
     "output_type": "stream",
     "text": [
      "\n",
      "🔍 Testing dense_units=64, dropout_rate=0.3\n",
      "\n",
      "📂 Fold 1\n",
      "\n",
      "🚀 Training Simple NN Model with dense_units = 64, dropout_rate = 0.3 🚀\n",
      "\n",
      "Epoch 1/10\n"
     ]
    },
    {
     "name": "stderr",
     "output_type": "stream",
     "text": [
      "/home/dariusng2103/projects/dm_project/fake-news/lib/python3.10/site-packages/keras/src/layers/core/embedding.py:90: UserWarning: Argument `input_length` is deprecated. Just remove it.\n",
      "  warnings.warn(\n"
     ]
    },
    {
     "name": "stdout",
     "output_type": "stream",
     "text": [
      "\u001b[1m1513/1513\u001b[0m \u001b[32m━━━━━━━━━━━━━━━━━━━━\u001b[0m\u001b[37m\u001b[0m \u001b[1m5s\u001b[0m 3ms/step - accuracy: 0.8442 - loss: 0.7573 - val_accuracy: 0.9090 - val_loss: 0.4727\n",
      "Epoch 2/10\n",
      "\u001b[1m1513/1513\u001b[0m \u001b[32m━━━━━━━━━━━━━━━━━━━━\u001b[0m\u001b[37m\u001b[0m \u001b[1m3s\u001b[0m 2ms/step - accuracy: 0.9355 - loss: 0.4710 - val_accuracy: 0.9319 - val_loss: 0.4438\n",
      "Epoch 3/10\n",
      "\u001b[1m1513/1513\u001b[0m \u001b[32m━━━━━━━━━━━━━━━━━━━━\u001b[0m\u001b[37m\u001b[0m \u001b[1m3s\u001b[0m 2ms/step - accuracy: 0.9508 - loss: 0.4812 - val_accuracy: 0.9226 - val_loss: 0.5747\n",
      "Epoch 4/10\n",
      "\u001b[1m1513/1513\u001b[0m \u001b[32m━━━━━━━━━━━━━━━━━━━━\u001b[0m\u001b[37m\u001b[0m \u001b[1m3s\u001b[0m 2ms/step - accuracy: 0.9626 - loss: 0.4818 - val_accuracy: 0.9299 - val_loss: 0.5354\n",
      "Epoch 5/10\n",
      "\u001b[1m1513/1513\u001b[0m \u001b[32m━━━━━━━━━━━━━━━━━━━━\u001b[0m\u001b[37m\u001b[0m \u001b[1m3s\u001b[0m 2ms/step - accuracy: 0.9677 - loss: 0.4858 - val_accuracy: 0.9332 - val_loss: 0.5583\n",
      "\u001b[1m757/757\u001b[0m \u001b[32m━━━━━━━━━━━━━━━━━━━━\u001b[0m\u001b[37m\u001b[0m \u001b[1m1s\u001b[0m 754us/step\n",
      "\n",
      "🏆 Training Results:\n",
      "🔹 Accuracy: 0.9319\n",
      "🔹 Precision: 0.9424\n",
      "🔹 Recall: 0.8992\n",
      "🔹 F1_score: 0.9203\n",
      "\n",
      "📂 Fold 2\n",
      "\n",
      "🚀 Training Simple NN Model with dense_units = 64, dropout_rate = 0.3 🚀\n",
      "\n",
      "Epoch 1/10\n"
     ]
    },
    {
     "name": "stderr",
     "output_type": "stream",
     "text": [
      "/home/dariusng2103/projects/dm_project/fake-news/lib/python3.10/site-packages/keras/src/layers/core/embedding.py:90: UserWarning: Argument `input_length` is deprecated. Just remove it.\n",
      "  warnings.warn(\n"
     ]
    },
    {
     "name": "stdout",
     "output_type": "stream",
     "text": [
      "\u001b[1m1513/1513\u001b[0m \u001b[32m━━━━━━━━━━━━━━━━━━━━\u001b[0m\u001b[37m\u001b[0m \u001b[1m5s\u001b[0m 3ms/step - accuracy: 0.8454 - loss: 0.7193 - val_accuracy: 0.9218 - val_loss: 0.4664\n",
      "Epoch 2/10\n",
      "\u001b[1m1513/1513\u001b[0m \u001b[32m━━━━━━━━━━━━━━━━━━━━\u001b[0m\u001b[37m\u001b[0m \u001b[1m3s\u001b[0m 2ms/step - accuracy: 0.9354 - loss: 0.4657 - val_accuracy: 0.9212 - val_loss: 0.4900\n",
      "Epoch 3/10\n",
      "\u001b[1m1513/1513\u001b[0m \u001b[32m━━━━━━━━━━━━━━━━━━━━\u001b[0m\u001b[37m\u001b[0m \u001b[1m3s\u001b[0m 2ms/step - accuracy: 0.9482 - loss: 0.4713 - val_accuracy: 0.9198 - val_loss: 0.5197\n",
      "Epoch 4/10\n",
      "\u001b[1m1513/1513\u001b[0m \u001b[32m━━━━━━━━━━━━━━━━━━━━\u001b[0m\u001b[37m\u001b[0m \u001b[1m3s\u001b[0m 2ms/step - accuracy: 0.9589 - loss: 0.4797 - val_accuracy: 0.9208 - val_loss: 0.5366\n",
      "\u001b[1m757/757\u001b[0m \u001b[32m━━━━━━━━━━━━━━━━━━━━\u001b[0m\u001b[37m\u001b[0m \u001b[1m1s\u001b[0m 758us/step\n",
      "\n",
      "🏆 Training Results:\n",
      "🔹 Accuracy: 0.9218\n",
      "🔹 Precision: 0.9287\n",
      "🔹 Recall: 0.8896\n",
      "🔹 F1_score: 0.9087\n",
      "\n",
      "📂 Fold 3\n",
      "\n",
      "🚀 Training Simple NN Model with dense_units = 64, dropout_rate = 0.3 🚀\n",
      "\n",
      "Epoch 1/10\n"
     ]
    },
    {
     "name": "stderr",
     "output_type": "stream",
     "text": [
      "/home/dariusng2103/projects/dm_project/fake-news/lib/python3.10/site-packages/keras/src/layers/core/embedding.py:90: UserWarning: Argument `input_length` is deprecated. Just remove it.\n",
      "  warnings.warn(\n"
     ]
    },
    {
     "name": "stdout",
     "output_type": "stream",
     "text": [
      "\u001b[1m1513/1513\u001b[0m \u001b[32m━━━━━━━━━━━━━━━━━━━━\u001b[0m\u001b[37m\u001b[0m \u001b[1m5s\u001b[0m 3ms/step - accuracy: 0.8413 - loss: 0.7104 - val_accuracy: 0.9133 - val_loss: 0.4724\n",
      "Epoch 2/10\n",
      "\u001b[1m1513/1513\u001b[0m \u001b[32m━━━━━━━━━━━━━━━━━━━━\u001b[0m\u001b[37m\u001b[0m \u001b[1m3s\u001b[0m 2ms/step - accuracy: 0.9349 - loss: 0.4627 - val_accuracy: 0.9235 - val_loss: 0.4769\n",
      "Epoch 3/10\n",
      "\u001b[1m1513/1513\u001b[0m \u001b[32m━━━━━━━━━━━━━━━━━━━━\u001b[0m\u001b[37m\u001b[0m \u001b[1m3s\u001b[0m 2ms/step - accuracy: 0.9477 - loss: 0.4643 - val_accuracy: 0.9258 - val_loss: 0.5493\n",
      "Epoch 4/10\n",
      "\u001b[1m1513/1513\u001b[0m \u001b[32m━━━━━━━━━━━━━━━━━━━━\u001b[0m\u001b[37m\u001b[0m \u001b[1m3s\u001b[0m 2ms/step - accuracy: 0.9603 - loss: 0.4571 - val_accuracy: 0.9175 - val_loss: 0.5729\n",
      "\u001b[1m757/757\u001b[0m \u001b[32m━━━━━━━━━━━━━━━━━━━━\u001b[0m\u001b[37m\u001b[0m \u001b[1m1s\u001b[0m 765us/step\n",
      "\n",
      "🏆 Training Results:\n",
      "🔹 Accuracy: 0.9133\n",
      "🔹 Precision: 0.8775\n",
      "🔹 Recall: 0.9320\n",
      "🔹 F1_score: 0.9039\n",
      "\n",
      "📂 Fold 4\n",
      "\n",
      "🚀 Training Simple NN Model with dense_units = 64, dropout_rate = 0.3 🚀\n",
      "\n",
      "Epoch 1/10\n"
     ]
    },
    {
     "name": "stderr",
     "output_type": "stream",
     "text": [
      "/home/dariusng2103/projects/dm_project/fake-news/lib/python3.10/site-packages/keras/src/layers/core/embedding.py:90: UserWarning: Argument `input_length` is deprecated. Just remove it.\n",
      "  warnings.warn(\n"
     ]
    },
    {
     "name": "stdout",
     "output_type": "stream",
     "text": [
      "\u001b[1m1513/1513\u001b[0m \u001b[32m━━━━━━━━━━━━━━━━━━━━\u001b[0m\u001b[37m\u001b[0m \u001b[1m5s\u001b[0m 3ms/step - accuracy: 0.8443 - loss: 0.7474 - val_accuracy: 0.9228 - val_loss: 0.4579\n",
      "Epoch 2/10\n",
      "\u001b[1m1513/1513\u001b[0m \u001b[32m━━━━━━━━━━━━━━━━━━━━\u001b[0m\u001b[37m\u001b[0m \u001b[1m3s\u001b[0m 2ms/step - accuracy: 0.9380 - loss: 0.4679 - val_accuracy: 0.9233 - val_loss: 0.4982\n",
      "Epoch 3/10\n",
      "\u001b[1m1513/1513\u001b[0m \u001b[32m━━━━━━━━━━━━━━━━━━━━\u001b[0m\u001b[37m\u001b[0m \u001b[1m3s\u001b[0m 2ms/step - accuracy: 0.9514 - loss: 0.4737 - val_accuracy: 0.9164 - val_loss: 0.5626\n",
      "Epoch 4/10\n",
      "\u001b[1m1513/1513\u001b[0m \u001b[32m━━━━━━━━━━━━━━━━━━━━\u001b[0m\u001b[37m\u001b[0m \u001b[1m3s\u001b[0m 2ms/step - accuracy: 0.9616 - loss: 0.4783 - val_accuracy: 0.9197 - val_loss: 0.5424\n",
      "\u001b[1m757/757\u001b[0m \u001b[32m━━━━━━━━━━━━━━━━━━━━\u001b[0m\u001b[37m\u001b[0m \u001b[1m1s\u001b[0m 736us/step\n",
      "\n",
      "🏆 Training Results:\n",
      "🔹 Accuracy: 0.9228\n",
      "🔹 Precision: 0.8860\n",
      "🔹 Recall: 0.9452\n",
      "🔹 F1_score: 0.9147\n",
      "\n",
      "📂 Fold 5\n",
      "\n",
      "🚀 Training Simple NN Model with dense_units = 64, dropout_rate = 0.3 🚀\n",
      "\n",
      "Epoch 1/10\n"
     ]
    },
    {
     "name": "stderr",
     "output_type": "stream",
     "text": [
      "/home/dariusng2103/projects/dm_project/fake-news/lib/python3.10/site-packages/keras/src/layers/core/embedding.py:90: UserWarning: Argument `input_length` is deprecated. Just remove it.\n",
      "  warnings.warn(\n"
     ]
    },
    {
     "name": "stdout",
     "output_type": "stream",
     "text": [
      "\u001b[1m1513/1513\u001b[0m \u001b[32m━━━━━━━━━━━━━━━━━━━━\u001b[0m\u001b[37m\u001b[0m \u001b[1m5s\u001b[0m 3ms/step - accuracy: 0.8439 - loss: 0.7080 - val_accuracy: 0.9311 - val_loss: 0.4430\n",
      "Epoch 2/10\n",
      "\u001b[1m1513/1513\u001b[0m \u001b[32m━━━━━━━━━━━━━━━━━━━━\u001b[0m\u001b[37m\u001b[0m \u001b[1m3s\u001b[0m 2ms/step - accuracy: 0.9379 - loss: 0.4584 - val_accuracy: 0.9242 - val_loss: 0.4933\n",
      "Epoch 3/10\n",
      "\u001b[1m1513/1513\u001b[0m \u001b[32m━━━━━━━━━━━━━━━━━━━━\u001b[0m\u001b[37m\u001b[0m \u001b[1m3s\u001b[0m 2ms/step - accuracy: 0.9500 - loss: 0.4594 - val_accuracy: 0.9125 - val_loss: 0.5387\n",
      "Epoch 4/10\n",
      "\u001b[1m1513/1513\u001b[0m \u001b[32m━━━━━━━━━━━━━━━━━━━━\u001b[0m\u001b[37m\u001b[0m \u001b[1m3s\u001b[0m 2ms/step - accuracy: 0.9568 - loss: 0.4762 - val_accuracy: 0.9262 - val_loss: 0.5763\n",
      "\u001b[1m757/757\u001b[0m \u001b[32m━━━━━━━━━━━━━━━━━━━━\u001b[0m\u001b[37m\u001b[0m \u001b[1m1s\u001b[0m 734us/step\n",
      "\n",
      "🏆 Training Results:\n",
      "🔹 Accuracy: 0.9311\n",
      "🔹 Precision: 0.9160\n",
      "🔹 Recall: 0.9277\n",
      "🔹 F1_score: 0.9218\n",
      "📊 Average F1-score: 0.9139\n",
      "\n",
      "🔍 Testing dense_units=64, dropout_rate=0.5\n",
      "\n",
      "📂 Fold 1\n",
      "\n",
      "🚀 Training Simple NN Model with dense_units = 64, dropout_rate = 0.5 🚀\n",
      "\n",
      "Epoch 1/10\n"
     ]
    },
    {
     "name": "stderr",
     "output_type": "stream",
     "text": [
      "/home/dariusng2103/projects/dm_project/fake-news/lib/python3.10/site-packages/keras/src/layers/core/embedding.py:90: UserWarning: Argument `input_length` is deprecated. Just remove it.\n",
      "  warnings.warn(\n"
     ]
    },
    {
     "name": "stdout",
     "output_type": "stream",
     "text": [
      "\u001b[1m1513/1513\u001b[0m \u001b[32m━━━━━━━━━━━━━━━━━━━━\u001b[0m\u001b[37m\u001b[0m \u001b[1m5s\u001b[0m 3ms/step - accuracy: 0.8406 - loss: 0.7427 - val_accuracy: 0.9185 - val_loss: 0.4621\n",
      "Epoch 2/10\n",
      "\u001b[1m1513/1513\u001b[0m \u001b[32m━━━━━━━━━━━━━━━━━━━━\u001b[0m\u001b[37m\u001b[0m \u001b[1m3s\u001b[0m 2ms/step - accuracy: 0.9358 - loss: 0.4755 - val_accuracy: 0.9241 - val_loss: 0.5065\n",
      "Epoch 3/10\n",
      "\u001b[1m1513/1513\u001b[0m \u001b[32m━━━━━━━━━━━━━━━━━━━━\u001b[0m\u001b[37m\u001b[0m \u001b[1m3s\u001b[0m 2ms/step - accuracy: 0.9510 - loss: 0.4780 - val_accuracy: 0.9259 - val_loss: 0.5764\n",
      "Epoch 4/10\n",
      "\u001b[1m1513/1513\u001b[0m \u001b[32m━━━━━━━━━━━━━━━━━━━━\u001b[0m\u001b[37m\u001b[0m \u001b[1m3s\u001b[0m 2ms/step - accuracy: 0.9594 - loss: 0.4901 - val_accuracy: 0.9087 - val_loss: 0.5906\n",
      "\u001b[1m757/757\u001b[0m \u001b[32m━━━━━━━━━━━━━━━━━━━━\u001b[0m\u001b[37m\u001b[0m \u001b[1m1s\u001b[0m 731us/step\n",
      "\n",
      "🏆 Training Results:\n",
      "🔹 Accuracy: 0.9185\n",
      "🔹 Precision: 0.9494\n",
      "🔹 Recall: 0.8596\n",
      "🔹 F1_score: 0.9023\n",
      "\n",
      "📂 Fold 2\n",
      "\n",
      "🚀 Training Simple NN Model with dense_units = 64, dropout_rate = 0.5 🚀\n",
      "\n",
      "Epoch 1/10\n"
     ]
    },
    {
     "name": "stderr",
     "output_type": "stream",
     "text": [
      "/home/dariusng2103/projects/dm_project/fake-news/lib/python3.10/site-packages/keras/src/layers/core/embedding.py:90: UserWarning: Argument `input_length` is deprecated. Just remove it.\n",
      "  warnings.warn(\n"
     ]
    },
    {
     "name": "stdout",
     "output_type": "stream",
     "text": [
      "\u001b[1m1513/1513\u001b[0m \u001b[32m━━━━━━━━━━━━━━━━━━━━\u001b[0m\u001b[37m\u001b[0m \u001b[1m5s\u001b[0m 3ms/step - accuracy: 0.8530 - loss: 0.7509 - val_accuracy: 0.9271 - val_loss: 0.4615\n",
      "Epoch 2/10\n",
      "\u001b[1m1513/1513\u001b[0m \u001b[32m━━━━━━━━━━━━━━━━━━━━\u001b[0m\u001b[37m\u001b[0m \u001b[1m3s\u001b[0m 2ms/step - accuracy: 0.9366 - loss: 0.4808 - val_accuracy: 0.9175 - val_loss: 0.5558\n",
      "Epoch 3/10\n",
      "\u001b[1m1513/1513\u001b[0m \u001b[32m━━━━━━━━━━━━━━━━━━━━\u001b[0m\u001b[37m\u001b[0m \u001b[1m3s\u001b[0m 2ms/step - accuracy: 0.9512 - loss: 0.4916 - val_accuracy: 0.9234 - val_loss: 0.5469\n",
      "Epoch 4/10\n",
      "\u001b[1m1513/1513\u001b[0m \u001b[32m━━━━━━━━━━━━━━━━━━━━\u001b[0m\u001b[37m\u001b[0m \u001b[1m3s\u001b[0m 2ms/step - accuracy: 0.9599 - loss: 0.5065 - val_accuracy: 0.9183 - val_loss: 0.6062\n",
      "\u001b[1m757/757\u001b[0m \u001b[32m━━━━━━━━━━━━━━━━━━━━\u001b[0m\u001b[37m\u001b[0m \u001b[1m1s\u001b[0m 735us/step\n",
      "\n",
      "🏆 Training Results:\n",
      "🔹 Accuracy: 0.9271\n",
      "🔹 Precision: 0.9233\n",
      "🔹 Recall: 0.9089\n",
      "🔹 F1_score: 0.9161\n",
      "\n",
      "📂 Fold 3\n",
      "\n",
      "🚀 Training Simple NN Model with dense_units = 64, dropout_rate = 0.5 🚀\n",
      "\n",
      "Epoch 1/10\n"
     ]
    },
    {
     "name": "stderr",
     "output_type": "stream",
     "text": [
      "/home/dariusng2103/projects/dm_project/fake-news/lib/python3.10/site-packages/keras/src/layers/core/embedding.py:90: UserWarning: Argument `input_length` is deprecated. Just remove it.\n",
      "  warnings.warn(\n"
     ]
    },
    {
     "name": "stdout",
     "output_type": "stream",
     "text": [
      "\u001b[1m1513/1513\u001b[0m \u001b[32m━━━━━━━━━━━━━━━━━━━━\u001b[0m\u001b[37m\u001b[0m \u001b[1m5s\u001b[0m 3ms/step - accuracy: 0.8361 - loss: 0.7195 - val_accuracy: 0.9218 - val_loss: 0.4596\n",
      "Epoch 2/10\n",
      "\u001b[1m1513/1513\u001b[0m \u001b[32m━━━━━━━━━━━━━━━━━━━━\u001b[0m\u001b[37m\u001b[0m \u001b[1m3s\u001b[0m 2ms/step - accuracy: 0.9346 - loss: 0.4675 - val_accuracy: 0.9214 - val_loss: 0.5003\n",
      "Epoch 3/10\n",
      "\u001b[1m1513/1513\u001b[0m \u001b[32m━━━━━━━━━━━━━━━━━━━━\u001b[0m\u001b[37m\u001b[0m \u001b[1m3s\u001b[0m 2ms/step - accuracy: 0.9486 - loss: 0.4697 - val_accuracy: 0.9266 - val_loss: 0.5244\n",
      "Epoch 4/10\n",
      "\u001b[1m1513/1513\u001b[0m \u001b[32m━━━━━━━━━━━━━━━━━━━━\u001b[0m\u001b[37m\u001b[0m \u001b[1m3s\u001b[0m 2ms/step - accuracy: 0.9580 - loss: 0.4732 - val_accuracy: 0.9227 - val_loss: 0.5634\n",
      "\u001b[1m757/757\u001b[0m \u001b[32m━━━━━━━━━━━━━━━━━━━━\u001b[0m\u001b[37m\u001b[0m \u001b[1m1s\u001b[0m 736us/step\n",
      "\n",
      "🏆 Training Results:\n",
      "🔹 Accuracy: 0.9218\n",
      "🔹 Precision: 0.8987\n",
      "🔹 Recall: 0.9255\n",
      "🔹 F1_score: 0.9119\n",
      "\n",
      "📂 Fold 4\n",
      "\n",
      "🚀 Training Simple NN Model with dense_units = 64, dropout_rate = 0.5 🚀\n",
      "\n",
      "Epoch 1/10\n"
     ]
    },
    {
     "name": "stderr",
     "output_type": "stream",
     "text": [
      "/home/dariusng2103/projects/dm_project/fake-news/lib/python3.10/site-packages/keras/src/layers/core/embedding.py:90: UserWarning: Argument `input_length` is deprecated. Just remove it.\n",
      "  warnings.warn(\n"
     ]
    },
    {
     "name": "stdout",
     "output_type": "stream",
     "text": [
      "\u001b[1m1513/1513\u001b[0m \u001b[32m━━━━━━━━━━━━━━━━━━━━\u001b[0m\u001b[37m\u001b[0m \u001b[1m5s\u001b[0m 3ms/step - accuracy: 0.8494 - loss: 0.7345 - val_accuracy: 0.9251 - val_loss: 0.4506\n",
      "Epoch 2/10\n",
      "\u001b[1m1513/1513\u001b[0m \u001b[32m━━━━━━━━━━━━━━━━━━━━\u001b[0m\u001b[37m\u001b[0m \u001b[1m3s\u001b[0m 2ms/step - accuracy: 0.9369 - loss: 0.4702 - val_accuracy: 0.9258 - val_loss: 0.4694\n",
      "Epoch 3/10\n",
      "\u001b[1m1513/1513\u001b[0m \u001b[32m━━━━━━━━━━━━━━━━━━━━\u001b[0m\u001b[37m\u001b[0m \u001b[1m3s\u001b[0m 2ms/step - accuracy: 0.9509 - loss: 0.4703 - val_accuracy: 0.9300 - val_loss: 0.5389\n",
      "Epoch 4/10\n",
      "\u001b[1m1513/1513\u001b[0m \u001b[32m━━━━━━━━━━━━━━━━━━━━\u001b[0m\u001b[37m\u001b[0m \u001b[1m3s\u001b[0m 2ms/step - accuracy: 0.9619 - loss: 0.4707 - val_accuracy: 0.9161 - val_loss: 0.6122\n",
      "\u001b[1m757/757\u001b[0m \u001b[32m━━━━━━━━━━━━━━━━━━━━\u001b[0m\u001b[37m\u001b[0m \u001b[1m1s\u001b[0m 742us/step\n",
      "\n",
      "🏆 Training Results:\n",
      "🔹 Accuracy: 0.9251\n",
      "🔹 Precision: 0.9015\n",
      "🔹 Recall: 0.9305\n",
      "🔹 F1_score: 0.9158\n",
      "\n",
      "📂 Fold 5\n",
      "\n",
      "🚀 Training Simple NN Model with dense_units = 64, dropout_rate = 0.5 🚀\n",
      "\n",
      "Epoch 1/10\n"
     ]
    },
    {
     "name": "stderr",
     "output_type": "stream",
     "text": [
      "/home/dariusng2103/projects/dm_project/fake-news/lib/python3.10/site-packages/keras/src/layers/core/embedding.py:90: UserWarning: Argument `input_length` is deprecated. Just remove it.\n",
      "  warnings.warn(\n"
     ]
    },
    {
     "name": "stdout",
     "output_type": "stream",
     "text": [
      "\u001b[1m1513/1513\u001b[0m \u001b[32m━━━━━━━━━━━━━━━━━━━━\u001b[0m\u001b[37m\u001b[0m \u001b[1m5s\u001b[0m 3ms/step - accuracy: 0.8553 - loss: 0.7560 - val_accuracy: 0.9256 - val_loss: 0.4449\n",
      "Epoch 2/10\n",
      "\u001b[1m1513/1513\u001b[0m \u001b[32m━━━━━━━━━━━━━━━━━━━━\u001b[0m\u001b[37m\u001b[0m \u001b[1m3s\u001b[0m 2ms/step - accuracy: 0.9367 - loss: 0.4755 - val_accuracy: 0.9215 - val_loss: 0.5291\n",
      "Epoch 3/10\n",
      "\u001b[1m1513/1513\u001b[0m \u001b[32m━━━━━━━━━━━━━━━━━━━━\u001b[0m\u001b[37m\u001b[0m \u001b[1m3s\u001b[0m 2ms/step - accuracy: 0.9503 - loss: 0.4819 - val_accuracy: 0.9307 - val_loss: 0.5311\n",
      "Epoch 4/10\n",
      "\u001b[1m1513/1513\u001b[0m \u001b[32m━━━━━━━━━━━━━━━━━━━━\u001b[0m\u001b[37m\u001b[0m \u001b[1m3s\u001b[0m 2ms/step - accuracy: 0.9615 - loss: 0.4834 - val_accuracy: 0.9266 - val_loss: 0.5715\n",
      "\u001b[1m757/757\u001b[0m \u001b[32m━━━━━━━━━━━━━━━━━━━━\u001b[0m\u001b[37m\u001b[0m \u001b[1m1s\u001b[0m 751us/step\n",
      "\n",
      "🏆 Training Results:\n",
      "🔹 Accuracy: 0.9256\n",
      "🔹 Precision: 0.8983\n",
      "🔹 Recall: 0.9358\n",
      "🔹 F1_score: 0.9167\n",
      "📊 Average F1-score: 0.9125\n",
      "\n",
      "🔍 Testing dense_units=128, dropout_rate=0.3\n",
      "\n",
      "📂 Fold 1\n",
      "\n",
      "🚀 Training Simple NN Model with dense_units = 128, dropout_rate = 0.3 🚀\n",
      "\n",
      "Epoch 1/10\n"
     ]
    },
    {
     "name": "stderr",
     "output_type": "stream",
     "text": [
      "/home/dariusng2103/projects/dm_project/fake-news/lib/python3.10/site-packages/keras/src/layers/core/embedding.py:90: UserWarning: Argument `input_length` is deprecated. Just remove it.\n",
      "  warnings.warn(\n"
     ]
    },
    {
     "name": "stdout",
     "output_type": "stream",
     "text": [
      "\u001b[1m1513/1513\u001b[0m \u001b[32m━━━━━━━━━━━━━━━━━━━━\u001b[0m\u001b[37m\u001b[0m \u001b[1m5s\u001b[0m 3ms/step - accuracy: 0.8501 - loss: 0.7426 - val_accuracy: 0.9257 - val_loss: 0.4558\n",
      "Epoch 2/10\n",
      "\u001b[1m1513/1513\u001b[0m \u001b[32m━━━━━━━━━━━━━━━━━━━━\u001b[0m\u001b[37m\u001b[0m \u001b[1m3s\u001b[0m 2ms/step - accuracy: 0.9373 - loss: 0.4654 - val_accuracy: 0.9226 - val_loss: 0.4939\n",
      "Epoch 3/10\n",
      "\u001b[1m1513/1513\u001b[0m \u001b[32m━━━━━━━━━━━━━━━━━━━━\u001b[0m\u001b[37m\u001b[0m \u001b[1m3s\u001b[0m 2ms/step - accuracy: 0.9512 - loss: 0.4697 - val_accuracy: 0.9266 - val_loss: 0.5595\n",
      "Epoch 4/10\n",
      "\u001b[1m1513/1513\u001b[0m \u001b[32m━━━━━━━━━━━━━━━━━━━━\u001b[0m\u001b[37m\u001b[0m \u001b[1m3s\u001b[0m 2ms/step - accuracy: 0.9608 - loss: 0.4749 - val_accuracy: 0.9305 - val_loss: 0.5221\n",
      "\u001b[1m757/757\u001b[0m \u001b[32m━━━━━━━━━━━━━━━━━━━━\u001b[0m\u001b[37m\u001b[0m \u001b[1m1s\u001b[0m 747us/step\n",
      "\n",
      "🏆 Training Results:\n",
      "🔹 Accuracy: 0.9257\n",
      "🔹 Precision: 0.9481\n",
      "🔹 Recall: 0.8783\n",
      "🔹 F1_score: 0.9119\n",
      "\n",
      "📂 Fold 2\n",
      "\n",
      "🚀 Training Simple NN Model with dense_units = 128, dropout_rate = 0.3 🚀\n",
      "\n",
      "Epoch 1/10\n"
     ]
    },
    {
     "name": "stderr",
     "output_type": "stream",
     "text": [
      "/home/dariusng2103/projects/dm_project/fake-news/lib/python3.10/site-packages/keras/src/layers/core/embedding.py:90: UserWarning: Argument `input_length` is deprecated. Just remove it.\n",
      "  warnings.warn(\n"
     ]
    },
    {
     "name": "stdout",
     "output_type": "stream",
     "text": [
      "\u001b[1m1513/1513\u001b[0m \u001b[32m━━━━━━━━━━━━━━━━━━━━\u001b[0m\u001b[37m\u001b[0m \u001b[1m5s\u001b[0m 3ms/step - accuracy: 0.8385 - loss: 0.7193 - val_accuracy: 0.9233 - val_loss: 0.4584\n",
      "Epoch 2/10\n",
      "\u001b[1m1513/1513\u001b[0m \u001b[32m━━━━━━━━━━━━━━━━━━━━\u001b[0m\u001b[37m\u001b[0m \u001b[1m3s\u001b[0m 2ms/step - accuracy: 0.9351 - loss: 0.4636 - val_accuracy: 0.9261 - val_loss: 0.4819\n",
      "Epoch 3/10\n",
      "\u001b[1m1513/1513\u001b[0m \u001b[32m━━━━━━━━━━━━━━━━━━━━\u001b[0m\u001b[37m\u001b[0m \u001b[1m3s\u001b[0m 2ms/step - accuracy: 0.9486 - loss: 0.4648 - val_accuracy: 0.9154 - val_loss: 0.5188\n",
      "Epoch 4/10\n",
      "\u001b[1m1513/1513\u001b[0m \u001b[32m━━━━━━━━━━━━━━━━━━━━\u001b[0m\u001b[37m\u001b[0m \u001b[1m3s\u001b[0m 2ms/step - accuracy: 0.9599 - loss: 0.4657 - val_accuracy: 0.9187 - val_loss: 0.5935\n",
      "\u001b[1m757/757\u001b[0m \u001b[32m━━━━━━━━━━━━━━━━━━━━\u001b[0m\u001b[37m\u001b[0m \u001b[1m1s\u001b[0m 734us/step\n",
      "\n",
      "🏆 Training Results:\n",
      "🔹 Accuracy: 0.9233\n",
      "🔹 Precision: 0.9358\n",
      "🔹 Recall: 0.8854\n",
      "🔹 F1_score: 0.9099\n",
      "\n",
      "📂 Fold 3\n",
      "\n",
      "🚀 Training Simple NN Model with dense_units = 128, dropout_rate = 0.3 🚀\n",
      "\n",
      "Epoch 1/10\n"
     ]
    },
    {
     "name": "stderr",
     "output_type": "stream",
     "text": [
      "/home/dariusng2103/projects/dm_project/fake-news/lib/python3.10/site-packages/keras/src/layers/core/embedding.py:90: UserWarning: Argument `input_length` is deprecated. Just remove it.\n",
      "  warnings.warn(\n"
     ]
    },
    {
     "name": "stdout",
     "output_type": "stream",
     "text": [
      "\u001b[1m1513/1513\u001b[0m \u001b[32m━━━━━━━━━━━━━━━━━━━━\u001b[0m\u001b[37m\u001b[0m \u001b[1m5s\u001b[0m 3ms/step - accuracy: 0.8508 - loss: 0.7393 - val_accuracy: 0.9192 - val_loss: 0.4914\n",
      "Epoch 2/10\n",
      "\u001b[1m1513/1513\u001b[0m \u001b[32m━━━━━━━━━━━━━━━━━━━━\u001b[0m\u001b[37m\u001b[0m \u001b[1m3s\u001b[0m 2ms/step - accuracy: 0.9376 - loss: 0.4760 - val_accuracy: 0.9210 - val_loss: 0.4938\n",
      "Epoch 3/10\n",
      "\u001b[1m1513/1513\u001b[0m \u001b[32m━━━━━━━━━━━━━━━━━━━━\u001b[0m\u001b[37m\u001b[0m \u001b[1m3s\u001b[0m 2ms/step - accuracy: 0.9511 - loss: 0.4758 - val_accuracy: 0.9244 - val_loss: 0.5284\n",
      "Epoch 4/10\n",
      "\u001b[1m1513/1513\u001b[0m \u001b[32m━━━━━━━━━━━━━━━━━━━━\u001b[0m\u001b[37m\u001b[0m \u001b[1m3s\u001b[0m 2ms/step - accuracy: 0.9584 - loss: 0.4853 - val_accuracy: 0.9124 - val_loss: 0.5713\n",
      "\u001b[1m757/757\u001b[0m \u001b[32m━━━━━━━━━━━━━━━━━━━━\u001b[0m\u001b[37m\u001b[0m \u001b[1m1s\u001b[0m 732us/step\n",
      "\n",
      "🏆 Training Results:\n",
      "🔹 Accuracy: 0.9192\n",
      "🔹 Precision: 0.8831\n",
      "🔹 Recall: 0.9395\n",
      "🔹 F1_score: 0.9105\n",
      "\n",
      "📂 Fold 4\n",
      "\n",
      "🚀 Training Simple NN Model with dense_units = 128, dropout_rate = 0.3 🚀\n",
      "\n",
      "Epoch 1/10\n"
     ]
    },
    {
     "name": "stderr",
     "output_type": "stream",
     "text": [
      "/home/dariusng2103/projects/dm_project/fake-news/lib/python3.10/site-packages/keras/src/layers/core/embedding.py:90: UserWarning: Argument `input_length` is deprecated. Just remove it.\n",
      "  warnings.warn(\n"
     ]
    },
    {
     "name": "stdout",
     "output_type": "stream",
     "text": [
      "\u001b[1m1513/1513\u001b[0m \u001b[32m━━━━━━━━━━━━━━━━━━━━\u001b[0m\u001b[37m\u001b[0m \u001b[1m5s\u001b[0m 3ms/step - accuracy: 0.8432 - loss: 0.7412 - val_accuracy: 0.9262 - val_loss: 0.4565\n",
      "Epoch 2/10\n",
      "\u001b[1m1513/1513\u001b[0m \u001b[32m━━━━━━━━━━━━━━━━━━━━\u001b[0m\u001b[37m\u001b[0m \u001b[1m3s\u001b[0m 2ms/step - accuracy: 0.9374 - loss: 0.4773 - val_accuracy: 0.9181 - val_loss: 0.5260\n",
      "Epoch 3/10\n",
      "\u001b[1m1513/1513\u001b[0m \u001b[32m━━━━━━━━━━━━━━━━━━━━\u001b[0m\u001b[37m\u001b[0m \u001b[1m3s\u001b[0m 2ms/step - accuracy: 0.9511 - loss: 0.4780 - val_accuracy: 0.9229 - val_loss: 0.5691\n",
      "Epoch 4/10\n",
      "\u001b[1m1513/1513\u001b[0m \u001b[32m━━━━━━━━━━━━━━━━━━━━\u001b[0m\u001b[37m\u001b[0m \u001b[1m3s\u001b[0m 2ms/step - accuracy: 0.9601 - loss: 0.4861 - val_accuracy: 0.9230 - val_loss: 0.5978\n",
      "\u001b[1m757/757\u001b[0m \u001b[32m━━━━━━━━━━━━━━━━━━━━\u001b[0m\u001b[37m\u001b[0m \u001b[1m1s\u001b[0m 737us/step\n",
      "\n",
      "🏆 Training Results:\n",
      "🔹 Accuracy: 0.9262\n",
      "🔹 Precision: 0.8947\n",
      "🔹 Recall: 0.9421\n",
      "🔹 F1_score: 0.9178\n",
      "\n",
      "📂 Fold 5\n",
      "\n",
      "🚀 Training Simple NN Model with dense_units = 128, dropout_rate = 0.3 🚀\n",
      "\n",
      "Epoch 1/10\n"
     ]
    },
    {
     "name": "stderr",
     "output_type": "stream",
     "text": [
      "/home/dariusng2103/projects/dm_project/fake-news/lib/python3.10/site-packages/keras/src/layers/core/embedding.py:90: UserWarning: Argument `input_length` is deprecated. Just remove it.\n",
      "  warnings.warn(\n"
     ]
    },
    {
     "name": "stdout",
     "output_type": "stream",
     "text": [
      "\u001b[1m1513/1513\u001b[0m \u001b[32m━━━━━━━━━━━━━━━━━━━━\u001b[0m\u001b[37m\u001b[0m \u001b[1m5s\u001b[0m 3ms/step - accuracy: 0.8421 - loss: 0.7201 - val_accuracy: 0.9308 - val_loss: 0.4476\n",
      "Epoch 2/10\n",
      "\u001b[1m1513/1513\u001b[0m \u001b[32m━━━━━━━━━━━━━━━━━━━━\u001b[0m\u001b[37m\u001b[0m \u001b[1m3s\u001b[0m 2ms/step - accuracy: 0.9357 - loss: 0.4646 - val_accuracy: 0.9284 - val_loss: 0.5307\n",
      "Epoch 3/10\n",
      "\u001b[1m1513/1513\u001b[0m \u001b[32m━━━━━━━━━━━━━━━━━━━━\u001b[0m\u001b[37m\u001b[0m \u001b[1m3s\u001b[0m 2ms/step - accuracy: 0.9486 - loss: 0.4756 - val_accuracy: 0.9313 - val_loss: 0.5061\n",
      "Epoch 4/10\n",
      "\u001b[1m1513/1513\u001b[0m \u001b[32m━━━━━━━━━━━━━━━━━━━━\u001b[0m\u001b[37m\u001b[0m \u001b[1m3s\u001b[0m 2ms/step - accuracy: 0.9592 - loss: 0.4722 - val_accuracy: 0.9287 - val_loss: 0.5429\n",
      "\u001b[1m757/757\u001b[0m \u001b[32m━━━━━━━━━━━━━━━━━━━━\u001b[0m\u001b[37m\u001b[0m \u001b[1m1s\u001b[0m 744us/step\n",
      "\n",
      "🏆 Training Results:\n",
      "🔹 Accuracy: 0.9308\n",
      "🔹 Precision: 0.9153\n",
      "🔹 Recall: 0.9277\n",
      "🔹 F1_score: 0.9215\n",
      "📊 Average F1-score: 0.9143\n",
      "\n",
      "🔍 Testing dense_units=128, dropout_rate=0.5\n",
      "\n",
      "📂 Fold 1\n",
      "\n",
      "🚀 Training Simple NN Model with dense_units = 128, dropout_rate = 0.5 🚀\n",
      "\n",
      "Epoch 1/10\n"
     ]
    },
    {
     "name": "stderr",
     "output_type": "stream",
     "text": [
      "/home/dariusng2103/projects/dm_project/fake-news/lib/python3.10/site-packages/keras/src/layers/core/embedding.py:90: UserWarning: Argument `input_length` is deprecated. Just remove it.\n",
      "  warnings.warn(\n"
     ]
    },
    {
     "name": "stdout",
     "output_type": "stream",
     "text": [
      "\u001b[1m1513/1513\u001b[0m \u001b[32m━━━━━━━━━━━━━━━━━━━━\u001b[0m\u001b[37m\u001b[0m \u001b[1m5s\u001b[0m 3ms/step - accuracy: 0.8431 - loss: 0.7323 - val_accuracy: 0.9121 - val_loss: 0.4811\n",
      "Epoch 2/10\n",
      "\u001b[1m1513/1513\u001b[0m \u001b[32m━━━━━━━━━━━━━━━━━━━━\u001b[0m\u001b[37m\u001b[0m \u001b[1m3s\u001b[0m 2ms/step - accuracy: 0.9351 - loss: 0.4744 - val_accuracy: 0.9339 - val_loss: 0.4642\n",
      "Epoch 3/10\n",
      "\u001b[1m1513/1513\u001b[0m \u001b[32m━━━━━━━━━━━━━━━━━━━━\u001b[0m\u001b[37m\u001b[0m \u001b[1m3s\u001b[0m 2ms/step - accuracy: 0.9505 - loss: 0.4739 - val_accuracy: 0.9210 - val_loss: 0.5632\n",
      "Epoch 4/10\n",
      "\u001b[1m1513/1513\u001b[0m \u001b[32m━━━━━━━━━━━━━━━━━━━━\u001b[0m\u001b[37m\u001b[0m \u001b[1m3s\u001b[0m 2ms/step - accuracy: 0.9596 - loss: 0.4799 - val_accuracy: 0.9211 - val_loss: 0.5962\n",
      "Epoch 5/10\n",
      "\u001b[1m1513/1513\u001b[0m \u001b[32m━━━━━━━━━━━━━━━━━━━━\u001b[0m\u001b[37m\u001b[0m \u001b[1m3s\u001b[0m 2ms/step - accuracy: 0.9670 - loss: 0.4853 - val_accuracy: 0.9258 - val_loss: 0.5967\n",
      "\u001b[1m757/757\u001b[0m \u001b[32m━━━━━━━━━━━━━━━━━━━━\u001b[0m\u001b[37m\u001b[0m \u001b[1m1s\u001b[0m 748us/step\n",
      "\n",
      "🏆 Training Results:\n",
      "🔹 Accuracy: 0.9339\n",
      "🔹 Precision: 0.9437\n",
      "🔹 Recall: 0.9028\n",
      "🔹 F1_score: 0.9228\n",
      "\n",
      "📂 Fold 2\n",
      "\n",
      "🚀 Training Simple NN Model with dense_units = 128, dropout_rate = 0.5 🚀\n",
      "\n",
      "Epoch 1/10\n"
     ]
    },
    {
     "name": "stderr",
     "output_type": "stream",
     "text": [
      "/home/dariusng2103/projects/dm_project/fake-news/lib/python3.10/site-packages/keras/src/layers/core/embedding.py:90: UserWarning: Argument `input_length` is deprecated. Just remove it.\n",
      "  warnings.warn(\n"
     ]
    },
    {
     "name": "stdout",
     "output_type": "stream",
     "text": [
      "\u001b[1m1513/1513\u001b[0m \u001b[32m━━━━━━━━━━━━━━━━━━━━\u001b[0m\u001b[37m\u001b[0m \u001b[1m5s\u001b[0m 3ms/step - accuracy: 0.8439 - loss: 0.7233 - val_accuracy: 0.9247 - val_loss: 0.4357\n",
      "Epoch 2/10\n",
      "\u001b[1m1513/1513\u001b[0m \u001b[32m━━━━━━━━━━━━━━━━━━━━\u001b[0m\u001b[37m\u001b[0m \u001b[1m3s\u001b[0m 2ms/step - accuracy: 0.9353 - loss: 0.4703 - val_accuracy: 0.9181 - val_loss: 0.5218\n",
      "Epoch 3/10\n",
      "\u001b[1m1513/1513\u001b[0m \u001b[32m━━━━━━━━━━━━━━━━━━━━\u001b[0m\u001b[37m\u001b[0m \u001b[1m3s\u001b[0m 2ms/step - accuracy: 0.9489 - loss: 0.4723 - val_accuracy: 0.9131 - val_loss: 0.5652\n",
      "Epoch 4/10\n",
      "\u001b[1m1513/1513\u001b[0m \u001b[32m━━━━━━━━━━━━━━━━━━━━\u001b[0m\u001b[37m\u001b[0m \u001b[1m3s\u001b[0m 2ms/step - accuracy: 0.9596 - loss: 0.4763 - val_accuracy: 0.9118 - val_loss: 0.5887\n",
      "\u001b[1m757/757\u001b[0m \u001b[32m━━━━━━━━━━━━━━━━━━━━\u001b[0m\u001b[37m\u001b[0m \u001b[1m1s\u001b[0m 740us/step\n",
      "\n",
      "🏆 Training Results:\n",
      "🔹 Accuracy: 0.9247\n",
      "🔹 Precision: 0.9350\n",
      "🔹 Recall: 0.8898\n",
      "🔹 F1_score: 0.9119\n",
      "\n",
      "📂 Fold 3\n",
      "\n",
      "🚀 Training Simple NN Model with dense_units = 128, dropout_rate = 0.5 🚀\n",
      "\n",
      "Epoch 1/10\n"
     ]
    },
    {
     "name": "stderr",
     "output_type": "stream",
     "text": [
      "/home/dariusng2103/projects/dm_project/fake-news/lib/python3.10/site-packages/keras/src/layers/core/embedding.py:90: UserWarning: Argument `input_length` is deprecated. Just remove it.\n",
      "  warnings.warn(\n"
     ]
    },
    {
     "name": "stdout",
     "output_type": "stream",
     "text": [
      "\u001b[1m1513/1513\u001b[0m \u001b[32m━━━━━━━━━━━━━━━━━━━━\u001b[0m\u001b[37m\u001b[0m \u001b[1m5s\u001b[0m 3ms/step - accuracy: 0.8463 - loss: 0.7550 - val_accuracy: 0.9199 - val_loss: 0.4734\n",
      "Epoch 2/10\n",
      "\u001b[1m1513/1513\u001b[0m \u001b[32m━━━━━━━━━━━━━━━━━━━━\u001b[0m\u001b[37m\u001b[0m \u001b[1m3s\u001b[0m 2ms/step - accuracy: 0.9347 - loss: 0.4695 - val_accuracy: 0.9168 - val_loss: 0.5193\n",
      "Epoch 3/10\n",
      "\u001b[1m1513/1513\u001b[0m \u001b[32m━━━━━━━━━━━━━━━━━━━━\u001b[0m\u001b[37m\u001b[0m \u001b[1m3s\u001b[0m 2ms/step - accuracy: 0.9498 - loss: 0.4785 - val_accuracy: 0.9222 - val_loss: 0.5845\n",
      "Epoch 4/10\n",
      "\u001b[1m1513/1513\u001b[0m \u001b[32m━━━━━━━━━━━━━━━━━━━━\u001b[0m\u001b[37m\u001b[0m \u001b[1m3s\u001b[0m 2ms/step - accuracy: 0.9611 - loss: 0.4790 - val_accuracy: 0.9222 - val_loss: 0.5941\n",
      "\u001b[1m757/757\u001b[0m \u001b[32m━━━━━━━━━━━━━━━━━━━━\u001b[0m\u001b[37m\u001b[0m \u001b[1m1s\u001b[0m 739us/step\n",
      "\n",
      "🏆 Training Results:\n",
      "🔹 Accuracy: 0.9199\n",
      "🔹 Precision: 0.8923\n",
      "🔹 Recall: 0.9289\n",
      "🔹 F1_score: 0.9102\n",
      "\n",
      "📂 Fold 4\n",
      "\n",
      "🚀 Training Simple NN Model with dense_units = 128, dropout_rate = 0.5 🚀\n",
      "\n",
      "Epoch 1/10\n"
     ]
    },
    {
     "name": "stderr",
     "output_type": "stream",
     "text": [
      "/home/dariusng2103/projects/dm_project/fake-news/lib/python3.10/site-packages/keras/src/layers/core/embedding.py:90: UserWarning: Argument `input_length` is deprecated. Just remove it.\n",
      "  warnings.warn(\n"
     ]
    },
    {
     "name": "stdout",
     "output_type": "stream",
     "text": [
      "\u001b[1m1513/1513\u001b[0m \u001b[32m━━━━━━━━━━━━━━━━━━━━\u001b[0m\u001b[37m\u001b[0m \u001b[1m6s\u001b[0m 3ms/step - accuracy: 0.8357 - loss: 0.7287 - val_accuracy: 0.9253 - val_loss: 0.4646\n",
      "Epoch 2/10\n",
      "\u001b[1m1513/1513\u001b[0m \u001b[32m━━━━━━━━━━━━━━━━━━━━\u001b[0m\u001b[37m\u001b[0m \u001b[1m3s\u001b[0m 2ms/step - accuracy: 0.9355 - loss: 0.4651 - val_accuracy: 0.9266 - val_loss: 0.4763\n",
      "Epoch 3/10\n",
      "\u001b[1m1513/1513\u001b[0m \u001b[32m━━━━━━━━━━━━━━━━━━━━\u001b[0m\u001b[37m\u001b[0m \u001b[1m3s\u001b[0m 2ms/step - accuracy: 0.9491 - loss: 0.4760 - val_accuracy: 0.9261 - val_loss: 0.4967\n",
      "Epoch 4/10\n",
      "\u001b[1m1513/1513\u001b[0m \u001b[32m━━━━━━━━━━━━━━━━━━━━\u001b[0m\u001b[37m\u001b[0m \u001b[1m3s\u001b[0m 2ms/step - accuracy: 0.9587 - loss: 0.4699 - val_accuracy: 0.9244 - val_loss: 0.5226\n",
      "\u001b[1m757/757\u001b[0m \u001b[32m━━━━━━━━━━━━━━━━━━━━\u001b[0m\u001b[37m\u001b[0m \u001b[1m1s\u001b[0m 739us/step\n",
      "\n",
      "🏆 Training Results:\n",
      "🔹 Accuracy: 0.9253\n",
      "🔹 Precision: 0.9178\n",
      "🔹 Recall: 0.9109\n",
      "🔹 F1_score: 0.9143\n",
      "\n",
      "📂 Fold 5\n",
      "\n",
      "🚀 Training Simple NN Model with dense_units = 128, dropout_rate = 0.5 🚀\n",
      "\n",
      "Epoch 1/10\n"
     ]
    },
    {
     "name": "stderr",
     "output_type": "stream",
     "text": [
      "/home/dariusng2103/projects/dm_project/fake-news/lib/python3.10/site-packages/keras/src/layers/core/embedding.py:90: UserWarning: Argument `input_length` is deprecated. Just remove it.\n",
      "  warnings.warn(\n"
     ]
    },
    {
     "name": "stdout",
     "output_type": "stream",
     "text": [
      "\u001b[1m1513/1513\u001b[0m \u001b[32m━━━━━━━━━━━━━━━━━━━━\u001b[0m\u001b[37m\u001b[0m \u001b[1m5s\u001b[0m 3ms/step - accuracy: 0.8438 - loss: 0.7329 - val_accuracy: 0.9264 - val_loss: 0.4500\n",
      "Epoch 2/10\n",
      "\u001b[1m1513/1513\u001b[0m \u001b[32m━━━━━━━━━━━━━━━━━━━━\u001b[0m\u001b[37m\u001b[0m \u001b[1m3s\u001b[0m 2ms/step - accuracy: 0.9372 - loss: 0.4794 - val_accuracy: 0.9268 - val_loss: 0.5028\n",
      "Epoch 3/10\n",
      "\u001b[1m1513/1513\u001b[0m \u001b[32m━━━━━━━━━━━━━━━━━━━━\u001b[0m\u001b[37m\u001b[0m \u001b[1m3s\u001b[0m 2ms/step - accuracy: 0.9504 - loss: 0.4772 - val_accuracy: 0.9168 - val_loss: 0.5413\n",
      "Epoch 4/10\n",
      "\u001b[1m1513/1513\u001b[0m \u001b[32m━━━━━━━━━━━━━━━━━━━━\u001b[0m\u001b[37m\u001b[0m \u001b[1m3s\u001b[0m 2ms/step - accuracy: 0.9589 - loss: 0.4915 - val_accuracy: 0.9244 - val_loss: 0.5910\n",
      "\u001b[1m757/757\u001b[0m \u001b[32m━━━━━━━━━━━━━━━━━━━━\u001b[0m\u001b[37m\u001b[0m \u001b[1m1s\u001b[0m 739us/step\n",
      "\n",
      "🏆 Training Results:\n",
      "🔹 Accuracy: 0.9263\n",
      "🔹 Precision: 0.9070\n",
      "🔹 Recall: 0.9266\n",
      "🔹 F1_score: 0.9167\n",
      "📊 Average F1-score: 0.9152\n",
      "CPU times: user 11min 43s, sys: 1min 6s, total: 12min 50s\n",
      "Wall time: 12min 52s\n"
     ]
    },
    {
     "data": {
      "text/plain": [
       "{'dense_units': 128, 'dropout_rate': 0.5}"
      ]
     },
     "execution_count": 37,
     "metadata": {},
     "output_type": "execute_result"
    }
   ],
   "source": [
    "%%time\n",
    "\n",
    "best_params_rewritten = do_grid_search(data_rewritten)\n",
    "best_params_rewritten"
   ]
  },
  {
   "cell_type": "code",
   "execution_count": 41,
   "metadata": {},
   "outputs": [
    {
     "name": "stdout",
     "output_type": "stream",
     "text": [
      "\n",
      "🚀 Training Simple NN Model with dense_units = 128, dropout_rate = 0.5 🚀\n",
      "\n",
      "Epoch 1/10\n"
     ]
    },
    {
     "name": "stderr",
     "output_type": "stream",
     "text": [
      "/home/dariusng2103/projects/dm_project/fake-news/lib/python3.10/site-packages/keras/src/layers/core/embedding.py:90: UserWarning: Argument `input_length` is deprecated. Just remove it.\n",
      "  warnings.warn(\n"
     ]
    },
    {
     "name": "stdout",
     "output_type": "stream",
     "text": [
      "\u001b[1m1702/1702\u001b[0m \u001b[32m━━━━━━━━━━━━━━━━━━━━\u001b[0m\u001b[37m\u001b[0m \u001b[1m6s\u001b[0m 3ms/step - accuracy: 0.8505 - loss: 0.7173 - val_accuracy: 0.9288 - val_loss: 0.4288\n",
      "Epoch 2/10\n",
      "\u001b[1m1702/1702\u001b[0m \u001b[32m━━━━━━━━━━━━━━━━━━━━\u001b[0m\u001b[37m\u001b[0m \u001b[1m3s\u001b[0m 2ms/step - accuracy: 0.9352 - loss: 0.4688 - val_accuracy: 0.9269 - val_loss: 0.4771\n",
      "Epoch 3/10\n",
      "\u001b[1m1702/1702\u001b[0m \u001b[32m━━━━━━━━━━━━━━━━━━━━\u001b[0m\u001b[37m\u001b[0m \u001b[1m3s\u001b[0m 2ms/step - accuracy: 0.9493 - loss: 0.4785 - val_accuracy: 0.9250 - val_loss: 0.5300\n",
      "Epoch 4/10\n",
      "\u001b[1m1702/1702\u001b[0m \u001b[32m━━━━━━━━━━━━━━━━━━━━\u001b[0m\u001b[37m\u001b[0m \u001b[1m3s\u001b[0m 2ms/step - accuracy: 0.9584 - loss: 0.4858 - val_accuracy: 0.9217 - val_loss: 0.5693\n",
      "\u001b[1m379/379\u001b[0m \u001b[32m━━━━━━━━━━━━━━━━━━━━\u001b[0m\u001b[37m\u001b[0m \u001b[1m0s\u001b[0m 895us/step\n",
      "\n",
      "🏆 Training Results:\n",
      "🔹 Accuracy: 0.9288\n",
      "🔹 Precision: 0.9172\n",
      "🔹 Recall: 0.9203\n",
      "🔹 F1_score: 0.9187\n",
      "CPU times: user 37.8 s, sys: 3.45 s, total: 41.3 s\n",
      "Wall time: 41.6 s\n"
     ]
    }
   ],
   "source": [
    "%%time\n",
    "\n",
    "train_data_combined = pd.concat([train_data, train_data_rewritten], ignore_index=True)\n",
    "val_data_combined = pd.concat([val_data, val_data_rewritten], ignore_index=True)\n",
    "model_combined = train_model(train_data_combined, val_data_combined, \n",
    "                             dense_units=best_params_rewritten[\"dense_units\"], \n",
    "                             dropout_rate=best_params_rewritten[\"dropout_rate\"])\n",
    "model_combined.save(\"results/NN_model_combined.keras\")"
   ]
  },
  {
   "cell_type": "code",
   "execution_count": 42,
   "metadata": {},
   "outputs": [
    {
     "name": "stdout",
     "output_type": "stream",
     "text": [
      "📊 Evaluating Model...\n",
      "\u001b[1m379/379\u001b[0m \u001b[32m━━━━━━━━━━━━━━━━━━━━\u001b[0m\u001b[37m\u001b[0m \u001b[1m0s\u001b[0m 1ms/step\n",
      "Accuracy: 0.9288\n",
      "Precision: 0.9172\n",
      "Recall: 0.9203\n",
      "F1: 0.9187\n"
     ]
    }
   ],
   "source": [
    "evaluate_model(model_combined, train_data_combined, val_data_combined)"
   ]
  },
  {
   "cell_type": "code",
   "execution_count": 43,
   "metadata": {},
   "outputs": [
    {
     "name": "stdout",
     "output_type": "stream",
     "text": [
      "📊 Evaluating Model...\n",
      "\u001b[1m190/190\u001b[0m \u001b[32m━━━━━━━━━━━━━━━━━━━━\u001b[0m\u001b[37m\u001b[0m \u001b[1m0s\u001b[0m 2ms/step\n",
      "Accuracy: 0.9597\n",
      "Precision: 0.9570\n",
      "Recall: 0.9505\n",
      "F1: 0.9538\n"
     ]
    }
   ],
   "source": [
    "evaluate_model(model_combined, train_data_combined, val_data)"
   ]
  },
  {
   "cell_type": "code",
   "execution_count": 44,
   "metadata": {},
   "outputs": [
    {
     "name": "stdout",
     "output_type": "stream",
     "text": [
      "📊 Evaluating Model...\n",
      "\u001b[1m190/190\u001b[0m \u001b[32m━━━━━━━━━━━━━━━━━━━━\u001b[0m\u001b[37m\u001b[0m \u001b[1m0s\u001b[0m 1ms/step\n",
      "Accuracy: 0.8979\n",
      "Precision: 0.8781\n",
      "Recall: 0.8901\n",
      "F1: 0.8841\n"
     ]
    }
   ],
   "source": [
    "evaluate_model(model_combined, train_data_combined, val_data_rewritten)"
   ]
  },
  {
   "cell_type": "code",
   "execution_count": 45,
   "metadata": {},
   "outputs": [
    {
     "data": {
      "text/html": [
       "<pre style=\"white-space:pre;overflow-x:auto;line-height:normal;font-family:Menlo,'DejaVu Sans Mono',consolas,'Courier New',monospace\"><span style=\"font-weight: bold\">Model: \"sequential_62\"</span>\n",
       "</pre>\n"
      ],
      "text/plain": [
       "\u001b[1mModel: \"sequential_62\"\u001b[0m\n"
      ]
     },
     "metadata": {},
     "output_type": "display_data"
    },
    {
     "data": {
      "text/html": [
       "<pre style=\"white-space:pre;overflow-x:auto;line-height:normal;font-family:Menlo,'DejaVu Sans Mono',consolas,'Courier New',monospace\">┏━━━━━━━━━━━━━━━━━━━━━━━━━━━━━━━━━┳━━━━━━━━━━━━━━━━━━━━━━━━┳━━━━━━━━━━━━━━━┓\n",
       "┃<span style=\"font-weight: bold\"> Layer (type)                    </span>┃<span style=\"font-weight: bold\"> Output Shape           </span>┃<span style=\"font-weight: bold\">       Param # </span>┃\n",
       "┡━━━━━━━━━━━━━━━━━━━━━━━━━━━━━━━━━╇━━━━━━━━━━━━━━━━━━━━━━━━╇━━━━━━━━━━━━━━━┩\n",
       "│ embedding_62 (<span style=\"color: #0087ff; text-decoration-color: #0087ff\">Embedding</span>)        │ (<span style=\"color: #00d7ff; text-decoration-color: #00d7ff\">None</span>, <span style=\"color: #00af00; text-decoration-color: #00af00\">300</span>, <span style=\"color: #00af00; text-decoration-color: #00af00\">128</span>)       │     <span style=\"color: #00af00; text-decoration-color: #00af00\">1,280,000</span> │\n",
       "├─────────────────────────────────┼────────────────────────┼───────────────┤\n",
       "│ flatten_62 (<span style=\"color: #0087ff; text-decoration-color: #0087ff\">Flatten</span>)            │ (<span style=\"color: #00d7ff; text-decoration-color: #00d7ff\">None</span>, <span style=\"color: #00af00; text-decoration-color: #00af00\">38400</span>)          │             <span style=\"color: #00af00; text-decoration-color: #00af00\">0</span> │\n",
       "├─────────────────────────────────┼────────────────────────┼───────────────┤\n",
       "│ dense_186 (<span style=\"color: #0087ff; text-decoration-color: #0087ff\">Dense</span>)               │ (<span style=\"color: #00d7ff; text-decoration-color: #00d7ff\">None</span>, <span style=\"color: #00af00; text-decoration-color: #00af00\">64</span>)             │     <span style=\"color: #00af00; text-decoration-color: #00af00\">2,457,664</span> │\n",
       "├─────────────────────────────────┼────────────────────────┼───────────────┤\n",
       "│ dropout_124 (<span style=\"color: #0087ff; text-decoration-color: #0087ff\">Dropout</span>)           │ (<span style=\"color: #00d7ff; text-decoration-color: #00d7ff\">None</span>, <span style=\"color: #00af00; text-decoration-color: #00af00\">64</span>)             │             <span style=\"color: #00af00; text-decoration-color: #00af00\">0</span> │\n",
       "├─────────────────────────────────┼────────────────────────┼───────────────┤\n",
       "│ dense_187 (<span style=\"color: #0087ff; text-decoration-color: #0087ff\">Dense</span>)               │ (<span style=\"color: #00d7ff; text-decoration-color: #00d7ff\">None</span>, <span style=\"color: #00af00; text-decoration-color: #00af00\">32</span>)             │         <span style=\"color: #00af00; text-decoration-color: #00af00\">2,080</span> │\n",
       "├─────────────────────────────────┼────────────────────────┼───────────────┤\n",
       "│ dropout_125 (<span style=\"color: #0087ff; text-decoration-color: #0087ff\">Dropout</span>)           │ (<span style=\"color: #00d7ff; text-decoration-color: #00d7ff\">None</span>, <span style=\"color: #00af00; text-decoration-color: #00af00\">32</span>)             │             <span style=\"color: #00af00; text-decoration-color: #00af00\">0</span> │\n",
       "├─────────────────────────────────┼────────────────────────┼───────────────┤\n",
       "│ dense_188 (<span style=\"color: #0087ff; text-decoration-color: #0087ff\">Dense</span>)               │ (<span style=\"color: #00d7ff; text-decoration-color: #00d7ff\">None</span>, <span style=\"color: #00af00; text-decoration-color: #00af00\">1</span>)              │            <span style=\"color: #00af00; text-decoration-color: #00af00\">33</span> │\n",
       "└─────────────────────────────────┴────────────────────────┴───────────────┘\n",
       "</pre>\n"
      ],
      "text/plain": [
       "┏━━━━━━━━━━━━━━━━━━━━━━━━━━━━━━━━━┳━━━━━━━━━━━━━━━━━━━━━━━━┳━━━━━━━━━━━━━━━┓\n",
       "┃\u001b[1m \u001b[0m\u001b[1mLayer (type)                   \u001b[0m\u001b[1m \u001b[0m┃\u001b[1m \u001b[0m\u001b[1mOutput Shape          \u001b[0m\u001b[1m \u001b[0m┃\u001b[1m \u001b[0m\u001b[1m      Param #\u001b[0m\u001b[1m \u001b[0m┃\n",
       "┡━━━━━━━━━━━━━━━━━━━━━━━━━━━━━━━━━╇━━━━━━━━━━━━━━━━━━━━━━━━╇━━━━━━━━━━━━━━━┩\n",
       "│ embedding_62 (\u001b[38;5;33mEmbedding\u001b[0m)        │ (\u001b[38;5;45mNone\u001b[0m, \u001b[38;5;34m300\u001b[0m, \u001b[38;5;34m128\u001b[0m)       │     \u001b[38;5;34m1,280,000\u001b[0m │\n",
       "├─────────────────────────────────┼────────────────────────┼───────────────┤\n",
       "│ flatten_62 (\u001b[38;5;33mFlatten\u001b[0m)            │ (\u001b[38;5;45mNone\u001b[0m, \u001b[38;5;34m38400\u001b[0m)          │             \u001b[38;5;34m0\u001b[0m │\n",
       "├─────────────────────────────────┼────────────────────────┼───────────────┤\n",
       "│ dense_186 (\u001b[38;5;33mDense\u001b[0m)               │ (\u001b[38;5;45mNone\u001b[0m, \u001b[38;5;34m64\u001b[0m)             │     \u001b[38;5;34m2,457,664\u001b[0m │\n",
       "├─────────────────────────────────┼────────────────────────┼───────────────┤\n",
       "│ dropout_124 (\u001b[38;5;33mDropout\u001b[0m)           │ (\u001b[38;5;45mNone\u001b[0m, \u001b[38;5;34m64\u001b[0m)             │             \u001b[38;5;34m0\u001b[0m │\n",
       "├─────────────────────────────────┼────────────────────────┼───────────────┤\n",
       "│ dense_187 (\u001b[38;5;33mDense\u001b[0m)               │ (\u001b[38;5;45mNone\u001b[0m, \u001b[38;5;34m32\u001b[0m)             │         \u001b[38;5;34m2,080\u001b[0m │\n",
       "├─────────────────────────────────┼────────────────────────┼───────────────┤\n",
       "│ dropout_125 (\u001b[38;5;33mDropout\u001b[0m)           │ (\u001b[38;5;45mNone\u001b[0m, \u001b[38;5;34m32\u001b[0m)             │             \u001b[38;5;34m0\u001b[0m │\n",
       "├─────────────────────────────────┼────────────────────────┼───────────────┤\n",
       "│ dense_188 (\u001b[38;5;33mDense\u001b[0m)               │ (\u001b[38;5;45mNone\u001b[0m, \u001b[38;5;34m1\u001b[0m)              │            \u001b[38;5;34m33\u001b[0m │\n",
       "└─────────────────────────────────┴────────────────────────┴───────────────┘\n"
      ]
     },
     "metadata": {},
     "output_type": "display_data"
    },
    {
     "data": {
      "text/html": [
       "<pre style=\"white-space:pre;overflow-x:auto;line-height:normal;font-family:Menlo,'DejaVu Sans Mono',consolas,'Courier New',monospace\"><span style=\"font-weight: bold\"> Total params: </span><span style=\"color: #00af00; text-decoration-color: #00af00\">11,219,333</span> (42.80 MB)\n",
       "</pre>\n"
      ],
      "text/plain": [
       "\u001b[1m Total params: \u001b[0m\u001b[38;5;34m11,219,333\u001b[0m (42.80 MB)\n"
      ]
     },
     "metadata": {},
     "output_type": "display_data"
    },
    {
     "data": {
      "text/html": [
       "<pre style=\"white-space:pre;overflow-x:auto;line-height:normal;font-family:Menlo,'DejaVu Sans Mono',consolas,'Courier New',monospace\"><span style=\"font-weight: bold\"> Trainable params: </span><span style=\"color: #00af00; text-decoration-color: #00af00\">3,739,777</span> (14.27 MB)\n",
       "</pre>\n"
      ],
      "text/plain": [
       "\u001b[1m Trainable params: \u001b[0m\u001b[38;5;34m3,739,777\u001b[0m (14.27 MB)\n"
      ]
     },
     "metadata": {},
     "output_type": "display_data"
    },
    {
     "data": {
      "text/html": [
       "<pre style=\"white-space:pre;overflow-x:auto;line-height:normal;font-family:Menlo,'DejaVu Sans Mono',consolas,'Courier New',monospace\"><span style=\"font-weight: bold\"> Non-trainable params: </span><span style=\"color: #00af00; text-decoration-color: #00af00\">0</span> (0.00 B)\n",
       "</pre>\n"
      ],
      "text/plain": [
       "\u001b[1m Non-trainable params: \u001b[0m\u001b[38;5;34m0\u001b[0m (0.00 B)\n"
      ]
     },
     "metadata": {},
     "output_type": "display_data"
    },
    {
     "data": {
      "text/html": [
       "<pre style=\"white-space:pre;overflow-x:auto;line-height:normal;font-family:Menlo,'DejaVu Sans Mono',consolas,'Courier New',monospace\"><span style=\"font-weight: bold\"> Optimizer params: </span><span style=\"color: #00af00; text-decoration-color: #00af00\">7,479,556</span> (28.53 MB)\n",
       "</pre>\n"
      ],
      "text/plain": [
       "\u001b[1m Optimizer params: \u001b[0m\u001b[38;5;34m7,479,556\u001b[0m (28.53 MB)\n"
      ]
     },
     "metadata": {},
     "output_type": "display_data"
    }
   ],
   "source": [
    "model_combined2 = load_model(\"results/NN_model_combined.keras\")\n",
    "model_combined2.summary()"
   ]
  },
  {
   "cell_type": "code",
   "execution_count": 46,
   "metadata": {},
   "outputs": [
    {
     "name": "stdout",
     "output_type": "stream",
     "text": [
      "📊 Evaluating Model...\n",
      "\u001b[1m379/379\u001b[0m \u001b[32m━━━━━━━━━━━━━━━━━━━━\u001b[0m\u001b[37m\u001b[0m \u001b[1m0s\u001b[0m 929us/step\n",
      "Accuracy: 0.9288\n",
      "Precision: 0.9172\n",
      "Recall: 0.9203\n",
      "F1: 0.9187\n"
     ]
    }
   ],
   "source": [
    "evaluate_model(model_combined2, train_data_combined, val_data_combined)"
   ]
  },
  {
   "cell_type": "code",
   "execution_count": 47,
   "metadata": {},
   "outputs": [
    {
     "name": "stdout",
     "output_type": "stream",
     "text": [
      "📊 Evaluating Model...\n",
      "\u001b[1m190/190\u001b[0m \u001b[32m━━━━━━━━━━━━━━━━━━━━\u001b[0m\u001b[37m\u001b[0m \u001b[1m0s\u001b[0m 1ms/step\n",
      "Accuracy: 0.9597\n",
      "Precision: 0.9570\n",
      "Recall: 0.9505\n",
      "F1: 0.9538\n"
     ]
    }
   ],
   "source": [
    "evaluate_model(model_combined2, train_data_combined, val_data)"
   ]
  },
  {
   "cell_type": "code",
   "execution_count": 48,
   "metadata": {},
   "outputs": [
    {
     "name": "stdout",
     "output_type": "stream",
     "text": [
      "📊 Evaluating Model...\n",
      "\u001b[1m190/190\u001b[0m \u001b[32m━━━━━━━━━━━━━━━━━━━━\u001b[0m\u001b[37m\u001b[0m \u001b[1m0s\u001b[0m 2ms/step\n",
      "Accuracy: 0.8979\n",
      "Precision: 0.8781\n",
      "Recall: 0.8901\n",
      "F1: 0.8841\n"
     ]
    }
   ],
   "source": [
    "evaluate_model(model_combined2, train_data_combined, val_data_rewritten)"
   ]
  }
 ],
 "metadata": {
  "kernelspec": {
   "display_name": "fake-news",
   "language": "python",
   "name": "python3"
  },
  "language_info": {
   "codemirror_mode": {
    "name": "ipython",
    "version": 3
   },
   "file_extension": ".py",
   "mimetype": "text/x-python",
   "name": "python",
   "nbconvert_exporter": "python",
   "pygments_lexer": "ipython3",
   "version": "3.10.16"
  }
 },
 "nbformat": 4,
 "nbformat_minor": 2
}
