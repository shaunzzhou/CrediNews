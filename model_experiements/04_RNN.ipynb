{
 "cells": [
  {
   "cell_type": "code",
   "execution_count": 10,
   "metadata": {},
   "outputs": [],
   "source": [
    "# Import necessary libraries\n",
    "\n",
    "# Data manipulation\n",
    "import pandas as pd\n",
    "import numpy as np\n",
    "\n",
    "# Statistical functions\n",
    "from scipy.stats import zscore\n",
    "\n",
    "# For concurrency (running functions in parallel)\n",
    "from concurrent.futures import ThreadPoolExecutor\n",
    "\n",
    "# For caching (to speed up repeated function calls)\n",
    "from functools import lru_cache\n",
    "\n",
    "# For progress tracking\n",
    "from tqdm import tqdm\n",
    "\n",
    "# Plotting and Visualisation\n",
    "import matplotlib.pyplot as plt\n",
    "import seaborn as sns\n",
    "\n",
    "# Language Detection packages\n",
    "# `langdetect` for detecting language\n",
    "from langdetect import detect as langdetect_detect, DetectorFactory\n",
    "from langdetect.lang_detect_exception import LangDetectException\n",
    "# `langid` for an alternative language detection method\n",
    "from langid import classify as langid_classify\n",
    "\n",
    "# Text Preprocessing and NLP\n",
    "# Stopwords (common words to ignore) from NLTK\n",
    "from nltk.corpus import stopwords\n",
    "# Tokenizing sentences/words\n",
    "from nltk.tokenize import word_tokenize\n",
    "# Part-of-speech tagging\n",
    "from nltk import pos_tag\n",
    "# Lemmatization (converting words to their base form)\n",
    "from nltk.stem import WordNetLemmatizer\n",
    "import nltk\n",
    "# Regular expressions for text pattern matching\n",
    "import re\n",
    "\n",
    "# Word Cloud generation\n",
    "from wordcloud import WordCloud"
   ]
  },
  {
   "cell_type": "code",
   "execution_count": 11,
   "metadata": {},
   "outputs": [
    {
     "name": "stdout",
     "output_type": "stream",
     "text": [
      "working dir: /home/dariusng2103/projects/dm_project/DM-Fake-News-Detection\n"
     ]
    }
   ],
   "source": [
    "import os\n",
    "import sys\n",
    "from pathlib import Path\n",
    "\n",
    "if \"workding_dir\" not in locals():\n",
    "    workding_dir = str(Path.cwd().parent)\n",
    "os.chdir(workding_dir)\n",
    "sys.path.append(workding_dir)\n",
    "print(\"working dir:\", workding_dir)"
   ]
  },
  {
   "cell_type": "code",
   "execution_count": 12,
   "metadata": {},
   "outputs": [
    {
     "data": {
      "text/plain": [
       "DatasetDict({\n",
       "    train: Dataset({\n",
       "        features: ['label', 'full_content', 'processed_full_content'],\n",
       "        num_rows: 54441\n",
       "    })\n",
       "    test: Dataset({\n",
       "        features: ['label', 'full_content', 'processed_full_content'],\n",
       "        num_rows: 6050\n",
       "    })\n",
       "    rewritten_train: Dataset({\n",
       "        features: ['label', 'full_content', 'processed_full_content'],\n",
       "        num_rows: 54441\n",
       "    })\n",
       "    rewritten_test: Dataset({\n",
       "        features: ['label', 'full_content', 'processed_full_content'],\n",
       "        num_rows: 6050\n",
       "    })\n",
       "})"
      ]
     },
     "execution_count": 12,
     "metadata": {},
     "output_type": "execute_result"
    }
   ],
   "source": [
    "from datasets import load_dataset, concatenate_datasets, Dataset\n",
    "\n",
    "datasets = load_dataset(\n",
    "    \"csv\",\n",
    "    data_files={\n",
    "        \"train\": [\n",
    "            \"dataset/train_data_1.csv\",\n",
    "            \"dataset/train_data_2.csv\",\n",
    "            \"dataset/train_data_3.csv\",\n",
    "            \"dataset/train_data_4.csv\",\n",
    "        ],\n",
    "        \"test\": \"dataset/test_data.csv\",\n",
    "        \"rewritten_train\": [\n",
    "            \"dataset/rewritten_train_data_1.csv\",\n",
    "            \"dataset/rewritten_train_data_2.csv\",\n",
    "            \"dataset/rewritten_train_data_3.csv\",\n",
    "            \"dataset/rewritten_train_data_4.csv\",\n",
    "        ],\n",
    "        \"rewritten_test\": \"dataset/rewritten_test_data.csv\",\n",
    "    },\n",
    ")\n",
    "datasets"
   ]
  },
  {
   "cell_type": "markdown",
   "metadata": {},
   "source": [
    "### RNN with Word2Vec (best RNN model)"
   ]
  },
  {
   "cell_type": "code",
   "execution_count": 13,
   "metadata": {},
   "outputs": [],
   "source": [
    "from tensorflow.keras.models import Sequential\n",
    "from tensorflow.keras.layers import Embedding, SimpleRNN, Dense, Dropout\n",
    "from tensorflow.keras.optimizers import Adam\n",
    "from tensorflow.keras.preprocessing.text import Tokenizer\n",
    "from tensorflow.keras.preprocessing.sequence import pad_sequences\n",
    "from sklearn.model_selection import train_test_split\n",
    "from sklearn.metrics import accuracy_score, precision_score, recall_score, f1_score\n",
    "from gensim.models import Word2Vec\n",
    "import tensorflow as tf\n",
    "import numpy as np\n",
    "import random\n",
    "\n",
    "from gensim.models import Word2Vec\n",
    "import numpy as np\n",
    "\n",
    "def train_word2vec_embeddings(train_texts, word_index, vocab_size=5000, embedding_dim=128):\n",
    "    \"\"\"Tokenizes text, trains Word2Vec, and creates an embedding matrix.\"\"\"\n",
    "    sentences = [text.split() for text in train_texts]  # Convert text into word lists\n",
    "\n",
    "    # Train Word2Vec\n",
    "    word2vec_model = Word2Vec(sentences=sentences, vector_size=embedding_dim, window=5, min_count=1, workers=4, sg=1)\n",
    "\n",
    "    # Initialize embedding matrix\n",
    "    embedding_matrix = np.zeros((vocab_size, embedding_dim))\n",
    "\n",
    "    for word, i in word_index.items():\n",
    "        if i < vocab_size and word in word2vec_model.wv:\n",
    "            embedding_matrix[i] = word2vec_model.wv[word]\n",
    "\n",
    "    return embedding_matrix\n",
    "\n",
    "\n",
    "def create_rnn_model(vocab_size, embedding_matrix, input_length, rnn_units=64, dropout_rate=0.5, learning_rate=0.001):\n",
    "    \"\"\"Creates an RNN model using Word2Vec embeddings.\"\"\"\n",
    "    model = Sequential([\n",
    "        Embedding(vocab_size, embedding_matrix.shape[1], weights=[embedding_matrix], \n",
    "                  input_length=input_length, trainable=True),\n",
    "        SimpleRNN(rnn_units, activation='tanh'),\n",
    "        Dropout(dropout_rate),\n",
    "        Dense(1, activation='sigmoid')\n",
    "    ])\n",
    "\n",
    "    model.compile(optimizer=Adam(learning_rate), loss='binary_crossentropy', metrics=['accuracy'])\n",
    "    return model\n"
   ]
  },
  {
   "cell_type": "code",
   "execution_count": 14,
   "metadata": {},
   "outputs": [],
   "source": [
    "from tensorflow.keras.preprocessing.text import Tokenizer\n",
    "from tensorflow.keras.preprocessing.sequence import pad_sequences\n",
    "from tensorflow.keras.callbacks import EarlyStopping\n",
    "from sklearn.model_selection import train_test_split\n",
    "\n",
    "def train_model(train_data, val_data, rnn_units=64, dropout_rate=0.5, epochs=10, batch_size=64, grid_search=False):\n",
    "    \"\"\"Trains an RNN model using Word2Vec embeddings.\"\"\"\n",
    "    seed = 42\n",
    "    tf.random.set_seed(seed)\n",
    "    np.random.seed(seed)\n",
    "\n",
    "    vocab_size = 5000\n",
    "    embedding_dim = 128\n",
    "    max_sequence_length = 300\n",
    "\n",
    "    print(f\"\\n🚀 Training RNN with rnn_units={rnn_units}, dropout_rate={dropout_rate}\")\n",
    "\n",
    "    # Extract texts and labels\n",
    "    train_texts = train_data[\"processed_full_content\"]\n",
    "    val_texts = val_data[\"processed_full_content\"]\n",
    "    y_train = train_data[\"label\"]\n",
    "    y_val = val_data[\"label\"]\n",
    "\n",
    "    # Tokenize texts\n",
    "    tokenizer = Tokenizer(num_words=vocab_size)\n",
    "    tokenizer.fit_on_texts(train_texts)\n",
    "\n",
    "    # Convert texts to sequences and pad them\n",
    "    X_train = pad_sequences(tokenizer.texts_to_sequences(train_texts), maxlen=max_sequence_length)\n",
    "    X_val = pad_sequences(tokenizer.texts_to_sequences(val_texts), maxlen=max_sequence_length)\n",
    "\n",
    "    # Train Word2Vec and create embeddings\n",
    "    embedding_matrix = train_word2vec_embeddings(train_texts, tokenizer.word_index, vocab_size, embedding_dim)\n",
    "\n",
    "    # Create and compile the RNN model\n",
    "    model = create_rnn_model(\n",
    "        vocab_size=vocab_size,\n",
    "        embedding_matrix=embedding_matrix,\n",
    "        input_length=max_sequence_length,\n",
    "        rnn_units=rnn_units,\n",
    "        dropout_rate=dropout_rate\n",
    "    )\n",
    "\n",
    "    # Early stopping\n",
    "    early_stopping = EarlyStopping(monitor='val_loss', patience=3, restore_best_weights=True)\n",
    "\n",
    "    # Train the model\n",
    "    model.fit(\n",
    "        X_train, y_train,\n",
    "        epochs=epochs,\n",
    "        batch_size=batch_size,\n",
    "        validation_data=(X_val, y_val),\n",
    "        callbacks=[early_stopping],\n",
    "        verbose=1\n",
    "    )\n",
    "\n",
    "    # Evaluate model performance on validation data\n",
    "    y_pred = (model.predict(X_val) > 0.5).astype(int).reshape(-1)\n",
    "\n",
    "    accuracy = accuracy_score(y_val, y_pred)\n",
    "    precision = precision_score(y_val, y_pred)\n",
    "    recall = recall_score(y_val, y_pred)\n",
    "    f1 = f1_score(y_val, y_pred)\n",
    "\n",
    "    #  Print evaluation metrics\n",
    "    result = {\"accuracy\": accuracy, \"precision\": precision, \"recall\": recall, \"f1_score\": f1}\n",
    "    print(\"\\n🏆 Training Results:\")\n",
    "\n",
    "    for key, value in result.items():\n",
    "        print(f\"🔹 {key.capitalize()}: {value:.4f}\")\n",
    "\n",
    "    return result if grid_search else model"
   ]
  },
  {
   "cell_type": "code",
   "execution_count": 15,
   "metadata": {},
   "outputs": [],
   "source": [
    "from sklearn.metrics import f1_score, accuracy_score, precision_score, recall_score\n",
    "import pandas as pd\n",
    "from tqdm import tqdm\n",
    "\n",
    "\n",
    "def evaluate_model(model, train_data, val_data):\n",
    "    print(\"Evaluating Model\")\n",
    "\n",
    "    max_words = 10000\n",
    "    max_sequence_length = 300\n",
    "\n",
    "    train_texts = train_data[\"processed_full_content\"]\n",
    "    tokenizer = Tokenizer(num_words=max_words)\n",
    "    tokenizer.fit_on_texts(train_texts)\n",
    "\n",
    "    y_val = val_data[\"label\"]\n",
    "    val_texts = val_data[\"processed_full_content\"]\n",
    "\n",
    "    X_val = pad_sequences(\n",
    "        tokenizer.texts_to_sequences(val_texts), maxlen=max_sequence_length\n",
    "    )\n",
    "    y_pred = (model.predict(X_val) > 0.5).astype(int)\n",
    "\n",
    "    accuracy = accuracy_score(y_val, y_pred)\n",
    "    precision = precision_score(y_val, y_pred)\n",
    "    recall = recall_score(y_val, y_pred)\n",
    "    f1 = f1_score(y_val, y_pred)\n",
    "\n",
    "    print(f\"Accuracy: {accuracy:.4f}\")\n",
    "    print(f\"Precision: {precision:.4f}\")\n",
    "    print(f\"Recall: {recall:.4f}\")\n",
    "    print(f\"F1: {f1:.4f}\")"
   ]
  },
  {
   "cell_type": "code",
   "execution_count": 16,
   "metadata": {},
   "outputs": [],
   "source": [
    "from sklearn.model_selection import StratifiedKFold\n",
    "\n",
    "def do_grid_search(data):\n",
    "    \"\"\"Performs Grid Search for the best RNN hyperparameters.\"\"\"\n",
    "    param_grid = {\"rnn_units\": [32, 64], \"dropout_rate\": [0.3, 0.5]}\n",
    "    results = []\n",
    "    best_score = 0\n",
    "    best_params = None\n",
    "\n",
    "    for rnn_units in param_grid[\"rnn_units\"]:\n",
    "        for dropout_rate in param_grid[\"dropout_rate\"]:\n",
    "            print(f\"\\n🔍 Testing rnn_units={rnn_units}, dropout_rate={dropout_rate}\")\n",
    "\n",
    "            kfold = StratifiedKFold(n_splits=5, shuffle=True, random_state=42)\n",
    "            fold_scores = []\n",
    "\n",
    "            for fold, (train_idx, val_idx) in enumerate(\n",
    "                kfold.split(data[\"processed_full_content\"], data[\"label\"].to_numpy().ravel()), 1\n",
    "            ):\n",
    "                print(f\"\\n📂 Fold {fold}\")\n",
    "\n",
    "                train_data = data.iloc[train_idx]\n",
    "                val_data = data.iloc[val_idx]\n",
    "\n",
    "                result = train_model(train_data, val_data, rnn_units=rnn_units, dropout_rate=dropout_rate, grid_search=True)\n",
    "                fold_scores.append(result[\"f1_score\"])\n",
    "\n",
    "            avg_score = np.mean(fold_scores)\n",
    "            print(f\"📊 Average F1-score: {avg_score:.4f}\")\n",
    "\n",
    "            if avg_score > best_score:\n",
    "                best_score = avg_score\n",
    "                best_params = {\"rnn_units\": rnn_units, \"dropout_rate\": dropout_rate}\n",
    "\n",
    "    return best_params\n"
   ]
  },
  {
   "cell_type": "code",
   "execution_count": 17,
   "metadata": {},
   "outputs": [
    {
     "name": "stdout",
     "output_type": "stream",
     "text": [
      "<class 'pandas.core.frame.DataFrame'>\n",
      "RangeIndex: 60491 entries, 0 to 60490\n",
      "Data columns (total 3 columns):\n",
      " #   Column                  Non-Null Count  Dtype \n",
      "---  ------                  --------------  ----- \n",
      " 0   label                   60491 non-null  int64 \n",
      " 1   full_content            60491 non-null  object\n",
      " 2   processed_full_content  60491 non-null  object\n",
      "dtypes: int64(1), object(2)\n",
      "memory usage: 1.4+ MB\n"
     ]
    }
   ],
   "source": [
    "train_data = datasets[\"train\"].to_pandas()\n",
    "val_data = datasets[\"test\"].to_pandas()\n",
    "data = pd.concat([train_data, val_data], ignore_index=True)\n",
    "data.info()"
   ]
  },
  {
   "cell_type": "code",
   "execution_count": 18,
   "metadata": {},
   "outputs": [
    {
     "name": "stdout",
     "output_type": "stream",
     "text": [
      "\n",
      "🔍 Testing rnn_units=32, dropout_rate=0.3\n",
      "\n",
      "📂 Fold 1\n",
      "\n",
      "🚀 Training RNN with rnn_units=32, dropout_rate=0.3\n",
      "Epoch 1/10\n"
     ]
    },
    {
     "name": "stderr",
     "output_type": "stream",
     "text": [
      "/home/dariusng2103/projects/dm_project/fake-news/lib/python3.10/site-packages/keras/src/layers/core/embedding.py:90: UserWarning: Argument `input_length` is deprecated. Just remove it.\n",
      "  warnings.warn(\n"
     ]
    },
    {
     "name": "stdout",
     "output_type": "stream",
     "text": [
      "\u001b[1m757/757\u001b[0m \u001b[32m━━━━━━━━━━━━━━━━━━━━\u001b[0m\u001b[37m\u001b[0m \u001b[1m15s\u001b[0m 19ms/step - accuracy: 0.8396 - loss: 0.3553 - val_accuracy: 0.9229 - val_loss: 0.2220\n",
      "Epoch 2/10\n",
      "\u001b[1m757/757\u001b[0m \u001b[32m━━━━━━━━━━━━━━━━━━━━\u001b[0m\u001b[37m\u001b[0m \u001b[1m14s\u001b[0m 19ms/step - accuracy: 0.9396 - loss: 0.1843 - val_accuracy: 0.9499 - val_loss: 0.1529\n",
      "Epoch 3/10\n",
      "\u001b[1m757/757\u001b[0m \u001b[32m━━━━━━━━━━━━━━━━━━━━\u001b[0m\u001b[37m\u001b[0m \u001b[1m13s\u001b[0m 17ms/step - accuracy: 0.9413 - loss: 0.1727 - val_accuracy: 0.9451 - val_loss: 0.1600\n",
      "Epoch 4/10\n",
      "\u001b[1m757/757\u001b[0m \u001b[32m━━━━━━━━━━━━━━━━━━━━\u001b[0m\u001b[37m\u001b[0m \u001b[1m14s\u001b[0m 19ms/step - accuracy: 0.9497 - loss: 0.1465 - val_accuracy: 0.9453 - val_loss: 0.1693\n",
      "Epoch 5/10\n",
      "\u001b[1m757/757\u001b[0m \u001b[32m━━━━━━━━━━━━━━━━━━━━\u001b[0m\u001b[37m\u001b[0m \u001b[1m12s\u001b[0m 16ms/step - accuracy: 0.9633 - loss: 0.1176 - val_accuracy: 0.9512 - val_loss: 0.1615\n",
      "\u001b[1m379/379\u001b[0m \u001b[32m━━━━━━━━━━━━━━━━━━━━\u001b[0m\u001b[37m\u001b[0m \u001b[1m3s\u001b[0m 8ms/step\n",
      "\n",
      "🏆 Training Results:\n",
      "🔹 Accuracy: 0.9499\n",
      "🔹 Precision: 0.9354\n",
      "🔹 Recall: 0.9513\n",
      "🔹 F1_score: 0.9432\n",
      "\n",
      "📂 Fold 2\n",
      "\n",
      "🚀 Training RNN with rnn_units=32, dropout_rate=0.3\n",
      "Epoch 1/10\n"
     ]
    },
    {
     "name": "stderr",
     "output_type": "stream",
     "text": [
      "/home/dariusng2103/projects/dm_project/fake-news/lib/python3.10/site-packages/keras/src/layers/core/embedding.py:90: UserWarning: Argument `input_length` is deprecated. Just remove it.\n",
      "  warnings.warn(\n"
     ]
    },
    {
     "name": "stdout",
     "output_type": "stream",
     "text": [
      "\u001b[1m757/757\u001b[0m \u001b[32m━━━━━━━━━━━━━━━━━━━━\u001b[0m\u001b[37m\u001b[0m \u001b[1m16s\u001b[0m 20ms/step - accuracy: 0.8382 - loss: 0.3672 - val_accuracy: 0.9066 - val_loss: 0.2520\n",
      "Epoch 2/10\n",
      "\u001b[1m757/757\u001b[0m \u001b[32m━━━━━━━━━━━━━━━━━━━━\u001b[0m\u001b[37m\u001b[0m \u001b[1m13s\u001b[0m 17ms/step - accuracy: 0.9376 - loss: 0.1896 - val_accuracy: 0.9435 - val_loss: 0.1553\n",
      "Epoch 3/10\n",
      "\u001b[1m757/757\u001b[0m \u001b[32m━━━━━━━━━━━━━━━━━━━━\u001b[0m\u001b[37m\u001b[0m \u001b[1m14s\u001b[0m 19ms/step - accuracy: 0.9481 - loss: 0.1521 - val_accuracy: 0.9327 - val_loss: 0.1893\n",
      "Epoch 4/10\n",
      "\u001b[1m757/757\u001b[0m \u001b[32m━━━━━━━━━━━━━━━━━━━━\u001b[0m\u001b[37m\u001b[0m \u001b[1m13s\u001b[0m 17ms/step - accuracy: 0.9473 - loss: 0.1543 - val_accuracy: 0.9318 - val_loss: 0.2300\n",
      "Epoch 5/10\n",
      "\u001b[1m757/757\u001b[0m \u001b[32m━━━━━━━━━━━━━━━━━━━━\u001b[0m\u001b[37m\u001b[0m \u001b[1m14s\u001b[0m 19ms/step - accuracy: 0.9524 - loss: 0.1471 - val_accuracy: 0.9410 - val_loss: 0.1886\n",
      "\u001b[1m379/379\u001b[0m \u001b[32m━━━━━━━━━━━━━━━━━━━━\u001b[0m\u001b[37m\u001b[0m \u001b[1m3s\u001b[0m 8ms/step\n",
      "\n",
      "🏆 Training Results:\n",
      "🔹 Accuracy: 0.9435\n",
      "🔹 Precision: 0.9395\n",
      "🔹 Recall: 0.9307\n",
      "🔹 F1_score: 0.9351\n",
      "\n",
      "📂 Fold 3\n",
      "\n",
      "🚀 Training RNN with rnn_units=32, dropout_rate=0.3\n",
      "Epoch 1/10\n"
     ]
    },
    {
     "name": "stderr",
     "output_type": "stream",
     "text": [
      "/home/dariusng2103/projects/dm_project/fake-news/lib/python3.10/site-packages/keras/src/layers/core/embedding.py:90: UserWarning: Argument `input_length` is deprecated. Just remove it.\n",
      "  warnings.warn(\n"
     ]
    },
    {
     "name": "stdout",
     "output_type": "stream",
     "text": [
      "\u001b[1m757/757\u001b[0m \u001b[32m━━━━━━━━━━━━━━━━━━━━\u001b[0m\u001b[37m\u001b[0m \u001b[1m15s\u001b[0m 18ms/step - accuracy: 0.8722 - loss: 0.3023 - val_accuracy: 0.9285 - val_loss: 0.2106\n",
      "Epoch 2/10\n",
      "\u001b[1m757/757\u001b[0m \u001b[32m━━━━━━━━━━━━━━━━━━━━\u001b[0m\u001b[37m\u001b[0m \u001b[1m14s\u001b[0m 18ms/step - accuracy: 0.9465 - loss: 0.1629 - val_accuracy: 0.9545 - val_loss: 0.1345\n",
      "Epoch 3/10\n",
      "\u001b[1m757/757\u001b[0m \u001b[32m━━━━━━━━━━━━━━━━━━━━\u001b[0m\u001b[37m\u001b[0m \u001b[1m13s\u001b[0m 17ms/step - accuracy: 0.9634 - loss: 0.1125 - val_accuracy: 0.9532 - val_loss: 0.1340\n",
      "Epoch 4/10\n",
      "\u001b[1m757/757\u001b[0m \u001b[32m━━━━━━━━━━━━━━━━━━━━\u001b[0m\u001b[37m\u001b[0m \u001b[1m14s\u001b[0m 18ms/step - accuracy: 0.9685 - loss: 0.0987 - val_accuracy: 0.9501 - val_loss: 0.1591\n",
      "Epoch 5/10\n",
      "\u001b[1m757/757\u001b[0m \u001b[32m━━━━━━━━━━━━━━━━━━━━\u001b[0m\u001b[37m\u001b[0m \u001b[1m13s\u001b[0m 17ms/step - accuracy: 0.9714 - loss: 0.0893 - val_accuracy: 0.9506 - val_loss: 0.1587\n",
      "Epoch 6/10\n",
      "\u001b[1m757/757\u001b[0m \u001b[32m━━━━━━━━━━━━━━━━━━━━\u001b[0m\u001b[37m\u001b[0m \u001b[1m14s\u001b[0m 18ms/step - accuracy: 0.9744 - loss: 0.0784 - val_accuracy: 0.8267 - val_loss: 0.3787\n",
      "\u001b[1m379/379\u001b[0m \u001b[32m━━━━━━━━━━━━━━━━━━━━\u001b[0m\u001b[37m\u001b[0m \u001b[1m3s\u001b[0m 8ms/step\n",
      "\n",
      "🏆 Training Results:\n",
      "🔹 Accuracy: 0.9532\n",
      "🔹 Precision: 0.9414\n",
      "🔹 Recall: 0.9524\n",
      "🔹 F1_score: 0.9468\n",
      "\n",
      "📂 Fold 4\n",
      "\n",
      "🚀 Training RNN with rnn_units=32, dropout_rate=0.3\n",
      "Epoch 1/10\n"
     ]
    },
    {
     "name": "stderr",
     "output_type": "stream",
     "text": [
      "/home/dariusng2103/projects/dm_project/fake-news/lib/python3.10/site-packages/keras/src/layers/core/embedding.py:90: UserWarning: Argument `input_length` is deprecated. Just remove it.\n",
      "  warnings.warn(\n"
     ]
    },
    {
     "name": "stdout",
     "output_type": "stream",
     "text": [
      "\u001b[1m757/757\u001b[0m \u001b[32m━━━━━━━━━━━━━━━━━━━━\u001b[0m\u001b[37m\u001b[0m \u001b[1m14s\u001b[0m 18ms/step - accuracy: 0.8365 - loss: 0.3518 - val_accuracy: 0.9490 - val_loss: 0.1524\n",
      "Epoch 2/10\n",
      "\u001b[1m757/757\u001b[0m \u001b[32m━━━━━━━━━━━━━━━━━━━━\u001b[0m\u001b[37m\u001b[0m \u001b[1m14s\u001b[0m 18ms/step - accuracy: 0.8985 - loss: 0.2578 - val_accuracy: 0.9428 - val_loss: 0.1723\n",
      "Epoch 3/10\n",
      "\u001b[1m757/757\u001b[0m \u001b[32m━━━━━━━━━━━━━━━━━━━━\u001b[0m\u001b[37m\u001b[0m \u001b[1m12s\u001b[0m 16ms/step - accuracy: 0.9444 - loss: 0.1709 - val_accuracy: 0.9498 - val_loss: 0.1563\n",
      "Epoch 4/10\n",
      "\u001b[1m757/757\u001b[0m \u001b[32m━━━━━━━━━━━━━━━━━━━━\u001b[0m\u001b[37m\u001b[0m \u001b[1m14s\u001b[0m 18ms/step - accuracy: 0.9601 - loss: 0.1281 - val_accuracy: 0.9518 - val_loss: 0.1516\n",
      "Epoch 5/10\n",
      "\u001b[1m757/757\u001b[0m \u001b[32m━━━━━━━━━━━━━━━━━━━━\u001b[0m\u001b[37m\u001b[0m \u001b[1m14s\u001b[0m 18ms/step - accuracy: 0.9679 - loss: 0.1036 - val_accuracy: 0.9514 - val_loss: 0.1560\n",
      "Epoch 6/10\n",
      "\u001b[1m757/757\u001b[0m \u001b[32m━━━━━━━━━━━━━━━━━━━━\u001b[0m\u001b[37m\u001b[0m \u001b[1m13s\u001b[0m 17ms/step - accuracy: 0.9672 - loss: 0.1037 - val_accuracy: 0.9511 - val_loss: 0.1607\n",
      "Epoch 7/10\n",
      "\u001b[1m757/757\u001b[0m \u001b[32m━━━━━━━━━━━━━━━━━━━━\u001b[0m\u001b[37m\u001b[0m \u001b[1m14s\u001b[0m 18ms/step - accuracy: 0.9773 - loss: 0.0765 - val_accuracy: 0.9487 - val_loss: 0.1677\n",
      "\u001b[1m379/379\u001b[0m \u001b[32m━━━━━━━━━━━━━━━━━━━━\u001b[0m\u001b[37m\u001b[0m \u001b[1m3s\u001b[0m 8ms/step\n",
      "\n",
      "🏆 Training Results:\n",
      "🔹 Accuracy: 0.9518\n",
      "🔹 Precision: 0.9445\n",
      "🔹 Recall: 0.9454\n",
      "🔹 F1_score: 0.9449\n",
      "\n",
      "📂 Fold 5\n",
      "\n",
      "🚀 Training RNN with rnn_units=32, dropout_rate=0.3\n",
      "Epoch 1/10\n"
     ]
    },
    {
     "name": "stderr",
     "output_type": "stream",
     "text": [
      "/home/dariusng2103/projects/dm_project/fake-news/lib/python3.10/site-packages/keras/src/layers/core/embedding.py:90: UserWarning: Argument `input_length` is deprecated. Just remove it.\n",
      "  warnings.warn(\n"
     ]
    },
    {
     "name": "stdout",
     "output_type": "stream",
     "text": [
      "\u001b[1m757/757\u001b[0m \u001b[32m━━━━━━━━━━━━━━━━━━━━\u001b[0m\u001b[37m\u001b[0m \u001b[1m15s\u001b[0m 18ms/step - accuracy: 0.8560 - loss: 0.3385 - val_accuracy: 0.9227 - val_loss: 0.2216\n",
      "Epoch 2/10\n",
      "\u001b[1m757/757\u001b[0m \u001b[32m━━━━━━━━━━━━━━━━━━━━\u001b[0m\u001b[37m\u001b[0m \u001b[1m14s\u001b[0m 19ms/step - accuracy: 0.9187 - loss: 0.2320 - val_accuracy: 0.9392 - val_loss: 0.1783\n",
      "Epoch 3/10\n",
      "\u001b[1m757/757\u001b[0m \u001b[32m━━━━━━━━━━━━━━━━━━━━\u001b[0m\u001b[37m\u001b[0m \u001b[1m12s\u001b[0m 16ms/step - accuracy: 0.9515 - loss: 0.1511 - val_accuracy: 0.9450 - val_loss: 0.1627\n",
      "Epoch 4/10\n",
      "\u001b[1m757/757\u001b[0m \u001b[32m━━━━━━━━━━━━━━━━━━━━\u001b[0m\u001b[37m\u001b[0m \u001b[1m14s\u001b[0m 18ms/step - accuracy: 0.9600 - loss: 0.1251 - val_accuracy: 0.9473 - val_loss: 0.1549\n",
      "Epoch 5/10\n",
      "\u001b[1m757/757\u001b[0m \u001b[32m━━━━━━━━━━━━━━━━━━━━\u001b[0m\u001b[37m\u001b[0m \u001b[1m13s\u001b[0m 17ms/step - accuracy: 0.9700 - loss: 0.0958 - val_accuracy: 0.9429 - val_loss: 0.1961\n",
      "Epoch 6/10\n",
      "\u001b[1m757/757\u001b[0m \u001b[32m━━━━━━━━━━━━━━━━━━━━\u001b[0m\u001b[37m\u001b[0m \u001b[1m14s\u001b[0m 18ms/step - accuracy: 0.9728 - loss: 0.0828 - val_accuracy: 0.9465 - val_loss: 0.1783\n",
      "Epoch 7/10\n",
      "\u001b[1m757/757\u001b[0m \u001b[32m━━━━━━━━━━━━━━━━━━━━\u001b[0m\u001b[37m\u001b[0m \u001b[1m13s\u001b[0m 17ms/step - accuracy: 0.9598 - loss: 0.1217 - val_accuracy: 0.9397 - val_loss: 0.1848\n",
      "\u001b[1m379/379\u001b[0m \u001b[32m━━━━━━━━━━━━━━━━━━━━\u001b[0m\u001b[37m\u001b[0m \u001b[1m3s\u001b[0m 8ms/step\n",
      "\n",
      "🏆 Training Results:\n",
      "🔹 Accuracy: 0.9473\n",
      "🔹 Precision: 0.9434\n",
      "🔹 Recall: 0.9358\n",
      "🔹 F1_score: 0.9396\n",
      "📊 Average F1-score: 0.9419\n",
      "\n",
      "🔍 Testing rnn_units=32, dropout_rate=0.5\n",
      "\n",
      "📂 Fold 1\n",
      "\n",
      "🚀 Training RNN with rnn_units=32, dropout_rate=0.5\n",
      "Epoch 1/10\n"
     ]
    },
    {
     "name": "stderr",
     "output_type": "stream",
     "text": [
      "/home/dariusng2103/projects/dm_project/fake-news/lib/python3.10/site-packages/keras/src/layers/core/embedding.py:90: UserWarning: Argument `input_length` is deprecated. Just remove it.\n",
      "  warnings.warn(\n"
     ]
    },
    {
     "name": "stdout",
     "output_type": "stream",
     "text": [
      "\u001b[1m757/757\u001b[0m \u001b[32m━━━━━━━━━━━━━━━━━━━━\u001b[0m\u001b[37m\u001b[0m \u001b[1m16s\u001b[0m 20ms/step - accuracy: 0.8166 - loss: 0.3880 - val_accuracy: 0.9349 - val_loss: 0.1952\n",
      "Epoch 2/10\n",
      "\u001b[1m757/757\u001b[0m \u001b[32m━━━━━━━━━━━━━━━━━━━━\u001b[0m\u001b[37m\u001b[0m \u001b[1m13s\u001b[0m 17ms/step - accuracy: 0.9392 - loss: 0.1882 - val_accuracy: 0.8996 - val_loss: 0.2507\n",
      "Epoch 3/10\n",
      "\u001b[1m757/757\u001b[0m \u001b[32m━━━━━━━━━━━━━━━━━━━━\u001b[0m\u001b[37m\u001b[0m \u001b[1m14s\u001b[0m 19ms/step - accuracy: 0.9460 - loss: 0.1708 - val_accuracy: 0.9253 - val_loss: 0.2011\n",
      "Epoch 4/10\n",
      "\u001b[1m757/757\u001b[0m \u001b[32m━━━━━━━━━━━━━━━━━━━━\u001b[0m\u001b[37m\u001b[0m \u001b[1m12s\u001b[0m 16ms/step - accuracy: 0.9559 - loss: 0.1441 - val_accuracy: 0.9412 - val_loss: 0.1720\n",
      "Epoch 5/10\n",
      "\u001b[1m757/757\u001b[0m \u001b[32m━━━━━━━━━━━━━━━━━━━━\u001b[0m\u001b[37m\u001b[0m \u001b[1m14s\u001b[0m 19ms/step - accuracy: 0.9638 - loss: 0.1209 - val_accuracy: 0.9384 - val_loss: 0.2173\n",
      "Epoch 6/10\n",
      "\u001b[1m757/757\u001b[0m \u001b[32m━━━━━━━━━━━━━━━━━━━━\u001b[0m\u001b[37m\u001b[0m \u001b[1m14s\u001b[0m 19ms/step - accuracy: 0.9576 - loss: 0.1359 - val_accuracy: 0.9501 - val_loss: 0.1573\n",
      "Epoch 7/10\n",
      "\u001b[1m757/757\u001b[0m \u001b[32m━━━━━━━━━━━━━━━━━━━━\u001b[0m\u001b[37m\u001b[0m \u001b[1m13s\u001b[0m 17ms/step - accuracy: 0.9434 - loss: 0.1586 - val_accuracy: 0.9432 - val_loss: 0.1633\n",
      "Epoch 8/10\n",
      "\u001b[1m757/757\u001b[0m \u001b[32m━━━━━━━━━━━━━━━━━━━━\u001b[0m\u001b[37m\u001b[0m \u001b[1m14s\u001b[0m 18ms/step - accuracy: 0.9574 - loss: 0.1275 - val_accuracy: 0.9228 - val_loss: 0.1862\n",
      "Epoch 9/10\n",
      "\u001b[1m757/757\u001b[0m \u001b[32m━━━━━━━━━━━━━━━━━━━━\u001b[0m\u001b[37m\u001b[0m \u001b[1m12s\u001b[0m 16ms/step - accuracy: 0.9511 - loss: 0.1322 - val_accuracy: 0.9364 - val_loss: 0.1680\n",
      "\u001b[1m379/379\u001b[0m \u001b[32m━━━━━━━━━━━━━━━━━━━━\u001b[0m\u001b[37m\u001b[0m \u001b[1m3s\u001b[0m 8ms/step\n",
      "\n",
      "🏆 Training Results:\n",
      "🔹 Accuracy: 0.9501\n",
      "🔹 Precision: 0.9396\n",
      "🔹 Recall: 0.9467\n",
      "🔹 F1_score: 0.9432\n",
      "\n",
      "📂 Fold 2\n",
      "\n",
      "🚀 Training RNN with rnn_units=32, dropout_rate=0.5\n",
      "Epoch 1/10\n"
     ]
    },
    {
     "name": "stderr",
     "output_type": "stream",
     "text": [
      "/home/dariusng2103/projects/dm_project/fake-news/lib/python3.10/site-packages/keras/src/layers/core/embedding.py:90: UserWarning: Argument `input_length` is deprecated. Just remove it.\n",
      "  warnings.warn(\n"
     ]
    },
    {
     "name": "stdout",
     "output_type": "stream",
     "text": [
      "\u001b[1m757/757\u001b[0m \u001b[32m━━━━━━━━━━━━━━━━━━━━\u001b[0m\u001b[37m\u001b[0m \u001b[1m16s\u001b[0m 20ms/step - accuracy: 0.8148 - loss: 0.3925 - val_accuracy: 0.9068 - val_loss: 0.2549\n",
      "Epoch 2/10\n",
      "\u001b[1m757/757\u001b[0m \u001b[32m━━━━━━━━━━━━━━━━━━━━\u001b[0m\u001b[37m\u001b[0m \u001b[1m13s\u001b[0m 17ms/step - accuracy: 0.9218 - loss: 0.2358 - val_accuracy: 0.9422 - val_loss: 0.1582\n",
      "Epoch 3/10\n",
      "\u001b[1m757/757\u001b[0m \u001b[32m━━━━━━━━━━━━━━━━━━━━\u001b[0m\u001b[37m\u001b[0m \u001b[1m14s\u001b[0m 18ms/step - accuracy: 0.9449 - loss: 0.1742 - val_accuracy: 0.9402 - val_loss: 0.1629\n",
      "Epoch 4/10\n",
      "\u001b[1m757/757\u001b[0m \u001b[32m━━━━━━━━━━━━━━━━━━━━\u001b[0m\u001b[37m\u001b[0m \u001b[1m13s\u001b[0m 17ms/step - accuracy: 0.9587 - loss: 0.1313 - val_accuracy: 0.9435 - val_loss: 0.1883\n",
      "Epoch 5/10\n",
      "\u001b[1m757/757\u001b[0m \u001b[32m━━━━━━━━━━━━━━━━━━━━\u001b[0m\u001b[37m\u001b[0m \u001b[1m14s\u001b[0m 18ms/step - accuracy: 0.9557 - loss: 0.1403 - val_accuracy: 0.9485 - val_loss: 0.1674\n",
      "\u001b[1m379/379\u001b[0m \u001b[32m━━━━━━━━━━━━━━━━━━━━\u001b[0m\u001b[37m\u001b[0m \u001b[1m3s\u001b[0m 8ms/step\n",
      "\n",
      "🏆 Training Results:\n",
      "🔹 Accuracy: 0.9422\n",
      "🔹 Precision: 0.9368\n",
      "🔹 Recall: 0.9307\n",
      "🔹 F1_score: 0.9337\n",
      "\n",
      "📂 Fold 3\n",
      "\n",
      "🚀 Training RNN with rnn_units=32, dropout_rate=0.5\n",
      "Epoch 1/10\n"
     ]
    },
    {
     "name": "stderr",
     "output_type": "stream",
     "text": [
      "/home/dariusng2103/projects/dm_project/fake-news/lib/python3.10/site-packages/keras/src/layers/core/embedding.py:90: UserWarning: Argument `input_length` is deprecated. Just remove it.\n",
      "  warnings.warn(\n"
     ]
    },
    {
     "name": "stdout",
     "output_type": "stream",
     "text": [
      "\u001b[1m757/757\u001b[0m \u001b[32m━━━━━━━━━━━━━━━━━━━━\u001b[0m\u001b[37m\u001b[0m \u001b[1m15s\u001b[0m 18ms/step - accuracy: 0.8204 - loss: 0.3818 - val_accuracy: 0.9416 - val_loss: 0.1776\n",
      "Epoch 2/10\n",
      "\u001b[1m757/757\u001b[0m \u001b[32m━━━━━━━━━━━━━━━━━━━━\u001b[0m\u001b[37m\u001b[0m \u001b[1m14s\u001b[0m 18ms/step - accuracy: 0.9444 - loss: 0.1754 - val_accuracy: 0.9154 - val_loss: 0.2231\n",
      "Epoch 3/10\n",
      "\u001b[1m757/757\u001b[0m \u001b[32m━━━━━━━━━━━━━━━━━━━━\u001b[0m\u001b[37m\u001b[0m \u001b[1m12s\u001b[0m 16ms/step - accuracy: 0.9574 - loss: 0.1356 - val_accuracy: 0.9478 - val_loss: 0.1458\n",
      "Epoch 4/10\n",
      "\u001b[1m757/757\u001b[0m \u001b[32m━━━━━━━━━━━━━━━━━━━━\u001b[0m\u001b[37m\u001b[0m \u001b[1m14s\u001b[0m 19ms/step - accuracy: 0.9574 - loss: 0.1268 - val_accuracy: 0.9230 - val_loss: 0.2129\n",
      "Epoch 5/10\n",
      "\u001b[1m757/757\u001b[0m \u001b[32m━━━━━━━━━━━━━━━━━━━━\u001b[0m\u001b[37m\u001b[0m \u001b[1m14s\u001b[0m 19ms/step - accuracy: 0.9455 - loss: 0.1677 - val_accuracy: 0.9364 - val_loss: 0.1971\n",
      "Epoch 6/10\n",
      "\u001b[1m757/757\u001b[0m \u001b[32m━━━━━━━━━━━━━━━━━━━━\u001b[0m\u001b[37m\u001b[0m \u001b[1m13s\u001b[0m 17ms/step - accuracy: 0.9685 - loss: 0.1072 - val_accuracy: 0.9464 - val_loss: 0.1651\n",
      "\u001b[1m379/379\u001b[0m \u001b[32m━━━━━━━━━━━━━━━━━━━━\u001b[0m\u001b[37m\u001b[0m \u001b[1m3s\u001b[0m 8ms/step\n",
      "\n",
      "🏆 Training Results:\n",
      "🔹 Accuracy: 0.9478\n",
      "🔹 Precision: 0.9576\n",
      "🔹 Recall: 0.9216\n",
      "🔹 F1_score: 0.9392\n",
      "\n",
      "📂 Fold 4\n",
      "\n",
      "🚀 Training RNN with rnn_units=32, dropout_rate=0.5\n",
      "Epoch 1/10\n"
     ]
    },
    {
     "name": "stderr",
     "output_type": "stream",
     "text": [
      "/home/dariusng2103/projects/dm_project/fake-news/lib/python3.10/site-packages/keras/src/layers/core/embedding.py:90: UserWarning: Argument `input_length` is deprecated. Just remove it.\n",
      "  warnings.warn(\n"
     ]
    },
    {
     "name": "stdout",
     "output_type": "stream",
     "text": [
      "\u001b[1m757/757\u001b[0m \u001b[32m━━━━━━━━━━━━━━━━━━━━\u001b[0m\u001b[37m\u001b[0m \u001b[1m15s\u001b[0m 18ms/step - accuracy: 0.8249 - loss: 0.3817 - val_accuracy: 0.9408 - val_loss: 0.1816\n",
      "Epoch 2/10\n",
      "\u001b[1m757/757\u001b[0m \u001b[32m━━━━━━━━━━━━━━━━━━━━\u001b[0m\u001b[37m\u001b[0m \u001b[1m14s\u001b[0m 18ms/step - accuracy: 0.9329 - loss: 0.2040 - val_accuracy: 0.9504 - val_loss: 0.1555\n",
      "Epoch 3/10\n",
      "\u001b[1m757/757\u001b[0m \u001b[32m━━━━━━━━━━━━━━━━━━━━\u001b[0m\u001b[37m\u001b[0m \u001b[1m14s\u001b[0m 18ms/step - accuracy: 0.9542 - loss: 0.1454 - val_accuracy: 0.9488 - val_loss: 0.1525\n",
      "Epoch 4/10\n",
      "\u001b[1m757/757\u001b[0m \u001b[32m━━━━━━━━━━━━━━━━━━━━\u001b[0m\u001b[37m\u001b[0m \u001b[1m12s\u001b[0m 16ms/step - accuracy: 0.9531 - loss: 0.1394 - val_accuracy: 0.9284 - val_loss: 0.2339\n",
      "Epoch 5/10\n",
      "\u001b[1m757/757\u001b[0m \u001b[32m━━━━━━━━━━━━━━━━━━━━\u001b[0m\u001b[37m\u001b[0m \u001b[1m14s\u001b[0m 18ms/step - accuracy: 0.9610 - loss: 0.1186 - val_accuracy: 0.9432 - val_loss: 0.1893\n",
      "Epoch 6/10\n",
      "\u001b[1m757/757\u001b[0m \u001b[32m━━━━━━━━━━━━━━━━━━━━\u001b[0m\u001b[37m\u001b[0m \u001b[1m13s\u001b[0m 17ms/step - accuracy: 0.9458 - loss: 0.1667 - val_accuracy: 0.9417 - val_loss: 0.1881\n",
      "\u001b[1m379/379\u001b[0m \u001b[32m━━━━━━━━━━━━━━━━━━━━\u001b[0m\u001b[37m\u001b[0m \u001b[1m3s\u001b[0m 8ms/step\n",
      "\n",
      "🏆 Training Results:\n",
      "🔹 Accuracy: 0.9488\n",
      "🔹 Precision: 0.9613\n",
      "🔹 Recall: 0.9201\n",
      "🔹 F1_score: 0.9402\n",
      "\n",
      "📂 Fold 5\n",
      "\n",
      "🚀 Training RNN with rnn_units=32, dropout_rate=0.5\n",
      "Epoch 1/10\n"
     ]
    },
    {
     "name": "stderr",
     "output_type": "stream",
     "text": [
      "/home/dariusng2103/projects/dm_project/fake-news/lib/python3.10/site-packages/keras/src/layers/core/embedding.py:90: UserWarning: Argument `input_length` is deprecated. Just remove it.\n",
      "  warnings.warn(\n"
     ]
    },
    {
     "name": "stdout",
     "output_type": "stream",
     "text": [
      "\u001b[1m757/757\u001b[0m \u001b[32m━━━━━━━━━━━━━━━━━━━━\u001b[0m\u001b[37m\u001b[0m \u001b[1m16s\u001b[0m 20ms/step - accuracy: 0.8311 - loss: 0.3689 - val_accuracy: 0.9460 - val_loss: 0.1698\n",
      "Epoch 2/10\n",
      "\u001b[1m757/757\u001b[0m \u001b[32m━━━━━━━━━━━━━━━━━━━━\u001b[0m\u001b[37m\u001b[0m \u001b[1m13s\u001b[0m 17ms/step - accuracy: 0.9481 - loss: 0.1572 - val_accuracy: 0.9282 - val_loss: 0.2097\n",
      "Epoch 3/10\n",
      "\u001b[1m757/757\u001b[0m \u001b[32m━━━━━━━━━━━━━━━━━━━━\u001b[0m\u001b[37m\u001b[0m \u001b[1m14s\u001b[0m 19ms/step - accuracy: 0.9616 - loss: 0.1210 - val_accuracy: 0.9480 - val_loss: 0.1629\n",
      "Epoch 4/10\n",
      "\u001b[1m757/757\u001b[0m \u001b[32m━━━━━━━━━━━━━━━━━━━━\u001b[0m\u001b[37m\u001b[0m \u001b[1m12s\u001b[0m 16ms/step - accuracy: 0.9686 - loss: 0.0978 - val_accuracy: 0.9446 - val_loss: 0.2006\n",
      "Epoch 5/10\n",
      "\u001b[1m757/757\u001b[0m \u001b[32m━━━━━━━━━━━━━━━━━━━━\u001b[0m\u001b[37m\u001b[0m \u001b[1m14s\u001b[0m 19ms/step - accuracy: 0.9669 - loss: 0.1028 - val_accuracy: 0.9030 - val_loss: 0.2887\n",
      "Epoch 6/10\n",
      "\u001b[1m757/757\u001b[0m \u001b[32m━━━━━━━━━━━━━━━━━━━━\u001b[0m\u001b[37m\u001b[0m \u001b[1m12s\u001b[0m 16ms/step - accuracy: 0.9707 - loss: 0.0889 - val_accuracy: 0.9414 - val_loss: 0.2065\n",
      "\u001b[1m379/379\u001b[0m \u001b[32m━━━━━━━━━━━━━━━━━━━━\u001b[0m\u001b[37m\u001b[0m \u001b[1m3s\u001b[0m 8ms/step\n",
      "\n",
      "🏆 Training Results:\n",
      "🔹 Accuracy: 0.9480\n",
      "🔹 Precision: 0.9422\n",
      "🔹 Recall: 0.9388\n",
      "🔹 F1_score: 0.9405\n",
      "📊 Average F1-score: 0.9394\n",
      "\n",
      "🔍 Testing rnn_units=64, dropout_rate=0.3\n",
      "\n",
      "📂 Fold 1\n",
      "\n",
      "🚀 Training RNN with rnn_units=64, dropout_rate=0.3\n",
      "Epoch 1/10\n"
     ]
    },
    {
     "name": "stderr",
     "output_type": "stream",
     "text": [
      "/home/dariusng2103/projects/dm_project/fake-news/lib/python3.10/site-packages/keras/src/layers/core/embedding.py:90: UserWarning: Argument `input_length` is deprecated. Just remove it.\n",
      "  warnings.warn(\n"
     ]
    },
    {
     "name": "stdout",
     "output_type": "stream",
     "text": [
      "\u001b[1m757/757\u001b[0m \u001b[32m━━━━━━━━━━━━━━━━━━━━\u001b[0m\u001b[37m\u001b[0m \u001b[1m19s\u001b[0m 23ms/step - accuracy: 0.8710 - loss: 0.3013 - val_accuracy: 0.9446 - val_loss: 0.1644\n",
      "Epoch 2/10\n",
      "\u001b[1m757/757\u001b[0m \u001b[32m━━━━━━━━━━━━━━━━━━━━\u001b[0m\u001b[37m\u001b[0m \u001b[1m15s\u001b[0m 19ms/step - accuracy: 0.9449 - loss: 0.1606 - val_accuracy: 0.9164 - val_loss: 0.1993\n",
      "Epoch 3/10\n",
      "\u001b[1m757/757\u001b[0m \u001b[32m━━━━━━━━━━━━━━━━━━━━\u001b[0m\u001b[37m\u001b[0m \u001b[1m16s\u001b[0m 21ms/step - accuracy: 0.9434 - loss: 0.1586 - val_accuracy: 0.9465 - val_loss: 0.1667\n",
      "Epoch 4/10\n",
      "\u001b[1m757/757\u001b[0m \u001b[32m━━━━━━━━━━━━━━━━━━━━\u001b[0m\u001b[37m\u001b[0m \u001b[1m15s\u001b[0m 19ms/step - accuracy: 0.9412 - loss: 0.1639 - val_accuracy: 0.8127 - val_loss: 0.4066\n",
      "\u001b[1m379/379\u001b[0m \u001b[32m━━━━━━━━━━━━━━━━━━━━\u001b[0m\u001b[37m\u001b[0m \u001b[1m4s\u001b[0m 11ms/step\n",
      "\n",
      "🏆 Training Results:\n",
      "🔹 Accuracy: 0.9446\n",
      "🔹 Precision: 0.9118\n",
      "🔹 Recall: 0.9669\n",
      "🔹 F1_score: 0.9386\n",
      "\n",
      "📂 Fold 2\n",
      "\n",
      "🚀 Training RNN with rnn_units=64, dropout_rate=0.3\n",
      "Epoch 1/10\n"
     ]
    },
    {
     "name": "stderr",
     "output_type": "stream",
     "text": [
      "/home/dariusng2103/projects/dm_project/fake-news/lib/python3.10/site-packages/keras/src/layers/core/embedding.py:90: UserWarning: Argument `input_length` is deprecated. Just remove it.\n",
      "  warnings.warn(\n"
     ]
    },
    {
     "name": "stdout",
     "output_type": "stream",
     "text": [
      "\u001b[1m757/757\u001b[0m \u001b[32m━━━━━━━━━━━━━━━━━━━━\u001b[0m\u001b[37m\u001b[0m \u001b[1m17s\u001b[0m 21ms/step - accuracy: 0.8724 - loss: 0.2945 - val_accuracy: 0.9307 - val_loss: 0.1924\n",
      "Epoch 2/10\n",
      "\u001b[1m757/757\u001b[0m \u001b[32m━━━━━━━━━━━━━━━━━━━━\u001b[0m\u001b[37m\u001b[0m \u001b[1m16s\u001b[0m 21ms/step - accuracy: 0.9472 - loss: 0.1478 - val_accuracy: 0.9355 - val_loss: 0.1758\n",
      "Epoch 3/10\n",
      "\u001b[1m757/757\u001b[0m \u001b[32m━━━━━━━━━━━━━━━━━━━━\u001b[0m\u001b[37m\u001b[0m \u001b[1m15s\u001b[0m 19ms/step - accuracy: 0.9656 - loss: 0.1057 - val_accuracy: 0.9365 - val_loss: 0.1947\n",
      "Epoch 4/10\n",
      "\u001b[1m757/757\u001b[0m \u001b[32m━━━━━━━━━━━━━━━━━━━━\u001b[0m\u001b[37m\u001b[0m \u001b[1m16s\u001b[0m 22ms/step - accuracy: 0.9734 - loss: 0.0802 - val_accuracy: 0.7462 - val_loss: 0.7267\n",
      "Epoch 5/10\n",
      "\u001b[1m757/757\u001b[0m \u001b[32m━━━━━━━━━━━━━━━━━━━━\u001b[0m\u001b[37m\u001b[0m \u001b[1m15s\u001b[0m 20ms/step - accuracy: 0.8652 - loss: 0.3163 - val_accuracy: 0.9454 - val_loss: 0.1690\n",
      "Epoch 6/10\n",
      "\u001b[1m757/757\u001b[0m \u001b[32m━━━━━━━━━━━━━━━━━━━━\u001b[0m\u001b[37m\u001b[0m \u001b[1m17s\u001b[0m 22ms/step - accuracy: 0.9581 - loss: 0.1178 - val_accuracy: 0.9406 - val_loss: 0.1766\n",
      "Epoch 7/10\n",
      "\u001b[1m757/757\u001b[0m \u001b[32m━━━━━━━━━━━━━━━━━━━━\u001b[0m\u001b[37m\u001b[0m \u001b[1m15s\u001b[0m 19ms/step - accuracy: 0.9717 - loss: 0.0829 - val_accuracy: 0.9466 - val_loss: 0.1838\n",
      "Epoch 8/10\n",
      "\u001b[1m757/757\u001b[0m \u001b[32m━━━━━━━━━━━━━━━━━━━━\u001b[0m\u001b[37m\u001b[0m \u001b[1m16s\u001b[0m 21ms/step - accuracy: 0.9749 - loss: 0.0727 - val_accuracy: 0.9433 - val_loss: 0.1970\n",
      "\u001b[1m379/379\u001b[0m \u001b[32m━━━━━━━━━━━━━━━━━━━━\u001b[0m\u001b[37m\u001b[0m \u001b[1m4s\u001b[0m 11ms/step\n",
      "\n",
      "🏆 Training Results:\n",
      "🔹 Accuracy: 0.9454\n",
      "🔹 Precision: 0.9561\n",
      "🔹 Recall: 0.9174\n",
      "🔹 F1_score: 0.9364\n",
      "\n",
      "📂 Fold 3\n",
      "\n",
      "🚀 Training RNN with rnn_units=64, dropout_rate=0.3\n",
      "Epoch 1/10\n"
     ]
    },
    {
     "name": "stderr",
     "output_type": "stream",
     "text": [
      "/home/dariusng2103/projects/dm_project/fake-news/lib/python3.10/site-packages/keras/src/layers/core/embedding.py:90: UserWarning: Argument `input_length` is deprecated. Just remove it.\n",
      "  warnings.warn(\n"
     ]
    },
    {
     "name": "stdout",
     "output_type": "stream",
     "text": [
      "\u001b[1m757/757\u001b[0m \u001b[32m━━━━━━━━━━━━━━━━━━━━\u001b[0m\u001b[37m\u001b[0m \u001b[1m17s\u001b[0m 21ms/step - accuracy: 0.8711 - loss: 0.2943 - val_accuracy: 0.9408 - val_loss: 0.1692\n",
      "Epoch 2/10\n",
      "\u001b[1m757/757\u001b[0m \u001b[32m━━━━━━━━━━━━━━━━━━━━\u001b[0m\u001b[37m\u001b[0m \u001b[1m17s\u001b[0m 22ms/step - accuracy: 0.9408 - loss: 0.1649 - val_accuracy: 0.9492 - val_loss: 0.1471\n",
      "Epoch 3/10\n",
      "\u001b[1m757/757\u001b[0m \u001b[32m━━━━━━━━━━━━━━━━━━━━\u001b[0m\u001b[37m\u001b[0m \u001b[1m15s\u001b[0m 20ms/step - accuracy: 0.9598 - loss: 0.1186 - val_accuracy: 0.8598 - val_loss: 0.3275\n",
      "Epoch 4/10\n",
      "\u001b[1m757/757\u001b[0m \u001b[32m━━━━━━━━━━━━━━━━━━━━\u001b[0m\u001b[37m\u001b[0m \u001b[1m16s\u001b[0m 21ms/step - accuracy: 0.9421 - loss: 0.1658 - val_accuracy: 0.9485 - val_loss: 0.1598\n",
      "Epoch 5/10\n",
      "\u001b[1m757/757\u001b[0m \u001b[32m━━━━━━━━━━━━━━━━━━━━\u001b[0m\u001b[37m\u001b[0m \u001b[1m15s\u001b[0m 19ms/step - accuracy: 0.9622 - loss: 0.1075 - val_accuracy: 0.9482 - val_loss: 0.1662\n",
      "\u001b[1m379/379\u001b[0m \u001b[32m━━━━━━━━━━━━━━━━━━━━\u001b[0m\u001b[37m\u001b[0m \u001b[1m4s\u001b[0m 11ms/step\n",
      "\n",
      "🏆 Training Results:\n",
      "🔹 Accuracy: 0.9492\n",
      "🔹 Precision: 0.9615\n",
      "🔹 Recall: 0.9208\n",
      "🔹 F1_score: 0.9407\n",
      "\n",
      "📂 Fold 4\n",
      "\n",
      "🚀 Training RNN with rnn_units=64, dropout_rate=0.3\n",
      "Epoch 1/10\n"
     ]
    },
    {
     "name": "stderr",
     "output_type": "stream",
     "text": [
      "/home/dariusng2103/projects/dm_project/fake-news/lib/python3.10/site-packages/keras/src/layers/core/embedding.py:90: UserWarning: Argument `input_length` is deprecated. Just remove it.\n",
      "  warnings.warn(\n"
     ]
    },
    {
     "name": "stdout",
     "output_type": "stream",
     "text": [
      "\u001b[1m757/757\u001b[0m \u001b[32m━━━━━━━━━━━━━━━━━━━━\u001b[0m\u001b[37m\u001b[0m \u001b[1m17s\u001b[0m 21ms/step - accuracy: 0.8831 - loss: 0.2812 - val_accuracy: 0.9515 - val_loss: 0.1383\n",
      "Epoch 2/10\n",
      "\u001b[1m757/757\u001b[0m \u001b[32m━━━━━━━━━━━━━━━━━━━━\u001b[0m\u001b[37m\u001b[0m \u001b[1m16s\u001b[0m 22ms/step - accuracy: 0.9529 - loss: 0.1357 - val_accuracy: 0.9317 - val_loss: 0.1863\n",
      "Epoch 3/10\n",
      "\u001b[1m757/757\u001b[0m \u001b[32m━━━━━━━━━━━━━━━━━━━━\u001b[0m\u001b[37m\u001b[0m \u001b[1m15s\u001b[0m 19ms/step - accuracy: 0.9524 - loss: 0.1319 - val_accuracy: 0.8852 - val_loss: 0.2652\n",
      "Epoch 4/10\n",
      "\u001b[1m757/757\u001b[0m \u001b[32m━━━━━━━━━━━━━━━━━━━━\u001b[0m\u001b[37m\u001b[0m \u001b[1m16s\u001b[0m 21ms/step - accuracy: 0.9533 - loss: 0.1350 - val_accuracy: 0.9467 - val_loss: 0.1528\n",
      "\u001b[1m379/379\u001b[0m \u001b[32m━━━━━━━━━━━━━━━━━━━━\u001b[0m\u001b[37m\u001b[0m \u001b[1m4s\u001b[0m 11ms/step\n",
      "\n",
      "🏆 Training Results:\n",
      "🔹 Accuracy: 0.9515\n",
      "🔹 Precision: 0.9436\n",
      "🔹 Recall: 0.9456\n",
      "🔹 F1_score: 0.9446\n",
      "\n",
      "📂 Fold 5\n",
      "\n",
      "🚀 Training RNN with rnn_units=64, dropout_rate=0.3\n",
      "Epoch 1/10\n"
     ]
    },
    {
     "name": "stderr",
     "output_type": "stream",
     "text": [
      "/home/dariusng2103/projects/dm_project/fake-news/lib/python3.10/site-packages/keras/src/layers/core/embedding.py:90: UserWarning: Argument `input_length` is deprecated. Just remove it.\n",
      "  warnings.warn(\n"
     ]
    },
    {
     "name": "stdout",
     "output_type": "stream",
     "text": [
      "\u001b[1m757/757\u001b[0m \u001b[32m━━━━━━━━━━━━━━━━━━━━\u001b[0m\u001b[37m\u001b[0m \u001b[1m17s\u001b[0m 23ms/step - accuracy: 0.8577 - loss: 0.3168 - val_accuracy: 0.9395 - val_loss: 0.1729\n",
      "Epoch 2/10\n",
      "\u001b[1m757/757\u001b[0m \u001b[32m━━━━━━━━━━━━━━━━━━━━\u001b[0m\u001b[37m\u001b[0m \u001b[1m15s\u001b[0m 19ms/step - accuracy: 0.9500 - loss: 0.1420 - val_accuracy: 0.9402 - val_loss: 0.1720\n",
      "Epoch 3/10\n",
      "\u001b[1m757/757\u001b[0m \u001b[32m━━━━━━━━━━━━━━━━━━━━\u001b[0m\u001b[37m\u001b[0m \u001b[1m16s\u001b[0m 22ms/step - accuracy: 0.9656 - loss: 0.1017 - val_accuracy: 0.9489 - val_loss: 0.1682\n",
      "Epoch 4/10\n",
      "\u001b[1m757/757\u001b[0m \u001b[32m━━━━━━━━━━━━━━━━━━━━\u001b[0m\u001b[37m\u001b[0m \u001b[1m15s\u001b[0m 19ms/step - accuracy: 0.9720 - loss: 0.0856 - val_accuracy: 0.9411 - val_loss: 0.2002\n",
      "Epoch 5/10\n",
      "\u001b[1m757/757\u001b[0m \u001b[32m━━━━━━━━━━━━━━━━━━━━\u001b[0m\u001b[37m\u001b[0m \u001b[1m16s\u001b[0m 22ms/step - accuracy: 0.9751 - loss: 0.0779 - val_accuracy: 0.9330 - val_loss: 0.2183\n",
      "Epoch 6/10\n",
      "\u001b[1m757/757\u001b[0m \u001b[32m━━━━━━━━━━━━━━━━━━━━\u001b[0m\u001b[37m\u001b[0m \u001b[1m15s\u001b[0m 20ms/step - accuracy: 0.9744 - loss: 0.0736 - val_accuracy: 0.9337 - val_loss: 0.2081\n",
      "\u001b[1m379/379\u001b[0m \u001b[32m━━━━━━━━━━━━━━━━━━━━\u001b[0m\u001b[37m\u001b[0m \u001b[1m4s\u001b[0m 11ms/step\n",
      "\n",
      "🏆 Training Results:\n",
      "🔹 Accuracy: 0.9489\n",
      "🔹 Precision: 0.9710\n",
      "🔹 Recall: 0.9104\n",
      "🔹 F1_score: 0.9397\n",
      "📊 Average F1-score: 0.9400\n",
      "\n",
      "🔍 Testing rnn_units=64, dropout_rate=0.5\n",
      "\n",
      "📂 Fold 1\n",
      "\n",
      "🚀 Training RNN with rnn_units=64, dropout_rate=0.5\n",
      "Epoch 1/10\n"
     ]
    },
    {
     "name": "stderr",
     "output_type": "stream",
     "text": [
      "/home/dariusng2103/projects/dm_project/fake-news/lib/python3.10/site-packages/keras/src/layers/core/embedding.py:90: UserWarning: Argument `input_length` is deprecated. Just remove it.\n",
      "  warnings.warn(\n"
     ]
    },
    {
     "name": "stdout",
     "output_type": "stream",
     "text": [
      "\u001b[1m757/757\u001b[0m \u001b[32m━━━━━━━━━━━━━━━━━━━━\u001b[0m\u001b[37m\u001b[0m \u001b[1m19s\u001b[0m 23ms/step - accuracy: 0.8663 - loss: 0.3092 - val_accuracy: 0.9436 - val_loss: 0.1615\n",
      "Epoch 2/10\n",
      "\u001b[1m757/757\u001b[0m \u001b[32m━━━━━━━━━━━━━━━━━━━━\u001b[0m\u001b[37m\u001b[0m \u001b[1m15s\u001b[0m 20ms/step - accuracy: 0.9427 - loss: 0.1689 - val_accuracy: 0.8454 - val_loss: 0.3472\n",
      "Epoch 3/10\n",
      "\u001b[1m757/757\u001b[0m \u001b[32m━━━━━━━━━━━━━━━━━━━━\u001b[0m\u001b[37m\u001b[0m \u001b[1m16s\u001b[0m 21ms/step - accuracy: 0.9144 - loss: 0.2352 - val_accuracy: 0.9497 - val_loss: 0.1458\n",
      "Epoch 4/10\n",
      "\u001b[1m757/757\u001b[0m \u001b[32m━━━━━━━━━━━━━━━━━━━━\u001b[0m\u001b[37m\u001b[0m \u001b[1m15s\u001b[0m 19ms/step - accuracy: 0.9300 - loss: 0.1825 - val_accuracy: 0.9488 - val_loss: 0.1466\n",
      "Epoch 5/10\n",
      "\u001b[1m757/757\u001b[0m \u001b[32m━━━━━━━━━━━━━━━━━━━━\u001b[0m\u001b[37m\u001b[0m \u001b[1m17s\u001b[0m 23ms/step - accuracy: 0.9598 - loss: 0.1197 - val_accuracy: 0.9407 - val_loss: 0.1575\n",
      "Epoch 6/10\n",
      "\u001b[1m757/757\u001b[0m \u001b[32m━━━━━━━━━━━━━━━━━━━━\u001b[0m\u001b[37m\u001b[0m \u001b[1m15s\u001b[0m 20ms/step - accuracy: 0.9632 - loss: 0.1115 - val_accuracy: 0.9572 - val_loss: 0.1463\n",
      "\u001b[1m379/379\u001b[0m \u001b[32m━━━━━━━━━━━━━━━━━━━━\u001b[0m\u001b[37m\u001b[0m \u001b[1m4s\u001b[0m 11ms/step\n",
      "\n",
      "🏆 Training Results:\n",
      "🔹 Accuracy: 0.9497\n",
      "🔹 Precision: 0.9452\n",
      "🔹 Recall: 0.9394\n",
      "🔹 F1_score: 0.9423\n",
      "\n",
      "📂 Fold 2\n",
      "\n",
      "🚀 Training RNN with rnn_units=64, dropout_rate=0.5\n",
      "Epoch 1/10\n"
     ]
    },
    {
     "name": "stderr",
     "output_type": "stream",
     "text": [
      "/home/dariusng2103/projects/dm_project/fake-news/lib/python3.10/site-packages/keras/src/layers/core/embedding.py:90: UserWarning: Argument `input_length` is deprecated. Just remove it.\n",
      "  warnings.warn(\n"
     ]
    },
    {
     "name": "stdout",
     "output_type": "stream",
     "text": [
      "\u001b[1m757/757\u001b[0m \u001b[32m━━━━━━━━━━━━━━━━━━━━\u001b[0m\u001b[37m\u001b[0m \u001b[1m17s\u001b[0m 21ms/step - accuracy: 0.8560 - loss: 0.3286 - val_accuracy: 0.9351 - val_loss: 0.1743\n",
      "Epoch 2/10\n",
      "\u001b[1m757/757\u001b[0m \u001b[32m━━━━━━━━━━━━━━━━━━━━\u001b[0m\u001b[37m\u001b[0m \u001b[1m17s\u001b[0m 22ms/step - accuracy: 0.8772 - loss: 0.2978 - val_accuracy: 0.9167 - val_loss: 0.2347\n",
      "Epoch 3/10\n",
      "\u001b[1m757/757\u001b[0m \u001b[32m━━━━━━━━━━━━━━━━━━━━\u001b[0m\u001b[37m\u001b[0m \u001b[1m14s\u001b[0m 19ms/step - accuracy: 0.8275 - loss: 0.3809 - val_accuracy: 0.9199 - val_loss: 0.2099\n",
      "Epoch 4/10\n",
      "\u001b[1m757/757\u001b[0m \u001b[32m━━━━━━━━━━━━━━━━━━━━\u001b[0m\u001b[37m\u001b[0m \u001b[1m16s\u001b[0m 21ms/step - accuracy: 0.9034 - loss: 0.2491 - val_accuracy: 0.9342 - val_loss: 0.1753\n",
      "\u001b[1m379/379\u001b[0m \u001b[32m━━━━━━━━━━━━━━━━━━━━\u001b[0m\u001b[37m\u001b[0m \u001b[1m4s\u001b[0m 11ms/step\n",
      "\n",
      "🏆 Training Results:\n",
      "🔹 Accuracy: 0.9351\n",
      "🔹 Precision: 0.9708\n",
      "🔹 Recall: 0.8781\n",
      "🔹 F1_score: 0.9221\n",
      "\n",
      "📂 Fold 3\n",
      "\n",
      "🚀 Training RNN with rnn_units=64, dropout_rate=0.5\n",
      "Epoch 1/10\n"
     ]
    },
    {
     "name": "stderr",
     "output_type": "stream",
     "text": [
      "/home/dariusng2103/projects/dm_project/fake-news/lib/python3.10/site-packages/keras/src/layers/core/embedding.py:90: UserWarning: Argument `input_length` is deprecated. Just remove it.\n",
      "  warnings.warn(\n"
     ]
    },
    {
     "name": "stdout",
     "output_type": "stream",
     "text": [
      "\u001b[1m757/757\u001b[0m \u001b[32m━━━━━━━━━━━━━━━━━━━━\u001b[0m\u001b[37m\u001b[0m \u001b[1m19s\u001b[0m 23ms/step - accuracy: 0.8624 - loss: 0.3213 - val_accuracy: 0.9386 - val_loss: 0.1797\n",
      "Epoch 2/10\n",
      "\u001b[1m757/757\u001b[0m \u001b[32m━━━━━━━━━━━━━━━━━━━━\u001b[0m\u001b[37m\u001b[0m \u001b[1m15s\u001b[0m 20ms/step - accuracy: 0.9476 - loss: 0.1599 - val_accuracy: 0.8946 - val_loss: 0.2562\n",
      "Epoch 3/10\n",
      "\u001b[1m757/757\u001b[0m \u001b[32m━━━━━━━━━━━━━━━━━━━━\u001b[0m\u001b[37m\u001b[0m \u001b[1m16s\u001b[0m 21ms/step - accuracy: 0.9528 - loss: 0.1373 - val_accuracy: 0.9388 - val_loss: 0.1661\n",
      "Epoch 4/10\n",
      "\u001b[1m757/757\u001b[0m \u001b[32m━━━━━━━━━━━━━━━━━━━━\u001b[0m\u001b[37m\u001b[0m \u001b[1m15s\u001b[0m 19ms/step - accuracy: 0.9632 - loss: 0.1106 - val_accuracy: 0.9372 - val_loss: 0.2083\n",
      "Epoch 5/10\n",
      "\u001b[1m757/757\u001b[0m \u001b[32m━━━━━━━━━━━━━━━━━━━━\u001b[0m\u001b[37m\u001b[0m \u001b[1m16s\u001b[0m 21ms/step - accuracy: 0.8629 - loss: 0.3141 - val_accuracy: 0.9435 - val_loss: 0.1873\n",
      "Epoch 6/10\n",
      "\u001b[1m757/757\u001b[0m \u001b[32m━━━━━━━━━━━━━━━━━━━━\u001b[0m\u001b[37m\u001b[0m \u001b[1m15s\u001b[0m 19ms/step - accuracy: 0.9541 - loss: 0.1407 - val_accuracy: 0.9364 - val_loss: 0.1883\n",
      "\u001b[1m379/379\u001b[0m \u001b[32m━━━━━━━━━━━━━━━━━━━━\u001b[0m\u001b[37m\u001b[0m \u001b[1m4s\u001b[0m 11ms/step\n",
      "\n",
      "🏆 Training Results:\n",
      "🔹 Accuracy: 0.9388\n",
      "🔹 Precision: 0.9191\n",
      "🔹 Recall: 0.9429\n",
      "🔹 F1_score: 0.9309\n",
      "\n",
      "📂 Fold 4\n",
      "\n",
      "🚀 Training RNN with rnn_units=64, dropout_rate=0.5\n",
      "Epoch 1/10\n"
     ]
    },
    {
     "name": "stderr",
     "output_type": "stream",
     "text": [
      "/home/dariusng2103/projects/dm_project/fake-news/lib/python3.10/site-packages/keras/src/layers/core/embedding.py:90: UserWarning: Argument `input_length` is deprecated. Just remove it.\n",
      "  warnings.warn(\n"
     ]
    },
    {
     "name": "stdout",
     "output_type": "stream",
     "text": [
      "\u001b[1m757/757\u001b[0m \u001b[32m━━━━━━━━━━━━━━━━━━━━\u001b[0m\u001b[37m\u001b[0m \u001b[1m19s\u001b[0m 23ms/step - accuracy: 0.8694 - loss: 0.2995 - val_accuracy: 0.9428 - val_loss: 0.1651\n",
      "Epoch 2/10\n",
      "\u001b[1m757/757\u001b[0m \u001b[32m━━━━━━━━━━━━━━━━━━━━\u001b[0m\u001b[37m\u001b[0m \u001b[1m15s\u001b[0m 19ms/step - accuracy: 0.9506 - loss: 0.1495 - val_accuracy: 0.9214 - val_loss: 0.2170\n",
      "Epoch 3/10\n",
      "\u001b[1m757/757\u001b[0m \u001b[32m━━━━━━━━━━━━━━━━━━━━\u001b[0m\u001b[37m\u001b[0m \u001b[1m16s\u001b[0m 22ms/step - accuracy: 0.9515 - loss: 0.1454 - val_accuracy: 0.9466 - val_loss: 0.1653\n",
      "Epoch 4/10\n",
      "\u001b[1m757/757\u001b[0m \u001b[32m━━━━━━━━━━━━━━━━━━━━\u001b[0m\u001b[37m\u001b[0m \u001b[1m15s\u001b[0m 19ms/step - accuracy: 0.9185 - loss: 0.2177 - val_accuracy: 0.9302 - val_loss: 0.1986\n",
      "\u001b[1m379/379\u001b[0m \u001b[32m━━━━━━━━━━━━━━━━━━━━\u001b[0m\u001b[37m\u001b[0m \u001b[1m4s\u001b[0m 12ms/step\n",
      "\n",
      "🏆 Training Results:\n",
      "🔹 Accuracy: 0.9428\n",
      "🔹 Precision: 0.9302\n",
      "🔹 Recall: 0.9397\n",
      "🔹 F1_score: 0.9350\n",
      "\n",
      "📂 Fold 5\n",
      "\n",
      "🚀 Training RNN with rnn_units=64, dropout_rate=0.5\n",
      "Epoch 1/10\n"
     ]
    },
    {
     "name": "stderr",
     "output_type": "stream",
     "text": [
      "/home/dariusng2103/projects/dm_project/fake-news/lib/python3.10/site-packages/keras/src/layers/core/embedding.py:90: UserWarning: Argument `input_length` is deprecated. Just remove it.\n",
      "  warnings.warn(\n"
     ]
    },
    {
     "name": "stdout",
     "output_type": "stream",
     "text": [
      "\u001b[1m757/757\u001b[0m \u001b[32m━━━━━━━━━━━━━━━━━━━━\u001b[0m\u001b[37m\u001b[0m \u001b[1m17s\u001b[0m 21ms/step - accuracy: 0.8551 - loss: 0.3252 - val_accuracy: 0.9249 - val_loss: 0.2158\n",
      "Epoch 2/10\n",
      "\u001b[1m757/757\u001b[0m \u001b[32m━━━━━━━━━━━━━━━━━━━━\u001b[0m\u001b[37m\u001b[0m \u001b[1m16s\u001b[0m 22ms/step - accuracy: 0.9441 - loss: 0.1605 - val_accuracy: 0.9348 - val_loss: 0.1817\n",
      "Epoch 3/10\n",
      "\u001b[1m757/757\u001b[0m \u001b[32m━━━━━━━━━━━━━━━━━━━━\u001b[0m\u001b[37m\u001b[0m \u001b[1m14s\u001b[0m 19ms/step - accuracy: 0.9408 - loss: 0.1633 - val_accuracy: 0.9316 - val_loss: 0.1799\n",
      "Epoch 4/10\n",
      "\u001b[1m757/757\u001b[0m \u001b[32m━━━━━━━━━━━━━━━━━━━━\u001b[0m\u001b[37m\u001b[0m \u001b[1m16s\u001b[0m 21ms/step - accuracy: 0.9487 - loss: 0.1505 - val_accuracy: 0.9328 - val_loss: 0.1981\n",
      "Epoch 5/10\n",
      "\u001b[1m757/757\u001b[0m \u001b[32m━━━━━━━━━━━━━━━━━━━━\u001b[0m\u001b[37m\u001b[0m \u001b[1m15s\u001b[0m 20ms/step - accuracy: 0.9654 - loss: 0.1045 - val_accuracy: 0.9421 - val_loss: 0.1745\n",
      "Epoch 6/10\n",
      "\u001b[1m757/757\u001b[0m \u001b[32m━━━━━━━━━━━━━━━━━━━━\u001b[0m\u001b[37m\u001b[0m \u001b[1m16s\u001b[0m 22ms/step - accuracy: 0.9701 - loss: 0.0908 - val_accuracy: 0.9398 - val_loss: 0.1865\n",
      "Epoch 7/10\n",
      "\u001b[1m757/757\u001b[0m \u001b[32m━━━━━━━━━━━━━━━━━━━━\u001b[0m\u001b[37m\u001b[0m \u001b[1m15s\u001b[0m 20ms/step - accuracy: 0.9665 - loss: 0.0990 - val_accuracy: 0.9415 - val_loss: 0.2006\n",
      "Epoch 8/10\n",
      "\u001b[1m757/757\u001b[0m \u001b[32m━━━━━━━━━━━━━━━━━━━━\u001b[0m\u001b[37m\u001b[0m \u001b[1m16s\u001b[0m 22ms/step - accuracy: 0.9772 - loss: 0.0688 - val_accuracy: 0.9407 - val_loss: 0.2382\n",
      "\u001b[1m379/379\u001b[0m \u001b[32m━━━━━━━━━━━━━━━━━━━━\u001b[0m\u001b[37m\u001b[0m \u001b[1m4s\u001b[0m 11ms/step\n",
      "\n",
      "🏆 Training Results:\n",
      "🔹 Accuracy: 0.9421\n",
      "🔹 Precision: 0.9392\n",
      "🔹 Recall: 0.9276\n",
      "🔹 F1_score: 0.9334\n",
      "📊 Average F1-score: 0.9327\n",
      "CPU times: user 2h 2min 5s, sys: 5min 48s, total: 2h 7min 53s\n",
      "Wall time: 1h 2min\n"
     ]
    }
   ],
   "source": [
    "%%time\n",
    "best_params = do_grid_search(data)\n"
   ]
  },
  {
   "cell_type": "code",
   "execution_count": 20,
   "metadata": {},
   "outputs": [
    {
     "name": "stdout",
     "output_type": "stream",
     "text": [
      "\n",
      "🚀 Training RNN with rnn_units=32, dropout_rate=0.3\n",
      "Epoch 1/10\n"
     ]
    },
    {
     "name": "stderr",
     "output_type": "stream",
     "text": [
      "/home/dariusng2103/projects/dm_project/fake-news/lib/python3.10/site-packages/keras/src/layers/core/embedding.py:90: UserWarning: Argument `input_length` is deprecated. Just remove it.\n",
      "  warnings.warn(\n"
     ]
    },
    {
     "name": "stdout",
     "output_type": "stream",
     "text": [
      "\u001b[1m851/851\u001b[0m \u001b[32m━━━━━━━━━━━━━━━━━━━━\u001b[0m\u001b[37m\u001b[0m \u001b[1m17s\u001b[0m 19ms/step - accuracy: 0.8364 - loss: 0.3494 - val_accuracy: 0.9450 - val_loss: 0.1645\n",
      "Epoch 2/10\n",
      "\u001b[1m851/851\u001b[0m \u001b[32m━━━━━━━━━━━━━━━━━━━━\u001b[0m\u001b[37m\u001b[0m \u001b[1m16s\u001b[0m 19ms/step - accuracy: 0.9502 - loss: 0.1520 - val_accuracy: 0.9496 - val_loss: 0.1555\n",
      "Epoch 3/10\n",
      "\u001b[1m851/851\u001b[0m \u001b[32m━━━━━━━━━━━━━━━━━━━━\u001b[0m\u001b[37m\u001b[0m \u001b[1m15s\u001b[0m 17ms/step - accuracy: 0.9559 - loss: 0.1355 - val_accuracy: 0.9428 - val_loss: 0.1708\n",
      "Epoch 4/10\n",
      "\u001b[1m851/851\u001b[0m \u001b[32m━━━━━━━━━━━━━━━━━━━━\u001b[0m\u001b[37m\u001b[0m \u001b[1m16s\u001b[0m 19ms/step - accuracy: 0.9548 - loss: 0.1392 - val_accuracy: 0.9431 - val_loss: 0.1897\n",
      "Epoch 5/10\n",
      "\u001b[1m851/851\u001b[0m \u001b[32m━━━━━━━━━━━━━━━━━━━━\u001b[0m\u001b[37m\u001b[0m \u001b[1m14s\u001b[0m 17ms/step - accuracy: 0.9661 - loss: 0.1035 - val_accuracy: 0.9428 - val_loss: 0.1725\n",
      "\u001b[1m190/190\u001b[0m \u001b[32m━━━━━━━━━━━━━━━━━━━━\u001b[0m\u001b[37m\u001b[0m \u001b[1m2s\u001b[0m 10ms/step\n",
      "\n",
      "🏆 Training Results:\n",
      "🔹 Accuracy: 0.9496\n",
      "🔹 Precision: 0.9308\n",
      "🔹 Recall: 0.9558\n",
      "🔹 F1_score: 0.9432\n",
      "CPU times: user 7min 9s, sys: 14.9 s, total: 7min 24s\n",
      "Wall time: 3min 14s\n"
     ]
    }
   ],
   "source": [
    "%%time\n",
    "model = train_model(train_data, val_data, rnn_units=best_params[\"rnn_units\"], dropout_rate=best_params[\"dropout_rate\"])\n"
   ]
  },
  {
   "cell_type": "code",
   "execution_count": 21,
   "metadata": {},
   "outputs": [],
   "source": [
    "model.save(\"results/RNN_model_original.keras\")"
   ]
  },
  {
   "cell_type": "code",
   "execution_count": 22,
   "metadata": {},
   "outputs": [
    {
     "data": {
      "text/html": [
       "<pre style=\"white-space:pre;overflow-x:auto;line-height:normal;font-family:Menlo,'DejaVu Sans Mono',consolas,'Courier New',monospace\"><span style=\"font-weight: bold\">Model: \"sequential_22\"</span>\n",
       "</pre>\n"
      ],
      "text/plain": [
       "\u001b[1mModel: \"sequential_22\"\u001b[0m\n"
      ]
     },
     "metadata": {},
     "output_type": "display_data"
    },
    {
     "data": {
      "text/html": [
       "<pre style=\"white-space:pre;overflow-x:auto;line-height:normal;font-family:Menlo,'DejaVu Sans Mono',consolas,'Courier New',monospace\">┏━━━━━━━━━━━━━━━━━━━━━━━━━━━━━━━━━┳━━━━━━━━━━━━━━━━━━━━━━━━┳━━━━━━━━━━━━━━━┓\n",
       "┃<span style=\"font-weight: bold\"> Layer (type)                    </span>┃<span style=\"font-weight: bold\"> Output Shape           </span>┃<span style=\"font-weight: bold\">       Param # </span>┃\n",
       "┡━━━━━━━━━━━━━━━━━━━━━━━━━━━━━━━━━╇━━━━━━━━━━━━━━━━━━━━━━━━╇━━━━━━━━━━━━━━━┩\n",
       "│ embedding_22 (<span style=\"color: #0087ff; text-decoration-color: #0087ff\">Embedding</span>)        │ (<span style=\"color: #00d7ff; text-decoration-color: #00d7ff\">None</span>, <span style=\"color: #00af00; text-decoration-color: #00af00\">300</span>, <span style=\"color: #00af00; text-decoration-color: #00af00\">128</span>)       │       <span style=\"color: #00af00; text-decoration-color: #00af00\">640,000</span> │\n",
       "├─────────────────────────────────┼────────────────────────┼───────────────┤\n",
       "│ simple_rnn_22 (<span style=\"color: #0087ff; text-decoration-color: #0087ff\">SimpleRNN</span>)       │ (<span style=\"color: #00d7ff; text-decoration-color: #00d7ff\">None</span>, <span style=\"color: #00af00; text-decoration-color: #00af00\">32</span>)             │         <span style=\"color: #00af00; text-decoration-color: #00af00\">5,152</span> │\n",
       "├─────────────────────────────────┼────────────────────────┼───────────────┤\n",
       "│ dropout_22 (<span style=\"color: #0087ff; text-decoration-color: #0087ff\">Dropout</span>)            │ (<span style=\"color: #00d7ff; text-decoration-color: #00d7ff\">None</span>, <span style=\"color: #00af00; text-decoration-color: #00af00\">32</span>)             │             <span style=\"color: #00af00; text-decoration-color: #00af00\">0</span> │\n",
       "├─────────────────────────────────┼────────────────────────┼───────────────┤\n",
       "│ dense_22 (<span style=\"color: #0087ff; text-decoration-color: #0087ff\">Dense</span>)                │ (<span style=\"color: #00d7ff; text-decoration-color: #00d7ff\">None</span>, <span style=\"color: #00af00; text-decoration-color: #00af00\">1</span>)              │            <span style=\"color: #00af00; text-decoration-color: #00af00\">33</span> │\n",
       "└─────────────────────────────────┴────────────────────────┴───────────────┘\n",
       "</pre>\n"
      ],
      "text/plain": [
       "┏━━━━━━━━━━━━━━━━━━━━━━━━━━━━━━━━━┳━━━━━━━━━━━━━━━━━━━━━━━━┳━━━━━━━━━━━━━━━┓\n",
       "┃\u001b[1m \u001b[0m\u001b[1mLayer (type)                   \u001b[0m\u001b[1m \u001b[0m┃\u001b[1m \u001b[0m\u001b[1mOutput Shape          \u001b[0m\u001b[1m \u001b[0m┃\u001b[1m \u001b[0m\u001b[1m      Param #\u001b[0m\u001b[1m \u001b[0m┃\n",
       "┡━━━━━━━━━━━━━━━━━━━━━━━━━━━━━━━━━╇━━━━━━━━━━━━━━━━━━━━━━━━╇━━━━━━━━━━━━━━━┩\n",
       "│ embedding_22 (\u001b[38;5;33mEmbedding\u001b[0m)        │ (\u001b[38;5;45mNone\u001b[0m, \u001b[38;5;34m300\u001b[0m, \u001b[38;5;34m128\u001b[0m)       │       \u001b[38;5;34m640,000\u001b[0m │\n",
       "├─────────────────────────────────┼────────────────────────┼───────────────┤\n",
       "│ simple_rnn_22 (\u001b[38;5;33mSimpleRNN\u001b[0m)       │ (\u001b[38;5;45mNone\u001b[0m, \u001b[38;5;34m32\u001b[0m)             │         \u001b[38;5;34m5,152\u001b[0m │\n",
       "├─────────────────────────────────┼────────────────────────┼───────────────┤\n",
       "│ dropout_22 (\u001b[38;5;33mDropout\u001b[0m)            │ (\u001b[38;5;45mNone\u001b[0m, \u001b[38;5;34m32\u001b[0m)             │             \u001b[38;5;34m0\u001b[0m │\n",
       "├─────────────────────────────────┼────────────────────────┼───────────────┤\n",
       "│ dense_22 (\u001b[38;5;33mDense\u001b[0m)                │ (\u001b[38;5;45mNone\u001b[0m, \u001b[38;5;34m1\u001b[0m)              │            \u001b[38;5;34m33\u001b[0m │\n",
       "└─────────────────────────────────┴────────────────────────┴───────────────┘\n"
      ]
     },
     "metadata": {},
     "output_type": "display_data"
    },
    {
     "data": {
      "text/html": [
       "<pre style=\"white-space:pre;overflow-x:auto;line-height:normal;font-family:Menlo,'DejaVu Sans Mono',consolas,'Courier New',monospace\"><span style=\"font-weight: bold\"> Total params: </span><span style=\"color: #00af00; text-decoration-color: #00af00\">1,935,557</span> (7.38 MB)\n",
       "</pre>\n"
      ],
      "text/plain": [
       "\u001b[1m Total params: \u001b[0m\u001b[38;5;34m1,935,557\u001b[0m (7.38 MB)\n"
      ]
     },
     "metadata": {},
     "output_type": "display_data"
    },
    {
     "data": {
      "text/html": [
       "<pre style=\"white-space:pre;overflow-x:auto;line-height:normal;font-family:Menlo,'DejaVu Sans Mono',consolas,'Courier New',monospace\"><span style=\"font-weight: bold\"> Trainable params: </span><span style=\"color: #00af00; text-decoration-color: #00af00\">645,185</span> (2.46 MB)\n",
       "</pre>\n"
      ],
      "text/plain": [
       "\u001b[1m Trainable params: \u001b[0m\u001b[38;5;34m645,185\u001b[0m (2.46 MB)\n"
      ]
     },
     "metadata": {},
     "output_type": "display_data"
    },
    {
     "data": {
      "text/html": [
       "<pre style=\"white-space:pre;overflow-x:auto;line-height:normal;font-family:Menlo,'DejaVu Sans Mono',consolas,'Courier New',monospace\"><span style=\"font-weight: bold\"> Non-trainable params: </span><span style=\"color: #00af00; text-decoration-color: #00af00\">0</span> (0.00 B)\n",
       "</pre>\n"
      ],
      "text/plain": [
       "\u001b[1m Non-trainable params: \u001b[0m\u001b[38;5;34m0\u001b[0m (0.00 B)\n"
      ]
     },
     "metadata": {},
     "output_type": "display_data"
    },
    {
     "data": {
      "text/html": [
       "<pre style=\"white-space:pre;overflow-x:auto;line-height:normal;font-family:Menlo,'DejaVu Sans Mono',consolas,'Courier New',monospace\"><span style=\"font-weight: bold\"> Optimizer params: </span><span style=\"color: #00af00; text-decoration-color: #00af00\">1,290,372</span> (4.92 MB)\n",
       "</pre>\n"
      ],
      "text/plain": [
       "\u001b[1m Optimizer params: \u001b[0m\u001b[38;5;34m1,290,372\u001b[0m (4.92 MB)\n"
      ]
     },
     "metadata": {},
     "output_type": "display_data"
    }
   ],
   "source": [
    "# load model\n",
    "from tensorflow.keras.models import load_model\n",
    "\n",
    "model2 = load_model(\"results/RNN_model_original.keras\")\n",
    "model2.summary()"
   ]
  },
  {
   "cell_type": "code",
   "execution_count": 23,
   "metadata": {},
   "outputs": [
    {
     "name": "stdout",
     "output_type": "stream",
     "text": [
      "Evaluating Model\n",
      "\u001b[1m190/190\u001b[0m \u001b[32m━━━━━━━━━━━━━━━━━━━━\u001b[0m\u001b[37m\u001b[0m \u001b[1m2s\u001b[0m 10ms/step\n",
      "Accuracy: 0.9479\n",
      "Precision: 0.9262\n",
      "Recall: 0.9573\n",
      "F1: 0.9415\n",
      "CPU times: user 9.9 s, sys: 443 ms, total: 10.3 s\n",
      "Wall time: 9.31 s\n"
     ]
    }
   ],
   "source": [
    "%%time\n",
    "evaluate_model(model, train_data, val_data)\n"
   ]
  },
  {
   "cell_type": "code",
   "execution_count": 24,
   "metadata": {},
   "outputs": [
    {
     "name": "stdout",
     "output_type": "stream",
     "text": [
      "Evaluating Model\n",
      "\u001b[1m190/190\u001b[0m \u001b[32m━━━━━━━━━━━━━━━━━━━━\u001b[0m\u001b[37m\u001b[0m \u001b[1m2s\u001b[0m 11ms/step\n",
      "Accuracy: 0.9479\n",
      "Precision: 0.9262\n",
      "Recall: 0.9573\n",
      "F1: 0.9415\n",
      "CPU times: user 10.2 s, sys: 354 ms, total: 10.5 s\n",
      "Wall time: 11.1 s\n"
     ]
    }
   ],
   "source": [
    "%%time\n",
    "evaluate_model(model2, train_data, val_data)"
   ]
  },
  {
   "cell_type": "code",
   "execution_count": 25,
   "metadata": {},
   "outputs": [
    {
     "name": "stdout",
     "output_type": "stream",
     "text": [
      "<class 'pandas.core.frame.DataFrame'>\n",
      "RangeIndex: 120982 entries, 0 to 120981\n",
      "Data columns (total 3 columns):\n",
      " #   Column                  Non-Null Count   Dtype \n",
      "---  ------                  --------------   ----- \n",
      " 0   label                   120982 non-null  int64 \n",
      " 1   full_content            120982 non-null  object\n",
      " 2   processed_full_content  120982 non-null  object\n",
      "dtypes: int64(1), object(2)\n",
      "memory usage: 2.8+ MB\n"
     ]
    }
   ],
   "source": [
    "val_data_rewritten = datasets[\"rewritten_test\"].to_pandas()\n",
    "train_data_rewritten = datasets[\"rewritten_train\"].to_pandas()\n",
    "data_rewritten = pd.concat([train_data, train_data_rewritten, val_data, val_data_rewritten], ignore_index=True)\n",
    "data_rewritten.info()"
   ]
  },
  {
   "cell_type": "code",
   "execution_count": 26,
   "metadata": {},
   "outputs": [
    {
     "name": "stdout",
     "output_type": "stream",
     "text": [
      "Evaluating Model\n",
      "\u001b[1m190/190\u001b[0m \u001b[32m━━━━━━━━━━━━━━━━━━━━\u001b[0m\u001b[37m\u001b[0m \u001b[1m2s\u001b[0m 9ms/step\n",
      "Accuracy: 0.7621\n",
      "Precision: 0.7606\n",
      "Recall: 0.6660\n",
      "F1: 0.7102\n",
      "CPU times: user 9.52 s, sys: 367 ms, total: 9.88 s\n",
      "Wall time: 10.3 s\n"
     ]
    }
   ],
   "source": [
    "%%time\n",
    "\n",
    "evaluate_model(model, train_data, val_data_rewritten)"
   ]
  },
  {
   "cell_type": "code",
   "execution_count": 27,
   "metadata": {},
   "outputs": [
    {
     "name": "stdout",
     "output_type": "stream",
     "text": [
      "Evaluating Model\n",
      "\u001b[1m190/190\u001b[0m \u001b[32m━━━━━━━━━━━━━━━━━━━━\u001b[0m\u001b[37m\u001b[0m \u001b[1m2s\u001b[0m 11ms/step\n",
      "Accuracy: 0.7621\n",
      "Precision: 0.7606\n",
      "Recall: 0.6660\n",
      "F1: 0.7102\n",
      "CPU times: user 10.5 s, sys: 338 ms, total: 10.8 s\n",
      "Wall time: 9.78 s\n"
     ]
    }
   ],
   "source": [
    "%%time\n",
    "\n",
    "evaluate_model(model2, train_data, val_data_rewritten)"
   ]
  },
  {
   "cell_type": "code",
   "execution_count": 28,
   "metadata": {},
   "outputs": [
    {
     "name": "stdout",
     "output_type": "stream",
     "text": [
      "\n",
      "🔍 Testing rnn_units=32, dropout_rate=0.3\n",
      "\n",
      "📂 Fold 1\n",
      "\n",
      "🚀 Training RNN with rnn_units=32, dropout_rate=0.3\n",
      "Epoch 1/10\n"
     ]
    },
    {
     "name": "stderr",
     "output_type": "stream",
     "text": [
      "/home/dariusng2103/projects/dm_project/fake-news/lib/python3.10/site-packages/keras/src/layers/core/embedding.py:90: UserWarning: Argument `input_length` is deprecated. Just remove it.\n",
      "  warnings.warn(\n"
     ]
    },
    {
     "name": "stdout",
     "output_type": "stream",
     "text": [
      "\u001b[1m1513/1513\u001b[0m \u001b[32m━━━━━━━━━━━━━━━━━━━━\u001b[0m\u001b[37m\u001b[0m \u001b[1m33s\u001b[0m 21ms/step - accuracy: 0.7992 - loss: 0.4446 - val_accuracy: 0.7539 - val_loss: 0.4865\n",
      "Epoch 2/10\n",
      "\u001b[1m1513/1513\u001b[0m \u001b[32m━━━━━━━━━━━━━━━━━━━━\u001b[0m\u001b[37m\u001b[0m \u001b[1m29s\u001b[0m 19ms/step - accuracy: 0.7295 - loss: 0.5118 - val_accuracy: 0.8742 - val_loss: 0.3264\n",
      "Epoch 3/10\n",
      "\u001b[1m1513/1513\u001b[0m \u001b[32m━━━━━━━━━━━━━━━━━━━━\u001b[0m\u001b[37m\u001b[0m \u001b[1m30s\u001b[0m 20ms/step - accuracy: 0.8226 - loss: 0.4076 - val_accuracy: 0.8683 - val_loss: 0.3389\n",
      "Epoch 4/10\n",
      "\u001b[1m1513/1513\u001b[0m \u001b[32m━━━━━━━━━━━━━━━━━━━━\u001b[0m\u001b[37m\u001b[0m \u001b[1m30s\u001b[0m 20ms/step - accuracy: 0.8631 - loss: 0.3490 - val_accuracy: 0.8597 - val_loss: 0.3481\n",
      "Epoch 5/10\n",
      "\u001b[1m1513/1513\u001b[0m \u001b[32m━━━━━━━━━━━━━━━━━━━━\u001b[0m\u001b[37m\u001b[0m \u001b[1m30s\u001b[0m 20ms/step - accuracy: 0.8587 - loss: 0.3371 - val_accuracy: 0.8750 - val_loss: 0.3273\n",
      "\u001b[1m757/757\u001b[0m \u001b[32m━━━━━━━━━━━━━━━━━━━━\u001b[0m\u001b[37m\u001b[0m \u001b[1m7s\u001b[0m 10ms/step\n",
      "\n",
      "🏆 Training Results:\n",
      "🔹 Accuracy: 0.8742\n",
      "🔹 Precision: 0.8468\n",
      "🔹 Recall: 0.8699\n",
      "🔹 F1_score: 0.8582\n",
      "\n",
      "📂 Fold 2\n",
      "\n",
      "🚀 Training RNN with rnn_units=32, dropout_rate=0.3\n",
      "Epoch 1/10\n"
     ]
    },
    {
     "name": "stderr",
     "output_type": "stream",
     "text": [
      "/home/dariusng2103/projects/dm_project/fake-news/lib/python3.10/site-packages/keras/src/layers/core/embedding.py:90: UserWarning: Argument `input_length` is deprecated. Just remove it.\n",
      "  warnings.warn(\n"
     ]
    },
    {
     "name": "stdout",
     "output_type": "stream",
     "text": [
      "\u001b[1m1513/1513\u001b[0m \u001b[32m━━━━━━━━━━━━━━━━━━━━\u001b[0m\u001b[37m\u001b[0m \u001b[1m33s\u001b[0m 21ms/step - accuracy: 0.8047 - loss: 0.4220 - val_accuracy: 0.7996 - val_loss: 0.4390\n",
      "Epoch 2/10\n",
      "\u001b[1m1513/1513\u001b[0m \u001b[32m━━━━━━━━━━━━━━━━━━━━\u001b[0m\u001b[37m\u001b[0m \u001b[1m31s\u001b[0m 21ms/step - accuracy: 0.8619 - loss: 0.3447 - val_accuracy: 0.8686 - val_loss: 0.3225\n",
      "Epoch 3/10\n",
      "\u001b[1m1513/1513\u001b[0m \u001b[32m━━━━━━━━━━━━━━━━━━━━\u001b[0m\u001b[37m\u001b[0m \u001b[1m30s\u001b[0m 20ms/step - accuracy: 0.8667 - loss: 0.3234 - val_accuracy: 0.8735 - val_loss: 0.3382\n",
      "Epoch 4/10\n",
      "\u001b[1m1513/1513\u001b[0m \u001b[32m━━━━━━━━━━━━━━━━━━━━\u001b[0m\u001b[37m\u001b[0m \u001b[1m30s\u001b[0m 20ms/step - accuracy: 0.8517 - loss: 0.3620 - val_accuracy: 0.8902 - val_loss: 0.2858\n",
      "Epoch 5/10\n",
      "\u001b[1m1513/1513\u001b[0m \u001b[32m━━━━━━━━━━━━━━━━━━━━\u001b[0m\u001b[37m\u001b[0m \u001b[1m30s\u001b[0m 20ms/step - accuracy: 0.8543 - loss: 0.3688 - val_accuracy: 0.8678 - val_loss: 0.3369\n",
      "Epoch 6/10\n",
      "\u001b[1m1513/1513\u001b[0m \u001b[32m━━━━━━━━━━━━━━━━━━━━\u001b[0m\u001b[37m\u001b[0m \u001b[1m30s\u001b[0m 20ms/step - accuracy: 0.8710 - loss: 0.3339 - val_accuracy: 0.8799 - val_loss: 0.2895\n",
      "Epoch 7/10\n",
      "\u001b[1m1513/1513\u001b[0m \u001b[32m━━━━━━━━━━━━━━━━━━━━\u001b[0m\u001b[37m\u001b[0m \u001b[1m30s\u001b[0m 20ms/step - accuracy: 0.8601 - loss: 0.3415 - val_accuracy: 0.8852 - val_loss: 0.3202\n",
      "\u001b[1m757/757\u001b[0m \u001b[32m━━━━━━━━━━━━━━━━━━━━\u001b[0m\u001b[37m\u001b[0m \u001b[1m6s\u001b[0m 8ms/step\n",
      "\n",
      "🏆 Training Results:\n",
      "🔹 Accuracy: 0.8902\n",
      "🔹 Precision: 0.8719\n",
      "🔹 Recall: 0.8780\n",
      "🔹 F1_score: 0.8749\n",
      "\n",
      "📂 Fold 3\n",
      "\n",
      "🚀 Training RNN with rnn_units=32, dropout_rate=0.3\n",
      "Epoch 1/10\n"
     ]
    },
    {
     "name": "stderr",
     "output_type": "stream",
     "text": [
      "/home/dariusng2103/projects/dm_project/fake-news/lib/python3.10/site-packages/keras/src/layers/core/embedding.py:90: UserWarning: Argument `input_length` is deprecated. Just remove it.\n",
      "  warnings.warn(\n"
     ]
    },
    {
     "name": "stdout",
     "output_type": "stream",
     "text": [
      "\u001b[1m1513/1513\u001b[0m \u001b[32m━━━━━━━━━━━━━━━━━━━━\u001b[0m\u001b[37m\u001b[0m \u001b[1m33s\u001b[0m 21ms/step - accuracy: 0.7824 - loss: 0.4726 - val_accuracy: 0.8697 - val_loss: 0.3271\n",
      "Epoch 2/10\n",
      "\u001b[1m1513/1513\u001b[0m \u001b[32m━━━━━━━━━━━━━━━━━━━━\u001b[0m\u001b[37m\u001b[0m \u001b[1m30s\u001b[0m 20ms/step - accuracy: 0.8694 - loss: 0.3284 - val_accuracy: 0.8541 - val_loss: 0.3411\n",
      "Epoch 3/10\n",
      "\u001b[1m1513/1513\u001b[0m \u001b[32m━━━━━━━━━━━━━━━━━━━━\u001b[0m\u001b[37m\u001b[0m \u001b[1m30s\u001b[0m 20ms/step - accuracy: 0.8656 - loss: 0.3269 - val_accuracy: 0.8640 - val_loss: 0.3424\n",
      "Epoch 4/10\n",
      "\u001b[1m1513/1513\u001b[0m \u001b[32m━━━━━━━━━━━━━━━━━━━━\u001b[0m\u001b[37m\u001b[0m \u001b[1m30s\u001b[0m 20ms/step - accuracy: 0.8809 - loss: 0.3127 - val_accuracy: 0.8839 - val_loss: 0.2896\n",
      "Epoch 5/10\n",
      "\u001b[1m1513/1513\u001b[0m \u001b[32m━━━━━━━━━━━━━━━━━━━━\u001b[0m\u001b[37m\u001b[0m \u001b[1m30s\u001b[0m 20ms/step - accuracy: 0.8769 - loss: 0.3146 - val_accuracy: 0.8759 - val_loss: 0.3267\n",
      "Epoch 6/10\n",
      "\u001b[1m1513/1513\u001b[0m \u001b[32m━━━━━━━━━━━━━━━━━━━━\u001b[0m\u001b[37m\u001b[0m \u001b[1m30s\u001b[0m 20ms/step - accuracy: 0.8339 - loss: 0.3735 - val_accuracy: 0.8835 - val_loss: 0.2997\n",
      "Epoch 7/10\n",
      "\u001b[1m1513/1513\u001b[0m \u001b[32m━━━━━━━━━━━━━━━━━━━━\u001b[0m\u001b[37m\u001b[0m \u001b[1m30s\u001b[0m 20ms/step - accuracy: 0.8577 - loss: 0.3379 - val_accuracy: 0.7301 - val_loss: 0.4958\n",
      "\u001b[1m757/757\u001b[0m \u001b[32m━━━━━━━━━━━━━━━━━━━━\u001b[0m\u001b[37m\u001b[0m \u001b[1m7s\u001b[0m 10ms/step\n",
      "\n",
      "🏆 Training Results:\n",
      "🔹 Accuracy: 0.8839\n",
      "🔹 Precision: 0.8872\n",
      "🔹 Recall: 0.8416\n",
      "🔹 F1_score: 0.8638\n",
      "\n",
      "📂 Fold 4\n",
      "\n",
      "🚀 Training RNN with rnn_units=32, dropout_rate=0.3\n",
      "Epoch 1/10\n"
     ]
    },
    {
     "name": "stderr",
     "output_type": "stream",
     "text": [
      "/home/dariusng2103/projects/dm_project/fake-news/lib/python3.10/site-packages/keras/src/layers/core/embedding.py:90: UserWarning: Argument `input_length` is deprecated. Just remove it.\n",
      "  warnings.warn(\n"
     ]
    },
    {
     "name": "stdout",
     "output_type": "stream",
     "text": [
      "\u001b[1m1513/1513\u001b[0m \u001b[32m━━━━━━━━━━━━━━━━━━━━\u001b[0m\u001b[37m\u001b[0m \u001b[1m33s\u001b[0m 21ms/step - accuracy: 0.8041 - loss: 0.4362 - val_accuracy: 0.7619 - val_loss: 0.4882\n",
      "Epoch 2/10\n",
      "\u001b[1m1513/1513\u001b[0m \u001b[32m━━━━━━━━━━━━━━━━━━━━\u001b[0m\u001b[37m\u001b[0m \u001b[1m30s\u001b[0m 20ms/step - accuracy: 0.7948 - loss: 0.4415 - val_accuracy: 0.7274 - val_loss: 0.5359\n",
      "Epoch 3/10\n",
      "\u001b[1m1513/1513\u001b[0m \u001b[32m━━━━━━━━━━━━━━━━━━━━\u001b[0m\u001b[37m\u001b[0m \u001b[1m30s\u001b[0m 20ms/step - accuracy: 0.8022 - loss: 0.4210 - val_accuracy: 0.8238 - val_loss: 0.4021\n",
      "Epoch 4/10\n",
      "\u001b[1m1513/1513\u001b[0m \u001b[32m━━━━━━━━━━━━━━━━━━━━\u001b[0m\u001b[37m\u001b[0m \u001b[1m30s\u001b[0m 20ms/step - accuracy: 0.8248 - loss: 0.3915 - val_accuracy: 0.8790 - val_loss: 0.3267\n",
      "Epoch 5/10\n",
      "\u001b[1m1513/1513\u001b[0m \u001b[32m━━━━━━━━━━━━━━━━━━━━\u001b[0m\u001b[37m\u001b[0m \u001b[1m30s\u001b[0m 20ms/step - accuracy: 0.8811 - loss: 0.3100 - val_accuracy: 0.7211 - val_loss: 0.5272\n",
      "Epoch 6/10\n",
      "\u001b[1m1513/1513\u001b[0m \u001b[32m━━━━━━━━━━━━━━━━━━━━\u001b[0m\u001b[37m\u001b[0m \u001b[1m30s\u001b[0m 20ms/step - accuracy: 0.7549 - loss: 0.4835 - val_accuracy: 0.8751 - val_loss: 0.3311\n",
      "Epoch 7/10\n",
      "\u001b[1m1513/1513\u001b[0m \u001b[32m━━━━━━━━━━━━━━━━━━━━\u001b[0m\u001b[37m\u001b[0m \u001b[1m30s\u001b[0m 20ms/step - accuracy: 0.8500 - loss: 0.3618 - val_accuracy: 0.8084 - val_loss: 0.3848\n",
      "\u001b[1m757/757\u001b[0m \u001b[32m━━━━━━━━━━━━━━━━━━━━\u001b[0m\u001b[37m\u001b[0m \u001b[1m7s\u001b[0m 10ms/step\n",
      "\n",
      "🏆 Training Results:\n",
      "🔹 Accuracy: 0.8790\n",
      "🔹 Precision: 0.8836\n",
      "🔹 Recall: 0.8332\n",
      "🔹 F1_score: 0.8577\n",
      "\n",
      "📂 Fold 5\n",
      "\n",
      "🚀 Training RNN with rnn_units=32, dropout_rate=0.3\n",
      "Epoch 1/10\n"
     ]
    },
    {
     "name": "stderr",
     "output_type": "stream",
     "text": [
      "/home/dariusng2103/projects/dm_project/fake-news/lib/python3.10/site-packages/keras/src/layers/core/embedding.py:90: UserWarning: Argument `input_length` is deprecated. Just remove it.\n",
      "  warnings.warn(\n"
     ]
    },
    {
     "name": "stdout",
     "output_type": "stream",
     "text": [
      "\u001b[1m1513/1513\u001b[0m \u001b[32m━━━━━━━━━━━━━━━━━━━━\u001b[0m\u001b[37m\u001b[0m \u001b[1m33s\u001b[0m 21ms/step - accuracy: 0.7961 - loss: 0.4490 - val_accuracy: 0.8206 - val_loss: 0.4014\n",
      "Epoch 2/10\n",
      "\u001b[1m1513/1513\u001b[0m \u001b[32m━━━━━━━━━━━━━━━━━━━━\u001b[0m\u001b[37m\u001b[0m \u001b[1m30s\u001b[0m 20ms/step - accuracy: 0.8699 - loss: 0.3372 - val_accuracy: 0.8661 - val_loss: 0.3417\n",
      "Epoch 3/10\n",
      "\u001b[1m1513/1513\u001b[0m \u001b[32m━━━━━━━━━━━━━━━━━━━━\u001b[0m\u001b[37m\u001b[0m \u001b[1m30s\u001b[0m 20ms/step - accuracy: 0.8620 - loss: 0.3450 - val_accuracy: 0.7109 - val_loss: 0.5389\n",
      "Epoch 4/10\n",
      "\u001b[1m1513/1513\u001b[0m \u001b[32m━━━━━━━━━━━━━━━━━━━━\u001b[0m\u001b[37m\u001b[0m \u001b[1m30s\u001b[0m 20ms/step - accuracy: 0.8125 - loss: 0.3985 - val_accuracy: 0.8367 - val_loss: 0.4092\n",
      "Epoch 5/10\n",
      "\u001b[1m1513/1513\u001b[0m \u001b[32m━━━━━━━━━━━━━━━━━━━━\u001b[0m\u001b[37m\u001b[0m \u001b[1m30s\u001b[0m 20ms/step - accuracy: 0.8468 - loss: 0.3773 - val_accuracy: 0.8451 - val_loss: 0.3788\n",
      "\u001b[1m757/757\u001b[0m \u001b[32m━━━━━━━━━━━━━━━━━━━━\u001b[0m\u001b[37m\u001b[0m \u001b[1m7s\u001b[0m 9ms/step\n",
      "\n",
      "🏆 Training Results:\n",
      "🔹 Accuracy: 0.8661\n",
      "🔹 Precision: 0.9279\n",
      "🔹 Recall: 0.7524\n",
      "🔹 F1_score: 0.8310\n",
      "📊 Average F1-score: 0.8571\n",
      "\n",
      "🔍 Testing rnn_units=32, dropout_rate=0.5\n",
      "\n",
      "📂 Fold 1\n",
      "\n",
      "🚀 Training RNN with rnn_units=32, dropout_rate=0.5\n",
      "Epoch 1/10\n"
     ]
    },
    {
     "name": "stderr",
     "output_type": "stream",
     "text": [
      "/home/dariusng2103/projects/dm_project/fake-news/lib/python3.10/site-packages/keras/src/layers/core/embedding.py:90: UserWarning: Argument `input_length` is deprecated. Just remove it.\n",
      "  warnings.warn(\n"
     ]
    },
    {
     "name": "stdout",
     "output_type": "stream",
     "text": [
      "\u001b[1m1513/1513\u001b[0m \u001b[32m━━━━━━━━━━━━━━━━━━━━\u001b[0m\u001b[37m\u001b[0m \u001b[1m32s\u001b[0m 20ms/step - accuracy: 0.7972 - loss: 0.4454 - val_accuracy: 0.8891 - val_loss: 0.2996\n",
      "Epoch 2/10\n",
      "\u001b[1m1513/1513\u001b[0m \u001b[32m━━━━━━━━━━━━━━━━━━━━\u001b[0m\u001b[37m\u001b[0m \u001b[1m27s\u001b[0m 18ms/step - accuracy: 0.7996 - loss: 0.4401 - val_accuracy: 0.8269 - val_loss: 0.4041\n",
      "Epoch 3/10\n",
      "\u001b[1m1513/1513\u001b[0m \u001b[32m━━━━━━━━━━━━━━━━━━━━\u001b[0m\u001b[37m\u001b[0m \u001b[1m27s\u001b[0m 18ms/step - accuracy: 0.7959 - loss: 0.4388 - val_accuracy: 0.8711 - val_loss: 0.3497\n",
      "Epoch 4/10\n",
      "\u001b[1m1513/1513\u001b[0m \u001b[32m━━━━━━━━━━━━━━━━━━━━\u001b[0m\u001b[37m\u001b[0m \u001b[1m28s\u001b[0m 19ms/step - accuracy: 0.8768 - loss: 0.3377 - val_accuracy: 0.8904 - val_loss: 0.2936\n",
      "Epoch 5/10\n",
      "\u001b[1m1513/1513\u001b[0m \u001b[32m━━━━━━━━━━━━━━━━━━━━\u001b[0m\u001b[37m\u001b[0m \u001b[1m30s\u001b[0m 20ms/step - accuracy: 0.8643 - loss: 0.3345 - val_accuracy: 0.8862 - val_loss: 0.3227\n",
      "Epoch 6/10\n",
      "\u001b[1m1513/1513\u001b[0m \u001b[32m━━━━━━━━━━━━━━━━━━━━\u001b[0m\u001b[37m\u001b[0m \u001b[1m28s\u001b[0m 18ms/step - accuracy: 0.8886 - loss: 0.3072 - val_accuracy: 0.8909 - val_loss: 0.2897\n",
      "Epoch 7/10\n",
      "\u001b[1m1513/1513\u001b[0m \u001b[32m━━━━━━━━━━━━━━━━━━━━\u001b[0m\u001b[37m\u001b[0m \u001b[1m28s\u001b[0m 18ms/step - accuracy: 0.8231 - loss: 0.3839 - val_accuracy: 0.8883 - val_loss: 0.3017\n",
      "Epoch 8/10\n",
      "\u001b[1m1513/1513\u001b[0m \u001b[32m━━━━━━━━━━━━━━━━━━━━\u001b[0m\u001b[37m\u001b[0m \u001b[1m28s\u001b[0m 19ms/step - accuracy: 0.8849 - loss: 0.2997 - val_accuracy: 0.8838 - val_loss: 0.3011\n",
      "Epoch 9/10\n",
      "\u001b[1m1513/1513\u001b[0m \u001b[32m━━━━━━━━━━━━━━━━━━━━\u001b[0m\u001b[37m\u001b[0m \u001b[1m28s\u001b[0m 18ms/step - accuracy: 0.8803 - loss: 0.3093 - val_accuracy: 0.8626 - val_loss: 0.3466\n",
      "\u001b[1m757/757\u001b[0m \u001b[32m━━━━━━━━━━━━━━━━━━━━\u001b[0m\u001b[37m\u001b[0m \u001b[1m7s\u001b[0m 9ms/step\n",
      "\n",
      "🏆 Training Results:\n",
      "🔹 Accuracy: 0.8909\n",
      "🔹 Precision: 0.8800\n",
      "🔹 Recall: 0.8691\n",
      "🔹 F1_score: 0.8745\n",
      "\n",
      "📂 Fold 2\n",
      "\n",
      "🚀 Training RNN with rnn_units=32, dropout_rate=0.5\n",
      "Epoch 1/10\n"
     ]
    },
    {
     "name": "stderr",
     "output_type": "stream",
     "text": [
      "/home/dariusng2103/projects/dm_project/fake-news/lib/python3.10/site-packages/keras/src/layers/core/embedding.py:90: UserWarning: Argument `input_length` is deprecated. Just remove it.\n",
      "  warnings.warn(\n"
     ]
    },
    {
     "name": "stdout",
     "output_type": "stream",
     "text": [
      "\u001b[1m1513/1513\u001b[0m \u001b[32m━━━━━━━━━━━━━━━━━━━━\u001b[0m\u001b[37m\u001b[0m \u001b[1m31s\u001b[0m 20ms/step - accuracy: 0.7638 - loss: 0.4980 - val_accuracy: 0.8604 - val_loss: 0.3583\n",
      "Epoch 2/10\n",
      "\u001b[1m1513/1513\u001b[0m \u001b[32m━━━━━━━━━━━━━━━━━━━━\u001b[0m\u001b[37m\u001b[0m \u001b[1m27s\u001b[0m 18ms/step - accuracy: 0.8593 - loss: 0.3763 - val_accuracy: 0.8809 - val_loss: 0.3109\n",
      "Epoch 3/10\n",
      "\u001b[1m1513/1513\u001b[0m \u001b[32m━━━━━━━━━━━━━━━━━━━━\u001b[0m\u001b[37m\u001b[0m \u001b[1m28s\u001b[0m 18ms/step - accuracy: 0.8218 - loss: 0.3968 - val_accuracy: 0.8512 - val_loss: 0.3716\n",
      "Epoch 4/10\n",
      "\u001b[1m1513/1513\u001b[0m \u001b[32m━━━━━━━━━━━━━━━━━━━━\u001b[0m\u001b[37m\u001b[0m \u001b[1m28s\u001b[0m 19ms/step - accuracy: 0.7691 - loss: 0.4725 - val_accuracy: 0.8790 - val_loss: 0.3171\n",
      "Epoch 5/10\n",
      "\u001b[1m1513/1513\u001b[0m \u001b[32m━━━━━━━━━━━━━━━━━━━━\u001b[0m\u001b[37m\u001b[0m \u001b[1m28s\u001b[0m 19ms/step - accuracy: 0.8764 - loss: 0.3269 - val_accuracy: 0.8775 - val_loss: 0.3200\n",
      "\u001b[1m757/757\u001b[0m \u001b[32m━━━━━━━━━━━━━━━━━━━━\u001b[0m\u001b[37m\u001b[0m \u001b[1m5s\u001b[0m 7ms/step\n",
      "\n",
      "🏆 Training Results:\n",
      "🔹 Accuracy: 0.8809\n",
      "🔹 Precision: 0.8502\n",
      "🔹 Recall: 0.8833\n",
      "🔹 F1_score: 0.8665\n",
      "\n",
      "📂 Fold 3\n",
      "\n",
      "🚀 Training RNN with rnn_units=32, dropout_rate=0.5\n",
      "Epoch 1/10\n"
     ]
    },
    {
     "name": "stderr",
     "output_type": "stream",
     "text": [
      "/home/dariusng2103/projects/dm_project/fake-news/lib/python3.10/site-packages/keras/src/layers/core/embedding.py:90: UserWarning: Argument `input_length` is deprecated. Just remove it.\n",
      "  warnings.warn(\n"
     ]
    },
    {
     "name": "stdout",
     "output_type": "stream",
     "text": [
      "\u001b[1m1513/1513\u001b[0m \u001b[32m━━━━━━━━━━━━━━━━━━━━\u001b[0m\u001b[37m\u001b[0m \u001b[1m31s\u001b[0m 19ms/step - accuracy: 0.7617 - loss: 0.5039 - val_accuracy: 0.8859 - val_loss: 0.3079\n",
      "Epoch 2/10\n",
      "\u001b[1m1513/1513\u001b[0m \u001b[32m━━━━━━━━━━━━━━━━━━━━\u001b[0m\u001b[37m\u001b[0m \u001b[1m28s\u001b[0m 19ms/step - accuracy: 0.8734 - loss: 0.3397 - val_accuracy: 0.8811 - val_loss: 0.3278\n",
      "Epoch 3/10\n",
      "\u001b[1m1513/1513\u001b[0m \u001b[32m━━━━━━━━━━━━━━━━━━━━\u001b[0m\u001b[37m\u001b[0m \u001b[1m28s\u001b[0m 18ms/step - accuracy: 0.8659 - loss: 0.3440 - val_accuracy: 0.7687 - val_loss: 0.4767\n",
      "Epoch 4/10\n",
      "\u001b[1m1513/1513\u001b[0m \u001b[32m━━━━━━━━━━━━━━━━━━━━\u001b[0m\u001b[37m\u001b[0m \u001b[1m28s\u001b[0m 18ms/step - accuracy: 0.8303 - loss: 0.3970 - val_accuracy: 0.8208 - val_loss: 0.4385\n",
      "\u001b[1m757/757\u001b[0m \u001b[32m━━━━━━━━━━━━━━━━━━━━\u001b[0m\u001b[37m\u001b[0m \u001b[1m6s\u001b[0m 8ms/step\n",
      "\n",
      "🏆 Training Results:\n",
      "🔹 Accuracy: 0.8859\n",
      "🔹 Precision: 0.8792\n",
      "🔹 Recall: 0.8569\n",
      "🔹 F1_score: 0.8679\n",
      "\n",
      "📂 Fold 4\n",
      "\n",
      "🚀 Training RNN with rnn_units=32, dropout_rate=0.5\n",
      "Epoch 1/10\n"
     ]
    },
    {
     "name": "stderr",
     "output_type": "stream",
     "text": [
      "/home/dariusng2103/projects/dm_project/fake-news/lib/python3.10/site-packages/keras/src/layers/core/embedding.py:90: UserWarning: Argument `input_length` is deprecated. Just remove it.\n",
      "  warnings.warn(\n"
     ]
    },
    {
     "name": "stdout",
     "output_type": "stream",
     "text": [
      "\u001b[1m1513/1513\u001b[0m \u001b[32m━━━━━━━━━━━━━━━━━━━━\u001b[0m\u001b[37m\u001b[0m \u001b[1m30s\u001b[0m 19ms/step - accuracy: 0.7544 - loss: 0.5006 - val_accuracy: 0.8157 - val_loss: 0.4273\n",
      "Epoch 2/10\n",
      "\u001b[1m1513/1513\u001b[0m \u001b[32m━━━━━━━━━━━━━━━━━━━━\u001b[0m\u001b[37m\u001b[0m \u001b[1m28s\u001b[0m 19ms/step - accuracy: 0.8123 - loss: 0.4273 - val_accuracy: 0.8195 - val_loss: 0.4071\n",
      "Epoch 3/10\n",
      "\u001b[1m1513/1513\u001b[0m \u001b[32m━━━━━━━━━━━━━━━━━━━━\u001b[0m\u001b[37m\u001b[0m \u001b[1m28s\u001b[0m 18ms/step - accuracy: 0.8205 - loss: 0.4125 - val_accuracy: 0.8788 - val_loss: 0.2907\n",
      "Epoch 4/10\n",
      "\u001b[1m1513/1513\u001b[0m \u001b[32m━━━━━━━━━━━━━━━━━━━━\u001b[0m\u001b[37m\u001b[0m \u001b[1m28s\u001b[0m 19ms/step - accuracy: 0.8822 - loss: 0.2942 - val_accuracy: 0.8029 - val_loss: 0.4101\n",
      "Epoch 5/10\n",
      "\u001b[1m1513/1513\u001b[0m \u001b[32m━━━━━━━━━━━━━━━━━━━━\u001b[0m\u001b[37m\u001b[0m \u001b[1m28s\u001b[0m 18ms/step - accuracy: 0.8667 - loss: 0.3268 - val_accuracy: 0.8806 - val_loss: 0.3175\n",
      "Epoch 6/10\n",
      "\u001b[1m1513/1513\u001b[0m \u001b[32m━━━━━━━━━━━━━━━━━━━━\u001b[0m\u001b[37m\u001b[0m \u001b[1m28s\u001b[0m 19ms/step - accuracy: 0.8638 - loss: 0.3509 - val_accuracy: 0.8711 - val_loss: 0.3431\n",
      "\u001b[1m757/757\u001b[0m \u001b[32m━━━━━━━━━━━━━━━━━━━━\u001b[0m\u001b[37m\u001b[0m \u001b[1m6s\u001b[0m 8ms/step\n",
      "\n",
      "🏆 Training Results:\n",
      "🔹 Accuracy: 0.8788\n",
      "🔹 Precision: 0.8840\n",
      "🔹 Recall: 0.8321\n",
      "🔹 F1_score: 0.8573\n",
      "\n",
      "📂 Fold 5\n",
      "\n",
      "🚀 Training RNN with rnn_units=32, dropout_rate=0.5\n",
      "Epoch 1/10\n"
     ]
    },
    {
     "name": "stderr",
     "output_type": "stream",
     "text": [
      "/home/dariusng2103/projects/dm_project/fake-news/lib/python3.10/site-packages/keras/src/layers/core/embedding.py:90: UserWarning: Argument `input_length` is deprecated. Just remove it.\n",
      "  warnings.warn(\n"
     ]
    },
    {
     "name": "stdout",
     "output_type": "stream",
     "text": [
      "\u001b[1m1513/1513\u001b[0m \u001b[32m━━━━━━━━━━━━━━━━━━━━\u001b[0m\u001b[37m\u001b[0m \u001b[1m30s\u001b[0m 19ms/step - accuracy: 0.7950 - loss: 0.4619 - val_accuracy: 0.8730 - val_loss: 0.3377\n",
      "Epoch 2/10\n",
      "\u001b[1m1513/1513\u001b[0m \u001b[32m━━━━━━━━━━━━━━━━━━━━\u001b[0m\u001b[37m\u001b[0m \u001b[1m28s\u001b[0m 19ms/step - accuracy: 0.8244 - loss: 0.4034 - val_accuracy: 0.7026 - val_loss: 0.5403\n",
      "Epoch 3/10\n",
      "\u001b[1m1513/1513\u001b[0m \u001b[32m━━━━━━━━━━━━━━━━━━━━\u001b[0m\u001b[37m\u001b[0m \u001b[1m28s\u001b[0m 18ms/step - accuracy: 0.7267 - loss: 0.5222 - val_accuracy: 0.7956 - val_loss: 0.4315\n",
      "Epoch 4/10\n",
      "\u001b[1m1513/1513\u001b[0m \u001b[32m━━━━━━━━━━━━━━━━━━━━\u001b[0m\u001b[37m\u001b[0m \u001b[1m28s\u001b[0m 18ms/step - accuracy: 0.8515 - loss: 0.3534 - val_accuracy: 0.8930 - val_loss: 0.2926\n",
      "Epoch 5/10\n",
      "\u001b[1m1513/1513\u001b[0m \u001b[32m━━━━━━━━━━━━━━━━━━━━\u001b[0m\u001b[37m\u001b[0m \u001b[1m28s\u001b[0m 18ms/step - accuracy: 0.8926 - loss: 0.2941 - val_accuracy: 0.8931 - val_loss: 0.2957\n",
      "Epoch 6/10\n",
      "\u001b[1m1513/1513\u001b[0m \u001b[32m━━━━━━━━━━━━━━━━━━━━\u001b[0m\u001b[37m\u001b[0m \u001b[1m29s\u001b[0m 19ms/step - accuracy: 0.8880 - loss: 0.3013 - val_accuracy: 0.8842 - val_loss: 0.3323\n",
      "Epoch 7/10\n",
      "\u001b[1m1513/1513\u001b[0m \u001b[32m━━━━━━━━━━━━━━━━━━━━\u001b[0m\u001b[37m\u001b[0m \u001b[1m28s\u001b[0m 18ms/step - accuracy: 0.8692 - loss: 0.3400 - val_accuracy: 0.8876 - val_loss: 0.2992\n",
      "\u001b[1m757/757\u001b[0m \u001b[32m━━━━━━━━━━━━━━━━━━━━\u001b[0m\u001b[37m\u001b[0m \u001b[1m6s\u001b[0m 8ms/step\n",
      "\n",
      "🏆 Training Results:\n",
      "🔹 Accuracy: 0.8930\n",
      "🔹 Precision: 0.8940\n",
      "🔹 Recall: 0.8570\n",
      "🔹 F1_score: 0.8751\n",
      "📊 Average F1-score: 0.8682\n",
      "\n",
      "🔍 Testing rnn_units=64, dropout_rate=0.3\n",
      "\n",
      "📂 Fold 1\n",
      "\n",
      "🚀 Training RNN with rnn_units=64, dropout_rate=0.3\n",
      "Epoch 1/10\n"
     ]
    },
    {
     "name": "stderr",
     "output_type": "stream",
     "text": [
      "/home/dariusng2103/projects/dm_project/fake-news/lib/python3.10/site-packages/keras/src/layers/core/embedding.py:90: UserWarning: Argument `input_length` is deprecated. Just remove it.\n",
      "  warnings.warn(\n"
     ]
    },
    {
     "name": "stdout",
     "output_type": "stream",
     "text": [
      "\u001b[1m1513/1513\u001b[0m \u001b[32m━━━━━━━━━━━━━━━━━━━━\u001b[0m\u001b[37m\u001b[0m \u001b[1m35s\u001b[0m 22ms/step - accuracy: 0.8107 - loss: 0.4243 - val_accuracy: 0.7840 - val_loss: 0.4544\n",
      "Epoch 2/10\n",
      "\u001b[1m1513/1513\u001b[0m \u001b[32m━━━━━━━━━━━━━━━━━━━━\u001b[0m\u001b[37m\u001b[0m \u001b[1m32s\u001b[0m 21ms/step - accuracy: 0.8218 - loss: 0.4116 - val_accuracy: 0.8678 - val_loss: 0.3297\n",
      "Epoch 3/10\n",
      "\u001b[1m1513/1513\u001b[0m \u001b[32m━━━━━━━━━━━━━━━━━━━━\u001b[0m\u001b[37m\u001b[0m \u001b[1m32s\u001b[0m 21ms/step - accuracy: 0.8669 - loss: 0.3234 - val_accuracy: 0.8932 - val_loss: 0.2874\n",
      "Epoch 4/10\n",
      "\u001b[1m1513/1513\u001b[0m \u001b[32m━━━━━━━━━━━━━━━━━━━━\u001b[0m\u001b[37m\u001b[0m \u001b[1m32s\u001b[0m 21ms/step - accuracy: 0.8366 - loss: 0.3812 - val_accuracy: 0.8576 - val_loss: 0.3368\n",
      "Epoch 5/10\n",
      "\u001b[1m1513/1513\u001b[0m \u001b[32m━━━━━━━━━━━━━━━━━━━━\u001b[0m\u001b[37m\u001b[0m \u001b[1m32s\u001b[0m 21ms/step - accuracy: 0.8784 - loss: 0.3077 - val_accuracy: 0.7296 - val_loss: 0.5150\n",
      "Epoch 6/10\n",
      "\u001b[1m1513/1513\u001b[0m \u001b[32m━━━━━━━━━━━━━━━━━━━━\u001b[0m\u001b[37m\u001b[0m \u001b[1m32s\u001b[0m 21ms/step - accuracy: 0.7730 - loss: 0.4508 - val_accuracy: 0.7585 - val_loss: 0.4859\n",
      "\u001b[1m757/757\u001b[0m \u001b[32m━━━━━━━━━━━━━━━━━━━━\u001b[0m\u001b[37m\u001b[0m \u001b[1m8s\u001b[0m 11ms/step\n",
      "\n",
      "🏆 Training Results:\n",
      "🔹 Accuracy: 0.8932\n",
      "🔹 Precision: 0.8893\n",
      "🔹 Recall: 0.8633\n",
      "🔹 F1_score: 0.8761\n",
      "\n",
      "📂 Fold 2\n",
      "\n",
      "🚀 Training RNN with rnn_units=64, dropout_rate=0.3\n",
      "Epoch 1/10\n"
     ]
    },
    {
     "name": "stderr",
     "output_type": "stream",
     "text": [
      "/home/dariusng2103/projects/dm_project/fake-news/lib/python3.10/site-packages/keras/src/layers/core/embedding.py:90: UserWarning: Argument `input_length` is deprecated. Just remove it.\n",
      "  warnings.warn(\n"
     ]
    },
    {
     "name": "stdout",
     "output_type": "stream",
     "text": [
      "\u001b[1m1513/1513\u001b[0m \u001b[32m━━━━━━━━━━━━━━━━━━━━\u001b[0m\u001b[37m\u001b[0m \u001b[1m35s\u001b[0m 22ms/step - accuracy: 0.7664 - loss: 0.4743 - val_accuracy: 0.8217 - val_loss: 0.4252\n",
      "Epoch 2/10\n",
      "\u001b[1m1513/1513\u001b[0m \u001b[32m━━━━━━━━━━━━━━━━━━━━\u001b[0m\u001b[37m\u001b[0m \u001b[1m32s\u001b[0m 21ms/step - accuracy: 0.7877 - loss: 0.4520 - val_accuracy: 0.7011 - val_loss: 0.5601\n",
      "Epoch 3/10\n",
      "\u001b[1m1513/1513\u001b[0m \u001b[32m━━━━━━━━━━━━━━━━━━━━\u001b[0m\u001b[37m\u001b[0m \u001b[1m32s\u001b[0m 21ms/step - accuracy: 0.7933 - loss: 0.4338 - val_accuracy: 0.8509 - val_loss: 0.3164\n",
      "Epoch 4/10\n",
      "\u001b[1m1513/1513\u001b[0m \u001b[32m━━━━━━━━━━━━━━━━━━━━\u001b[0m\u001b[37m\u001b[0m \u001b[1m32s\u001b[0m 21ms/step - accuracy: 0.8535 - loss: 0.3365 - val_accuracy: 0.8603 - val_loss: 0.3134\n",
      "Epoch 5/10\n",
      "\u001b[1m1513/1513\u001b[0m \u001b[32m━━━━━━━━━━━━━━━━━━━━\u001b[0m\u001b[37m\u001b[0m \u001b[1m33s\u001b[0m 22ms/step - accuracy: 0.8564 - loss: 0.3365 - val_accuracy: 0.7239 - val_loss: 0.5132\n",
      "Epoch 6/10\n",
      "\u001b[1m1513/1513\u001b[0m \u001b[32m━━━━━━━━━━━━━━━━━━━━\u001b[0m\u001b[37m\u001b[0m \u001b[1m32s\u001b[0m 21ms/step - accuracy: 0.7803 - loss: 0.4400 - val_accuracy: 0.8268 - val_loss: 0.3878\n",
      "Epoch 7/10\n",
      "\u001b[1m1513/1513\u001b[0m \u001b[32m━━━━━━━━━━━━━━━━━━━━\u001b[0m\u001b[37m\u001b[0m \u001b[1m32s\u001b[0m 21ms/step - accuracy: 0.8570 - loss: 0.3469 - val_accuracy: 0.8587 - val_loss: 0.3295\n",
      "\u001b[1m757/757\u001b[0m \u001b[32m━━━━━━━━━━━━━━━━━━━━\u001b[0m\u001b[37m\u001b[0m \u001b[1m8s\u001b[0m 11ms/step\n",
      "\n",
      "🏆 Training Results:\n",
      "🔹 Accuracy: 0.8603\n",
      "🔹 Precision: 0.8911\n",
      "🔹 Recall: 0.7753\n",
      "🔹 F1_score: 0.8292\n",
      "\n",
      "📂 Fold 3\n",
      "\n",
      "🚀 Training RNN with rnn_units=64, dropout_rate=0.3\n",
      "Epoch 1/10\n"
     ]
    },
    {
     "name": "stderr",
     "output_type": "stream",
     "text": [
      "/home/dariusng2103/projects/dm_project/fake-news/lib/python3.10/site-packages/keras/src/layers/core/embedding.py:90: UserWarning: Argument `input_length` is deprecated. Just remove it.\n",
      "  warnings.warn(\n"
     ]
    },
    {
     "name": "stdout",
     "output_type": "stream",
     "text": [
      "\u001b[1m1513/1513\u001b[0m \u001b[32m━━━━━━━━━━━━━━━━━━━━\u001b[0m\u001b[37m\u001b[0m \u001b[1m35s\u001b[0m 22ms/step - accuracy: 0.8160 - loss: 0.4117 - val_accuracy: 0.6350 - val_loss: 0.7250\n",
      "Epoch 2/10\n",
      "\u001b[1m1513/1513\u001b[0m \u001b[32m━━━━━━━━━━━━━━━━━━━━\u001b[0m\u001b[37m\u001b[0m \u001b[1m32s\u001b[0m 21ms/step - accuracy: 0.8140 - loss: 0.4181 - val_accuracy: 0.8647 - val_loss: 0.3383\n",
      "Epoch 3/10\n",
      "\u001b[1m1513/1513\u001b[0m \u001b[32m━━━━━━━━━━━━━━━━━━━━\u001b[0m\u001b[37m\u001b[0m \u001b[1m32s\u001b[0m 21ms/step - accuracy: 0.8272 - loss: 0.3990 - val_accuracy: 0.8811 - val_loss: 0.3059\n",
      "Epoch 4/10\n",
      "\u001b[1m1513/1513\u001b[0m \u001b[32m━━━━━━━━━━━━━━━━━━━━\u001b[0m\u001b[37m\u001b[0m \u001b[1m32s\u001b[0m 21ms/step - accuracy: 0.8721 - loss: 0.3123 - val_accuracy: 0.8905 - val_loss: 0.2885\n",
      "Epoch 5/10\n",
      "\u001b[1m1513/1513\u001b[0m \u001b[32m━━━━━━━━━━━━━━━━━━━━\u001b[0m\u001b[37m\u001b[0m \u001b[1m33s\u001b[0m 22ms/step - accuracy: 0.8801 - loss: 0.2939 - val_accuracy: 0.8498 - val_loss: 0.3510\n",
      "Epoch 6/10\n",
      "\u001b[1m1513/1513\u001b[0m \u001b[32m━━━━━━━━━━━━━━━━━━━━\u001b[0m\u001b[37m\u001b[0m \u001b[1m32s\u001b[0m 21ms/step - accuracy: 0.8346 - loss: 0.3865 - val_accuracy: 0.8295 - val_loss: 0.3988\n",
      "Epoch 7/10\n",
      "\u001b[1m1513/1513\u001b[0m \u001b[32m━━━━━━━━━━━━━━━━━━━━\u001b[0m\u001b[37m\u001b[0m \u001b[1m32s\u001b[0m 21ms/step - accuracy: 0.8605 - loss: 0.3363 - val_accuracy: 0.6839 - val_loss: 0.5901\n",
      "\u001b[1m757/757\u001b[0m \u001b[32m━━━━━━━━━━━━━━━━━━━━\u001b[0m\u001b[37m\u001b[0m \u001b[1m9s\u001b[0m 11ms/step\n",
      "\n",
      "🏆 Training Results:\n",
      "🔹 Accuracy: 0.8905\n",
      "🔹 Precision: 0.8881\n",
      "🔹 Recall: 0.8577\n",
      "🔹 F1_score: 0.8726\n",
      "\n",
      "📂 Fold 4\n",
      "\n",
      "🚀 Training RNN with rnn_units=64, dropout_rate=0.3\n",
      "Epoch 1/10\n"
     ]
    },
    {
     "name": "stderr",
     "output_type": "stream",
     "text": [
      "/home/dariusng2103/projects/dm_project/fake-news/lib/python3.10/site-packages/keras/src/layers/core/embedding.py:90: UserWarning: Argument `input_length` is deprecated. Just remove it.\n",
      "  warnings.warn(\n"
     ]
    },
    {
     "name": "stdout",
     "output_type": "stream",
     "text": [
      "\u001b[1m1513/1513\u001b[0m \u001b[32m━━━━━━━━━━━━━━━━━━━━\u001b[0m\u001b[37m\u001b[0m \u001b[1m34s\u001b[0m 22ms/step - accuracy: 0.7961 - loss: 0.4463 - val_accuracy: 0.7372 - val_loss: 0.5102\n",
      "Epoch 2/10\n",
      "\u001b[1m1513/1513\u001b[0m \u001b[32m━━━━━━━━━━━━━━━━━━━━\u001b[0m\u001b[37m\u001b[0m \u001b[1m32s\u001b[0m 21ms/step - accuracy: 0.8024 - loss: 0.4388 - val_accuracy: 0.6835 - val_loss: 0.5950\n",
      "Epoch 3/10\n",
      "\u001b[1m1513/1513\u001b[0m \u001b[32m━━━━━━━━━━━━━━━━━━━━\u001b[0m\u001b[37m\u001b[0m \u001b[1m32s\u001b[0m 21ms/step - accuracy: 0.8196 - loss: 0.3993 - val_accuracy: 0.8820 - val_loss: 0.3303\n",
      "Epoch 4/10\n",
      "\u001b[1m1513/1513\u001b[0m \u001b[32m━━━━━━━━━━━━━━━━━━━━\u001b[0m\u001b[37m\u001b[0m \u001b[1m32s\u001b[0m 21ms/step - accuracy: 0.8777 - loss: 0.3187 - val_accuracy: 0.7311 - val_loss: 0.5003\n",
      "Epoch 5/10\n",
      "\u001b[1m1513/1513\u001b[0m \u001b[32m━━━━━━━━━━━━━━━━━━━━\u001b[0m\u001b[37m\u001b[0m \u001b[1m32s\u001b[0m 21ms/step - accuracy: 0.8450 - loss: 0.3545 - val_accuracy: 0.7164 - val_loss: 0.5360\n",
      "Epoch 6/10\n",
      "\u001b[1m1513/1513\u001b[0m \u001b[32m━━━━━━━━━━━━━━━━━━━━\u001b[0m\u001b[37m\u001b[0m \u001b[1m32s\u001b[0m 21ms/step - accuracy: 0.7693 - loss: 0.4783 - val_accuracy: 0.8201 - val_loss: 0.4169\n",
      "\u001b[1m757/757\u001b[0m \u001b[32m━━━━━━━━━━━━━━━━━━━━\u001b[0m\u001b[37m\u001b[0m \u001b[1m8s\u001b[0m 11ms/step\n",
      "\n",
      "🏆 Training Results:\n",
      "🔹 Accuracy: 0.8820\n",
      "🔹 Precision: 0.8898\n",
      "🔹 Recall: 0.8335\n",
      "🔹 F1_score: 0.8607\n",
      "\n",
      "📂 Fold 5\n",
      "\n",
      "🚀 Training RNN with rnn_units=64, dropout_rate=0.3\n",
      "Epoch 1/10\n"
     ]
    },
    {
     "name": "stderr",
     "output_type": "stream",
     "text": [
      "/home/dariusng2103/projects/dm_project/fake-news/lib/python3.10/site-packages/keras/src/layers/core/embedding.py:90: UserWarning: Argument `input_length` is deprecated. Just remove it.\n",
      "  warnings.warn(\n"
     ]
    },
    {
     "name": "stdout",
     "output_type": "stream",
     "text": [
      "\u001b[1m1513/1513\u001b[0m \u001b[32m━━━━━━━━━━━━━━━━━━━━\u001b[0m\u001b[37m\u001b[0m \u001b[1m34s\u001b[0m 22ms/step - accuracy: 0.8004 - loss: 0.4289 - val_accuracy: 0.8879 - val_loss: 0.2824\n",
      "Epoch 2/10\n",
      "\u001b[1m1513/1513\u001b[0m \u001b[32m━━━━━━━━━━━━━━━━━━━━\u001b[0m\u001b[37m\u001b[0m \u001b[1m32s\u001b[0m 21ms/step - accuracy: 0.8493 - loss: 0.3580 - val_accuracy: 0.5755 - val_loss: 0.7895\n",
      "Epoch 3/10\n",
      "\u001b[1m1513/1513\u001b[0m \u001b[32m━━━━━━━━━━━━━━━━━━━━\u001b[0m\u001b[37m\u001b[0m \u001b[1m32s\u001b[0m 21ms/step - accuracy: 0.8375 - loss: 0.3650 - val_accuracy: 0.8517 - val_loss: 0.3376\n",
      "Epoch 4/10\n",
      "\u001b[1m1513/1513\u001b[0m \u001b[32m━━━━━━━━━━━━━━━━━━━━\u001b[0m\u001b[37m\u001b[0m \u001b[1m32s\u001b[0m 21ms/step - accuracy: 0.8237 - loss: 0.3793 - val_accuracy: 0.8676 - val_loss: 0.3372\n",
      "\u001b[1m757/757\u001b[0m \u001b[32m━━━━━━━━━━━━━━━━━━━━\u001b[0m\u001b[37m\u001b[0m \u001b[1m8s\u001b[0m 11ms/step\n",
      "\n",
      "🏆 Training Results:\n",
      "🔹 Accuracy: 0.8879\n",
      "🔹 Precision: 0.8980\n",
      "🔹 Recall: 0.8389\n",
      "🔹 F1_score: 0.8675\n",
      "📊 Average F1-score: 0.8612\n",
      "\n",
      "🔍 Testing rnn_units=64, dropout_rate=0.5\n",
      "\n",
      "📂 Fold 1\n",
      "\n",
      "🚀 Training RNN with rnn_units=64, dropout_rate=0.5\n",
      "Epoch 1/10\n"
     ]
    },
    {
     "name": "stderr",
     "output_type": "stream",
     "text": [
      "/home/dariusng2103/projects/dm_project/fake-news/lib/python3.10/site-packages/keras/src/layers/core/embedding.py:90: UserWarning: Argument `input_length` is deprecated. Just remove it.\n",
      "  warnings.warn(\n"
     ]
    },
    {
     "name": "stdout",
     "output_type": "stream",
     "text": [
      "\u001b[1m1513/1513\u001b[0m \u001b[32m━━━━━━━━━━━━━━━━━━━━\u001b[0m\u001b[37m\u001b[0m \u001b[1m34s\u001b[0m 22ms/step - accuracy: 0.8088 - loss: 0.4258 - val_accuracy: 0.8854 - val_loss: 0.2784\n",
      "Epoch 2/10\n",
      "\u001b[1m1513/1513\u001b[0m \u001b[32m━━━━━━━━━━━━━━━━━━━━\u001b[0m\u001b[37m\u001b[0m \u001b[1m32s\u001b[0m 21ms/step - accuracy: 0.8176 - loss: 0.4036 - val_accuracy: 0.8195 - val_loss: 0.4175\n",
      "Epoch 3/10\n",
      "\u001b[1m1513/1513\u001b[0m \u001b[32m━━━━━━━━━━━━━━━━━━━━\u001b[0m\u001b[37m\u001b[0m \u001b[1m32s\u001b[0m 21ms/step - accuracy: 0.7941 - loss: 0.4486 - val_accuracy: 0.7291 - val_loss: 0.4986\n",
      "Epoch 4/10\n",
      "\u001b[1m1513/1513\u001b[0m \u001b[32m━━━━━━━━━━━━━━━━━━━━\u001b[0m\u001b[37m\u001b[0m \u001b[1m32s\u001b[0m 21ms/step - accuracy: 0.7861 - loss: 0.4457 - val_accuracy: 0.8085 - val_loss: 0.4101\n",
      "\u001b[1m757/757\u001b[0m \u001b[32m━━━━━━━━━━━━━━━━━━━━\u001b[0m\u001b[37m\u001b[0m \u001b[1m8s\u001b[0m 11ms/step\n",
      "\n",
      "🏆 Training Results:\n",
      "🔹 Accuracy: 0.8854\n",
      "🔹 Precision: 0.8570\n",
      "🔹 Recall: 0.8857\n",
      "🔹 F1_score: 0.8711\n",
      "\n",
      "📂 Fold 2\n",
      "\n",
      "🚀 Training RNN with rnn_units=64, dropout_rate=0.5\n",
      "Epoch 1/10\n"
     ]
    },
    {
     "name": "stderr",
     "output_type": "stream",
     "text": [
      "/home/dariusng2103/projects/dm_project/fake-news/lib/python3.10/site-packages/keras/src/layers/core/embedding.py:90: UserWarning: Argument `input_length` is deprecated. Just remove it.\n",
      "  warnings.warn(\n"
     ]
    },
    {
     "name": "stdout",
     "output_type": "stream",
     "text": [
      "\u001b[1m1513/1513\u001b[0m \u001b[32m━━━━━━━━━━━━━━━━━━━━\u001b[0m\u001b[37m\u001b[0m \u001b[1m34s\u001b[0m 22ms/step - accuracy: 0.7948 - loss: 0.4543 - val_accuracy: 0.7397 - val_loss: 0.5066\n",
      "Epoch 2/10\n",
      "\u001b[1m1513/1513\u001b[0m \u001b[32m━━━━━━━━━━━━━━━━━━━━\u001b[0m\u001b[37m\u001b[0m \u001b[1m32s\u001b[0m 21ms/step - accuracy: 0.7906 - loss: 0.4538 - val_accuracy: 0.7775 - val_loss: 0.4602\n",
      "Epoch 3/10\n",
      "\u001b[1m1513/1513\u001b[0m \u001b[32m━━━━━━━━━━━━━━━━━━━━\u001b[0m\u001b[37m\u001b[0m \u001b[1m32s\u001b[0m 21ms/step - accuracy: 0.8184 - loss: 0.4063 - val_accuracy: 0.8747 - val_loss: 0.3179\n",
      "Epoch 4/10\n",
      "\u001b[1m1513/1513\u001b[0m \u001b[32m━━━━━━━━━━━━━━━━━━━━\u001b[0m\u001b[37m\u001b[0m \u001b[1m32s\u001b[0m 21ms/step - accuracy: 0.8577 - loss: 0.3489 - val_accuracy: 0.7873 - val_loss: 0.4405\n",
      "Epoch 5/10\n",
      "\u001b[1m1513/1513\u001b[0m \u001b[32m━━━━━━━━━━━━━━━━━━━━\u001b[0m\u001b[37m\u001b[0m \u001b[1m32s\u001b[0m 21ms/step - accuracy: 0.8401 - loss: 0.3721 - val_accuracy: 0.8592 - val_loss: 0.3564\n",
      "Epoch 6/10\n",
      "\u001b[1m1513/1513\u001b[0m \u001b[32m━━━━━━━━━━━━━━━━━━━━\u001b[0m\u001b[37m\u001b[0m \u001b[1m32s\u001b[0m 21ms/step - accuracy: 0.8500 - loss: 0.3709 - val_accuracy: 0.8687 - val_loss: 0.3412\n",
      "\u001b[1m757/757\u001b[0m \u001b[32m━━━━━━━━━━━━━━━━━━━━\u001b[0m\u001b[37m\u001b[0m \u001b[1m9s\u001b[0m 11ms/step\n",
      "\n",
      "🏆 Training Results:\n",
      "🔹 Accuracy: 0.8747\n",
      "🔹 Precision: 0.8835\n",
      "🔹 Recall: 0.8219\n",
      "🔹 F1_score: 0.8516\n",
      "\n",
      "📂 Fold 3\n",
      "\n",
      "🚀 Training RNN with rnn_units=64, dropout_rate=0.5\n",
      "Epoch 1/10\n"
     ]
    },
    {
     "name": "stderr",
     "output_type": "stream",
     "text": [
      "/home/dariusng2103/projects/dm_project/fake-news/lib/python3.10/site-packages/keras/src/layers/core/embedding.py:90: UserWarning: Argument `input_length` is deprecated. Just remove it.\n",
      "  warnings.warn(\n"
     ]
    },
    {
     "name": "stdout",
     "output_type": "stream",
     "text": [
      "\u001b[1m1513/1513\u001b[0m \u001b[32m━━━━━━━━━━━━━━━━━━━━\u001b[0m\u001b[37m\u001b[0m \u001b[1m35s\u001b[0m 23ms/step - accuracy: 0.7679 - loss: 0.4889 - val_accuracy: 0.8637 - val_loss: 0.3669\n",
      "Epoch 2/10\n",
      "\u001b[1m1513/1513\u001b[0m \u001b[32m━━━━━━━━━━━━━━━━━━━━\u001b[0m\u001b[37m\u001b[0m \u001b[1m32s\u001b[0m 21ms/step - accuracy: 0.8007 - loss: 0.4376 - val_accuracy: 0.7911 - val_loss: 0.4466\n",
      "Epoch 3/10\n",
      "\u001b[1m1513/1513\u001b[0m \u001b[32m━━━━━━━━━━━━━━━━━━━━\u001b[0m\u001b[37m\u001b[0m \u001b[1m32s\u001b[0m 21ms/step - accuracy: 0.7496 - loss: 0.5021 - val_accuracy: 0.8540 - val_loss: 0.3428\n",
      "Epoch 4/10\n",
      "\u001b[1m1513/1513\u001b[0m \u001b[32m━━━━━━━━━━━━━━━━━━━━\u001b[0m\u001b[37m\u001b[0m \u001b[1m32s\u001b[0m 21ms/step - accuracy: 0.7939 - loss: 0.4404 - val_accuracy: 0.8503 - val_loss: 0.4893\n",
      "Epoch 5/10\n",
      "\u001b[1m1513/1513\u001b[0m \u001b[32m━━━━━━━━━━━━━━━━━━━━\u001b[0m\u001b[37m\u001b[0m \u001b[1m32s\u001b[0m 21ms/step - accuracy: 0.8675 - loss: 0.3612 - val_accuracy: 0.8823 - val_loss: 0.3014\n",
      "Epoch 6/10\n",
      "\u001b[1m1513/1513\u001b[0m \u001b[32m━━━━━━━━━━━━━━━━━━━━\u001b[0m\u001b[37m\u001b[0m \u001b[1m32s\u001b[0m 21ms/step - accuracy: 0.7714 - loss: 0.4539 - val_accuracy: 0.7691 - val_loss: 0.4695\n",
      "Epoch 7/10\n",
      "\u001b[1m1513/1513\u001b[0m \u001b[32m━━━━━━━━━━━━━━━━━━━━\u001b[0m\u001b[37m\u001b[0m \u001b[1m32s\u001b[0m 21ms/step - accuracy: 0.8119 - loss: 0.4200 - val_accuracy: 0.8615 - val_loss: 0.3492\n",
      "Epoch 8/10\n",
      "\u001b[1m1513/1513\u001b[0m \u001b[32m━━━━━━━━━━━━━━━━━━━━\u001b[0m\u001b[37m\u001b[0m \u001b[1m32s\u001b[0m 21ms/step - accuracy: 0.8738 - loss: 0.3232 - val_accuracy: 0.7282 - val_loss: 0.5224\n",
      "\u001b[1m757/757\u001b[0m \u001b[32m━━━━━━━━━━━━━━━━━━━━\u001b[0m\u001b[37m\u001b[0m \u001b[1m8s\u001b[0m 11ms/step\n",
      "\n",
      "🏆 Training Results:\n",
      "🔹 Accuracy: 0.8823\n",
      "🔹 Precision: 0.8676\n",
      "🔹 Recall: 0.8625\n",
      "🔹 F1_score: 0.8651\n",
      "\n",
      "📂 Fold 4\n",
      "\n",
      "🚀 Training RNN with rnn_units=64, dropout_rate=0.5\n",
      "Epoch 1/10\n"
     ]
    },
    {
     "name": "stderr",
     "output_type": "stream",
     "text": [
      "/home/dariusng2103/projects/dm_project/fake-news/lib/python3.10/site-packages/keras/src/layers/core/embedding.py:90: UserWarning: Argument `input_length` is deprecated. Just remove it.\n",
      "  warnings.warn(\n"
     ]
    },
    {
     "name": "stdout",
     "output_type": "stream",
     "text": [
      "\u001b[1m1513/1513\u001b[0m \u001b[32m━━━━━━━━━━━━━━━━━━━━\u001b[0m\u001b[37m\u001b[0m \u001b[1m34s\u001b[0m 22ms/step - accuracy: 0.7778 - loss: 0.4781 - val_accuracy: 0.8845 - val_loss: 0.3189\n",
      "Epoch 2/10\n",
      "\u001b[1m1513/1513\u001b[0m \u001b[32m━━━━━━━━━━━━━━━━━━━━\u001b[0m\u001b[37m\u001b[0m \u001b[1m32s\u001b[0m 21ms/step - accuracy: 0.8142 - loss: 0.4198 - val_accuracy: 0.8789 - val_loss: 0.3412\n",
      "Epoch 3/10\n",
      "\u001b[1m1513/1513\u001b[0m \u001b[32m━━━━━━━━━━━━━━━━━━━━\u001b[0m\u001b[37m\u001b[0m \u001b[1m33s\u001b[0m 22ms/step - accuracy: 0.8084 - loss: 0.4294 - val_accuracy: 0.8474 - val_loss: 0.3730\n",
      "Epoch 4/10\n",
      "\u001b[1m1513/1513\u001b[0m \u001b[32m━━━━━━━━━━━━━━━━━━━━\u001b[0m\u001b[37m\u001b[0m \u001b[1m32s\u001b[0m 21ms/step - accuracy: 0.8660 - loss: 0.3483 - val_accuracy: 0.8866 - val_loss: 0.3114\n",
      "Epoch 5/10\n",
      "\u001b[1m1513/1513\u001b[0m \u001b[32m━━━━━━━━━━━━━━━━━━━━\u001b[0m\u001b[37m\u001b[0m \u001b[1m32s\u001b[0m 21ms/step - accuracy: 0.8241 - loss: 0.3998 - val_accuracy: 0.8571 - val_loss: 0.3518\n",
      "Epoch 6/10\n",
      "\u001b[1m1513/1513\u001b[0m \u001b[32m━━━━━━━━━━━━━━━━━━━━\u001b[0m\u001b[37m\u001b[0m \u001b[1m32s\u001b[0m 21ms/step - accuracy: 0.8817 - loss: 0.3190 - val_accuracy: 0.8905 - val_loss: 0.2868\n",
      "Epoch 7/10\n",
      "\u001b[1m1513/1513\u001b[0m \u001b[32m━━━━━━━━━━━━━━━━━━━━\u001b[0m\u001b[37m\u001b[0m \u001b[1m32s\u001b[0m 21ms/step - accuracy: 0.8519 - loss: 0.3492 - val_accuracy: 0.8133 - val_loss: 0.4334\n",
      "Epoch 8/10\n",
      "\u001b[1m1513/1513\u001b[0m \u001b[32m━━━━━━━━━━━━━━━━━━━━\u001b[0m\u001b[37m\u001b[0m \u001b[1m32s\u001b[0m 21ms/step - accuracy: 0.8569 - loss: 0.3594 - val_accuracy: 0.8876 - val_loss: 0.3124\n",
      "Epoch 9/10\n",
      "\u001b[1m1513/1513\u001b[0m \u001b[32m━━━━━━━━━━━━━━━━━━━━\u001b[0m\u001b[37m\u001b[0m \u001b[1m32s\u001b[0m 21ms/step - accuracy: 0.8769 - loss: 0.3162 - val_accuracy: 0.8617 - val_loss: 0.3385\n",
      "\u001b[1m757/757\u001b[0m \u001b[32m━━━━━━━━━━━━━━━━━━━━\u001b[0m\u001b[37m\u001b[0m \u001b[1m8s\u001b[0m 11ms/step\n",
      "\n",
      "🏆 Training Results:\n",
      "🔹 Accuracy: 0.8905\n",
      "🔹 Precision: 0.8844\n",
      "🔹 Recall: 0.8624\n",
      "🔹 F1_score: 0.8733\n",
      "\n",
      "📂 Fold 5\n",
      "\n",
      "🚀 Training RNN with rnn_units=64, dropout_rate=0.5\n",
      "Epoch 1/10\n"
     ]
    },
    {
     "name": "stderr",
     "output_type": "stream",
     "text": [
      "/home/dariusng2103/projects/dm_project/fake-news/lib/python3.10/site-packages/keras/src/layers/core/embedding.py:90: UserWarning: Argument `input_length` is deprecated. Just remove it.\n",
      "  warnings.warn(\n"
     ]
    },
    {
     "name": "stdout",
     "output_type": "stream",
     "text": [
      "\u001b[1m1513/1513\u001b[0m \u001b[32m━━━━━━━━━━━━━━━━━━━━\u001b[0m\u001b[37m\u001b[0m \u001b[1m34s\u001b[0m 22ms/step - accuracy: 0.7962 - loss: 0.4486 - val_accuracy: 0.8375 - val_loss: 0.3996\n",
      "Epoch 2/10\n",
      "\u001b[1m1513/1513\u001b[0m \u001b[32m━━━━━━━━━━━━━━━━━━━━\u001b[0m\u001b[37m\u001b[0m \u001b[1m32s\u001b[0m 21ms/step - accuracy: 0.8382 - loss: 0.3921 - val_accuracy: 0.8776 - val_loss: 0.3048\n",
      "Epoch 3/10\n",
      "\u001b[1m1513/1513\u001b[0m \u001b[32m━━━━━━━━━━━━━━━━━━━━\u001b[0m\u001b[37m\u001b[0m \u001b[1m32s\u001b[0m 21ms/step - accuracy: 0.7563 - loss: 0.4870 - val_accuracy: 0.8673 - val_loss: 0.3485\n",
      "Epoch 4/10\n",
      "\u001b[1m1513/1513\u001b[0m \u001b[32m━━━━━━━━━━━━━━━━━━━━\u001b[0m\u001b[37m\u001b[0m \u001b[1m32s\u001b[0m 21ms/step - accuracy: 0.8329 - loss: 0.3971 - val_accuracy: 0.8236 - val_loss: 0.4254\n",
      "Epoch 5/10\n",
      "\u001b[1m1513/1513\u001b[0m \u001b[32m━━━━━━━━━━━━━━━━━━━━\u001b[0m\u001b[37m\u001b[0m \u001b[1m32s\u001b[0m 21ms/step - accuracy: 0.8326 - loss: 0.4031 - val_accuracy: 0.8539 - val_loss: 0.3480\n",
      "\u001b[1m757/757\u001b[0m \u001b[32m━━━━━━━━━━━━━━━━━━━━\u001b[0m\u001b[37m\u001b[0m \u001b[1m8s\u001b[0m 11ms/step\n",
      "\n",
      "🏆 Training Results:\n",
      "🔹 Accuracy: 0.8776\n",
      "🔹 Precision: 0.8664\n",
      "🔹 Recall: 0.8516\n",
      "🔹 F1_score: 0.8589\n",
      "📊 Average F1-score: 0.8640\n",
      "CPU times: user 3h 44min 54s, sys: 12min 39s, total: 3h 57min 33s\n",
      "Wall time: 2h 4min 36s\n"
     ]
    },
    {
     "data": {
      "text/plain": [
       "{'rnn_units': 32, 'dropout_rate': 0.5}"
      ]
     },
     "execution_count": 28,
     "metadata": {},
     "output_type": "execute_result"
    }
   ],
   "source": [
    "%%time\n",
    "\n",
    "best_params_rewritten = do_grid_search(data_rewritten)\n",
    "best_params_rewritten"
   ]
  },
  {
   "cell_type": "code",
   "execution_count": 29,
   "metadata": {},
   "outputs": [
    {
     "name": "stdout",
     "output_type": "stream",
     "text": [
      "\n",
      "🚀 Training RNN with rnn_units=32, dropout_rate=0.5\n",
      "Epoch 1/10\n"
     ]
    },
    {
     "name": "stderr",
     "output_type": "stream",
     "text": [
      "/home/dariusng2103/projects/dm_project/fake-news/lib/python3.10/site-packages/keras/src/layers/core/embedding.py:90: UserWarning: Argument `input_length` is deprecated. Just remove it.\n",
      "  warnings.warn(\n"
     ]
    },
    {
     "name": "stdout",
     "output_type": "stream",
     "text": [
      "\u001b[1m1702/1702\u001b[0m \u001b[32m━━━━━━━━━━━━━━━━━━━━\u001b[0m\u001b[37m\u001b[0m \u001b[1m32s\u001b[0m 18ms/step - accuracy: 0.8109 - loss: 0.4281 - val_accuracy: 0.8810 - val_loss: 0.3153\n",
      "Epoch 2/10\n",
      "\u001b[1m1702/1702\u001b[0m \u001b[32m━━━━━━━━━━━━━━━━━━━━\u001b[0m\u001b[37m\u001b[0m \u001b[1m30s\u001b[0m 17ms/step - accuracy: 0.8814 - loss: 0.3246 - val_accuracy: 0.8860 - val_loss: 0.2973\n",
      "Epoch 3/10\n",
      "\u001b[1m1702/1702\u001b[0m \u001b[32m━━━━━━━━━━━━━━━━━━━━\u001b[0m\u001b[37m\u001b[0m \u001b[1m29s\u001b[0m 17ms/step - accuracy: 0.8854 - loss: 0.3054 - val_accuracy: 0.8888 - val_loss: 0.3114\n",
      "Epoch 4/10\n",
      "\u001b[1m1702/1702\u001b[0m \u001b[32m━━━━━━━━━━━━━━━━━━━━\u001b[0m\u001b[37m\u001b[0m \u001b[1m30s\u001b[0m 18ms/step - accuracy: 0.8301 - loss: 0.3875 - val_accuracy: 0.6912 - val_loss: 0.5769\n",
      "Epoch 5/10\n",
      "\u001b[1m1702/1702\u001b[0m \u001b[32m━━━━━━━━━━━━━━━━━━━━\u001b[0m\u001b[37m\u001b[0m \u001b[1m29s\u001b[0m 17ms/step - accuracy: 0.7195 - loss: 0.5247 - val_accuracy: 0.8707 - val_loss: 0.3252\n",
      "\u001b[1m379/379\u001b[0m \u001b[32m━━━━━━━━━━━━━━━━━━━━\u001b[0m\u001b[37m\u001b[0m \u001b[1m3s\u001b[0m 8ms/step\n",
      "\n",
      "🏆 Training Results:\n",
      "🔹 Accuracy: 0.8860\n",
      "🔹 Precision: 0.9025\n",
      "🔹 Recall: 0.8291\n",
      "🔹 F1_score: 0.8642\n",
      "CPU times: user 11min 50s, sys: 28.3 s, total: 12min 18s\n",
      "Wall time: 5min 44s\n"
     ]
    }
   ],
   "source": [
    "%%time\n",
    "\n",
    "train_data_combined = pd.concat([train_data, train_data_rewritten], ignore_index=True)\n",
    "val_data_combined = pd.concat([val_data, val_data_rewritten], ignore_index=True)\n",
    "model_combined = train_model(train_data_combined, val_data_combined, \n",
    "                             rnn_units=best_params_rewritten[\"rnn_units\"], \n",
    "                             dropout_rate=best_params_rewritten[\"dropout_rate\"])\n",
    "model_combined.save(\"results/RNN_model_combined.keras\")"
   ]
  },
  {
   "cell_type": "code",
   "execution_count": 30,
   "metadata": {},
   "outputs": [
    {
     "name": "stdout",
     "output_type": "stream",
     "text": [
      "Evaluating Model\n",
      "\u001b[1m379/379\u001b[0m \u001b[32m━━━━━━━━━━━━━━━━━━━━\u001b[0m\u001b[37m\u001b[0m \u001b[1m3s\u001b[0m 8ms/step\n",
      "Accuracy: 0.8844\n",
      "Precision: 0.8998\n",
      "Recall: 0.8279\n",
      "F1: 0.8624\n"
     ]
    }
   ],
   "source": [
    "evaluate_model(model_combined, train_data_combined, val_data_combined)"
   ]
  },
  {
   "cell_type": "code",
   "execution_count": 31,
   "metadata": {},
   "outputs": [
    {
     "name": "stdout",
     "output_type": "stream",
     "text": [
      "Evaluating Model\n",
      "\u001b[1m190/190\u001b[0m \u001b[32m━━━━━━━━━━━━━━━━━━━━\u001b[0m\u001b[37m\u001b[0m \u001b[1m2s\u001b[0m 9ms/step\n",
      "Accuracy: 0.9319\n",
      "Precision: 0.9388\n",
      "Recall: 0.9033\n",
      "F1: 0.9207\n"
     ]
    }
   ],
   "source": [
    "evaluate_model(model_combined, train_data_combined, val_data)"
   ]
  },
  {
   "cell_type": "code",
   "execution_count": 32,
   "metadata": {},
   "outputs": [
    {
     "name": "stdout",
     "output_type": "stream",
     "text": [
      "Evaluating Model\n",
      "\u001b[1m190/190\u001b[0m \u001b[32m━━━━━━━━━━━━━━━━━━━━\u001b[0m\u001b[37m\u001b[0m \u001b[1m2s\u001b[0m 9ms/step\n",
      "Accuracy: 0.8369\n",
      "Precision: 0.8571\n",
      "Recall: 0.7526\n",
      "F1: 0.8014\n"
     ]
    }
   ],
   "source": [
    "evaluate_model(model_combined, train_data_combined, val_data_rewritten)"
   ]
  },
  {
   "cell_type": "code",
   "execution_count": 33,
   "metadata": {},
   "outputs": [
    {
     "data": {
      "text/html": [
       "<pre style=\"white-space:pre;overflow-x:auto;line-height:normal;font-family:Menlo,'DejaVu Sans Mono',consolas,'Courier New',monospace\"><span style=\"font-weight: bold\">Model: \"sequential_43\"</span>\n",
       "</pre>\n"
      ],
      "text/plain": [
       "\u001b[1mModel: \"sequential_43\"\u001b[0m\n"
      ]
     },
     "metadata": {},
     "output_type": "display_data"
    },
    {
     "data": {
      "text/html": [
       "<pre style=\"white-space:pre;overflow-x:auto;line-height:normal;font-family:Menlo,'DejaVu Sans Mono',consolas,'Courier New',monospace\">┏━━━━━━━━━━━━━━━━━━━━━━━━━━━━━━━━━┳━━━━━━━━━━━━━━━━━━━━━━━━┳━━━━━━━━━━━━━━━┓\n",
       "┃<span style=\"font-weight: bold\"> Layer (type)                    </span>┃<span style=\"font-weight: bold\"> Output Shape           </span>┃<span style=\"font-weight: bold\">       Param # </span>┃\n",
       "┡━━━━━━━━━━━━━━━━━━━━━━━━━━━━━━━━━╇━━━━━━━━━━━━━━━━━━━━━━━━╇━━━━━━━━━━━━━━━┩\n",
       "│ embedding_43 (<span style=\"color: #0087ff; text-decoration-color: #0087ff\">Embedding</span>)        │ (<span style=\"color: #00d7ff; text-decoration-color: #00d7ff\">None</span>, <span style=\"color: #00af00; text-decoration-color: #00af00\">300</span>, <span style=\"color: #00af00; text-decoration-color: #00af00\">128</span>)       │       <span style=\"color: #00af00; text-decoration-color: #00af00\">640,000</span> │\n",
       "├─────────────────────────────────┼────────────────────────┼───────────────┤\n",
       "│ simple_rnn_43 (<span style=\"color: #0087ff; text-decoration-color: #0087ff\">SimpleRNN</span>)       │ (<span style=\"color: #00d7ff; text-decoration-color: #00d7ff\">None</span>, <span style=\"color: #00af00; text-decoration-color: #00af00\">32</span>)             │         <span style=\"color: #00af00; text-decoration-color: #00af00\">5,152</span> │\n",
       "├─────────────────────────────────┼────────────────────────┼───────────────┤\n",
       "│ dropout_43 (<span style=\"color: #0087ff; text-decoration-color: #0087ff\">Dropout</span>)            │ (<span style=\"color: #00d7ff; text-decoration-color: #00d7ff\">None</span>, <span style=\"color: #00af00; text-decoration-color: #00af00\">32</span>)             │             <span style=\"color: #00af00; text-decoration-color: #00af00\">0</span> │\n",
       "├─────────────────────────────────┼────────────────────────┼───────────────┤\n",
       "│ dense_43 (<span style=\"color: #0087ff; text-decoration-color: #0087ff\">Dense</span>)                │ (<span style=\"color: #00d7ff; text-decoration-color: #00d7ff\">None</span>, <span style=\"color: #00af00; text-decoration-color: #00af00\">1</span>)              │            <span style=\"color: #00af00; text-decoration-color: #00af00\">33</span> │\n",
       "└─────────────────────────────────┴────────────────────────┴───────────────┘\n",
       "</pre>\n"
      ],
      "text/plain": [
       "┏━━━━━━━━━━━━━━━━━━━━━━━━━━━━━━━━━┳━━━━━━━━━━━━━━━━━━━━━━━━┳━━━━━━━━━━━━━━━┓\n",
       "┃\u001b[1m \u001b[0m\u001b[1mLayer (type)                   \u001b[0m\u001b[1m \u001b[0m┃\u001b[1m \u001b[0m\u001b[1mOutput Shape          \u001b[0m\u001b[1m \u001b[0m┃\u001b[1m \u001b[0m\u001b[1m      Param #\u001b[0m\u001b[1m \u001b[0m┃\n",
       "┡━━━━━━━━━━━━━━━━━━━━━━━━━━━━━━━━━╇━━━━━━━━━━━━━━━━━━━━━━━━╇━━━━━━━━━━━━━━━┩\n",
       "│ embedding_43 (\u001b[38;5;33mEmbedding\u001b[0m)        │ (\u001b[38;5;45mNone\u001b[0m, \u001b[38;5;34m300\u001b[0m, \u001b[38;5;34m128\u001b[0m)       │       \u001b[38;5;34m640,000\u001b[0m │\n",
       "├─────────────────────────────────┼────────────────────────┼───────────────┤\n",
       "│ simple_rnn_43 (\u001b[38;5;33mSimpleRNN\u001b[0m)       │ (\u001b[38;5;45mNone\u001b[0m, \u001b[38;5;34m32\u001b[0m)             │         \u001b[38;5;34m5,152\u001b[0m │\n",
       "├─────────────────────────────────┼────────────────────────┼───────────────┤\n",
       "│ dropout_43 (\u001b[38;5;33mDropout\u001b[0m)            │ (\u001b[38;5;45mNone\u001b[0m, \u001b[38;5;34m32\u001b[0m)             │             \u001b[38;5;34m0\u001b[0m │\n",
       "├─────────────────────────────────┼────────────────────────┼───────────────┤\n",
       "│ dense_43 (\u001b[38;5;33mDense\u001b[0m)                │ (\u001b[38;5;45mNone\u001b[0m, \u001b[38;5;34m1\u001b[0m)              │            \u001b[38;5;34m33\u001b[0m │\n",
       "└─────────────────────────────────┴────────────────────────┴───────────────┘\n"
      ]
     },
     "metadata": {},
     "output_type": "display_data"
    },
    {
     "data": {
      "text/html": [
       "<pre style=\"white-space:pre;overflow-x:auto;line-height:normal;font-family:Menlo,'DejaVu Sans Mono',consolas,'Courier New',monospace\"><span style=\"font-weight: bold\"> Total params: </span><span style=\"color: #00af00; text-decoration-color: #00af00\">1,935,557</span> (7.38 MB)\n",
       "</pre>\n"
      ],
      "text/plain": [
       "\u001b[1m Total params: \u001b[0m\u001b[38;5;34m1,935,557\u001b[0m (7.38 MB)\n"
      ]
     },
     "metadata": {},
     "output_type": "display_data"
    },
    {
     "data": {
      "text/html": [
       "<pre style=\"white-space:pre;overflow-x:auto;line-height:normal;font-family:Menlo,'DejaVu Sans Mono',consolas,'Courier New',monospace\"><span style=\"font-weight: bold\"> Trainable params: </span><span style=\"color: #00af00; text-decoration-color: #00af00\">645,185</span> (2.46 MB)\n",
       "</pre>\n"
      ],
      "text/plain": [
       "\u001b[1m Trainable params: \u001b[0m\u001b[38;5;34m645,185\u001b[0m (2.46 MB)\n"
      ]
     },
     "metadata": {},
     "output_type": "display_data"
    },
    {
     "data": {
      "text/html": [
       "<pre style=\"white-space:pre;overflow-x:auto;line-height:normal;font-family:Menlo,'DejaVu Sans Mono',consolas,'Courier New',monospace\"><span style=\"font-weight: bold\"> Non-trainable params: </span><span style=\"color: #00af00; text-decoration-color: #00af00\">0</span> (0.00 B)\n",
       "</pre>\n"
      ],
      "text/plain": [
       "\u001b[1m Non-trainable params: \u001b[0m\u001b[38;5;34m0\u001b[0m (0.00 B)\n"
      ]
     },
     "metadata": {},
     "output_type": "display_data"
    },
    {
     "data": {
      "text/html": [
       "<pre style=\"white-space:pre;overflow-x:auto;line-height:normal;font-family:Menlo,'DejaVu Sans Mono',consolas,'Courier New',monospace\"><span style=\"font-weight: bold\"> Optimizer params: </span><span style=\"color: #00af00; text-decoration-color: #00af00\">1,290,372</span> (4.92 MB)\n",
       "</pre>\n"
      ],
      "text/plain": [
       "\u001b[1m Optimizer params: \u001b[0m\u001b[38;5;34m1,290,372\u001b[0m (4.92 MB)\n"
      ]
     },
     "metadata": {},
     "output_type": "display_data"
    }
   ],
   "source": [
    "model_combined2 = load_model(\"results/RNN_model_combined.keras\")\n",
    "model_combined2.summary()"
   ]
  },
  {
   "cell_type": "code",
   "execution_count": 34,
   "metadata": {},
   "outputs": [
    {
     "name": "stdout",
     "output_type": "stream",
     "text": [
      "Evaluating Model\n",
      "\u001b[1m379/379\u001b[0m \u001b[32m━━━━━━━━━━━━━━━━━━━━\u001b[0m\u001b[37m\u001b[0m \u001b[1m3s\u001b[0m 9ms/step\n",
      "Accuracy: 0.8844\n",
      "Precision: 0.8998\n",
      "Recall: 0.8279\n",
      "F1: 0.8624\n"
     ]
    }
   ],
   "source": [
    "evaluate_model(model_combined2, train_data_combined, val_data_combined)"
   ]
  },
  {
   "cell_type": "code",
   "execution_count": 35,
   "metadata": {},
   "outputs": [
    {
     "name": "stdout",
     "output_type": "stream",
     "text": [
      "Evaluating Model\n",
      "\u001b[1m190/190\u001b[0m \u001b[32m━━━━━━━━━━━━━━━━━━━━\u001b[0m\u001b[37m\u001b[0m \u001b[1m2s\u001b[0m 9ms/step\n",
      "Accuracy: 0.9319\n",
      "Precision: 0.9388\n",
      "Recall: 0.9033\n",
      "F1: 0.9207\n"
     ]
    }
   ],
   "source": [
    "evaluate_model(model_combined2, train_data_combined, val_data)"
   ]
  },
  {
   "cell_type": "code",
   "execution_count": 36,
   "metadata": {},
   "outputs": [
    {
     "name": "stdout",
     "output_type": "stream",
     "text": [
      "Evaluating Model\n",
      "\u001b[1m190/190\u001b[0m \u001b[32m━━━━━━━━━━━━━━━━━━━━\u001b[0m\u001b[37m\u001b[0m \u001b[1m2s\u001b[0m 9ms/step\n",
      "Accuracy: 0.8369\n",
      "Precision: 0.8571\n",
      "Recall: 0.7526\n",
      "F1: 0.8014\n"
     ]
    }
   ],
   "source": [
    "evaluate_model(model_combined2, train_data_combined, val_data_rewritten)"
   ]
  },
  {
   "cell_type": "code",
   "execution_count": null,
   "metadata": {},
   "outputs": [],
   "source": []
  }
 ],
 "metadata": {
  "kernelspec": {
   "display_name": "fake-news",
   "language": "python",
   "name": "python3"
  },
  "language_info": {
   "codemirror_mode": {
    "name": "ipython",
    "version": 3
   },
   "file_extension": ".py",
   "mimetype": "text/x-python",
   "name": "python",
   "nbconvert_exporter": "python",
   "pygments_lexer": "ipython3",
   "version": "3.10.16"
  }
 },
 "nbformat": 4,
 "nbformat_minor": 2
}
