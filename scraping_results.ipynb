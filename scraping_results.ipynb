{
 "cells": [
  {
   "cell_type": "code",
   "execution_count": 1,
   "metadata": {},
   "outputs": [],
   "source": [
    "import pandas as pd"
   ]
  },
  {
   "cell_type": "code",
   "execution_count": 2,
   "metadata": {},
   "outputs": [],
   "source": [
    "df = pd.read_csv('cnn_articles.csv')"
   ]
  },
  {
   "cell_type": "code",
   "execution_count": 3,
   "metadata": {},
   "outputs": [
    {
     "data": {
      "text/html": [
       "<div>\n",
       "<style scoped>\n",
       "    .dataframe tbody tr th:only-of-type {\n",
       "        vertical-align: middle;\n",
       "    }\n",
       "\n",
       "    .dataframe tbody tr th {\n",
       "        vertical-align: top;\n",
       "    }\n",
       "\n",
       "    .dataframe thead th {\n",
       "        text-align: right;\n",
       "    }\n",
       "</style>\n",
       "<table border=\"1\" class=\"dataframe\">\n",
       "  <thead>\n",
       "    <tr style=\"text-align: right;\">\n",
       "      <th></th>\n",
       "      <th>source</th>\n",
       "      <th>title</th>\n",
       "      <th>content</th>\n",
       "      <th>date</th>\n",
       "    </tr>\n",
       "  </thead>\n",
       "  <tbody>\n",
       "    <tr>\n",
       "      <th>0</th>\n",
       "      <td>CNN</td>\n",
       "      <td>Milwaukee’s Black voters expose cracks in Demo...</td>\n",
       "      <td>Devonta Johnson is going door to door, clipboa...</td>\n",
       "      <td>2024-10-11</td>\n",
       "    </tr>\n",
       "    <tr>\n",
       "      <th>1</th>\n",
       "      <td>CNN</td>\n",
       "      <td>How a one-time GOP critic found alliance with ...</td>\n",
       "      <td>For more on the US Senate race in Michigan, wa...</td>\n",
       "      <td>2024-10-20</td>\n",
       "    </tr>\n",
       "    <tr>\n",
       "      <th>2</th>\n",
       "      <td>CNN</td>\n",
       "      <td>In pictures: Harris running mate Tim Walz | CN...</td>\n",
       "      <td>Vice President Kamala Harris selected Minnesot...</td>\n",
       "      <td>2024-08-06</td>\n",
       "    </tr>\n",
       "    <tr>\n",
       "      <th>3</th>\n",
       "      <td>CNN</td>\n",
       "      <td>Nebraska’s high court says people with felony ...</td>\n",
       "      <td>Nebraska’s top election official had no author...</td>\n",
       "      <td>2024-10-16</td>\n",
       "    </tr>\n",
       "    <tr>\n",
       "      <th>4</th>\n",
       "      <td>CNN</td>\n",
       "      <td>How elderly dementia patients are unwittingly ...</td>\n",
       "      <td>Hundreds of elderly political donors, includin...</td>\n",
       "      <td>2024-10-22</td>\n",
       "    </tr>\n",
       "  </tbody>\n",
       "</table>\n",
       "</div>"
      ],
      "text/plain": [
       "  source                                              title  \\\n",
       "0    CNN  Milwaukee’s Black voters expose cracks in Demo...   \n",
       "1    CNN  How a one-time GOP critic found alliance with ...   \n",
       "2    CNN  In pictures: Harris running mate Tim Walz | CN...   \n",
       "3    CNN  Nebraska’s high court says people with felony ...   \n",
       "4    CNN  How elderly dementia patients are unwittingly ...   \n",
       "\n",
       "                                             content        date  \n",
       "0  Devonta Johnson is going door to door, clipboa...  2024-10-11  \n",
       "1  For more on the US Senate race in Michigan, wa...  2024-10-20  \n",
       "2  Vice President Kamala Harris selected Minnesot...  2024-08-06  \n",
       "3  Nebraska’s top election official had no author...  2024-10-16  \n",
       "4  Hundreds of elderly political donors, includin...  2024-10-22  "
      ]
     },
     "execution_count": 3,
     "metadata": {},
     "output_type": "execute_result"
    }
   ],
   "source": [
    "df.head()"
   ]
  }
 ],
 "metadata": {
  "kernelspec": {
   "display_name": "Python 3",
   "language": "python",
   "name": "python3"
  },
  "language_info": {
   "codemirror_mode": {
    "name": "ipython",
    "version": 3
   },
   "file_extension": ".py",
   "mimetype": "text/x-python",
   "name": "python",
   "nbconvert_exporter": "python",
   "pygments_lexer": "ipython3",
   "version": "3.12.7"
  }
 },
 "nbformat": 4,
 "nbformat_minor": 2
}
