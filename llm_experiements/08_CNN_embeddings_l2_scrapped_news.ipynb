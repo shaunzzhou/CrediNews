{
 "cells": [
  {
   "cell_type": "code",
   "execution_count": 1,
   "metadata": {},
   "outputs": [
    {
     "name": "stdout",
     "output_type": "stream",
     "text": [
      "working dir: /Users/inflaton/code/engd/papers/DM-Fake-News-Detection\n"
     ]
    }
   ],
   "source": [
    "import os\n",
    "import sys\n",
    "from pathlib import Path\n",
    "\n",
    "if \"workding_dir\" not in locals():\n",
    "    workding_dir = str(Path.cwd().parent)\n",
    "os.chdir(workding_dir)\n",
    "sys.path.append(workding_dir)\n",
    "print(\"working dir:\", workding_dir)"
   ]
  },
  {
   "cell_type": "markdown",
   "metadata": {},
   "source": [
    "# From Detection to Credibility: A Machine Learning Framework for Assessing News Source Reliability\n",
    "\n"
   ]
  },
  {
   "cell_type": "markdown",
   "metadata": {},
   "source": [
    "**Motivation**\n",
    "\n",
    "As media continues to grow in volume, it is becoming increasingly difficult to differentiate real and fake news effectively. It is thus imperative for us to find better ways to identify fake news, and for us, this means with the help of data mining and machine learning.\n",
    "\n",
    "In the first part of our project, we will focus on experimenting with different data processing techniques and predictive models, optimising our final pipeline and model to accurately identify fake news.\n",
    "\n",
    "For the second part, we want to apply our trained model to scraped news data from popular US media outlets and access the credibility of these media outlets. This way we can help the public to make more informed decisions about what media outlets they can trust. \n"
   ]
  },
  {
   "cell_type": "markdown",
   "metadata": {},
   "source": [
    "## 2nd Part: Fake News Classification Use Case\n",
    "\n",
    "For the second part, we scraped articles from 10 different news sites, split into two categories of news sites. \n",
    "\n",
    "The dimensions are shown below:\n",
    "- **Index:**: Index.\n",
    "- **title:** Title of news article.\n",
    "- **text:** Text content of news article.\n",
    "- **label:** Whether news article is real (0) or fake (1).\n",
    "\n",
    "The Fake News Dataset is split into 3 `csv` files (`part1.csv`, `part2.csv`, `part3.csv`) so that size does not exceed size limit to push changes to GitHub."
   ]
  },
  {
   "cell_type": "markdown",
   "metadata": {},
   "source": [
    "## Import Libraries\n",
    "\n",
    "Please uncomment the code box below to pip install relevant dependencies for this notebook."
   ]
  },
  {
   "cell_type": "code",
   "execution_count": 14,
   "metadata": {},
   "outputs": [
    {
     "name": "stderr",
     "output_type": "stream",
     "text": [
      "Language Detection:   0%|          | 0/1522 [00:44<?, ?it/s]\n"
     ]
    }
   ],
   "source": [
    "# Import necessary libraries\n",
    "\n",
    "# Data manipulation\n",
    "import pandas as pd\n",
    "import numpy as np\n",
    "\n",
    "# Statistical functions\n",
    "from scipy.stats import zscore\n",
    "\n",
    "# For concurrency (running functions in parallel)\n",
    "from concurrent.futures import ThreadPoolExecutor\n",
    "\n",
    "# For caching (to speed up repeated function calls)\n",
    "from functools import lru_cache\n",
    "\n",
    "# For progress tracking\n",
    "from tqdm import tqdm\n",
    "\n",
    "# Plotting and Visualisation\n",
    "import matplotlib.pyplot as plt\n",
    "import seaborn as sns\n",
    "\n",
    "# Language Detection packages\n",
    "# `langdetect` for detecting language\n",
    "from langdetect import detect as langdetect_detect, DetectorFactory\n",
    "from langdetect.lang_detect_exception import LangDetectException\n",
    "# `langid` for an alternative language detection method\n",
    "from langid import classify as langid_classify\n",
    "\n",
    "# Text Preprocessing and NLP\n",
    "# Stopwords (common words to ignore) from NLTK\n",
    "from nltk.corpus import stopwords\n",
    "# Tokenizing sentences/words\n",
    "from nltk.tokenize import word_tokenize\n",
    "# Part-of-speech tagging\n",
    "from nltk import pos_tag\n",
    "# Lemmatization (converting words to their base form)\n",
    "from nltk.stem import WordNetLemmatizer\n",
    "import nltk\n",
    "# Regular expressions for text pattern matching\n",
    "import re\n",
    "\n",
    "# Word Cloud generation\n",
    "from wordcloud import WordCloud"
   ]
  },
  {
   "cell_type": "code",
   "execution_count": 3,
   "metadata": {},
   "outputs": [],
   "source": [
    "## Unreliable websites\n",
    "breitbart_df = pd.read_csv(\"./web_scraping/test_websites/breitbart_articles_1.csv\")\n",
    "dailycaller_df = pd.read_csv('./web_scraping/test_websites/daily_caller_articles_1.csv')\n",
    "naturalnews_df = pd.read_csv('./web_scraping/test_websites/naturalnews_articles_1.csv')\n",
    "newsmax_df = pd.read_csv('./web_scraping/test_websites/newsmax_articles_1.csv')\n",
    "zerohedge_df = pd.read_csv('./web_scraping/test_websites/zerohedge_articles_1.csv')\n",
    "\n",
    "# Reliable websites\n",
    "cnn_df = pd.read_csv('./web_scraping/test_websites/cnn_articles_1.csv')\n",
    "ap_df = pd.read_csv('./web_scraping/test_websites/ap_articles_1.csv')\n",
    "bbc_df = pd.read_csv('./web_scraping/test_websites/bbc_articles_1.csv')\n",
    "npr_df = pd.read_csv('./web_scraping/test_websites/npr_articles_1.csv')\n",
    "guardian_df = pd.read_csv('./web_scraping/test_websites/guardian_articles_1.csv')"
   ]
  },
  {
   "cell_type": "markdown",
   "metadata": {},
   "source": [
    "## Combine all 10 dataframes into 1\n",
    "Here we combine all 10 dataframes into 1 dataframe (`data_raw`) by concatenating along rows.\n",
    "\n",
    "We also reset the `index` and drop the old `index` column."
   ]
  },
  {
   "cell_type": "code",
   "execution_count": 4,
   "metadata": {},
   "outputs": [
    {
     "name": "stdout",
     "output_type": "stream",
     "text": [
      "<class 'pandas.core.frame.DataFrame'>\n",
      "RangeIndex: 1522 entries, 0 to 1521\n",
      "Data columns (total 4 columns):\n",
      " #   Column   Non-Null Count  Dtype \n",
      "---  ------   --------------  ----- \n",
      " 0   source   1522 non-null   object\n",
      " 1   title    1522 non-null   object\n",
      " 2   content  1522 non-null   object\n",
      " 3   date     1522 non-null   object\n",
      "dtypes: object(4)\n",
      "memory usage: 47.7+ KB\n",
      "Dataframe Shape:  (1522, 4)\n"
     ]
    }
   ],
   "source": [
    "# Combining all 10 dataframes into 1\n",
    "data_raw = pd.concat([breitbart_df, dailycaller_df, naturalnews_df,newsmax_df,zerohedge_df,cnn_df,ap_df,bbc_df,npr_df,guardian_df], axis=0)\n",
    "\n",
    "# Reset index and drop old index column\n",
    "data_raw = data_raw.reset_index(drop=True)\n",
    "\n",
    "data_raw.info()\n",
    "print(\"Dataframe Shape: \", data_raw.shape)"
   ]
  },
  {
   "cell_type": "code",
   "execution_count": 5,
   "metadata": {},
   "outputs": [
    {
     "data": {
      "application/vnd.microsoft.datawrangler.viewer.v0+json": {
       "columns": [
        {
         "name": "index",
         "rawType": "int64",
         "type": "integer"
        },
        {
         "name": "source",
         "rawType": "object",
         "type": "string"
        },
        {
         "name": "title",
         "rawType": "object",
         "type": "string"
        },
        {
         "name": "content",
         "rawType": "object",
         "type": "string"
        },
        {
         "name": "date",
         "rawType": "object",
         "type": "string"
        }
       ],
       "conversionMethod": "pd.DataFrame",
       "ref": "b5ccb62a-cc7f-4fe0-ae95-c05f4c1ee924",
       "rows": [
        [
         "0",
         "Breitbart",
         "GOP: WH May Have Illegally Altered Biden's 'Garbage' Remark",
         "House Republicans say the Biden-Harris White House might have broken the law when they altered President Joe Biden’s remarks in the official transcript to imply he did not call Trump supporters “garbage.”\nBiden on Tuesday during a video call with Voto Latino in support of Vice President Kamala Harris’s presidential campaign said, “The only garbage I see floating out there is his supporters.”\nHowever, after facing immediate backlash from Republicans and even some Democrats, the White House claimed that Biden did not call Trump supporters “garbage,” but was instead referring to one Trump supporter — namely, comedian Tony Hinchliffe.\nThe White House released a transcript that reinforced that argument, adding an apostrophe to “supporters” to read “supporter’s,” and then adding an em-dash to make it seem like Biden had not completed his sentence.\nThe transcript said (emphasis added):\nThe only garbage I see floating out there is his supporter’s — his — his demonization of Latinos is unconscionable, and it’s un-American.\nHinchliffe, known for his off-color jokes, had performed at Trump’s Madison Square Garden rally on Sunday and had joked that Puerto Rico was a “floating island of garbage.”\nBiden also later posted on X that he was referring to Hinchliffe’s “demonization of Latinos.”\nAccording to House Republican Conference Chair Elise Stefanik (R-NY) and House Oversight Committee Chairman James Comer (R-KY), the White House’s addition of an apostrophe may have violated the Presidential Records Act.\nIn a letter to White House Counsel Edward Siskel, they demanded that the White House retain and preserve all documents and internal communications related to Biden’s statement and the release of the inaccurate transcript.\nThey also called on the White House to correct the transcript to reflect what Biden said. They said:\nPresident Biden’s vindictive words were unsurprising, given his previous statements regarding people who choose not to vote for his preferred candidate. Unsurprising too were the White House’s actions after he said them. Instead of apologizing or clarifying President Biden’s words, the White House instead sought to change them (despite them being recorded on video) by releasing a false transcript of his remarks. The move is not only craven, but it also appears to be in violation of federal law, including the Presidential Records Act of 1978.\n“White House staff cannot rewrite the words of the President of the United States to be more politically on message. Though President Biden’s relevance continues to diminish, his words continue to matter, even as they become increasingly divisive and erratic,” they added.\nFollow Breitbart News’s Kristina Wong on ”X”, Truth Social, or on Facebook.",
         "2024-10-31"
        ],
        [
         "1",
         "Breitbart",
         "Mavericks Principal Owners Donate $100 Million to Republicans Despite Mark Cuban Claiming Trump Has 'Fascist Tendencies'",
         "Miriam Adelson, the principal owner of the NBA’s Dallas Mavericks, has put down $100 million on Donald Trump to win the 2024 presidential election. This is despite the caterwauling of minority owner and extreme left-wing advocate Mark Cuban, who has been all-in for Kamala Harris.\nCuban has jumped in front of every microphone he can find to push for the election of Kamala Harris. Still, the team for which he used to be the majority owner and is now a minority owner is apparently working to the contrary, according to Front Office Sports.\nAdelson has been a top Republican donor since inheriting her husband’s fortune. Casino magnate Sheldon Adelson was also a big GOP backer but passed away in 2021. Since then, his wife has kept the GOP faith and remained a top donor.\nMiriam Adelson, a doctor who specializes in substance addiction, bought out Mark Cuban’s majority ownership of the Mavericks in 2023. However, Cuban still owns a bit more than one-fourth of the team.\nThe two, though, could not be more different politically. Cuban, who recently said Trump “absolutely” has “fascist tendencies,” is a staunch left-winger. However, he also claims he has not donated to the Harris campaign despite being a loud mouthpiece for her.\nIt appears Cuban is unwilling to let political differences stand in the way of making a buck, or several billion of them.\nWhile Adelson is by far the biggest political donor for the GOP in the NBA, several other owners have also contributed hefty cash to politics.\nHouston Rockets owner Tilman Fertitta donated $420,000 to several PACs working for Trump’s second term. However, he also gave $13,200 to Harris PACs.\nMinnesota Lynx and Timberwolves owner Glen Taylor donated to the GOP, but it wasn’t to Trump. Taylor, who was himself a GOP state senator from Minnesota, donated $2,000 to Nikki Haley before she dropped out of the primary race.\nMeanwhile, Sixers Co-Owner David Blitzer also signed on with Haley, making a personal donation of the maximum of $3,300. But since Haley failed, he turned to Harris, giving $31,600 to a Harris PAC.\nMeanwhile, Indiana Pacers and Fever owner Herb Simon donated $100,000 to pro-Harris PACs.\nEven excluding Adelson, NBA owners have given a bit more to Trump ($424,650) than Harris ($274,800).\nFollow Warner Todd Huston on Facebook at: facebook.com/Warner.Todd.Huston, or Truth Social @WarnerToddHuston",
         "2024-10-30"
        ],
        [
         "2",
         "Breitbart",
         "Fact Check: Harris Campaign Twists Trump Comment on Liz Cheney to Claim He Called for Her Execution",
         "CLAIM: Vice President Kamala Harris’s campaign implied former President Donald Trump called for Liz Cheney to be put before a firing squad.\nFACT CHECK: False. Trump’s comments on “guns trained on her face” were about Cheney stoking foreign wars without being willing to fight in their front lines.\nVice President Kamala Harris’s campaign took former President Donald Trump’s words out of context, to suggest that he was calling for Liz Cheney to be put before a firing squad.\nHer campaign posted a video of Trump speaking to Tucker Carlson on X/Twitter, with a caption that paraphrased him:\nLet’s put Liz Cheney with a rifle standing there with nine barrels shooting at her. Let’s see how she feels about it when the guns are trained on her face\nRather than suggesting she be executed, Trump was speaking about how neoconservatives are quick to send young Americans to fight overseas in war — which Trump has long opposed, particularly the Iraq and Afghanistan Wars championed by Cheney and her father, former Vice President Dick Cheney.\nTrump had also said: “They’re all war hawks when they’re sitting in Washington in a nice building saying Oh gee, let’s send 10,000 troops into the mouths of the enemy.”\nKaroline Leavitt, Trump Campaign National Press Secretary, blasted the Harris-Walz campaign:\nPresident Trump is 100% correct that warmongers like Liz Cheney are very quick to start wars and send other Americans to fight them, rather than go into combat themselves. This is the continuation of the latest fake media outrage days before the election in a blatant attempt to interfere on behalf of Kamala Harris.\nCheney herself tried to spread the lie, posting on X:\nThis is how dictators destroy free nations. They threaten those who speak against them with death. We cannot entrust our country and our freedom to a petty, vindictive, cruel, unstable man who wants to be a tyrant. #Womenwillnotbesilenced #VoteKamala\nAs Democrat operatives tired to spread the false claim, even Trump critic former Rep. Joe Walsh said Trump did not call for her to be put before a firing squad.\nHe posted on X:\nTrump did NOT call for Liz Cheney to be executed.\nThis is what’s so wrong with our politics today. Look, you know how I feel about Trump, and I’ve been out there every day for 2-3 months campaigning my ass off to help get @KamalaHarris elected, but this short clip is so deceptive. Trump is NOT calling for Liz Cheney to be executed in front of a firing line. He’s not. Listen to the entirety of what he said. In Trump’s typically stupid, ugly fashion, he’s trying to make a point about Cheney’s stance on war. But Aaron (who I like & respect), by posting ONLY this 11 second clip, makes it look like he’s calling for her to be executed. He’s not. He’s an utterly horrible human being who’s utterly unfit for office, but the truth should always matter. And the truth is that Trump is not calling for Liz Cheney to be executed. But…this 11 second clip will have a gazillion views, and the truth will have just a handful of views.\nBoth former Vice President Cheney and former Wyoming Republican Rep. Cheney has endorsed Harris, with the younger Cheney even campaigning on the trail for her.",
         "2024-11-01"
        ],
        [
         "3",
         "Breitbart",
         "Harris Co-Chair: She's Different from Biden, He Didn't Have Problem of 'Lowering Costs'",
         "On Tuesday’s broadcast of CNN’s “Laura Coates Live,” Harris Campaign Co-Chair Mitch Landrieu stated that 2024 Democratic presidential candidate Vice President Kamala Harris differentiated herself from President Joe Biden “by saying, listen, I love the President, we did great work together, but I have different problems than he had, the most important of which is lowering costs for the American people. And I think she addressed it really very forthrightly and better tonight than she has in the past.”\nHost Laura Coates asked, “On that point of her trying to distinguish herself from Biden, was there a key moment in that speech that you think voters will connect to to suggest, yes, she will be different?”\nLandrieu answered, “Well, first of all, it was an incredible night. I was there, and there were 70,000 people there. … We were going to go to Madison Square Garden, but we couldn’t fit. So, we had to go there. It was just a huge turnout and it was exuberant and it was joyful and the environment in which she gave the speech was really uplifting and hopeful, which is what the speech was. It was a fairly detailed speech. She laid out, in clear detail, what the risks are of re-electing Donald Trump. She talked about the fact that, behind her, was the Resolute Desk, and, in seven days the people are going to decide whether she’s going to be sitting there or Donald Trump’s going to be sitting there and she reminded the public that Donald Trump has already talked about, out of his own mouth, spending his time talking about his enemies list, and the fact that she had a to-do list. And then she’s talked about how she is going to build an opportunity economy for all of us, not just some of us, and distinguished herself from Joe Biden by saying, listen, I love the President, we did great work together, but I have different problems than he had, the most important of which is lowering costs for the American people. And I think she addressed it really very forthrightly and better tonight than she has in the past.”\nFollow Ian Hanchett on Twitter @IanHanchett",
         "2024-10-29"
        ],
        [
         "4",
         "Breitbart",
         "Quinnipiac Poll: Trump Takes Lead in Pennsylvania",
         "Former President Donald Trump has a two point lead in a hypothetical two-way race with Vice President Kamala Harris in Pennsylvania (49-47 percent), a seven point swing since September 16, Quinnipiac survey found Wednesday.\nTrump’s lead is just within the margin of error of 2.1 percentage points. The poll sampled 2,186 likely voters in Pennsylvania from October 24 – 28.\nThe poll by Quinnipiac, which often leans left, suggests Trump holds the momentum during the period of early voting with less than a week until Election Day.\nBelow is the trend of the last three Quinnipiac surveys demonstrating the momentum:\nOctober 28\n- Trump: 49% (+2)\n- Harris: 47%\nOctober 7\n- Harris: 49% (+2)\n- Trump: 47%\nSeptember 16\n- Harris: 51% (+5)\n- Trump: 46%\nThe poll’s analysis suggested that the gender gap increased:\nMen back Trump 57 – 37 percent, while women back Harris 55 – 39 percent. In Quinnipiac University’s October 9 poll, men backed Trump 52 – 41 percent, while women backed Harris 55 – 40 percent.\n“The gender gap widens with Trump increasing his lead among men, as what remains a very tight race heads into the final stretch,” Quinnipiac University Polling Analyst Tim Malloy said in a statement.\nWendell Husebo is a political reporter with Breitbart News and a former RNC War Room Analyst. He is the author of Politics of Slave Morality. Follow Wendell on “X” @WendellHusebø or on Truth Social @WendellHusebo.",
         "2024-10-30"
        ]
       ],
       "shape": {
        "columns": 4,
        "rows": 5
       }
      },
      "text/html": [
       "<div>\n",
       "<style scoped>\n",
       "    .dataframe tbody tr th:only-of-type {\n",
       "        vertical-align: middle;\n",
       "    }\n",
       "\n",
       "    .dataframe tbody tr th {\n",
       "        vertical-align: top;\n",
       "    }\n",
       "\n",
       "    .dataframe thead th {\n",
       "        text-align: right;\n",
       "    }\n",
       "</style>\n",
       "<table border=\"1\" class=\"dataframe\">\n",
       "  <thead>\n",
       "    <tr style=\"text-align: right;\">\n",
       "      <th></th>\n",
       "      <th>source</th>\n",
       "      <th>title</th>\n",
       "      <th>content</th>\n",
       "      <th>date</th>\n",
       "    </tr>\n",
       "  </thead>\n",
       "  <tbody>\n",
       "    <tr>\n",
       "      <th>0</th>\n",
       "      <td>Breitbart</td>\n",
       "      <td>GOP: WH May Have Illegally Altered Biden's 'Ga...</td>\n",
       "      <td>House Republicans say the Biden-Harris White H...</td>\n",
       "      <td>2024-10-31</td>\n",
       "    </tr>\n",
       "    <tr>\n",
       "      <th>1</th>\n",
       "      <td>Breitbart</td>\n",
       "      <td>Mavericks Principal Owners Donate $100 Million...</td>\n",
       "      <td>Miriam Adelson, the principal owner of the NBA...</td>\n",
       "      <td>2024-10-30</td>\n",
       "    </tr>\n",
       "    <tr>\n",
       "      <th>2</th>\n",
       "      <td>Breitbart</td>\n",
       "      <td>Fact Check: Harris Campaign Twists Trump Comme...</td>\n",
       "      <td>CLAIM: Vice President Kamala Harris’s campaign...</td>\n",
       "      <td>2024-11-01</td>\n",
       "    </tr>\n",
       "    <tr>\n",
       "      <th>3</th>\n",
       "      <td>Breitbart</td>\n",
       "      <td>Harris Co-Chair: She's Different from Biden, H...</td>\n",
       "      <td>On Tuesday’s broadcast of CNN’s “Laura Coates ...</td>\n",
       "      <td>2024-10-29</td>\n",
       "    </tr>\n",
       "    <tr>\n",
       "      <th>4</th>\n",
       "      <td>Breitbart</td>\n",
       "      <td>Quinnipiac Poll: Trump Takes Lead in Pennsylvania</td>\n",
       "      <td>Former President Donald Trump has a two point ...</td>\n",
       "      <td>2024-10-30</td>\n",
       "    </tr>\n",
       "  </tbody>\n",
       "</table>\n",
       "</div>"
      ],
      "text/plain": [
       "      source                                              title  \\\n",
       "0  Breitbart  GOP: WH May Have Illegally Altered Biden's 'Ga...   \n",
       "1  Breitbart  Mavericks Principal Owners Donate $100 Million...   \n",
       "2  Breitbart  Fact Check: Harris Campaign Twists Trump Comme...   \n",
       "3  Breitbart  Harris Co-Chair: She's Different from Biden, H...   \n",
       "4  Breitbart  Quinnipiac Poll: Trump Takes Lead in Pennsylvania   \n",
       "\n",
       "                                             content        date  \n",
       "0  House Republicans say the Biden-Harris White H...  2024-10-31  \n",
       "1  Miriam Adelson, the principal owner of the NBA...  2024-10-30  \n",
       "2  CLAIM: Vice President Kamala Harris’s campaign...  2024-11-01  \n",
       "3  On Tuesday’s broadcast of CNN’s “Laura Coates ...  2024-10-29  \n",
       "4  Former President Donald Trump has a two point ...  2024-10-30  "
      ]
     },
     "execution_count": 5,
     "metadata": {},
     "output_type": "execute_result"
    }
   ],
   "source": [
    "data_raw.head()"
   ]
  },
  {
   "cell_type": "code",
   "execution_count": 6,
   "metadata": {},
   "outputs": [
    {
     "data": {
      "text/plain": [
       "source\n",
       "News Max            200\n",
       "Zerohedge           200\n",
       "Breitbart           198\n",
       "The Daily Caller    175\n",
       "Natural News        160\n",
       "AP                  157\n",
       "Guardian            133\n",
       "CNN                 125\n",
       "NPR                  88\n",
       "BBC                  86\n",
       "Name: count, dtype: int64"
      ]
     },
     "execution_count": 6,
     "metadata": {},
     "output_type": "execute_result"
    }
   ],
   "source": [
    "data_raw['source'].value_counts()"
   ]
  },
  {
   "cell_type": "markdown",
   "metadata": {},
   "source": [
    "## Selection Criteria\n",
    "- Language: Only use articles written in English (using language detection if necessary).\n",
    "- Date Range: Focus on articles published in 2024 or, at most, 2023 to ensure credibility remains up-to-date.\n",
    "- Content Focus: Only articles from the politics/election sections of each news website, targeting US election-related topics."
   ]
  },
  {
   "cell_type": "markdown",
   "metadata": {},
   "source": [
    "### Additional Filtering\n",
    "- Define Political Content: Articles should contain keywords like “election,” “government,” “policy,” or “candidate” to qualify as political.\n",
    "- Exclude Advertisements: Filter out content with commercial keywords or phrases related to advertisements.\n",
    "- Exclude Opinion Pieces: Identify and exclude articles labeled as “opinion,” “editorial,” or similar terms, or those appearing in “Opinion” sections.\n",
    "- Remove Outliers by Length: Filter out articles with fewer than 100 words or more than 5,000 words to focus on substantial content.\n",
    "- Regex Filtering: Use regular expressions to remove boilerplate or irrelevant sections, such as “All rights reserved,” “Read more,” bylines, and embedded links to other articles or advertisements."
   ]
  },
  {
   "cell_type": "markdown",
   "metadata": {},
   "source": [
    "#### Step 1: Language Detection"
   ]
  },
  {
   "cell_type": "code",
   "execution_count": 15,
   "metadata": {},
   "outputs": [
    {
     "name": "stderr",
     "output_type": "stream",
     "text": [
      "Language Detection: 100%|██████████| 1522/1522 [00:19<00:00, 79.78it/s]\n"
     ]
    },
    {
     "data": {
      "application/vnd.microsoft.datawrangler.viewer.v0+json": {
       "columns": [
        {
         "name": "index",
         "rawType": "int64",
         "type": "integer"
        },
        {
         "name": "source",
         "rawType": "object",
         "type": "string"
        },
        {
         "name": "title",
         "rawType": "object",
         "type": "string"
        },
        {
         "name": "content",
         "rawType": "object",
         "type": "string"
        },
        {
         "name": "date",
         "rawType": "object",
         "type": "string"
        },
        {
         "name": "language",
         "rawType": "object",
         "type": "string"
        }
       ],
       "conversionMethod": "pd.DataFrame",
       "ref": "24f0a1fd-2f9e-41bd-b178-2899629f5f03",
       "rows": [
        [
         "0",
         "Breitbart",
         "GOP: WH May Have Illegally Altered Biden's 'Garbage' Remark",
         "House Republicans say the Biden-Harris White House might have broken the law when they altered President Joe Biden’s remarks in the official transcript to imply he did not call Trump supporters “garbage.”\nBiden on Tuesday during a video call with Voto Latino in support of Vice President Kamala Harris’s presidential campaign said, “The only garbage I see floating out there is his supporters.”\nHowever, after facing immediate backlash from Republicans and even some Democrats, the White House claimed that Biden did not call Trump supporters “garbage,” but was instead referring to one Trump supporter — namely, comedian Tony Hinchliffe.\nThe White House released a transcript that reinforced that argument, adding an apostrophe to “supporters” to read “supporter’s,” and then adding an em-dash to make it seem like Biden had not completed his sentence.\nThe transcript said (emphasis added):\nThe only garbage I see floating out there is his supporter’s — his — his demonization of Latinos is unconscionable, and it’s un-American.\nHinchliffe, known for his off-color jokes, had performed at Trump’s Madison Square Garden rally on Sunday and had joked that Puerto Rico was a “floating island of garbage.”\nBiden also later posted on X that he was referring to Hinchliffe’s “demonization of Latinos.”\nAccording to House Republican Conference Chair Elise Stefanik (R-NY) and House Oversight Committee Chairman James Comer (R-KY), the White House’s addition of an apostrophe may have violated the Presidential Records Act.\nIn a letter to White House Counsel Edward Siskel, they demanded that the White House retain and preserve all documents and internal communications related to Biden’s statement and the release of the inaccurate transcript.\nThey also called on the White House to correct the transcript to reflect what Biden said. They said:\nPresident Biden’s vindictive words were unsurprising, given his previous statements regarding people who choose not to vote for his preferred candidate. Unsurprising too were the White House’s actions after he said them. Instead of apologizing or clarifying President Biden’s words, the White House instead sought to change them (despite them being recorded on video) by releasing a false transcript of his remarks. The move is not only craven, but it also appears to be in violation of federal law, including the Presidential Records Act of 1978.\n“White House staff cannot rewrite the words of the President of the United States to be more politically on message. Though President Biden’s relevance continues to diminish, his words continue to matter, even as they become increasingly divisive and erratic,” they added.\nFollow Breitbart News’s Kristina Wong on ”X”, Truth Social, or on Facebook.",
         "2024-10-31",
         "en"
        ],
        [
         "1",
         "Breitbart",
         "Mavericks Principal Owners Donate $100 Million to Republicans Despite Mark Cuban Claiming Trump Has 'Fascist Tendencies'",
         "Miriam Adelson, the principal owner of the NBA’s Dallas Mavericks, has put down $100 million on Donald Trump to win the 2024 presidential election. This is despite the caterwauling of minority owner and extreme left-wing advocate Mark Cuban, who has been all-in for Kamala Harris.\nCuban has jumped in front of every microphone he can find to push for the election of Kamala Harris. Still, the team for which he used to be the majority owner and is now a minority owner is apparently working to the contrary, according to Front Office Sports.\nAdelson has been a top Republican donor since inheriting her husband’s fortune. Casino magnate Sheldon Adelson was also a big GOP backer but passed away in 2021. Since then, his wife has kept the GOP faith and remained a top donor.\nMiriam Adelson, a doctor who specializes in substance addiction, bought out Mark Cuban’s majority ownership of the Mavericks in 2023. However, Cuban still owns a bit more than one-fourth of the team.\nThe two, though, could not be more different politically. Cuban, who recently said Trump “absolutely” has “fascist tendencies,” is a staunch left-winger. However, he also claims he has not donated to the Harris campaign despite being a loud mouthpiece for her.\nIt appears Cuban is unwilling to let political differences stand in the way of making a buck, or several billion of them.\nWhile Adelson is by far the biggest political donor for the GOP in the NBA, several other owners have also contributed hefty cash to politics.\nHouston Rockets owner Tilman Fertitta donated $420,000 to several PACs working for Trump’s second term. However, he also gave $13,200 to Harris PACs.\nMinnesota Lynx and Timberwolves owner Glen Taylor donated to the GOP, but it wasn’t to Trump. Taylor, who was himself a GOP state senator from Minnesota, donated $2,000 to Nikki Haley before she dropped out of the primary race.\nMeanwhile, Sixers Co-Owner David Blitzer also signed on with Haley, making a personal donation of the maximum of $3,300. But since Haley failed, he turned to Harris, giving $31,600 to a Harris PAC.\nMeanwhile, Indiana Pacers and Fever owner Herb Simon donated $100,000 to pro-Harris PACs.\nEven excluding Adelson, NBA owners have given a bit more to Trump ($424,650) than Harris ($274,800).\nFollow Warner Todd Huston on Facebook at: facebook.com/Warner.Todd.Huston, or Truth Social @WarnerToddHuston",
         "2024-10-30",
         "en"
        ],
        [
         "2",
         "Breitbart",
         "Fact Check: Harris Campaign Twists Trump Comment on Liz Cheney to Claim He Called for Her Execution",
         "CLAIM: Vice President Kamala Harris’s campaign implied former President Donald Trump called for Liz Cheney to be put before a firing squad.\nFACT CHECK: False. Trump’s comments on “guns trained on her face” were about Cheney stoking foreign wars without being willing to fight in their front lines.\nVice President Kamala Harris’s campaign took former President Donald Trump’s words out of context, to suggest that he was calling for Liz Cheney to be put before a firing squad.\nHer campaign posted a video of Trump speaking to Tucker Carlson on X/Twitter, with a caption that paraphrased him:\nLet’s put Liz Cheney with a rifle standing there with nine barrels shooting at her. Let’s see how she feels about it when the guns are trained on her face\nRather than suggesting she be executed, Trump was speaking about how neoconservatives are quick to send young Americans to fight overseas in war — which Trump has long opposed, particularly the Iraq and Afghanistan Wars championed by Cheney and her father, former Vice President Dick Cheney.\nTrump had also said: “They’re all war hawks when they’re sitting in Washington in a nice building saying Oh gee, let’s send 10,000 troops into the mouths of the enemy.”\nKaroline Leavitt, Trump Campaign National Press Secretary, blasted the Harris-Walz campaign:\nPresident Trump is 100% correct that warmongers like Liz Cheney are very quick to start wars and send other Americans to fight them, rather than go into combat themselves. This is the continuation of the latest fake media outrage days before the election in a blatant attempt to interfere on behalf of Kamala Harris.\nCheney herself tried to spread the lie, posting on X:\nThis is how dictators destroy free nations. They threaten those who speak against them with death. We cannot entrust our country and our freedom to a petty, vindictive, cruel, unstable man who wants to be a tyrant. #Womenwillnotbesilenced #VoteKamala\nAs Democrat operatives tired to spread the false claim, even Trump critic former Rep. Joe Walsh said Trump did not call for her to be put before a firing squad.\nHe posted on X:\nTrump did NOT call for Liz Cheney to be executed.\nThis is what’s so wrong with our politics today. Look, you know how I feel about Trump, and I’ve been out there every day for 2-3 months campaigning my ass off to help get @KamalaHarris elected, but this short clip is so deceptive. Trump is NOT calling for Liz Cheney to be executed in front of a firing line. He’s not. Listen to the entirety of what he said. In Trump’s typically stupid, ugly fashion, he’s trying to make a point about Cheney’s stance on war. But Aaron (who I like & respect), by posting ONLY this 11 second clip, makes it look like he’s calling for her to be executed. He’s not. He’s an utterly horrible human being who’s utterly unfit for office, but the truth should always matter. And the truth is that Trump is not calling for Liz Cheney to be executed. But…this 11 second clip will have a gazillion views, and the truth will have just a handful of views.\nBoth former Vice President Cheney and former Wyoming Republican Rep. Cheney has endorsed Harris, with the younger Cheney even campaigning on the trail for her.",
         "2024-11-01",
         "en"
        ],
        [
         "3",
         "Breitbart",
         "Harris Co-Chair: She's Different from Biden, He Didn't Have Problem of 'Lowering Costs'",
         "On Tuesday’s broadcast of CNN’s “Laura Coates Live,” Harris Campaign Co-Chair Mitch Landrieu stated that 2024 Democratic presidential candidate Vice President Kamala Harris differentiated herself from President Joe Biden “by saying, listen, I love the President, we did great work together, but I have different problems than he had, the most important of which is lowering costs for the American people. And I think she addressed it really very forthrightly and better tonight than she has in the past.”\nHost Laura Coates asked, “On that point of her trying to distinguish herself from Biden, was there a key moment in that speech that you think voters will connect to to suggest, yes, she will be different?”\nLandrieu answered, “Well, first of all, it was an incredible night. I was there, and there were 70,000 people there. … We were going to go to Madison Square Garden, but we couldn’t fit. So, we had to go there. It was just a huge turnout and it was exuberant and it was joyful and the environment in which she gave the speech was really uplifting and hopeful, which is what the speech was. It was a fairly detailed speech. She laid out, in clear detail, what the risks are of re-electing Donald Trump. She talked about the fact that, behind her, was the Resolute Desk, and, in seven days the people are going to decide whether she’s going to be sitting there or Donald Trump’s going to be sitting there and she reminded the public that Donald Trump has already talked about, out of his own mouth, spending his time talking about his enemies list, and the fact that she had a to-do list. And then she’s talked about how she is going to build an opportunity economy for all of us, not just some of us, and distinguished herself from Joe Biden by saying, listen, I love the President, we did great work together, but I have different problems than he had, the most important of which is lowering costs for the American people. And I think she addressed it really very forthrightly and better tonight than she has in the past.”\nFollow Ian Hanchett on Twitter @IanHanchett",
         "2024-10-29",
         "en"
        ],
        [
         "4",
         "Breitbart",
         "Quinnipiac Poll: Trump Takes Lead in Pennsylvania",
         "Former President Donald Trump has a two point lead in a hypothetical two-way race with Vice President Kamala Harris in Pennsylvania (49-47 percent), a seven point swing since September 16, Quinnipiac survey found Wednesday.\nTrump’s lead is just within the margin of error of 2.1 percentage points. The poll sampled 2,186 likely voters in Pennsylvania from October 24 – 28.\nThe poll by Quinnipiac, which often leans left, suggests Trump holds the momentum during the period of early voting with less than a week until Election Day.\nBelow is the trend of the last three Quinnipiac surveys demonstrating the momentum:\nOctober 28\n- Trump: 49% (+2)\n- Harris: 47%\nOctober 7\n- Harris: 49% (+2)\n- Trump: 47%\nSeptember 16\n- Harris: 51% (+5)\n- Trump: 46%\nThe poll’s analysis suggested that the gender gap increased:\nMen back Trump 57 – 37 percent, while women back Harris 55 – 39 percent. In Quinnipiac University’s October 9 poll, men backed Trump 52 – 41 percent, while women backed Harris 55 – 40 percent.\n“The gender gap widens with Trump increasing his lead among men, as what remains a very tight race heads into the final stretch,” Quinnipiac University Polling Analyst Tim Malloy said in a statement.\nWendell Husebo is a political reporter with Breitbart News and a former RNC War Room Analyst. He is the author of Politics of Slave Morality. Follow Wendell on “X” @WendellHusebø or on Truth Social @WendellHusebo.",
         "2024-10-30",
         "en"
        ],
        [
         "5",
         "Breitbart",
         "Dem Rep. Frost: Biden Called Trump Supporters Garbage Because He Was 'Very Angry'",
         "Representative Maxwell Frost (D-FL) claimed Wednesday during an appearance on “CNN News Central” that President Joe Biden misspoke when he called supporters of former President Donald Trump garbage because he was “very angry.”\nCo-host Brianna Keilar said, “The Harris campaign, needing to refocus the narrative today after President Biden appeared to refer to supporters of Donald Trump as garbage. A remark, he later tried to clarify saying that he was referring only to comedian Tony Hinchcliffe.”\nShe asked, “The White House is sort of saying this was about him saying supporter’s, apostrophe s. I just wonder if when you’re debating the existence of an apostrophe if you’ve lost the argument here?”\nFrost said, “The comments that we heard at that rally were completely disgusting about Puerto Rican Americans. I was very angry about it and I think the president was very angry about it, thinking about and talking about it. I think he misspoke.”\nHe added, “He’s someone who loves every American I think he misspoke because he was angry thinking about the bigotry we heard at Madison Square Garden. Honestly, I think that’s it.”\nKeilar said, “You think he misspoke. Do you do you think that there actually is an apostrophe s, that he was talking about Hinchcliffe?”\nFrost said, “The president was talking about that guy specifically, but also just everything said from that stage at that rally.”\nFollow Pam Key on X @pamkeyNEN",
         "2024-10-30",
         "en"
        ],
        [
         "6",
         "Breitbart",
         "Rashida Tlaib Chooses Not to Endorse Kamala Harris at UAW Rally",
         "Rep. Rashida Tlaib (D-MN) refused to endorse Vice President Kamala Harris on Friday while encouraging people in Michigan not to “underestimate the power” they have.\nDuring a United Auto Workers (UAW) union rally in Detroit, Michigan, Tlaib encouraged Michigan voters to make their voices heard in the election and to”turn out people” to cast their vote, according to Detroit News.\nWhile Tlaib declined to endorse Harris, in a post on X, she described former President Donald Trump as being “a proud Islamophobe” and a “serial liar who doesn’t stand for peace.”\nTlaib’s made these comments about Trump as his support among the Arab American and Muslim American community has increased and as he has received endorsements from Muslim Americans in Michigan.\n“Don’t underestimate the power you all have,” Tlaib said. “More than those ads, those lawn signs, those billboards, you all have more power to turn out people that understand we’ve got to fight back against corporate greed in our country.”\nThe outlet noted that Tlaib “focused her speech to UAW members on down ballot races”:\nShe focused her speech to UAW members on down ballot races, specifically the judicial races, voicing support for Democratic-nominated Michigan Supreme Court candidates Kyra Harris Bolden and Kimberley Thomas in their respective races against Republicans Patrick O’Grady and Andrew Fink.\nIn May, Tlaib suggested that people vote against President Joe Biden, who was the Democrat Party’s presidential nominee at the time, because of the current administration’s handling of the Israel and Hamas war.\nWhile Tlaib did not deliver an endorsement of Harris at the UAW rally, Rep. Alexandria Ocasio-Cortez (D-NY) said that Michigan was “the place where miracles happen,” adding that it would “deliver a Kamala Harris presidency,” according to the outlet.",
         "2024-11-02",
         "en"
        ],
        [
         "7",
         "Breitbart",
         "Ukraine and Russia Exchange Drone Strikes, Child Injured",
         "KYIV, Ukraine (AP) – Russia and Ukraine exchanged scores of drone strikes Wednesday as North Korea’s top diplomat arrived in Russia for talks after his country reportedly deployed thousands of soldiers to help Moscow’s war efforts.\nUkraine’s air force said that Russia launched 62 drones and one missile overnight, adding that 33 of them were intercepted and 25 were jammed.\nThe drones struck a residential building and a kindergarten in Kyiv, injuring nine people, including a child, according to the city administration. “Russian drones did not change their constant tactics – they approached the capital from different directions, at different heights,” it said.\nRussian attacks also targeted other regions of Ukraine, killing at least four and injuring about 30 others over the past 24 hours, authorities said.\nAt the same time, Russian forces have pressed their slow-moving offensive in eastern Ukraine. In Moscow, the Defense Ministry announced the capture of the village of Kruhlyakivka in the Kharkiv region.\nThe ministry said that air defenses downed 25 Ukrainian drones over several regions in the country’s west and southwest.\nThe new attacks come as North Korea’s Foreign Minister Choe Son Hui arrived in Moscow for talks that South Korea’s spy agency said could involve discussions on sending additional troops to Russia and what the North would get in return.\nThe Pentagon said North Korea has sent about 10,000 troops to Russia, and that they will likely fight against Ukraine “over the next several weeks.”\nMaj. Gen. Pat Ryder, the Pentagon press secretary, said Tuesday that a “relatively small number” of North Korean troops are now in the Kursk region, where Russia has struggled to push back a Ukrainian incursion.",
         "2024-10-30",
         "en"
        ],
        [
         "8",
         "Breitbart",
         "Dingell on Harris Promising to Turn Page as VP: I Think 'Loyalty Matters', She Gets Issues",
         "During an interview with the Fox News Channel aired on Friday’s “Special Report,” Rep. Debbie Dingell (D-MI) responded to a question on how 2024 Democratic presidential candidate Vice President Kamala Harris talks about turning the page when she is the sitting Vice President and President Joe Biden polls poorly on the economy by stating that “she understands the issues.” And “I’m one of those old-fashioned people that thinks loyalty matters. So, she’s got to be respectful, talk more about what her economic plans are.”\nHost Bret Baier asked, [relevant exchange begins around 1:45] “How do you talk about the turn the page thing with the sitting Vice President, who’s the Vice President of the President who has low approval ratings when it comes to the economy?”\nDingell responded, “Look, I know that she understands the issues. It’s very — loyalty, I’m one of those old-fashioned people that thinks loyalty matters. So, she’s got to be respectful, talk more about what her economic plans are. I’ve said to them, I said a month ago, union halls don’t know who she is. They’ve got to know that she’s going to go in and fight for them. They know who Donald Trump is.”\nFollow Ian Hanchett on Twitter @IanHanchett",
         "2024-11-02",
         "en"
        ],
        [
         "9",
         "Breitbart",
         "Brett Favre Compares America During Trump's First Term to the Packers: 'A Winner'",
         "NFL Hall of Famer and Packers legend Brett Favre knows what a winning organization looks like, and he sees a winner when hearkens back to America under President Trump.\nSpeaking at Wednesday’s Trump rally at the Resch Center in Green Bay, Wisconsin, the Packer legend addressed the assembled crowd in a language they would immediately understand.\n“Much like the Packers organization, Donald Trump and his organization is a winner,” Favre said. “The United States of America won with his leadership.”\nFavre’s presence on the podium at a political rally shocked many, not the least of whom was Favre, who said he never envisioned himself back in Green Bay, speaking to the Packer faithful in that kind of setting.\nHowever, as Favre explained, the state of the world and our country’s dire straits compelled him to speak.\n“I think there’s never been a more important time in our lives than right now in this election,” Favre said. “First and foremost, are there any Packer fans in the house?”\nPredictably, that question got a resounding roar. However, other parts of Favre’s speech would also be warmly welcomed. For example, he likened the repeated failures and struggles during the early part of his career with the Packers to the current failures of the Biden-Harris administration and the “insanity” of expecting anything to get better unless changes were made.\n“Sounds like the first couple of years of my tenure here with the Packers,” Favre said. “Mike Holmgren would say, ‘What in the hell are you doing, Brett?’ I said, ‘Hell, I don’t know, Mike.’ But we figured out a way to get it done.\n“It would be insane to give Kamala four more years in office,” Favre exclaimed.\nThe Packer legend also rebuked President Biden for calling Trump’s supporters “garbage.”\n“I can assure you we’re not garbage. How dare he say that? I see police officers, teachers, nurses, grandparents, students. I see everyday Americans that make this country great,” Favre explained.",
         "2024-11-01",
         "en"
        ],
        [
         "10",
         "Breitbart",
         "'The Choice Is Clear to Me': LeBron James Endorses Kamala Harris for President",
         "NBA superstar LeBron James has endorsed Vice President Kamala Harris in her bid for the presidency in a statement attached to a civil-rights-themed video posted on social media.\nThe video casts President Trump as a spreader of “hate.”\n“What are we even talking about here??” wrote James in a social media post. “When I think about my kids and my family and how they will grow up, the choice is clear to me. VOTE KAMALA HARRIS!!!”\nThe video features clips of Trump taken out of context and set against the backdrop of scenes from the civil rights era and more recent times of racial unrest, casting the former president as an enemy of voting rights, the civil rights movement in general, and black people in particular.\nThe video and James’ endorsement come at a time when Harris and the Democrats are seeing notable drops in support among black people and Latinos.\nJames’ endorsement should come as no surprise. The future Hall of Famer has used his platform online and on television to advocate for every leftist policy on the Democrat platform. He has also endorsed former President Barack Obama in 2008, former Secretary of State Hillary Clinton in 2016, and President Joe Biden in 2020.\nThe animosity between Trump and James is no secret either.\nIn 2018, Trump blasted James for doing an interview with then-CNN anchor Don Lemon.\n“Lebron James was just interviewed by the dumbest man on television, Don Lemon,” Trump wrote on social media. “He made Lebron look smart, which isn’t easy to do. I like Mike!”\nIn addition, in 2022, Trump invited James to join his women’s basketball team. James did not respond to the invitation.",
         "2024-11-01",
         "en"
        ],
        [
         "11",
         "Breitbart",
         "'This Is the 'Basket of Deplorables' Moment': Ramaswamy Says Biden 'Garbage' Comments Our 'October Surprise'",
         "Tuesday, during an appearance on FNC’s “Hannity,” Trump surrogate Vivek Ramaswamy declared President Joe Biden’s “garbage” comments to be the GOP’s “October surprise.”\nRamaswamy speculated that Biden’s family was rooting for Trump to win on November 5, suggesting this was not necessarily linked to Biden’s apparent cognitive decline.\n“Here’s the October surprise,” he said. “It just arrived. This is the ‘basket of deplorables’ moment. That’s what Hillary said in 2016 that tanked her campaign. Well, that is the Joe Biden-Kamala Harris moment right now. I am a little bit more cynical about this one, Sean, in the following way: It might look like Joe Biden’s usual cognitive deficit kicked in. But the reality is we know his family is probably rooting for Trump, not Kamala Harris to win because they feel vengeful about how they were treated. So if you are in their shoes, that comment might tank heiress but motivations to one side.”\n“But regardless of motivations, it is a welcome October surprise because let’s take a big step back and look at what’s going on here,” Ramaswamy continued. “The wheels are coming off the car. They are spiraling. And now you see the accusations — the other side being Hitler or piles of garbage. You’re going to hear a lot about threats to democracy in the next week. They are flailing, Sean. Understand, Americans are not falling for their trick anymore. Donald Trump has a record that he is running on. They are frustrated by it. And it is in some ways, I think, a beautiful thing for our side to watch — to watch this completely come undone.”\nFollow Jeff Poor on X @jeff_poor",
         "2024-10-29",
         "en"
        ],
        [
         "12",
         "Breitbart",
         "AOC Gushes over Doug Emhoff as Ideal Man Brimming with 'Masculinity'",
         "Rep. Alexandria Ocasio-Cortez (D-NY) gushed over Second Gentleman Doug Emhoff on Wednesday night applauding him as the very model of modern masculinity at a campaign event for his wife Kamala Harris.\n“He’s not afraid to embody and pass on these values of security and this idea that you can, you can let your girl shine,” Ocasio-Cortez told a room full of students at the University of Nevada, Las Vegas, according to the Daily Mail.\n“And he embodies that really well. We should all be really, really proud of him.” She told students the example Emhoff has set “has been incredibly important this presidential cycle.”\nOcasio-Cortez continued, “A lot of ideas of what being a man means putting a woman down or putting queer people down. And this idea that, like, in order to elevate one’s value, we need to diminish the people around us.”\nPublic praise of Emhoff as an example of secure masculinity came less than a week after a purported ex-girlfriend identified only as Jane came forward and said he slapped her at the 2012 Cannes Film Festival after believing she was flirty with a valet, as Breitbart News reported.\nEmhoff has vehemently denied the accusations.\nAOC echoes previous media backing for Emhoff with the Washington Post publishing an opinion piece in August calling him a “modern-day sex symbol,” “fantasy man,” and “ideal partner” despite reports he impregnated his children’s nanny while married to his ex-wife.\nCatherine Rampell, a political columnist at the Post and CNN commentator, wrote, “Move over, Ryan Gosling. The modern female fantasy is embodied by the man who might soon become our first First Gentleman.”\nRampell argued Emhoff is “sexy” because he is “secure enough with his own masculinity to sometimes prioritize his wife’s ambitions over his own.”\nAs for the New York Democrat, she finished her public tribute with yet more praise.\n“He’s able to stand beside the vice president’s side and lift her up instead of put her down,” AOC said, according to the Mail report.\n“And he knows that by lifting of women, he’s also lifting up his fellow men around him. He’s not afraid to be a dad of a powerful daughter and a great son.”",
         "2024-10-31",
         "en"
        ],
        [
         "13",
         "Breitbart",
         "Breitbart News Daily Podcast Ep. 649: Breitbart Editor-in-Chief Alex Marlow on 2024 Campaign Closing Arguments",
         "Breitbart Editor-in-Chief Alex Marlow joins host Mike Slater to discuss the 2024 campaign closing arguments from both candidates. Did Trump do enough to get past the finish line? Alex shares his thoughts. And Mike talks about the crucial get-out-the-vote efforts underway.\nAlex’s first bestseller, Breaking the News, has been re-released in an updated paperback for the 2024 election year.\nThe Breitbart News Daily Podcast runs Monday through Friday as a “Director’s Cut” of the SXM Patriot radio show hosted by Mike Slater.\nSUBSCRIBE for free by clicking your preferred podcast platform below.",
         "2024-11-01",
         "en"
        ],
        [
         "14",
         "Breitbart",
         "Desperation Dude: Hollywood Elite Jeff Bridges Records 11th Hour Appeal to Montana to Back ‘Man of the Land’ Democrat Jon Tester",
         "Hollywood star Jeff Bridges has launched a last-minute pitch to shore up support for Democrat Senator Jon Tester in Montana as the 2024 election comes down to the wire and with Tester losing support.\nBridges, famous for his “The Dude” character in the 1998 cult classic The Big Lebowski, had officially endorsed Tester back on October 18 when he appeared at a College Democrats event at Montana State University.\nNow the Tron actor has floated a campaign video, insisting that “Senator Jon Tester is the real deal. He’s a farmer, cares about the people of this state, and is the backbone of Montana.”\nIt might seem like a desperate, last-minute attempt to boost Tester if the polls are any indication. Senator Tester is flagging in many late polls, falling behind Republican rival Tim Sheehy.\nFive Thirty Eight, for instance, has Sheehy at 49.6 percent to Tester’s 44.3 percent on its October 31 survey.\nEmerson College was also bullish on Sheehy with its more recent polling showing Sheehy at 50 percent to Tester’s 46 percent.\nBut like so many polls this year, the results are often mixed. Other polling was a tad less optimistic for Sheehy as the MSU Billings Mountain States Poll found Tester and Sheehy tied at 43 percent each.\nAnd still, the Daily Montanan claimed the race was a “dead heat” with Tester leading 51 percent to Sheehy’s 48 percent.\nThe race is vitally important for the control of the U.S. Senate. If the Democrats lose Tester, that will go a long way toward throwing control of the upper chamber back to the Republicans.\nFollow Warner Todd Huston on Facebook at: facebook.com/Warner.Todd.Huston, or Truth Social @WarnerToddHuston",
         "2024-10-31",
         "en"
        ],
        [
         "15",
         "Breitbart",
         "UK Gov't Accused of Covering Up Alleged Terror Ties of Southport Suspect",
         "The leftist Labour Party government in Britain is facing accusations of a cover-up over the mass stabbing at a children’s dance party in Southport after the suspect was charged with terror offences.\nAccording to reports from the BBC and The Telegraph, top-level government officials were made aware over the past few weeks that Axel Rudakubana, 18, the second-generation Rwandan migrant suspected of killing three young girls and injuring ten others at a Taylor Swift-themed dance party in Southport on July 29, faced potential terror charges over allegedly producing the deadly toxin Ricin and downloading an Al-Qaeda terror manual.\nThe Southport mass stabbing sparked widespread anti-mass migration protests and riots in England over the summer, resulting in over a thousand arrests and hundreds sent to prison. In the immediate aftermath of the attack, speculation ran rampant on social media about the potential motive and identity of the then-unidentified suspect.\nAuthorities were quick to condemn “misinformation” about the case, which seemingly led to a protest-turned-riot outside a local mosque in Southport. Police initially merely identified the suspect as having been born in Wales. However, after the Liverpool Crown Court lifted reporting restrictions on the case to quell speculation on August 1, it was revealed suspect Axel Rudakubana was born to Rwandan migrants living in Wales in 2006.\nFigures, such as Reform UK leader Nigel Farage, had faced heavy criticism for questioning whether the attack was terror-related amid the information vacuum in the aftermath of the Southport killings. On Wednesday, he questioned whether the new developments may have vindicated his original position.\nThe Free Speech Union, meanwhile, stated of the new charges and how they may impact some of those who were jailed after the attack for social media posts: “We suspect some of the prosecutions of people for saying supposedly inflammatory things on social media may now be unsafe – for instance, the man in Cumbria sentenced to eight weeks in jail for reposting three allegedly ‘Islamophobic’ memes on Facebook. At the very least, it may be grounds for appealing their often draconian jail sentences.”\nAlthough prosecutors still won’t be drawn on whether the mass stabbing itself was a terror attack, Rudakubana was charged on Tuesday with violating Section 58 of the Terrorism Act 2000 over allegedly downloading a pdf file named: “Military Studies in the Jihad Against the Tyrants: The Al-Qaeda Training Manual”. He was also charged with breaching Section 1 of the Biological Weapons Act 1974 over the alleged production of a biological toxin, with Ricin said to have been found in his home.\nFormer top Downing Street official Dominic Cummings has alleged that a cover-up is continuing, accusing the BBC of spreading “disinformation for Number 10” by reporting that the government was only made aware of the charges in the past few weeks.\nBoris Johnson’s ex-chief advisor\n.“The BBC uses clever wording re ‘aware of CHARGES’ to spread more disinformation. The ‘mainstream’ IS the disinformation,” Cummings said, adding that “the news has been dropped amid the budget [and] US election to try to hide the disinformation operation against the voters.”\nThe government has denied\nthe opposition Conservative Party of spreading “conspiracy theories and the undermining of public faith in our institutions and public servants.” Nevertheless, the police themselves say the Criminal Prosecution Service has advised them not to reveal further details.Both Conservative leadership candidates, former equalities minister Kemi Badenoch and former immigration minister Robert Jenrick, demanded the government disclose when it was made aware of Rudakubana’s alleged terrorist activities.\nJenrick said: “Any suggestion of a cover-up will permanently damage public trust in whether we’re being told the truth about crime in our country… Keir Starmer must urgently explain to the country what he knew about the Southport attack and when he learned it. Across the board, the hard reality of mass migration is being covered up. We need the truth – and we need to change.”\nBadenoch added: “After the Southport murders and the ensuing protests and riots, some people asked me why I wasn’t commenting. This is why… Too many on all sides rush to conclusions before all the facts are clear. As more information emerges, it is quite clear that there are serious questions to be asked of the police, the CPS and also of Keir Starmer’s response to the whole situation.”\nOn Wednesday, during Prime Minister’s Questions, Reform UK deputy leader Richard Tice questioned if Sir Keir Starmer agrees with Jonathan Hall KC, the government’s independent reviewer of terrorism laws, who “has said repeatedly recently that it is important in incidents of terrorism that the authorities put out more information sooner in order to prevent and information gap.”\nResponding, Prime Minister Starmer declined to answer directly, merely taking the opportunity to score some political points. He said: “Erm, Mr Speaker, obviously, I’ll tread carefully in answering this question for the very reasons you yourself set out at the beginning of this session. I think it’s very important, first and foremost, that in all cases, including the particular difficult case that the Speaker mentioned earlier that the police and prosecutors are able to do their difficult job.”\nAppearing to criticise the opposition for daring to ask questions about the case, Starmer continued: “All of us in this house have a choice to make, including both candidates to be the next Tory leader. They can either support the police in their difficult task or they can undermine the police in their difficult task, and I know what side I’m on.”",
         "2024-10-30",
         "en"
        ],
        [
         "16",
         "Breitbart",
         "'No, Certainly Not' -- Tim Walz Denies 'Garbage' Smear Undercut Harris's 'Unity' Message",
         "President Joe Biden’s “garbage” smear does not undercut the Vice President Kamala Harris message of “unity,”‘ Gov. Tim Walz (D) indicated Wednesday.\nBiden’s smear on Tuesday overshadowed Harris’s closing argument that night in which she said she would be a president for “all Americans.”\nThe pledge came just days after she called former President Donald Trump a “fascist.”\n“I have to ask, does that undercut this closing message of unity from your campaign,” asked CBS News’s Tony Dokoupil about Democrats long list of demonizing Trump supporters.\n“No, certainly not,” Walz replied:\nOn ABC’s Good Morning America, George Stephanopoulos asked Walz: “Was calling Trump supporters garbage? He says he was talking about the comedian. What’s your response to that? Did it step on the Vice President’s message?”\n“The President’s clarified his remarks,” Walz replied.\nBiden tried to clarify his remarks by denying he referred to Trump supporters as “garbage”:\nEarlier today I referred to the hateful rhetoric about Puerto Rico spewed by Trump’s supporter at his Madison Square Garden rally as garbage—which is the only word I can think of to describe it. His demonization of Latinos is unconscionable. That’s all I meant to say. The comments at that rally don’t reflect who we are as a nation.\nWalz continued to spin Biden’s comment and claimed Trump called the county “garbage”:\nBut let’s be very clear, the Vice President and I have made it absolutely clear that we want everyone as a part of this. Donald Trump’s divisive rhetoric is what needs to end. He called this a garbage country, and continues on from the enemy within which you heard Vice President Harris say.\nTrump also posted a response shortly after midnight:\nWhile I am running a campaign of positive solutions to save America, Kamala Harris is running a campaign of hate. She has spent all week comparing her political opponents to the most evil mass murderers in history.\nNow, on top of everything, Joe Biden calls our supporters “garbage.”\nYou can’t lead America if you don’t love the American People. Kamala Harris and Joe Biden have shown they are both unfit to be President of the United States.\nWendell Husebo is a political reporter with Breitbart News and a former RNC War Room Analyst. He is the author of Politics of Slave Morality. Follow Wendell on “X” @WendellHusebø or on Truth Social @WendellHusebo.",
         "2024-10-30",
         "en"
        ],
        [
         "17",
         "Breitbart",
         "JD Vance to Joe Rogan: Amnesty Will End Democracy",
         "An establishment amnesty for the roughly 25 million illegal migrants in the United States would “end democracy,” and convert the U.S. into a one-party state like California, JD Vance, Donald Trump’s hand-picked running mate, told host Joe Rogan on Thursday.\n“I’m a Reagan guy, right?” Vance said in his three-hour interview with Joe Rogan, adding:\nI’m a conservative Republican. But [President Ronald] Reagan screwed up a lot … People don’t talk nearly enough about the amnesty thing … Because of what Ronald Reagan did in the 1986 amnesty, California is now effectively a permanently blue state.\n“The entire country becomes that” if Democrats push through an amnesty, Vance added.\nBut mass migration imposes huge costs on Americans, even without an amnesty, he said.\nEven when migrants do not hold citizenship, they get a share of representation in Congress, Vance said:\nFor example, the state of Ohio lost a congressional seat in the last census [in 2020 so] states that have high illegal immigrant populations picked up congressional seats. So you’re actually taking away congressional representation from American citizens and giving it to illegal aliens. Even if you don’t give them the right to vote, you’re still destroying the voting power [of citizens].\nImmigration also imposes massive civic and economic burdens on Americans’ communities, Vance said:\nYou see this in some communities — because they’re small towns, and because rapid migrant influxes can happen very quickly — here the town population has been doubled. You don’t even have to assume people are criminals …[but] what does it do to the local public school when all of a sudden 1,000 [migrants] show up that don’t even speak English, right?\nWhat does it do to the [town’s] hospital system when you now have thousands of people … that are showing up to get emergency services because they don’t have access otherwise to a doctor, and now the American citizens have to wait in line for seven hours to get to see a doctor because we’ve overwhelmed the local hospital system?\nWhat does it do to housing prices? We’ve seen this in a number of communities, including those that I represent in Ohio. When you bring in thousands and thousands of people, you cannot build enough houses quickly enough to accommodate that. So the cost of housing becomes unaffordable for American citizens.\nThose costs are largely ignored by the national media, which mostly hire pro-migration reporters– including many immigrants — to cover migration dramas.\n“It is the craziest thing that we’ve seen in this country that you don’t even allow people to talk about the effects of mass migration anymore,” Vance said, adding:\nOne of the reasons why Donald Trump is going to be elected president, or at least should be elected president, [is] because he is one of the few guys who’s saying, “You know what, we’re going to talk about this problem. Yes, some immigrants are good [and] some immigrants are not good.” That is an obvious insight to anybody who knows human nature.\nBut it is money that drives the nation’s migration policy, Vance said. “I think what is obvious, and I’ve seen this in the halls of Congress,” he said, adding:\nI’ve seen it very explicitly. You talk about lobbying [in other political issues], and we obviously talked about [it] in the context of other industries. There is a massive corporate lobby for cheap labor in the United States of America. That is, I think, the main thing that’s going on.\nLet me tell you a story when I was in the private sector. I was at a business conference dinner, and I was seated next to the CEO of one of the largest hotel chains in America … The guy was going on and on about how much he hates Donald Trump. And I’m like, “Oh, that’s interesting, why do you hate Donald Trump so much?”\nBecause, again, I was, I was sort of a Trump skeptic in 2015 and at this point, I was kind of starting to really get on the Trump train.\nAnd he said, “Well, the reason I hate Donald Trump … is because Donald Trump’s border policies have cut down the number of illegal immigrants. And because I can’t pay illegal immigrants under the table anymore, I have to pay American workers, and they want much higher wages.”\nI was like, “Holy shit! This guy just admitted what is straight-up, Monopoly Man evil shit. My wife, who’s very apolitical, was actually at the dinner with me, and she’s like, “Come again, you just said you don’t want Americans to get decent wages?”\nThe best argument for Donald Trump’s immigration policy is that American workers are getting higher wages, and this is why this corporate CEO hates it. So whatever the industry is, you’ve got a lot of people who want cheap labor and they don’t want to pay American workers higher wages. That’s a big part of it.\nBut Democrats also want to get political advantage from the inflow of poor migrants, Vance added:\nI do think there’s also a power dynamic to it. In particular, I think Kamala Harris and the Democrats, they want to give these millions upon millions of illegal aliens the right to vote. They want to legalize them. They want to make it easier for them to participate in our elections. And that means, fundamentally, the end of American democracy, because you’re talking about 25 million [illegal migrant] people here.\nIf Kamala Harris gives 10 million of those people legal status and allows them to vote in American elections. Then, say, 70/30 they go [vote] Democrat, Republicans will never win a national election in this country in my lifetime.\n“It will have degraded the voting power of the people who have the legal right to be here,” he added.\nBreitbart News has closely tracked the impact of migration on Americans’ blue-collar and white-collar wages, their housing, and, increasingly, on Americans’ productivity.\n“We always used to think [a] shrinking population is a cause for negative [economic] growth,” BlackRock founder Larry Fink said at a pro-globalist event in April hosted by the World Economic Forum in Saudi Arabia. He continued:\nBut in my conversations with the leadership of these large, developed countries [such as China, and Japan] that have xenophobic anti-immigration policies, they don’t allow anybody to come in — [so they have] shrinking demographics — these countries will rapidly develop robotics and AI and technology … If a promise of all that transforms productivity, which most of us think it will [emphasis added] — we’ll be able to elevate the standard living in countries, the standard of living for individuals, even with shrinking populations.\nOverall, since about 1990, the US. government has used an economic policy of Extraction Migration from poor countries to inflate the nation’s consumer economy with extra workers, consumers, and renters. That economic policy has helped grow the economy Congress helped investors to export much of the nation’s manufacturing economy to lower-wage countries.",
         "2024-10-31",
         "en"
        ],
        [
         "18",
         "Breitbart",
         "'Sopranos' Star Drea de Matteo Blasts Mark Cuban's Insult to Trump-Voting Women",
         "Actress Drea de Matteo, who starred in HBO’s The Sopranos, has blasted billionaire and Kamala Harris surrogate Mark Cuban over his insult to women who support former President Donald Trump, saying the left is “messing with the wrong breed of women.”\nIn a new social media video, Drea de Matteo hit back at Mark Cuban after he said during a recent appearance on ABC’s The View that no “strong, intelligent women” would support Trump.\n“Guess you haven’t met me yet, buddy,” she told him. “It takes a lot of balls to come out and support the anti-war machine, and you know it.”\nShe added: “I support Donald Trump like my life depends on it and my kids’ lives.”\nAs Breitbart News reported, Trump responded Thursday to Mark Cuban’s statement on The View that he is never around “strong, intelligent women.”\nTrump posted on Truth Social “I surround myself with the strongest of women” and that “all strong women, and women in general, should be very angry about this weak man’s statement.”\nActress Kristy Swanson, who played the title roll in the popular 1992 movie Buffy the Vampire Slayer, also hit back at Cuban’s insult to women.\nFollow David Ng on Twitter @HeyItsDavidNg. Have a tip? Contact me at dng@breitbart.com",
         "2024-11-01",
         "en"
        ],
        [
         "19",
         "Breitbart",
         "San Fran. Official: There Will Be 'Resistance' to Mass Deportations, Like We Had from Courts",
         "On Thursday’s broadcast of WBUR’s “Here and Now,” Managing Director of the Immigration Defense Unit at the San Francisco Public Defender’s Office Francisco Ugarte stated that if 2024 Republican presidential candidate former President Donald Trump is elected the “idea that Trump could just simply get away with engaging in mass deportation without any semblance of a resistance is really kind of far-fetched.” And cited California’s Supreme Court saying that ICE agents shouldn’t be in courthouses because that deters people from going to court as an example of this.\nUgarte said, “They did try and do courthouse arrests. But, when they sent ICE agents, one time, to the local courthouse here in San Francisco, within a day, there was a massive rally of community members and a declaration from the Supreme Court…of California saying, don’t invade the space of the courts, because you’ll deter people from going to courts. So, this idea that Trump could just simply get away with engaging in mass deportation without any semblance of a resistance is really kind of far-fetched. Things like mass deportation or these, like, sweeping human rights abuses are really, ultimately, not very popular among the American public.”\nFollow Ian Hanchett on Twitter @IanHanchett",
         "2024-11-01",
         "en"
        ],
        [
         "20",
         "Breitbart",
         "Saudi Arabia, Alienated by Biden, Hosts Summit on Creating Palestinian State",
         "The government of Saudi Arabia hosted the inaugural meeting of the “International Alliance to Implement the Two-State Solution,” a nebulous coalition organized by Riyadh to formalize the creation of a Palestinian state.\nSaudi Foreign Minister Prince Faisal bin Farhan used the opportunity to accuse Israel of “genocide” for engaging in military operations against the genocidal terrorist organizations Hamas and Hezbollah. The administration of outgoing President Joe Biden sent a State Department envoy to the meeting, though meetings at press time do not indicated Washington played a prominent role in the event.\nThe “international alliance” is one of several diplomatic measures Saudi Arabia is taking to publicly oppose Israel’s attempts to protect itself from genocidal jihadists, pivoting away from the direction Riyadh was taking prior to Biden taking office of potential normalization with Jerusalem. Under Biden’s predecessor Donald Trump, Saudi Arabia greatly enhanced its anti-terror cooperation with the United States, establishing the Global Center for Combating Extremist Ideology in 2017 and going to war with the Iran-backed Houthi terrorists of Yemen. Biden prioritized antagonizing Saudi Arabia in his foreign policy, however, vowing to turn the major Middle East nation into a “pariah” state during the 2020 presidential election and attempting to improve diplomacy with Iran.\nBiden tried to make amends with the Saudi government during a catastrophic visit to the country in 2o22 that yielded no strategic deliverables for America and resulted in circulating gossip that Crown Prince Mohammed bin Salman mocked Biden’s “mental acuity.”\nDespite Biden’s efforts, Mohammed bin Salman, commonly known by his initials MBS, did not appear to entirely abandon the possibility of normalizing ties with Israel until the unprecedented Hamas siege of Israel on October 7, 2023, which killed about 1,200 civilians, including children as young as infants, and featured extensive acts of torture, gang rape, abduction, and desecration of corpses. Shortly after the attacks, MBS began demanding the establishment of a state of “Palestine” with its capital in Jerusalem – the capital of Israel – in public addresses, which he had conspicuously omitted from other comments prior to the attacks about diplomacy with Israel.\nThe Saudi government first announced the creation of the “Global Alliance to Implement a Two-State Solution” in late September on the sidelines of the United Nations General Assembly. At the time, Prince Faisal, the foreign minister, said that the alliance was a joint effort between European countries and the member of the Organization of Islamic Cooperation (OIC).\n“Self-defence cannot justify the killing of tens of thousands of civilians and the practice of systematic destruction, forced displacement, the use of starvation as a tool of war,” Prince Faisal denounced then, “incitement and dehumanisation, and systematic torture in its most heinous forms, including sexual violence and other crimes documented according to United Nations reports.”\nReports on the first meeting of the alliance were light on details of any active measures taken. Prince Faisal offered comments in which he condemned Israeli operations against Hamas and Hezbollah, which have eliminated much of the senior leadership of those grounds, as “catastrophic.\n“A genocide is happening with the goal of evicting the Palestinian people from their land, which Saudi Arabia rejects,” he claimed on Wednesday. The foreign minister was not quoted as similarly condemning the explicitly genocidal aims of the jihadist groups in question, such as replacement Hezbollah chief Naim Qassem stating on Wednesday that a “ceasefire” with Israel was possible if the entire population of Israel was expelled from its country.\nThe Saudi foreign minister boasted that nearly 90 countries had attended the Alliance meeting, which is expected to last two days, and reports noted that it would also discuss defending the United Nations Relief and Works Agency (UNRWA) for Palestinians, which Israeli officials have found to be closely linked to Hamas terror operations in Gaza.\nIn addition to the summit this week, the Saudis announced that the country would host an “Arab-Islamic summit” on November 11 “to discuss countering Israeli aggression,” according to the Emirati newspaper the National.\nSaudi Arabia’s leadership against Israel is a dramatic pivot away from the position the country was in during the Trump administration and even as recently as September 2023. That month, Crown Prince Mohammed bin Salman said in an interview that his country was seeking ways to improve relations with Israel.\n“For us, the Palestinian issue is very important,” MBS told Fox News. “We need to solve that part. … We hope that it will reach a place that it will ease the life of the Palestinians, and get Israel back as a player in the Middle East.”\nIf an agreement would “give the Palestinians their needs and make the region calm, we’re going to work with whoever’s there,” he added.\nNotably, MBS did not mention the creation of a Palestinian state as a precondition to peace with Israel.\nIn November 2023, at an event for members of the anti-American BRICS coalition, the crown prince condemned the Israeli government for responding to the Hamas attack and explicitly demanded a “Palestinian state … with East Jerusalem as its capital.”\n“We reiterate our categorical rejection of these operations that have claimed the lives of thousands of children, women, and the elderly,” the de facto ruler said. “We demand an immediate stop of the military operations, and the provision of humanitarian corridors to enable international humanitarian organizations to perform their role and aid civilians.”\nMBS repeated that promise in September.\n“The kingdom will not stop its tireless work towards the establishment of an independent Palestinian state with East Jerusalem as its capital, and we affirm that the kingdom will not establish diplomatic relations with Israel without that,” the crown prince asserted.\nWhile Saudi Arabia continues to maintain a distance from the mass murderers of Hamas, its fraught relationship with the governing entity of the West Bank, the Palestinian Authority, has improved since the October 7 attacks. In September 2023, former Secretary of State Mike Pompeo said that he believed the Saudis had become disillusioned with the Palestinian Authority as its leadership was corrupt and it was a hindrance to improving ties to Israel. Nearly a year after the attacks, the Saudi government reportedly ended an eight-year embargo on funding the Palestinian Authority. Palestinian officials told the radical leftist New York Times (NYT) newspaper that Riyadh would be funding the entity to the tune of as much as $60 million.",
         "2024-10-31",
         "en"
        ],
        [
         "21",
         "Breitbart",
         "Exclusive -- Former Acting ICE Director Tom Homan: 3 Actions Would Solve 85% of Border Crisis",
         "Just a few actions would solve 85 percent of the border crisis, former acting ICE Director Tom Homan said during an interview on Breitbart News Daily.\n“Congress needs — they just need to pass three laws and they’d solve 85 percent of the problem on the border,” he said, calling for an end to the Flores settlement agreement as well as a change in asylum laws. He also pointed to the Trafficking Victims Protection Reauthorization Act (TVPRA).\n“Those three things would solve 85 percent” of the issues at the border, he said, but he acknowledged that Congress will not act any time soon. Because of that, former President Donald Trump, should he win, must do a “series of executive orders,” which will make a huge difference.\n“Remain in Mexico is a game-changer. That was a game changer that had more effect on the border in any policy I’ve seen in my 34-year career. Put the remain in Mexico program back into executive order” as well as catch and release, which will solve the “majority” of the United States’ problems on the southern border, he explained.\nLISTEN:\nHoman also addressed the recently aired 60 Minutes interview featuring himself — an interview that was completely chopped up — and responded to a segment showing a family scared of being torn apart due to Trump’s immigration policies.\n“Whose fault is that? When they enter the country and they choose to have a child, who put them in that position? Not Tom Homan. Not President Trump. Not the system. They choose to enter this country illegally, and while here illegally, they choose to have a child or they bring other family members in there. They put themselves in that position, knowing damn well they’re here illegally, knowing damn well they have an order of removal they’re ignoring, and they’re in hiding,” he said, responding to the critiques.\n“They put themselves in position. This is their problem. They created it. They can deal with it. It’s not Tom Homan’s problem. We’re going to — if the judge orders you removed, that’s what’s going to happen,” he added.\nBreitbart News Daily airs on SiriusXM Patriot 125 from 6:00 a.m. to 9:00 a.m. Eastern.",
         "2024-11-01",
         "en"
        ],
        [
         "22",
         "Breitbart",
         "'Pure Gibberish': AOC Mocked for Arabic GOTV Flyer Printed Backwards",
         "Rep. Alexandria Ocasio-Cortez (D-NY), also known as AOC, is being mocked for a get-out-the-vote (GOTV) flyer that is printed partially in Arabic, because the Arabic is written backwards and in disconnected script.\nArabic is read and written right-to-left, meaning that some simple text translation programs might reverse the order of the letters inadvertently. In addition, most (but not all) of the letters are meant to be connected within words.\nThe first Arabic word on the flyer is meant to be “voting” in Arabic, but the order of the letters has been reversed.\nEvidently, no one who actually understands Arabic was brought in to proofread the GOTV flyer before printing.\nDemocrats hoped to rely on Arab American voters to oppose Trump. But outrage at the Biden-Harris administration over the ongoing war in the Middle East has, however improbably, encouraged some Muslim voters to choose Trump in protest.\nMoreover, there are many Arab Americans, in both Christian and Muslim communities, who oppose the radical social agenda and redistributionist economic policies of Vice President Kamala Harris and her party.\nTrump has been receiving unexpected endorsements from Muslim and Arab Americans, in Michigan — where there is a large Arab American community — and beyond.\nJoel B. Pollak is Senior Editor-at-Large at Breitbart News and the host of Breitbart News Sunday on Sirius XM Patriot on Sunday evenings from 7 p.m. to 10 p.m. ET (4 p.m. to 7 p.m. PT). He is the author of The Agenda: What Trump Should Do in His First 100 Days, available for pre-order on Amazon. He is also the author of The Trumpian Virtues: The Lessons and Legacy of Donald Trump’s Presidency, now available on Audible. He is a winner of the 2018 Robert Novak Journalism Alumni Fellowship. Follow him on Twitter at @joelpollak.",
         "2024-10-31",
         "en"
        ],
        [
         "23",
         "Breitbart",
         "North Korea: ICBM Fired This Week Was New 'Hwasong-19' Model",
         "North Korea confirmed on Friday that the intercontinental ballistic missile (ICBM) the communist regime tested on Thursday was a new model, identified as the “Hwasong-19.”\nSouth Korean military officials confirmed on Thursday that the North had launched an ICBM, believed to be nuclear capable and able to reach all of the continental United States. The missile flew for 86 limits, a record for North Korean technology, and its performance coupled with the novel shape of its launch pad did not match the profiles of previously known North Korean ICBM models.\nBoth South Korean and Japanese officials warned this week that they expect especially belligerent behavior from Pyongyang in anticipation of the upcoming American presidential election. Both warned shortly before the ICBM launch that such a display was imminently possible, as well as the potential that North Korea could detonate a nuclear weapon to intimidate America and South Korea before the election on Tuesday.\nThe “Hwasong-19” debuted in the greater context of a documented North Korean military presence in Europe. South Korean, American, and Ukrainian officials have warned for weeks that communist dictator Kim Jong-un has agreed to send thousands of troops to Russia to train and ultimately fight in the ongoing invasion of Ukraine. Ukrainian President Volodymyr Zelensky told his South Korean counterpart, Yoon Suk-yeol, this week that he anticipates as many as 12,000 North Korean troops could soon be operating in Ukraine. A video circulating on Ukrainian social media on Friday claimed to show a captured North Korean soldier.\nRodong Sinmun, the official North Korean regime newspaper, celebrated the “Hwasong-19” on Friday as a “tremendously powerful absolute weapon … showing signs of new strength the world has never experienced.” It published photos of a leather-clad Kim Jong-un, alongside daughter Kim Ju-ae, attending the launch of the ICBM, claiming the dictator to have experienced “great satisfaction” at the success of the weapon.\n“The successful test-fire of the new-type ICBM has come to prove before the world that the dominant position the DPRK [North Korea] has secured in the development and manufacture of nuclear delivery means of the same kind is absolutely irreversible,” Rodong Sinmun paraphrased Kim as saying.\n“He clearly reaffirmed that the DPRK would never change its line of bolstering up its nuclear forces under any circumstances,” the propaganda outlet relayed. “He once again stressed that only the peace that can be defended by the strength great enough to control and deter the enemy is the reliable, secure and durable peace.”\nRodong Sinmun claimed that America and South Korea pose “a grave danger” to North Korea that necessitates a greater investment in the country’s nuclear arsenal.\n“The present grave reality … more clearly emphasizes the necessity of the absolute power capable of deterring the enemy and controlling the situation at all times and the validity of its steady increase,” the newspaper asserted.\nThe North Korean government almost immediately confirmed the missile launch on Thursday, contrary to its typical process of waiting a day before offering any commentary on an ICBM test. Its report aligned with information published by South Korean and Japanese officials, who stated that the missile, shot at a very steep angle, flew 621 miles across and 4,300 high.\nIn its initial confirmation of the test, the North Korean Central News Agency (KCNA) stated the missile “fully meets the purpose of informing the rivals [South Korea and America], who have intentionally escalated the regional situation and posed a threat to the security of our Republic recently, of our counteraction will.”\nIn remarks to the press on Friday, according to the Yonhap News Agency, appearing to confirm the North Korean claims, South Korean officials described the Hwasong-19 as the “largest long-range missile yet.”\n“A South Korean military official told reporters on condition of anonymity that the Hwasong-19 is longer than the country’s previously known largest ICBM — the Hwasong-17,” Yonhap noted. “In comparison, the Hwasong-17’s TEL, which also has 11 axles, is about 23 meters long.”\n“The size of the Hwasong-19, powered by solid propellant, also indicates that it has a relatively longer range and larger payload than the smaller solid-fuel Hwasong-18 solid-fuel ICBM that is presumed to be able to target the U.S. mainland,” it continued.\nSouth Korean officials also suggested that the shape of the missile could potentially hold more than one nuclear warhead. Despite the updated capabilities of the Hwasong-19, South Korean officials dismissed the claim that it was an “ultimate” weapon, noting that its efficacy is still not confirmed as its ability to travel on a horizontal path, rather than being shot into the sky, remains unknown.\nThe Hwasong-19 may not be the last North Korean surprise before the American presidential election. Both Japanese and South Korean officials suggested this week that Pyongyang has fully refurbished the Punggye-ri Nuclear Test Site, unused since 2017, meaning it could soon be used to detonate another nuclear weapon.\nSouth Korean officials “suggested the North could launch an ICBM to verify its atmospheric reentry technology, at a timing targeting the US presidential election in November,” the Japanese news network NHK reported. The officials, it added, “have not ruled out North Korea going ahead with its seventh nuclear test around the time of the US presidential election.”\nJapanese government Yoshimasa Hayashi told reporters this week that North Korea “may undertake further provocative actions, such as launching various missiles, a satellite, or conducting a nuclear test.”",
         "2024-11-01",
         "en"
        ],
        [
         "24",
         "Breitbart",
         "Hungary's Orbán Convinced Donald Trump Will Bring Peace to Ukraine",
         "Hungarian Prime Minister Viktor Orbán said that he is “convinced” that if Donald Trump is sent back to the White House, he will immediately bring about a diplomatic solution to the war in Ukraine, with or without the help of the European Union.\nSpeaking alongside former German Chancellor Gerhard Schröder from Vienna this week, Mr Orbán said that if elected next week, Trump’s team will “sit down with the Russian president in no time and negotiate,” adding, “We are preparing.”\nOrbán, one of the former president’s chief allies in Europe, accused Brussels of operating under a delusion, arguing that the EU leadership has refused to accept or failed to understand that Ukraine cannot win the war, Die Welt reports.\n“This war is lost,” Orbán said. “The situation is getting worse and worse. If Europe does not want to send its own soldiers, it must finally accept that. The fact that Europe is proud of not communicating with Russia is barbaric and diplomatically illiterate.”\nThe populist leader did admit, however, that initial negotiations will not be for a broader peace agreement between the West, Ukraine, and Russia but rather to get a ceasefire to stop the bloodshed.\nSchröder, a longtime ally of Vladimir Putin, agreed with the sentiment and said it was wrong for Berlin and Paris to criticise the Hungarian leader for advocating for a ceasefire during trips to Beijing, Kyiv, Moscow, and the United States. Instead, EU leaders should support peace efforts from Budapest.\nSchröder also supported Trump’s desire to bring peace to Europe, saying that while he never thought he would back the Republican candidate, “I would praise him again”.\nThe former German chancellor, who has faced criticism for his business ties in Russia, such as holding positions with Nord Stream AG, Rosneft, and Gazprom, again accused former UK Prime Minister Boris Johnson of scuppering an early peace deal between Ukraine and Russia at a 2022 meeting in Istanbul.\nOn the other hand, Orbán argued that the peace deal lacked necessary guarantees and that Ukrainian President Volodymyr Zelensky had blocked peace talks, opting instead to continue the war.\nMr Trump has claimed that if elected, he would negotiate a ceasefire between Kyiv and Moscow before he is even inaugurated in January.\nThe former president has so far opted to keep his negotiating tactics close to his chest. However, following a meeting at his Mar-a-Lago residence earlier this year, Prime Minister Orbán suggested that cutting off American aid to Ukraine would likely be used to force Zelensky to the table.",
         "2024-11-02",
         "en"
        ],
        [
         "25",
         "Breitbart",
         "CNN's Collins: 'Hard' to Buy Spin on Biden's 'Garbage' Comments When You Can Watch Video",
         "On Tuesday’s broadcast of CNN’s “The Source,” host Kaitlan Collins stated that it’s hard to buy the White House’s attempt to clean up President Joe Biden’s statement about supporters of 2024 Republican presidential candidate former President Donald Trump “when you can listen to it for yourself” by just watching the video of the remarks.\nWhile speaking with Pennsylvania Gov. Josh Shapiro (D), Collins played video where Biden said, “The only garbage I see floating out there is his supporters. His — his — his demonization of Latinos is unconscionable, and it’s un-American.”\nShe then stated that “it sounds like he’s calling Trump supporters, there, garbage.”\nCollins added, “[T]he White House is trying to say that what President Biden was saying — they’re putting an apostrophe there on ‘supporters’, saying it’s the singular, I guess referring to the comedian, that supporter’s comments. It’s hard to really look at that when you can listen to it for yourself.”\nFollow Ian Hanchett on Twitter @IanHanchett",
         "2024-10-29",
         "en"
        ],
        [
         "26",
         "Breitbart",
         "Israel Says It Will Ensure Safety of Lebanon's Cultural Heritage Sites",
         "Israel said Thursday that it would ensure the safety of Lebanon’s cultural heritage sites, even as it evacuates cities that are near ancient ruins and archaeological treasures.\nMany residents of Lebanon have expressed concern this week as the Israeli military has ordered evacuations in the city of Baalbek, in northeastern Lebanon.\nThe city is far from the region of southern Lebanon from which Hezbollah terrorists have been firing at Israel for more than a year, but Hezbollah has established a significant presence in the city, which is near the Syrian border, across which Hezbollah smuggles weapons supplied by the Iranian regime.\nBaalbek includes Roman ruins that are listed as a World Heritage Site by the United Nations Educational, Scientific and Cultural Organization (UNESCO) and that are, the BBC notes, “are among the largest and best-preserved in the world.”\nIsraeli government spokesman David Mencer told a press briefing, in response to questions from Breitbart News, that that Israel had seen reports of requests to ensure that historical sites will not fall within the range of fire.\n“The IDF [Israel Defense Forces] will, of course, ensure that is always the case,” Mencer said. However, he added that “ultimately, it is the fault of Hezbollah” that war had reached such areas, due to its decision to attack Israel without provocation over the past year.\nHe noted that the number of people evacuated from their homes in Israel was currently 58,000, “due to the incessant rocket fire,” which had killed 64 people and wounded 603, even before five more were killed and one wounded in an attack earlier in the day.\nThe border had been quiet for 17 years when Hezbollah began firing at Israel on October 8, after the Hamas terror attack.\nIn 2022, Israel and Lebanon signed a deal for the development of offshore natural gas resources, under which Israel gave up gas fields that were within its territorial waters in the hope that doing so would discourage Hezbollah from launching future wars.\nAsked whether that had been a mistake, Mencer said that Israel would be “changing our strategy moving forward,” though stressing that Israel still sought peace with Lebanon and the Lebanese people.\nHe noted that while several Arab states have been willing to make peace with Israel, including through the Abraham Accords, the Iranian regime has “decided to develop its own empire, in which there is no place for the state of Israel,” which led to the current war, as Hezbollah is controlled by Iran.\nIsrael had dealt Iran a “crushing blow,” Mencer said, and would continued to confront Iran over its efforts to disrupt relations between Israel and the Arab states.\nJoel B. Pollak is Senior Editor-at-Large at Breitbart News and the host of Breitbart News Sunday on Sirius XM Patriot on Sunday evenings from 7 p.m. to 10 p.m. ET (4 p.m. to 7 p.m. PT). He is the author of The Agenda: What Trump Should Do in His First 100 Days, available for pre-order on Amazon. He is also the author of The Trumpian Virtues: The Lessons and Legacy of Donald Trump’s Presidency, now available on Audible. He is a winner of the 2018 Robert Novak Journalism Alumni Fellowship. Follow him on Twitter at @joelpollak.",
         "2024-10-31",
         "en"
        ],
        [
         "27",
         "Breitbart",
         "Biden’s 'Garbage' Smear Forces Vulnerable Senate Democrats to Scramble to Distance",
         "Vulnerable Democrat Senate candidates are scrambling away from President Joe Biden as his “garbage” smear on Trump supporters endangers candidates’ viability, while others refuse to say whether or not they actually think former President Donald Trump’s supporters are “garbage.”\nArizona Democrat Senate nominee Rep. Ruben Gallego (D-AZ) entirely dodged Breitbart News’s comment request in response to whether or not he thinks Trump supporters are garbage.\n“I am running to represent all Arizonans, regardless of who they vote for,” he said.\nBreitbart News followed up, again asking if he views Trump voters as garbage and for his response to Biden’s extremely divisive comment, as well as his take on Vice President Kamala Harris’s reaction to it.\nGallego did not respond to the following questions hours after they were asked.\nBiden disparaged Trump supporters during a video call with Voto Latino on Tuesday.\n“The only garbage I see floating out there is his supporters,” Biden said.\nThe clip went viral on social media and upstaged Vice President Kamala Harris’s closing argument speech at the Ellipse in Washington, DC.\nGallego’s opponent, Republcian Kari Lake, slammed him and brought receipts from when he called Trump supporters “the worst people in the world” in 2016.\n“People who hate us don’t deserve the privilege of representing us,” Lake wrote in a post on X. “I don’t hate anyone. I just want to help Arizonans.”\nWhile Gallego responded to Breitbart News’s initial comment request but avoided the follow-up, the senate offices of Sens. Bob Casey (D-PA) and Tammy Baldwin (D-WI) did not respond to Breitbart News’s multiple comment requests Wednesday asking the senators, “Do you think Trump supporters are garbage?”\nAccording to Washington Free Beacon investigative reporter Chuck Ross, a Casey spokesman gave a similar dodging statement that Gallego did to Breitbart News regarding the “garbage” insult.\n“Senator Casey respects all Pennsylvanians regardless of how they vote,” the spokesperson said.\nRepublican businessman Dave McCormick, Casey’s opponent, blasted the weak statement on Wednesday night.\n“Bob Casey cannot bring Pennsylvania together if he is too weak to condemn Joe Biden or anyone else calling half of our state garbage,” he wrote.\nInkl reports that “Baldwin’s campaign spokesman stated that Baldwin does not agree with President Biden’s comments.”\nRepublican businessman Eric Hovde, who is challenging Baldwin, released an ad Wednesday showing a previous video of Baldwin trashing Trump supporters and likening it to Clinton’s “basket of deplorables” comment.\nSen. Jacky Rosen’s (D-NV) campaign gave a more vigorous rebuke to the comments than Gallego and Casey.\n“Senator Rosen strongly disagrees with disparaging anyone based on who they vote for,” a Rosen campaign spokesperson told Breitbart News. “As one of the most bipartisan and independent Senators, she works hard to find common ground across party lines and represent all Nevadans.”\nRosen’s opponent, Ret. Army Capt. Sam Brown (R) blasted Biden Tuesday night for trashing half of the country.\n“Tonight, Joe Biden called half of America ‘garbage,” Capt. Brown wrote. “‘Garbage’ because we believe in putting America First, securing our borders, keeping men out of women’s sports, & making life affordable for working families.”\nIn a similar fashion to Rosen, Sen. Brown distanced himself from Biden, saying he disagreed that Trump voters are “garbage” in a statement to Breitbart News.\n“Sherrod doesn’t agree with that and fights for all Ohioans, regardless of who they vote for,” Brown campaign spokesman Matt Keyes said.\nOne of Brown’s donors, Vinod Khosla, notably said Tuesday that Biden’s insult did not go far enough.\n“Garbage is an understatement for MAGA extremists,” he tweeted.\nBrown’s opponent, Republican businessman Berno Moreno, hammered Biden, Harris, and Brown on Tuesday night.\n“We always knew career politicians like Joe Biden, Kamala Harris, and Sherrod Brown hated American citizens,” he wrote. “It’s obvious from their policies of open borders, high prices, and massive government overreach. Now, they are just saying the quiet part out loud.”\nRep. Elissa Slotkin (D-MI), who is Michigan’s Democrat Senate nominee, scolded Biden for his remarks while appearing on a local radio program, Fox News reported.\n“He shouldn’t have said it, it’s inappropriate,” Slotkin told a Michigan radio station, Fox News reported. “For me, I just think that kind of talk is the last thing we need in our politics.”\nFormer U.S House Intelligence Chair Mike Rogers (R-MI), the GOP nominee for Senate in the Wolverine State, called out Biden, Slotkin, and Harris on Tuesday night.\n“Michiganders living paycheck to paycheck aren’t garbage, Joe!” he wrote.\n“The clear and disgusting contempt that Biden, Harris, and Slotkin have for Americans who don’t support their garbage policies is all you need to know and why we’re going to win next week,” Rogers added.",
         "2024-10-30",
         "en"
        ],
        [
         "28",
         "Breitbart",
         "Jonah Goldberg Says Trump Made Him Lie About Trump Wanting Liz Cheney Shot",
         "The disgraced Jonah Goldberg’s latest act of liberal fascism involves him lying about Donald Trump on CNN and then claiming it was Donald Trump who made him lie.\nNot-So-Little Lord Fauntleroy grows more pathetic and self-loathing by the day.\nWe all know what former President Trump said about Liz Cheney on Thursday. There was nothing ambiguous about what he said or what he meant:\nLet’s put her with a rifle standing there with nine barrels shooting at her. Let’s see how she feels about it, you know when the guns are trained on her face. You know, they’re all war hawks when they’re sitting in Washington, in a nice building saying, ‘Oh, gee, well, let’s send — let’s send 10,000 troops right into the mouth of the enemy.’\nThe idea that Trump is calling for Cheney to be executed or face a firing squad is preposterous. He opens his statement by saying “Let’s put her with a rifle standing there…” If you’re calling for someone to be executed, you don’t hand them a rifle.\nTrump is making a chickenhawk statement about Liz Cheney that would have won him his own MSNBC primetime show in 2006.\nAnyway, here’s what Goldberg said on far-left CNN Friday morning about Trump’s statement:\nHe’s saying quite explicitly and unambiguously that Liz Cheney should be shot, should be executed by firing squad. That is appalling. That is a small facet of the reasons why he’s unfit for office, and the Republican Party has made a disastrous mistake. … Let’s execute a political opponent, who happens to be a woman, because I don’t like her. Does that pull more low-propensity voters in his coalition to the polls? I honestly don’t think so.\nSo, he’s lying. Trump’s point was clear, and allow me to once again make the crucial and incontrovertible point that in Trump’s scenario, Liz Cheney is holding a rifle. Therefore, there is no question he is not calling for her to be executed. Rather, he is calling on her to walk the war-pig walk. Duh.\nIt gets better…\nAfter the blowback became too much, after leftists and Trump haters like former congressman Joe Walsh, Vox’s Zach Beauchamp, and Free Press columnist Kat Rosenfeld defended Trump’s statement and called out the corporate media for not presenting the full and obvious context of what Trump said, Goldberg xweeted that, “I need to make a statement.”\nHere’s his opener:\nThis morning on CNN I referred to Trump’s “rifles” quote as him advocating a “firing squad” for Liz Cheney. I was reacting in haste to what were objectively appalling and irresponsible comments that had been framed in the set-up piece in the context of previous statements Trump made about shooting protestors and having generals “executed.” Still, I was wrong to say he was calling for a firing squad execution. After I said that, my co-panelist, Brad Todd made the case that I was wrong. Brad was right and, again, I was wrong. Trump was making – albeit in his customary fashion – a different argument about Cheney’s alleged foreign policy views and the use of force. I let my disgust at Trump’s comments get the better of me as this was the first time I’d heard them.\nHe’s blaming Trump for his lying about Trump, and yes, Goldberg lied. He wasn’t mistaken. He lied. Even in the truncated clip CNN aired in the “set-up piece,” Trump clearly says, “Let’s put her with a rifle…” How can any reasonably intelligent person hear that and then say, He’s calling for a firing squad? Granted, over these last ten years, I’ve discovered Jonah Goldberg is nowhere near as smart as I once thought he was, and obviously he’s less principled than a junkie in a bus station bathroom selling himself for ten bucks, but Goldberg is not so dumb he thinks you give the person being executed a rifle.\nJonah Goldberg is a liar, and when he got caught lying, he’s such a bottom feeder desperate to please his new corporate media masters, he blamed Trump for his own lying.\nWin or lose on Tuesday, there is no going to back to a Republican Party that has anything to do with America’s Jonah Goldbergs.\nTrump should sue everyone spreading this lie, including the increasingly chubby Kasie Hunt. This isn’t opinion. This isn’t reporting. This is the telling of a deliberate lie to damage a man’s reputation. This is defamation.\nJohn Nolte’s first and last novel, Borrowed Time, is winning five-star raves from everyday readers. You can read an excerpt here and an in-depth review here. Also available in hardcover and on Kindle and Audiobook.",
         "2024-11-01",
         "en"
        ],
        [
         "29",
         "Breitbart",
         "The Price of Garbage Is Up 18.5% Under Biden-Harris",
         "The prices Americans pay for garbage collection have jumped 18.5 percent since Joe Biden and Kamala Harris entered the White House, according to data from the U.S. Department of Labor.\nThe consumer price index for water, sewage, and garbage collection was up 4.75 percent in September compared with one year earlier. Trash collection inflation peaked at a year-over-year rate of 5.8 percent in June of last year.\nThe Harris campaign was scrambling on Wednesday after Biden called Trump’s supporters “garbage” in an interview. Biden has said he only meant to refer to some of Trump’s supporters.\n“The only garbage I see floating out there is his supporters,” Biden said.\nThe remarks are being compared to Hillary Clinton referring to Trump’s supporters as “deplorable” in 2016, fueling a backlash that helped propel Trump into office.",
         "2024-10-30",
         "en"
        ],
        [
         "30",
         "Breitbart",
         "North Korea Stages Its Longest ICBM Flight Ever -- Capable of Reaching U.S. in Time for Election",
         "Communist North Korea fired an intercontinental ballistic missile (ICBM) on Thursday that flew for 86 minutes, a record for Pyongyang, suggesting it is capable of reaching the continental United States.\nSouth Korean and Japanese military observers tracked the missile, documenting that it traveled 621 miles across and flew to about 4,300 miles in altitude. The missile fell in the East Sea/Sea of Japan. The missile appeared to be fired intentionally at a very steep angle to not land on any populated target, but show the world it is capable of hitting America if necessary.\nPyongyang’s state-run Korean Central News Agency (KCNA) confirmed the missile launch shortly after it occurred, calling it a “very crucial test” necessary to show the world the “modernity and creditability” of North Korea’s nuclear threats.\nKim Jong-un issued a statement directly on Thursday defending the threatening launch as an “appropriate military activity,” but not directly describing it as a ploy related to the schedule of the American presidential election. The ICBM, he claimed, “fully meets the purpose of informing the rivals [South Korea and America], who have intentionally escalated the regional situation and posed a threat to the security of our Republic recently, of our counteraction will.”\n“It also constitutes an indispensable process in the course of constantly developing our state’s strategic attack forces,” he continued. “We should never allow any threat to approach the security sphere under our state’s influence.”\n“The security situation of our state and ever-aggravating prospective threats and challenges require us to continue to bolster up our modern strategic attack forces and more perfectly round off our nuclear forces’ response posture,” he concluded, vowing to never denuclearize his country.\nThe KCNA report did not identify what kind of ICBM North Korea launched on Thursday. Pyongyang often boasts of the specific model missile that it fires. South Korea’s Joint Chiefs of Staff (JCS) similarly noted that it did not have enough evidence to confirm the model launched and stated that it could potentially be an entirely new ICBM model. The latest known model of North Korean ICBM is the “Hwasong-18,” which Kim Jong-un first ordered a test-launch of in July 2023. South Korean experts predicted based on the information North Korea published on the missile model that it could potentially hit any part of the continental United States. North Korea had not launched an ICBM in about a year.\n“Early assessment showed there is a possibility (North Korea) may have test-fired a new type of solid-fuel long-range ballistic missile,” JCS spokesperson Lee Sung-jun said on Thursday. The Korea JoongAng Daily also reported, citing an unnamed JCS official, that South Korean military experts believe Pyongyang used a different mobile launcher than those previously used for older models, adding to evidence that the ICBM may have been an entirely new missile.\n“The launch today may have been from a new 24-wheel mobile launcher that North Korea recently revealed,” a JCS official reportedly said. “It is possible that the missile has grown in size and the warhead weight has increased.”\nLee told reporters that the South Korean military believes that the missile launch was in part timed to coincide with the days before America elects a new president, potentially to “gain leverage” over any incoming American presidential administration.\nThe South Korean news agency Yonhap also quoted an expert at the Korea Institute for National Unification, Hong Min, who said the missile launch was also a way to remind the world that North Korea now boasts a mutual defense agreement with Russia and is believed to be increasingly involved in Russia’s invasion of Ukraine.\n“Given that an ICBM targets the U.S., (the North) has boasted its proven capability to retaliate in the event its safety is threatened,” Hong said.\nOfficials in both Seoul and Tokyo warned on Wednesday that they had detected North Korean military activity suggesting an imminent ICBM launch or even nuclear weapons test. Members of the South Korean Defense Intelligence Agency (DIA) told lawmakers that it believed that Kim Jong-un had entirely rehabilitated the Punggye-ri Nuclear Test Site, used for seven previous tests and believed to be in a state of extreme disrepair. The South Korean officials, Japanese news network NHK reported, predicted the ICBM launch and “have not ruled out North Korea going ahead with its seventh nuclear test around the time of the US presidential election.”\n“The officials also said preparations inside the Punggye-ri nuclear test site in the northeast of the country are almost complete,” the report relayed. Punggye-ri has not been used for a nuclear test since 2017.\nWhile Kim Jong-un has not ordered a nuclear test in seven years, he has taken a variety of measures intended to reinforce his country’s illicit nuclear weapons program, including outlawing denuclearization and ordering an “exponential increase” in its nuclear warhead arsenal in early 2023. He repeated that call in September, after signing a mutual defense agreement with Russian strongman Vladimir Putin.\nKim has focused his foreign policy in the past four years on improving ties with Russia, distancing North Korea from its traditional patrons in communist China. Shortly after signing the defense agreement, reports began surfacing that North Korea was preparing to send troops to reinforce Russian efforts in the invasion of Ukraine. As of this week, the South Korean National Intelligence Service (NIS) informed that it believes 3,000 North Korean soldiers are in Russia, and that number could balloon to as many as 12,000 by the end of the year.\n“This illegal military cooperation between Russia and North Korea is a significant security threat to the international community and could pose a serious risk to our national security,” South Korean President Yoon Suk-yeol said this week. “With the war in Ukraine going on for three years, North Korea has deployed troops to Russia beyond providing weapons.”\n“We must thoroughly assess all possibilities and prepare countermeasures. I urge everyone to engage in risk management with a heightened sense of vigilance,” Yoon asserted.",
         "2024-10-31",
         "en"
        ],
        [
         "31",
         "Breitbart",
         "White House: Interest Rates Are Up Due to 'Stronger Economy' Under Biden, Trump's 'Destructive' Ideas",
         "On Friday’s broadcast of Bloomberg’s “Balance of Power,” White House Council of Economic Advisers Chair Jared Bernstein stated that bond market interest rates and mortgage rates have increased and that’s partially due to “the stronger economy” under President Joe Biden, but “I also think there’s a policy element going on in that spread, in that interest rate. And I think it has to do with the idea that one of the candidates is talking about massive tariffs — acting as a sales tax on the middle class –, massive deportations — terrible idea for the labor market –, and compromising Fed independence. That may also be putting some upward pressure on rates.”\nBernstein said, “Well, we’ve seen rates in the bond market be somewhat elevated. We’ve certainly see[n] the mortgage rate go up. And part of that has to do with the stronger economy. So, look, under President Biden — we got the GDP report this week — under President Biden, the annualized growth rate for GDP has been slightly north of 3%. That is a very strong, very much above-trend growth rate. So, strong growth, solid labor market, easing prices, real wage and income gains, certainly putting some upward pressure there. But I also think there’s a policy element going on in that spread, in that interest rate. And I think it has to do with the idea that one of the candidates is talking about massive tariffs — acting as a sales tax on the middle class –, massive deportations — terrible idea for the labor market –, and compromising Fed independence. That may also be putting some upward pressure on rates. And I think that’s just a sign of some of those destructive ideas.”\nFollow Ian Hanchett on Twitter @IanHanchett",
         "2024-11-02",
         "en"
        ],
        [
         "32",
         "Breitbart",
         "Breitbart News Daily Podcast Ep. 647: Dr. Sebastian Gorka on Biden Calling Trump’s Supporters ‘Garbage’",
         "Dr. Sebastian Gorka, a former strategist to President Donald Trump and host of “America First,” joins host Mike Slater to discuss Joe Biden calling Trump’s supporters “garbage.” How will this smear of half the country impact the 2024 race and its outcome? Gorka gives his take.\nThe Breitbart News Daily Podcast runs Monday through Friday as a “Director’s Cut” of the SXM Patriot radio show hosted by Mike Slater.\nSUBSCRIBE for free by clicking your preferred podcast platform below.",
         "2024-10-30",
         "en"
        ],
        [
         "33",
         "Breitbart",
         "CBS's O'Donnell: Trump 'Giving No Grace' to Biden's 'Garbage' Remarks",
         "CBS News anchor Norah O’Donnell accused former President Donald Trump “and his supporters” of not giving President Joe Biden “grace” over his “garbage” remarks.\nO’Donnell referred to how Trump rode on a garbage truck to his rally in Wisconsin a day after Biden described Trump voters as being “garbage.”\n“Former President Donald Trump was in North Carolina earlier, and tonight he’s also in Wisconsin,” O’Donnell. “He landed in Green Bay just a short time ago, and pulled, then, this campaign stunt, speaking to reporters from a garbage truck, proof that he and his supporters are giving no grace to a gaffe by President Biden, where he in his explanation, inadvertently called Trump supporters garbage.”\nAs Breitbart News previously reported, Biden stated:\n“The only garbage I see floating out there is his supporters,” Biden said, later attempting to walk it back by claiming that he was only referring to the comedian Trump’s campaign had on stage at Madison Square Garden on Sunday.\nBiden’s comments come after comedian Tony Hinchcliffe made a joke about Puerto Rico being “a floating island of garbage.”\nIn a video posted to X, Trump was seen wearing an orange vest and saying, “250 million people are not garbage.”\n“Hello, everybody, this is Donald Trump and 250 million people are not garbage,” Trump said.",
         "2024-10-30",
         "en"
        ],
        [
         "34",
         "Breitbart",
         "Poll: Donald Trump Ekes Out Lead over Kamala Harris in Michigan",
         "More via the outlet:\nGreen Party candidate Jill Stein and former Natural Law Party candidate Robert F. Kennedy Jr., who has dropped out of the race but remains on the ballot, each received 1.4%, independent Cornel West received 1% and Libertarian Chase Oliver received 0.2%. Independent Joseph Kishore also got 0.2%.\nAnother 1.4 percent remain unsure of who they would support or did not answer.\nIt also examined the Senate race between Democrat Rep. Elissa Slotkin (D-MI) and Republican Mike Rogers. That is also a close race, with Slotkin garnering 47.2 percent support to Rogers’s to 45.5 percent. Five percent remain undecided — more than enough to swing the race in either direction.\nThis survey coincides with others telling a similar story. A Emerson College Polling/RealClearWorld survey released this week showed Trump leading Harris in Michigan by one percent — 49 percent to Harris’s 48 percent support. Weeks ago, the two were tied in that survey.\nSimilarly, a Patriot Polling survey released this week also showed Trump leading Harris by one in Michigan and independents swinging his way.\nThe current RealClearPolitics average of polls shows Harris up by an average of 0.5 percent in the state. Trump flipped Michigan for the first time in over 20 years in 2016.",
         "2024-10-30",
         "en"
        ],
        [
         "35",
         "Breitbart",
         "Watch Live: Donald Trump Holds Rally in Rocky Mount, North Carolina",
         "Former President Donald Trump speaks to supporters at a rally in Rocky Mount, North Carolina, on Wednesday, October 30.\nFormer President Donald Trump speaks to supporters at a rally in Rocky Mount, North Carolina, on Wednesday, October 30.",
         "2024-10-30",
         "en"
        ],
        [
         "36",
         "Breitbart",
         "Dem Rep., Harris Surrogate on if Unborn Have Rights: It's Right of Women to Make Choice for Their Bodies",
         "During a town hall on NewsNation on Wednesday, Rep. Ro Khanna (D-CA), who is also a Harris-Walz surrogate, responded to arguments that the unborn have rights by stating that “We had Roe v. Wade for many, many years. It was a right of women to make that choice for their bodies.”\nAfter former Alaska Gov. Sarah Palin (R), ESPN host Stephen A. Smith, and former Fox host Bill O’Reilly discussed abortion and whether it’s responsible for the gender gap in polling in the presidential race and if such a gap exists, how appropriate it is for men to weigh in on the issue, and whether 2024 Republican presidential candidate former President Donald Trump has restricted access to abortion, other women’s health issues, and whether women have fewer rights than men, O’Reilly stated, “Democrats have been very effective in saying to women — American women, that the government has no right to interfere with your body. That’s the mantra, right? Isn’t there another body involved?” And Palin strongly agreed.\nO’Reilly continued, “Especially in late-term, isn’t there another body? Okay, so, now, we never, and I mean never, hear one word: adoption. We never hear what Bill Clinton said, abortions safe and rare. What we hear from the Democratic candidate for president is, abortion any time for any reason. Do you know there are only three non-Communist countries in the world that [have] that law? And there is a reason for that.”\nPalin then stated, “So, you know what we need to do a better job of is allowing easier adoptions. We need to make it something that is more attractive — if you will — that alternative to taking the life of a baby in the womb, instead of that, allowing and providing resources, even, for those who are in less than ideal circumstances, finding themselves in a situation where they’re faced with that choice.”\nHost Chris Cuomo then stated, “Right. And the key word is choice, right? Because once you create a right or remove one, it then becomes about who gets to make the decisions. And then you have this whole decision chain that you’re discussing about adoption and health or whatever it is, but who gets to make the determination? That’s the issue that the Democrats are trying to isolate. How well they do it — to Stephen A. Smith’s point — is a different question.”\nCuomo then asked Khanna, “When you hear the argument about what this issue should mean and how it should be argued from Gov. Palin and others, what do you believe the Democratic response is?”\nKhanna answered, “Well, the response is simple: We had Roe v. Wade for many, many years. It was a right of women to make that choice for their bodies. And it’s overwhelmingly popular. [It] explains Bill O’Reilly’s point of why there is a gender gap.”\nKhanna then gave other reasons for the gender gap.\nPalin then said that we’re still not addressing the point of the rights of the unborn.\nThe discussion then turned to whether it’s accurate to say if 2024 Republican presidential candidate former President Donald Trump supports a national abortion ban.\nLater in the segment, Rep. Jared Moskowitz (D-FL) stated that he doesn’t support late-term abortions.\nFollow Ian Hanchett on Twitter @IanHanchett",
         "2024-10-31",
         "en"
        ],
        [
         "37",
         "Breitbart",
         "Harris Advisory Board Member: We 'Want to Unleash Nationally' What We Did in California on Immigration",
         "On Wednesday’s broadcast of MSNBC’s “José Díaz-Balart Reports,” Harris Campaign Advisory Board Member Sen. Alex Padilla (D-CA) stated that California “knows the value of our diversity, including our immigrant population, its contribution to the strength of our state and our economy. And we want to unleash nationally what we’ve been able to unleash here in the state of California.” And 2024 Democratic presidential candidate Vice President Kamala Harris is “the first to remind us we need to be thoughtful, we need to be humane, we need to be smart, and we cannot leave the millions of DREAMers and farmworkers and so many other essential workers that we depend on out of this conversation.”\nHost José Díaz-Balart asked, “What is it that your message is to the people that you represent and that you work so hard for, and I’m talking about DACA recipients and I’m talking about the millions of people who [live] in mixed immigration status households that don’t hear themselves reflected in any conversation, when, for example, the main focus is that border bill?”\nPadilla answered, “I have the honor, as you know, José, to represent the 40 million people of California. And I say everybody, because California, more than any other state, knows the value of our diversity, including our immigrant population, its contribution to the strength of our state and our economy. And we want to unleash nationally what we’ve been able to unleash here in the state of California. Californians and a lot of Californian activists and advocates know Kamala Harris for her talk about the borders, to address that question for the people who still may be wondering, but she’s the first to remind us we need to be thoughtful, we need to be humane, we need to be smart, and we cannot leave the millions of DREAMers and farmworkers and so many other essential workers that we depend on out of this conversation. The organizations and organizers in California know it, we’ve been deploying throughout the country to talk to our counterparts [about] why it’s important to elect Kamala Harris president of the United States and restore Democratic majorities in both houses [of] Congress so we can finally move on with a thoughtful, smart modernization of our immigration system.”\nFollow Ian Hanchett on Twitter @IanHanchett",
         "2024-10-30",
         "en"
        ],
        [
         "38",
         "Breitbart",
         "Looting, Vandalism in Downtown L.A. After Dodgers Win World Series",
         "Los Angeles Dodgers fans celebrated their team’s win over the New York Yankees in the World Series on Wednesday night — but there was also looting and vandalism in L.A. amid the happiness, leading police to make several arrests.\nAmid cheers and fireworks, there were also burglaries, and an L.A. Metro bus was set on fire.\nThe Los Angeles Times reported:\nIn downtown, multiple businesses were burglarized or vandalized, though exact details were not available. Police said some in the crowd were “hostile” and threw objects at officers. Videos showed people stealing from a Nike Jordan store on Broadway and cars doing doughnuts at intersections to roars from bystanders.\nNewsweek added:\nThe Los Angeles Police Department (LAPD) said they had received reports of “looting at several stores in the area of 8th and Broadway” and people were urged to stay out of the area.\n“If you are on the street, at or adjacent to that intersection, leave the area immediately and follow all officers orders,” the LAPD wrote on X, formerly Twitter.\n…\nIn another post on X, the LAPD reported that “various projectiles,” including rocks and bottles, were being thrown at LAPD officers in the area of Olympic & Grand. The department was responding with extra resources to that area.\nThe Dodgers won 7-6 at Yankee Stadium after coming back from a 5-0 deficit with a five-run fifth inning.\nJoel B. Pollak is Senior Editor-at-Large at Breitbart News and the host of Breitbart News Sunday on Sirius XM Patriot on Sunday evenings from 7 p.m. to 10 p.m. ET (4 p.m. to 7 p.m. PT). He is the author of The Agenda: What Trump Should Do in His First 100 Days, available for pre-order on Amazon. He is also the author of The Trumpian Virtues: The Lessons and Legacy of Donald Trump’s Presidency, now available on Audible. He is a winner of the 2018 Robert Novak Journalism Alumni Fellowship. Follow him on Twitter at @joelpollak.",
         "2024-10-31",
         "en"
        ],
        [
         "39",
         "Breitbart",
         "Report: Harris Staff ‘Privately’ Debates Breaking with Biden over ‘Garbage’ Smear",
         "Staff working for Kamala Harris’s campaign are debating whether to break from Joe Biden following his “garbage” smear of the many millions of Americans who support former President Donald Trump, according to the New York Times.\nThe newspaper reported:\nAfter Mr. Biden’s remark, Harris campaign officials privately gauged whether his comments would require her to disagree with him publicly or support his explanation that the comments were taken out of context, according to people familiar with the internal reaction. They asked for anonymity to discuss private deliberations.\nThe visceral smear and political gaffe came as Biden was trying to portray Trump as hostile to Latinos. The report from the Associated Press (AP) said:\nAhead of Harris’ [campaign] remarks, Biden is reacted [sic] to a comic calling Puerto Rico garbage at a Trump rally last weekend by saying, “The only garbage I see floating out there is his supporters.”\nThe uproar over the garbage smear comes after many Harris allies have described Trump’s supporters as fascists and Nazis.\nThe Washington Post did not mention the potential split with the Harris campaign but noted:\nDemocrats were not fully united in defending Biden late Tuesday night.\nAsked about Biden’s comments on CNN, Josh Shapiro — the Democratic governor of Pennsylvania, a critical swing state for Harris — did not dispute that Biden had disparaged Trump supporters.\n“I had not heard that until now … so I’m kind of giving you my fresh reaction to it,” Shapiro said. “I would never insult the good people of Pennsylvania or any Americans even if they chose to support a candidate that I didn’t support.”\nJon Favreau, a progressive closely aligned with Harris and former President Barack Obama, tried to distance the Harris campaign from Biden:",
         "2024-10-29",
         "en"
        ],
        [
         "40",
         "Breitbart",
         "Watch Live: Donald Trump Holds Rally in Albuquerque, New Mexico",
         "Former President Donald Trump speaks to supporters at a rally in Albuquerque, New Mexico, on Thursday, October 31.\nFormer President Donald Trump speaks to supporters at a rally in Albuquerque, New Mexico, on Thursday, October 31.",
         "2024-10-31",
         "en"
        ],
        [
         "41",
         "Breitbart",
         "Nolte: Kimmel Spreads Disinformation to Voters on His Show -- Meme Guy Sentenced to Prison for Same",
         "In today’s edition of Democrats Sure Got It Good, the basement-rated Jimmy Kimmel took to the publicly funded airwaves Wednesday to urge Trump supporters to vote late, like next week Thursday or Friday. Because Election Day is Tuesday, doing so would void their vote.\nIn 2023, Douglass Mackey, the owner of the “Ricky Vaughn” Twitter account, was sentenced to seven months in prison for doing the exact same thing — spreading disinformation in 2016 to Hillary Clinton supporters about how to vote and doing so in a way that would ensure their vote wasn’t counted:\nAs proven at trial, by 2016, Mackey had established an audience on Twitter with approximately 58,000 followers. A February 2016 analysis by the MIT Media Lab ranked Mackey as one of the most significant influencers of the then-upcoming presidential election. Between September 2016 and November 2016, Mackey conspired with other influential Twitter users and with members of private online groups to use social media platforms, including Twitter, to disseminate fraudulent messages that encouraged supporters of presidential candidate Hillary Clinton to “vote” via text message or social media which was legally invalid.\nIt should be noted that it was the Biden administration that arrested and prosecuted Mackey five years later in 2021.\nMackey’s defense was that he was just having fun (his “Ricky Vaughn” account was a favorite of mine). The whole thing was a joke, he argued. Well, after the FBI investigated the joke, Mackey was put on trial, found guilty, and sentenced to seven months in prison. The Feds put the guy through a three-year-and-counting wringer over a stupid shit-post.\nNow, let’s compare Mackey’s 58,000 Twitter followers to the 2.009 million viewers (in the most recent ratings I could find) Kimmel attracts. Kimmel’s audience is 35 times larger than Mackey’s ever was, and that doesn’t include the people who watch Kimmel’s clips online.\nNevertheless, here’s what Kimmel told Kamala Harris supporters Wednesday night: “Vote early, vote early. If you can’t vote early, vote on time.”\nAnd here’s what Democrat Privilege allowed Kimmel to say to Trump supporters: “If you want to vote for Trump, vote late, vote very late. Do your voting on Thursday or maybe Friday.”\nMeaning next week Thursday and Friday. Election Day is Tuesday.\nYes, Kimmel was joking.\nBut so was Mackey.\nKimmel is allowed to run around in blackface without consequence. He’s a Democrat.\nKimmel is allowed to use the N-word without consequence. He’s a Democrat.\nKimmel is a ratings failure who’s still on the air. He’s a Democrat.\nJohn Nolte’s first and last novel, Borrowed Time, is winning five-star raves from everyday readers. You can read an excerpt here and an in-depth review here. Also available in hardcover and on Kindle and Audiobook.",
         "2024-10-31",
         "en"
        ],
        [
         "42",
         "Breitbart",
         "Dem Gov. Shapiro on Biden 'Garbage' Remark: I Wouldn't Say That, Shouldn't Attack Voters",
         "On Tuesday’s broadcast of CNN’s “The Source,” Pennsylvania Gov. Josh Shapiro (D) reacted to President Joe Biden’s comments about supporters of 2024 Republican presidential candidate former President Donald Trump by saying that Biden’s words are “certainly not words that I would choose, and I think it’s important that we remain focused on the contrast between Kamala Harris and Donald Trump and not attacking supporters of either candidate.”\nShapiro said that he had not heard the comments until that very moment, “So, I’m kind of giving you my fresh reaction to it. I would never insult the good people of Pennsylvania or any Americans, even if they chose to support a candidate that I didn’t support. I think the real issue here is Donald Trump and his inability to simply say comments like that are wrong, to simply stand up for his fellow Americans. He is incapable of doing that.”\nHost Kaitlan Collins then asked Shapiro if he thinks Biden should clarify his remarks.\nShapiro responded, “Well, I think President Biden’ll decide what he wants to say. It’s certainly not words that I would choose, and I think it’s important that we remain focused on the contrast between Kamala Harris and Donald Trump and not attacking supporters of either candidate.”\nFollow Ian Hanchett on Twitter @IanHanchett",
         "2024-10-29",
         "en"
        ],
        [
         "43",
         "Breitbart",
         "Breitbart Business Digest: Kamala Harris’s Economic Spin Shattered by October Jobs Bust",
         "October’s Jobs Disaster Undermines Harris’s Economic Claims\nThe economy delivered some rough justice to the campaign of Kamala Harris on Friday in the form of the monthly jobs report.\nHarris has inherited from Joe Biden the habit of claiming Donald Trump bears responsibility for the job losses that the economy suffered during the pandemic. Biden won the White House arguing that what he said was Trump’s mishandling of the pandemic had wrecked the economy—even though the economy was recovering much faster than anyone not named Larry Kudlow thought possible.\nWhat happened next is a story we’ve told many times before. After running on the idea that the economy was in ruins while Trump was president, Biden could not let the economy continue to recover without significant additional stimulus. So, his administration attempted to push through trillions of dollars of new spending under the slogans the American Rescue Plan, the Bipartisan Infrastructure Law, the Build Back Better Act, and the American Families Plan.\nFortunately, Biden’s larger ambitions were thwarted and only a fraction of the dreamed-of expenditures were enacted into law. But the results were bad enough: the worst inflation in forty years, soaring interest rates, the least affordable housing market in generations, and a crisis of confidence in our economy that even full employment and several quarters of rapid growth could not cure.\nHarris’s Misguided Attack on Trump’s Manufacturing Record\nIt never really made much sense for the Democrats to complain about the pandemic job losses. The extended lockdowns and school closures many on the American left supported would have resulted in even worse economic outcomes. The U.S. economy recovered much faster than many other developed economies, in part because of the measures enacted during Trump’s presidency. Neither Biden nor Harris has ever explained what measures they might have taken that would have decreased the impact of the pandemic.\nNot surprisingly, the Harris campaign was never going to let historical accuracy or economic logic stand in the way of attacking her rival for the White House. Harris took aim at Trump’s record on manufacturing in particular, claiming that during the Trump years the U.S. economy lost hundreds of thousands of manufacturing jobs. Harris also frequently claimed that the Biden policies had led to a boom in manufacturing.\nAt a rally in Michigan last month, Harris said, “America lost nearly 200,000 manufacturing jobs” under Trump.\nIn reality, the economy had 178,000 fewer manufacturing jobs when Trump left office in January of 2021 than when his presidency began. But prior to the pandemic, manufacturing employment had grown by over 430,000 jobs while Trump was president. And from the depths of the pandemic closures in 2020, the economy added back 769,000 manufacturing jobs in just the last few months of Trump’s presidency.\nUnder Biden and Harris, manufacturing employment did not recover to the pre-pandemic Trump level until the summer of 2022. Shortly afterward, growth in manufacturing jobs fizzled out. At its peak under Biden-Harris, the manufacturing sector employed 12.95 million, just 126,000 more than under Trump’s peak.\nAt that Michigan rally, Harris also claimed that manufacturing job losses had already begun before the pandemic struck. When asked by CBS News to back up this claim, a spokesperson for the Harris campaign pointed to a decline of 48,000 manufacturing jobs from January 2019 and February 2020.\nIronically, this figure almost matches the jobs lost in manufacturing just last month. According to the Bureau of Labor Statistics, the economy shed 46,000 manufacturing jobs in October. This was the third consecutive month of jobs lost in the manufacturing sector, bringing the three-month total to 78,000. The economy has lost manufacturing jobs in seven of the last 12 months and is down 31,000 from last October.\nBlame It on the Rain\nThe Harris campaign has been quick to dismiss the jobs numbers for October on the grounds that they were likely impacted by the hurricanes and the ongoing Boeing strike. While both are true, the political party that blamed Trump for the results of an exogenous pandemic cannot so easily ask voters to ignore the effects of weather, especially when we have no idea how many jobs the hurricanes may have cost.\nYou live by the exogenous variable sword, you die by the exogenous variable sword. And remember that the estimates of more than 100,000 jobs included estimates of hurricane and strike effects. In other words, we fell well short of expectations even with the strike and hurricanes included.\nIn any case, the Institute for Supply Management‘s survey of the manufacturing sector showed that activity contracted for the seventh consecutive month and has contracted in all but one month for two years; so, this is not just an anomalous report that can be swept aside. Production dropped to the weakest reading since April of 2021. Demand remains “subdued,” according to ISM, and companies show an unwillingness to invest in capital and inventory for fear of a resurgence of inflation or other policy errors.\nHarris, Biden, and their allies in the legacy media have tried nonstop for three years to convince Americans that the economy is healthier than opinion polls and consumer surveys indicate. Friday’s jobs numbers make it much harder for Harris to argue that Democrats will be effective stewards of the U.S. economy.",
         "2024-11-01",
         "en"
        ],
        [
         "44",
         "Breitbart",
         "Harris: Trump's Trans Inmates Ads Have 'Misinformation' and Only 'Relate to Two People' and He Has the Same Policies",
         "On Tuesday’s broadcast of New York’s Power 105.1’s “The Breakfast Club,” 2024 Democratic presidential candidate Vice President Kamala Harris stated that the ads run by her Republican opponent, former President Donald Trump about her views on taxpayer-funded sex change surgeries for inmates “relate to two people,” and he’s hitting her with “a bunch of disinformation and misinformation on this. And he’s living in a glass house, because the policies he’s speaking about in terms of those surgeries were also his policies.”\nCo-host Charlamagne Tha God asked, “[T]he reason I’m stressing that I’m voting for you on November 5 is because Trump has been running these ads with myself and Envy in them, these anti-trans ads, without our permission. How do we combat that?”\nCo-host DJ Envy then asked, “Can we?”\nHarris responded, “Well, yes. Look, truth is always going to prevail over the misinformation and the lies. But it takes work, right? And so, having this conversation right now so all your listeners know. But there is a lot of misinformation and disinformation, because they don’t actually want to talk about the truth, because their truth is a failing truth. And so, yeah, we’ve got to keep reminding folks of the reality, which is I am blessed and honored to have your support and the support of so many communities and individuals who are — their names are known and some names your listeners may not know, but they are leaders in their community.”\nEnvy then followed up, “I wanted to ask about those trans ads. In the ads, he’s saying that Kamala Harris wants to spend taxpayers’ money for sex changes in jails. He’s spent millions and millions of dollars on — like Charlamagne said, having him and myself in that. How do you answer that, for people that don’t know, and what is the real news when it comes to that?”\nHarris answered, “Well, first of all, to your point, he has spent tens of millions of dollars trying to hit me with a bunch of disinformation and misinformation on this. And he’s living in a glass house, because the policies he’s speaking about in terms of those surgeries were also his policies. And the reality of it is that, also, those ads relate to two people, versus the fact that he wants to get rid of the Affordable Care Act, which would impact 45 million people, he wants to get rid of our $35-a-month cap on insulin, … he wants to take away health care through Medicare, and he wants to distract from the fact that he actually — not only does he have a plan on this, versus no plan on anything else, but his plan is to get rid of healthcare coverage for the most needy.”\nFollow Ian Hanchett on Twitter @IanHanchett",
         "2024-10-30",
         "en"
        ],
        [
         "45",
         "Breitbart",
         "Jennifer Lopez Smears Trump as ‘Biggest Adversary America Has Internally Ever Had’ at Kamala Rally",
         "Hollywood star Jennifer Lopez launched a wild smear against former President Donald Trump on Thursday, calling him “the biggest adversary America has internally ever had.”\nJennifer Lopez — who is the former girlfriend of Sean “Diddy” Combs — appeared alongside Kamala Harris at a rally in Las Vegas, Nevada, where she played the race card by trashing Trump as a bigot while failing to list one accomplishment that would qualify Kamala Harris for the White House.\nInstead, she attempted to rally Puerto Ricans in Nevada around Kamala Harris by rehashing comedian Tony Hinchliffe’s “garbage” joke from Sunday.\n“I know what that can feel like and I wouldn’t do it to my worst enemy, or even when facing the biggest adversary I think America has internally ever had,” she said. “But over Kamala Harris’ entire career, she has proven to us who she is. She has shown up for us every day, for the people. And it’s time for us to show up for her.”\nLopez failed to mention Kamala Harris’ role in sending consumer prices skyrocketing to record levels, forcing tens of millions of American households to scrounge in order to afford groceries, rent, and insurance. She also omitted Kamala Harris’ responsibility for the disaster at the southern border, which has resulted in an unprecedented tidal wave of illegal immigration that has flooded cities around the country.\nIn her appeal to Nevada voters, Lopez relied on vague, feel-good emotions to sell Kamala Harris. Later, Lopez added: “You can’t even spell American without Rican.”\nJennifer Lopez’s endorsement of Kamala Harris is already provoking a backlash as numerous commenters have noted that she once dated Sean “Diddy” Combs, who is currently in prison as he faces a mountain of sexual assault charges relating to his Hollywood “freak off” orgies.\nFollow David Ng on Twitter @HeyItsDavidNg. Have a tip? Contact me at dng@breitbart.com",
         "2024-11-01",
         "en"
        ],
        [
         "46",
         "Breitbart",
         "2024 Presidential Election Articles - Breitbart",
         "Jimmy Kimmel took to the publicly funded airwaves Wednesday to urge Trump supporters to vote late, like next week Thursday or Friday.\nJimmy Kimmel took to the publicly funded airwaves Wednesday to urge Trump supporters to vote late, like next week Thursday or Friday.\nA massive number of Georgians who did not participate in the 2020 presidential election recently voted early as former President Donald Trump (R) and Vice President Kamala Harris (D) battle for the White House, an analysis shows.\nDemocrats appear to believe President Joe Biden’s “garbage” smear of Trump supporters could ruin Vice President Kamala Harris’s chances of winning the election.\nHow did it come to this? Dismayed Democrats are reportedly asking each other this simple question six days out from the election as Vice President Kamala Harris continues to stumble eagerly from one disappointment to the next on the campaign trail.\nRep. Alexandria Ocasio-Cortez (D-NY) gushed over Second Gentleman Doug Emhoff on Wednesday night applauding him as the very model of modern masculinity at a campaign event for his wife Kamala Harris.\nFormer President Donald Trump has a two point lead in a hypothetical two-way race with Vice President Kamala Harris in Pennsylvania (49-47 percent), a seven point swing since September 16, Quinnipiac survey found Wednesday.\nLiberal icon and feminist author Naomi Wolf endorsed former President Donald Trump, highlighting how he was “being more inclusive.”\nZhu Fenglian, a spokeswoman for China’s Taiwan Affairs Office, said on Wednesday that Taiwan could be “discarded” if Donald Trump returns to the White House and implements his America First foreign policy.\nAngel Mom Patty Morin, whose 37-year-old daughter Rachel Morin was murdered allegedly by an illegal alien MS-13 gang member, has penned an open letter to Vice President Kamala Harris asking her to immediately close the United States-Mexico border and start deporting every illegal alien who entered the U.S. on her watch.\nFormer President Donald Trump rode in a garbage truck on Wednesday to his Wisconsin rally in response to President Joe Biden trashing millions of Americans as “garbage.”\nFormer President Bill Clinton said the “economy was better” under former President Donald Trump during a rally for Vice President Kamala Harris in Muskegon Heights, Michigan, adding that people should still vote for Harris.\nFormer President Donald Trump spoke about how the Los Angeles Times and Washington Post had declined to endorse Vice President Kamala Harris, adding that they were sending a message that she was “no good.”\nPollster Frank Luntz said Wednesday on CNN’s “News Central” that President Joe Biden’s garbage comment could have a “huge” impact and might be the “turning point” that leads to former President Donald Trump’s victory in the election.\nFormer President Donald Trump encouraged voters in North Carolina to “turn the page forever” on the “failed and corrupt” Biden-Harris administration.\nDemocratic election law specialist Marc Elias is the topic on the last pre-election episode of “The Drill Down” with Peter Schweizer.\n“You can’t be president if you hate the American people,” former President Donald Trump said during a rally in North Carolina.\nCNN senior political data reporter Harry Enten said Wednesday on “CNN News Central” that former President Donald Trump may defeat Vice President Kamala Harris in the presidential election next week because just 28% of Americans think the country is on the right track.\nFox News contributor Kellyanne Conway said Wednesday on “The Faulkner Focus” that President Joe Biden calling supporters of former President Donald Trump garbage was a “reflection” of what Democratic presidential nominee Vice President Kamala Harris also believes.\nWhite House Press Secretary Karine Jean-Pierre denied that President Joe Biden views Donald Trump’s supporters as garbage, contradicting Biden’s remarks that sent Vice President Kamala Harris’s campaign into damage control.\nRepresentative Maxwell Frost (D-FL) claimed Wednesday during an appearance on “CNN News Central” that President Joe Biden misspoke when he called supporters of former President Donald Trump garbage because he was “very angry.”\nThe far-left Washington Post has now lost 250,000 subscribers, which represent ten percent of its customer base.\nFar-left former soccer star Megan Rapinoe is predicting a “grim” and “violent reality” if Donald Trump wins the 2024 election.\nWith only three days to go to vote early in Nevada, Republican turnout continues to crush Democrats.\nAstronaut Buzz Aldrin endorsed Donald Trump, adding that the U.S. “saw a revitalized interest in space” under his first administration.\nPennsylvania Senate GOP nominee Dave McCormick during Wednesday’s broadcast of Fox News Channel’s “Fox & Friends” called on President Joe Biden to apologize for saying the supporters of former President Donald Trump were “garbage.”\nWhoopi Goldberg told her co-hosts Wednesday on ABC’s “The View” that it turned out former Secretary of State and then-Democratic nominee Hillary Clinton was right when she called supporters of Donald Trump “deplorables.”\nFormer President Donald Trump reacted to President Joe Biden calling his supporters “garbage,” saying he thought it was even worse than former Secretary of State Hillary Clinton calling them “deplorables.”\nFormer President Donald Trump has the slightest lead over Vice President Kamala Harris in battleground Michigan, according to a Suffolk/USA Today survey, released just days ahead of the election.\nZoraida Buxó, one of Puerto Rico’s non-partisan shadow senators, officially endorsed former President Donald Trump on Tuesday night.\nA private company in China with a name that riffs on “Trump Victory” surged by ten percent in value on Monday and Tuesday, even as blue-chip stocks on the Chinese market slid by up to one percent.\nVice President Kamala Harris claimed on Wednesday that President Joe Biden clarified his statement that Trump supporters are “garbage” and disagreed with demonizing “people based on who they vote for.”\nDemocrats have been more than willing to name-call over the years, smearing Trump supporters as racist, xenophobic, and the “worst people in the world.”\nSen. JD Vance (R-OH) blasted Silicon Valley investor and Vice President Kamala Harris supporter Vinod Khosla, as he doubled down on President Biden calling Trump supporters “garbage.”\nThe White House released a transcript of President Joe Biden’s remarks in which he called Trump supporters “garbage,” but added an apostrophe to “supporters” and two em-dashes to make it sound like he did not mean all Trump supporters but just one.\nWASHINGTON — Kamala Harris has Bruce Springsteen, Taylor Swift and Beyoncé. Donald Trump has Kid Rock, Waka Flocka Flame and Hulk Hogan.\nKamala Harris and Democratic Party leaders should celebrate the transgender ideology, rather than hide their views from voters, says Masha Gessen, a pro-transgender activist who is also a New York Times columnist.\nFormer CNN political commentator Chris Cillizza said that President Joe Biden’s comments branding Trump supporters as “garbage” is an “absolute nightmare” for Kamala Harris’ presidential campaign.\nLeftwing Washington outlet Politico regularly carries water for Democrats, but Tuesday night they hauled President Joe Biden’s “garbage,” attempting to cover up the president’s attack on Donald Trump’s supporters by disingenuously chopping up his statement.\nThe Trump campaign said that Vice President Kamala Harris lied, name-called, and clung to the past in her closing argument speech “to avoid admitting the truth” about her and President Joe Biden’s “terrible policies.”\nWASHINGTON, DC – Vice President Kamala Harris brought a dark and gloomy tone to her highly partisan closing argument speech on the Ellipse Tuesday night, which was delivered to an audience clearly culled from the Democrat base.",
         "2024-11-02",
         "en"
        ],
        [
         "47",
         "Breitbart",
         "Police Laud Homeowner Who Shot Intruder Multiple Times",
         "Fort Worth Police Department information officer (IO) Tracy Carter lauded a homeowner who shot an alleged intruder saying, “The homeowner did what any of us would have done.”\nWFAA reported that the incident occurred just after midnight Wednesday and that the homeowner told the alleged intruder to leave but he did not listen.\nThe homeowner’s wife heard dogs barking and woke her husband to let him know something was going on. He retrieved his gun about the same time that the alleged intruder, 35-year-old Jeremy Black, swung a plank and shattered the homeowner’s daughter’s bedroom window.\nBlack then allegedly tried to make entry through the home’s kitchen door, which is when the homeowner opened fire.\nFort Worth IO Carter said, “The suspect was taken to the hospital he was shot a couple of times…This guy is lucky to be alive. The homeowner did what any of us would have done, we’d wanna protect our family.”\nThe homeowner’s wife told NBC 5, “It feels bad that we had to do this to protect ourselves…But we feel good in a way also because if my husband didn’t do that, something else would have happened.”\nAWR Hawkins is an award-winning Second Amendment columnist for Breitbart News and the writer/curator of Down Range with AWR Hawkins, a weekly newsletter focused on all things Second Amendment, also for Breitbart News. He is the political analyst for Armed American Radio, a member of Gun Owners of America, a Pulsar Night Vision pro-staffer, and the director of global marketing for Lone Star Hunts. He was a Visiting Fellow at the Russell Kirk Center for Cultural Renewal in 2010 and has a Ph.D. in Military History. Follow him on Instagram: @awr_hawkins. You can sign up to get Down Range at breitbart.com/downrange. Reach him directly: awrhawkins@breitbart.com.",
         "2024-11-01",
         "en"
        ],
        [
         "48",
         "Breitbart",
         "Exclusive -- Rob Bresnahan: GOP Sees More Low-Propensity Voters Come Out than Dems in PA",
         "Republicans in Pennsylvania are seeing a higher percentage of low-propensity voters turn out and vote than Democrats are, Rob Bresnahan, Republican candidate for Congress in Pennsylvania’s 8th Congressional District, said during an interview on Breitbart News Daily.\nBresnahan said the GOP currently has about 17 percent participation from low-propensity voters in the state — people who did not vote in 2020 and/or 2022 — compared to the Democrats, who are seeing 11 percent participation from that same group.\nThe congressional hopeful said the trends are good, and described the energy on the ground as “shocking.”\n“The response that we’ve had at the door — we’ve knocked over 30,000 doors as a campaign. We just had Leader Scalise here on Wednesday the 30th, and the excitement — I mean, we had an outing, a small little rally that turned into 200 people at a manufacturing facility in the district. But even in downtown Scranton, where it is traditionally a darker blue area, people are just fed up,” he said, explaining that they are “fed up” with the economy and with “paying too much for everything.”\n“They’re concerned about the crime and they’re concerned about the southern border. So all of these issues are really strong for a challenger candidate. And this is an area that Donald Trump won in 2016. He won it in 2020, and he’s going to win it again in 2024, and we’re going to win as well. We’re going to expand that House majority from at least four to five,” he continued, describing this as a “must-win race for Republicans.”\n“This race could determine if Republicans have the majority in the House of Representatives,” he continued.\nHe emphasized the significance of low-propensity voters coming out for the GOP and said he believes the figures could be even higher due to a backlog of uncounted ballots.\nLISTEN:\n“Because of the early voting and the month-long activity of voting in Pennsylvania, now there was approximately 12,000 to 15,000 ballots that people have either dropped off at drop boxes or have returned in the mail after they’ve requested their mail ballot that the election bureau just hasn’t even gotten to a chance to scan in the privacy seal or the privacy envelope, so they are just sitting at the election bureau right now, and they just finally had a chance last night to actually scan these voters in,” he said.\n“And you’re saying that to get 17 percent of the Republicans who haven’t voted in the last two elections is really high, at least it’s higher than the Democrats, who have only gotten 11 percent of their registered Democrats. Is that the conclusion?” host Mike Slater asked.\n“These are the people that are just sick and tired that have just probably been sitting on the sidelines. Maybe they’re first-time voters, and they’re saying, ‘Listen, my voice needs to count here. We can’t continue down the path that we are on. Something is wrong. This is broken, and it’s time for a change,'” Bresnahan responded.\n“And these are the people getting up off the sidelines and coming out and casting their votes even — because they want to make sure it counts,” he added.\nBreitbart News Daily airs on SiriusXM Patriot 125 from 6:00 a.m. to 9:00 a.m. Eastern.",
         "2024-11-01",
         "en"
        ],
        [
         "49",
         "Breitbart",
         "Rattled Kamala Harris Turns on Nevada Rally Hecklers with Rambling Scold",
         "A clearly flustered Vice President Kamala Harris turned on protesters who heckled her during a Nevada rally Thursday, resorting to another well-worn display of performative hyperbole to counter them.\n“You know what? Let me say something about this,” Harris said amid protest uproar mid-speech at the Reno event attended by a crowd of some 6,000 supporters.\n“We are here because we are fighting for a democracy,” the vice president obliquely declared as nobody said it was at risk. “Fighting for a democracy.\n“And understand the difference here, understand the difference here, moving forward, moving forward, understand the difference here,” Harris continued as the heckler voices and their message was drowned out.\n“What we are looking at is a difference in this election – let’s move forward and see where we are because on the issue, for example, freedom of choice …” the Democratic nominee continued as the heckling caused her to pause and lose track yet again.\n“That’s OK. That’s alright. That’s OK,” Harris said as her supporters sought to drown the protest voices.\nHours earlier, during a speech in Phoenix, the Democratic nominee for president was interrupted multiple times by anti-Israel protesters, the New York Post reports.\nRELATED: Kamala Yells at Protesters “I Am Speaking!” After Saying She’s Fighting for the Right to Be Heard\nC-SPAN“Hey guys, you know what? Here’s the thing …“ Harris said, addressing the demonstrators.\n“Let’s talk for a moment about Gaza,” she continued. “We all want this war to end and to get the hostages out, and I will work on it full-time when I am elected president.”\nAs Breitbart News reported, Harris has made “word salads” in her speeches before, where she has mentioned “odd phrases and explanations for simple ideas.”\nShe has also resorted to the process in sit down addresses adding unintelligible mixtures of seemingly random words, phrases and observations.\n“IT’S TWO LETTERS”: VP Kamala Harris Breaks Down Artificial Intelligence in Her Infinite Wisdom\nWhite HouseIn March 2022, during a speech in Louisiana, Harris marveled at the “significance of the passage of time.”\nDuring a trip to Poland, Harris appeared to stumble over her words and stated she was standing in “the northern flank.”\n“I am here, standing here on the northern flank, on the eastern flank, talking about what we have in terms of the eastern flank and our NATO allies, and what is at stake at this very moment,” Harris said at the time.\n“What is at stake this very moment are some of the guiding principles around the NATO alliance.”",
         "2024-11-01",
         "en"
        ]
       ],
       "shape": {
        "columns": 5,
        "rows": 1522
       }
      },
      "text/html": [
       "<div>\n",
       "<style scoped>\n",
       "    .dataframe tbody tr th:only-of-type {\n",
       "        vertical-align: middle;\n",
       "    }\n",
       "\n",
       "    .dataframe tbody tr th {\n",
       "        vertical-align: top;\n",
       "    }\n",
       "\n",
       "    .dataframe thead th {\n",
       "        text-align: right;\n",
       "    }\n",
       "</style>\n",
       "<table border=\"1\" class=\"dataframe\">\n",
       "  <thead>\n",
       "    <tr style=\"text-align: right;\">\n",
       "      <th></th>\n",
       "      <th>source</th>\n",
       "      <th>title</th>\n",
       "      <th>content</th>\n",
       "      <th>date</th>\n",
       "      <th>language</th>\n",
       "    </tr>\n",
       "  </thead>\n",
       "  <tbody>\n",
       "    <tr>\n",
       "      <th>0</th>\n",
       "      <td>Breitbart</td>\n",
       "      <td>GOP: WH May Have Illegally Altered Biden's 'Ga...</td>\n",
       "      <td>House Republicans say the Biden-Harris White H...</td>\n",
       "      <td>2024-10-31</td>\n",
       "      <td>en</td>\n",
       "    </tr>\n",
       "    <tr>\n",
       "      <th>1</th>\n",
       "      <td>Breitbart</td>\n",
       "      <td>Mavericks Principal Owners Donate $100 Million...</td>\n",
       "      <td>Miriam Adelson, the principal owner of the NBA...</td>\n",
       "      <td>2024-10-30</td>\n",
       "      <td>en</td>\n",
       "    </tr>\n",
       "    <tr>\n",
       "      <th>2</th>\n",
       "      <td>Breitbart</td>\n",
       "      <td>Fact Check: Harris Campaign Twists Trump Comme...</td>\n",
       "      <td>CLAIM: Vice President Kamala Harris’s campaign...</td>\n",
       "      <td>2024-11-01</td>\n",
       "      <td>en</td>\n",
       "    </tr>\n",
       "    <tr>\n",
       "      <th>3</th>\n",
       "      <td>Breitbart</td>\n",
       "      <td>Harris Co-Chair: She's Different from Biden, H...</td>\n",
       "      <td>On Tuesday’s broadcast of CNN’s “Laura Coates ...</td>\n",
       "      <td>2024-10-29</td>\n",
       "      <td>en</td>\n",
       "    </tr>\n",
       "    <tr>\n",
       "      <th>4</th>\n",
       "      <td>Breitbart</td>\n",
       "      <td>Quinnipiac Poll: Trump Takes Lead in Pennsylvania</td>\n",
       "      <td>Former President Donald Trump has a two point ...</td>\n",
       "      <td>2024-10-30</td>\n",
       "      <td>en</td>\n",
       "    </tr>\n",
       "    <tr>\n",
       "      <th>...</th>\n",
       "      <td>...</td>\n",
       "      <td>...</td>\n",
       "      <td>...</td>\n",
       "      <td>...</td>\n",
       "      <td>...</td>\n",
       "    </tr>\n",
       "    <tr>\n",
       "      <th>1517</th>\n",
       "      <td>Guardian</td>\n",
       "      <td>US elections 2024: seven key House races to watch</td>\n",
       "      <td>Much attention has been paid to the rematch be...</td>\n",
       "      <td>2024-06-11</td>\n",
       "      <td>en</td>\n",
       "    </tr>\n",
       "    <tr>\n",
       "      <th>1518</th>\n",
       "      <td>Guardian</td>\n",
       "      <td>Michigan congresswoman Rashida Tlaib declines ...</td>\n",
       "      <td>Michigan congresswoman Rashida Tlaib declined ...</td>\n",
       "      <td>2024-11-02</td>\n",
       "      <td>en</td>\n",
       "    </tr>\n",
       "    <tr>\n",
       "      <th>1519</th>\n",
       "      <td>Guardian</td>\n",
       "      <td>Donald Trump says he will meet Ukrainian presi...</td>\n",
       "      <td>Donald Trump said he would meet with Ukrainian...</td>\n",
       "      <td>2024-09-26</td>\n",
       "      <td>en</td>\n",
       "    </tr>\n",
       "    <tr>\n",
       "      <th>1520</th>\n",
       "      <td>Guardian</td>\n",
       "      <td>Middle East crisis live: ‘apocalyptic’ north G...</td>\n",
       "      <td>Deadly Israeli strikes on 'apocalyptic' north ...</td>\n",
       "      <td>2024-11-02</td>\n",
       "      <td>en</td>\n",
       "    </tr>\n",
       "    <tr>\n",
       "      <th>1521</th>\n",
       "      <td>Guardian</td>\n",
       "      <td>Newcastle United 1-0 Arsenal: Premier League –...</td>\n",
       "      <td>Eddie Howe’s turn on TNT. “I’m tired, actually...</td>\n",
       "      <td>2024-11-02</td>\n",
       "      <td>en</td>\n",
       "    </tr>\n",
       "  </tbody>\n",
       "</table>\n",
       "<p>1522 rows × 5 columns</p>\n",
       "</div>"
      ],
      "text/plain": [
       "         source                                              title  \\\n",
       "0     Breitbart  GOP: WH May Have Illegally Altered Biden's 'Ga...   \n",
       "1     Breitbart  Mavericks Principal Owners Donate $100 Million...   \n",
       "2     Breitbart  Fact Check: Harris Campaign Twists Trump Comme...   \n",
       "3     Breitbart  Harris Co-Chair: She's Different from Biden, H...   \n",
       "4     Breitbart  Quinnipiac Poll: Trump Takes Lead in Pennsylvania   \n",
       "...         ...                                                ...   \n",
       "1517   Guardian  US elections 2024: seven key House races to watch   \n",
       "1518   Guardian  Michigan congresswoman Rashida Tlaib declines ...   \n",
       "1519   Guardian  Donald Trump says he will meet Ukrainian presi...   \n",
       "1520   Guardian  Middle East crisis live: ‘apocalyptic’ north G...   \n",
       "1521   Guardian  Newcastle United 1-0 Arsenal: Premier League –...   \n",
       "\n",
       "                                                content        date language  \n",
       "0     House Republicans say the Biden-Harris White H...  2024-10-31       en  \n",
       "1     Miriam Adelson, the principal owner of the NBA...  2024-10-30       en  \n",
       "2     CLAIM: Vice President Kamala Harris’s campaign...  2024-11-01       en  \n",
       "3     On Tuesday’s broadcast of CNN’s “Laura Coates ...  2024-10-29       en  \n",
       "4     Former President Donald Trump has a two point ...  2024-10-30       en  \n",
       "...                                                 ...         ...      ...  \n",
       "1517  Much attention has been paid to the rematch be...  2024-06-11       en  \n",
       "1518  Michigan congresswoman Rashida Tlaib declined ...  2024-11-02       en  \n",
       "1519  Donald Trump said he would meet with Ukrainian...  2024-09-26       en  \n",
       "1520  Deadly Israeli strikes on 'apocalyptic' north ...  2024-11-02       en  \n",
       "1521  Eddie Howe’s turn on TNT. “I’m tired, actually...  2024-11-02       en  \n",
       "\n",
       "[1522 rows x 5 columns]"
      ]
     },
     "execution_count": 15,
     "metadata": {},
     "output_type": "execute_result"
    }
   ],
   "source": [
    "# 1) Set a seed for langdetect to ensure reproducibility\n",
    "DetectorFactory.seed = 0\n",
    "\n",
    "# 2a) Simplified preprocessing: only remove non-alphabetic characters\n",
    "def preprocess_text_simple(text):\n",
    "    text = re.sub(r'[^a-zA-Z\\s]', '', text)  # Remove non-alphabetic characters\n",
    "    text = re.sub(r'\\s+', ' ', text)  # Normalize whitespace\n",
    "    return text.strip()\n",
    "\n",
    "# 2b) Check if the text is non-language (e.g., numbers, symbols only)\n",
    "def is_non_language_text(text):\n",
    "    if re.match(r'^[^a-zA-Z]*$', text):  # Check if text has no alphabetic characters\n",
    "        return True\n",
    "    return False\n",
    "\n",
    "# 3a) Function to get langdetect prediction\n",
    "def get_langdetect_prediction(text):\n",
    "    try:\n",
    "        # Directly use text without preprocessing for efficiency\n",
    "        if len(text) < 10 or is_non_language_text(text):\n",
    "            return \"unknown\"\n",
    "        lang = langdetect_detect(text)\n",
    "        return lang\n",
    "    except LangDetectException:\n",
    "        return \"unknown\"\n",
    "\n",
    "# 3b) Function to get langid prediction\n",
    "def get_langid_prediction(text):\n",
    "    try:\n",
    "        lang, _ = langid_classify(text)\n",
    "        if len(text) < 10 or is_non_language_text(text):\n",
    "            return \"unknown\"\n",
    "        return lang\n",
    "    except Exception:\n",
    "        return \"unknown\"\n",
    "\n",
    "# 4) Function to calculate majority vote for each language\n",
    "def calculate_majority_vote(predictions):\n",
    "    vote_counts = {}\n",
    "    for lang in predictions:\n",
    "        if lang in vote_counts:\n",
    "            vote_counts[lang] += 1\n",
    "        else:\n",
    "            vote_counts[lang] = 1\n",
    "    return vote_counts\n",
    "\n",
    "# 5) Parallel processing for efficiency with limited workers\n",
    "def parallel_detection(text):\n",
    "    with ThreadPoolExecutor(max_workers=4) as executor:\n",
    "        results = list(executor.map(lambda func: func(text), \n",
    "                                    [get_langdetect_prediction, get_langid_prediction]))\n",
    "    return results\n",
    "\n",
    "# 6) Caching function for repeated inputs\n",
    "@lru_cache(maxsize=500)\n",
    "def get_cached_language(text):\n",
    "    return combined_language_detection(text)\n",
    "\n",
    "# 7) Combined majority voting language detection function\n",
    "def combined_language_detection(text):\n",
    "    # Check if the text is non-language (e.g., numbers, symbols only)\n",
    "    if is_non_language_text(text):\n",
    "        return \"unknown\"\n",
    "    \n",
    "    # Run the detectors in parallel for efficiency\n",
    "    predictions = parallel_detection(text)\n",
    "    \n",
    "    # Calculate majority vote for each language based on predictions\n",
    "    vote_counts = calculate_majority_vote(predictions)\n",
    "    \n",
    "    # Determine the language with the highest majority vote\n",
    "    final_language = max(vote_counts, key=vote_counts.get)\n",
    "    \n",
    "    # If \"unknown\" is the most common or if all detectors fail, return \"unknown\"\n",
    "    if final_language == \"unknown\" or vote_counts[final_language] <= 1:\n",
    "        return \"unknown\"\n",
    "    \n",
    "    return final_language\n",
    "\n",
    "# 8) Apply the cached function to each text in the DataFrame with a progress bar\n",
    "data_raw['language'] = [get_cached_language(text) for text in tqdm(data_raw['content'], desc=\"Language Detection\")]\n",
    "\n",
    "# 9) Display the DataFrame with detected languages\n",
    "data_raw"
   ]
  },
  {
   "cell_type": "code",
   "execution_count": 16,
   "metadata": {},
   "outputs": [
    {
     "data": {
      "application/vnd.microsoft.datawrangler.viewer.v0+json": {
       "columns": [
        {
         "name": "index",
         "rawType": "int64",
         "type": "integer"
        },
        {
         "name": "source",
         "rawType": "object",
         "type": "string"
        },
        {
         "name": "title",
         "rawType": "object",
         "type": "string"
        },
        {
         "name": "content",
         "rawType": "object",
         "type": "string"
        },
        {
         "name": "date",
         "rawType": "object",
         "type": "string"
        },
        {
         "name": "language",
         "rawType": "object",
         "type": "string"
        }
       ],
       "conversionMethod": "pd.DataFrame",
       "ref": "67afb95c-da8f-4bb8-954a-36dcacfa3b3e",
       "rows": [
        [
         "0",
         "Breitbart",
         "GOP: WH May Have Illegally Altered Biden's 'Garbage' Remark",
         "House Republicans say the Biden-Harris White House might have broken the law when they altered President Joe Biden’s remarks in the official transcript to imply he did not call Trump supporters “garbage.”\nBiden on Tuesday during a video call with Voto Latino in support of Vice President Kamala Harris’s presidential campaign said, “The only garbage I see floating out there is his supporters.”\nHowever, after facing immediate backlash from Republicans and even some Democrats, the White House claimed that Biden did not call Trump supporters “garbage,” but was instead referring to one Trump supporter — namely, comedian Tony Hinchliffe.\nThe White House released a transcript that reinforced that argument, adding an apostrophe to “supporters” to read “supporter’s,” and then adding an em-dash to make it seem like Biden had not completed his sentence.\nThe transcript said (emphasis added):\nThe only garbage I see floating out there is his supporter’s — his — his demonization of Latinos is unconscionable, and it’s un-American.\nHinchliffe, known for his off-color jokes, had performed at Trump’s Madison Square Garden rally on Sunday and had joked that Puerto Rico was a “floating island of garbage.”\nBiden also later posted on X that he was referring to Hinchliffe’s “demonization of Latinos.”\nAccording to House Republican Conference Chair Elise Stefanik (R-NY) and House Oversight Committee Chairman James Comer (R-KY), the White House’s addition of an apostrophe may have violated the Presidential Records Act.\nIn a letter to White House Counsel Edward Siskel, they demanded that the White House retain and preserve all documents and internal communications related to Biden’s statement and the release of the inaccurate transcript.\nThey also called on the White House to correct the transcript to reflect what Biden said. They said:\nPresident Biden’s vindictive words were unsurprising, given his previous statements regarding people who choose not to vote for his preferred candidate. Unsurprising too were the White House’s actions after he said them. Instead of apologizing or clarifying President Biden’s words, the White House instead sought to change them (despite them being recorded on video) by releasing a false transcript of his remarks. The move is not only craven, but it also appears to be in violation of federal law, including the Presidential Records Act of 1978.\n“White House staff cannot rewrite the words of the President of the United States to be more politically on message. Though President Biden’s relevance continues to diminish, his words continue to matter, even as they become increasingly divisive and erratic,” they added.\nFollow Breitbart News’s Kristina Wong on ”X”, Truth Social, or on Facebook.",
         "2024-10-31",
         "en"
        ],
        [
         "1",
         "Breitbart",
         "Mavericks Principal Owners Donate $100 Million to Republicans Despite Mark Cuban Claiming Trump Has 'Fascist Tendencies'",
         "Miriam Adelson, the principal owner of the NBA’s Dallas Mavericks, has put down $100 million on Donald Trump to win the 2024 presidential election. This is despite the caterwauling of minority owner and extreme left-wing advocate Mark Cuban, who has been all-in for Kamala Harris.\nCuban has jumped in front of every microphone he can find to push for the election of Kamala Harris. Still, the team for which he used to be the majority owner and is now a minority owner is apparently working to the contrary, according to Front Office Sports.\nAdelson has been a top Republican donor since inheriting her husband’s fortune. Casino magnate Sheldon Adelson was also a big GOP backer but passed away in 2021. Since then, his wife has kept the GOP faith and remained a top donor.\nMiriam Adelson, a doctor who specializes in substance addiction, bought out Mark Cuban’s majority ownership of the Mavericks in 2023. However, Cuban still owns a bit more than one-fourth of the team.\nThe two, though, could not be more different politically. Cuban, who recently said Trump “absolutely” has “fascist tendencies,” is a staunch left-winger. However, he also claims he has not donated to the Harris campaign despite being a loud mouthpiece for her.\nIt appears Cuban is unwilling to let political differences stand in the way of making a buck, or several billion of them.\nWhile Adelson is by far the biggest political donor for the GOP in the NBA, several other owners have also contributed hefty cash to politics.\nHouston Rockets owner Tilman Fertitta donated $420,000 to several PACs working for Trump’s second term. However, he also gave $13,200 to Harris PACs.\nMinnesota Lynx and Timberwolves owner Glen Taylor donated to the GOP, but it wasn’t to Trump. Taylor, who was himself a GOP state senator from Minnesota, donated $2,000 to Nikki Haley before she dropped out of the primary race.\nMeanwhile, Sixers Co-Owner David Blitzer also signed on with Haley, making a personal donation of the maximum of $3,300. But since Haley failed, he turned to Harris, giving $31,600 to a Harris PAC.\nMeanwhile, Indiana Pacers and Fever owner Herb Simon donated $100,000 to pro-Harris PACs.\nEven excluding Adelson, NBA owners have given a bit more to Trump ($424,650) than Harris ($274,800).\nFollow Warner Todd Huston on Facebook at: facebook.com/Warner.Todd.Huston, or Truth Social @WarnerToddHuston",
         "2024-10-30",
         "en"
        ],
        [
         "2",
         "Breitbart",
         "Fact Check: Harris Campaign Twists Trump Comment on Liz Cheney to Claim He Called for Her Execution",
         "CLAIM: Vice President Kamala Harris’s campaign implied former President Donald Trump called for Liz Cheney to be put before a firing squad.\nFACT CHECK: False. Trump’s comments on “guns trained on her face” were about Cheney stoking foreign wars without being willing to fight in their front lines.\nVice President Kamala Harris’s campaign took former President Donald Trump’s words out of context, to suggest that he was calling for Liz Cheney to be put before a firing squad.\nHer campaign posted a video of Trump speaking to Tucker Carlson on X/Twitter, with a caption that paraphrased him:\nLet’s put Liz Cheney with a rifle standing there with nine barrels shooting at her. Let’s see how she feels about it when the guns are trained on her face\nRather than suggesting she be executed, Trump was speaking about how neoconservatives are quick to send young Americans to fight overseas in war — which Trump has long opposed, particularly the Iraq and Afghanistan Wars championed by Cheney and her father, former Vice President Dick Cheney.\nTrump had also said: “They’re all war hawks when they’re sitting in Washington in a nice building saying Oh gee, let’s send 10,000 troops into the mouths of the enemy.”\nKaroline Leavitt, Trump Campaign National Press Secretary, blasted the Harris-Walz campaign:\nPresident Trump is 100% correct that warmongers like Liz Cheney are very quick to start wars and send other Americans to fight them, rather than go into combat themselves. This is the continuation of the latest fake media outrage days before the election in a blatant attempt to interfere on behalf of Kamala Harris.\nCheney herself tried to spread the lie, posting on X:\nThis is how dictators destroy free nations. They threaten those who speak against them with death. We cannot entrust our country and our freedom to a petty, vindictive, cruel, unstable man who wants to be a tyrant. #Womenwillnotbesilenced #VoteKamala\nAs Democrat operatives tired to spread the false claim, even Trump critic former Rep. Joe Walsh said Trump did not call for her to be put before a firing squad.\nHe posted on X:\nTrump did NOT call for Liz Cheney to be executed.\nThis is what’s so wrong with our politics today. Look, you know how I feel about Trump, and I’ve been out there every day for 2-3 months campaigning my ass off to help get @KamalaHarris elected, but this short clip is so deceptive. Trump is NOT calling for Liz Cheney to be executed in front of a firing line. He’s not. Listen to the entirety of what he said. In Trump’s typically stupid, ugly fashion, he’s trying to make a point about Cheney’s stance on war. But Aaron (who I like & respect), by posting ONLY this 11 second clip, makes it look like he’s calling for her to be executed. He’s not. He’s an utterly horrible human being who’s utterly unfit for office, but the truth should always matter. And the truth is that Trump is not calling for Liz Cheney to be executed. But…this 11 second clip will have a gazillion views, and the truth will have just a handful of views.\nBoth former Vice President Cheney and former Wyoming Republican Rep. Cheney has endorsed Harris, with the younger Cheney even campaigning on the trail for her.",
         "2024-11-01",
         "en"
        ],
        [
         "3",
         "Breitbart",
         "Harris Co-Chair: She's Different from Biden, He Didn't Have Problem of 'Lowering Costs'",
         "On Tuesday’s broadcast of CNN’s “Laura Coates Live,” Harris Campaign Co-Chair Mitch Landrieu stated that 2024 Democratic presidential candidate Vice President Kamala Harris differentiated herself from President Joe Biden “by saying, listen, I love the President, we did great work together, but I have different problems than he had, the most important of which is lowering costs for the American people. And I think she addressed it really very forthrightly and better tonight than she has in the past.”\nHost Laura Coates asked, “On that point of her trying to distinguish herself from Biden, was there a key moment in that speech that you think voters will connect to to suggest, yes, she will be different?”\nLandrieu answered, “Well, first of all, it was an incredible night. I was there, and there were 70,000 people there. … We were going to go to Madison Square Garden, but we couldn’t fit. So, we had to go there. It was just a huge turnout and it was exuberant and it was joyful and the environment in which she gave the speech was really uplifting and hopeful, which is what the speech was. It was a fairly detailed speech. She laid out, in clear detail, what the risks are of re-electing Donald Trump. She talked about the fact that, behind her, was the Resolute Desk, and, in seven days the people are going to decide whether she’s going to be sitting there or Donald Trump’s going to be sitting there and she reminded the public that Donald Trump has already talked about, out of his own mouth, spending his time talking about his enemies list, and the fact that she had a to-do list. And then she’s talked about how she is going to build an opportunity economy for all of us, not just some of us, and distinguished herself from Joe Biden by saying, listen, I love the President, we did great work together, but I have different problems than he had, the most important of which is lowering costs for the American people. And I think she addressed it really very forthrightly and better tonight than she has in the past.”\nFollow Ian Hanchett on Twitter @IanHanchett",
         "2024-10-29",
         "en"
        ],
        [
         "4",
         "Breitbart",
         "Quinnipiac Poll: Trump Takes Lead in Pennsylvania",
         "Former President Donald Trump has a two point lead in a hypothetical two-way race with Vice President Kamala Harris in Pennsylvania (49-47 percent), a seven point swing since September 16, Quinnipiac survey found Wednesday.\nTrump’s lead is just within the margin of error of 2.1 percentage points. The poll sampled 2,186 likely voters in Pennsylvania from October 24 – 28.\nThe poll by Quinnipiac, which often leans left, suggests Trump holds the momentum during the period of early voting with less than a week until Election Day.\nBelow is the trend of the last three Quinnipiac surveys demonstrating the momentum:\nOctober 28\n- Trump: 49% (+2)\n- Harris: 47%\nOctober 7\n- Harris: 49% (+2)\n- Trump: 47%\nSeptember 16\n- Harris: 51% (+5)\n- Trump: 46%\nThe poll’s analysis suggested that the gender gap increased:\nMen back Trump 57 – 37 percent, while women back Harris 55 – 39 percent. In Quinnipiac University’s October 9 poll, men backed Trump 52 – 41 percent, while women backed Harris 55 – 40 percent.\n“The gender gap widens with Trump increasing his lead among men, as what remains a very tight race heads into the final stretch,” Quinnipiac University Polling Analyst Tim Malloy said in a statement.\nWendell Husebo is a political reporter with Breitbart News and a former RNC War Room Analyst. He is the author of Politics of Slave Morality. Follow Wendell on “X” @WendellHusebø or on Truth Social @WendellHusebo.",
         "2024-10-30",
         "en"
        ],
        [
         "5",
         "Breitbart",
         "Dem Rep. Frost: Biden Called Trump Supporters Garbage Because He Was 'Very Angry'",
         "Representative Maxwell Frost (D-FL) claimed Wednesday during an appearance on “CNN News Central” that President Joe Biden misspoke when he called supporters of former President Donald Trump garbage because he was “very angry.”\nCo-host Brianna Keilar said, “The Harris campaign, needing to refocus the narrative today after President Biden appeared to refer to supporters of Donald Trump as garbage. A remark, he later tried to clarify saying that he was referring only to comedian Tony Hinchcliffe.”\nShe asked, “The White House is sort of saying this was about him saying supporter’s, apostrophe s. I just wonder if when you’re debating the existence of an apostrophe if you’ve lost the argument here?”\nFrost said, “The comments that we heard at that rally were completely disgusting about Puerto Rican Americans. I was very angry about it and I think the president was very angry about it, thinking about and talking about it. I think he misspoke.”\nHe added, “He’s someone who loves every American I think he misspoke because he was angry thinking about the bigotry we heard at Madison Square Garden. Honestly, I think that’s it.”\nKeilar said, “You think he misspoke. Do you do you think that there actually is an apostrophe s, that he was talking about Hinchcliffe?”\nFrost said, “The president was talking about that guy specifically, but also just everything said from that stage at that rally.”\nFollow Pam Key on X @pamkeyNEN",
         "2024-10-30",
         "en"
        ],
        [
         "6",
         "Breitbart",
         "Rashida Tlaib Chooses Not to Endorse Kamala Harris at UAW Rally",
         "Rep. Rashida Tlaib (D-MN) refused to endorse Vice President Kamala Harris on Friday while encouraging people in Michigan not to “underestimate the power” they have.\nDuring a United Auto Workers (UAW) union rally in Detroit, Michigan, Tlaib encouraged Michigan voters to make their voices heard in the election and to”turn out people” to cast their vote, according to Detroit News.\nWhile Tlaib declined to endorse Harris, in a post on X, she described former President Donald Trump as being “a proud Islamophobe” and a “serial liar who doesn’t stand for peace.”\nTlaib’s made these comments about Trump as his support among the Arab American and Muslim American community has increased and as he has received endorsements from Muslim Americans in Michigan.\n“Don’t underestimate the power you all have,” Tlaib said. “More than those ads, those lawn signs, those billboards, you all have more power to turn out people that understand we’ve got to fight back against corporate greed in our country.”\nThe outlet noted that Tlaib “focused her speech to UAW members on down ballot races”:\nShe focused her speech to UAW members on down ballot races, specifically the judicial races, voicing support for Democratic-nominated Michigan Supreme Court candidates Kyra Harris Bolden and Kimberley Thomas in their respective races against Republicans Patrick O’Grady and Andrew Fink.\nIn May, Tlaib suggested that people vote against President Joe Biden, who was the Democrat Party’s presidential nominee at the time, because of the current administration’s handling of the Israel and Hamas war.\nWhile Tlaib did not deliver an endorsement of Harris at the UAW rally, Rep. Alexandria Ocasio-Cortez (D-NY) said that Michigan was “the place where miracles happen,” adding that it would “deliver a Kamala Harris presidency,” according to the outlet.",
         "2024-11-02",
         "en"
        ],
        [
         "7",
         "Breitbart",
         "Ukraine and Russia Exchange Drone Strikes, Child Injured",
         "KYIV, Ukraine (AP) – Russia and Ukraine exchanged scores of drone strikes Wednesday as North Korea’s top diplomat arrived in Russia for talks after his country reportedly deployed thousands of soldiers to help Moscow’s war efforts.\nUkraine’s air force said that Russia launched 62 drones and one missile overnight, adding that 33 of them were intercepted and 25 were jammed.\nThe drones struck a residential building and a kindergarten in Kyiv, injuring nine people, including a child, according to the city administration. “Russian drones did not change their constant tactics – they approached the capital from different directions, at different heights,” it said.\nRussian attacks also targeted other regions of Ukraine, killing at least four and injuring about 30 others over the past 24 hours, authorities said.\nAt the same time, Russian forces have pressed their slow-moving offensive in eastern Ukraine. In Moscow, the Defense Ministry announced the capture of the village of Kruhlyakivka in the Kharkiv region.\nThe ministry said that air defenses downed 25 Ukrainian drones over several regions in the country’s west and southwest.\nThe new attacks come as North Korea’s Foreign Minister Choe Son Hui arrived in Moscow for talks that South Korea’s spy agency said could involve discussions on sending additional troops to Russia and what the North would get in return.\nThe Pentagon said North Korea has sent about 10,000 troops to Russia, and that they will likely fight against Ukraine “over the next several weeks.”\nMaj. Gen. Pat Ryder, the Pentagon press secretary, said Tuesday that a “relatively small number” of North Korean troops are now in the Kursk region, where Russia has struggled to push back a Ukrainian incursion.",
         "2024-10-30",
         "en"
        ],
        [
         "8",
         "Breitbart",
         "Dingell on Harris Promising to Turn Page as VP: I Think 'Loyalty Matters', She Gets Issues",
         "During an interview with the Fox News Channel aired on Friday’s “Special Report,” Rep. Debbie Dingell (D-MI) responded to a question on how 2024 Democratic presidential candidate Vice President Kamala Harris talks about turning the page when she is the sitting Vice President and President Joe Biden polls poorly on the economy by stating that “she understands the issues.” And “I’m one of those old-fashioned people that thinks loyalty matters. So, she’s got to be respectful, talk more about what her economic plans are.”\nHost Bret Baier asked, [relevant exchange begins around 1:45] “How do you talk about the turn the page thing with the sitting Vice President, who’s the Vice President of the President who has low approval ratings when it comes to the economy?”\nDingell responded, “Look, I know that she understands the issues. It’s very — loyalty, I’m one of those old-fashioned people that thinks loyalty matters. So, she’s got to be respectful, talk more about what her economic plans are. I’ve said to them, I said a month ago, union halls don’t know who she is. They’ve got to know that she’s going to go in and fight for them. They know who Donald Trump is.”\nFollow Ian Hanchett on Twitter @IanHanchett",
         "2024-11-02",
         "en"
        ],
        [
         "9",
         "Breitbart",
         "Brett Favre Compares America During Trump's First Term to the Packers: 'A Winner'",
         "NFL Hall of Famer and Packers legend Brett Favre knows what a winning organization looks like, and he sees a winner when hearkens back to America under President Trump.\nSpeaking at Wednesday’s Trump rally at the Resch Center in Green Bay, Wisconsin, the Packer legend addressed the assembled crowd in a language they would immediately understand.\n“Much like the Packers organization, Donald Trump and his organization is a winner,” Favre said. “The United States of America won with his leadership.”\nFavre’s presence on the podium at a political rally shocked many, not the least of whom was Favre, who said he never envisioned himself back in Green Bay, speaking to the Packer faithful in that kind of setting.\nHowever, as Favre explained, the state of the world and our country’s dire straits compelled him to speak.\n“I think there’s never been a more important time in our lives than right now in this election,” Favre said. “First and foremost, are there any Packer fans in the house?”\nPredictably, that question got a resounding roar. However, other parts of Favre’s speech would also be warmly welcomed. For example, he likened the repeated failures and struggles during the early part of his career with the Packers to the current failures of the Biden-Harris administration and the “insanity” of expecting anything to get better unless changes were made.\n“Sounds like the first couple of years of my tenure here with the Packers,” Favre said. “Mike Holmgren would say, ‘What in the hell are you doing, Brett?’ I said, ‘Hell, I don’t know, Mike.’ But we figured out a way to get it done.\n“It would be insane to give Kamala four more years in office,” Favre exclaimed.\nThe Packer legend also rebuked President Biden for calling Trump’s supporters “garbage.”\n“I can assure you we’re not garbage. How dare he say that? I see police officers, teachers, nurses, grandparents, students. I see everyday Americans that make this country great,” Favre explained.",
         "2024-11-01",
         "en"
        ],
        [
         "10",
         "Breitbart",
         "'The Choice Is Clear to Me': LeBron James Endorses Kamala Harris for President",
         "NBA superstar LeBron James has endorsed Vice President Kamala Harris in her bid for the presidency in a statement attached to a civil-rights-themed video posted on social media.\nThe video casts President Trump as a spreader of “hate.”\n“What are we even talking about here??” wrote James in a social media post. “When I think about my kids and my family and how they will grow up, the choice is clear to me. VOTE KAMALA HARRIS!!!”\nThe video features clips of Trump taken out of context and set against the backdrop of scenes from the civil rights era and more recent times of racial unrest, casting the former president as an enemy of voting rights, the civil rights movement in general, and black people in particular.\nThe video and James’ endorsement come at a time when Harris and the Democrats are seeing notable drops in support among black people and Latinos.\nJames’ endorsement should come as no surprise. The future Hall of Famer has used his platform online and on television to advocate for every leftist policy on the Democrat platform. He has also endorsed former President Barack Obama in 2008, former Secretary of State Hillary Clinton in 2016, and President Joe Biden in 2020.\nThe animosity between Trump and James is no secret either.\nIn 2018, Trump blasted James for doing an interview with then-CNN anchor Don Lemon.\n“Lebron James was just interviewed by the dumbest man on television, Don Lemon,” Trump wrote on social media. “He made Lebron look smart, which isn’t easy to do. I like Mike!”\nIn addition, in 2022, Trump invited James to join his women’s basketball team. James did not respond to the invitation.",
         "2024-11-01",
         "en"
        ],
        [
         "11",
         "Breitbart",
         "'This Is the 'Basket of Deplorables' Moment': Ramaswamy Says Biden 'Garbage' Comments Our 'October Surprise'",
         "Tuesday, during an appearance on FNC’s “Hannity,” Trump surrogate Vivek Ramaswamy declared President Joe Biden’s “garbage” comments to be the GOP’s “October surprise.”\nRamaswamy speculated that Biden’s family was rooting for Trump to win on November 5, suggesting this was not necessarily linked to Biden’s apparent cognitive decline.\n“Here’s the October surprise,” he said. “It just arrived. This is the ‘basket of deplorables’ moment. That’s what Hillary said in 2016 that tanked her campaign. Well, that is the Joe Biden-Kamala Harris moment right now. I am a little bit more cynical about this one, Sean, in the following way: It might look like Joe Biden’s usual cognitive deficit kicked in. But the reality is we know his family is probably rooting for Trump, not Kamala Harris to win because they feel vengeful about how they were treated. So if you are in their shoes, that comment might tank heiress but motivations to one side.”\n“But regardless of motivations, it is a welcome October surprise because let’s take a big step back and look at what’s going on here,” Ramaswamy continued. “The wheels are coming off the car. They are spiraling. And now you see the accusations — the other side being Hitler or piles of garbage. You’re going to hear a lot about threats to democracy in the next week. They are flailing, Sean. Understand, Americans are not falling for their trick anymore. Donald Trump has a record that he is running on. They are frustrated by it. And it is in some ways, I think, a beautiful thing for our side to watch — to watch this completely come undone.”\nFollow Jeff Poor on X @jeff_poor",
         "2024-10-29",
         "en"
        ],
        [
         "12",
         "Breitbart",
         "AOC Gushes over Doug Emhoff as Ideal Man Brimming with 'Masculinity'",
         "Rep. Alexandria Ocasio-Cortez (D-NY) gushed over Second Gentleman Doug Emhoff on Wednesday night applauding him as the very model of modern masculinity at a campaign event for his wife Kamala Harris.\n“He’s not afraid to embody and pass on these values of security and this idea that you can, you can let your girl shine,” Ocasio-Cortez told a room full of students at the University of Nevada, Las Vegas, according to the Daily Mail.\n“And he embodies that really well. We should all be really, really proud of him.” She told students the example Emhoff has set “has been incredibly important this presidential cycle.”\nOcasio-Cortez continued, “A lot of ideas of what being a man means putting a woman down or putting queer people down. And this idea that, like, in order to elevate one’s value, we need to diminish the people around us.”\nPublic praise of Emhoff as an example of secure masculinity came less than a week after a purported ex-girlfriend identified only as Jane came forward and said he slapped her at the 2012 Cannes Film Festival after believing she was flirty with a valet, as Breitbart News reported.\nEmhoff has vehemently denied the accusations.\nAOC echoes previous media backing for Emhoff with the Washington Post publishing an opinion piece in August calling him a “modern-day sex symbol,” “fantasy man,” and “ideal partner” despite reports he impregnated his children’s nanny while married to his ex-wife.\nCatherine Rampell, a political columnist at the Post and CNN commentator, wrote, “Move over, Ryan Gosling. The modern female fantasy is embodied by the man who might soon become our first First Gentleman.”\nRampell argued Emhoff is “sexy” because he is “secure enough with his own masculinity to sometimes prioritize his wife’s ambitions over his own.”\nAs for the New York Democrat, she finished her public tribute with yet more praise.\n“He’s able to stand beside the vice president’s side and lift her up instead of put her down,” AOC said, according to the Mail report.\n“And he knows that by lifting of women, he’s also lifting up his fellow men around him. He’s not afraid to be a dad of a powerful daughter and a great son.”",
         "2024-10-31",
         "en"
        ],
        [
         "13",
         "Breitbart",
         "Breitbart News Daily Podcast Ep. 649: Breitbart Editor-in-Chief Alex Marlow on 2024 Campaign Closing Arguments",
         "Breitbart Editor-in-Chief Alex Marlow joins host Mike Slater to discuss the 2024 campaign closing arguments from both candidates. Did Trump do enough to get past the finish line? Alex shares his thoughts. And Mike talks about the crucial get-out-the-vote efforts underway.\nAlex’s first bestseller, Breaking the News, has been re-released in an updated paperback for the 2024 election year.\nThe Breitbart News Daily Podcast runs Monday through Friday as a “Director’s Cut” of the SXM Patriot radio show hosted by Mike Slater.\nSUBSCRIBE for free by clicking your preferred podcast platform below.",
         "2024-11-01",
         "en"
        ],
        [
         "14",
         "Breitbart",
         "Desperation Dude: Hollywood Elite Jeff Bridges Records 11th Hour Appeal to Montana to Back ‘Man of the Land’ Democrat Jon Tester",
         "Hollywood star Jeff Bridges has launched a last-minute pitch to shore up support for Democrat Senator Jon Tester in Montana as the 2024 election comes down to the wire and with Tester losing support.\nBridges, famous for his “The Dude” character in the 1998 cult classic The Big Lebowski, had officially endorsed Tester back on October 18 when he appeared at a College Democrats event at Montana State University.\nNow the Tron actor has floated a campaign video, insisting that “Senator Jon Tester is the real deal. He’s a farmer, cares about the people of this state, and is the backbone of Montana.”\nIt might seem like a desperate, last-minute attempt to boost Tester if the polls are any indication. Senator Tester is flagging in many late polls, falling behind Republican rival Tim Sheehy.\nFive Thirty Eight, for instance, has Sheehy at 49.6 percent to Tester’s 44.3 percent on its October 31 survey.\nEmerson College was also bullish on Sheehy with its more recent polling showing Sheehy at 50 percent to Tester’s 46 percent.\nBut like so many polls this year, the results are often mixed. Other polling was a tad less optimistic for Sheehy as the MSU Billings Mountain States Poll found Tester and Sheehy tied at 43 percent each.\nAnd still, the Daily Montanan claimed the race was a “dead heat” with Tester leading 51 percent to Sheehy’s 48 percent.\nThe race is vitally important for the control of the U.S. Senate. If the Democrats lose Tester, that will go a long way toward throwing control of the upper chamber back to the Republicans.\nFollow Warner Todd Huston on Facebook at: facebook.com/Warner.Todd.Huston, or Truth Social @WarnerToddHuston",
         "2024-10-31",
         "en"
        ],
        [
         "15",
         "Breitbart",
         "UK Gov't Accused of Covering Up Alleged Terror Ties of Southport Suspect",
         "The leftist Labour Party government in Britain is facing accusations of a cover-up over the mass stabbing at a children’s dance party in Southport after the suspect was charged with terror offences.\nAccording to reports from the BBC and The Telegraph, top-level government officials were made aware over the past few weeks that Axel Rudakubana, 18, the second-generation Rwandan migrant suspected of killing three young girls and injuring ten others at a Taylor Swift-themed dance party in Southport on July 29, faced potential terror charges over allegedly producing the deadly toxin Ricin and downloading an Al-Qaeda terror manual.\nThe Southport mass stabbing sparked widespread anti-mass migration protests and riots in England over the summer, resulting in over a thousand arrests and hundreds sent to prison. In the immediate aftermath of the attack, speculation ran rampant on social media about the potential motive and identity of the then-unidentified suspect.\nAuthorities were quick to condemn “misinformation” about the case, which seemingly led to a protest-turned-riot outside a local mosque in Southport. Police initially merely identified the suspect as having been born in Wales. However, after the Liverpool Crown Court lifted reporting restrictions on the case to quell speculation on August 1, it was revealed suspect Axel Rudakubana was born to Rwandan migrants living in Wales in 2006.\nFigures, such as Reform UK leader Nigel Farage, had faced heavy criticism for questioning whether the attack was terror-related amid the information vacuum in the aftermath of the Southport killings. On Wednesday, he questioned whether the new developments may have vindicated his original position.\nThe Free Speech Union, meanwhile, stated of the new charges and how they may impact some of those who were jailed after the attack for social media posts: “We suspect some of the prosecutions of people for saying supposedly inflammatory things on social media may now be unsafe – for instance, the man in Cumbria sentenced to eight weeks in jail for reposting three allegedly ‘Islamophobic’ memes on Facebook. At the very least, it may be grounds for appealing their often draconian jail sentences.”\nAlthough prosecutors still won’t be drawn on whether the mass stabbing itself was a terror attack, Rudakubana was charged on Tuesday with violating Section 58 of the Terrorism Act 2000 over allegedly downloading a pdf file named: “Military Studies in the Jihad Against the Tyrants: The Al-Qaeda Training Manual”. He was also charged with breaching Section 1 of the Biological Weapons Act 1974 over the alleged production of a biological toxin, with Ricin said to have been found in his home.\nFormer top Downing Street official Dominic Cummings has alleged that a cover-up is continuing, accusing the BBC of spreading “disinformation for Number 10” by reporting that the government was only made aware of the charges in the past few weeks.\nBoris Johnson’s ex-chief advisor\n.“The BBC uses clever wording re ‘aware of CHARGES’ to spread more disinformation. The ‘mainstream’ IS the disinformation,” Cummings said, adding that “the news has been dropped amid the budget [and] US election to try to hide the disinformation operation against the voters.”\nThe government has denied\nthe opposition Conservative Party of spreading “conspiracy theories and the undermining of public faith in our institutions and public servants.” Nevertheless, the police themselves say the Criminal Prosecution Service has advised them not to reveal further details.Both Conservative leadership candidates, former equalities minister Kemi Badenoch and former immigration minister Robert Jenrick, demanded the government disclose when it was made aware of Rudakubana’s alleged terrorist activities.\nJenrick said: “Any suggestion of a cover-up will permanently damage public trust in whether we’re being told the truth about crime in our country… Keir Starmer must urgently explain to the country what he knew about the Southport attack and when he learned it. Across the board, the hard reality of mass migration is being covered up. We need the truth – and we need to change.”\nBadenoch added: “After the Southport murders and the ensuing protests and riots, some people asked me why I wasn’t commenting. This is why… Too many on all sides rush to conclusions before all the facts are clear. As more information emerges, it is quite clear that there are serious questions to be asked of the police, the CPS and also of Keir Starmer’s response to the whole situation.”\nOn Wednesday, during Prime Minister’s Questions, Reform UK deputy leader Richard Tice questioned if Sir Keir Starmer agrees with Jonathan Hall KC, the government’s independent reviewer of terrorism laws, who “has said repeatedly recently that it is important in incidents of terrorism that the authorities put out more information sooner in order to prevent and information gap.”\nResponding, Prime Minister Starmer declined to answer directly, merely taking the opportunity to score some political points. He said: “Erm, Mr Speaker, obviously, I’ll tread carefully in answering this question for the very reasons you yourself set out at the beginning of this session. I think it’s very important, first and foremost, that in all cases, including the particular difficult case that the Speaker mentioned earlier that the police and prosecutors are able to do their difficult job.”\nAppearing to criticise the opposition for daring to ask questions about the case, Starmer continued: “All of us in this house have a choice to make, including both candidates to be the next Tory leader. They can either support the police in their difficult task or they can undermine the police in their difficult task, and I know what side I’m on.”",
         "2024-10-30",
         "en"
        ],
        [
         "16",
         "Breitbart",
         "'No, Certainly Not' -- Tim Walz Denies 'Garbage' Smear Undercut Harris's 'Unity' Message",
         "President Joe Biden’s “garbage” smear does not undercut the Vice President Kamala Harris message of “unity,”‘ Gov. Tim Walz (D) indicated Wednesday.\nBiden’s smear on Tuesday overshadowed Harris’s closing argument that night in which she said she would be a president for “all Americans.”\nThe pledge came just days after she called former President Donald Trump a “fascist.”\n“I have to ask, does that undercut this closing message of unity from your campaign,” asked CBS News’s Tony Dokoupil about Democrats long list of demonizing Trump supporters.\n“No, certainly not,” Walz replied:\nOn ABC’s Good Morning America, George Stephanopoulos asked Walz: “Was calling Trump supporters garbage? He says he was talking about the comedian. What’s your response to that? Did it step on the Vice President’s message?”\n“The President’s clarified his remarks,” Walz replied.\nBiden tried to clarify his remarks by denying he referred to Trump supporters as “garbage”:\nEarlier today I referred to the hateful rhetoric about Puerto Rico spewed by Trump’s supporter at his Madison Square Garden rally as garbage—which is the only word I can think of to describe it. His demonization of Latinos is unconscionable. That’s all I meant to say. The comments at that rally don’t reflect who we are as a nation.\nWalz continued to spin Biden’s comment and claimed Trump called the county “garbage”:\nBut let’s be very clear, the Vice President and I have made it absolutely clear that we want everyone as a part of this. Donald Trump’s divisive rhetoric is what needs to end. He called this a garbage country, and continues on from the enemy within which you heard Vice President Harris say.\nTrump also posted a response shortly after midnight:\nWhile I am running a campaign of positive solutions to save America, Kamala Harris is running a campaign of hate. She has spent all week comparing her political opponents to the most evil mass murderers in history.\nNow, on top of everything, Joe Biden calls our supporters “garbage.”\nYou can’t lead America if you don’t love the American People. Kamala Harris and Joe Biden have shown they are both unfit to be President of the United States.\nWendell Husebo is a political reporter with Breitbart News and a former RNC War Room Analyst. He is the author of Politics of Slave Morality. Follow Wendell on “X” @WendellHusebø or on Truth Social @WendellHusebo.",
         "2024-10-30",
         "en"
        ],
        [
         "17",
         "Breitbart",
         "JD Vance to Joe Rogan: Amnesty Will End Democracy",
         "An establishment amnesty for the roughly 25 million illegal migrants in the United States would “end democracy,” and convert the U.S. into a one-party state like California, JD Vance, Donald Trump’s hand-picked running mate, told host Joe Rogan on Thursday.\n“I’m a Reagan guy, right?” Vance said in his three-hour interview with Joe Rogan, adding:\nI’m a conservative Republican. But [President Ronald] Reagan screwed up a lot … People don’t talk nearly enough about the amnesty thing … Because of what Ronald Reagan did in the 1986 amnesty, California is now effectively a permanently blue state.\n“The entire country becomes that” if Democrats push through an amnesty, Vance added.\nBut mass migration imposes huge costs on Americans, even without an amnesty, he said.\nEven when migrants do not hold citizenship, they get a share of representation in Congress, Vance said:\nFor example, the state of Ohio lost a congressional seat in the last census [in 2020 so] states that have high illegal immigrant populations picked up congressional seats. So you’re actually taking away congressional representation from American citizens and giving it to illegal aliens. Even if you don’t give them the right to vote, you’re still destroying the voting power [of citizens].\nImmigration also imposes massive civic and economic burdens on Americans’ communities, Vance said:\nYou see this in some communities — because they’re small towns, and because rapid migrant influxes can happen very quickly — here the town population has been doubled. You don’t even have to assume people are criminals …[but] what does it do to the local public school when all of a sudden 1,000 [migrants] show up that don’t even speak English, right?\nWhat does it do to the [town’s] hospital system when you now have thousands of people … that are showing up to get emergency services because they don’t have access otherwise to a doctor, and now the American citizens have to wait in line for seven hours to get to see a doctor because we’ve overwhelmed the local hospital system?\nWhat does it do to housing prices? We’ve seen this in a number of communities, including those that I represent in Ohio. When you bring in thousands and thousands of people, you cannot build enough houses quickly enough to accommodate that. So the cost of housing becomes unaffordable for American citizens.\nThose costs are largely ignored by the national media, which mostly hire pro-migration reporters– including many immigrants — to cover migration dramas.\n“It is the craziest thing that we’ve seen in this country that you don’t even allow people to talk about the effects of mass migration anymore,” Vance said, adding:\nOne of the reasons why Donald Trump is going to be elected president, or at least should be elected president, [is] because he is one of the few guys who’s saying, “You know what, we’re going to talk about this problem. Yes, some immigrants are good [and] some immigrants are not good.” That is an obvious insight to anybody who knows human nature.\nBut it is money that drives the nation’s migration policy, Vance said. “I think what is obvious, and I’ve seen this in the halls of Congress,” he said, adding:\nI’ve seen it very explicitly. You talk about lobbying [in other political issues], and we obviously talked about [it] in the context of other industries. There is a massive corporate lobby for cheap labor in the United States of America. That is, I think, the main thing that’s going on.\nLet me tell you a story when I was in the private sector. I was at a business conference dinner, and I was seated next to the CEO of one of the largest hotel chains in America … The guy was going on and on about how much he hates Donald Trump. And I’m like, “Oh, that’s interesting, why do you hate Donald Trump so much?”\nBecause, again, I was, I was sort of a Trump skeptic in 2015 and at this point, I was kind of starting to really get on the Trump train.\nAnd he said, “Well, the reason I hate Donald Trump … is because Donald Trump’s border policies have cut down the number of illegal immigrants. And because I can’t pay illegal immigrants under the table anymore, I have to pay American workers, and they want much higher wages.”\nI was like, “Holy shit! This guy just admitted what is straight-up, Monopoly Man evil shit. My wife, who’s very apolitical, was actually at the dinner with me, and she’s like, “Come again, you just said you don’t want Americans to get decent wages?”\nThe best argument for Donald Trump’s immigration policy is that American workers are getting higher wages, and this is why this corporate CEO hates it. So whatever the industry is, you’ve got a lot of people who want cheap labor and they don’t want to pay American workers higher wages. That’s a big part of it.\nBut Democrats also want to get political advantage from the inflow of poor migrants, Vance added:\nI do think there’s also a power dynamic to it. In particular, I think Kamala Harris and the Democrats, they want to give these millions upon millions of illegal aliens the right to vote. They want to legalize them. They want to make it easier for them to participate in our elections. And that means, fundamentally, the end of American democracy, because you’re talking about 25 million [illegal migrant] people here.\nIf Kamala Harris gives 10 million of those people legal status and allows them to vote in American elections. Then, say, 70/30 they go [vote] Democrat, Republicans will never win a national election in this country in my lifetime.\n“It will have degraded the voting power of the people who have the legal right to be here,” he added.\nBreitbart News has closely tracked the impact of migration on Americans’ blue-collar and white-collar wages, their housing, and, increasingly, on Americans’ productivity.\n“We always used to think [a] shrinking population is a cause for negative [economic] growth,” BlackRock founder Larry Fink said at a pro-globalist event in April hosted by the World Economic Forum in Saudi Arabia. He continued:\nBut in my conversations with the leadership of these large, developed countries [such as China, and Japan] that have xenophobic anti-immigration policies, they don’t allow anybody to come in — [so they have] shrinking demographics — these countries will rapidly develop robotics and AI and technology … If a promise of all that transforms productivity, which most of us think it will [emphasis added] — we’ll be able to elevate the standard living in countries, the standard of living for individuals, even with shrinking populations.\nOverall, since about 1990, the US. government has used an economic policy of Extraction Migration from poor countries to inflate the nation’s consumer economy with extra workers, consumers, and renters. That economic policy has helped grow the economy Congress helped investors to export much of the nation’s manufacturing economy to lower-wage countries.",
         "2024-10-31",
         "en"
        ],
        [
         "18",
         "Breitbart",
         "'Sopranos' Star Drea de Matteo Blasts Mark Cuban's Insult to Trump-Voting Women",
         "Actress Drea de Matteo, who starred in HBO’s The Sopranos, has blasted billionaire and Kamala Harris surrogate Mark Cuban over his insult to women who support former President Donald Trump, saying the left is “messing with the wrong breed of women.”\nIn a new social media video, Drea de Matteo hit back at Mark Cuban after he said during a recent appearance on ABC’s The View that no “strong, intelligent women” would support Trump.\n“Guess you haven’t met me yet, buddy,” she told him. “It takes a lot of balls to come out and support the anti-war machine, and you know it.”\nShe added: “I support Donald Trump like my life depends on it and my kids’ lives.”\nAs Breitbart News reported, Trump responded Thursday to Mark Cuban’s statement on The View that he is never around “strong, intelligent women.”\nTrump posted on Truth Social “I surround myself with the strongest of women” and that “all strong women, and women in general, should be very angry about this weak man’s statement.”\nActress Kristy Swanson, who played the title roll in the popular 1992 movie Buffy the Vampire Slayer, also hit back at Cuban’s insult to women.\nFollow David Ng on Twitter @HeyItsDavidNg. Have a tip? Contact me at dng@breitbart.com",
         "2024-11-01",
         "en"
        ],
        [
         "19",
         "Breitbart",
         "San Fran. Official: There Will Be 'Resistance' to Mass Deportations, Like We Had from Courts",
         "On Thursday’s broadcast of WBUR’s “Here and Now,” Managing Director of the Immigration Defense Unit at the San Francisco Public Defender’s Office Francisco Ugarte stated that if 2024 Republican presidential candidate former President Donald Trump is elected the “idea that Trump could just simply get away with engaging in mass deportation without any semblance of a resistance is really kind of far-fetched.” And cited California’s Supreme Court saying that ICE agents shouldn’t be in courthouses because that deters people from going to court as an example of this.\nUgarte said, “They did try and do courthouse arrests. But, when they sent ICE agents, one time, to the local courthouse here in San Francisco, within a day, there was a massive rally of community members and a declaration from the Supreme Court…of California saying, don’t invade the space of the courts, because you’ll deter people from going to courts. So, this idea that Trump could just simply get away with engaging in mass deportation without any semblance of a resistance is really kind of far-fetched. Things like mass deportation or these, like, sweeping human rights abuses are really, ultimately, not very popular among the American public.”\nFollow Ian Hanchett on Twitter @IanHanchett",
         "2024-11-01",
         "en"
        ],
        [
         "20",
         "Breitbart",
         "Saudi Arabia, Alienated by Biden, Hosts Summit on Creating Palestinian State",
         "The government of Saudi Arabia hosted the inaugural meeting of the “International Alliance to Implement the Two-State Solution,” a nebulous coalition organized by Riyadh to formalize the creation of a Palestinian state.\nSaudi Foreign Minister Prince Faisal bin Farhan used the opportunity to accuse Israel of “genocide” for engaging in military operations against the genocidal terrorist organizations Hamas and Hezbollah. The administration of outgoing President Joe Biden sent a State Department envoy to the meeting, though meetings at press time do not indicated Washington played a prominent role in the event.\nThe “international alliance” is one of several diplomatic measures Saudi Arabia is taking to publicly oppose Israel’s attempts to protect itself from genocidal jihadists, pivoting away from the direction Riyadh was taking prior to Biden taking office of potential normalization with Jerusalem. Under Biden’s predecessor Donald Trump, Saudi Arabia greatly enhanced its anti-terror cooperation with the United States, establishing the Global Center for Combating Extremist Ideology in 2017 and going to war with the Iran-backed Houthi terrorists of Yemen. Biden prioritized antagonizing Saudi Arabia in his foreign policy, however, vowing to turn the major Middle East nation into a “pariah” state during the 2020 presidential election and attempting to improve diplomacy with Iran.\nBiden tried to make amends with the Saudi government during a catastrophic visit to the country in 2o22 that yielded no strategic deliverables for America and resulted in circulating gossip that Crown Prince Mohammed bin Salman mocked Biden’s “mental acuity.”\nDespite Biden’s efforts, Mohammed bin Salman, commonly known by his initials MBS, did not appear to entirely abandon the possibility of normalizing ties with Israel until the unprecedented Hamas siege of Israel on October 7, 2023, which killed about 1,200 civilians, including children as young as infants, and featured extensive acts of torture, gang rape, abduction, and desecration of corpses. Shortly after the attacks, MBS began demanding the establishment of a state of “Palestine” with its capital in Jerusalem – the capital of Israel – in public addresses, which he had conspicuously omitted from other comments prior to the attacks about diplomacy with Israel.\nThe Saudi government first announced the creation of the “Global Alliance to Implement a Two-State Solution” in late September on the sidelines of the United Nations General Assembly. At the time, Prince Faisal, the foreign minister, said that the alliance was a joint effort between European countries and the member of the Organization of Islamic Cooperation (OIC).\n“Self-defence cannot justify the killing of tens of thousands of civilians and the practice of systematic destruction, forced displacement, the use of starvation as a tool of war,” Prince Faisal denounced then, “incitement and dehumanisation, and systematic torture in its most heinous forms, including sexual violence and other crimes documented according to United Nations reports.”\nReports on the first meeting of the alliance were light on details of any active measures taken. Prince Faisal offered comments in which he condemned Israeli operations against Hamas and Hezbollah, which have eliminated much of the senior leadership of those grounds, as “catastrophic.\n“A genocide is happening with the goal of evicting the Palestinian people from their land, which Saudi Arabia rejects,” he claimed on Wednesday. The foreign minister was not quoted as similarly condemning the explicitly genocidal aims of the jihadist groups in question, such as replacement Hezbollah chief Naim Qassem stating on Wednesday that a “ceasefire” with Israel was possible if the entire population of Israel was expelled from its country.\nThe Saudi foreign minister boasted that nearly 90 countries had attended the Alliance meeting, which is expected to last two days, and reports noted that it would also discuss defending the United Nations Relief and Works Agency (UNRWA) for Palestinians, which Israeli officials have found to be closely linked to Hamas terror operations in Gaza.\nIn addition to the summit this week, the Saudis announced that the country would host an “Arab-Islamic summit” on November 11 “to discuss countering Israeli aggression,” according to the Emirati newspaper the National.\nSaudi Arabia’s leadership against Israel is a dramatic pivot away from the position the country was in during the Trump administration and even as recently as September 2023. That month, Crown Prince Mohammed bin Salman said in an interview that his country was seeking ways to improve relations with Israel.\n“For us, the Palestinian issue is very important,” MBS told Fox News. “We need to solve that part. … We hope that it will reach a place that it will ease the life of the Palestinians, and get Israel back as a player in the Middle East.”\nIf an agreement would “give the Palestinians their needs and make the region calm, we’re going to work with whoever’s there,” he added.\nNotably, MBS did not mention the creation of a Palestinian state as a precondition to peace with Israel.\nIn November 2023, at an event for members of the anti-American BRICS coalition, the crown prince condemned the Israeli government for responding to the Hamas attack and explicitly demanded a “Palestinian state … with East Jerusalem as its capital.”\n“We reiterate our categorical rejection of these operations that have claimed the lives of thousands of children, women, and the elderly,” the de facto ruler said. “We demand an immediate stop of the military operations, and the provision of humanitarian corridors to enable international humanitarian organizations to perform their role and aid civilians.”\nMBS repeated that promise in September.\n“The kingdom will not stop its tireless work towards the establishment of an independent Palestinian state with East Jerusalem as its capital, and we affirm that the kingdom will not establish diplomatic relations with Israel without that,” the crown prince asserted.\nWhile Saudi Arabia continues to maintain a distance from the mass murderers of Hamas, its fraught relationship with the governing entity of the West Bank, the Palestinian Authority, has improved since the October 7 attacks. In September 2023, former Secretary of State Mike Pompeo said that he believed the Saudis had become disillusioned with the Palestinian Authority as its leadership was corrupt and it was a hindrance to improving ties to Israel. Nearly a year after the attacks, the Saudi government reportedly ended an eight-year embargo on funding the Palestinian Authority. Palestinian officials told the radical leftist New York Times (NYT) newspaper that Riyadh would be funding the entity to the tune of as much as $60 million.",
         "2024-10-31",
         "en"
        ],
        [
         "21",
         "Breitbart",
         "Exclusive -- Former Acting ICE Director Tom Homan: 3 Actions Would Solve 85% of Border Crisis",
         "Just a few actions would solve 85 percent of the border crisis, former acting ICE Director Tom Homan said during an interview on Breitbart News Daily.\n“Congress needs — they just need to pass three laws and they’d solve 85 percent of the problem on the border,” he said, calling for an end to the Flores settlement agreement as well as a change in asylum laws. He also pointed to the Trafficking Victims Protection Reauthorization Act (TVPRA).\n“Those three things would solve 85 percent” of the issues at the border, he said, but he acknowledged that Congress will not act any time soon. Because of that, former President Donald Trump, should he win, must do a “series of executive orders,” which will make a huge difference.\n“Remain in Mexico is a game-changer. That was a game changer that had more effect on the border in any policy I’ve seen in my 34-year career. Put the remain in Mexico program back into executive order” as well as catch and release, which will solve the “majority” of the United States’ problems on the southern border, he explained.\nLISTEN:\nHoman also addressed the recently aired 60 Minutes interview featuring himself — an interview that was completely chopped up — and responded to a segment showing a family scared of being torn apart due to Trump’s immigration policies.\n“Whose fault is that? When they enter the country and they choose to have a child, who put them in that position? Not Tom Homan. Not President Trump. Not the system. They choose to enter this country illegally, and while here illegally, they choose to have a child or they bring other family members in there. They put themselves in that position, knowing damn well they’re here illegally, knowing damn well they have an order of removal they’re ignoring, and they’re in hiding,” he said, responding to the critiques.\n“They put themselves in position. This is their problem. They created it. They can deal with it. It’s not Tom Homan’s problem. We’re going to — if the judge orders you removed, that’s what’s going to happen,” he added.\nBreitbart News Daily airs on SiriusXM Patriot 125 from 6:00 a.m. to 9:00 a.m. Eastern.",
         "2024-11-01",
         "en"
        ],
        [
         "22",
         "Breitbart",
         "'Pure Gibberish': AOC Mocked for Arabic GOTV Flyer Printed Backwards",
         "Rep. Alexandria Ocasio-Cortez (D-NY), also known as AOC, is being mocked for a get-out-the-vote (GOTV) flyer that is printed partially in Arabic, because the Arabic is written backwards and in disconnected script.\nArabic is read and written right-to-left, meaning that some simple text translation programs might reverse the order of the letters inadvertently. In addition, most (but not all) of the letters are meant to be connected within words.\nThe first Arabic word on the flyer is meant to be “voting” in Arabic, but the order of the letters has been reversed.\nEvidently, no one who actually understands Arabic was brought in to proofread the GOTV flyer before printing.\nDemocrats hoped to rely on Arab American voters to oppose Trump. But outrage at the Biden-Harris administration over the ongoing war in the Middle East has, however improbably, encouraged some Muslim voters to choose Trump in protest.\nMoreover, there are many Arab Americans, in both Christian and Muslim communities, who oppose the radical social agenda and redistributionist economic policies of Vice President Kamala Harris and her party.\nTrump has been receiving unexpected endorsements from Muslim and Arab Americans, in Michigan — where there is a large Arab American community — and beyond.\nJoel B. Pollak is Senior Editor-at-Large at Breitbart News and the host of Breitbart News Sunday on Sirius XM Patriot on Sunday evenings from 7 p.m. to 10 p.m. ET (4 p.m. to 7 p.m. PT). He is the author of The Agenda: What Trump Should Do in His First 100 Days, available for pre-order on Amazon. He is also the author of The Trumpian Virtues: The Lessons and Legacy of Donald Trump’s Presidency, now available on Audible. He is a winner of the 2018 Robert Novak Journalism Alumni Fellowship. Follow him on Twitter at @joelpollak.",
         "2024-10-31",
         "en"
        ],
        [
         "23",
         "Breitbart",
         "North Korea: ICBM Fired This Week Was New 'Hwasong-19' Model",
         "North Korea confirmed on Friday that the intercontinental ballistic missile (ICBM) the communist regime tested on Thursday was a new model, identified as the “Hwasong-19.”\nSouth Korean military officials confirmed on Thursday that the North had launched an ICBM, believed to be nuclear capable and able to reach all of the continental United States. The missile flew for 86 limits, a record for North Korean technology, and its performance coupled with the novel shape of its launch pad did not match the profiles of previously known North Korean ICBM models.\nBoth South Korean and Japanese officials warned this week that they expect especially belligerent behavior from Pyongyang in anticipation of the upcoming American presidential election. Both warned shortly before the ICBM launch that such a display was imminently possible, as well as the potential that North Korea could detonate a nuclear weapon to intimidate America and South Korea before the election on Tuesday.\nThe “Hwasong-19” debuted in the greater context of a documented North Korean military presence in Europe. South Korean, American, and Ukrainian officials have warned for weeks that communist dictator Kim Jong-un has agreed to send thousands of troops to Russia to train and ultimately fight in the ongoing invasion of Ukraine. Ukrainian President Volodymyr Zelensky told his South Korean counterpart, Yoon Suk-yeol, this week that he anticipates as many as 12,000 North Korean troops could soon be operating in Ukraine. A video circulating on Ukrainian social media on Friday claimed to show a captured North Korean soldier.\nRodong Sinmun, the official North Korean regime newspaper, celebrated the “Hwasong-19” on Friday as a “tremendously powerful absolute weapon … showing signs of new strength the world has never experienced.” It published photos of a leather-clad Kim Jong-un, alongside daughter Kim Ju-ae, attending the launch of the ICBM, claiming the dictator to have experienced “great satisfaction” at the success of the weapon.\n“The successful test-fire of the new-type ICBM has come to prove before the world that the dominant position the DPRK [North Korea] has secured in the development and manufacture of nuclear delivery means of the same kind is absolutely irreversible,” Rodong Sinmun paraphrased Kim as saying.\n“He clearly reaffirmed that the DPRK would never change its line of bolstering up its nuclear forces under any circumstances,” the propaganda outlet relayed. “He once again stressed that only the peace that can be defended by the strength great enough to control and deter the enemy is the reliable, secure and durable peace.”\nRodong Sinmun claimed that America and South Korea pose “a grave danger” to North Korea that necessitates a greater investment in the country’s nuclear arsenal.\n“The present grave reality … more clearly emphasizes the necessity of the absolute power capable of deterring the enemy and controlling the situation at all times and the validity of its steady increase,” the newspaper asserted.\nThe North Korean government almost immediately confirmed the missile launch on Thursday, contrary to its typical process of waiting a day before offering any commentary on an ICBM test. Its report aligned with information published by South Korean and Japanese officials, who stated that the missile, shot at a very steep angle, flew 621 miles across and 4,300 high.\nIn its initial confirmation of the test, the North Korean Central News Agency (KCNA) stated the missile “fully meets the purpose of informing the rivals [South Korea and America], who have intentionally escalated the regional situation and posed a threat to the security of our Republic recently, of our counteraction will.”\nIn remarks to the press on Friday, according to the Yonhap News Agency, appearing to confirm the North Korean claims, South Korean officials described the Hwasong-19 as the “largest long-range missile yet.”\n“A South Korean military official told reporters on condition of anonymity that the Hwasong-19 is longer than the country’s previously known largest ICBM — the Hwasong-17,” Yonhap noted. “In comparison, the Hwasong-17’s TEL, which also has 11 axles, is about 23 meters long.”\n“The size of the Hwasong-19, powered by solid propellant, also indicates that it has a relatively longer range and larger payload than the smaller solid-fuel Hwasong-18 solid-fuel ICBM that is presumed to be able to target the U.S. mainland,” it continued.\nSouth Korean officials also suggested that the shape of the missile could potentially hold more than one nuclear warhead. Despite the updated capabilities of the Hwasong-19, South Korean officials dismissed the claim that it was an “ultimate” weapon, noting that its efficacy is still not confirmed as its ability to travel on a horizontal path, rather than being shot into the sky, remains unknown.\nThe Hwasong-19 may not be the last North Korean surprise before the American presidential election. Both Japanese and South Korean officials suggested this week that Pyongyang has fully refurbished the Punggye-ri Nuclear Test Site, unused since 2017, meaning it could soon be used to detonate another nuclear weapon.\nSouth Korean officials “suggested the North could launch an ICBM to verify its atmospheric reentry technology, at a timing targeting the US presidential election in November,” the Japanese news network NHK reported. The officials, it added, “have not ruled out North Korea going ahead with its seventh nuclear test around the time of the US presidential election.”\nJapanese government Yoshimasa Hayashi told reporters this week that North Korea “may undertake further provocative actions, such as launching various missiles, a satellite, or conducting a nuclear test.”",
         "2024-11-01",
         "en"
        ],
        [
         "24",
         "Breitbart",
         "Hungary's Orbán Convinced Donald Trump Will Bring Peace to Ukraine",
         "Hungarian Prime Minister Viktor Orbán said that he is “convinced” that if Donald Trump is sent back to the White House, he will immediately bring about a diplomatic solution to the war in Ukraine, with or without the help of the European Union.\nSpeaking alongside former German Chancellor Gerhard Schröder from Vienna this week, Mr Orbán said that if elected next week, Trump’s team will “sit down with the Russian president in no time and negotiate,” adding, “We are preparing.”\nOrbán, one of the former president’s chief allies in Europe, accused Brussels of operating under a delusion, arguing that the EU leadership has refused to accept or failed to understand that Ukraine cannot win the war, Die Welt reports.\n“This war is lost,” Orbán said. “The situation is getting worse and worse. If Europe does not want to send its own soldiers, it must finally accept that. The fact that Europe is proud of not communicating with Russia is barbaric and diplomatically illiterate.”\nThe populist leader did admit, however, that initial negotiations will not be for a broader peace agreement between the West, Ukraine, and Russia but rather to get a ceasefire to stop the bloodshed.\nSchröder, a longtime ally of Vladimir Putin, agreed with the sentiment and said it was wrong for Berlin and Paris to criticise the Hungarian leader for advocating for a ceasefire during trips to Beijing, Kyiv, Moscow, and the United States. Instead, EU leaders should support peace efforts from Budapest.\nSchröder also supported Trump’s desire to bring peace to Europe, saying that while he never thought he would back the Republican candidate, “I would praise him again”.\nThe former German chancellor, who has faced criticism for his business ties in Russia, such as holding positions with Nord Stream AG, Rosneft, and Gazprom, again accused former UK Prime Minister Boris Johnson of scuppering an early peace deal between Ukraine and Russia at a 2022 meeting in Istanbul.\nOn the other hand, Orbán argued that the peace deal lacked necessary guarantees and that Ukrainian President Volodymyr Zelensky had blocked peace talks, opting instead to continue the war.\nMr Trump has claimed that if elected, he would negotiate a ceasefire between Kyiv and Moscow before he is even inaugurated in January.\nThe former president has so far opted to keep his negotiating tactics close to his chest. However, following a meeting at his Mar-a-Lago residence earlier this year, Prime Minister Orbán suggested that cutting off American aid to Ukraine would likely be used to force Zelensky to the table.",
         "2024-11-02",
         "en"
        ],
        [
         "25",
         "Breitbart",
         "CNN's Collins: 'Hard' to Buy Spin on Biden's 'Garbage' Comments When You Can Watch Video",
         "On Tuesday’s broadcast of CNN’s “The Source,” host Kaitlan Collins stated that it’s hard to buy the White House’s attempt to clean up President Joe Biden’s statement about supporters of 2024 Republican presidential candidate former President Donald Trump “when you can listen to it for yourself” by just watching the video of the remarks.\nWhile speaking with Pennsylvania Gov. Josh Shapiro (D), Collins played video where Biden said, “The only garbage I see floating out there is his supporters. His — his — his demonization of Latinos is unconscionable, and it’s un-American.”\nShe then stated that “it sounds like he’s calling Trump supporters, there, garbage.”\nCollins added, “[T]he White House is trying to say that what President Biden was saying — they’re putting an apostrophe there on ‘supporters’, saying it’s the singular, I guess referring to the comedian, that supporter’s comments. It’s hard to really look at that when you can listen to it for yourself.”\nFollow Ian Hanchett on Twitter @IanHanchett",
         "2024-10-29",
         "en"
        ],
        [
         "26",
         "Breitbart",
         "Israel Says It Will Ensure Safety of Lebanon's Cultural Heritage Sites",
         "Israel said Thursday that it would ensure the safety of Lebanon’s cultural heritage sites, even as it evacuates cities that are near ancient ruins and archaeological treasures.\nMany residents of Lebanon have expressed concern this week as the Israeli military has ordered evacuations in the city of Baalbek, in northeastern Lebanon.\nThe city is far from the region of southern Lebanon from which Hezbollah terrorists have been firing at Israel for more than a year, but Hezbollah has established a significant presence in the city, which is near the Syrian border, across which Hezbollah smuggles weapons supplied by the Iranian regime.\nBaalbek includes Roman ruins that are listed as a World Heritage Site by the United Nations Educational, Scientific and Cultural Organization (UNESCO) and that are, the BBC notes, “are among the largest and best-preserved in the world.”\nIsraeli government spokesman David Mencer told a press briefing, in response to questions from Breitbart News, that that Israel had seen reports of requests to ensure that historical sites will not fall within the range of fire.\n“The IDF [Israel Defense Forces] will, of course, ensure that is always the case,” Mencer said. However, he added that “ultimately, it is the fault of Hezbollah” that war had reached such areas, due to its decision to attack Israel without provocation over the past year.\nHe noted that the number of people evacuated from their homes in Israel was currently 58,000, “due to the incessant rocket fire,” which had killed 64 people and wounded 603, even before five more were killed and one wounded in an attack earlier in the day.\nThe border had been quiet for 17 years when Hezbollah began firing at Israel on October 8, after the Hamas terror attack.\nIn 2022, Israel and Lebanon signed a deal for the development of offshore natural gas resources, under which Israel gave up gas fields that were within its territorial waters in the hope that doing so would discourage Hezbollah from launching future wars.\nAsked whether that had been a mistake, Mencer said that Israel would be “changing our strategy moving forward,” though stressing that Israel still sought peace with Lebanon and the Lebanese people.\nHe noted that while several Arab states have been willing to make peace with Israel, including through the Abraham Accords, the Iranian regime has “decided to develop its own empire, in which there is no place for the state of Israel,” which led to the current war, as Hezbollah is controlled by Iran.\nIsrael had dealt Iran a “crushing blow,” Mencer said, and would continued to confront Iran over its efforts to disrupt relations between Israel and the Arab states.\nJoel B. Pollak is Senior Editor-at-Large at Breitbart News and the host of Breitbart News Sunday on Sirius XM Patriot on Sunday evenings from 7 p.m. to 10 p.m. ET (4 p.m. to 7 p.m. PT). He is the author of The Agenda: What Trump Should Do in His First 100 Days, available for pre-order on Amazon. He is also the author of The Trumpian Virtues: The Lessons and Legacy of Donald Trump’s Presidency, now available on Audible. He is a winner of the 2018 Robert Novak Journalism Alumni Fellowship. Follow him on Twitter at @joelpollak.",
         "2024-10-31",
         "en"
        ],
        [
         "27",
         "Breitbart",
         "Biden’s 'Garbage' Smear Forces Vulnerable Senate Democrats to Scramble to Distance",
         "Vulnerable Democrat Senate candidates are scrambling away from President Joe Biden as his “garbage” smear on Trump supporters endangers candidates’ viability, while others refuse to say whether or not they actually think former President Donald Trump’s supporters are “garbage.”\nArizona Democrat Senate nominee Rep. Ruben Gallego (D-AZ) entirely dodged Breitbart News’s comment request in response to whether or not he thinks Trump supporters are garbage.\n“I am running to represent all Arizonans, regardless of who they vote for,” he said.\nBreitbart News followed up, again asking if he views Trump voters as garbage and for his response to Biden’s extremely divisive comment, as well as his take on Vice President Kamala Harris’s reaction to it.\nGallego did not respond to the following questions hours after they were asked.\nBiden disparaged Trump supporters during a video call with Voto Latino on Tuesday.\n“The only garbage I see floating out there is his supporters,” Biden said.\nThe clip went viral on social media and upstaged Vice President Kamala Harris’s closing argument speech at the Ellipse in Washington, DC.\nGallego’s opponent, Republcian Kari Lake, slammed him and brought receipts from when he called Trump supporters “the worst people in the world” in 2016.\n“People who hate us don’t deserve the privilege of representing us,” Lake wrote in a post on X. “I don’t hate anyone. I just want to help Arizonans.”\nWhile Gallego responded to Breitbart News’s initial comment request but avoided the follow-up, the senate offices of Sens. Bob Casey (D-PA) and Tammy Baldwin (D-WI) did not respond to Breitbart News’s multiple comment requests Wednesday asking the senators, “Do you think Trump supporters are garbage?”\nAccording to Washington Free Beacon investigative reporter Chuck Ross, a Casey spokesman gave a similar dodging statement that Gallego did to Breitbart News regarding the “garbage” insult.\n“Senator Casey respects all Pennsylvanians regardless of how they vote,” the spokesperson said.\nRepublican businessman Dave McCormick, Casey’s opponent, blasted the weak statement on Wednesday night.\n“Bob Casey cannot bring Pennsylvania together if he is too weak to condemn Joe Biden or anyone else calling half of our state garbage,” he wrote.\nInkl reports that “Baldwin’s campaign spokesman stated that Baldwin does not agree with President Biden’s comments.”\nRepublican businessman Eric Hovde, who is challenging Baldwin, released an ad Wednesday showing a previous video of Baldwin trashing Trump supporters and likening it to Clinton’s “basket of deplorables” comment.\nSen. Jacky Rosen’s (D-NV) campaign gave a more vigorous rebuke to the comments than Gallego and Casey.\n“Senator Rosen strongly disagrees with disparaging anyone based on who they vote for,” a Rosen campaign spokesperson told Breitbart News. “As one of the most bipartisan and independent Senators, she works hard to find common ground across party lines and represent all Nevadans.”\nRosen’s opponent, Ret. Army Capt. Sam Brown (R) blasted Biden Tuesday night for trashing half of the country.\n“Tonight, Joe Biden called half of America ‘garbage,” Capt. Brown wrote. “‘Garbage’ because we believe in putting America First, securing our borders, keeping men out of women’s sports, & making life affordable for working families.”\nIn a similar fashion to Rosen, Sen. Brown distanced himself from Biden, saying he disagreed that Trump voters are “garbage” in a statement to Breitbart News.\n“Sherrod doesn’t agree with that and fights for all Ohioans, regardless of who they vote for,” Brown campaign spokesman Matt Keyes said.\nOne of Brown’s donors, Vinod Khosla, notably said Tuesday that Biden’s insult did not go far enough.\n“Garbage is an understatement for MAGA extremists,” he tweeted.\nBrown’s opponent, Republican businessman Berno Moreno, hammered Biden, Harris, and Brown on Tuesday night.\n“We always knew career politicians like Joe Biden, Kamala Harris, and Sherrod Brown hated American citizens,” he wrote. “It’s obvious from their policies of open borders, high prices, and massive government overreach. Now, they are just saying the quiet part out loud.”\nRep. Elissa Slotkin (D-MI), who is Michigan’s Democrat Senate nominee, scolded Biden for his remarks while appearing on a local radio program, Fox News reported.\n“He shouldn’t have said it, it’s inappropriate,” Slotkin told a Michigan radio station, Fox News reported. “For me, I just think that kind of talk is the last thing we need in our politics.”\nFormer U.S House Intelligence Chair Mike Rogers (R-MI), the GOP nominee for Senate in the Wolverine State, called out Biden, Slotkin, and Harris on Tuesday night.\n“Michiganders living paycheck to paycheck aren’t garbage, Joe!” he wrote.\n“The clear and disgusting contempt that Biden, Harris, and Slotkin have for Americans who don’t support their garbage policies is all you need to know and why we’re going to win next week,” Rogers added.",
         "2024-10-30",
         "en"
        ],
        [
         "28",
         "Breitbart",
         "Jonah Goldberg Says Trump Made Him Lie About Trump Wanting Liz Cheney Shot",
         "The disgraced Jonah Goldberg’s latest act of liberal fascism involves him lying about Donald Trump on CNN and then claiming it was Donald Trump who made him lie.\nNot-So-Little Lord Fauntleroy grows more pathetic and self-loathing by the day.\nWe all know what former President Trump said about Liz Cheney on Thursday. There was nothing ambiguous about what he said or what he meant:\nLet’s put her with a rifle standing there with nine barrels shooting at her. Let’s see how she feels about it, you know when the guns are trained on her face. You know, they’re all war hawks when they’re sitting in Washington, in a nice building saying, ‘Oh, gee, well, let’s send — let’s send 10,000 troops right into the mouth of the enemy.’\nThe idea that Trump is calling for Cheney to be executed or face a firing squad is preposterous. He opens his statement by saying “Let’s put her with a rifle standing there…” If you’re calling for someone to be executed, you don’t hand them a rifle.\nTrump is making a chickenhawk statement about Liz Cheney that would have won him his own MSNBC primetime show in 2006.\nAnyway, here’s what Goldberg said on far-left CNN Friday morning about Trump’s statement:\nHe’s saying quite explicitly and unambiguously that Liz Cheney should be shot, should be executed by firing squad. That is appalling. That is a small facet of the reasons why he’s unfit for office, and the Republican Party has made a disastrous mistake. … Let’s execute a political opponent, who happens to be a woman, because I don’t like her. Does that pull more low-propensity voters in his coalition to the polls? I honestly don’t think so.\nSo, he’s lying. Trump’s point was clear, and allow me to once again make the crucial and incontrovertible point that in Trump’s scenario, Liz Cheney is holding a rifle. Therefore, there is no question he is not calling for her to be executed. Rather, he is calling on her to walk the war-pig walk. Duh.\nIt gets better…\nAfter the blowback became too much, after leftists and Trump haters like former congressman Joe Walsh, Vox’s Zach Beauchamp, and Free Press columnist Kat Rosenfeld defended Trump’s statement and called out the corporate media for not presenting the full and obvious context of what Trump said, Goldberg xweeted that, “I need to make a statement.”\nHere’s his opener:\nThis morning on CNN I referred to Trump’s “rifles” quote as him advocating a “firing squad” for Liz Cheney. I was reacting in haste to what were objectively appalling and irresponsible comments that had been framed in the set-up piece in the context of previous statements Trump made about shooting protestors and having generals “executed.” Still, I was wrong to say he was calling for a firing squad execution. After I said that, my co-panelist, Brad Todd made the case that I was wrong. Brad was right and, again, I was wrong. Trump was making – albeit in his customary fashion – a different argument about Cheney’s alleged foreign policy views and the use of force. I let my disgust at Trump’s comments get the better of me as this was the first time I’d heard them.\nHe’s blaming Trump for his lying about Trump, and yes, Goldberg lied. He wasn’t mistaken. He lied. Even in the truncated clip CNN aired in the “set-up piece,” Trump clearly says, “Let’s put her with a rifle…” How can any reasonably intelligent person hear that and then say, He’s calling for a firing squad? Granted, over these last ten years, I’ve discovered Jonah Goldberg is nowhere near as smart as I once thought he was, and obviously he’s less principled than a junkie in a bus station bathroom selling himself for ten bucks, but Goldberg is not so dumb he thinks you give the person being executed a rifle.\nJonah Goldberg is a liar, and when he got caught lying, he’s such a bottom feeder desperate to please his new corporate media masters, he blamed Trump for his own lying.\nWin or lose on Tuesday, there is no going to back to a Republican Party that has anything to do with America’s Jonah Goldbergs.\nTrump should sue everyone spreading this lie, including the increasingly chubby Kasie Hunt. This isn’t opinion. This isn’t reporting. This is the telling of a deliberate lie to damage a man’s reputation. This is defamation.\nJohn Nolte’s first and last novel, Borrowed Time, is winning five-star raves from everyday readers. You can read an excerpt here and an in-depth review here. Also available in hardcover and on Kindle and Audiobook.",
         "2024-11-01",
         "en"
        ],
        [
         "29",
         "Breitbart",
         "The Price of Garbage Is Up 18.5% Under Biden-Harris",
         "The prices Americans pay for garbage collection have jumped 18.5 percent since Joe Biden and Kamala Harris entered the White House, according to data from the U.S. Department of Labor.\nThe consumer price index for water, sewage, and garbage collection was up 4.75 percent in September compared with one year earlier. Trash collection inflation peaked at a year-over-year rate of 5.8 percent in June of last year.\nThe Harris campaign was scrambling on Wednesday after Biden called Trump’s supporters “garbage” in an interview. Biden has said he only meant to refer to some of Trump’s supporters.\n“The only garbage I see floating out there is his supporters,” Biden said.\nThe remarks are being compared to Hillary Clinton referring to Trump’s supporters as “deplorable” in 2016, fueling a backlash that helped propel Trump into office.",
         "2024-10-30",
         "en"
        ],
        [
         "30",
         "Breitbart",
         "North Korea Stages Its Longest ICBM Flight Ever -- Capable of Reaching U.S. in Time for Election",
         "Communist North Korea fired an intercontinental ballistic missile (ICBM) on Thursday that flew for 86 minutes, a record for Pyongyang, suggesting it is capable of reaching the continental United States.\nSouth Korean and Japanese military observers tracked the missile, documenting that it traveled 621 miles across and flew to about 4,300 miles in altitude. The missile fell in the East Sea/Sea of Japan. The missile appeared to be fired intentionally at a very steep angle to not land on any populated target, but show the world it is capable of hitting America if necessary.\nPyongyang’s state-run Korean Central News Agency (KCNA) confirmed the missile launch shortly after it occurred, calling it a “very crucial test” necessary to show the world the “modernity and creditability” of North Korea’s nuclear threats.\nKim Jong-un issued a statement directly on Thursday defending the threatening launch as an “appropriate military activity,” but not directly describing it as a ploy related to the schedule of the American presidential election. The ICBM, he claimed, “fully meets the purpose of informing the rivals [South Korea and America], who have intentionally escalated the regional situation and posed a threat to the security of our Republic recently, of our counteraction will.”\n“It also constitutes an indispensable process in the course of constantly developing our state’s strategic attack forces,” he continued. “We should never allow any threat to approach the security sphere under our state’s influence.”\n“The security situation of our state and ever-aggravating prospective threats and challenges require us to continue to bolster up our modern strategic attack forces and more perfectly round off our nuclear forces’ response posture,” he concluded, vowing to never denuclearize his country.\nThe KCNA report did not identify what kind of ICBM North Korea launched on Thursday. Pyongyang often boasts of the specific model missile that it fires. South Korea’s Joint Chiefs of Staff (JCS) similarly noted that it did not have enough evidence to confirm the model launched and stated that it could potentially be an entirely new ICBM model. The latest known model of North Korean ICBM is the “Hwasong-18,” which Kim Jong-un first ordered a test-launch of in July 2023. South Korean experts predicted based on the information North Korea published on the missile model that it could potentially hit any part of the continental United States. North Korea had not launched an ICBM in about a year.\n“Early assessment showed there is a possibility (North Korea) may have test-fired a new type of solid-fuel long-range ballistic missile,” JCS spokesperson Lee Sung-jun said on Thursday. The Korea JoongAng Daily also reported, citing an unnamed JCS official, that South Korean military experts believe Pyongyang used a different mobile launcher than those previously used for older models, adding to evidence that the ICBM may have been an entirely new missile.\n“The launch today may have been from a new 24-wheel mobile launcher that North Korea recently revealed,” a JCS official reportedly said. “It is possible that the missile has grown in size and the warhead weight has increased.”\nLee told reporters that the South Korean military believes that the missile launch was in part timed to coincide with the days before America elects a new president, potentially to “gain leverage” over any incoming American presidential administration.\nThe South Korean news agency Yonhap also quoted an expert at the Korea Institute for National Unification, Hong Min, who said the missile launch was also a way to remind the world that North Korea now boasts a mutual defense agreement with Russia and is believed to be increasingly involved in Russia’s invasion of Ukraine.\n“Given that an ICBM targets the U.S., (the North) has boasted its proven capability to retaliate in the event its safety is threatened,” Hong said.\nOfficials in both Seoul and Tokyo warned on Wednesday that they had detected North Korean military activity suggesting an imminent ICBM launch or even nuclear weapons test. Members of the South Korean Defense Intelligence Agency (DIA) told lawmakers that it believed that Kim Jong-un had entirely rehabilitated the Punggye-ri Nuclear Test Site, used for seven previous tests and believed to be in a state of extreme disrepair. The South Korean officials, Japanese news network NHK reported, predicted the ICBM launch and “have not ruled out North Korea going ahead with its seventh nuclear test around the time of the US presidential election.”\n“The officials also said preparations inside the Punggye-ri nuclear test site in the northeast of the country are almost complete,” the report relayed. Punggye-ri has not been used for a nuclear test since 2017.\nWhile Kim Jong-un has not ordered a nuclear test in seven years, he has taken a variety of measures intended to reinforce his country’s illicit nuclear weapons program, including outlawing denuclearization and ordering an “exponential increase” in its nuclear warhead arsenal in early 2023. He repeated that call in September, after signing a mutual defense agreement with Russian strongman Vladimir Putin.\nKim has focused his foreign policy in the past four years on improving ties with Russia, distancing North Korea from its traditional patrons in communist China. Shortly after signing the defense agreement, reports began surfacing that North Korea was preparing to send troops to reinforce Russian efforts in the invasion of Ukraine. As of this week, the South Korean National Intelligence Service (NIS) informed that it believes 3,000 North Korean soldiers are in Russia, and that number could balloon to as many as 12,000 by the end of the year.\n“This illegal military cooperation between Russia and North Korea is a significant security threat to the international community and could pose a serious risk to our national security,” South Korean President Yoon Suk-yeol said this week. “With the war in Ukraine going on for three years, North Korea has deployed troops to Russia beyond providing weapons.”\n“We must thoroughly assess all possibilities and prepare countermeasures. I urge everyone to engage in risk management with a heightened sense of vigilance,” Yoon asserted.",
         "2024-10-31",
         "en"
        ],
        [
         "31",
         "Breitbart",
         "White House: Interest Rates Are Up Due to 'Stronger Economy' Under Biden, Trump's 'Destructive' Ideas",
         "On Friday’s broadcast of Bloomberg’s “Balance of Power,” White House Council of Economic Advisers Chair Jared Bernstein stated that bond market interest rates and mortgage rates have increased and that’s partially due to “the stronger economy” under President Joe Biden, but “I also think there’s a policy element going on in that spread, in that interest rate. And I think it has to do with the idea that one of the candidates is talking about massive tariffs — acting as a sales tax on the middle class –, massive deportations — terrible idea for the labor market –, and compromising Fed independence. That may also be putting some upward pressure on rates.”\nBernstein said, “Well, we’ve seen rates in the bond market be somewhat elevated. We’ve certainly see[n] the mortgage rate go up. And part of that has to do with the stronger economy. So, look, under President Biden — we got the GDP report this week — under President Biden, the annualized growth rate for GDP has been slightly north of 3%. That is a very strong, very much above-trend growth rate. So, strong growth, solid labor market, easing prices, real wage and income gains, certainly putting some upward pressure there. But I also think there’s a policy element going on in that spread, in that interest rate. And I think it has to do with the idea that one of the candidates is talking about massive tariffs — acting as a sales tax on the middle class –, massive deportations — terrible idea for the labor market –, and compromising Fed independence. That may also be putting some upward pressure on rates. And I think that’s just a sign of some of those destructive ideas.”\nFollow Ian Hanchett on Twitter @IanHanchett",
         "2024-11-02",
         "en"
        ],
        [
         "32",
         "Breitbart",
         "Breitbart News Daily Podcast Ep. 647: Dr. Sebastian Gorka on Biden Calling Trump’s Supporters ‘Garbage’",
         "Dr. Sebastian Gorka, a former strategist to President Donald Trump and host of “America First,” joins host Mike Slater to discuss Joe Biden calling Trump’s supporters “garbage.” How will this smear of half the country impact the 2024 race and its outcome? Gorka gives his take.\nThe Breitbart News Daily Podcast runs Monday through Friday as a “Director’s Cut” of the SXM Patriot radio show hosted by Mike Slater.\nSUBSCRIBE for free by clicking your preferred podcast platform below.",
         "2024-10-30",
         "en"
        ],
        [
         "33",
         "Breitbart",
         "CBS's O'Donnell: Trump 'Giving No Grace' to Biden's 'Garbage' Remarks",
         "CBS News anchor Norah O’Donnell accused former President Donald Trump “and his supporters” of not giving President Joe Biden “grace” over his “garbage” remarks.\nO’Donnell referred to how Trump rode on a garbage truck to his rally in Wisconsin a day after Biden described Trump voters as being “garbage.”\n“Former President Donald Trump was in North Carolina earlier, and tonight he’s also in Wisconsin,” O’Donnell. “He landed in Green Bay just a short time ago, and pulled, then, this campaign stunt, speaking to reporters from a garbage truck, proof that he and his supporters are giving no grace to a gaffe by President Biden, where he in his explanation, inadvertently called Trump supporters garbage.”\nAs Breitbart News previously reported, Biden stated:\n“The only garbage I see floating out there is his supporters,” Biden said, later attempting to walk it back by claiming that he was only referring to the comedian Trump’s campaign had on stage at Madison Square Garden on Sunday.\nBiden’s comments come after comedian Tony Hinchcliffe made a joke about Puerto Rico being “a floating island of garbage.”\nIn a video posted to X, Trump was seen wearing an orange vest and saying, “250 million people are not garbage.”\n“Hello, everybody, this is Donald Trump and 250 million people are not garbage,” Trump said.",
         "2024-10-30",
         "en"
        ],
        [
         "34",
         "Breitbart",
         "Poll: Donald Trump Ekes Out Lead over Kamala Harris in Michigan",
         "More via the outlet:\nGreen Party candidate Jill Stein and former Natural Law Party candidate Robert F. Kennedy Jr., who has dropped out of the race but remains on the ballot, each received 1.4%, independent Cornel West received 1% and Libertarian Chase Oliver received 0.2%. Independent Joseph Kishore also got 0.2%.\nAnother 1.4 percent remain unsure of who they would support or did not answer.\nIt also examined the Senate race between Democrat Rep. Elissa Slotkin (D-MI) and Republican Mike Rogers. That is also a close race, with Slotkin garnering 47.2 percent support to Rogers’s to 45.5 percent. Five percent remain undecided — more than enough to swing the race in either direction.\nThis survey coincides with others telling a similar story. A Emerson College Polling/RealClearWorld survey released this week showed Trump leading Harris in Michigan by one percent — 49 percent to Harris’s 48 percent support. Weeks ago, the two were tied in that survey.\nSimilarly, a Patriot Polling survey released this week also showed Trump leading Harris by one in Michigan and independents swinging his way.\nThe current RealClearPolitics average of polls shows Harris up by an average of 0.5 percent in the state. Trump flipped Michigan for the first time in over 20 years in 2016.",
         "2024-10-30",
         "en"
        ],
        [
         "35",
         "Breitbart",
         "Watch Live: Donald Trump Holds Rally in Rocky Mount, North Carolina",
         "Former President Donald Trump speaks to supporters at a rally in Rocky Mount, North Carolina, on Wednesday, October 30.\nFormer President Donald Trump speaks to supporters at a rally in Rocky Mount, North Carolina, on Wednesday, October 30.",
         "2024-10-30",
         "en"
        ],
        [
         "36",
         "Breitbart",
         "Dem Rep., Harris Surrogate on if Unborn Have Rights: It's Right of Women to Make Choice for Their Bodies",
         "During a town hall on NewsNation on Wednesday, Rep. Ro Khanna (D-CA), who is also a Harris-Walz surrogate, responded to arguments that the unborn have rights by stating that “We had Roe v. Wade for many, many years. It was a right of women to make that choice for their bodies.”\nAfter former Alaska Gov. Sarah Palin (R), ESPN host Stephen A. Smith, and former Fox host Bill O’Reilly discussed abortion and whether it’s responsible for the gender gap in polling in the presidential race and if such a gap exists, how appropriate it is for men to weigh in on the issue, and whether 2024 Republican presidential candidate former President Donald Trump has restricted access to abortion, other women’s health issues, and whether women have fewer rights than men, O’Reilly stated, “Democrats have been very effective in saying to women — American women, that the government has no right to interfere with your body. That’s the mantra, right? Isn’t there another body involved?” And Palin strongly agreed.\nO’Reilly continued, “Especially in late-term, isn’t there another body? Okay, so, now, we never, and I mean never, hear one word: adoption. We never hear what Bill Clinton said, abortions safe and rare. What we hear from the Democratic candidate for president is, abortion any time for any reason. Do you know there are only three non-Communist countries in the world that [have] that law? And there is a reason for that.”\nPalin then stated, “So, you know what we need to do a better job of is allowing easier adoptions. We need to make it something that is more attractive — if you will — that alternative to taking the life of a baby in the womb, instead of that, allowing and providing resources, even, for those who are in less than ideal circumstances, finding themselves in a situation where they’re faced with that choice.”\nHost Chris Cuomo then stated, “Right. And the key word is choice, right? Because once you create a right or remove one, it then becomes about who gets to make the decisions. And then you have this whole decision chain that you’re discussing about adoption and health or whatever it is, but who gets to make the determination? That’s the issue that the Democrats are trying to isolate. How well they do it — to Stephen A. Smith’s point — is a different question.”\nCuomo then asked Khanna, “When you hear the argument about what this issue should mean and how it should be argued from Gov. Palin and others, what do you believe the Democratic response is?”\nKhanna answered, “Well, the response is simple: We had Roe v. Wade for many, many years. It was a right of women to make that choice for their bodies. And it’s overwhelmingly popular. [It] explains Bill O’Reilly’s point of why there is a gender gap.”\nKhanna then gave other reasons for the gender gap.\nPalin then said that we’re still not addressing the point of the rights of the unborn.\nThe discussion then turned to whether it’s accurate to say if 2024 Republican presidential candidate former President Donald Trump supports a national abortion ban.\nLater in the segment, Rep. Jared Moskowitz (D-FL) stated that he doesn’t support late-term abortions.\nFollow Ian Hanchett on Twitter @IanHanchett",
         "2024-10-31",
         "en"
        ],
        [
         "37",
         "Breitbart",
         "Harris Advisory Board Member: We 'Want to Unleash Nationally' What We Did in California on Immigration",
         "On Wednesday’s broadcast of MSNBC’s “José Díaz-Balart Reports,” Harris Campaign Advisory Board Member Sen. Alex Padilla (D-CA) stated that California “knows the value of our diversity, including our immigrant population, its contribution to the strength of our state and our economy. And we want to unleash nationally what we’ve been able to unleash here in the state of California.” And 2024 Democratic presidential candidate Vice President Kamala Harris is “the first to remind us we need to be thoughtful, we need to be humane, we need to be smart, and we cannot leave the millions of DREAMers and farmworkers and so many other essential workers that we depend on out of this conversation.”\nHost José Díaz-Balart asked, “What is it that your message is to the people that you represent and that you work so hard for, and I’m talking about DACA recipients and I’m talking about the millions of people who [live] in mixed immigration status households that don’t hear themselves reflected in any conversation, when, for example, the main focus is that border bill?”\nPadilla answered, “I have the honor, as you know, José, to represent the 40 million people of California. And I say everybody, because California, more than any other state, knows the value of our diversity, including our immigrant population, its contribution to the strength of our state and our economy. And we want to unleash nationally what we’ve been able to unleash here in the state of California. Californians and a lot of Californian activists and advocates know Kamala Harris for her talk about the borders, to address that question for the people who still may be wondering, but she’s the first to remind us we need to be thoughtful, we need to be humane, we need to be smart, and we cannot leave the millions of DREAMers and farmworkers and so many other essential workers that we depend on out of this conversation. The organizations and organizers in California know it, we’ve been deploying throughout the country to talk to our counterparts [about] why it’s important to elect Kamala Harris president of the United States and restore Democratic majorities in both houses [of] Congress so we can finally move on with a thoughtful, smart modernization of our immigration system.”\nFollow Ian Hanchett on Twitter @IanHanchett",
         "2024-10-30",
         "en"
        ],
        [
         "38",
         "Breitbart",
         "Looting, Vandalism in Downtown L.A. After Dodgers Win World Series",
         "Los Angeles Dodgers fans celebrated their team’s win over the New York Yankees in the World Series on Wednesday night — but there was also looting and vandalism in L.A. amid the happiness, leading police to make several arrests.\nAmid cheers and fireworks, there were also burglaries, and an L.A. Metro bus was set on fire.\nThe Los Angeles Times reported:\nIn downtown, multiple businesses were burglarized or vandalized, though exact details were not available. Police said some in the crowd were “hostile” and threw objects at officers. Videos showed people stealing from a Nike Jordan store on Broadway and cars doing doughnuts at intersections to roars from bystanders.\nNewsweek added:\nThe Los Angeles Police Department (LAPD) said they had received reports of “looting at several stores in the area of 8th and Broadway” and people were urged to stay out of the area.\n“If you are on the street, at or adjacent to that intersection, leave the area immediately and follow all officers orders,” the LAPD wrote on X, formerly Twitter.\n…\nIn another post on X, the LAPD reported that “various projectiles,” including rocks and bottles, were being thrown at LAPD officers in the area of Olympic & Grand. The department was responding with extra resources to that area.\nThe Dodgers won 7-6 at Yankee Stadium after coming back from a 5-0 deficit with a five-run fifth inning.\nJoel B. Pollak is Senior Editor-at-Large at Breitbart News and the host of Breitbart News Sunday on Sirius XM Patriot on Sunday evenings from 7 p.m. to 10 p.m. ET (4 p.m. to 7 p.m. PT). He is the author of The Agenda: What Trump Should Do in His First 100 Days, available for pre-order on Amazon. He is also the author of The Trumpian Virtues: The Lessons and Legacy of Donald Trump’s Presidency, now available on Audible. He is a winner of the 2018 Robert Novak Journalism Alumni Fellowship. Follow him on Twitter at @joelpollak.",
         "2024-10-31",
         "en"
        ],
        [
         "39",
         "Breitbart",
         "Report: Harris Staff ‘Privately’ Debates Breaking with Biden over ‘Garbage’ Smear",
         "Staff working for Kamala Harris’s campaign are debating whether to break from Joe Biden following his “garbage” smear of the many millions of Americans who support former President Donald Trump, according to the New York Times.\nThe newspaper reported:\nAfter Mr. Biden’s remark, Harris campaign officials privately gauged whether his comments would require her to disagree with him publicly or support his explanation that the comments were taken out of context, according to people familiar with the internal reaction. They asked for anonymity to discuss private deliberations.\nThe visceral smear and political gaffe came as Biden was trying to portray Trump as hostile to Latinos. The report from the Associated Press (AP) said:\nAhead of Harris’ [campaign] remarks, Biden is reacted [sic] to a comic calling Puerto Rico garbage at a Trump rally last weekend by saying, “The only garbage I see floating out there is his supporters.”\nThe uproar over the garbage smear comes after many Harris allies have described Trump’s supporters as fascists and Nazis.\nThe Washington Post did not mention the potential split with the Harris campaign but noted:\nDemocrats were not fully united in defending Biden late Tuesday night.\nAsked about Biden’s comments on CNN, Josh Shapiro — the Democratic governor of Pennsylvania, a critical swing state for Harris — did not dispute that Biden had disparaged Trump supporters.\n“I had not heard that until now … so I’m kind of giving you my fresh reaction to it,” Shapiro said. “I would never insult the good people of Pennsylvania or any Americans even if they chose to support a candidate that I didn’t support.”\nJon Favreau, a progressive closely aligned with Harris and former President Barack Obama, tried to distance the Harris campaign from Biden:",
         "2024-10-29",
         "en"
        ],
        [
         "40",
         "Breitbart",
         "Watch Live: Donald Trump Holds Rally in Albuquerque, New Mexico",
         "Former President Donald Trump speaks to supporters at a rally in Albuquerque, New Mexico, on Thursday, October 31.\nFormer President Donald Trump speaks to supporters at a rally in Albuquerque, New Mexico, on Thursday, October 31.",
         "2024-10-31",
         "en"
        ],
        [
         "41",
         "Breitbart",
         "Nolte: Kimmel Spreads Disinformation to Voters on His Show -- Meme Guy Sentenced to Prison for Same",
         "In today’s edition of Democrats Sure Got It Good, the basement-rated Jimmy Kimmel took to the publicly funded airwaves Wednesday to urge Trump supporters to vote late, like next week Thursday or Friday. Because Election Day is Tuesday, doing so would void their vote.\nIn 2023, Douglass Mackey, the owner of the “Ricky Vaughn” Twitter account, was sentenced to seven months in prison for doing the exact same thing — spreading disinformation in 2016 to Hillary Clinton supporters about how to vote and doing so in a way that would ensure their vote wasn’t counted:\nAs proven at trial, by 2016, Mackey had established an audience on Twitter with approximately 58,000 followers. A February 2016 analysis by the MIT Media Lab ranked Mackey as one of the most significant influencers of the then-upcoming presidential election. Between September 2016 and November 2016, Mackey conspired with other influential Twitter users and with members of private online groups to use social media platforms, including Twitter, to disseminate fraudulent messages that encouraged supporters of presidential candidate Hillary Clinton to “vote” via text message or social media which was legally invalid.\nIt should be noted that it was the Biden administration that arrested and prosecuted Mackey five years later in 2021.\nMackey’s defense was that he was just having fun (his “Ricky Vaughn” account was a favorite of mine). The whole thing was a joke, he argued. Well, after the FBI investigated the joke, Mackey was put on trial, found guilty, and sentenced to seven months in prison. The Feds put the guy through a three-year-and-counting wringer over a stupid shit-post.\nNow, let’s compare Mackey’s 58,000 Twitter followers to the 2.009 million viewers (in the most recent ratings I could find) Kimmel attracts. Kimmel’s audience is 35 times larger than Mackey’s ever was, and that doesn’t include the people who watch Kimmel’s clips online.\nNevertheless, here’s what Kimmel told Kamala Harris supporters Wednesday night: “Vote early, vote early. If you can’t vote early, vote on time.”\nAnd here’s what Democrat Privilege allowed Kimmel to say to Trump supporters: “If you want to vote for Trump, vote late, vote very late. Do your voting on Thursday or maybe Friday.”\nMeaning next week Thursday and Friday. Election Day is Tuesday.\nYes, Kimmel was joking.\nBut so was Mackey.\nKimmel is allowed to run around in blackface without consequence. He’s a Democrat.\nKimmel is allowed to use the N-word without consequence. He’s a Democrat.\nKimmel is a ratings failure who’s still on the air. He’s a Democrat.\nJohn Nolte’s first and last novel, Borrowed Time, is winning five-star raves from everyday readers. You can read an excerpt here and an in-depth review here. Also available in hardcover and on Kindle and Audiobook.",
         "2024-10-31",
         "en"
        ],
        [
         "42",
         "Breitbart",
         "Dem Gov. Shapiro on Biden 'Garbage' Remark: I Wouldn't Say That, Shouldn't Attack Voters",
         "On Tuesday’s broadcast of CNN’s “The Source,” Pennsylvania Gov. Josh Shapiro (D) reacted to President Joe Biden’s comments about supporters of 2024 Republican presidential candidate former President Donald Trump by saying that Biden’s words are “certainly not words that I would choose, and I think it’s important that we remain focused on the contrast between Kamala Harris and Donald Trump and not attacking supporters of either candidate.”\nShapiro said that he had not heard the comments until that very moment, “So, I’m kind of giving you my fresh reaction to it. I would never insult the good people of Pennsylvania or any Americans, even if they chose to support a candidate that I didn’t support. I think the real issue here is Donald Trump and his inability to simply say comments like that are wrong, to simply stand up for his fellow Americans. He is incapable of doing that.”\nHost Kaitlan Collins then asked Shapiro if he thinks Biden should clarify his remarks.\nShapiro responded, “Well, I think President Biden’ll decide what he wants to say. It’s certainly not words that I would choose, and I think it’s important that we remain focused on the contrast between Kamala Harris and Donald Trump and not attacking supporters of either candidate.”\nFollow Ian Hanchett on Twitter @IanHanchett",
         "2024-10-29",
         "en"
        ],
        [
         "43",
         "Breitbart",
         "Breitbart Business Digest: Kamala Harris’s Economic Spin Shattered by October Jobs Bust",
         "October’s Jobs Disaster Undermines Harris’s Economic Claims\nThe economy delivered some rough justice to the campaign of Kamala Harris on Friday in the form of the monthly jobs report.\nHarris has inherited from Joe Biden the habit of claiming Donald Trump bears responsibility for the job losses that the economy suffered during the pandemic. Biden won the White House arguing that what he said was Trump’s mishandling of the pandemic had wrecked the economy—even though the economy was recovering much faster than anyone not named Larry Kudlow thought possible.\nWhat happened next is a story we’ve told many times before. After running on the idea that the economy was in ruins while Trump was president, Biden could not let the economy continue to recover without significant additional stimulus. So, his administration attempted to push through trillions of dollars of new spending under the slogans the American Rescue Plan, the Bipartisan Infrastructure Law, the Build Back Better Act, and the American Families Plan.\nFortunately, Biden’s larger ambitions were thwarted and only a fraction of the dreamed-of expenditures were enacted into law. But the results were bad enough: the worst inflation in forty years, soaring interest rates, the least affordable housing market in generations, and a crisis of confidence in our economy that even full employment and several quarters of rapid growth could not cure.\nHarris’s Misguided Attack on Trump’s Manufacturing Record\nIt never really made much sense for the Democrats to complain about the pandemic job losses. The extended lockdowns and school closures many on the American left supported would have resulted in even worse economic outcomes. The U.S. economy recovered much faster than many other developed economies, in part because of the measures enacted during Trump’s presidency. Neither Biden nor Harris has ever explained what measures they might have taken that would have decreased the impact of the pandemic.\nNot surprisingly, the Harris campaign was never going to let historical accuracy or economic logic stand in the way of attacking her rival for the White House. Harris took aim at Trump’s record on manufacturing in particular, claiming that during the Trump years the U.S. economy lost hundreds of thousands of manufacturing jobs. Harris also frequently claimed that the Biden policies had led to a boom in manufacturing.\nAt a rally in Michigan last month, Harris said, “America lost nearly 200,000 manufacturing jobs” under Trump.\nIn reality, the economy had 178,000 fewer manufacturing jobs when Trump left office in January of 2021 than when his presidency began. But prior to the pandemic, manufacturing employment had grown by over 430,000 jobs while Trump was president. And from the depths of the pandemic closures in 2020, the economy added back 769,000 manufacturing jobs in just the last few months of Trump’s presidency.\nUnder Biden and Harris, manufacturing employment did not recover to the pre-pandemic Trump level until the summer of 2022. Shortly afterward, growth in manufacturing jobs fizzled out. At its peak under Biden-Harris, the manufacturing sector employed 12.95 million, just 126,000 more than under Trump’s peak.\nAt that Michigan rally, Harris also claimed that manufacturing job losses had already begun before the pandemic struck. When asked by CBS News to back up this claim, a spokesperson for the Harris campaign pointed to a decline of 48,000 manufacturing jobs from January 2019 and February 2020.\nIronically, this figure almost matches the jobs lost in manufacturing just last month. According to the Bureau of Labor Statistics, the economy shed 46,000 manufacturing jobs in October. This was the third consecutive month of jobs lost in the manufacturing sector, bringing the three-month total to 78,000. The economy has lost manufacturing jobs in seven of the last 12 months and is down 31,000 from last October.\nBlame It on the Rain\nThe Harris campaign has been quick to dismiss the jobs numbers for October on the grounds that they were likely impacted by the hurricanes and the ongoing Boeing strike. While both are true, the political party that blamed Trump for the results of an exogenous pandemic cannot so easily ask voters to ignore the effects of weather, especially when we have no idea how many jobs the hurricanes may have cost.\nYou live by the exogenous variable sword, you die by the exogenous variable sword. And remember that the estimates of more than 100,000 jobs included estimates of hurricane and strike effects. In other words, we fell well short of expectations even with the strike and hurricanes included.\nIn any case, the Institute for Supply Management‘s survey of the manufacturing sector showed that activity contracted for the seventh consecutive month and has contracted in all but one month for two years; so, this is not just an anomalous report that can be swept aside. Production dropped to the weakest reading since April of 2021. Demand remains “subdued,” according to ISM, and companies show an unwillingness to invest in capital and inventory for fear of a resurgence of inflation or other policy errors.\nHarris, Biden, and their allies in the legacy media have tried nonstop for three years to convince Americans that the economy is healthier than opinion polls and consumer surveys indicate. Friday’s jobs numbers make it much harder for Harris to argue that Democrats will be effective stewards of the U.S. economy.",
         "2024-11-01",
         "en"
        ],
        [
         "44",
         "Breitbart",
         "Harris: Trump's Trans Inmates Ads Have 'Misinformation' and Only 'Relate to Two People' and He Has the Same Policies",
         "On Tuesday’s broadcast of New York’s Power 105.1’s “The Breakfast Club,” 2024 Democratic presidential candidate Vice President Kamala Harris stated that the ads run by her Republican opponent, former President Donald Trump about her views on taxpayer-funded sex change surgeries for inmates “relate to two people,” and he’s hitting her with “a bunch of disinformation and misinformation on this. And he’s living in a glass house, because the policies he’s speaking about in terms of those surgeries were also his policies.”\nCo-host Charlamagne Tha God asked, “[T]he reason I’m stressing that I’m voting for you on November 5 is because Trump has been running these ads with myself and Envy in them, these anti-trans ads, without our permission. How do we combat that?”\nCo-host DJ Envy then asked, “Can we?”\nHarris responded, “Well, yes. Look, truth is always going to prevail over the misinformation and the lies. But it takes work, right? And so, having this conversation right now so all your listeners know. But there is a lot of misinformation and disinformation, because they don’t actually want to talk about the truth, because their truth is a failing truth. And so, yeah, we’ve got to keep reminding folks of the reality, which is I am blessed and honored to have your support and the support of so many communities and individuals who are — their names are known and some names your listeners may not know, but they are leaders in their community.”\nEnvy then followed up, “I wanted to ask about those trans ads. In the ads, he’s saying that Kamala Harris wants to spend taxpayers’ money for sex changes in jails. He’s spent millions and millions of dollars on — like Charlamagne said, having him and myself in that. How do you answer that, for people that don’t know, and what is the real news when it comes to that?”\nHarris answered, “Well, first of all, to your point, he has spent tens of millions of dollars trying to hit me with a bunch of disinformation and misinformation on this. And he’s living in a glass house, because the policies he’s speaking about in terms of those surgeries were also his policies. And the reality of it is that, also, those ads relate to two people, versus the fact that he wants to get rid of the Affordable Care Act, which would impact 45 million people, he wants to get rid of our $35-a-month cap on insulin, … he wants to take away health care through Medicare, and he wants to distract from the fact that he actually — not only does he have a plan on this, versus no plan on anything else, but his plan is to get rid of healthcare coverage for the most needy.”\nFollow Ian Hanchett on Twitter @IanHanchett",
         "2024-10-30",
         "en"
        ],
        [
         "45",
         "Breitbart",
         "Jennifer Lopez Smears Trump as ‘Biggest Adversary America Has Internally Ever Had’ at Kamala Rally",
         "Hollywood star Jennifer Lopez launched a wild smear against former President Donald Trump on Thursday, calling him “the biggest adversary America has internally ever had.”\nJennifer Lopez — who is the former girlfriend of Sean “Diddy” Combs — appeared alongside Kamala Harris at a rally in Las Vegas, Nevada, where she played the race card by trashing Trump as a bigot while failing to list one accomplishment that would qualify Kamala Harris for the White House.\nInstead, she attempted to rally Puerto Ricans in Nevada around Kamala Harris by rehashing comedian Tony Hinchliffe’s “garbage” joke from Sunday.\n“I know what that can feel like and I wouldn’t do it to my worst enemy, or even when facing the biggest adversary I think America has internally ever had,” she said. “But over Kamala Harris’ entire career, she has proven to us who she is. She has shown up for us every day, for the people. And it’s time for us to show up for her.”\nLopez failed to mention Kamala Harris’ role in sending consumer prices skyrocketing to record levels, forcing tens of millions of American households to scrounge in order to afford groceries, rent, and insurance. She also omitted Kamala Harris’ responsibility for the disaster at the southern border, which has resulted in an unprecedented tidal wave of illegal immigration that has flooded cities around the country.\nIn her appeal to Nevada voters, Lopez relied on vague, feel-good emotions to sell Kamala Harris. Later, Lopez added: “You can’t even spell American without Rican.”\nJennifer Lopez’s endorsement of Kamala Harris is already provoking a backlash as numerous commenters have noted that she once dated Sean “Diddy” Combs, who is currently in prison as he faces a mountain of sexual assault charges relating to his Hollywood “freak off” orgies.\nFollow David Ng on Twitter @HeyItsDavidNg. Have a tip? Contact me at dng@breitbart.com",
         "2024-11-01",
         "en"
        ],
        [
         "46",
         "Breitbart",
         "2024 Presidential Election Articles - Breitbart",
         "Jimmy Kimmel took to the publicly funded airwaves Wednesday to urge Trump supporters to vote late, like next week Thursday or Friday.\nJimmy Kimmel took to the publicly funded airwaves Wednesday to urge Trump supporters to vote late, like next week Thursday or Friday.\nA massive number of Georgians who did not participate in the 2020 presidential election recently voted early as former President Donald Trump (R) and Vice President Kamala Harris (D) battle for the White House, an analysis shows.\nDemocrats appear to believe President Joe Biden’s “garbage” smear of Trump supporters could ruin Vice President Kamala Harris’s chances of winning the election.\nHow did it come to this? Dismayed Democrats are reportedly asking each other this simple question six days out from the election as Vice President Kamala Harris continues to stumble eagerly from one disappointment to the next on the campaign trail.\nRep. Alexandria Ocasio-Cortez (D-NY) gushed over Second Gentleman Doug Emhoff on Wednesday night applauding him as the very model of modern masculinity at a campaign event for his wife Kamala Harris.\nFormer President Donald Trump has a two point lead in a hypothetical two-way race with Vice President Kamala Harris in Pennsylvania (49-47 percent), a seven point swing since September 16, Quinnipiac survey found Wednesday.\nLiberal icon and feminist author Naomi Wolf endorsed former President Donald Trump, highlighting how he was “being more inclusive.”\nZhu Fenglian, a spokeswoman for China’s Taiwan Affairs Office, said on Wednesday that Taiwan could be “discarded” if Donald Trump returns to the White House and implements his America First foreign policy.\nAngel Mom Patty Morin, whose 37-year-old daughter Rachel Morin was murdered allegedly by an illegal alien MS-13 gang member, has penned an open letter to Vice President Kamala Harris asking her to immediately close the United States-Mexico border and start deporting every illegal alien who entered the U.S. on her watch.\nFormer President Donald Trump rode in a garbage truck on Wednesday to his Wisconsin rally in response to President Joe Biden trashing millions of Americans as “garbage.”\nFormer President Bill Clinton said the “economy was better” under former President Donald Trump during a rally for Vice President Kamala Harris in Muskegon Heights, Michigan, adding that people should still vote for Harris.\nFormer President Donald Trump spoke about how the Los Angeles Times and Washington Post had declined to endorse Vice President Kamala Harris, adding that they were sending a message that she was “no good.”\nPollster Frank Luntz said Wednesday on CNN’s “News Central” that President Joe Biden’s garbage comment could have a “huge” impact and might be the “turning point” that leads to former President Donald Trump’s victory in the election.\nFormer President Donald Trump encouraged voters in North Carolina to “turn the page forever” on the “failed and corrupt” Biden-Harris administration.\nDemocratic election law specialist Marc Elias is the topic on the last pre-election episode of “The Drill Down” with Peter Schweizer.\n“You can’t be president if you hate the American people,” former President Donald Trump said during a rally in North Carolina.\nCNN senior political data reporter Harry Enten said Wednesday on “CNN News Central” that former President Donald Trump may defeat Vice President Kamala Harris in the presidential election next week because just 28% of Americans think the country is on the right track.\nFox News contributor Kellyanne Conway said Wednesday on “The Faulkner Focus” that President Joe Biden calling supporters of former President Donald Trump garbage was a “reflection” of what Democratic presidential nominee Vice President Kamala Harris also believes.\nWhite House Press Secretary Karine Jean-Pierre denied that President Joe Biden views Donald Trump’s supporters as garbage, contradicting Biden’s remarks that sent Vice President Kamala Harris’s campaign into damage control.\nRepresentative Maxwell Frost (D-FL) claimed Wednesday during an appearance on “CNN News Central” that President Joe Biden misspoke when he called supporters of former President Donald Trump garbage because he was “very angry.”\nThe far-left Washington Post has now lost 250,000 subscribers, which represent ten percent of its customer base.\nFar-left former soccer star Megan Rapinoe is predicting a “grim” and “violent reality” if Donald Trump wins the 2024 election.\nWith only three days to go to vote early in Nevada, Republican turnout continues to crush Democrats.\nAstronaut Buzz Aldrin endorsed Donald Trump, adding that the U.S. “saw a revitalized interest in space” under his first administration.\nPennsylvania Senate GOP nominee Dave McCormick during Wednesday’s broadcast of Fox News Channel’s “Fox & Friends” called on President Joe Biden to apologize for saying the supporters of former President Donald Trump were “garbage.”\nWhoopi Goldberg told her co-hosts Wednesday on ABC’s “The View” that it turned out former Secretary of State and then-Democratic nominee Hillary Clinton was right when she called supporters of Donald Trump “deplorables.”\nFormer President Donald Trump reacted to President Joe Biden calling his supporters “garbage,” saying he thought it was even worse than former Secretary of State Hillary Clinton calling them “deplorables.”\nFormer President Donald Trump has the slightest lead over Vice President Kamala Harris in battleground Michigan, according to a Suffolk/USA Today survey, released just days ahead of the election.\nZoraida Buxó, one of Puerto Rico’s non-partisan shadow senators, officially endorsed former President Donald Trump on Tuesday night.\nA private company in China with a name that riffs on “Trump Victory” surged by ten percent in value on Monday and Tuesday, even as blue-chip stocks on the Chinese market slid by up to one percent.\nVice President Kamala Harris claimed on Wednesday that President Joe Biden clarified his statement that Trump supporters are “garbage” and disagreed with demonizing “people based on who they vote for.”\nDemocrats have been more than willing to name-call over the years, smearing Trump supporters as racist, xenophobic, and the “worst people in the world.”\nSen. JD Vance (R-OH) blasted Silicon Valley investor and Vice President Kamala Harris supporter Vinod Khosla, as he doubled down on President Biden calling Trump supporters “garbage.”\nThe White House released a transcript of President Joe Biden’s remarks in which he called Trump supporters “garbage,” but added an apostrophe to “supporters” and two em-dashes to make it sound like he did not mean all Trump supporters but just one.\nWASHINGTON — Kamala Harris has Bruce Springsteen, Taylor Swift and Beyoncé. Donald Trump has Kid Rock, Waka Flocka Flame and Hulk Hogan.\nKamala Harris and Democratic Party leaders should celebrate the transgender ideology, rather than hide their views from voters, says Masha Gessen, a pro-transgender activist who is also a New York Times columnist.\nFormer CNN political commentator Chris Cillizza said that President Joe Biden’s comments branding Trump supporters as “garbage” is an “absolute nightmare” for Kamala Harris’ presidential campaign.\nLeftwing Washington outlet Politico regularly carries water for Democrats, but Tuesday night they hauled President Joe Biden’s “garbage,” attempting to cover up the president’s attack on Donald Trump’s supporters by disingenuously chopping up his statement.\nThe Trump campaign said that Vice President Kamala Harris lied, name-called, and clung to the past in her closing argument speech “to avoid admitting the truth” about her and President Joe Biden’s “terrible policies.”\nWASHINGTON, DC – Vice President Kamala Harris brought a dark and gloomy tone to her highly partisan closing argument speech on the Ellipse Tuesday night, which was delivered to an audience clearly culled from the Democrat base.",
         "2024-11-02",
         "en"
        ],
        [
         "47",
         "Breitbart",
         "Police Laud Homeowner Who Shot Intruder Multiple Times",
         "Fort Worth Police Department information officer (IO) Tracy Carter lauded a homeowner who shot an alleged intruder saying, “The homeowner did what any of us would have done.”\nWFAA reported that the incident occurred just after midnight Wednesday and that the homeowner told the alleged intruder to leave but he did not listen.\nThe homeowner’s wife heard dogs barking and woke her husband to let him know something was going on. He retrieved his gun about the same time that the alleged intruder, 35-year-old Jeremy Black, swung a plank and shattered the homeowner’s daughter’s bedroom window.\nBlack then allegedly tried to make entry through the home’s kitchen door, which is when the homeowner opened fire.\nFort Worth IO Carter said, “The suspect was taken to the hospital he was shot a couple of times…This guy is lucky to be alive. The homeowner did what any of us would have done, we’d wanna protect our family.”\nThe homeowner’s wife told NBC 5, “It feels bad that we had to do this to protect ourselves…But we feel good in a way also because if my husband didn’t do that, something else would have happened.”\nAWR Hawkins is an award-winning Second Amendment columnist for Breitbart News and the writer/curator of Down Range with AWR Hawkins, a weekly newsletter focused on all things Second Amendment, also for Breitbart News. He is the political analyst for Armed American Radio, a member of Gun Owners of America, a Pulsar Night Vision pro-staffer, and the director of global marketing for Lone Star Hunts. He was a Visiting Fellow at the Russell Kirk Center for Cultural Renewal in 2010 and has a Ph.D. in Military History. Follow him on Instagram: @awr_hawkins. You can sign up to get Down Range at breitbart.com/downrange. Reach him directly: awrhawkins@breitbart.com.",
         "2024-11-01",
         "en"
        ],
        [
         "48",
         "Breitbart",
         "Exclusive -- Rob Bresnahan: GOP Sees More Low-Propensity Voters Come Out than Dems in PA",
         "Republicans in Pennsylvania are seeing a higher percentage of low-propensity voters turn out and vote than Democrats are, Rob Bresnahan, Republican candidate for Congress in Pennsylvania’s 8th Congressional District, said during an interview on Breitbart News Daily.\nBresnahan said the GOP currently has about 17 percent participation from low-propensity voters in the state — people who did not vote in 2020 and/or 2022 — compared to the Democrats, who are seeing 11 percent participation from that same group.\nThe congressional hopeful said the trends are good, and described the energy on the ground as “shocking.”\n“The response that we’ve had at the door — we’ve knocked over 30,000 doors as a campaign. We just had Leader Scalise here on Wednesday the 30th, and the excitement — I mean, we had an outing, a small little rally that turned into 200 people at a manufacturing facility in the district. But even in downtown Scranton, where it is traditionally a darker blue area, people are just fed up,” he said, explaining that they are “fed up” with the economy and with “paying too much for everything.”\n“They’re concerned about the crime and they’re concerned about the southern border. So all of these issues are really strong for a challenger candidate. And this is an area that Donald Trump won in 2016. He won it in 2020, and he’s going to win it again in 2024, and we’re going to win as well. We’re going to expand that House majority from at least four to five,” he continued, describing this as a “must-win race for Republicans.”\n“This race could determine if Republicans have the majority in the House of Representatives,” he continued.\nHe emphasized the significance of low-propensity voters coming out for the GOP and said he believes the figures could be even higher due to a backlog of uncounted ballots.\nLISTEN:\n“Because of the early voting and the month-long activity of voting in Pennsylvania, now there was approximately 12,000 to 15,000 ballots that people have either dropped off at drop boxes or have returned in the mail after they’ve requested their mail ballot that the election bureau just hasn’t even gotten to a chance to scan in the privacy seal or the privacy envelope, so they are just sitting at the election bureau right now, and they just finally had a chance last night to actually scan these voters in,” he said.\n“And you’re saying that to get 17 percent of the Republicans who haven’t voted in the last two elections is really high, at least it’s higher than the Democrats, who have only gotten 11 percent of their registered Democrats. Is that the conclusion?” host Mike Slater asked.\n“These are the people that are just sick and tired that have just probably been sitting on the sidelines. Maybe they’re first-time voters, and they’re saying, ‘Listen, my voice needs to count here. We can’t continue down the path that we are on. Something is wrong. This is broken, and it’s time for a change,'” Bresnahan responded.\n“And these are the people getting up off the sidelines and coming out and casting their votes even — because they want to make sure it counts,” he added.\nBreitbart News Daily airs on SiriusXM Patriot 125 from 6:00 a.m. to 9:00 a.m. Eastern.",
         "2024-11-01",
         "en"
        ],
        [
         "49",
         "Breitbart",
         "Rattled Kamala Harris Turns on Nevada Rally Hecklers with Rambling Scold",
         "A clearly flustered Vice President Kamala Harris turned on protesters who heckled her during a Nevada rally Thursday, resorting to another well-worn display of performative hyperbole to counter them.\n“You know what? Let me say something about this,” Harris said amid protest uproar mid-speech at the Reno event attended by a crowd of some 6,000 supporters.\n“We are here because we are fighting for a democracy,” the vice president obliquely declared as nobody said it was at risk. “Fighting for a democracy.\n“And understand the difference here, understand the difference here, moving forward, moving forward, understand the difference here,” Harris continued as the heckler voices and their message was drowned out.\n“What we are looking at is a difference in this election – let’s move forward and see where we are because on the issue, for example, freedom of choice …” the Democratic nominee continued as the heckling caused her to pause and lose track yet again.\n“That’s OK. That’s alright. That’s OK,” Harris said as her supporters sought to drown the protest voices.\nHours earlier, during a speech in Phoenix, the Democratic nominee for president was interrupted multiple times by anti-Israel protesters, the New York Post reports.\nRELATED: Kamala Yells at Protesters “I Am Speaking!” After Saying She’s Fighting for the Right to Be Heard\nC-SPAN“Hey guys, you know what? Here’s the thing …“ Harris said, addressing the demonstrators.\n“Let’s talk for a moment about Gaza,” she continued. “We all want this war to end and to get the hostages out, and I will work on it full-time when I am elected president.”\nAs Breitbart News reported, Harris has made “word salads” in her speeches before, where she has mentioned “odd phrases and explanations for simple ideas.”\nShe has also resorted to the process in sit down addresses adding unintelligible mixtures of seemingly random words, phrases and observations.\n“IT’S TWO LETTERS”: VP Kamala Harris Breaks Down Artificial Intelligence in Her Infinite Wisdom\nWhite HouseIn March 2022, during a speech in Louisiana, Harris marveled at the “significance of the passage of time.”\nDuring a trip to Poland, Harris appeared to stumble over her words and stated she was standing in “the northern flank.”\n“I am here, standing here on the northern flank, on the eastern flank, talking about what we have in terms of the eastern flank and our NATO allies, and what is at stake at this very moment,” Harris said at the time.\n“What is at stake this very moment are some of the guiding principles around the NATO alliance.”",
         "2024-11-01",
         "en"
        ]
       ],
       "shape": {
        "columns": 5,
        "rows": 1522
       }
      },
      "text/html": [
       "<div>\n",
       "<style scoped>\n",
       "    .dataframe tbody tr th:only-of-type {\n",
       "        vertical-align: middle;\n",
       "    }\n",
       "\n",
       "    .dataframe tbody tr th {\n",
       "        vertical-align: top;\n",
       "    }\n",
       "\n",
       "    .dataframe thead th {\n",
       "        text-align: right;\n",
       "    }\n",
       "</style>\n",
       "<table border=\"1\" class=\"dataframe\">\n",
       "  <thead>\n",
       "    <tr style=\"text-align: right;\">\n",
       "      <th></th>\n",
       "      <th>source</th>\n",
       "      <th>title</th>\n",
       "      <th>content</th>\n",
       "      <th>date</th>\n",
       "      <th>language</th>\n",
       "    </tr>\n",
       "  </thead>\n",
       "  <tbody>\n",
       "    <tr>\n",
       "      <th>0</th>\n",
       "      <td>Breitbart</td>\n",
       "      <td>GOP: WH May Have Illegally Altered Biden's 'Ga...</td>\n",
       "      <td>House Republicans say the Biden-Harris White H...</td>\n",
       "      <td>2024-10-31</td>\n",
       "      <td>en</td>\n",
       "    </tr>\n",
       "    <tr>\n",
       "      <th>1</th>\n",
       "      <td>Breitbart</td>\n",
       "      <td>Mavericks Principal Owners Donate $100 Million...</td>\n",
       "      <td>Miriam Adelson, the principal owner of the NBA...</td>\n",
       "      <td>2024-10-30</td>\n",
       "      <td>en</td>\n",
       "    </tr>\n",
       "    <tr>\n",
       "      <th>2</th>\n",
       "      <td>Breitbart</td>\n",
       "      <td>Fact Check: Harris Campaign Twists Trump Comme...</td>\n",
       "      <td>CLAIM: Vice President Kamala Harris’s campaign...</td>\n",
       "      <td>2024-11-01</td>\n",
       "      <td>en</td>\n",
       "    </tr>\n",
       "    <tr>\n",
       "      <th>3</th>\n",
       "      <td>Breitbart</td>\n",
       "      <td>Harris Co-Chair: She's Different from Biden, H...</td>\n",
       "      <td>On Tuesday’s broadcast of CNN’s “Laura Coates ...</td>\n",
       "      <td>2024-10-29</td>\n",
       "      <td>en</td>\n",
       "    </tr>\n",
       "    <tr>\n",
       "      <th>4</th>\n",
       "      <td>Breitbart</td>\n",
       "      <td>Quinnipiac Poll: Trump Takes Lead in Pennsylvania</td>\n",
       "      <td>Former President Donald Trump has a two point ...</td>\n",
       "      <td>2024-10-30</td>\n",
       "      <td>en</td>\n",
       "    </tr>\n",
       "    <tr>\n",
       "      <th>...</th>\n",
       "      <td>...</td>\n",
       "      <td>...</td>\n",
       "      <td>...</td>\n",
       "      <td>...</td>\n",
       "      <td>...</td>\n",
       "    </tr>\n",
       "    <tr>\n",
       "      <th>1517</th>\n",
       "      <td>Guardian</td>\n",
       "      <td>US elections 2024: seven key House races to watch</td>\n",
       "      <td>Much attention has been paid to the rematch be...</td>\n",
       "      <td>2024-06-11</td>\n",
       "      <td>en</td>\n",
       "    </tr>\n",
       "    <tr>\n",
       "      <th>1518</th>\n",
       "      <td>Guardian</td>\n",
       "      <td>Michigan congresswoman Rashida Tlaib declines ...</td>\n",
       "      <td>Michigan congresswoman Rashida Tlaib declined ...</td>\n",
       "      <td>2024-11-02</td>\n",
       "      <td>en</td>\n",
       "    </tr>\n",
       "    <tr>\n",
       "      <th>1519</th>\n",
       "      <td>Guardian</td>\n",
       "      <td>Donald Trump says he will meet Ukrainian presi...</td>\n",
       "      <td>Donald Trump said he would meet with Ukrainian...</td>\n",
       "      <td>2024-09-26</td>\n",
       "      <td>en</td>\n",
       "    </tr>\n",
       "    <tr>\n",
       "      <th>1520</th>\n",
       "      <td>Guardian</td>\n",
       "      <td>Middle East crisis live: ‘apocalyptic’ north G...</td>\n",
       "      <td>Deadly Israeli strikes on 'apocalyptic' north ...</td>\n",
       "      <td>2024-11-02</td>\n",
       "      <td>en</td>\n",
       "    </tr>\n",
       "    <tr>\n",
       "      <th>1521</th>\n",
       "      <td>Guardian</td>\n",
       "      <td>Newcastle United 1-0 Arsenal: Premier League –...</td>\n",
       "      <td>Eddie Howe’s turn on TNT. “I’m tired, actually...</td>\n",
       "      <td>2024-11-02</td>\n",
       "      <td>en</td>\n",
       "    </tr>\n",
       "  </tbody>\n",
       "</table>\n",
       "<p>1522 rows × 5 columns</p>\n",
       "</div>"
      ],
      "text/plain": [
       "         source                                              title  \\\n",
       "0     Breitbart  GOP: WH May Have Illegally Altered Biden's 'Ga...   \n",
       "1     Breitbart  Mavericks Principal Owners Donate $100 Million...   \n",
       "2     Breitbart  Fact Check: Harris Campaign Twists Trump Comme...   \n",
       "3     Breitbart  Harris Co-Chair: She's Different from Biden, H...   \n",
       "4     Breitbart  Quinnipiac Poll: Trump Takes Lead in Pennsylvania   \n",
       "...         ...                                                ...   \n",
       "1517   Guardian  US elections 2024: seven key House races to watch   \n",
       "1518   Guardian  Michigan congresswoman Rashida Tlaib declines ...   \n",
       "1519   Guardian  Donald Trump says he will meet Ukrainian presi...   \n",
       "1520   Guardian  Middle East crisis live: ‘apocalyptic’ north G...   \n",
       "1521   Guardian  Newcastle United 1-0 Arsenal: Premier League –...   \n",
       "\n",
       "                                                content        date language  \n",
       "0     House Republicans say the Biden-Harris White H...  2024-10-31       en  \n",
       "1     Miriam Adelson, the principal owner of the NBA...  2024-10-30       en  \n",
       "2     CLAIM: Vice President Kamala Harris’s campaign...  2024-11-01       en  \n",
       "3     On Tuesday’s broadcast of CNN’s “Laura Coates ...  2024-10-29       en  \n",
       "4     Former President Donald Trump has a two point ...  2024-10-30       en  \n",
       "...                                                 ...         ...      ...  \n",
       "1517  Much attention has been paid to the rematch be...  2024-06-11       en  \n",
       "1518  Michigan congresswoman Rashida Tlaib declined ...  2024-11-02       en  \n",
       "1519  Donald Trump said he would meet with Ukrainian...  2024-09-26       en  \n",
       "1520  Deadly Israeli strikes on 'apocalyptic' north ...  2024-11-02       en  \n",
       "1521  Eddie Howe’s turn on TNT. “I’m tired, actually...  2024-11-02       en  \n",
       "\n",
       "[1522 rows x 5 columns]"
      ]
     },
     "execution_count": 16,
     "metadata": {},
     "output_type": "execute_result"
    }
   ],
   "source": [
    "# Drop rows where language is NOT in english and reset the index\n",
    "data_raw = data_raw[data_raw['language'] == 'en'].reset_index(drop=True)\n",
    "data_raw"
   ]
  },
  {
   "cell_type": "code",
   "execution_count": 17,
   "metadata": {},
   "outputs": [
    {
     "data": {
      "text/plain": [
       "language\n",
       "en    1522\n",
       "Name: count, dtype: int64"
      ]
     },
     "execution_count": 17,
     "metadata": {},
     "output_type": "execute_result"
    }
   ],
   "source": [
    "data_raw['language'].value_counts()"
   ]
  },
  {
   "cell_type": "code",
   "execution_count": 18,
   "metadata": {},
   "outputs": [
    {
     "data": {
      "application/vnd.microsoft.datawrangler.viewer.v0+json": {
       "columns": [
        {
         "name": "index",
         "rawType": "int64",
         "type": "integer"
        },
        {
         "name": "source",
         "rawType": "object",
         "type": "string"
        },
        {
         "name": "title",
         "rawType": "object",
         "type": "string"
        },
        {
         "name": "content",
         "rawType": "object",
         "type": "string"
        },
        {
         "name": "date",
         "rawType": "object",
         "type": "string"
        }
       ],
       "conversionMethod": "pd.DataFrame",
       "ref": "e8226807-2190-48cc-90e2-dd4e8070c476",
       "rows": [
        [
         "0",
         "Breitbart",
         "GOP: WH May Have Illegally Altered Biden's 'Garbage' Remark",
         "House Republicans say the Biden-Harris White House might have broken the law when they altered President Joe Biden’s remarks in the official transcript to imply he did not call Trump supporters “garbage.”\nBiden on Tuesday during a video call with Voto Latino in support of Vice President Kamala Harris’s presidential campaign said, “The only garbage I see floating out there is his supporters.”\nHowever, after facing immediate backlash from Republicans and even some Democrats, the White House claimed that Biden did not call Trump supporters “garbage,” but was instead referring to one Trump supporter — namely, comedian Tony Hinchliffe.\nThe White House released a transcript that reinforced that argument, adding an apostrophe to “supporters” to read “supporter’s,” and then adding an em-dash to make it seem like Biden had not completed his sentence.\nThe transcript said (emphasis added):\nThe only garbage I see floating out there is his supporter’s — his — his demonization of Latinos is unconscionable, and it’s un-American.\nHinchliffe, known for his off-color jokes, had performed at Trump’s Madison Square Garden rally on Sunday and had joked that Puerto Rico was a “floating island of garbage.”\nBiden also later posted on X that he was referring to Hinchliffe’s “demonization of Latinos.”\nAccording to House Republican Conference Chair Elise Stefanik (R-NY) and House Oversight Committee Chairman James Comer (R-KY), the White House’s addition of an apostrophe may have violated the Presidential Records Act.\nIn a letter to White House Counsel Edward Siskel, they demanded that the White House retain and preserve all documents and internal communications related to Biden’s statement and the release of the inaccurate transcript.\nThey also called on the White House to correct the transcript to reflect what Biden said. They said:\nPresident Biden’s vindictive words were unsurprising, given his previous statements regarding people who choose not to vote for his preferred candidate. Unsurprising too were the White House’s actions after he said them. Instead of apologizing or clarifying President Biden’s words, the White House instead sought to change them (despite them being recorded on video) by releasing a false transcript of his remarks. The move is not only craven, but it also appears to be in violation of federal law, including the Presidential Records Act of 1978.\n“White House staff cannot rewrite the words of the President of the United States to be more politically on message. Though President Biden’s relevance continues to diminish, his words continue to matter, even as they become increasingly divisive and erratic,” they added.\nFollow Breitbart News’s Kristina Wong on ”X”, Truth Social, or on Facebook.",
         "2024-10-31"
        ],
        [
         "1",
         "Breitbart",
         "Mavericks Principal Owners Donate $100 Million to Republicans Despite Mark Cuban Claiming Trump Has 'Fascist Tendencies'",
         "Miriam Adelson, the principal owner of the NBA’s Dallas Mavericks, has put down $100 million on Donald Trump to win the 2024 presidential election. This is despite the caterwauling of minority owner and extreme left-wing advocate Mark Cuban, who has been all-in for Kamala Harris.\nCuban has jumped in front of every microphone he can find to push for the election of Kamala Harris. Still, the team for which he used to be the majority owner and is now a minority owner is apparently working to the contrary, according to Front Office Sports.\nAdelson has been a top Republican donor since inheriting her husband’s fortune. Casino magnate Sheldon Adelson was also a big GOP backer but passed away in 2021. Since then, his wife has kept the GOP faith and remained a top donor.\nMiriam Adelson, a doctor who specializes in substance addiction, bought out Mark Cuban’s majority ownership of the Mavericks in 2023. However, Cuban still owns a bit more than one-fourth of the team.\nThe two, though, could not be more different politically. Cuban, who recently said Trump “absolutely” has “fascist tendencies,” is a staunch left-winger. However, he also claims he has not donated to the Harris campaign despite being a loud mouthpiece for her.\nIt appears Cuban is unwilling to let political differences stand in the way of making a buck, or several billion of them.\nWhile Adelson is by far the biggest political donor for the GOP in the NBA, several other owners have also contributed hefty cash to politics.\nHouston Rockets owner Tilman Fertitta donated $420,000 to several PACs working for Trump’s second term. However, he also gave $13,200 to Harris PACs.\nMinnesota Lynx and Timberwolves owner Glen Taylor donated to the GOP, but it wasn’t to Trump. Taylor, who was himself a GOP state senator from Minnesota, donated $2,000 to Nikki Haley before she dropped out of the primary race.\nMeanwhile, Sixers Co-Owner David Blitzer also signed on with Haley, making a personal donation of the maximum of $3,300. But since Haley failed, he turned to Harris, giving $31,600 to a Harris PAC.\nMeanwhile, Indiana Pacers and Fever owner Herb Simon donated $100,000 to pro-Harris PACs.\nEven excluding Adelson, NBA owners have given a bit more to Trump ($424,650) than Harris ($274,800).\nFollow Warner Todd Huston on Facebook at: facebook.com/Warner.Todd.Huston, or Truth Social @WarnerToddHuston",
         "2024-10-30"
        ],
        [
         "2",
         "Breitbart",
         "Fact Check: Harris Campaign Twists Trump Comment on Liz Cheney to Claim He Called for Her Execution",
         "CLAIM: Vice President Kamala Harris’s campaign implied former President Donald Trump called for Liz Cheney to be put before a firing squad.\nFACT CHECK: False. Trump’s comments on “guns trained on her face” were about Cheney stoking foreign wars without being willing to fight in their front lines.\nVice President Kamala Harris’s campaign took former President Donald Trump’s words out of context, to suggest that he was calling for Liz Cheney to be put before a firing squad.\nHer campaign posted a video of Trump speaking to Tucker Carlson on X/Twitter, with a caption that paraphrased him:\nLet’s put Liz Cheney with a rifle standing there with nine barrels shooting at her. Let’s see how she feels about it when the guns are trained on her face\nRather than suggesting she be executed, Trump was speaking about how neoconservatives are quick to send young Americans to fight overseas in war — which Trump has long opposed, particularly the Iraq and Afghanistan Wars championed by Cheney and her father, former Vice President Dick Cheney.\nTrump had also said: “They’re all war hawks when they’re sitting in Washington in a nice building saying Oh gee, let’s send 10,000 troops into the mouths of the enemy.”\nKaroline Leavitt, Trump Campaign National Press Secretary, blasted the Harris-Walz campaign:\nPresident Trump is 100% correct that warmongers like Liz Cheney are very quick to start wars and send other Americans to fight them, rather than go into combat themselves. This is the continuation of the latest fake media outrage days before the election in a blatant attempt to interfere on behalf of Kamala Harris.\nCheney herself tried to spread the lie, posting on X:\nThis is how dictators destroy free nations. They threaten those who speak against them with death. We cannot entrust our country and our freedom to a petty, vindictive, cruel, unstable man who wants to be a tyrant. #Womenwillnotbesilenced #VoteKamala\nAs Democrat operatives tired to spread the false claim, even Trump critic former Rep. Joe Walsh said Trump did not call for her to be put before a firing squad.\nHe posted on X:\nTrump did NOT call for Liz Cheney to be executed.\nThis is what’s so wrong with our politics today. Look, you know how I feel about Trump, and I’ve been out there every day for 2-3 months campaigning my ass off to help get @KamalaHarris elected, but this short clip is so deceptive. Trump is NOT calling for Liz Cheney to be executed in front of a firing line. He’s not. Listen to the entirety of what he said. In Trump’s typically stupid, ugly fashion, he’s trying to make a point about Cheney’s stance on war. But Aaron (who I like & respect), by posting ONLY this 11 second clip, makes it look like he’s calling for her to be executed. He’s not. He’s an utterly horrible human being who’s utterly unfit for office, but the truth should always matter. And the truth is that Trump is not calling for Liz Cheney to be executed. But…this 11 second clip will have a gazillion views, and the truth will have just a handful of views.\nBoth former Vice President Cheney and former Wyoming Republican Rep. Cheney has endorsed Harris, with the younger Cheney even campaigning on the trail for her.",
         "2024-11-01"
        ],
        [
         "3",
         "Breitbart",
         "Harris Co-Chair: She's Different from Biden, He Didn't Have Problem of 'Lowering Costs'",
         "On Tuesday’s broadcast of CNN’s “Laura Coates Live,” Harris Campaign Co-Chair Mitch Landrieu stated that 2024 Democratic presidential candidate Vice President Kamala Harris differentiated herself from President Joe Biden “by saying, listen, I love the President, we did great work together, but I have different problems than he had, the most important of which is lowering costs for the American people. And I think she addressed it really very forthrightly and better tonight than she has in the past.”\nHost Laura Coates asked, “On that point of her trying to distinguish herself from Biden, was there a key moment in that speech that you think voters will connect to to suggest, yes, she will be different?”\nLandrieu answered, “Well, first of all, it was an incredible night. I was there, and there were 70,000 people there. … We were going to go to Madison Square Garden, but we couldn’t fit. So, we had to go there. It was just a huge turnout and it was exuberant and it was joyful and the environment in which she gave the speech was really uplifting and hopeful, which is what the speech was. It was a fairly detailed speech. She laid out, in clear detail, what the risks are of re-electing Donald Trump. She talked about the fact that, behind her, was the Resolute Desk, and, in seven days the people are going to decide whether she’s going to be sitting there or Donald Trump’s going to be sitting there and she reminded the public that Donald Trump has already talked about, out of his own mouth, spending his time talking about his enemies list, and the fact that she had a to-do list. And then she’s talked about how she is going to build an opportunity economy for all of us, not just some of us, and distinguished herself from Joe Biden by saying, listen, I love the President, we did great work together, but I have different problems than he had, the most important of which is lowering costs for the American people. And I think she addressed it really very forthrightly and better tonight than she has in the past.”\nFollow Ian Hanchett on Twitter @IanHanchett",
         "2024-10-29"
        ],
        [
         "4",
         "Breitbart",
         "Quinnipiac Poll: Trump Takes Lead in Pennsylvania",
         "Former President Donald Trump has a two point lead in a hypothetical two-way race with Vice President Kamala Harris in Pennsylvania (49-47 percent), a seven point swing since September 16, Quinnipiac survey found Wednesday.\nTrump’s lead is just within the margin of error of 2.1 percentage points. The poll sampled 2,186 likely voters in Pennsylvania from October 24 – 28.\nThe poll by Quinnipiac, which often leans left, suggests Trump holds the momentum during the period of early voting with less than a week until Election Day.\nBelow is the trend of the last three Quinnipiac surveys demonstrating the momentum:\nOctober 28\n- Trump: 49% (+2)\n- Harris: 47%\nOctober 7\n- Harris: 49% (+2)\n- Trump: 47%\nSeptember 16\n- Harris: 51% (+5)\n- Trump: 46%\nThe poll’s analysis suggested that the gender gap increased:\nMen back Trump 57 – 37 percent, while women back Harris 55 – 39 percent. In Quinnipiac University’s October 9 poll, men backed Trump 52 – 41 percent, while women backed Harris 55 – 40 percent.\n“The gender gap widens with Trump increasing his lead among men, as what remains a very tight race heads into the final stretch,” Quinnipiac University Polling Analyst Tim Malloy said in a statement.\nWendell Husebo is a political reporter with Breitbart News and a former RNC War Room Analyst. He is the author of Politics of Slave Morality. Follow Wendell on “X” @WendellHusebø or on Truth Social @WendellHusebo.",
         "2024-10-30"
        ]
       ],
       "shape": {
        "columns": 4,
        "rows": 5
       }
      },
      "text/html": [
       "<div>\n",
       "<style scoped>\n",
       "    .dataframe tbody tr th:only-of-type {\n",
       "        vertical-align: middle;\n",
       "    }\n",
       "\n",
       "    .dataframe tbody tr th {\n",
       "        vertical-align: top;\n",
       "    }\n",
       "\n",
       "    .dataframe thead th {\n",
       "        text-align: right;\n",
       "    }\n",
       "</style>\n",
       "<table border=\"1\" class=\"dataframe\">\n",
       "  <thead>\n",
       "    <tr style=\"text-align: right;\">\n",
       "      <th></th>\n",
       "      <th>source</th>\n",
       "      <th>title</th>\n",
       "      <th>content</th>\n",
       "      <th>date</th>\n",
       "    </tr>\n",
       "  </thead>\n",
       "  <tbody>\n",
       "    <tr>\n",
       "      <th>0</th>\n",
       "      <td>Breitbart</td>\n",
       "      <td>GOP: WH May Have Illegally Altered Biden's 'Ga...</td>\n",
       "      <td>House Republicans say the Biden-Harris White H...</td>\n",
       "      <td>2024-10-31</td>\n",
       "    </tr>\n",
       "    <tr>\n",
       "      <th>1</th>\n",
       "      <td>Breitbart</td>\n",
       "      <td>Mavericks Principal Owners Donate $100 Million...</td>\n",
       "      <td>Miriam Adelson, the principal owner of the NBA...</td>\n",
       "      <td>2024-10-30</td>\n",
       "    </tr>\n",
       "    <tr>\n",
       "      <th>2</th>\n",
       "      <td>Breitbart</td>\n",
       "      <td>Fact Check: Harris Campaign Twists Trump Comme...</td>\n",
       "      <td>CLAIM: Vice President Kamala Harris’s campaign...</td>\n",
       "      <td>2024-11-01</td>\n",
       "    </tr>\n",
       "    <tr>\n",
       "      <th>3</th>\n",
       "      <td>Breitbart</td>\n",
       "      <td>Harris Co-Chair: She's Different from Biden, H...</td>\n",
       "      <td>On Tuesday’s broadcast of CNN’s “Laura Coates ...</td>\n",
       "      <td>2024-10-29</td>\n",
       "    </tr>\n",
       "    <tr>\n",
       "      <th>4</th>\n",
       "      <td>Breitbart</td>\n",
       "      <td>Quinnipiac Poll: Trump Takes Lead in Pennsylvania</td>\n",
       "      <td>Former President Donald Trump has a two point ...</td>\n",
       "      <td>2024-10-30</td>\n",
       "    </tr>\n",
       "  </tbody>\n",
       "</table>\n",
       "</div>"
      ],
      "text/plain": [
       "      source                                              title  \\\n",
       "0  Breitbart  GOP: WH May Have Illegally Altered Biden's 'Ga...   \n",
       "1  Breitbart  Mavericks Principal Owners Donate $100 Million...   \n",
       "2  Breitbart  Fact Check: Harris Campaign Twists Trump Comme...   \n",
       "3  Breitbart  Harris Co-Chair: She's Different from Biden, H...   \n",
       "4  Breitbart  Quinnipiac Poll: Trump Takes Lead in Pennsylvania   \n",
       "\n",
       "                                             content        date  \n",
       "0  House Republicans say the Biden-Harris White H...  2024-10-31  \n",
       "1  Miriam Adelson, the principal owner of the NBA...  2024-10-30  \n",
       "2  CLAIM: Vice President Kamala Harris’s campaign...  2024-11-01  \n",
       "3  On Tuesday’s broadcast of CNN’s “Laura Coates ...  2024-10-29  \n",
       "4  Former President Donald Trump has a two point ...  2024-10-30  "
      ]
     },
     "execution_count": 18,
     "metadata": {},
     "output_type": "execute_result"
    }
   ],
   "source": [
    "# Drop the  'language' column\n",
    "data_raw = data_raw.drop(columns=['language'])\n",
    "\n",
    "data_raw.head()"
   ]
  },
  {
   "cell_type": "code",
   "execution_count": 19,
   "metadata": {},
   "outputs": [
    {
     "name": "stdout",
     "output_type": "stream",
     "text": [
      "Number of articles before filtering: 1522\n",
      "Number of articles after political keyword filtering: 1456\n",
      "Number of articles after opinion piece filtering: 1313\n",
      "Number of articles after irrelevant content cleaning: 1313\n",
      "Number of articles after all filtering: 1313\n"
     ]
    },
    {
     "data": {
      "application/vnd.microsoft.datawrangler.viewer.v0+json": {
       "columns": [
        {
         "name": "index",
         "rawType": "int64",
         "type": "integer"
        },
        {
         "name": "source",
         "rawType": "object",
         "type": "string"
        },
        {
         "name": "title",
         "rawType": "object",
         "type": "string"
        },
        {
         "name": "content",
         "rawType": "object",
         "type": "string"
        },
        {
         "name": "date",
         "rawType": "object",
         "type": "string"
        }
       ],
       "conversionMethod": "pd.DataFrame",
       "ref": "eb33ea19-d170-40ea-ab5b-419762d48495",
       "rows": [
        [
         "0",
         "Breitbart",
         "GOP: WH May Have Illegally Altered Biden's 'Garbage' Remark",
         "House Republicans say the Biden-Harris White House might have broken the law when they altered President Joe Biden’s remarks in the official transcript to imply he did not call Trump supporters “garbage.”\nBiden on Tuesday during a video call with Voto Latino in support of Vice President Kamala Harris’s presidential campaign said, “The only garbage I see floating out there is his supporters.”\nHowever, after facing immediate backlash from Republicans and even some Democrats, the White House claimed that Biden did not call Trump supporters “garbage,” but was instead referring to one Trump supporter — namely, comedian Tony Hinchliffe.\nThe White House released a transcript that reinforced that argument, adding an apostrophe to “supporters” to read “supporter’s,” and then adding an em-dash to make it seem like Biden had not completed his sentence.\nThe transcript said (emphasis added):\nThe only garbage I see floating out there is his supporter’s — his — his demonization of Latinos is unconscionable, and it’s un-American.\nHinchliffe, known for his off-color jokes, had performed at Trump’s Madison Square Garden rally on Sunday and had joked that Puerto Rico was a “floating island of garbage.”\nBiden also later posted on X that he was referring to Hinchliffe’s “demonization of Latinos.”\nAccording to House Republican Conference Chair Elise Stefanik (R-NY) and House Oversight Committee Chairman James Comer (R-KY), the White House’s addition of an apostrophe may have violated the Presidential Records Act.\nIn a letter to White House Counsel Edward Siskel, they demanded that the White House retain and preserve all documents and internal communications related to Biden’s statement and the release of the inaccurate transcript.\nThey also called on the White House to correct the transcript to reflect what Biden said. They said:\nPresident Biden’s vindictive words were unsurprising, given his previous statements regarding people who choose not to vote for his preferred candidate. Unsurprising too were the White House’s actions after he said them. Instead of apologizing or clarifying President Biden’s words, the White House instead sought to change them (despite them being recorded on video) by releasing a false transcript of his remarks. The move is not only craven, but it also appears to be in violation of federal law, including the Presidential Records Act of 1978.\n“White House staff cannot rewrite the words of the President of the United States to be more politically on message. Though President Biden’s relevance continues to diminish, his words continue to matter, even as they become increasingly divisive and erratic,” they added.\nFollow Breitbart News’s Kristina Wong on ”X”, Truth Social, or on Facebook.",
         "2024-10-31"
        ],
        [
         "1",
         "Breitbart",
         "Mavericks Principal Owners Donate $100 Million to Republicans Despite Mark Cuban Claiming Trump Has 'Fascist Tendencies'",
         "Miriam Adelson, the principal owner of the NBA’s Dallas Mavericks, has put down $100 million on Donald Trump to win the 2024 presidential election. This is despite the caterwauling of minority owner and extreme left-wing advocate Mark Cuban, who has been all-in for Kamala Harris.\nCuban has jumped in front of every microphone he can find to push for the election of Kamala Harris. Still, the team for which he used to be the majority owner and is now a minority owner is apparently working to the contrary, according to Front Office Sports.\nAdelson has been a top Republican donor since inheriting her husband’s fortune. Casino magnate Sheldon Adelson was also a big GOP backer but passed away in 2021. Since then, his wife has kept the GOP faith and remained a top donor.\nMiriam Adelson, a doctor who specializes in substance addiction, bought out Mark Cuban’s majority ownership of the Mavericks in 2023. However, Cuban still owns a bit more than one-fourth of the team.\nThe two, though, could not be more different politically. Cuban, who recently said Trump “absolutely” has “fascist tendencies,” is a staunch left-winger. However, he also claims he has not donated to the Harris campaign despite being a loud mouthpiece for her.\nIt appears Cuban is unwilling to let political differences stand in the way of making a buck, or several billion of them.\nWhile Adelson is by far the biggest political donor for the GOP in the NBA, several other owners have also contributed hefty cash to politics.\nHouston Rockets owner Tilman Fertitta donated $420,000 to several PACs working for Trump’s second term. However, he also gave $13,200 to Harris PACs.\nMinnesota Lynx and Timberwolves owner Glen Taylor donated to the GOP, but it wasn’t to Trump. Taylor, who was himself a GOP state senator from Minnesota, donated $2,000 to Nikki Haley before she dropped out of the primary race.\nMeanwhile, Sixers Co-Owner David Blitzer also signed on with Haley, making a personal donation of the maximum of $3,300. But since Haley failed, he turned to Harris, giving $31,600 to a Harris PAC.\nMeanwhile, Indiana Pacers and Fever owner Herb Simon donated $100,000 to pro-Harris PACs.\nEven excluding Adelson, NBA owners have given a bit more to Trump ($424,650) than Harris ($274,800).\nFollow Warner Todd Huston on Facebook at: facebook.com/Warner.Todd.Huston, or Truth Social @WarnerToddHuston",
         "2024-10-30"
        ],
        [
         "2",
         "Breitbart",
         "Fact Check: Harris Campaign Twists Trump Comment on Liz Cheney to Claim He Called for Her Execution",
         "CLAIM: Vice President Kamala Harris’s campaign implied former President Donald Trump called for Liz Cheney to be put before a firing squad.\nFACT CHECK: False. Trump’s comments on “guns trained on her face” were about Cheney stoking foreign wars without being willing to fight in their front lines.\nVice President Kamala Harris’s campaign took former President Donald Trump’s words out of context, to suggest that he was calling for Liz Cheney to be put before a firing squad.\nHer campaign posted a video of Trump speaking to Tucker Carlson on X/Twitter, with a caption that paraphrased him:\nLet’s put Liz Cheney with a rifle standing there with nine barrels shooting at her. Let’s see how she feels about it when the guns are trained on her face\nRather than suggesting she be executed, Trump was speaking about how neoconservatives are quick to send young Americans to fight overseas in war — which Trump has long opposed, particularly the Iraq and Afghanistan Wars championed by Cheney and her father, former Vice President Dick Cheney.\nTrump had also said: “They’re all war hawks when they’re sitting in Washington in a nice building saying Oh gee, let’s send 10,000 troops into the mouths of the enemy.”\nKaroline Leavitt, Trump Campaign National Press Secretary, blasted the Harris-Walz campaign:\nPresident Trump is 100% correct that warmongers like Liz Cheney are very quick to start wars and send other Americans to fight them, rather than go into combat themselves. This is the continuation of the latest fake media outrage days before the election in a blatant attempt to interfere on behalf of Kamala Harris.\nCheney herself tried to spread the lie, posting on X:\nThis is how dictators destroy free nations. They threaten those who speak against them with death. We cannot entrust our country and our freedom to a petty, vindictive, cruel, unstable man who wants to be a tyrant. #Womenwillnotbesilenced #VoteKamala\nAs Democrat operatives tired to spread the false claim, even Trump critic former Rep. Joe Walsh said Trump did not call for her to be put before a firing squad.\nHe posted on X:\nTrump did NOT call for Liz Cheney to be executed.\nThis is what’s so wrong with our politics today. Look, you know how I feel about Trump, and I’ve been out there every day for 2-3 months campaigning my ass off to help get @KamalaHarris elected, but this short clip is so deceptive. Trump is NOT calling for Liz Cheney to be executed in front of a firing line. He’s not. Listen to the entirety of what he said. In Trump’s typically stupid, ugly fashion, he’s trying to make a point about Cheney’s stance on war. But Aaron (who I like & respect), by posting ONLY this 11 second clip, makes it look like he’s calling for her to be executed. He’s not. He’s an utterly horrible human being who’s utterly unfit for office, but the truth should always matter. And the truth is that Trump is not calling for Liz Cheney to be executed. But…this 11 second clip will have a gazillion views, and the truth will have just a handful of views.\nBoth former Vice President Cheney and former Wyoming Republican Rep. Cheney has endorsed Harris, with the younger Cheney even campaigning on the trail for her.",
         "2024-11-01"
        ],
        [
         "3",
         "Breitbart",
         "Harris Co-Chair: She's Different from Biden, He Didn't Have Problem of 'Lowering Costs'",
         "On Tuesday’s broadcast of CNN’s “Laura Coates Live,” Harris Campaign Co-Chair Mitch Landrieu stated that 2024 Democratic presidential candidate Vice President Kamala Harris differentiated herself from President Joe Biden “by saying, listen, I love the President, we did great work together, but I have different problems than he had, the most important of which is lowering costs for the American people. And I think she addressed it really very forthrightly and better tonight than she has in the past.”\nHost Laura Coates asked, “On that point of her trying to distinguish herself from Biden, was there a key moment in that speech that you think voters will connect to to suggest, yes, she will be different?”\nLandrieu answered, “Well, first of all, it was an incredible night. I was there, and there were 70,000 people there. … We were going to go to Madison Square Garden, but we couldn’t fit. So, we had to go there. It was just a huge turnout and it was exuberant and it was joyful and the environment in which she gave the speech was really uplifting and hopeful, which is what the speech was. It was a fairly detailed speech. She laid out, in clear detail, what the risks are of re-electing Donald Trump. She talked about the fact that, behind her, was the Resolute Desk, and, in seven days the people are going to decide whether she’s going to be sitting there or Donald Trump’s going to be sitting there and she reminded the public that Donald Trump has already talked about, out of his own mouth, spending his time talking about his enemies list, and the fact that she had a to-do list. And then she’s talked about how she is going to build an opportunity economy for all of us, not just some of us, and distinguished herself from Joe Biden by saying, listen, I love the President, we did great work together, but I have different problems than he had, the most important of which is lowering costs for the American people. And I think she addressed it really very forthrightly and better tonight than she has in the past.”\nFollow Ian Hanchett on Twitter @IanHanchett",
         "2024-10-29"
        ],
        [
         "4",
         "Breitbart",
         "Quinnipiac Poll: Trump Takes Lead in Pennsylvania",
         "Former President Donald Trump has a two point lead in a hypothetical two-way race with Vice President Kamala Harris in Pennsylvania (49-47 percent), a seven point swing since September 16, Quinnipiac survey found Wednesday.\nTrump’s lead is just within the margin of error of 2.1 percentage points. The poll sampled 2,186 likely voters in Pennsylvania from October 24 – 28.\nThe poll by Quinnipiac, which often leans left, suggests Trump holds the momentum during the period of early voting with less than a week until Election Day.\nBelow is the trend of the last three Quinnipiac surveys demonstrating the momentum:\nOctober 28\n- Trump: 49% (+2)\n- Harris: 47%\nOctober 7\n- Harris: 49% (+2)\n- Trump: 47%\nSeptember 16\n- Harris: 51% (+5)\n- Trump: 46%\nThe poll’s analysis suggested that the gender gap increased:\nMen back Trump 57 – 37 percent, while women back Harris 55 – 39 percent. In Quinnipiac University’s October 9 poll, men backed Trump 52 – 41 percent, while women backed Harris 55 – 40 percent.\n“The gender gap widens with Trump increasing his lead among men, as what remains a very tight race heads into the final stretch,” Quinnipiac University Polling Analyst Tim Malloy said in a statement.\nWendell Husebo is a political reporter with Breitbart News and a former RNC War Room Analyst. He is the author of Politics of Slave Morality. Follow Wendell on “X” @WendellHusebø or on Truth Social @WendellHusebo.",
         "2024-10-30"
        ]
       ],
       "shape": {
        "columns": 4,
        "rows": 5
       }
      },
      "text/html": [
       "<div>\n",
       "<style scoped>\n",
       "    .dataframe tbody tr th:only-of-type {\n",
       "        vertical-align: middle;\n",
       "    }\n",
       "\n",
       "    .dataframe tbody tr th {\n",
       "        vertical-align: top;\n",
       "    }\n",
       "\n",
       "    .dataframe thead th {\n",
       "        text-align: right;\n",
       "    }\n",
       "</style>\n",
       "<table border=\"1\" class=\"dataframe\">\n",
       "  <thead>\n",
       "    <tr style=\"text-align: right;\">\n",
       "      <th></th>\n",
       "      <th>source</th>\n",
       "      <th>title</th>\n",
       "      <th>content</th>\n",
       "      <th>date</th>\n",
       "    </tr>\n",
       "  </thead>\n",
       "  <tbody>\n",
       "    <tr>\n",
       "      <th>0</th>\n",
       "      <td>Breitbart</td>\n",
       "      <td>GOP: WH May Have Illegally Altered Biden's 'Ga...</td>\n",
       "      <td>House Republicans say the Biden-Harris White H...</td>\n",
       "      <td>2024-10-31</td>\n",
       "    </tr>\n",
       "    <tr>\n",
       "      <th>1</th>\n",
       "      <td>Breitbart</td>\n",
       "      <td>Mavericks Principal Owners Donate $100 Million...</td>\n",
       "      <td>Miriam Adelson, the principal owner of the NBA...</td>\n",
       "      <td>2024-10-30</td>\n",
       "    </tr>\n",
       "    <tr>\n",
       "      <th>2</th>\n",
       "      <td>Breitbart</td>\n",
       "      <td>Fact Check: Harris Campaign Twists Trump Comme...</td>\n",
       "      <td>CLAIM: Vice President Kamala Harris’s campaign...</td>\n",
       "      <td>2024-11-01</td>\n",
       "    </tr>\n",
       "    <tr>\n",
       "      <th>3</th>\n",
       "      <td>Breitbart</td>\n",
       "      <td>Harris Co-Chair: She's Different from Biden, H...</td>\n",
       "      <td>On Tuesday’s broadcast of CNN’s “Laura Coates ...</td>\n",
       "      <td>2024-10-29</td>\n",
       "    </tr>\n",
       "    <tr>\n",
       "      <th>4</th>\n",
       "      <td>Breitbart</td>\n",
       "      <td>Quinnipiac Poll: Trump Takes Lead in Pennsylvania</td>\n",
       "      <td>Former President Donald Trump has a two point ...</td>\n",
       "      <td>2024-10-30</td>\n",
       "    </tr>\n",
       "  </tbody>\n",
       "</table>\n",
       "</div>"
      ],
      "text/plain": [
       "      source                                              title  \\\n",
       "0  Breitbart  GOP: WH May Have Illegally Altered Biden's 'Ga...   \n",
       "1  Breitbart  Mavericks Principal Owners Donate $100 Million...   \n",
       "2  Breitbart  Fact Check: Harris Campaign Twists Trump Comme...   \n",
       "3  Breitbart  Harris Co-Chair: She's Different from Biden, H...   \n",
       "4  Breitbart  Quinnipiac Poll: Trump Takes Lead in Pennsylvania   \n",
       "\n",
       "                                             content        date  \n",
       "0  House Republicans say the Biden-Harris White H...  2024-10-31  \n",
       "1  Miriam Adelson, the principal owner of the NBA...  2024-10-30  \n",
       "2  CLAIM: Vice President Kamala Harris’s campaign...  2024-11-01  \n",
       "3  On Tuesday’s broadcast of CNN’s “Laura Coates ...  2024-10-29  \n",
       "4  Former President Donald Trump has a two point ...  2024-10-30  "
      ]
     },
     "execution_count": 19,
     "metadata": {},
     "output_type": "execute_result"
    }
   ],
   "source": [
    "#  Copy data for safety\n",
    "data_filtered = data_raw.copy()\n",
    "print(\"Number of articles before filtering:\", len(data_filtered))\n",
    "\n",
    "# Step 2: Political Keywords Filter\n",
    "us_politics_keywords = [\n",
    "    # Core Keywords\n",
    "    \"election\", \"elections\", \"2024 election\", \"presidential election\", \"campaign\", \"campaigning\",\n",
    "    \"primary\", \"primaries\", \"polling\", \"polls\",\n",
    "\n",
    "    # Key Political Figures\n",
    "    \"Kamala Harris\", \"Donald Trump\", \"Joe Biden\", \"Ron DeSantis\", \"Gavin Newsom\", \n",
    "    \"Mike Pence\", \"Vivek Ramaswamy\", \"Tim Walz\"\n",
    "\n",
    "    # Political Parties & Groups\n",
    "    \"Democrat\", \"Democratic Party\", \"Republican\", \"GOP\", \"Republican Party\",\n",
    "    \"Independent\", \"Third party\", \"PAC\", \"Super PAC\",\n",
    "\n",
    "    # Political Issues & Controversies\n",
    "    \"voting rights\", \"voter suppression\", \"absentee ballot\", \"mail-in ballot\",\n",
    "    \"Electoral College\", \"Supreme Court\", \"abortion\", \"Roe v. Wade\", \"gun control\",\n",
    "    \"Second Amendment\", \"immigration\", \"border security\", \"healthcare\", \n",
    "    \"Medicare\", \"Affordable Care Act\", \"climate change\", \"Green New Deal\", \n",
    "    \"inflation\", \"economic policy\", \"tax cuts\", \"tax reform\", \"foreign policy\", \n",
    "    \"foreign relations\",\n",
    "\n",
    "    # U.S. Government Bodies & Offices\n",
    "    \"Congress\", \"Senate\", \"Senators\", \"House of Representatives\", \"White House\",\n",
    "    \"Supreme Court\", \"Federal government\", \"State government\",\n",
    "\n",
    "    # Policies & Bills\n",
    "    \"voting reform\", \"healthcare reform\", \"climate policy\", \"gun legislation\", \n",
    "    \"economic recovery\", \"infrastructure bill\", \"Social Security\", \"student loan forgiveness\",\n",
    "\n",
    "    # Social & Cultural Issues\n",
    "    \"social justice\", \"racial equality\", \"police reform\", \"civil rights\",\n",
    "    \"freedom of speech\", \"religious freedom\",\n",
    "\n",
    "    # Election Processes\n",
    "    \"debates\", \"presidential debate\", \"swing state\", \"battleground state\",\n",
    "    \"electoral votes\",\n",
    "\n",
    "    # Additional Relevant Terms\n",
    "    \"approval rating\", \"national convention\", \"lobbying\", \"lobbyist\",\n",
    "    \"scandal\", \"investigation\", \"political rally\", \"rally\"\n",
    "]\n",
    "data_filtered = data_filtered[data_filtered['content'].str.contains('|'.join(us_politics_keywords), case=False, na=False)]\n",
    "print(\"Number of articles after political keyword filtering:\", len(data_filtered))\n",
    "\n",
    "# Step 3: Exclude Opinion Pieces (assuming titles or content contain specific indicators of opinion)\n",
    "opinion_keywords = ['opinion', 'editorial', 'op-ed']\n",
    "data_filtered = data_filtered[~data_filtered['title'].str.contains('|'.join(opinion_keywords), case=False, na=False)]\n",
    "data_filtered = data_filtered[~data_filtered['content'].str.contains('|'.join(opinion_keywords), case=False, na=False)]\n",
    "print(\"Number of articles after opinion piece filtering:\", len(data_filtered))\n",
    "\n",
    "# Step 4: Remove Irrelevant Content Using Regex\n",
    "# Define patterns for irrelevant content\n",
    "irrelevant_patterns = [\n",
    "    r'All rights reserved', r'Read more', r'For more information', r'Follow us', \n",
    "    r'Find us on', r'Contact the author', r'Subscribe for updates', r'\\bWATCH\\b',\n",
    "    r'Advertisement', r'^[\\W_]+$'  # Removes lines that are mostly symbols or whitespace\n",
    "]\n",
    "\n",
    "def clean_irrelevant_content(text):\n",
    "    for pattern in irrelevant_patterns:\n",
    "        text = re.sub(pattern, '', text, flags=re.IGNORECASE)\n",
    "    return text\n",
    "\n",
    "data_filtered['content'] = data_filtered['content'].apply(clean_irrelevant_content)\n",
    "print(\"Number of articles after irrelevant content cleaning:\", len(data_filtered))\n",
    "\n",
    "# Final DataFrame after filtering\n",
    "print(\"Number of articles after all filtering:\", len(data_filtered))\n",
    "data_filtered.head()"
   ]
  },
  {
   "cell_type": "code",
   "execution_count": 20,
   "metadata": {},
   "outputs": [
    {
     "name": "stdout",
     "output_type": "stream",
     "text": [
      "<class 'pandas.core.frame.DataFrame'>\n",
      "Index: 1313 entries, 0 to 1520\n",
      "Data columns (total 4 columns):\n",
      " #   Column   Non-Null Count  Dtype \n",
      "---  ------   --------------  ----- \n",
      " 0   source   1313 non-null   object\n",
      " 1   title    1313 non-null   object\n",
      " 2   content  1313 non-null   object\n",
      " 3   date     1313 non-null   object\n",
      "dtypes: object(4)\n",
      "memory usage: 51.3+ KB\n"
     ]
    }
   ],
   "source": [
    "data_filtered.info()"
   ]
  },
  {
   "cell_type": "code",
   "execution_count": 21,
   "metadata": {},
   "outputs": [
    {
     "data": {
      "text/plain": [
       "source\n",
       "News Max            189\n",
       "Breitbart           176\n",
       "The Daily Caller    161\n",
       "Zerohedge           158\n",
       "AP                  144\n",
       "Natural News        128\n",
       "CNN                 108\n",
       "Guardian             99\n",
       "NPR                  79\n",
       "BBC                  71\n",
       "Name: count, dtype: int64"
      ]
     },
     "execution_count": 21,
     "metadata": {},
     "output_type": "execute_result"
    }
   ],
   "source": [
    "data_filtered['source'].value_counts()"
   ]
  },
  {
   "cell_type": "markdown",
   "metadata": {},
   "source": [
    "# Feature Selection\n",
    "Here we select the relevant features for fake news classification.\n",
    "- `title`, `text`\n",
    "- Create a new DataFrame (`data`) by selecting the specifc columns mentioned above from the original DataFrame `data_raw`."
   ]
  },
  {
   "cell_type": "code",
   "execution_count": 22,
   "metadata": {},
   "outputs": [
    {
     "name": "stdout",
     "output_type": "stream",
     "text": [
      "<class 'pandas.core.frame.DataFrame'>\n",
      "                                               title  \\\n",
      "0  GOP: WH May Have Illegally Altered Biden's 'Ga...   \n",
      "1  Mavericks Principal Owners Donate $100 Million...   \n",
      "2  Fact Check: Harris Campaign Twists Trump Comme...   \n",
      "3  Harris Co-Chair: She's Different from Biden, H...   \n",
      "4  Quinnipiac Poll: Trump Takes Lead in Pennsylvania   \n",
      "\n",
      "                                             content     source  \n",
      "0  House Republicans say the Biden-Harris White H...  Breitbart  \n",
      "1  Miriam Adelson, the principal owner of the NBA...  Breitbart  \n",
      "2  CLAIM: Vice President Kamala Harris’s campaign...  Breitbart  \n",
      "3  On Tuesday’s broadcast of CNN’s “Laura Coates ...  Breitbart  \n",
      "4  Former President Donald Trump has a two point ...  Breitbart  \n",
      "\n",
      "The old shape is:  (1313, 3)\n"
     ]
    }
   ],
   "source": [
    "data = data_filtered[['title', 'content', 'source',]]\n",
    "print(type(data))\n",
    "print(data.head())\n",
    "\n",
    "# Shape before dropping duplicates\n",
    "print(\"\\nThe old shape is: \", data.shape)"
   ]
  },
  {
   "cell_type": "markdown",
   "metadata": {},
   "source": [
    "# Data Cleaning\n",
    "\n",
    "## Remove Duplicate Rows\n",
    "- Drop duplicate rows from the dataframe (`data`)."
   ]
  },
  {
   "cell_type": "code",
   "execution_count": 23,
   "metadata": {},
   "outputs": [
    {
     "name": "stdout",
     "output_type": "stream",
     "text": [
      "The new shape is:  (1313, 3)\n"
     ]
    }
   ],
   "source": [
    "data_ = data.drop_duplicates()\n",
    "\n",
    "# Display the new dataframe shape\n",
    "print(\"The new shape is: \", data.shape)"
   ]
  },
  {
   "cell_type": "markdown",
   "metadata": {},
   "source": [
    "## Remove Outliers\n",
    "\n",
    "### `text`\n",
    "\n",
    "The `text` column of `data`, which is of string type, may contain values with unusually long lengths, indicating the presence of outliers. We will identify the outliers using [Z-score method].\n",
    "\n",
    "1. Create a new column `text_length` in the DataFrame `data` by calculating the length of each review. (Set the value as 0 if the correponding `text` column has NaN values.)\n",
    "\n",
    "2. Check the statistics of `text_length` using `describe()` method.\n",
    "\n",
    "3. Calculate the mean and standard deviation of the `text_length` column.\n",
    "\n",
    "4. Set the Z-score threshold for identifying outliers to 3.\n",
    "\n",
    "5. Identify outliers of the `text_length` column and set the corresponding `text` to np.nan.\n",
    "\n",
    "6. Drop the `text_length` column from the DataFrame."
   ]
  },
  {
   "cell_type": "code",
   "execution_count": 24,
   "metadata": {},
   "outputs": [
    {
     "name": "stdout",
     "output_type": "stream",
     "text": [
      "                                               title  \\\n",
      "0  GOP: WH May Have Illegally Altered Biden's 'Ga...   \n",
      "1  Mavericks Principal Owners Donate $100 Million...   \n",
      "2  Fact Check: Harris Campaign Twists Trump Comme...   \n",
      "\n",
      "                                             content     source  text_length  \n",
      "0  House Republicans say the Biden-Harris White H...  Breitbart         2736  \n",
      "1  Miriam Adelson, the principal owner of the NBA...  Breitbart         2375  \n",
      "2  CLAIM: Vice President Kamala Harris’s campaign...  Breitbart         3187  \n",
      "count     1313.000000\n",
      "mean      4414.495811\n",
      "std       3364.380305\n",
      "min        115.000000\n",
      "25%       2514.000000\n",
      "50%       3530.000000\n",
      "75%       5421.000000\n",
      "max      38675.000000\n",
      "Name: text_length, dtype: float64\n"
     ]
    }
   ],
   "source": [
    "data['text_length'] = data['content'].apply(lambda x: len(x) if pd.notna(x) else 0)\n",
    "print(data.head(3))\n",
    "\n",
    "TL = data[\"text_length\"]\n",
    "stats_TL = TL.describe()\n",
    "print(stats_TL)"
   ]
  },
  {
   "cell_type": "code",
   "execution_count": 25,
   "metadata": {},
   "outputs": [
    {
     "data": {
      "application/vnd.microsoft.datawrangler.viewer.v0+json": {
       "columns": [
        {
         "name": "index",
         "rawType": "int64",
         "type": "integer"
        },
        {
         "name": "title",
         "rawType": "object",
         "type": "string"
        },
        {
         "name": "content",
         "rawType": "object",
         "type": "string"
        },
        {
         "name": "source",
         "rawType": "object",
         "type": "string"
        }
       ],
       "conversionMethod": "pd.DataFrame",
       "ref": "613d828a-f836-4520-9463-34e46f9e2578",
       "rows": [
        [
         "0",
         "GOP: WH May Have Illegally Altered Biden's 'Garbage' Remark",
         "House Republicans say the Biden-Harris White House might have broken the law when they altered President Joe Biden’s remarks in the official transcript to imply he did not call Trump supporters “garbage.”\nBiden on Tuesday during a video call with Voto Latino in support of Vice President Kamala Harris’s presidential campaign said, “The only garbage I see floating out there is his supporters.”\nHowever, after facing immediate backlash from Republicans and even some Democrats, the White House claimed that Biden did not call Trump supporters “garbage,” but was instead referring to one Trump supporter — namely, comedian Tony Hinchliffe.\nThe White House released a transcript that reinforced that argument, adding an apostrophe to “supporters” to read “supporter’s,” and then adding an em-dash to make it seem like Biden had not completed his sentence.\nThe transcript said (emphasis added):\nThe only garbage I see floating out there is his supporter’s — his — his demonization of Latinos is unconscionable, and it’s un-American.\nHinchliffe, known for his off-color jokes, had performed at Trump’s Madison Square Garden rally on Sunday and had joked that Puerto Rico was a “floating island of garbage.”\nBiden also later posted on X that he was referring to Hinchliffe’s “demonization of Latinos.”\nAccording to House Republican Conference Chair Elise Stefanik (R-NY) and House Oversight Committee Chairman James Comer (R-KY), the White House’s addition of an apostrophe may have violated the Presidential Records Act.\nIn a letter to White House Counsel Edward Siskel, they demanded that the White House retain and preserve all documents and internal communications related to Biden’s statement and the release of the inaccurate transcript.\nThey also called on the White House to correct the transcript to reflect what Biden said. They said:\nPresident Biden’s vindictive words were unsurprising, given his previous statements regarding people who choose not to vote for his preferred candidate. Unsurprising too were the White House’s actions after he said them. Instead of apologizing or clarifying President Biden’s words, the White House instead sought to change them (despite them being recorded on video) by releasing a false transcript of his remarks. The move is not only craven, but it also appears to be in violation of federal law, including the Presidential Records Act of 1978.\n“White House staff cannot rewrite the words of the President of the United States to be more politically on message. Though President Biden’s relevance continues to diminish, his words continue to matter, even as they become increasingly divisive and erratic,” they added.\nFollow Breitbart News’s Kristina Wong on ”X”, Truth Social, or on Facebook.",
         "Breitbart"
        ],
        [
         "1",
         "Mavericks Principal Owners Donate $100 Million to Republicans Despite Mark Cuban Claiming Trump Has 'Fascist Tendencies'",
         "Miriam Adelson, the principal owner of the NBA’s Dallas Mavericks, has put down $100 million on Donald Trump to win the 2024 presidential election. This is despite the caterwauling of minority owner and extreme left-wing advocate Mark Cuban, who has been all-in for Kamala Harris.\nCuban has jumped in front of every microphone he can find to push for the election of Kamala Harris. Still, the team for which he used to be the majority owner and is now a minority owner is apparently working to the contrary, according to Front Office Sports.\nAdelson has been a top Republican donor since inheriting her husband’s fortune. Casino magnate Sheldon Adelson was also a big GOP backer but passed away in 2021. Since then, his wife has kept the GOP faith and remained a top donor.\nMiriam Adelson, a doctor who specializes in substance addiction, bought out Mark Cuban’s majority ownership of the Mavericks in 2023. However, Cuban still owns a bit more than one-fourth of the team.\nThe two, though, could not be more different politically. Cuban, who recently said Trump “absolutely” has “fascist tendencies,” is a staunch left-winger. However, he also claims he has not donated to the Harris campaign despite being a loud mouthpiece for her.\nIt appears Cuban is unwilling to let political differences stand in the way of making a buck, or several billion of them.\nWhile Adelson is by far the biggest political donor for the GOP in the NBA, several other owners have also contributed hefty cash to politics.\nHouston Rockets owner Tilman Fertitta donated $420,000 to several PACs working for Trump’s second term. However, he also gave $13,200 to Harris PACs.\nMinnesota Lynx and Timberwolves owner Glen Taylor donated to the GOP, but it wasn’t to Trump. Taylor, who was himself a GOP state senator from Minnesota, donated $2,000 to Nikki Haley before she dropped out of the primary race.\nMeanwhile, Sixers Co-Owner David Blitzer also signed on with Haley, making a personal donation of the maximum of $3,300. But since Haley failed, he turned to Harris, giving $31,600 to a Harris PAC.\nMeanwhile, Indiana Pacers and Fever owner Herb Simon donated $100,000 to pro-Harris PACs.\nEven excluding Adelson, NBA owners have given a bit more to Trump ($424,650) than Harris ($274,800).\nFollow Warner Todd Huston on Facebook at: facebook.com/Warner.Todd.Huston, or Truth Social @WarnerToddHuston",
         "Breitbart"
        ],
        [
         "2",
         "Fact Check: Harris Campaign Twists Trump Comment on Liz Cheney to Claim He Called for Her Execution",
         "CLAIM: Vice President Kamala Harris’s campaign implied former President Donald Trump called for Liz Cheney to be put before a firing squad.\nFACT CHECK: False. Trump’s comments on “guns trained on her face” were about Cheney stoking foreign wars without being willing to fight in their front lines.\nVice President Kamala Harris’s campaign took former President Donald Trump’s words out of context, to suggest that he was calling for Liz Cheney to be put before a firing squad.\nHer campaign posted a video of Trump speaking to Tucker Carlson on X/Twitter, with a caption that paraphrased him:\nLet’s put Liz Cheney with a rifle standing there with nine barrels shooting at her. Let’s see how she feels about it when the guns are trained on her face\nRather than suggesting she be executed, Trump was speaking about how neoconservatives are quick to send young Americans to fight overseas in war — which Trump has long opposed, particularly the Iraq and Afghanistan Wars championed by Cheney and her father, former Vice President Dick Cheney.\nTrump had also said: “They’re all war hawks when they’re sitting in Washington in a nice building saying Oh gee, let’s send 10,000 troops into the mouths of the enemy.”\nKaroline Leavitt, Trump Campaign National Press Secretary, blasted the Harris-Walz campaign:\nPresident Trump is 100% correct that warmongers like Liz Cheney are very quick to start wars and send other Americans to fight them, rather than go into combat themselves. This is the continuation of the latest fake media outrage days before the election in a blatant attempt to interfere on behalf of Kamala Harris.\nCheney herself tried to spread the lie, posting on X:\nThis is how dictators destroy free nations. They threaten those who speak against them with death. We cannot entrust our country and our freedom to a petty, vindictive, cruel, unstable man who wants to be a tyrant. #Womenwillnotbesilenced #VoteKamala\nAs Democrat operatives tired to spread the false claim, even Trump critic former Rep. Joe Walsh said Trump did not call for her to be put before a firing squad.\nHe posted on X:\nTrump did NOT call for Liz Cheney to be executed.\nThis is what’s so wrong with our politics today. Look, you know how I feel about Trump, and I’ve been out there every day for 2-3 months campaigning my ass off to help get @KamalaHarris elected, but this short clip is so deceptive. Trump is NOT calling for Liz Cheney to be executed in front of a firing line. He’s not. Listen to the entirety of what he said. In Trump’s typically stupid, ugly fashion, he’s trying to make a point about Cheney’s stance on war. But Aaron (who I like & respect), by posting ONLY this 11 second clip, makes it look like he’s calling for her to be executed. He’s not. He’s an utterly horrible human being who’s utterly unfit for office, but the truth should always matter. And the truth is that Trump is not calling for Liz Cheney to be executed. But…this 11 second clip will have a gazillion views, and the truth will have just a handful of views.\nBoth former Vice President Cheney and former Wyoming Republican Rep. Cheney has endorsed Harris, with the younger Cheney even campaigning on the trail for her.",
         "Breitbart"
        ],
        [
         "3",
         "Harris Co-Chair: She's Different from Biden, He Didn't Have Problem of 'Lowering Costs'",
         "On Tuesday’s broadcast of CNN’s “Laura Coates Live,” Harris Campaign Co-Chair Mitch Landrieu stated that 2024 Democratic presidential candidate Vice President Kamala Harris differentiated herself from President Joe Biden “by saying, listen, I love the President, we did great work together, but I have different problems than he had, the most important of which is lowering costs for the American people. And I think she addressed it really very forthrightly and better tonight than she has in the past.”\nHost Laura Coates asked, “On that point of her trying to distinguish herself from Biden, was there a key moment in that speech that you think voters will connect to to suggest, yes, she will be different?”\nLandrieu answered, “Well, first of all, it was an incredible night. I was there, and there were 70,000 people there. … We were going to go to Madison Square Garden, but we couldn’t fit. So, we had to go there. It was just a huge turnout and it was exuberant and it was joyful and the environment in which she gave the speech was really uplifting and hopeful, which is what the speech was. It was a fairly detailed speech. She laid out, in clear detail, what the risks are of re-electing Donald Trump. She talked about the fact that, behind her, was the Resolute Desk, and, in seven days the people are going to decide whether she’s going to be sitting there or Donald Trump’s going to be sitting there and she reminded the public that Donald Trump has already talked about, out of his own mouth, spending his time talking about his enemies list, and the fact that she had a to-do list. And then she’s talked about how she is going to build an opportunity economy for all of us, not just some of us, and distinguished herself from Joe Biden by saying, listen, I love the President, we did great work together, but I have different problems than he had, the most important of which is lowering costs for the American people. And I think she addressed it really very forthrightly and better tonight than she has in the past.”\nFollow Ian Hanchett on Twitter @IanHanchett",
         "Breitbart"
        ],
        [
         "4",
         "Quinnipiac Poll: Trump Takes Lead in Pennsylvania",
         "Former President Donald Trump has a two point lead in a hypothetical two-way race with Vice President Kamala Harris in Pennsylvania (49-47 percent), a seven point swing since September 16, Quinnipiac survey found Wednesday.\nTrump’s lead is just within the margin of error of 2.1 percentage points. The poll sampled 2,186 likely voters in Pennsylvania from October 24 – 28.\nThe poll by Quinnipiac, which often leans left, suggests Trump holds the momentum during the period of early voting with less than a week until Election Day.\nBelow is the trend of the last three Quinnipiac surveys demonstrating the momentum:\nOctober 28\n- Trump: 49% (+2)\n- Harris: 47%\nOctober 7\n- Harris: 49% (+2)\n- Trump: 47%\nSeptember 16\n- Harris: 51% (+5)\n- Trump: 46%\nThe poll’s analysis suggested that the gender gap increased:\nMen back Trump 57 – 37 percent, while women back Harris 55 – 39 percent. In Quinnipiac University’s October 9 poll, men backed Trump 52 – 41 percent, while women backed Harris 55 – 40 percent.\n“The gender gap widens with Trump increasing his lead among men, as what remains a very tight race heads into the final stretch,” Quinnipiac University Polling Analyst Tim Malloy said in a statement.\nWendell Husebo is a political reporter with Breitbart News and a former RNC War Room Analyst. He is the author of Politics of Slave Morality. Follow Wendell on “X” @WendellHusebø or on Truth Social @WendellHusebo.",
         "Breitbart"
        ]
       ],
       "shape": {
        "columns": 3,
        "rows": 5
       }
      },
      "text/html": [
       "<div>\n",
       "<style scoped>\n",
       "    .dataframe tbody tr th:only-of-type {\n",
       "        vertical-align: middle;\n",
       "    }\n",
       "\n",
       "    .dataframe tbody tr th {\n",
       "        vertical-align: top;\n",
       "    }\n",
       "\n",
       "    .dataframe thead th {\n",
       "        text-align: right;\n",
       "    }\n",
       "</style>\n",
       "<table border=\"1\" class=\"dataframe\">\n",
       "  <thead>\n",
       "    <tr style=\"text-align: right;\">\n",
       "      <th></th>\n",
       "      <th>title</th>\n",
       "      <th>content</th>\n",
       "      <th>source</th>\n",
       "    </tr>\n",
       "  </thead>\n",
       "  <tbody>\n",
       "    <tr>\n",
       "      <th>0</th>\n",
       "      <td>GOP: WH May Have Illegally Altered Biden's 'Ga...</td>\n",
       "      <td>House Republicans say the Biden-Harris White H...</td>\n",
       "      <td>Breitbart</td>\n",
       "    </tr>\n",
       "    <tr>\n",
       "      <th>1</th>\n",
       "      <td>Mavericks Principal Owners Donate $100 Million...</td>\n",
       "      <td>Miriam Adelson, the principal owner of the NBA...</td>\n",
       "      <td>Breitbart</td>\n",
       "    </tr>\n",
       "    <tr>\n",
       "      <th>2</th>\n",
       "      <td>Fact Check: Harris Campaign Twists Trump Comme...</td>\n",
       "      <td>CLAIM: Vice President Kamala Harris’s campaign...</td>\n",
       "      <td>Breitbart</td>\n",
       "    </tr>\n",
       "    <tr>\n",
       "      <th>3</th>\n",
       "      <td>Harris Co-Chair: She's Different from Biden, H...</td>\n",
       "      <td>On Tuesday’s broadcast of CNN’s “Laura Coates ...</td>\n",
       "      <td>Breitbart</td>\n",
       "    </tr>\n",
       "    <tr>\n",
       "      <th>4</th>\n",
       "      <td>Quinnipiac Poll: Trump Takes Lead in Pennsylvania</td>\n",
       "      <td>Former President Donald Trump has a two point ...</td>\n",
       "      <td>Breitbart</td>\n",
       "    </tr>\n",
       "  </tbody>\n",
       "</table>\n",
       "</div>"
      ],
      "text/plain": [
       "                                               title  \\\n",
       "0  GOP: WH May Have Illegally Altered Biden's 'Ga...   \n",
       "1  Mavericks Principal Owners Donate $100 Million...   \n",
       "2  Fact Check: Harris Campaign Twists Trump Comme...   \n",
       "3  Harris Co-Chair: She's Different from Biden, H...   \n",
       "4  Quinnipiac Poll: Trump Takes Lead in Pennsylvania   \n",
       "\n",
       "                                             content     source  \n",
       "0  House Republicans say the Biden-Harris White H...  Breitbart  \n",
       "1  Miriam Adelson, the principal owner of the NBA...  Breitbart  \n",
       "2  CLAIM: Vice President Kamala Harris’s campaign...  Breitbart  \n",
       "3  On Tuesday’s broadcast of CNN’s “Laura Coates ...  Breitbart  \n",
       "4  Former President Donald Trump has a two point ...  Breitbart  "
      ]
     },
     "execution_count": 25,
     "metadata": {},
     "output_type": "execute_result"
    }
   ],
   "source": [
    "mean_TL = TL.mean()\n",
    "# print(mean_TL)\n",
    "\n",
    "sd_TL = TL.std()\n",
    "# print(sd_TL)\n",
    "\n",
    "threshold = 3\n",
    "\n",
    "z_score = zscore(TL)\n",
    "# print(z_score)\n",
    "\n",
    "# Remove 'text' of lengths that are greater than 3 standard deviations above the mean\n",
    "data.loc[abs(z_score) > threshold, 'content'] = np.nan\n",
    "# print(data.head(3))\n",
    "\n",
    "data = data.drop(\"text_length\", axis=1)\n",
    "data.head()"
   ]
  },
  {
   "cell_type": "markdown",
   "metadata": {},
   "source": [
    "### `title`\n",
    "\n",
    "Similarly, the `title` column of `data` (of type `str`) may also contain values with unusually long lengths, indicating the presence of outliers.\n",
    "\n",
    "1. Create a new column `title_length` in the DataFrame `data` by calculating the length of each price value. (Set the value as 0 if the correponding `title` column has NaN values.)\n",
    "\n",
    "2. Check the statistics of `title_length` using `describe()` method and display its unique values.\n",
    "\n",
    "3. Identify the outlier values by inspecting the content in `title` corresponding to the abnormal value in `title_length` and set the corresponding value of `title` to np.nan.\n",
    "\n",
    "4. Drop the `title_length` column from the DataFrame."
   ]
  },
  {
   "cell_type": "code",
   "execution_count": 26,
   "metadata": {},
   "outputs": [
    {
     "name": "stdout",
     "output_type": "stream",
     "text": [
      "                                               title  \\\n",
      "0  GOP: WH May Have Illegally Altered Biden's 'Ga...   \n",
      "1  Mavericks Principal Owners Donate $100 Million...   \n",
      "2  Fact Check: Harris Campaign Twists Trump Comme...   \n",
      "\n",
      "                                             content     source  title_length  \n",
      "0  House Republicans say the Biden-Harris White H...  Breitbart            59  \n",
      "1  Miriam Adelson, the principal owner of the NBA...  Breitbart           120  \n",
      "2  CLAIM: Vice President Kamala Harris’s campaign...  Breitbart            99  \n",
      "count    1313.000000\n",
      "mean       80.137091\n",
      "std        24.709738\n",
      "min         9.000000\n",
      "25%        62.000000\n",
      "50%        77.000000\n",
      "75%        96.000000\n",
      "max       186.000000\n",
      "Name: title_length, dtype: float64\n"
     ]
    }
   ],
   "source": [
    "data['title_length'] = data['title'].apply(lambda x: len(x) if pd.notna(x) else 0)\n",
    "print(data.head(3))\n",
    "\n",
    "TL = data[\"title_length\"]\n",
    "stats_TL = TL.describe()\n",
    "print(stats_TL)"
   ]
  },
  {
   "cell_type": "code",
   "execution_count": 27,
   "metadata": {},
   "outputs": [
    {
     "data": {
      "application/vnd.microsoft.datawrangler.viewer.v0+json": {
       "columns": [
        {
         "name": "index",
         "rawType": "int64",
         "type": "integer"
        },
        {
         "name": "title",
         "rawType": "object",
         "type": "string"
        },
        {
         "name": "content",
         "rawType": "object",
         "type": "string"
        },
        {
         "name": "source",
         "rawType": "object",
         "type": "string"
        }
       ],
       "conversionMethod": "pd.DataFrame",
       "ref": "091ce818-2092-4959-8ca8-f0281d6705ba",
       "rows": [
        [
         "0",
         "GOP: WH May Have Illegally Altered Biden's 'Garbage' Remark",
         "House Republicans say the Biden-Harris White House might have broken the law when they altered President Joe Biden’s remarks in the official transcript to imply he did not call Trump supporters “garbage.”\nBiden on Tuesday during a video call with Voto Latino in support of Vice President Kamala Harris’s presidential campaign said, “The only garbage I see floating out there is his supporters.”\nHowever, after facing immediate backlash from Republicans and even some Democrats, the White House claimed that Biden did not call Trump supporters “garbage,” but was instead referring to one Trump supporter — namely, comedian Tony Hinchliffe.\nThe White House released a transcript that reinforced that argument, adding an apostrophe to “supporters” to read “supporter’s,” and then adding an em-dash to make it seem like Biden had not completed his sentence.\nThe transcript said (emphasis added):\nThe only garbage I see floating out there is his supporter’s — his — his demonization of Latinos is unconscionable, and it’s un-American.\nHinchliffe, known for his off-color jokes, had performed at Trump’s Madison Square Garden rally on Sunday and had joked that Puerto Rico was a “floating island of garbage.”\nBiden also later posted on X that he was referring to Hinchliffe’s “demonization of Latinos.”\nAccording to House Republican Conference Chair Elise Stefanik (R-NY) and House Oversight Committee Chairman James Comer (R-KY), the White House’s addition of an apostrophe may have violated the Presidential Records Act.\nIn a letter to White House Counsel Edward Siskel, they demanded that the White House retain and preserve all documents and internal communications related to Biden’s statement and the release of the inaccurate transcript.\nThey also called on the White House to correct the transcript to reflect what Biden said. They said:\nPresident Biden’s vindictive words were unsurprising, given his previous statements regarding people who choose not to vote for his preferred candidate. Unsurprising too were the White House’s actions after he said them. Instead of apologizing or clarifying President Biden’s words, the White House instead sought to change them (despite them being recorded on video) by releasing a false transcript of his remarks. The move is not only craven, but it also appears to be in violation of federal law, including the Presidential Records Act of 1978.\n“White House staff cannot rewrite the words of the President of the United States to be more politically on message. Though President Biden’s relevance continues to diminish, his words continue to matter, even as they become increasingly divisive and erratic,” they added.\nFollow Breitbart News’s Kristina Wong on ”X”, Truth Social, or on Facebook.",
         "Breitbart"
        ],
        [
         "1",
         "Mavericks Principal Owners Donate $100 Million to Republicans Despite Mark Cuban Claiming Trump Has 'Fascist Tendencies'",
         "Miriam Adelson, the principal owner of the NBA’s Dallas Mavericks, has put down $100 million on Donald Trump to win the 2024 presidential election. This is despite the caterwauling of minority owner and extreme left-wing advocate Mark Cuban, who has been all-in for Kamala Harris.\nCuban has jumped in front of every microphone he can find to push for the election of Kamala Harris. Still, the team for which he used to be the majority owner and is now a minority owner is apparently working to the contrary, according to Front Office Sports.\nAdelson has been a top Republican donor since inheriting her husband’s fortune. Casino magnate Sheldon Adelson was also a big GOP backer but passed away in 2021. Since then, his wife has kept the GOP faith and remained a top donor.\nMiriam Adelson, a doctor who specializes in substance addiction, bought out Mark Cuban’s majority ownership of the Mavericks in 2023. However, Cuban still owns a bit more than one-fourth of the team.\nThe two, though, could not be more different politically. Cuban, who recently said Trump “absolutely” has “fascist tendencies,” is a staunch left-winger. However, he also claims he has not donated to the Harris campaign despite being a loud mouthpiece for her.\nIt appears Cuban is unwilling to let political differences stand in the way of making a buck, or several billion of them.\nWhile Adelson is by far the biggest political donor for the GOP in the NBA, several other owners have also contributed hefty cash to politics.\nHouston Rockets owner Tilman Fertitta donated $420,000 to several PACs working for Trump’s second term. However, he also gave $13,200 to Harris PACs.\nMinnesota Lynx and Timberwolves owner Glen Taylor donated to the GOP, but it wasn’t to Trump. Taylor, who was himself a GOP state senator from Minnesota, donated $2,000 to Nikki Haley before she dropped out of the primary race.\nMeanwhile, Sixers Co-Owner David Blitzer also signed on with Haley, making a personal donation of the maximum of $3,300. But since Haley failed, he turned to Harris, giving $31,600 to a Harris PAC.\nMeanwhile, Indiana Pacers and Fever owner Herb Simon donated $100,000 to pro-Harris PACs.\nEven excluding Adelson, NBA owners have given a bit more to Trump ($424,650) than Harris ($274,800).\nFollow Warner Todd Huston on Facebook at: facebook.com/Warner.Todd.Huston, or Truth Social @WarnerToddHuston",
         "Breitbart"
        ],
        [
         "2",
         "Fact Check: Harris Campaign Twists Trump Comment on Liz Cheney to Claim He Called for Her Execution",
         "CLAIM: Vice President Kamala Harris’s campaign implied former President Donald Trump called for Liz Cheney to be put before a firing squad.\nFACT CHECK: False. Trump’s comments on “guns trained on her face” were about Cheney stoking foreign wars without being willing to fight in their front lines.\nVice President Kamala Harris’s campaign took former President Donald Trump’s words out of context, to suggest that he was calling for Liz Cheney to be put before a firing squad.\nHer campaign posted a video of Trump speaking to Tucker Carlson on X/Twitter, with a caption that paraphrased him:\nLet’s put Liz Cheney with a rifle standing there with nine barrels shooting at her. Let’s see how she feels about it when the guns are trained on her face\nRather than suggesting she be executed, Trump was speaking about how neoconservatives are quick to send young Americans to fight overseas in war — which Trump has long opposed, particularly the Iraq and Afghanistan Wars championed by Cheney and her father, former Vice President Dick Cheney.\nTrump had also said: “They’re all war hawks when they’re sitting in Washington in a nice building saying Oh gee, let’s send 10,000 troops into the mouths of the enemy.”\nKaroline Leavitt, Trump Campaign National Press Secretary, blasted the Harris-Walz campaign:\nPresident Trump is 100% correct that warmongers like Liz Cheney are very quick to start wars and send other Americans to fight them, rather than go into combat themselves. This is the continuation of the latest fake media outrage days before the election in a blatant attempt to interfere on behalf of Kamala Harris.\nCheney herself tried to spread the lie, posting on X:\nThis is how dictators destroy free nations. They threaten those who speak against them with death. We cannot entrust our country and our freedom to a petty, vindictive, cruel, unstable man who wants to be a tyrant. #Womenwillnotbesilenced #VoteKamala\nAs Democrat operatives tired to spread the false claim, even Trump critic former Rep. Joe Walsh said Trump did not call for her to be put before a firing squad.\nHe posted on X:\nTrump did NOT call for Liz Cheney to be executed.\nThis is what’s so wrong with our politics today. Look, you know how I feel about Trump, and I’ve been out there every day for 2-3 months campaigning my ass off to help get @KamalaHarris elected, but this short clip is so deceptive. Trump is NOT calling for Liz Cheney to be executed in front of a firing line. He’s not. Listen to the entirety of what he said. In Trump’s typically stupid, ugly fashion, he’s trying to make a point about Cheney’s stance on war. But Aaron (who I like & respect), by posting ONLY this 11 second clip, makes it look like he’s calling for her to be executed. He’s not. He’s an utterly horrible human being who’s utterly unfit for office, but the truth should always matter. And the truth is that Trump is not calling for Liz Cheney to be executed. But…this 11 second clip will have a gazillion views, and the truth will have just a handful of views.\nBoth former Vice President Cheney and former Wyoming Republican Rep. Cheney has endorsed Harris, with the younger Cheney even campaigning on the trail for her.",
         "Breitbart"
        ],
        [
         "3",
         "Harris Co-Chair: She's Different from Biden, He Didn't Have Problem of 'Lowering Costs'",
         "On Tuesday’s broadcast of CNN’s “Laura Coates Live,” Harris Campaign Co-Chair Mitch Landrieu stated that 2024 Democratic presidential candidate Vice President Kamala Harris differentiated herself from President Joe Biden “by saying, listen, I love the President, we did great work together, but I have different problems than he had, the most important of which is lowering costs for the American people. And I think she addressed it really very forthrightly and better tonight than she has in the past.”\nHost Laura Coates asked, “On that point of her trying to distinguish herself from Biden, was there a key moment in that speech that you think voters will connect to to suggest, yes, she will be different?”\nLandrieu answered, “Well, first of all, it was an incredible night. I was there, and there were 70,000 people there. … We were going to go to Madison Square Garden, but we couldn’t fit. So, we had to go there. It was just a huge turnout and it was exuberant and it was joyful and the environment in which she gave the speech was really uplifting and hopeful, which is what the speech was. It was a fairly detailed speech. She laid out, in clear detail, what the risks are of re-electing Donald Trump. She talked about the fact that, behind her, was the Resolute Desk, and, in seven days the people are going to decide whether she’s going to be sitting there or Donald Trump’s going to be sitting there and she reminded the public that Donald Trump has already talked about, out of his own mouth, spending his time talking about his enemies list, and the fact that she had a to-do list. And then she’s talked about how she is going to build an opportunity economy for all of us, not just some of us, and distinguished herself from Joe Biden by saying, listen, I love the President, we did great work together, but I have different problems than he had, the most important of which is lowering costs for the American people. And I think she addressed it really very forthrightly and better tonight than she has in the past.”\nFollow Ian Hanchett on Twitter @IanHanchett",
         "Breitbart"
        ],
        [
         "4",
         "Quinnipiac Poll: Trump Takes Lead in Pennsylvania",
         "Former President Donald Trump has a two point lead in a hypothetical two-way race with Vice President Kamala Harris in Pennsylvania (49-47 percent), a seven point swing since September 16, Quinnipiac survey found Wednesday.\nTrump’s lead is just within the margin of error of 2.1 percentage points. The poll sampled 2,186 likely voters in Pennsylvania from October 24 – 28.\nThe poll by Quinnipiac, which often leans left, suggests Trump holds the momentum during the period of early voting with less than a week until Election Day.\nBelow is the trend of the last three Quinnipiac surveys demonstrating the momentum:\nOctober 28\n- Trump: 49% (+2)\n- Harris: 47%\nOctober 7\n- Harris: 49% (+2)\n- Trump: 47%\nSeptember 16\n- Harris: 51% (+5)\n- Trump: 46%\nThe poll’s analysis suggested that the gender gap increased:\nMen back Trump 57 – 37 percent, while women back Harris 55 – 39 percent. In Quinnipiac University’s October 9 poll, men backed Trump 52 – 41 percent, while women backed Harris 55 – 40 percent.\n“The gender gap widens with Trump increasing his lead among men, as what remains a very tight race heads into the final stretch,” Quinnipiac University Polling Analyst Tim Malloy said in a statement.\nWendell Husebo is a political reporter with Breitbart News and a former RNC War Room Analyst. He is the author of Politics of Slave Morality. Follow Wendell on “X” @WendellHusebø or on Truth Social @WendellHusebo.",
         "Breitbart"
        ]
       ],
       "shape": {
        "columns": 3,
        "rows": 5
       }
      },
      "text/html": [
       "<div>\n",
       "<style scoped>\n",
       "    .dataframe tbody tr th:only-of-type {\n",
       "        vertical-align: middle;\n",
       "    }\n",
       "\n",
       "    .dataframe tbody tr th {\n",
       "        vertical-align: top;\n",
       "    }\n",
       "\n",
       "    .dataframe thead th {\n",
       "        text-align: right;\n",
       "    }\n",
       "</style>\n",
       "<table border=\"1\" class=\"dataframe\">\n",
       "  <thead>\n",
       "    <tr style=\"text-align: right;\">\n",
       "      <th></th>\n",
       "      <th>title</th>\n",
       "      <th>content</th>\n",
       "      <th>source</th>\n",
       "    </tr>\n",
       "  </thead>\n",
       "  <tbody>\n",
       "    <tr>\n",
       "      <th>0</th>\n",
       "      <td>GOP: WH May Have Illegally Altered Biden's 'Ga...</td>\n",
       "      <td>House Republicans say the Biden-Harris White H...</td>\n",
       "      <td>Breitbart</td>\n",
       "    </tr>\n",
       "    <tr>\n",
       "      <th>1</th>\n",
       "      <td>Mavericks Principal Owners Donate $100 Million...</td>\n",
       "      <td>Miriam Adelson, the principal owner of the NBA...</td>\n",
       "      <td>Breitbart</td>\n",
       "    </tr>\n",
       "    <tr>\n",
       "      <th>2</th>\n",
       "      <td>Fact Check: Harris Campaign Twists Trump Comme...</td>\n",
       "      <td>CLAIM: Vice President Kamala Harris’s campaign...</td>\n",
       "      <td>Breitbart</td>\n",
       "    </tr>\n",
       "    <tr>\n",
       "      <th>3</th>\n",
       "      <td>Harris Co-Chair: She's Different from Biden, H...</td>\n",
       "      <td>On Tuesday’s broadcast of CNN’s “Laura Coates ...</td>\n",
       "      <td>Breitbart</td>\n",
       "    </tr>\n",
       "    <tr>\n",
       "      <th>4</th>\n",
       "      <td>Quinnipiac Poll: Trump Takes Lead in Pennsylvania</td>\n",
       "      <td>Former President Donald Trump has a two point ...</td>\n",
       "      <td>Breitbart</td>\n",
       "    </tr>\n",
       "  </tbody>\n",
       "</table>\n",
       "</div>"
      ],
      "text/plain": [
       "                                               title  \\\n",
       "0  GOP: WH May Have Illegally Altered Biden's 'Ga...   \n",
       "1  Mavericks Principal Owners Donate $100 Million...   \n",
       "2  Fact Check: Harris Campaign Twists Trump Comme...   \n",
       "3  Harris Co-Chair: She's Different from Biden, H...   \n",
       "4  Quinnipiac Poll: Trump Takes Lead in Pennsylvania   \n",
       "\n",
       "                                             content     source  \n",
       "0  House Republicans say the Biden-Harris White H...  Breitbart  \n",
       "1  Miriam Adelson, the principal owner of the NBA...  Breitbart  \n",
       "2  CLAIM: Vice President Kamala Harris’s campaign...  Breitbart  \n",
       "3  On Tuesday’s broadcast of CNN’s “Laura Coates ...  Breitbart  \n",
       "4  Former President Donald Trump has a two point ...  Breitbart  "
      ]
     },
     "execution_count": 27,
     "metadata": {},
     "output_type": "execute_result"
    }
   ],
   "source": [
    "mean_TL = TL.mean()\n",
    "# print(mean_TL)\n",
    "\n",
    "sd_TL = TL.std()\n",
    "# print(sd_TL)\n",
    "\n",
    "threshold = 3\n",
    "\n",
    "z_score = zscore(TL)\n",
    "# print(z_score)\n",
    "\n",
    "# Remove 'title' of lengths that are greater than 3 standard deviations above the mean\n",
    "data.loc[abs(z_score) > threshold, 'title'] = np.nan\n",
    "# print(data.head(3))\n",
    "\n",
    "data = data.drop(\"title_length\", axis=1)\n",
    "data.head()"
   ]
  },
  {
   "cell_type": "code",
   "execution_count": 28,
   "metadata": {},
   "outputs": [
    {
     "data": {
      "text/plain": [
       "title       6\n",
       "content    21\n",
       "source      0\n",
       "dtype: int64"
      ]
     },
     "execution_count": 28,
     "metadata": {},
     "output_type": "execute_result"
    }
   ],
   "source": [
    "data.isnull().sum()"
   ]
  },
  {
   "cell_type": "markdown",
   "metadata": {},
   "source": [
    "# Feature Engineering\n",
    "\n",
    "### Create new column `full_review`\n",
    "Since there are some rows with empty `text` and `title`, we will concatenate both columns (`text` and `title`) to form a new column `full_content`.\n",
    "1. Replace `NaN` values in `text` and `title` with an empty string.\n",
    "\n",
    "2. Combine `text` and `title` into `full_content`.\n",
    "\n",
    "3. Strip any leading/trailing whitespaces in `full_content`.\n",
    "\n",
    "4. Drop `text` and `title` columns."
   ]
  },
  {
   "cell_type": "code",
   "execution_count": 29,
   "metadata": {},
   "outputs": [
    {
     "name": "stdout",
     "output_type": "stream",
     "text": [
      "      source                                       full_content\n",
      "0  Breitbart  House Republicans say the Biden-Harris White H...\n",
      "1  Breitbart  Miriam Adelson, the principal owner of the NBA...\n",
      "2  Breitbart  CLAIM: Vice President Kamala Harris’s campaign...\n",
      "3  Breitbart  On Tuesday’s broadcast of CNN’s “Laura Coates ...\n",
      "4  Breitbart  Former President Donald Trump has a two point ...\n",
      "\n",
      "The old shape is: (1313, 2)\n"
     ]
    }
   ],
   "source": [
    "# 1) Fill NaN values in 'text' and 'title' with an empty string\n",
    "data['title'] = data['title'].fillna('')\n",
    "data['content'] = data['content'].fillna('')\n",
    "\n",
    "# 2) Combine 'text' and 'title' into 'content'\n",
    "data['full_content'] = data['content'] + \" \" + data['title']\n",
    "\n",
    "# 3) Strip any leading/trailing whitespace\n",
    "data['full_content'] = data['full_content'].str.strip()\n",
    "\n",
    "# 4) Drop `text` and `title` columns\n",
    "data = data.drop(columns = ['content', 'title'])\n",
    "\n",
    "# Check if the 'full_review' column was added and if 'text' and 'title' columns has been dropped\n",
    "print(data.head())\n",
    "print(\"\\nThe old shape is:\",data.shape)"
   ]
  },
  {
   "cell_type": "markdown",
   "metadata": {},
   "source": [
    "### Handle Missing Values\n",
    "1. Drop rows where `full_review` are empty strings and reset the index.\n",
    "\n",
    "2. Check if there are no more null values in `data`."
   ]
  },
  {
   "cell_type": "code",
   "execution_count": 30,
   "metadata": {},
   "outputs": [
    {
     "name": "stdout",
     "output_type": "stream",
     "text": [
      "The new shape is: (1313, 2)\n"
     ]
    },
    {
     "data": {
      "text/plain": [
       "source          0\n",
       "full_content    0\n",
       "dtype: int64"
      ]
     },
     "execution_count": 30,
     "metadata": {},
     "output_type": "execute_result"
    }
   ],
   "source": [
    "# 1) Drop rows where `full_review` are empty strings and reset the index\n",
    "data = data[data['full_content'] != \"\"].reset_index(drop=True)\n",
    "print(\"The new shape is:\",data.shape)\n",
    "\n",
    "# 2) Check if there are no more null values in `data`\n",
    "data.isnull().sum()"
   ]
  },
  {
   "cell_type": "code",
   "execution_count": 31,
   "metadata": {},
   "outputs": [
    {
     "data": {
      "application/vnd.microsoft.datawrangler.viewer.v0+json": {
       "columns": [
        {
         "name": "index",
         "rawType": "int64",
         "type": "integer"
        },
        {
         "name": "source",
         "rawType": "object",
         "type": "string"
        },
        {
         "name": "full_content",
         "rawType": "object",
         "type": "string"
        }
       ],
       "conversionMethod": "pd.DataFrame",
       "ref": "3b2477b0-8b81-464a-b6b5-9843853b742e",
       "rows": [
        [
         "0",
         "Breitbart",
         "House Republicans say the Biden-Harris White House might have broken the law when they altered President Joe Biden’s remarks in the official transcript to imply he did not call Trump supporters “garbage.”\nBiden on Tuesday during a video call with Voto Latino in support of Vice President Kamala Harris’s presidential campaign said, “The only garbage I see floating out there is his supporters.”\nHowever, after facing immediate backlash from Republicans and even some Democrats, the White House claimed that Biden did not call Trump supporters “garbage,” but was instead referring to one Trump supporter — namely, comedian Tony Hinchliffe.\nThe White House released a transcript that reinforced that argument, adding an apostrophe to “supporters” to read “supporter’s,” and then adding an em-dash to make it seem like Biden had not completed his sentence.\nThe transcript said (emphasis added):\nThe only garbage I see floating out there is his supporter’s — his — his demonization of Latinos is unconscionable, and it’s un-American.\nHinchliffe, known for his off-color jokes, had performed at Trump’s Madison Square Garden rally on Sunday and had joked that Puerto Rico was a “floating island of garbage.”\nBiden also later posted on X that he was referring to Hinchliffe’s “demonization of Latinos.”\nAccording to House Republican Conference Chair Elise Stefanik (R-NY) and House Oversight Committee Chairman James Comer (R-KY), the White House’s addition of an apostrophe may have violated the Presidential Records Act.\nIn a letter to White House Counsel Edward Siskel, they demanded that the White House retain and preserve all documents and internal communications related to Biden’s statement and the release of the inaccurate transcript.\nThey also called on the White House to correct the transcript to reflect what Biden said. They said:\nPresident Biden’s vindictive words were unsurprising, given his previous statements regarding people who choose not to vote for his preferred candidate. Unsurprising too were the White House’s actions after he said them. Instead of apologizing or clarifying President Biden’s words, the White House instead sought to change them (despite them being recorded on video) by releasing a false transcript of his remarks. The move is not only craven, but it also appears to be in violation of federal law, including the Presidential Records Act of 1978.\n“White House staff cannot rewrite the words of the President of the United States to be more politically on message. Though President Biden’s relevance continues to diminish, his words continue to matter, even as they become increasingly divisive and erratic,” they added.\nFollow Breitbart News’s Kristina Wong on ”X”, Truth Social, or on Facebook. GOP: WH May Have Illegally Altered Biden's 'Garbage' Remark"
        ],
        [
         "1",
         "Breitbart",
         "Miriam Adelson, the principal owner of the NBA’s Dallas Mavericks, has put down $100 million on Donald Trump to win the 2024 presidential election. This is despite the caterwauling of minority owner and extreme left-wing advocate Mark Cuban, who has been all-in for Kamala Harris.\nCuban has jumped in front of every microphone he can find to push for the election of Kamala Harris. Still, the team for which he used to be the majority owner and is now a minority owner is apparently working to the contrary, according to Front Office Sports.\nAdelson has been a top Republican donor since inheriting her husband’s fortune. Casino magnate Sheldon Adelson was also a big GOP backer but passed away in 2021. Since then, his wife has kept the GOP faith and remained a top donor.\nMiriam Adelson, a doctor who specializes in substance addiction, bought out Mark Cuban’s majority ownership of the Mavericks in 2023. However, Cuban still owns a bit more than one-fourth of the team.\nThe two, though, could not be more different politically. Cuban, who recently said Trump “absolutely” has “fascist tendencies,” is a staunch left-winger. However, he also claims he has not donated to the Harris campaign despite being a loud mouthpiece for her.\nIt appears Cuban is unwilling to let political differences stand in the way of making a buck, or several billion of them.\nWhile Adelson is by far the biggest political donor for the GOP in the NBA, several other owners have also contributed hefty cash to politics.\nHouston Rockets owner Tilman Fertitta donated $420,000 to several PACs working for Trump’s second term. However, he also gave $13,200 to Harris PACs.\nMinnesota Lynx and Timberwolves owner Glen Taylor donated to the GOP, but it wasn’t to Trump. Taylor, who was himself a GOP state senator from Minnesota, donated $2,000 to Nikki Haley before she dropped out of the primary race.\nMeanwhile, Sixers Co-Owner David Blitzer also signed on with Haley, making a personal donation of the maximum of $3,300. But since Haley failed, he turned to Harris, giving $31,600 to a Harris PAC.\nMeanwhile, Indiana Pacers and Fever owner Herb Simon donated $100,000 to pro-Harris PACs.\nEven excluding Adelson, NBA owners have given a bit more to Trump ($424,650) than Harris ($274,800).\nFollow Warner Todd Huston on Facebook at: facebook.com/Warner.Todd.Huston, or Truth Social @WarnerToddHuston Mavericks Principal Owners Donate $100 Million to Republicans Despite Mark Cuban Claiming Trump Has 'Fascist Tendencies'"
        ],
        [
         "2",
         "Breitbart",
         "CLAIM: Vice President Kamala Harris’s campaign implied former President Donald Trump called for Liz Cheney to be put before a firing squad.\nFACT CHECK: False. Trump’s comments on “guns trained on her face” were about Cheney stoking foreign wars without being willing to fight in their front lines.\nVice President Kamala Harris’s campaign took former President Donald Trump’s words out of context, to suggest that he was calling for Liz Cheney to be put before a firing squad.\nHer campaign posted a video of Trump speaking to Tucker Carlson on X/Twitter, with a caption that paraphrased him:\nLet’s put Liz Cheney with a rifle standing there with nine barrels shooting at her. Let’s see how she feels about it when the guns are trained on her face\nRather than suggesting she be executed, Trump was speaking about how neoconservatives are quick to send young Americans to fight overseas in war — which Trump has long opposed, particularly the Iraq and Afghanistan Wars championed by Cheney and her father, former Vice President Dick Cheney.\nTrump had also said: “They’re all war hawks when they’re sitting in Washington in a nice building saying Oh gee, let’s send 10,000 troops into the mouths of the enemy.”\nKaroline Leavitt, Trump Campaign National Press Secretary, blasted the Harris-Walz campaign:\nPresident Trump is 100% correct that warmongers like Liz Cheney are very quick to start wars and send other Americans to fight them, rather than go into combat themselves. This is the continuation of the latest fake media outrage days before the election in a blatant attempt to interfere on behalf of Kamala Harris.\nCheney herself tried to spread the lie, posting on X:\nThis is how dictators destroy free nations. They threaten those who speak against them with death. We cannot entrust our country and our freedom to a petty, vindictive, cruel, unstable man who wants to be a tyrant. #Womenwillnotbesilenced #VoteKamala\nAs Democrat operatives tired to spread the false claim, even Trump critic former Rep. Joe Walsh said Trump did not call for her to be put before a firing squad.\nHe posted on X:\nTrump did NOT call for Liz Cheney to be executed.\nThis is what’s so wrong with our politics today. Look, you know how I feel about Trump, and I’ve been out there every day for 2-3 months campaigning my ass off to help get @KamalaHarris elected, but this short clip is so deceptive. Trump is NOT calling for Liz Cheney to be executed in front of a firing line. He’s not. Listen to the entirety of what he said. In Trump’s typically stupid, ugly fashion, he’s trying to make a point about Cheney’s stance on war. But Aaron (who I like & respect), by posting ONLY this 11 second clip, makes it look like he’s calling for her to be executed. He’s not. He’s an utterly horrible human being who’s utterly unfit for office, but the truth should always matter. And the truth is that Trump is not calling for Liz Cheney to be executed. But…this 11 second clip will have a gazillion views, and the truth will have just a handful of views.\nBoth former Vice President Cheney and former Wyoming Republican Rep. Cheney has endorsed Harris, with the younger Cheney even campaigning on the trail for her. Fact Check: Harris Campaign Twists Trump Comment on Liz Cheney to Claim He Called for Her Execution"
        ],
        [
         "3",
         "Breitbart",
         "On Tuesday’s broadcast of CNN’s “Laura Coates Live,” Harris Campaign Co-Chair Mitch Landrieu stated that 2024 Democratic presidential candidate Vice President Kamala Harris differentiated herself from President Joe Biden “by saying, listen, I love the President, we did great work together, but I have different problems than he had, the most important of which is lowering costs for the American people. And I think she addressed it really very forthrightly and better tonight than she has in the past.”\nHost Laura Coates asked, “On that point of her trying to distinguish herself from Biden, was there a key moment in that speech that you think voters will connect to to suggest, yes, she will be different?”\nLandrieu answered, “Well, first of all, it was an incredible night. I was there, and there were 70,000 people there. … We were going to go to Madison Square Garden, but we couldn’t fit. So, we had to go there. It was just a huge turnout and it was exuberant and it was joyful and the environment in which she gave the speech was really uplifting and hopeful, which is what the speech was. It was a fairly detailed speech. She laid out, in clear detail, what the risks are of re-electing Donald Trump. She talked about the fact that, behind her, was the Resolute Desk, and, in seven days the people are going to decide whether she’s going to be sitting there or Donald Trump’s going to be sitting there and she reminded the public that Donald Trump has already talked about, out of his own mouth, spending his time talking about his enemies list, and the fact that she had a to-do list. And then she’s talked about how she is going to build an opportunity economy for all of us, not just some of us, and distinguished herself from Joe Biden by saying, listen, I love the President, we did great work together, but I have different problems than he had, the most important of which is lowering costs for the American people. And I think she addressed it really very forthrightly and better tonight than she has in the past.”\nFollow Ian Hanchett on Twitter @IanHanchett Harris Co-Chair: She's Different from Biden, He Didn't Have Problem of 'Lowering Costs'"
        ],
        [
         "4",
         "Breitbart",
         "Former President Donald Trump has a two point lead in a hypothetical two-way race with Vice President Kamala Harris in Pennsylvania (49-47 percent), a seven point swing since September 16, Quinnipiac survey found Wednesday.\nTrump’s lead is just within the margin of error of 2.1 percentage points. The poll sampled 2,186 likely voters in Pennsylvania from October 24 – 28.\nThe poll by Quinnipiac, which often leans left, suggests Trump holds the momentum during the period of early voting with less than a week until Election Day.\nBelow is the trend of the last three Quinnipiac surveys demonstrating the momentum:\nOctober 28\n- Trump: 49% (+2)\n- Harris: 47%\nOctober 7\n- Harris: 49% (+2)\n- Trump: 47%\nSeptember 16\n- Harris: 51% (+5)\n- Trump: 46%\nThe poll’s analysis suggested that the gender gap increased:\nMen back Trump 57 – 37 percent, while women back Harris 55 – 39 percent. In Quinnipiac University’s October 9 poll, men backed Trump 52 – 41 percent, while women backed Harris 55 – 40 percent.\n“The gender gap widens with Trump increasing his lead among men, as what remains a very tight race heads into the final stretch,” Quinnipiac University Polling Analyst Tim Malloy said in a statement.\nWendell Husebo is a political reporter with Breitbart News and a former RNC War Room Analyst. He is the author of Politics of Slave Morality. Follow Wendell on “X” @WendellHusebø or on Truth Social @WendellHusebo. Quinnipiac Poll: Trump Takes Lead in Pennsylvania"
        ],
        [
         "5",
         "Breitbart",
         "Representative Maxwell Frost (D-FL) claimed Wednesday during an appearance on “CNN News Central” that President Joe Biden misspoke when he called supporters of former President Donald Trump garbage because he was “very angry.”\nCo-host Brianna Keilar said, “The Harris campaign, needing to refocus the narrative today after President Biden appeared to refer to supporters of Donald Trump as garbage. A remark, he later tried to clarify saying that he was referring only to comedian Tony Hinchcliffe.”\nShe asked, “The White House is sort of saying this was about him saying supporter’s, apostrophe s. I just wonder if when you’re debating the existence of an apostrophe if you’ve lost the argument here?”\nFrost said, “The comments that we heard at that rally were completely disgusting about Puerto Rican Americans. I was very angry about it and I think the president was very angry about it, thinking about and talking about it. I think he misspoke.”\nHe added, “He’s someone who loves every American I think he misspoke because he was angry thinking about the bigotry we heard at Madison Square Garden. Honestly, I think that’s it.”\nKeilar said, “You think he misspoke. Do you do you think that there actually is an apostrophe s, that he was talking about Hinchcliffe?”\nFrost said, “The president was talking about that guy specifically, but also just everything said from that stage at that rally.”\nFollow Pam Key on X @pamkeyNEN Dem Rep. Frost: Biden Called Trump Supporters Garbage Because He Was 'Very Angry'"
        ],
        [
         "6",
         "Breitbart",
         "Rep. Rashida Tlaib (D-MN) refused to endorse Vice President Kamala Harris on Friday while encouraging people in Michigan not to “underestimate the power” they have.\nDuring a United Auto Workers (UAW) union rally in Detroit, Michigan, Tlaib encouraged Michigan voters to make their voices heard in the election and to”turn out people” to cast their vote, according to Detroit News.\nWhile Tlaib declined to endorse Harris, in a post on X, she described former President Donald Trump as being “a proud Islamophobe” and a “serial liar who doesn’t stand for peace.”\nTlaib’s made these comments about Trump as his support among the Arab American and Muslim American community has increased and as he has received endorsements from Muslim Americans in Michigan.\n“Don’t underestimate the power you all have,” Tlaib said. “More than those ads, those lawn signs, those billboards, you all have more power to turn out people that understand we’ve got to fight back against corporate greed in our country.”\nThe outlet noted that Tlaib “focused her speech to UAW members on down ballot races”:\nShe focused her speech to UAW members on down ballot races, specifically the judicial races, voicing support for Democratic-nominated Michigan Supreme Court candidates Kyra Harris Bolden and Kimberley Thomas in their respective races against Republicans Patrick O’Grady and Andrew Fink.\nIn May, Tlaib suggested that people vote against President Joe Biden, who was the Democrat Party’s presidential nominee at the time, because of the current administration’s handling of the Israel and Hamas war.\nWhile Tlaib did not deliver an endorsement of Harris at the UAW rally, Rep. Alexandria Ocasio-Cortez (D-NY) said that Michigan was “the place where miracles happen,” adding that it would “deliver a Kamala Harris presidency,” according to the outlet. Rashida Tlaib Chooses Not to Endorse Kamala Harris at UAW Rally"
        ],
        [
         "7",
         "Breitbart",
         "During an interview with the Fox News Channel aired on Friday’s “Special Report,” Rep. Debbie Dingell (D-MI) responded to a question on how 2024 Democratic presidential candidate Vice President Kamala Harris talks about turning the page when she is the sitting Vice President and President Joe Biden polls poorly on the economy by stating that “she understands the issues.” And “I’m one of those old-fashioned people that thinks loyalty matters. So, she’s got to be respectful, talk more about what her economic plans are.”\nHost Bret Baier asked, [relevant exchange begins around 1:45] “How do you talk about the turn the page thing with the sitting Vice President, who’s the Vice President of the President who has low approval ratings when it comes to the economy?”\nDingell responded, “Look, I know that she understands the issues. It’s very — loyalty, I’m one of those old-fashioned people that thinks loyalty matters. So, she’s got to be respectful, talk more about what her economic plans are. I’ve said to them, I said a month ago, union halls don’t know who she is. They’ve got to know that she’s going to go in and fight for them. They know who Donald Trump is.”\nFollow Ian Hanchett on Twitter @IanHanchett Dingell on Harris Promising to Turn Page as VP: I Think 'Loyalty Matters', She Gets Issues"
        ],
        [
         "8",
         "Breitbart",
         "NFL Hall of Famer and Packers legend Brett Favre knows what a winning organization looks like, and he sees a winner when hearkens back to America under President Trump.\nSpeaking at Wednesday’s Trump rally at the Resch Center in Green Bay, Wisconsin, the Packer legend addressed the assembled crowd in a language they would immediately understand.\n“Much like the Packers organization, Donald Trump and his organization is a winner,” Favre said. “The United States of America won with his leadership.”\nFavre’s presence on the podium at a political rally shocked many, not the least of whom was Favre, who said he never envisioned himself back in Green Bay, speaking to the Packer faithful in that kind of setting.\nHowever, as Favre explained, the state of the world and our country’s dire straits compelled him to speak.\n“I think there’s never been a more important time in our lives than right now in this election,” Favre said. “First and foremost, are there any Packer fans in the house?”\nPredictably, that question got a resounding roar. However, other parts of Favre’s speech would also be warmly welcomed. For example, he likened the repeated failures and struggles during the early part of his career with the Packers to the current failures of the Biden-Harris administration and the “insanity” of expecting anything to get better unless changes were made.\n“Sounds like the first couple of years of my tenure here with the Packers,” Favre said. “Mike Holmgren would say, ‘What in the hell are you doing, Brett?’ I said, ‘Hell, I don’t know, Mike.’ But we figured out a way to get it done.\n“It would be insane to give Kamala four more years in office,” Favre exclaimed.\nThe Packer legend also rebuked President Biden for calling Trump’s supporters “garbage.”\n“I can assure you we’re not garbage. How dare he say that? I see police officers, teachers, nurses, grandparents, students. I see everyday Americans that make this country great,” Favre explained. Brett Favre Compares America During Trump's First Term to the Packers: 'A Winner'"
        ],
        [
         "9",
         "Breitbart",
         "NBA superstar LeBron James has endorsed Vice President Kamala Harris in her bid for the presidency in a statement attached to a civil-rights-themed video posted on social media.\nThe video casts President Trump as a spreader of “hate.”\n“What are we even talking about here??” wrote James in a social media post. “When I think about my kids and my family and how they will grow up, the choice is clear to me. VOTE KAMALA HARRIS!!!”\nThe video features clips of Trump taken out of context and set against the backdrop of scenes from the civil rights era and more recent times of racial unrest, casting the former president as an enemy of voting rights, the civil rights movement in general, and black people in particular.\nThe video and James’ endorsement come at a time when Harris and the Democrats are seeing notable drops in support among black people and Latinos.\nJames’ endorsement should come as no surprise. The future Hall of Famer has used his platform online and on television to advocate for every leftist policy on the Democrat platform. He has also endorsed former President Barack Obama in 2008, former Secretary of State Hillary Clinton in 2016, and President Joe Biden in 2020.\nThe animosity between Trump and James is no secret either.\nIn 2018, Trump blasted James for doing an interview with then-CNN anchor Don Lemon.\n“Lebron James was just interviewed by the dumbest man on television, Don Lemon,” Trump wrote on social media. “He made Lebron look smart, which isn’t easy to do. I like Mike!”\nIn addition, in 2022, Trump invited James to join his women’s basketball team. James did not respond to the invitation. 'The Choice Is Clear to Me': LeBron James Endorses Kamala Harris for President"
        ],
        [
         "10",
         "Breitbart",
         "Tuesday, during an appearance on FNC’s “Hannity,” Trump surrogate Vivek Ramaswamy declared President Joe Biden’s “garbage” comments to be the GOP’s “October surprise.”\nRamaswamy speculated that Biden’s family was rooting for Trump to win on November 5, suggesting this was not necessarily linked to Biden’s apparent cognitive decline.\n“Here’s the October surprise,” he said. “It just arrived. This is the ‘basket of deplorables’ moment. That’s what Hillary said in 2016 that tanked her campaign. Well, that is the Joe Biden-Kamala Harris moment right now. I am a little bit more cynical about this one, Sean, in the following way: It might look like Joe Biden’s usual cognitive deficit kicked in. But the reality is we know his family is probably rooting for Trump, not Kamala Harris to win because they feel vengeful about how they were treated. So if you are in their shoes, that comment might tank heiress but motivations to one side.”\n“But regardless of motivations, it is a welcome October surprise because let’s take a big step back and look at what’s going on here,” Ramaswamy continued. “The wheels are coming off the car. They are spiraling. And now you see the accusations — the other side being Hitler or piles of garbage. You’re going to hear a lot about threats to democracy in the next week. They are flailing, Sean. Understand, Americans are not falling for their trick anymore. Donald Trump has a record that he is running on. They are frustrated by it. And it is in some ways, I think, a beautiful thing for our side to  — to  this completely come undone.”\nFollow Jeff Poor on X @jeff_poor 'This Is the 'Basket of Deplorables' Moment': Ramaswamy Says Biden 'Garbage' Comments Our 'October Surprise'"
        ],
        [
         "11",
         "Breitbart",
         "Breitbart Editor-in-Chief Alex Marlow joins host Mike Slater to discuss the 2024 campaign closing arguments from both candidates. Did Trump do enough to get past the finish line? Alex shares his thoughts. And Mike talks about the crucial get-out-the-vote efforts underway.\nAlex’s first bestseller, Breaking the News, has been re-released in an updated paperback for the 2024 election year.\nThe Breitbart News Daily Podcast runs Monday through Friday as a “Director’s Cut” of the SXM Patriot radio show hosted by Mike Slater.\nSUBSCRIBE for free by clicking your preferred podcast platform below. Breitbart News Daily Podcast Ep. 649: Breitbart Editor-in-Chief Alex Marlow on 2024 Campaign Closing Arguments"
        ],
        [
         "12",
         "Breitbart",
         "Hollywood star Jeff Bridges has launched a last-minute pitch to shore up support for Democrat Senator Jon Tester in Montana as the 2024 election comes down to the wire and with Tester losing support.\nBridges, famous for his “The Dude” character in the 1998 cult classic The Big Lebowski, had officially endorsed Tester back on October 18 when he appeared at a College Democrats event at Montana State University.\nNow the Tron actor has floated a campaign video, insisting that “Senator Jon Tester is the real deal. He’s a farmer, cares about the people of this state, and is the backbone of Montana.”\nIt might seem like a desperate, last-minute attempt to boost Tester if the polls are any indication. Senator Tester is flagging in many late polls, falling behind Republican rival Tim Sheehy.\nFive Thirty Eight, for instance, has Sheehy at 49.6 percent to Tester’s 44.3 percent on its October 31 survey.\nEmerson College was also bullish on Sheehy with its more recent polling showing Sheehy at 50 percent to Tester’s 46 percent.\nBut like so many polls this year, the results are often mixed. Other polling was a tad less optimistic for Sheehy as the MSU Billings Mountain States Poll found Tester and Sheehy tied at 43 percent each.\nAnd still, the Daily Montanan claimed the race was a “dead heat” with Tester leading 51 percent to Sheehy’s 48 percent.\nThe race is vitally important for the control of the U.S. Senate. If the Democrats lose Tester, that will go a long way toward throwing control of the upper chamber back to the Republicans.\nFollow Warner Todd Huston on Facebook at: facebook.com/Warner.Todd.Huston, or Truth Social @WarnerToddHuston Desperation Dude: Hollywood Elite Jeff Bridges Records 11th Hour Appeal to Montana to Back ‘Man of the Land’ Democrat Jon Tester"
        ],
        [
         "13",
         "Breitbart",
         "The leftist Labour Party government in Britain is facing accusations of a cover-up over the mass stabbing at a children’s dance party in Southport after the suspect was charged with terror offences.\nAccording to reports from the BBC and The Telegraph, top-level government officials were made aware over the past few weeks that Axel Rudakubana, 18, the second-generation Rwandan migrant suspected of killing three young girls and injuring ten others at a Taylor Swift-themed dance party in Southport on July 29, faced potential terror charges over allegedly producing the deadly toxin Ricin and downloading an Al-Qaeda terror manual.\nThe Southport mass stabbing sparked widespread anti-mass migration protests and riots in England over the summer, resulting in over a thousand arrests and hundreds sent to prison. In the immediate aftermath of the attack, speculation ran rampant on social media about the potential motive and identity of the then-unidentified suspect.\nAuthorities were quick to condemn “misinformation” about the case, which seemingly led to a protest-turned-riot outside a local mosque in Southport. Police initially merely identified the suspect as having been born in Wales. However, after the Liverpool Crown Court lifted reporting restrictions on the case to quell speculation on August 1, it was revealed suspect Axel Rudakubana was born to Rwandan migrants living in Wales in 2006.\nFigures, such as Reform UK leader Nigel Farage, had faced heavy criticism for questioning whether the attack was terror-related amid the information vacuum in the aftermath of the Southport killings. On Wednesday, he questioned whether the new developments may have vindicated his original position.\nThe Free Speech Union, meanwhile, stated of the new charges and how they may impact some of those who were jailed after the attack for social media posts: “We suspect some of the prosecutions of people for saying supposedly inflammatory things on social media may now be unsafe – for instance, the man in Cumbria sentenced to eight weeks in jail for reposting three allegedly ‘Islamophobic’ memes on Facebook. At the very least, it may be grounds for appealing their often draconian jail sentences.”\nAlthough prosecutors still won’t be drawn on whether the mass stabbing itself was a terror attack, Rudakubana was charged on Tuesday with violating Section 58 of the Terrorism Act 2000 over allegedly downloading a pdf file named: “Military Studies in the Jihad Against the Tyrants: The Al-Qaeda Training Manual”. He was also charged with breaching Section 1 of the Biological Weapons Act 1974 over the alleged production of a biological toxin, with Ricin said to have been found in his home.\nFormer top Downing Street official Dominic Cummings has alleged that a cover-up is continuing, accusing the BBC of spreading “disinformation for Number 10” by reporting that the government was only made aware of the charges in the past few weeks.\nBoris Johnson’s ex-chief advisor\n.“The BBC uses clever wording re ‘aware of CHARGES’ to sp disinformation. The ‘mainstream’ IS the disinformation,” Cummings said, adding that “the news has been dropped amid the budget [and] US election to try to hide the disinformation operation against the voters.”\nThe government has denied\nthe opposition Conservative Party of spreading “conspiracy theories and the undermining of public faith in our institutions and public servants.” Nevertheless, the police themselves say the Criminal Prosecution Service has advised them not to reveal further details.Both Conservative leadership candidates, former equalities minister Kemi Badenoch and former immigration minister Robert Jenrick, demanded the government disclose when it was made aware of Rudakubana’s alleged terrorist activities.\nJenrick said: “Any suggestion of a cover-up will permanently damage public trust in whether we’re being told the truth about crime in our country… Keir Starmer must urgently explain to the country what he knew about the Southport attack and when he learned it. Across the board, the hard reality of mass migration is being covered up. We need the truth – and we need to change.”\nBadenoch added: “After the Southport murders and the ensuing protests and riots, some people asked me why I wasn’t commenting. This is why… Too many on all sides rush to conclusions before all the facts are clear. As more information emerges, it is quite clear that there are serious questions to be asked of the police, the CPS and also of Keir Starmer’s response to the whole situation.”\nOn Wednesday, during Prime Minister’s Questions, Reform UK deputy leader Richard Tice questioned if Sir Keir Starmer agrees with Jonathan Hall KC, the government’s independent reviewer of terrorism laws, who “has said repeatedly recently that it is important in incidents of terrorism that the authorities put out more information sooner in order to prevent and information gap.”\nResponding, Prime Minister Starmer declined to answer directly, merely taking the opportunity to score some political points. He said: “Erm, Mr Speaker, obviously, I’ll tread carefully in answering this question for the very reasons you yourself set out at the beginning of this session. I think it’s very important, first and foremost, that in all cases, including the particular difficult case that the Speaker mentioned earlier that the police and prosecutors are able to do their difficult job.”\nAppearing to criticise the opposition for daring to ask questions about the case, Starmer continued: “All of us in this house have a choice to make, including both candidates to be the next Tory leader. They can either support the police in their difficult task or they can undermine the police in their difficult task, and I know what side I’m on.” UK Gov't Accused of Covering Up Alleged Terror Ties of Southport Suspect"
        ],
        [
         "14",
         "Breitbart",
         "President Joe Biden’s “garbage” smear does not undercut the Vice President Kamala Harris message of “unity,”‘ Gov. Tim Walz (D) indicated Wednesday.\nBiden’s smear on Tuesday overshadowed Harris’s closing argument that night in which she said she would be a president for “all Americans.”\nThe pledge came just days after she called former President Donald Trump a “fascist.”\n“I have to ask, does that undercut this closing message of unity from your campaign,” asked CBS News’s Tony Dokoupil about Democrats long list of demonizing Trump supporters.\n“No, certainly not,” Walz replied:\nOn ABC’s Good Morning America, George Stephanopoulos asked Walz: “Was calling Trump supporters garbage? He says he was talking about the comedian. What’s your response to that? Did it step on the Vice President’s message?”\n“The President’s clarified his remarks,” Walz replied.\nBiden tried to clarify his remarks by denying he referred to Trump supporters as “garbage”:\nEarlier today I referred to the hateful rhetoric about Puerto Rico spewed by Trump’s supporter at his Madison Square Garden rally as garbage—which is the only word I can think of to describe it. His demonization of Latinos is unconscionable. That’s all I meant to say. The comments at that rally don’t reflect who we are as a nation.\nWalz continued to spin Biden’s comment and claimed Trump called the county “garbage”:\nBut let’s be very clear, the Vice President and I have made it absolutely clear that we want everyone as a part of this. Donald Trump’s divisive rhetoric is what needs to end. He called this a garbage country, and continues on from the enemy within which you heard Vice President Harris say.\nTrump also posted a response shortly after midnight:\nWhile I am running a campaign of positive solutions to save America, Kamala Harris is running a campaign of hate. She has spent all week comparing her political opponents to the most evil mass murderers in history.\nNow, on top of everything, Joe Biden calls our supporters “garbage.”\nYou can’t lead America if you don’t love the American People. Kamala Harris and Joe Biden have shown they are both unfit to be President of the United States.\nWendell Husebo is a political reporter with Breitbart News and a former RNC War Room Analyst. He is the author of Politics of Slave Morality. Follow Wendell on “X” @WendellHusebø or on Truth Social @WendellHusebo. 'No, Certainly Not' -- Tim Walz Denies 'Garbage' Smear Undercut Harris's 'Unity' Message"
        ],
        [
         "15",
         "Breitbart",
         "An establishment amnesty for the roughly 25 million illegal migrants in the United States would “end democracy,” and convert the U.S. into a one-party state like California, JD Vance, Donald Trump’s hand-picked running mate, told host Joe Rogan on Thursday.\n“I’m a Reagan guy, right?” Vance said in his three-hour interview with Joe Rogan, adding:\nI’m a conservative Republican. But [President Ronald] Reagan screwed up a lot … People don’t talk nearly enough about the amnesty thing … Because of what Ronald Reagan did in the 1986 amnesty, California is now effectively a permanently blue state.\n“The entire country becomes that” if Democrats push through an amnesty, Vance added.\nBut mass migration imposes huge costs on Americans, even without an amnesty, he said.\nEven when migrants do not hold citizenship, they get a share of representation in Congress, Vance said:\nFor example, the state of Ohio lost a congressional seat in the last census [in 2020 so] states that have high illegal immigrant populations picked up congressional seats. So you’re actually taking away congressional representation from American citizens and giving it to illegal aliens. Even if you don’t give them the right to vote, you’re still destroying the voting power [of citizens].\nImmigration also imposes massive civic and economic burdens on Americans’ communities, Vance said:\nYou see this in some communities — because they’re small towns, and because rapid migrant influxes can happen very quickly — here the town population has been doubled. You don’t even have to assume people are criminals …[but] what does it do to the local public school when all of a sudden 1,000 [migrants] show up that don’t even speak English, right?\nWhat does it do to the [town’s] hospital system when you now have thousands of people … that are showing up to get emergency services because they don’t have access otherwise to a doctor, and now the American citizens have to wait in line for seven hours to get to see a doctor because we’ve overwhelmed the local hospital system?\nWhat does it do to housing prices? We’ve seen this in a number of communities, including those that I represent in Ohio. When you bring in thousands and thousands of people, you cannot build enough houses quickly enough to accommodate that. So the cost of housing becomes unaffordable for American citizens.\nThose costs are largely ignored by the national media, which mostly hire pro-migration reporters– including many immigrants — to cover migration dramas.\n“It is the craziest thing that we’ve seen in this country that you don’t even allow people to talk about the effects of mass migration anymore,” Vance said, adding:\nOne of the reasons why Donald Trump is going to be elected president, or at least should be elected president, [is] because he is one of the few guys who’s saying, “You know what, we’re going to talk about this problem. Yes, some immigrants are good [and] some immigrants are not good.” That is an obvious insight to anybody who knows human nature.\nBut it is money that drives the nation’s migration policy, Vance said. “I think what is obvious, and I’ve seen this in the halls of Congress,” he said, adding:\nI’ve seen it very explicitly. You talk about lobbying [in other political issues], and we obviously talked about [it] in the context of other industries. There is a massive corporate lobby for cheap labor in the United States of America. That is, I think, the main thing that’s going on.\nLet me tell you a story when I was in the private sector. I was at a business conference dinner, and I was seated next to the CEO of one of the largest hotel chains in America … The guy was going on and on about how much he hates Donald Trump. And I’m like, “Oh, that’s interesting, why do you hate Donald Trump so much?”\nBecause, again, I was, I was sort of a Trump skeptic in 2015 and at this point, I was kind of starting to really get on the Trump train.\nAnd he said, “Well, the reason I hate Donald Trump … is because Donald Trump’s border policies have cut down the number of illegal immigrants. And because I can’t pay illegal immigrants under the table anymore, I have to pay American workers, and they want much higher wages.”\nI was like, “Holy shit! This guy just admitted what is straight-up, Monopoly Man evil shit. My wife, who’s very apolitical, was actually at the dinner with me, and she’s like, “Come again, you just said you don’t want Americans to get decent wages?”\nThe best argument for Donald Trump’s immigration policy is that American workers are getting higher wages, and this is why this corporate CEO hates it. So whatever the industry is, you’ve got a lot of people who want cheap labor and they don’t want to pay American workers higher wages. That’s a big part of it.\nBut Democrats also want to get political advantage from the inflow of poor migrants, Vance added:\nI do think there’s also a power dynamic to it. In particular, I think Kamala Harris and the Democrats, they want to give these millions upon millions of illegal aliens the right to vote. They want to legalize them. They want to make it easier for them to participate in our elections. And that means, fundamentally, the end of American democracy, because you’re talking about 25 million [illegal migrant] people here.\nIf Kamala Harris gives 10 million of those people legal status and allows them to vote in American elections. Then, say, 70/30 they go [vote] Democrat, Republicans will never win a national election in this country in my lifetime.\n“It will have degraded the voting power of the people who have the legal right to be here,” he added.\nBreitbart News has closely tracked the impact of migration on Americans’ blue-collar and white-collar wages, their housing, and, increasingly, on Americans’ productivity.\n“We always used to think [a] shrinking population is a cause for negative [economic] growth,” BlackRock founder Larry Fink said at a pro-globalist event in April hosted by the World Economic Forum in Saudi Arabia. He continued:\nBut in my conversations with the leadership of these large, developed countries [such as China, and Japan] that have xenophobic anti-immigration policies, they don’t allow anybody to come in — [so they have] shrinking demographics — these countries will rapidly develop robotics and AI and technology … If a promise of all that transforms productivity, which most of us think it will [emphasis added] — we’ll be able to elevate the standard living in countries, the standard of living for individuals, even with shrinking populations.\nOverall, since about 1990, the US. government has used an economic policy of Extraction Migration from poor countries to inflate the nation’s consumer economy with extra workers, consumers, and renters. That economic policy has helped grow the economy Congress helped investors to export much of the nation’s manufacturing economy to lower-wage countries. JD Vance to Joe Rogan: Amnesty Will End Democracy"
        ],
        [
         "16",
         "Breitbart",
         "Actress Drea de Matteo, who starred in HBO’s The Sopranos, has blasted billionaire and Kamala Harris surrogate Mark Cuban over his insult to women who support former President Donald Trump, saying the left is “messing with the wrong breed of women.”\nIn a new social media video, Drea de Matteo hit back at Mark Cuban after he said during a recent appearance on ABC’s The View that no “strong, intelligent women” would support Trump.\n“Guess you haven’t met me yet, buddy,” she told him. “It takes a lot of balls to come out and support the anti-war machine, and you know it.”\nShe added: “I support Donald Trump like my life depends on it and my kids’ lives.”\nAs Breitbart News reported, Trump responded Thursday to Mark Cuban’s statement on The View that he is never around “strong, intelligent women.”\nTrump posted on Truth Social “I surround myself with the strongest of women” and that “all strong women, and women in general, should be very angry about this weak man’s statement.”\nActress Kristy Swanson, who played the title roll in the popular 1992 movie Buffy the Vampire Slayer, also hit back at Cuban’s insult to women.\nFollow David Ng on Twitter @HeyItsDavidNg. Have a tip? Contact me at dng@breitbart.com 'Sopranos' Star Drea de Matteo Blasts Mark Cuban's Insult to Trump-Voting Women"
        ],
        [
         "17",
         "Breitbart",
         "On Thursday’s broadcast of WBUR’s “Here and Now,” Managing Director of the Immigration Defense Unit at the San Francisco Public Defender’s Office Francisco Ugarte stated that if 2024 Republican presidential candidate former President Donald Trump is elected the “idea that Trump could just simply get away with engaging in mass deportation without any semblance of a resistance is really kind of far-fetched.” And cited California’s Supreme Court saying that ICE agents shouldn’t be in courthouses because that deters people from going to court as an example of this.\nUgarte said, “They did try and do courthouse arrests. But, when they sent ICE agents, one time, to the local courthouse here in San Francisco, within a day, there was a massive rally of community members and a declaration from the Supreme Court…of California saying, don’t invade the space of the courts, because you’ll deter people from going to courts. So, this idea that Trump could just simply get away with engaging in mass deportation without any semblance of a resistance is really kind of far-fetched. Things like mass deportation or these, like, sweeping human rights abuses are really, ultimately, not very popular among the American public.”\nFollow Ian Hanchett on Twitter @IanHanchett San Fran. Official: There Will Be 'Resistance' to Mass Deportations, Like We Had from Courts"
        ],
        [
         "18",
         "Breitbart",
         "The government of Saudi Arabia hosted the inaugural meeting of the “International Alliance to Implement the Two-State Solution,” a nebulous coalition organized by Riyadh to formalize the creation of a Palestinian state.\nSaudi Foreign Minister Prince Faisal bin Farhan used the opportunity to accuse Israel of “genocide” for engaging in military operations against the genocidal terrorist organizations Hamas and Hezbollah. The administration of outgoing President Joe Biden sent a State Department envoy to the meeting, though meetings at press time do not indicated Washington played a prominent role in the event.\nThe “international alliance” is one of several diplomatic measures Saudi Arabia is taking to publicly oppose Israel’s attempts to protect itself from genocidal jihadists, pivoting away from the direction Riyadh was taking prior to Biden taking office of potential normalization with Jerusalem. Under Biden’s predecessor Donald Trump, Saudi Arabia greatly enhanced its anti-terror cooperation with the United States, establishing the Global Center for Combating Extremist Ideology in 2017 and going to war with the Iran-backed Houthi terrorists of Yemen. Biden prioritized antagonizing Saudi Arabia in his foreign policy, however, vowing to turn the major Middle East nation into a “pariah” state during the 2020 presidential election and attempting to improve diplomacy with Iran.\nBiden tried to make amends with the Saudi government during a catastrophic visit to the country in 2o22 that yielded no strategic deliverables for America and resulted in circulating gossip that Crown Prince Mohammed bin Salman mocked Biden’s “mental acuity.”\nDespite Biden’s efforts, Mohammed bin Salman, commonly known by his initials MBS, did not appear to entirely abandon the possibility of normalizing ties with Israel until the unprecedented Hamas siege of Israel on October 7, 2023, which killed about 1,200 civilians, including children as young as infants, and featured extensive acts of torture, gang rape, abduction, and desecration of corpses. Shortly after the attacks, MBS began demanding the establishment of a state of “Palestine” with its capital in Jerusalem – the capital of Israel – in public addresses, which he had conspicuously omitted from other comments prior to the attacks about diplomacy with Israel.\nThe Saudi government first announced the creation of the “Global Alliance to Implement a Two-State Solution” in late September on the sidelines of the United Nations General Assembly. At the time, Prince Faisal, the foreign minister, said that the alliance was a joint effort between European countries and the member of the Organization of Islamic Cooperation (OIC).\n“Self-defence cannot justify the killing of tens of thousands of civilians and the practice of systematic destruction, forced displacement, the use of starvation as a tool of war,” Prince Faisal denounced then, “incitement and dehumanisation, and systematic torture in its most heinous forms, including sexual violence and other crimes documented according to United Nations reports.”\nReports on the first meeting of the alliance were light on details of any active measures taken. Prince Faisal offered comments in which he condemned Israeli operations against Hamas and Hezbollah, which have eliminated much of the senior leadership of those grounds, as “catastrophic.\n“A genocide is happening with the goal of evicting the Palestinian people from their land, which Saudi Arabia rejects,” he claimed on Wednesday. The foreign minister was not quoted as similarly condemning the explicitly genocidal aims of the jihadist groups in question, such as replacement Hezbollah chief Naim Qassem stating on Wednesday that a “ceasefire” with Israel was possible if the entire population of Israel was expelled from its country.\nThe Saudi foreign minister boasted that nearly 90 countries had attended the Alliance meeting, which is expected to last two days, and reports noted that it would also discuss defending the United Nations Relief and Works Agency (UNRWA) for Palestinians, which Israeli officials have found to be closely linked to Hamas terror operations in Gaza.\nIn addition to the summit this week, the Saudis announced that the country would host an “Arab-Islamic summit” on November 11 “to discuss countering Israeli aggression,” according to the Emirati newspaper the National.\nSaudi Arabia’s leadership against Israel is a dramatic pivot away from the position the country was in during the Trump administration and even as recently as September 2023. That month, Crown Prince Mohammed bin Salman said in an interview that his country was seeking ways to improve relations with Israel.\n“For us, the Palestinian issue is very important,” MBS told Fox News. “We need to solve that part. … We hope that it will reach a place that it will ease the life of the Palestinians, and get Israel back as a player in the Middle East.”\nIf an agreement would “give the Palestinians their needs and make the region calm, we’re going to work with whoever’s there,” he added.\nNotably, MBS did not mention the creation of a Palestinian state as a precondition to peace with Israel.\nIn November 2023, at an event for members of the anti-American BRICS coalition, the crown prince condemned the Israeli government for responding to the Hamas attack and explicitly demanded a “Palestinian state … with East Jerusalem as its capital.”\n“We reiterate our categorical rejection of these operations that have claimed the lives of thousands of children, women, and the elderly,” the de facto ruler said. “We demand an immediate stop of the military operations, and the provision of humanitarian corridors to enable international humanitarian organizations to perform their role and aid civilians.”\nMBS repeated that promise in September.\n“The kingdom will not stop its tireless work towards the establishment of an independent Palestinian state with East Jerusalem as its capital, and we affirm that the kingdom will not establish diplomatic relations with Israel without that,” the crown prince asserted.\nWhile Saudi Arabia continues to maintain a distance from the mass murderers of Hamas, its fraught relationship with the governing entity of the West Bank, the Palestinian Authority, has improved since the October 7 attacks. In September 2023, former Secretary of State Mike Pompeo said that he believed the Saudis had become disillusioned with the Palestinian Authority as its leadership was corrupt and it was a hindrance to improving ties to Israel. Nearly a year after the attacks, the Saudi government reportedly ended an eight-year embargo on funding the Palestinian Authority. Palestinian officials told the radical leftist New York Times (NYT) newspaper that Riyadh would be funding the entity to the tune of as much as $60 million. Saudi Arabia, Alienated by Biden, Hosts Summit on Creating Palestinian State"
        ],
        [
         "19",
         "Breitbart",
         "Just a few actions would solve 85 percent of the border crisis, former acting ICE Director Tom Homan said during an interview on Breitbart News Daily.\n“Congress needs — they just need to pass three laws and they’d solve 85 percent of the problem on the border,” he said, calling for an end to the Flores settlement agreement as well as a change in asylum laws. He also pointed to the Trafficking Victims Protection Reauthorization Act (TVPRA).\n“Those three things would solve 85 percent” of the issues at the border, he said, but he acknowledged that Congress will not act any time soon. Because of that, former President Donald Trump, should he win, must do a “series of executive orders,” which will make a huge difference.\n“Remain in Mexico is a game-changer. That was a game changer that had more effect on the border in any policy I’ve seen in my 34-year career. Put the remain in Mexico program back into executive order” as well as catch and release, which will solve the “majority” of the United States’ problems on the southern border, he explained.\nLISTEN:\nHoman also addressed the recently aired 60 Minutes interview featuring himself — an interview that was completely chopped up — and responded to a segment showing a family scared of being torn apart due to Trump’s immigration policies.\n“Whose fault is that? When they enter the country and they choose to have a child, who put them in that position? Not Tom Homan. Not President Trump. Not the system. They choose to enter this country illegally, and while here illegally, they choose to have a child or they bring other family members in there. They put themselves in that position, knowing damn well they’re here illegally, knowing damn well they have an order of removal they’re ignoring, and they’re in hiding,” he said, responding to the critiques.\n“They put themselves in position. This is their problem. They created it. They can deal with it. It’s not Tom Homan’s problem. We’re going to — if the judge orders you removed, that’s what’s going to happen,” he added.\nBreitbart News Daily airs on SiriusXM Patriot 125 from 6:00 a.m. to 9:00 a.m. Eastern. Exclusive -- Former Acting ICE Director Tom Homan: 3 Actions Would Solve 85% of Border Crisis"
        ],
        [
         "20",
         "Breitbart",
         "Rep. Alexandria Ocasio-Cortez (D-NY), also known as AOC, is being mocked for a get-out-the-vote (GOTV) flyer that is printed partially in Arabic, because the Arabic is written backwards and in disconnected script.\nArabic is read and written right-to-left, meaning that some simple text translation programs might reverse the order of the letters inadvertently. In addition, most (but not all) of the letters are meant to be connected within words.\nThe first Arabic word on the flyer is meant to be “voting” in Arabic, but the order of the letters has been reversed.\nEvidently, no one who actually understands Arabic was brought in to proofread the GOTV flyer before printing.\nDemocrats hoped to rely on Arab American voters to oppose Trump. But outrage at the Biden-Harris administration over the ongoing war in the Middle East has, however improbably, encouraged some Muslim voters to choose Trump in protest.\nMoreover, there are many Arab Americans, in both Christian and Muslim communities, who oppose the radical social agenda and redistributionist economic policies of Vice President Kamala Harris and her party.\nTrump has been receiving unexpected endorsements from Muslim and Arab Americans, in Michigan — where there is a large Arab American community — and beyond.\nJoel B. Pollak is Senior Editor-at-Large at Breitbart News and the host of Breitbart News Sunday on Sirius XM Patriot on Sunday evenings from 7 p.m. to 10 p.m. ET (4 p.m. to 7 p.m. PT). He is the author of The Agenda: What Trump Should Do in His First 100 Days, available for pre-order on Amazon. He is also the author of The Trumpian Virtues: The Lessons and Legacy of Donald Trump’s Presidency, now available on Audible. He is a winner of the 2018 Robert Novak Journalism Alumni Fellowship. Follow him on Twitter at @joelpollak. 'Pure Gibberish': AOC Mocked for Arabic GOTV Flyer Printed Backwards"
        ],
        [
         "21",
         "Breitbart",
         "North Korea confirmed on Friday that the intercontinental ballistic missile (ICBM) the communist regime tested on Thursday was a new model, identified as the “Hwasong-19.”\nSouth Korean military officials confirmed on Thursday that the North had launched an ICBM, believed to be nuclear capable and able to reach all of the continental United States. The missile flew for 86 limits, a record for North Korean technology, and its performance coupled with the novel shape of its launch pad did not match the profiles of previously known North Korean ICBM models.\nBoth South Korean and Japanese officials warned this week that they expect especially belligerent behavior from Pyongyang in anticipation of the upcoming American presidential election. Both warned shortly before the ICBM launch that such a display was imminently possible, as well as the potential that North Korea could detonate a nuclear weapon to intimidate America and South Korea before the election on Tuesday.\nThe “Hwasong-19” debuted in the greater context of a documented North Korean military presence in Europe. South Korean, American, and Ukrainian officials have warned for weeks that communist dictator Kim Jong-un has agreed to send thousands of troops to Russia to train and ultimately fight in the ongoing invasion of Ukraine. Ukrainian President Volodymyr Zelensky told his South Korean counterpart, Yoon Suk-yeol, this week that he anticipates as many as 12,000 North Korean troops could soon be operating in Ukraine. A video circulating on Ukrainian social media on Friday claimed to show a captured North Korean soldier.\nRodong Sinmun, the official North Korean regime newspaper, celebrated the “Hwasong-19” on Friday as a “tremendously powerful absolute weapon … showing signs of new strength the world has never experienced.” It published photos of a leather-clad Kim Jong-un, alongside daughter Kim Ju-ae, attending the launch of the ICBM, claiming the dictator to have experienced “great satisfaction” at the success of the weapon.\n“The successful test-fire of the new-type ICBM has come to prove before the world that the dominant position the DPRK [North Korea] has secured in the development and manufacture of nuclear delivery means of the same kind is absolutely irreversible,” Rodong Sinmun paraphrased Kim as saying.\n“He clearly reaffirmed that the DPRK would never change its line of bolstering up its nuclear forces under any circumstances,” the propaganda outlet relayed. “He once again stressed that only the peace that can be defended by the strength great enough to control and deter the enemy is the reliable, secure and durable peace.”\nRodong Sinmun claimed that America and South Korea pose “a grave danger” to North Korea that necessitates a greater investment in the country’s nuclear arsenal.\n“The present grave reality … more clearly emphasizes the necessity of the absolute power capable of deterring the enemy and controlling the situation at all times and the validity of its steady increase,” the newspaper asserted.\nThe North Korean government almost immediately confirmed the missile launch on Thursday, contrary to its typical process of waiting a day before offering any commentary on an ICBM test. Its report aligned with information published by South Korean and Japanese officials, who stated that the missile, shot at a very steep angle, flew 621 miles across and 4,300 high.\nIn its initial confirmation of the test, the North Korean Central News Agency (KCNA) stated the missile “fully meets the purpose of informing the rivals [South Korea and America], who have intentionally escalated the regional situation and posed a threat to the security of our Republic recently, of our counteraction will.”\nIn remarks to the press on Friday, according to the Yonhap News Agency, appearing to confirm the North Korean claims, South Korean officials described the Hwasong-19 as the “largest long-range missile yet.”\n“A South Korean military official told reporters on condition of anonymity that the Hwasong-19 is longer than the country’s previously known largest ICBM — the Hwasong-17,” Yonhap noted. “In comparison, the Hwasong-17’s TEL, which also has 11 axles, is about 23 meters long.”\n“The size of the Hwasong-19, powered by solid propellant, also indicates that it has a relatively longer range and larger payload than the smaller solid-fuel Hwasong-18 solid-fuel ICBM that is presumed to be able to target the U.S. mainland,” it continued.\nSouth Korean officials also suggested that the shape of the missile could potentially hold more than one nuclear warhead. Despite the updated capabilities of the Hwasong-19, South Korean officials dismissed the claim that it was an “ultimate” weapon, noting that its efficacy is still not confirmed as its ability to travel on a horizontal path, rather than being shot into the sky, remains unknown.\nThe Hwasong-19 may not be the last North Korean surprise before the American presidential election. Both Japanese and South Korean officials suggested this week that Pyongyang has fully refurbished the Punggye-ri Nuclear Test Site, unused since 2017, meaning it could soon be used to detonate another nuclear weapon.\nSouth Korean officials “suggested the North could launch an ICBM to verify its atmospheric reentry technology, at a timing targeting the US presidential election in November,” the Japanese news network NHK reported. The officials, it added, “have not ruled out North Korea going ahead with its seventh nuclear test around the time of the US presidential election.”\nJapanese government Yoshimasa Hayashi told reporters this week that North Korea “may undertake further provocative actions, such as launching various missiles, a satellite, or conducting a nuclear test.” North Korea: ICBM Fired This Week Was New 'Hwasong-19' Model"
        ],
        [
         "22",
         "Breitbart",
         "Hungarian Prime Minister Viktor Orbán said that he is “convinced” that if Donald Trump is sent back to the White House, he will immediately bring about a diplomatic solution to the war in Ukraine, with or without the help of the European Union.\nSpeaking alongside former German Chancellor Gerhard Schröder from Vienna this week, Mr Orbán said that if elected next week, Trump’s team will “sit down with the Russian president in no time and negotiate,” adding, “We are preparing.”\nOrbán, one of the former president’s chief allies in Europe, accused Brussels of operating under a delusion, arguing that the EU leadership has refused to accept or failed to understand that Ukraine cannot win the war, Die Welt reports.\n“This war is lost,” Orbán said. “The situation is getting worse and worse. If Europe does not want to send its own soldiers, it must finally accept that. The fact that Europe is proud of not communicating with Russia is barbaric and diplomatically illiterate.”\nThe populist leader did admit, however, that initial negotiations will not be for a broader peace agreement between the West, Ukraine, and Russia but rather to get a ceasefire to stop the bloodshed.\nSchröder, a longtime ally of Vladimir Putin, agreed with the sentiment and said it was wrong for Berlin and Paris to criticise the Hungarian leader for advocating for a ceasefire during trips to Beijing, Kyiv, Moscow, and the United States. Instead, EU leaders should support peace efforts from Budapest.\nSchröder also supported Trump’s desire to bring peace to Europe, saying that while he never thought he would back the Republican candidate, “I would praise him again”.\nThe former German chancellor, who has faced criticism for his business ties in Russia, such as holding positions with Nord Stream AG, Rosneft, and Gazprom, again accused former UK Prime Minister Boris Johnson of scuppering an early peace deal between Ukraine and Russia at a 2022 meeting in Istanbul.\nOn the other hand, Orbán argued that the peace deal lacked necessary guarantees and that Ukrainian President Volodymyr Zelensky had blocked peace talks, opting instead to continue the war.\nMr Trump has claimed that if elected, he would negotiate a ceasefire between Kyiv and Moscow before he is even inaugurated in January.\nThe former president has so far opted to keep his negotiating tactics close to his chest. However, following a meeting at his Mar-a-Lago residence earlier this year, Prime Minister Orbán suggested that cutting off American aid to Ukraine would likely be used to force Zelensky to the table. Hungary's Orbán Convinced Donald Trump Will Bring Peace to Ukraine"
        ],
        [
         "23",
         "Breitbart",
         "On Tuesday’s broadcast of CNN’s “The Source,” host Kaitlan Collins stated that it’s hard to buy the White House’s attempt to clean up President Joe Biden’s statement about supporters of 2024 Republican presidential candidate former President Donald Trump “when you can listen to it for yourself” by just watching the video of the remarks.\nWhile speaking with Pennsylvania Gov. Josh Shapiro (D), Collins played video where Biden said, “The only garbage I see floating out there is his supporters. His — his — his demonization of Latinos is unconscionable, and it’s un-American.”\nShe then stated that “it sounds like he’s calling Trump supporters, there, garbage.”\nCollins added, “[T]he White House is trying to say that what President Biden was saying — they’re putting an apostrophe there on ‘supporters’, saying it’s the singular, I guess referring to the comedian, that supporter’s comments. It’s hard to really look at that when you can listen to it for yourself.”\nFollow Ian Hanchett on Twitter @IanHanchett CNN's Collins: 'Hard' to Buy Spin on Biden's 'Garbage' Comments When You Can Watch Video"
        ],
        [
         "24",
         "Breitbart",
         "Israel said Thursday that it would ensure the safety of Lebanon’s cultural heritage sites, even as it evacuates cities that are near ancient ruins and archaeological treasures.\nMany residents of Lebanon have expressed concern this week as the Israeli military has ordered evacuations in the city of Baalbek, in northeastern Lebanon.\nThe city is far from the region of southern Lebanon from which Hezbollah terrorists have been firing at Israel for more than a year, but Hezbollah has established a significant presence in the city, which is near the Syrian border, across which Hezbollah smuggles weapons supplied by the Iranian regime.\nBaalbek includes Roman ruins that are listed as a World Heritage Site by the United Nations Educational, Scientific and Cultural Organization (UNESCO) and that are, the BBC notes, “are among the largest and best-preserved in the world.”\nIsraeli government spokesman David Mencer told a press briefing, in response to questions from Breitbart News, that that Israel had seen reports of requests to ensure that historical sites will not fall within the range of fire.\n“The IDF [Israel Defense Forces] will, of course, ensure that is always the case,” Mencer said. However, he added that “ultimately, it is the fault of Hezbollah” that war had reached such areas, due to its decision to attack Israel without provocation over the past year.\nHe noted that the number of people evacuated from their homes in Israel was currently 58,000, “due to the incessant rocket fire,” which had killed 64 people and wounded 603, even before five more were killed and one wounded in an attack earlier in the day.\nThe border had been quiet for 17 years when Hezbollah began firing at Israel on October 8, after the Hamas terror attack.\nIn 2022, Israel and Lebanon signed a deal for the development of offshore natural gas resources, under which Israel gave up gas fields that were within its territorial waters in the hope that doing so would discourage Hezbollah from launching future wars.\nAsked whether that had been a mistake, Mencer said that Israel would be “changing our strategy moving forward,” though stressing that Israel still sought peace with Lebanon and the Lebanese people.\nHe noted that while several Arab states have been willing to make peace with Israel, including through the Abraham Accords, the Iranian regime has “decided to develop its own empire, in which there is no place for the state of Israel,” which led to the current war, as Hezbollah is controlled by Iran.\nIsrael had dealt Iran a “crushing blow,” Mencer said, and would continued to confront Iran over its efforts to disrupt relations between Israel and the Arab states.\nJoel B. Pollak is Senior Editor-at-Large at Breitbart News and the host of Breitbart News Sunday on Sirius XM Patriot on Sunday evenings from 7 p.m. to 10 p.m. ET (4 p.m. to 7 p.m. PT). He is the author of The Agenda: What Trump Should Do in His First 100 Days, available for pre-order on Amazon. He is also the author of The Trumpian Virtues: The Lessons and Legacy of Donald Trump’s Presidency, now available on Audible. He is a winner of the 2018 Robert Novak Journalism Alumni Fellowship. Follow him on Twitter at @joelpollak. Israel Says It Will Ensure Safety of Lebanon's Cultural Heritage Sites"
        ],
        [
         "25",
         "Breitbart",
         "Vulnerable Democrat Senate candidates are scrambling away from President Joe Biden as his “garbage” smear on Trump supporters endangers candidates’ viability, while others refuse to say whether or not they actually think former President Donald Trump’s supporters are “garbage.”\nArizona Democrat Senate nominee Rep. Ruben Gallego (D-AZ) entirely dodged Breitbart News’s comment request in response to whether or not he thinks Trump supporters are garbage.\n“I am running to represent all Arizonans, regardless of who they vote for,” he said.\nBreitbart News followed up, again asking if he views Trump voters as garbage and for his response to Biden’s extremely divisive comment, as well as his take on Vice President Kamala Harris’s reaction to it.\nGallego did not respond to the following questions hours after they were asked.\nBiden disparaged Trump supporters during a video call with Voto Latino on Tuesday.\n“The only garbage I see floating out there is his supporters,” Biden said.\nThe clip went viral on social media and upstaged Vice President Kamala Harris’s closing argument speech at the Ellipse in Washington, DC.\nGallego’s opponent, Republcian Kari Lake, slammed him and brought receipts from when he called Trump supporters “the worst people in the world” in 2016.\n“People who hate us don’t deserve the privilege of representing us,” Lake wrote in a post on X. “I don’t hate anyone. I just want to help Arizonans.”\nWhile Gallego responded to Breitbart News’s initial comment request but avoided the follow-up, the senate offices of Sens. Bob Casey (D-PA) and Tammy Baldwin (D-WI) did not respond to Breitbart News’s multiple comment requests Wednesday asking the senators, “Do you think Trump supporters are garbage?”\nAccording to Washington Free Beacon investigative reporter Chuck Ross, a Casey spokesman gave a similar dodging statement that Gallego did to Breitbart News regarding the “garbage” insult.\n“Senator Casey respects all Pennsylvanians regardless of how they vote,” the spokesperson said.\nRepublican businessman Dave McCormick, Casey’s opponent, blasted the weak statement on Wednesday night.\n“Bob Casey cannot bring Pennsylvania together if he is too weak to condemn Joe Biden or anyone else calling half of our state garbage,” he wrote.\nInkl reports that “Baldwin’s campaign spokesman stated that Baldwin does not agree with President Biden’s comments.”\nRepublican businessman Eric Hovde, who is challenging Baldwin, released an ad Wednesday showing a previous video of Baldwin trashing Trump supporters and likening it to Clinton’s “basket of deplorables” comment.\nSen. Jacky Rosen’s (D-NV) campaign gave a more vigorous rebuke to the comments than Gallego and Casey.\n“Senator Rosen strongly disagrees with disparaging anyone based on who they vote for,” a Rosen campaign spokesperson told Breitbart News. “As one of the most bipartisan and independent Senators, she works hard to find common ground across party lines and represent all Nevadans.”\nRosen’s opponent, Ret. Army Capt. Sam Brown (R) blasted Biden Tuesday night for trashing half of the country.\n“Tonight, Joe Biden called half of America ‘garbage,” Capt. Brown wrote. “‘Garbage’ because we believe in putting America First, securing our borders, keeping men out of women’s sports, & making life affordable for working families.”\nIn a similar fashion to Rosen, Sen. Brown distanced himself from Biden, saying he disagreed that Trump voters are “garbage” in a statement to Breitbart News.\n“Sherrod doesn’t agree with that and fights for all Ohioans, regardless of who they vote for,” Brown campaign spokesman Matt Keyes said.\nOne of Brown’s donors, Vinod Khosla, notably said Tuesday that Biden’s insult did not go far enough.\n“Garbage is an understatement for MAGA extremists,” he tweeted.\nBrown’s opponent, Republican businessman Berno Moreno, hammered Biden, Harris, and Brown on Tuesday night.\n“We always knew career politicians like Joe Biden, Kamala Harris, and Sherrod Brown hated American citizens,” he wrote. “It’s obvious from their policies of open borders, high prices, and massive government overreach. Now, they are just saying the quiet part out loud.”\nRep. Elissa Slotkin (D-MI), who is Michigan’s Democrat Senate nominee, scolded Biden for his remarks while appearing on a local radio program, Fox News reported.\n“He shouldn’t have said it, it’s inappropriate,” Slotkin told a Michigan radio station, Fox News reported. “For me, I just think that kind of talk is the last thing we need in our politics.”\nFormer U.S House Intelligence Chair Mike Rogers (R-MI), the GOP nominee for Senate in the Wolverine State, called out Biden, Slotkin, and Harris on Tuesday night.\n“Michiganders living paycheck to paycheck aren’t garbage, Joe!” he wrote.\n“The clear and disgusting contempt that Biden, Harris, and Slotkin have for Americans who don’t support their garbage policies is all you need to know and why we’re going to win next week,” Rogers added. Biden’s 'Garbage' Smear Forces Vulnerable Senate Democrats to Scramble to Distance"
        ],
        [
         "26",
         "Breitbart",
         "The prices Americans pay for garbage collection have jumped 18.5 percent since Joe Biden and Kamala Harris entered the White House, according to data from the U.S. Department of Labor.\nThe consumer price index for water, sewage, and garbage collection was up 4.75 percent in September compared with one year earlier. Trash collection inflation peaked at a year-over-year rate of 5.8 percent in June of last year.\nThe Harris campaign was scrambling on Wednesday after Biden called Trump’s supporters “garbage” in an interview. Biden has said he only meant to refer to some of Trump’s supporters.\n“The only garbage I see floating out there is his supporters,” Biden said.\nThe remarks are being compared to Hillary Clinton referring to Trump’s supporters as “deplorable” in 2016, fueling a backlash that helped propel Trump into office. The Price of Garbage Is Up 18.5% Under Biden-Harris"
        ],
        [
         "27",
         "Breitbart",
         "Communist North Korea fired an intercontinental ballistic missile (ICBM) on Thursday that flew for 86 minutes, a record for Pyongyang, suggesting it is capable of reaching the continental United States.\nSouth Korean and Japanese military observers tracked the missile, documenting that it traveled 621 miles across and flew to about 4,300 miles in altitude. The missile fell in the East Sea/Sea of Japan. The missile appeared to be fired intentionally at a very steep angle to not land on any populated target, but show the world it is capable of hitting America if necessary.\nPyongyang’s state-run Korean Central News Agency (KCNA) confirmed the missile launch shortly after it occurred, calling it a “very crucial test” necessary to show the world the “modernity and creditability” of North Korea’s nuclear threats.\nKim Jong-un issued a statement directly on Thursday defending the threatening launch as an “appropriate military activity,” but not directly describing it as a ploy related to the schedule of the American presidential election. The ICBM, he claimed, “fully meets the purpose of informing the rivals [South Korea and America], who have intentionally escalated the regional situation and posed a threat to the security of our Republic recently, of our counteraction will.”\n“It also constitutes an indispensable process in the course of constantly developing our state’s strategic attack forces,” he continued. “We should never allow any threat to approach the security sphere under our state’s influence.”\n“The security situation of our state and ever-aggravating prospective threats and challenges require us to continue to bolster up our modern strategic attack forces and more perfectly round off our nuclear forces’ response posture,” he concluded, vowing to never denuclearize his country.\nThe KCNA report did not identify what kind of ICBM North Korea launched on Thursday. Pyongyang often boasts of the specific model missile that it fires. South Korea’s Joint Chiefs of Staff (JCS) similarly noted that it did not have enough evidence to confirm the model launched and stated that it could potentially be an entirely new ICBM model. The latest known model of North Korean ICBM is the “Hwasong-18,” which Kim Jong-un first ordered a test-launch of in July 2023. South Korean experts predicted based on the information North Korea published on the missile model that it could potentially hit any part of the continental United States. North Korea had not launched an ICBM in about a year.\n“Early assessment showed there is a possibility (North Korea) may have test-fired a new type of solid-fuel long-range ballistic missile,” JCS spokesperson Lee Sung-jun said on Thursday. The Korea JoongAng Daily also reported, citing an unnamed JCS official, that South Korean military experts believe Pyongyang used a different mobile launcher than those previously used for older models, adding to evidence that the ICBM may have been an entirely new missile.\n“The launch today may have been from a new 24-wheel mobile launcher that North Korea recently revealed,” a JCS official reportedly said. “It is possible that the missile has grown in size and the warhead weight has increased.”\nLee told reporters that the South Korean military believes that the missile launch was in part timed to coincide with the days before America elects a new president, potentially to “gain leverage” over any incoming American presidential administration.\nThe South Korean news agency Yonhap also quoted an expert at the Korea Institute for National Unification, Hong Min, who said the missile launch was also a way to remind the world that North Korea now boasts a mutual defense agreement with Russia and is believed to be increasingly involved in Russia’s invasion of Ukraine.\n“Given that an ICBM targets the U.S., (the North) has boasted its proven capability to retaliate in the event its safety is threatened,” Hong said.\nOfficials in both Seoul and Tokyo warned on Wednesday that they had detected North Korean military activity suggesting an imminent ICBM launch or even nuclear weapons test. Members of the South Korean Defense Intelligence Agency (DIA) told lawmakers that it believed that Kim Jong-un had entirely rehabilitated the Punggye-ri Nuclear Test Site, used for seven previous tests and believed to be in a state of extreme disrepair. The South Korean officials, Japanese news network NHK reported, predicted the ICBM launch and “have not ruled out North Korea going ahead with its seventh nuclear test around the time of the US presidential election.”\n“The officials also said preparations inside the Punggye-ri nuclear test site in the northeast of the country are almost complete,” the report relayed. Punggye-ri has not been used for a nuclear test since 2017.\nWhile Kim Jong-un has not ordered a nuclear test in seven years, he has taken a variety of measures intended to reinforce his country’s illicit nuclear weapons program, including outlawing denuclearization and ordering an “exponential increase” in its nuclear warhead arsenal in early 2023. He repeated that call in September, after signing a mutual defense agreement with Russian strongman Vladimir Putin.\nKim has focused his foreign policy in the past four years on improving ties with Russia, distancing North Korea from its traditional patrons in communist China. Shortly after signing the defense agreement, reports began surfacing that North Korea was preparing to send troops to reinforce Russian efforts in the invasion of Ukraine. As of this week, the South Korean National Intelligence Service (NIS) informed that it believes 3,000 North Korean soldiers are in Russia, and that number could balloon to as many as 12,000 by the end of the year.\n“This illegal military cooperation between Russia and North Korea is a significant security threat to the international community and could pose a serious risk to our national security,” South Korean President Yoon Suk-yeol said this week. “With the war in Ukraine going on for three years, North Korea has deployed troops to Russia beyond providing weapons.”\n“We must thoroughly assess all possibilities and prepare countermeasures. I urge everyone to engage in risk management with a heightened sense of vigilance,” Yoon asserted. North Korea Stages Its Longest ICBM Flight Ever -- Capable of Reaching U.S. in Time for Election"
        ],
        [
         "28",
         "Breitbart",
         "On Friday’s broadcast of Bloomberg’s “Balance of Power,” White House Council of Economic Advisers Chair Jared Bernstein stated that bond market interest rates and mortgage rates have increased and that’s partially due to “the stronger economy” under President Joe Biden, but “I also think there’s a policy element going on in that spread, in that interest rate. And I think it has to do with the idea that one of the candidates is talking about massive tariffs — acting as a sales tax on the middle class –, massive deportations — terrible idea for the labor market –, and compromising Fed independence. That may also be putting some upward pressure on rates.”\nBernstein said, “Well, we’ve seen rates in the bond market be somewhat elevated. We’ve certainly see[n] the mortgage rate go up. And part of that has to do with the stronger economy. So, look, under President Biden — we got the GDP report this week — under President Biden, the annualized growth rate for GDP has been slightly north of 3%. That is a very strong, very much above-trend growth rate. So, strong growth, solid labor market, easing prices, real wage and income gains, certainly putting some upward pressure there. But I also think there’s a policy element going on in that spread, in that interest rate. And I think it has to do with the idea that one of the candidates is talking about massive tariffs — acting as a sales tax on the middle class –, massive deportations — terrible idea for the labor market –, and compromising Fed independence. That may also be putting some upward pressure on rates. And I think that’s just a sign of some of those destructive ideas.”\nFollow Ian Hanchett on Twitter @IanHanchett White House: Interest Rates Are Up Due to 'Stronger Economy' Under Biden, Trump's 'Destructive' Ideas"
        ],
        [
         "29",
         "Breitbart",
         "Dr. Sebastian Gorka, a former strategist to President Donald Trump and host of “America First,” joins host Mike Slater to discuss Joe Biden calling Trump’s supporters “garbage.” How will this smear of half the country impact the 2024 race and its outcome? Gorka gives his take.\nThe Breitbart News Daily Podcast runs Monday through Friday as a “Director’s Cut” of the SXM Patriot radio show hosted by Mike Slater.\nSUBSCRIBE for free by clicking your preferred podcast platform below. Breitbart News Daily Podcast Ep. 647: Dr. Sebastian Gorka on Biden Calling Trump’s Supporters ‘Garbage’"
        ],
        [
         "30",
         "Breitbart",
         "CBS News anchor Norah O’Donnell accused former President Donald Trump “and his supporters” of not giving President Joe Biden “grace” over his “garbage” remarks.\nO’Donnell referred to how Trump rode on a garbage truck to his rally in Wisconsin a day after Biden described Trump voters as being “garbage.”\n“Former President Donald Trump was in North Carolina earlier, and tonight he’s also in Wisconsin,” O’Donnell. “He landed in Green Bay just a short time ago, and pulled, then, this campaign stunt, speaking to reporters from a garbage truck, proof that he and his supporters are giving no grace to a gaffe by President Biden, where he in his explanation, inadvertently called Trump supporters garbage.”\nAs Breitbart News previously reported, Biden stated:\n“The only garbage I see floating out there is his supporters,” Biden said, later attempting to walk it back by claiming that he was only referring to the comedian Trump’s campaign had on stage at Madison Square Garden on Sunday.\nBiden’s comments come after comedian Tony Hinchcliffe made a joke about Puerto Rico being “a floating island of garbage.”\nIn a video posted to X, Trump was seen wearing an orange vest and saying, “250 million people are not garbage.”\n“Hello, everybody, this is Donald Trump and 250 million people are not garbage,” Trump said. CBS's O'Donnell: Trump 'Giving No Grace' to Biden's 'Garbage' Remarks"
        ],
        [
         "31",
         "Breitbart",
         "More via the outlet:\nGreen Party candidate Jill Stein and former Natural Law Party candidate Robert F. Kennedy Jr., who has dropped out of the race but remains on the ballot, each received 1.4%, independent Cornel West received 1% and Libertarian Chase Oliver received 0.2%. Independent Joseph Kishore also got 0.2%.\nAnother 1.4 percent remain unsure of who they would support or did not answer.\nIt also examined the Senate race between Democrat Rep. Elissa Slotkin (D-MI) and Republican Mike Rogers. That is also a close race, with Slotkin garnering 47.2 percent support to Rogers’s to 45.5 percent. Five percent remain undecided — more than enough to swing the race in either direction.\nThis survey coincides with others telling a similar story. A Emerson College Polling/RealClearWorld survey released this week showed Trump leading Harris in Michigan by one percent — 49 percent to Harris’s 48 percent support. Weeks ago, the two were tied in that survey.\nSimilarly, a Patriot Polling survey released this week also showed Trump leading Harris by one in Michigan and independents swinging his way.\nThe current RealClearPolitics average of polls shows Harris up by an average of 0.5 percent in the state. Trump flipped Michigan for the first time in over 20 years in 2016. Poll: Donald Trump Ekes Out Lead over Kamala Harris in Michigan"
        ],
        [
         "32",
         "Breitbart",
         "Former President Donald Trump speaks to supporters at a rally in Rocky Mount, North Carolina, on Wednesday, October 30.\nFormer President Donald Trump speaks to supporters at a rally in Rocky Mount, North Carolina, on Wednesday, October 30. Watch Live: Donald Trump Holds Rally in Rocky Mount, North Carolina"
        ],
        [
         "33",
         "Breitbart",
         "During a town hall on NewsNation on Wednesday, Rep. Ro Khanna (D-CA), who is also a Harris-Walz surrogate, responded to arguments that the unborn have rights by stating that “We had Roe v. Wade for many, many years. It was a right of women to make that choice for their bodies.”\nAfter former Alaska Gov. Sarah Palin (R), ESPN host Stephen A. Smith, and former Fox host Bill O’Reilly discussed abortion and whether it’s responsible for the gender gap in polling in the presidential race and if such a gap exists, how appropriate it is for men to weigh in on the issue, and whether 2024 Republican presidential candidate former President Donald Trump has restricted access to abortion, other women’s health issues, and whether women have fewer rights than men, O’Reilly stated, “Democrats have been very effective in saying to women — American women, that the government has no right to interfere with your body. That’s the mantra, right? Isn’t there another body involved?” And Palin strongly agreed.\nO’Reilly continued, “Especially in late-term, isn’t there another body? Okay, so, now, we never, and I mean never, hear one word: adoption. We never hear what Bill Clinton said, abortions safe and rare. What we hear from the Democratic candidate for president is, abortion any time for any reason. Do you know there are only three non-Communist countries in the world that [have] that law? And there is a reason for that.”\nPalin then stated, “So, you know what we need to do a better job of is allowing easier adoptions. We need to make it something that is more attractive — if you will — that alternative to taking the life of a baby in the womb, instead of that, allowing and providing resources, even, for those who are in less than ideal circumstances, finding themselves in a situation where they’re faced with that choice.”\nHost Chris Cuomo then stated, “Right. And the key word is choice, right? Because once you create a right or remove one, it then becomes about who gets to make the decisions. And then you have this whole decision chain that you’re discussing about adoption and health or whatever it is, but who gets to make the determination? That’s the issue that the Democrats are trying to isolate. How well they do it — to Stephen A. Smith’s point — is a different question.”\nCuomo then asked Khanna, “When you hear the argument about what this issue should mean and how it should be argued from Gov. Palin and others, what do you believe the Democratic response is?”\nKhanna answered, “Well, the response is simple: We had Roe v. Wade for many, many years. It was a right of women to make that choice for their bodies. And it’s overwhelmingly popular. [It] explains Bill O’Reilly’s point of why there is a gender gap.”\nKhanna then gave other reasons for the gender gap.\nPalin then said that we’re still not addressing the point of the rights of the unborn.\nThe discussion then turned to whether it’s accurate to say if 2024 Republican presidential candidate former President Donald Trump supports a national abortion ban.\nLater in the segment, Rep. Jared Moskowitz (D-FL) stated that he doesn’t support late-term abortions.\nFollow Ian Hanchett on Twitter @IanHanchett Dem Rep., Harris Surrogate on if Unborn Have Rights: It's Right of Women to Make Choice for Their Bodies"
        ],
        [
         "34",
         "Breitbart",
         "On Wednesday’s broadcast of MSNBC’s “José Díaz-Balart Reports,” Harris Campaign Advisory Board Member Sen. Alex Padilla (D-CA) stated that California “knows the value of our diversity, including our immigrant population, its contribution to the strength of our state and our economy. And we want to unleash nationally what we’ve been able to unleash here in the state of California.” And 2024 Democratic presidential candidate Vice President Kamala Harris is “the first to remind us we need to be thoughtful, we need to be humane, we need to be smart, and we cannot leave the millions of DREAMers and farmworkers and so many other essential workers that we depend on out of this conversation.”\nHost José Díaz-Balart asked, “What is it that your message is to the people that you represent and that you work so hard for, and I’m talking about DACA recipients and I’m talking about the millions of people who [live] in mixed immigration status households that don’t hear themselves reflected in any conversation, when, for example, the main focus is that border bill?”\nPadilla answered, “I have the honor, as you know, José, to represent the 40 million people of California. And I say everybody, because California, more than any other state, knows the value of our diversity, including our immigrant population, its contribution to the strength of our state and our economy. And we want to unleash nationally what we’ve been able to unleash here in the state of California. Californians and a lot of Californian activists and advocates know Kamala Harris for her talk about the borders, to address that question for the people who still may be wondering, but she’s the first to remind us we need to be thoughtful, we need to be humane, we need to be smart, and we cannot leave the millions of DREAMers and farmworkers and so many other essential workers that we depend on out of this conversation. The organizations and organizers in California know it, we’ve been deploying throughout the country to talk to our counterparts [about] why it’s important to elect Kamala Harris president of the United States and restore Democratic majorities in both houses [of] Congress so we can finally move on with a thoughtful, smart modernization of our immigration system.”\nFollow Ian Hanchett on Twitter @IanHanchett Harris Advisory Board Member: We 'Want to Unleash Nationally' What We Did in California on Immigration"
        ],
        [
         "35",
         "Breitbart",
         "Los Angeles Dodgers fans celebrated their team’s win over the New York Yankees in the World Series on Wednesday night — but there was also looting and vandalism in L.A. amid the happiness, leading police to make several arrests.\nAmid cheers and fireworks, there were also burglaries, and an L.A. Metro bus was set on fire.\nThe Los Angeles Times reported:\nIn downtown, multiple businesses were burglarized or vandalized, though exact details were not available. Police said some in the crowd were “hostile” and threw objects at officers. Videos showed people stealing from a Nike Jordan store on Broadway and cars doing doughnuts at intersections to roars from bystanders.\nNewsweek added:\nThe Los Angeles Police Department (LAPD) said they had received reports of “looting at several stores in the area of 8th and Broadway” and people were urged to stay out of the area.\n“If you are on the street, at or adjacent to that intersection, leave the area immediately and follow all officers orders,” the LAPD wrote on X, formerly Twitter.\n…\nIn another post on X, the LAPD reported that “various projectiles,” including rocks and bottles, were being thrown at LAPD officers in the area of Olympic & Grand. The department was responding with extra resources to that area.\nThe Dodgers won 7-6 at Yankee Stadium after coming back from a 5-0 deficit with a five-run fifth inning.\nJoel B. Pollak is Senior Editor-at-Large at Breitbart News and the host of Breitbart News Sunday on Sirius XM Patriot on Sunday evenings from 7 p.m. to 10 p.m. ET (4 p.m. to 7 p.m. PT). He is the author of The Agenda: What Trump Should Do in His First 100 Days, available for pre-order on Amazon. He is also the author of The Trumpian Virtues: The Lessons and Legacy of Donald Trump’s Presidency, now available on Audible. He is a winner of the 2018 Robert Novak Journalism Alumni Fellowship. Follow him on Twitter at @joelpollak. Looting, Vandalism in Downtown L.A. After Dodgers Win World Series"
        ],
        [
         "36",
         "Breitbart",
         "Staff working for Kamala Harris’s campaign are debating whether to break from Joe Biden following his “garbage” smear of the many millions of Americans who support former President Donald Trump, according to the New York Times.\nThe newspaper reported:\nAfter Mr. Biden’s remark, Harris campaign officials privately gauged whether his comments would require her to disagree with him publicly or support his explanation that the comments were taken out of context, according to people familiar with the internal reaction. They asked for anonymity to discuss private deliberations.\nThe visceral smear and political gaffe came as Biden was trying to portray Trump as hostile to Latinos. The report from the Associated Press (AP) said:\nAhead of Harris’ [campaign] remarks, Biden is reacted [sic] to a comic calling Puerto Rico garbage at a Trump rally last weekend by saying, “The only garbage I see floating out there is his supporters.”\nThe uproar over the garbage smear comes after many Harris allies have described Trump’s supporters as fascists and Nazis.\nThe Washington Post did not mention the potential split with the Harris campaign but noted:\nDemocrats were not fully united in defending Biden late Tuesday night.\nAsked about Biden’s comments on CNN, Josh Shapiro — the Democratic governor of Pennsylvania, a critical swing state for Harris — did not dispute that Biden had disparaged Trump supporters.\n“I had not heard that until now … so I’m kind of giving you my fresh reaction to it,” Shapiro said. “I would never insult the good people of Pennsylvania or any Americans even if they chose to support a candidate that I didn’t support.”\nJon Favreau, a progressive closely aligned with Harris and former President Barack Obama, tried to distance the Harris campaign from Biden: Report: Harris Staff ‘Privately’ Debates Breaking with Biden over ‘Garbage’ Smear"
        ],
        [
         "37",
         "Breitbart",
         "Former President Donald Trump speaks to supporters at a rally in Albuquerque, New Mexico, on Thursday, October 31.\nFormer President Donald Trump speaks to supporters at a rally in Albuquerque, New Mexico, on Thursday, October 31. Watch Live: Donald Trump Holds Rally in Albuquerque, New Mexico"
        ],
        [
         "38",
         "Breitbart",
         "In today’s edition of Democrats Sure Got It Good, the basement-rated Jimmy Kimmel took to the publicly funded airwaves Wednesday to urge Trump supporters to vote late, like next week Thursday or Friday. Because Election Day is Tuesday, doing so would void their vote.\nIn 2023, Douglass Mackey, the owner of the “Ricky Vaughn” Twitter account, was sentenced to seven months in prison for doing the exact same thing — spreading disinformation in 2016 to Hillary Clinton supporters about how to vote and doing so in a way that would ensure their vote wasn’t counted:\nAs proven at trial, by 2016, Mackey had established an audience on Twitter with approximately 58,000 followers. A February 2016 analysis by the MIT Media Lab ranked Mackey as one of the most significant influencers of the then-upcoming presidential election. Between September 2016 and November 2016, Mackey conspired with other influential Twitter users and with members of private online groups to use social media platforms, including Twitter, to disseminate fraudulent messages that encouraged supporters of presidential candidate Hillary Clinton to “vote” via text message or social media which was legally invalid.\nIt should be noted that it was the Biden administration that arrested and prosecuted Mackey five years later in 2021.\nMackey’s defense was that he was just having fun (his “Ricky Vaughn” account was a favorite of mine). The whole thing was a joke, he argued. Well, after the FBI investigated the joke, Mackey was put on trial, found guilty, and sentenced to seven months in prison. The Feds put the guy through a three-year-and-counting wringer over a stupid shit-post.\nNow, let’s compare Mackey’s 58,000 Twitter followers to the 2.009 million viewers (in the most recent ratings I could find) Kimmel attracts. Kimmel’s audience is 35 times larger than Mackey’s ever was, and that doesn’t include the people who  Kimmel’s clips online.\nNevertheless, here’s what Kimmel told Kamala Harris supporters Wednesday night: “Vote early, vote early. If you can’t vote early, vote on time.”\nAnd here’s what Democrat Privilege allowed Kimmel to say to Trump supporters: “If you want to vote for Trump, vote late, vote very late. Do your voting on Thursday or maybe Friday.”\nMeaning next week Thursday and Friday. Election Day is Tuesday.\nYes, Kimmel was joking.\nBut so was Mackey.\nKimmel is allowed to run around in blackface without consequence. He’s a Democrat.\nKimmel is allowed to use the N-word without consequence. He’s a Democrat.\nKimmel is a ratings failure who’s still on the air. He’s a Democrat.\nJohn Nolte’s first and last novel, Borrowed Time, is winning five-star raves from everyday readers. You can read an excerpt here and an in-depth review here. Also available in hardcover and on Kindle and Audiobook. Nolte: Kimmel Spreads Disinformation to Voters on His Show -- Meme Guy Sentenced to Prison for Same"
        ],
        [
         "39",
         "Breitbart",
         "On Tuesday’s broadcast of CNN’s “The Source,” Pennsylvania Gov. Josh Shapiro (D) reacted to President Joe Biden’s comments about supporters of 2024 Republican presidential candidate former President Donald Trump by saying that Biden’s words are “certainly not words that I would choose, and I think it’s important that we remain focused on the contrast between Kamala Harris and Donald Trump and not attacking supporters of either candidate.”\nShapiro said that he had not heard the comments until that very moment, “So, I’m kind of giving you my fresh reaction to it. I would never insult the good people of Pennsylvania or any Americans, even if they chose to support a candidate that I didn’t support. I think the real issue here is Donald Trump and his inability to simply say comments like that are wrong, to simply stand up for his fellow Americans. He is incapable of doing that.”\nHost Kaitlan Collins then asked Shapiro if he thinks Biden should clarify his remarks.\nShapiro responded, “Well, I think President Biden’ll decide what he wants to say. It’s certainly not words that I would choose, and I think it’s important that we remain focused on the contrast between Kamala Harris and Donald Trump and not attacking supporters of either candidate.”\nFollow Ian Hanchett on Twitter @IanHanchett Dem Gov. Shapiro on Biden 'Garbage' Remark: I Wouldn't Say That, Shouldn't Attack Voters"
        ],
        [
         "40",
         "Breitbart",
         "On Tuesday’s broadcast of New York’s Power 105.1’s “The Breakfast Club,” 2024 Democratic presidential candidate Vice President Kamala Harris stated that the ads run by her Republican opponent, former President Donald Trump about her views on taxpayer-funded sex change surgeries for inmates “relate to two people,” and he’s hitting her with “a bunch of disinformation and misinformation on this. And he’s living in a glass house, because the policies he’s speaking about in terms of those surgeries were also his policies.”\nCo-host Charlamagne Tha God asked, “[T]he reason I’m stressing that I’m voting for you on November 5 is because Trump has been running these ads with myself and Envy in them, these anti-trans ads, without our permission. How do we combat that?”\nCo-host DJ Envy then asked, “Can we?”\nHarris responded, “Well, yes. Look, truth is always going to prevail over the misinformation and the lies. But it takes work, right? And so, having this conversation right now so all your listeners know. But there is a lot of misinformation and disinformation, because they don’t actually want to talk about the truth, because their truth is a failing truth. And so, yeah, we’ve got to keep reminding folks of the reality, which is I am blessed and honored to have your support and the support of so many communities and individuals who are — their names are known and some names your listeners may not know, but they are leaders in their community.”\nEnvy then followed up, “I wanted to ask about those trans ads. In the ads, he’s saying that Kamala Harris wants to spend taxpayers’ money for sex changes in jails. He’s spent millions and millions of dollars on — like Charlamagne said, having him and myself in that. How do you answer that, for people that don’t know, and what is the real news when it comes to that?”\nHarris answered, “Well, first of all, to your point, he has spent tens of millions of dollars trying to hit me with a bunch of disinformation and misinformation on this. And he’s living in a glass house, because the policies he’s speaking about in terms of those surgeries were also his policies. And the reality of it is that, also, those ads relate to two people, versus the fact that he wants to get rid of the Affordable Care Act, which would impact 45 million people, he wants to get rid of our $35-a-month cap on insulin, … he wants to take away health care through Medicare, and he wants to distract from the fact that he actually — not only does he have a plan on this, versus no plan on anything else, but his plan is to get rid of healthcare coverage for the most needy.”\nFollow Ian Hanchett on Twitter @IanHanchett Harris: Trump's Trans Inmates Ads Have 'Misinformation' and Only 'Relate to Two People' and He Has the Same Policies"
        ],
        [
         "41",
         "Breitbart",
         "Hollywood star Jennifer Lopez launched a wild smear against former President Donald Trump on Thursday, calling him “the biggest adversary America has internally ever had.”\nJennifer Lopez — who is the former girlfriend of Sean “Diddy” Combs — appeared alongside Kamala Harris at a rally in Las Vegas, Nevada, where she played the race card by trashing Trump as a bigot while failing to list one accomplishment that would qualify Kamala Harris for the White House.\nInstead, she attempted to rally Puerto Ricans in Nevada around Kamala Harris by rehashing comedian Tony Hinchliffe’s “garbage” joke from Sunday.\n“I know what that can feel like and I wouldn’t do it to my worst enemy, or even when facing the biggest adversary I think America has internally ever had,” she said. “But over Kamala Harris’ entire career, she has proven to us who she is. She has shown up for us every day, for the people. And it’s time for us to show up for her.”\nLopez failed to mention Kamala Harris’ role in sending consumer prices skyrocketing to record levels, forcing tens of millions of American households to scrounge in order to afford groceries, rent, and insurance. She also omitted Kamala Harris’ responsibility for the disaster at the southern border, which has resulted in an unprecedented tidal wave of illegal immigration that has flooded cities around the country.\nIn her appeal to Nevada voters, Lopez relied on vague, feel-good emotions to sell Kamala Harris. Later, Lopez added: “You can’t even spell American without Rican.”\nJennifer Lopez’s endorsement of Kamala Harris is already provoking a backlash as numerous commenters have noted that she once dated Sean “Diddy” Combs, who is currently in prison as he faces a mountain of sexual assault charges relating to his Hollywood “freak off” orgies.\nFollow David Ng on Twitter @HeyItsDavidNg. Have a tip? Contact me at dng@breitbart.com Jennifer Lopez Smears Trump as ‘Biggest Adversary America Has Internally Ever Had’ at Kamala Rally"
        ],
        [
         "42",
         "Breitbart",
         "Jimmy Kimmel took to the publicly funded airwaves Wednesday to urge Trump supporters to vote late, like next week Thursday or Friday.\nJimmy Kimmel took to the publicly funded airwaves Wednesday to urge Trump supporters to vote late, like next week Thursday or Friday.\nA massive number of Georgians who did not participate in the 2020 presidential election recently voted early as former President Donald Trump (R) and Vice President Kamala Harris (D) battle for the White House, an analysis shows.\nDemocrats appear to believe President Joe Biden’s “garbage” smear of Trump supporters could ruin Vice President Kamala Harris’s chances of winning the election.\nHow did it come to this? Dismayed Democrats are reportedly asking each other this simple question six days out from the election as Vice President Kamala Harris continues to stumble eagerly from one disappointment to the next on the campaign trail.\nRep. Alexandria Ocasio-Cortez (D-NY) gushed over Second Gentleman Doug Emhoff on Wednesday night applauding him as the very model of modern masculinity at a campaign event for his wife Kamala Harris.\nFormer President Donald Trump has a two point lead in a hypothetical two-way race with Vice President Kamala Harris in Pennsylvania (49-47 percent), a seven point swing since September 16, Quinnipiac survey found Wednesday.\nLiberal icon and feminist author Naomi Wolf endorsed former President Donald Trump, highlighting how he was “being more inclusive.”\nZhu Fenglian, a spokeswoman for China’s Taiwan Affairs Office, said on Wednesday that Taiwan could be “discarded” if Donald Trump returns to the White House and implements his America First foreign policy.\nAngel Mom Patty Morin, whose 37-year-old daughter Rachel Morin was murdered allegedly by an illegal alien MS-13 gang member, has penned an open letter to Vice President Kamala Harris asking her to immediately close the United States-Mexico border and start deporting every illegal alien who entered the U.S. on her .\nFormer President Donald Trump rode in a garbage truck on Wednesday to his Wisconsin rally in response to President Joe Biden trashing millions of Americans as “garbage.”\nFormer President Bill Clinton said the “economy was better” under former President Donald Trump during a rally for Vice President Kamala Harris in Muskegon Heights, Michigan, adding that people should still vote for Harris.\nFormer President Donald Trump spoke about how the Los Angeles Times and Washington Post had declined to endorse Vice President Kamala Harris, adding that they were sending a message that she was “no good.”\nPollster Frank Luntz said Wednesday on CNN’s “News Central” that President Joe Biden’s garbage comment could have a “huge” impact and might be the “turning point” that leads to former President Donald Trump’s victory in the election.\nFormer President Donald Trump encouraged voters in North Carolina to “turn the page forever” on the “failed and corrupt” Biden-Harris administration.\nDemocratic election law specialist Marc Elias is the topic on the last pre-election episode of “The Drill Down” with Peter Schweizer.\n“You can’t be president if you hate the American people,” former President Donald Trump said during a rally in North Carolina.\nCNN senior political data reporter Harry Enten said Wednesday on “CNN News Central” that former President Donald Trump may defeat Vice President Kamala Harris in the presidential election next week because just 28% of Americans think the country is on the right track.\nFox News contributor Kellyanne Conway said Wednesday on “The Faulkner Focus” that President Joe Biden calling supporters of former President Donald Trump garbage was a “reflection” of what Democratic presidential nominee Vice President Kamala Harris also believes.\nWhite House Press Secretary Karine Jean-Pierre denied that President Joe Biden views Donald Trump’s supporters as garbage, contradicting Biden’s remarks that sent Vice President Kamala Harris’s campaign into damage control.\nRepresentative Maxwell Frost (D-FL) claimed Wednesday during an appearance on “CNN News Central” that President Joe Biden misspoke when he called supporters of former President Donald Trump garbage because he was “very angry.”\nThe far-left Washington Post has now lost 250,000 subscribers, which represent ten percent of its customer base.\nFar-left former soccer star Megan Rapinoe is predicting a “grim” and “violent reality” if Donald Trump wins the 2024 election.\nWith only three days to go to vote early in Nevada, Republican turnout continues to crush Democrats.\nAstronaut Buzz Aldrin endorsed Donald Trump, adding that the U.S. “saw a revitalized interest in space” under his first administration.\nPennsylvania Senate GOP nominee Dave McCormick during Wednesday’s broadcast of Fox News Channel’s “Fox & Friends” called on President Joe Biden to apologize for saying the supporters of former President Donald Trump were “garbage.”\nWhoopi Goldberg told her co-hosts Wednesday on ABC’s “The View” that it turned out former Secretary of State and then-Democratic nominee Hillary Clinton was right when she called supporters of Donald Trump “deplorables.”\nFormer President Donald Trump reacted to President Joe Biden calling his supporters “garbage,” saying he thought it was even worse than former Secretary of State Hillary Clinton calling them “deplorables.”\nFormer President Donald Trump has the slightest lead over Vice President Kamala Harris in battleground Michigan, according to a Suffolk/USA Today survey, released just days ahead of the election.\nZoraida Buxó, one of Puerto Rico’s non-partisan shadow senators, officially endorsed former President Donald Trump on Tuesday night.\nA private company in China with a name that riffs on “Trump Victory” surged by ten percent in value on Monday and Tuesday, even as blue-chip stocks on the Chinese market slid by up to one percent.\nVice President Kamala Harris claimed on Wednesday that President Joe Biden clarified his statement that Trump supporters are “garbage” and disagreed with demonizing “people based on who they vote for.”\nDemocrats have been more than willing to name-call over the years, smearing Trump supporters as racist, xenophobic, and the “worst people in the world.”\nSen. JD Vance (R-OH) blasted Silicon Valley investor and Vice President Kamala Harris supporter Vinod Khosla, as he doubled down on President Biden calling Trump supporters “garbage.”\nThe White House released a transcript of President Joe Biden’s remarks in which he called Trump supporters “garbage,” but added an apostrophe to “supporters” and two em-dashes to make it sound like he did not mean all Trump supporters but just one.\nWASHINGTON — Kamala Harris has Bruce Springsteen, Taylor Swift and Beyoncé. Donald Trump has Kid Rock, Waka Flocka Flame and Hulk Hogan.\nKamala Harris and Democratic Party leaders should celebrate the transgender ideology, rather than hide their views from voters, says Masha Gessen, a pro-transgender activist who is also a New York Times columnist.\nFormer CNN political commentator Chris Cillizza said that President Joe Biden’s comments branding Trump supporters as “garbage” is an “absolute nightmare” for Kamala Harris’ presidential campaign.\nLeftwing Washington outlet Politico regularly carries water for Democrats, but Tuesday night they hauled President Joe Biden’s “garbage,” attempting to cover up the president’s attack on Donald Trump’s supporters by disingenuously chopping up his statement.\nThe Trump campaign said that Vice President Kamala Harris lied, name-called, and clung to the past in her closing argument speech “to avoid admitting the truth” about her and President Joe Biden’s “terrible policies.”\nWASHINGTON, DC – Vice President Kamala Harris brought a dark and gloomy tone to her highly partisan closing argument speech on the Ellipse Tuesday night, which was delivered to an audience clearly culled from the Democrat base. 2024 Presidential Election Articles - Breitbart"
        ],
        [
         "43",
         "Breitbart",
         "Fort Worth Police Department information officer (IO) Tracy Carter lauded a homeowner who shot an alleged intruder saying, “The homeowner did what any of us would have done.”\nWFAA reported that the incident occurred just after midnight Wednesday and that the homeowner told the alleged intruder to leave but he did not listen.\nThe homeowner’s wife heard dogs barking and woke her husband to let him know something was going on. He retrieved his gun about the same time that the alleged intruder, 35-year-old Jeremy Black, swung a plank and shattered the homeowner’s daughter’s bedroom window.\nBlack then allegedly tried to make entry through the home’s kitchen door, which is when the homeowner opened fire.\nFort Worth IO Carter said, “The suspect was taken to the hospital he was shot a couple of times…This guy is lucky to be alive. The homeowner did what any of us would have done, we’d wanna protect our family.”\nThe homeowner’s wife told NBC 5, “It feels bad that we had to do this to protect ourselves…But we feel good in a way also because if my husband didn’t do that, something else would have happened.”\nAWR Hawkins is an award-winning Second Amendment columnist for Breitbart News and the writer/curator of Down Range with AWR Hawkins, a weekly newsletter focused on all things Second Amendment, also for Breitbart News. He is the political analyst for Armed American Radio, a member of Gun Owners of America, a Pulsar Night Vision pro-staffer, and the director of global marketing for Lone Star Hunts. He was a Visiting Fellow at the Russell Kirk Center for Cultural Renewal in 2010 and has a Ph.D. in Military History. Follow him on Instagram: @awr_hawkins. You can sign up to get Down Range at breitbart.com/downrange. Reach him directly: awrhawkins@breitbart.com. Police Laud Homeowner Who Shot Intruder Multiple Times"
        ],
        [
         "44",
         "Breitbart",
         "Republicans in Pennsylvania are seeing a higher percentage of low-propensity voters turn out and vote than Democrats are, Rob Bresnahan, Republican candidate for Congress in Pennsylvania’s 8th Congressional District, said during an interview on Breitbart News Daily.\nBresnahan said the GOP currently has about 17 percent participation from low-propensity voters in the state — people who did not vote in 2020 and/or 2022 — compared to the Democrats, who are seeing 11 percent participation from that same group.\nThe congressional hopeful said the trends are good, and described the energy on the ground as “shocking.”\n“The response that we’ve had at the door — we’ve knocked over 30,000 doors as a campaign. We just had Leader Scalise here on Wednesday the 30th, and the excitement — I mean, we had an outing, a small little rally that turned into 200 people at a manufacturing facility in the district. But even in downtown Scranton, where it is traditionally a darker blue area, people are just fed up,” he said, explaining that they are “fed up” with the economy and with “paying too much for everything.”\n“They’re concerned about the crime and they’re concerned about the southern border. So all of these issues are really strong for a challenger candidate. And this is an area that Donald Trump won in 2016. He won it in 2020, and he’s going to win it again in 2024, and we’re going to win as well. We’re going to expand that House majority from at least four to five,” he continued, describing this as a “must-win race for Republicans.”\n“This race could determine if Republicans have the majority in the House of Representatives,” he continued.\nHe emphasized the significance of low-propensity voters coming out for the GOP and said he believes the figures could be even higher due to a backlog of uncounted ballots.\nLISTEN:\n“Because of the early voting and the month-long activity of voting in Pennsylvania, now there was approximately 12,000 to 15,000 ballots that people have either dropped off at drop boxes or have returned in the mail after they’ve requested their mail ballot that the election bureau just hasn’t even gotten to a chance to scan in the privacy seal or the privacy envelope, so they are just sitting at the election bureau right now, and they just finally had a chance last night to actually scan these voters in,” he said.\n“And you’re saying that to get 17 percent of the Republicans who haven’t voted in the last two elections is really high, at least it’s higher than the Democrats, who have only gotten 11 percent of their registered Democrats. Is that the conclusion?” host Mike Slater asked.\n“These are the people that are just sick and tired that have just probably been sitting on the sidelines. Maybe they’re first-time voters, and they’re saying, ‘Listen, my voice needs to count here. We can’t continue down the path that we are on. Something is wrong. This is broken, and it’s time for a change,'” Bresnahan responded.\n“And these are the people getting up off the sidelines and coming out and casting their votes even — because they want to make sure it counts,” he added.\nBreitbart News Daily airs on SiriusXM Patriot 125 from 6:00 a.m. to 9:00 a.m. Eastern. Exclusive -- Rob Bresnahan: GOP Sees More Low-Propensity Voters Come Out than Dems in PA"
        ],
        [
         "45",
         "Breitbart",
         "A clearly flustered Vice President Kamala Harris turned on protesters who heckled her during a Nevada rally Thursday, resorting to another well-worn display of performative hyperbole to counter them.\n“You know what? Let me say something about this,” Harris said amid protest uproar mid-speech at the Reno event attended by a crowd of some 6,000 supporters.\n“We are here because we are fighting for a democracy,” the vice president obliquely declared as nobody said it was at risk. “Fighting for a democracy.\n“And understand the difference here, understand the difference here, moving forward, moving forward, understand the difference here,” Harris continued as the heckler voices and their message was drowned out.\n“What we are looking at is a difference in this election – let’s move forward and see where we are because on the issue, for example, freedom of choice …” the Democratic nominee continued as the heckling caused her to pause and lose track yet again.\n“That’s OK. That’s alright. That’s OK,” Harris said as her supporters sought to drown the protest voices.\nHours earlier, during a speech in Phoenix, the Democratic nominee for president was interrupted multiple times by anti-Israel protesters, the New York Post reports.\nRELATED: Kamala Yells at Protesters “I Am Speaking!” After Saying She’s Fighting for the Right to Be Heard\nC-SPAN“Hey guys, you know what? Here’s the thing …“ Harris said, addressing the demonstrators.\n“Let’s talk for a moment about Gaza,” she continued. “We all want this war to end and to get the hostages out, and I will work on it full-time when I am elected president.”\nAs Breitbart News reported, Harris has made “word salads” in her speeches before, where she has mentioned “odd phrases and explanations for simple ideas.”\nShe has also resorted to the process in sit down addresses adding unintelligible mixtures of seemingly random words, phrases and observations.\n“IT’S TWO LETTERS”: VP Kamala Harris Breaks Down Artificial Intelligence in Her Infinite Wisdom\nWhite HouseIn March 2022, during a speech in Louisiana, Harris marveled at the “significance of the passage of time.”\nDuring a trip to Poland, Harris appeared to stumble over her words and stated she was standing in “the northern flank.”\n“I am here, standing here on the northern flank, on the eastern flank, talking about what we have in terms of the eastern flank and our NATO allies, and what is at stake at this very moment,” Harris said at the time.\n“What is at stake this very moment are some of the guiding principles around the NATO alliance.” Rattled Kamala Harris Turns on Nevada Rally Hecklers with Rambling Scold"
        ],
        [
         "46",
         "Breitbart",
         "The New Jersey Republican Party surpassed the Democrat Party in the state in the number of people they registered with the party during October.\nVoter registration data for the state, released on November 1, found that the Republican Party had registered 16,945 people in October, while Democrats registered 6,015 people, according to the New Jersey Globe.\nWhile the Republicans surpassed the Democrats with the number of people registered to vote with their party, there were 44,484 unaffiliated voters registered to vote in October.\nThe data also showed that altogether, there were 6,727,358 people registered to vote. Out of this number, there were 2,534,932 registered Democrats, while there were 1,628,633 registered Republicans.\nIn August, Decision Desk HQ’s Michael Pruser shared a chart of compiled voter registration showing that in states such as California, Florida, Idaho, Iowa, Kansas, Kentucky, Louisiana, Nebraska, New Jersey, North Carolina, and Oklahoma, Republicans had made increases between November 2020 and July 2024.\nAs Breitbart News previously reported, a poll conducted by the Hughes Center for Public Policy at Stockton University between October 10-14, 2024 of 616 registered voters, found that while 55 percent of respondents expressed that immigration was a positive thing, 51 percent expressed that immigration into the United States “should be more difficult.”\nThe poll also found that there was an increase from 2022 among Democrats, Republicans, and independent registered voters in the state who felt that immigration should be more difficult:\nIn 2022, for instance, 67 percent of New Jersey Republicans told the Hughes Center that immigration should be made more difficult. This year found that number rising to 72 percent. Independents also saw a rise in those supporting the idea of making immigration harder. In 2022 that number was at only 13 percent. But this year, 31 percent of independent voters agreed. The number also rose among Democrats with 30 percent saying it should be harder in 2022 compared to 54 percent saying so today.\nFormer President Donald Trump has previously expressed to Breitbart News that New Jersey is one of the states he has been attempting to “make a heavy play” for, along with New York, Virginia, New Mexico, and Minnesota.\n“One of the other things I’m going to do — and I may be foolish in doing it — is I’m going to make a heavy play for New York, heavy play for New Jersey, heavy play for Virginia, heavy play for New Mexico, and a heavy play for a state that hasn’t been won in years, Minnesota,” Trump told Breitbart News in an interview. NJ GOP Surpasses Dems with Amount of Voters Registered in October"
        ],
        [
         "47",
         "Breitbart",
         "CLAIM: Vice President Kamala Harris claimed that former President Donald Trump “sent an armed mob” to the United States Capitol on January 6, 2021.\nVERDICT: False.\nWhile speaking from the Ellipse in Washington, DC, on Tuesday night, Harris delivered her closing statements. In her closing statement, Harris claimed that Trump had “sent an armed mob” to the U.S. Capitol on January 6, 2021, though the riot had started even before Trump finished speaking.\n“We know who Donald Trump is,” Harris told the crowd. “He is the person who stood at this very spot nearly four years ago and sent an armed mob to the United States Capitol to overturn the will of the people in a free and fair election. An election that he knew he lost.”\nHarris’s comments come as other Democrats, such as President Joe Biden have also claimed that Trump “encouraged” protesters to go to the Capitol.\nAs Breitbart News’s Bradley Jaye has previously reported, Trump has previously “countered that not only did he authorize additional security after protesters entered the Capitol but in fact had requested and approved National Guard troops in advance”:\nTrump countered that not only did he authorize additional security after protestors entered the Capitol but in fact had requested and approved National Guard troops in advance — information which was omitted by Speaker Nancy Pelosi’s anti-Trump J6 Committee.\n“I was all set to bring in the National Guard,” Trump said, bashing the committee for only releasing information strategically to damage Trump. “They heard that, they say them coming, and they left immediately.”\nBreitbart News’s Joel Pollak has previously reported that former New Jersey Gov. Chris Christie (R) ended up walking back a claim that Trump “incited” the riot on January 6.\nPollak noted that “the question of incitement” was key to Democrats’ argument against Trump during his second impeachment trial, adding that Trump’s defense team, at the time, pointed out that the riot had already started prior to Trump finishing his speech:\nThe question of incitement was central to Democrats’ argument against Trump in his second impeachment trial. Trump’s defense team noted that the riot had begun before Trump finished speaking, and that he explicitly told supporters: “I know that everyone here will soon be marching over to the Capitol building to peacefully and patriotically make your voices heard.”\nByron York, chief political correspondent with the Washington Examiner, wrote in the Lubbock Avalanche-Journal in October 2021, that of roughly “670 people” who had been charged in the January 6 riot at the U.S. Capitol, there were “82” who were facing “weapons-related charges”:\nFor each charge, prosecutors have specified the weapon the defendant is accused of using. Here is a representative list of those weapons: A helmet. A baton. A crutch. A walking stick. Handgun. Pepper spray. Flagpole. Knife. Baseball bat. Crowd control barrier. Police shield. Hockey stick. Axe. Metal sign. Desk drawer.\nObviously, guns are the most serious concern. Of the 670, five suspects — Christopher Michael Alberts, Lonnie Leroy Coffman, Mark Sami Ibrahim, Cleveland Grover Meredith Jr. and Guy Wesley Reffitt — are charged with possessing firearms. But none are charged with using them during the riot.\nYork continued:\nThe big picture: Only a small percentage of the people at the “armed insurrection” were armed with anything. And just five of them — less than 1% of those charged — have been charged with possessing firearms, which are the traditional weapon of choice for modern armed insurrectionists. One of them didn’t even arrive until after it was all over. And none fired the weapons. And that is the problem with the “armed insurrection” talking point.\nYork added in his article that while what occurred on January 6 was a “riot” and “there was fighting” and “property damage,” the Department of Justice prosecutions did “not make the case that” it had been an “armed insurrection.”\nIn a post on X, Trump also called for protesters to “remain peaceful” and for “no violence.”\n“I am asking for everyone at the U.S. Capitol to remain peaceful,” Trump wrote. “No violence! Remember, WE are the Party of Law & Order – respect the Law and our great men and women in Blue. Thank you!” Fact Check: Kamala Harris Claims Trump Sent 'Armed Mob' to U.S. Capitol"
        ],
        [
         "48",
         "Breitbart",
         "Thousands of students across 138 Maine schools voted in a mock election on Tuesday, with former President Donald Trump beating Vice President Kamala Harris by a large margin.\nTrump handsomely won with 52 percent of the vote, compared to just 40 percent going to Harris, the Portland Press Herald reported.\nIndependent candidate Cornel West received two percent, Green Party candidate Jill Stein got 1.9 percent, and Libertarian Chase Oliver got 1.8 percent.\nWhile not necessarily an indicator of how their parents are voting, Maine students have had a “remarkable track record” with their mock elections, correctly choosing the winning presidential candidate in each election since 2008, according to the outlet.\nNotably, many of the students who voted for Trump split the ticket when voting in the mock election for the U.S. Senate and House, with incumbent Sen. Angus King (I) earning 43.3 percent of the vote compared to Republican challenger Demi Kouzounas’s 23.9 percent.\nIndependent Jason Cherry also received 16.3 percent, and Democrat David Costello got the lowest share of the mock votes cast for Senate with just 14.9 percent, according to the Press Herald.\nMeanwhile, incumbent Rep. Chellie Pingree (D) of Maine’s First Congressional District won the students’ favor with 40.9 percent of the vote, while Republican challenger Ron Russell got 38.6 percent and Independent Ethan Alcorn got 19.4 percent.\nThe students also voted to reelect Rep. Jared Golden (D) over Republican Austin Theriault with a tight outcome — 49.3 percent to 48.8 percent.\nWhile it is not immediately clear how many students participated, the outlet reported that 19,530 students cast mock votes during the 2022 midterm elections.\n“Hands-on learning through a mock election is a great way to teach young Mainers about our electoral process, government and the importance of making their voices heard at the ballot box,” Secretary of State Shenna Bellows (D) said in a Monday statement, the day before the mock election was held. “Broad civics education is an important building block for the rest of their lives.” Trump Crushes Harris in Maine Student Mock Election Known for Accurate Predictions"
        ],
        [
         "49",
         "Breitbart",
         "On Thursday’s broadcast of MSNBC’s “Alex Wagner Tonight,” Democratic U.S. Senate candidate Rep. Elissa Slotkin (D-MI) responded to a question on how she responds to people who want to vote Republican over the economy even though Nobel Prize economists say Republicans aren’t better for the economy by stating that “I’m sure those Nobel economists are great, but there are plenty of people right now who don’t have enough money in their pocket,” “And this idea that somehow, people are just wrong about their own family finances, I take issue with, and I can show you the math on lots of people.” But ultimately, the policies championed by Democrats are the best.\nAfter Slotkin stated that there is a manufacturing surge in the state, guest host Ali Velshi said, “I’m often confused by this, because this argument about how Donald Trump and Republicans are better for the economy, is just — it’s empirically not true, every economist that you talk to, every economist of note, all these Nobel economists — but, they say things, and people believe things. So, what does it actually take, when you knock on a door or you have a conversation with someone who tells you they want to vote for your opponent because of the economy? What’s the — what do you actually say to them?”\nSlotkin responded, “Yeah, well, just to be clear, I’m sure those Nobel economists are great, but there are plenty of people right now who don’t have enough money in their pocket, right? Who feel like they’re making choices between groceries and pharmaceuticals and sending their kid to summer camp, and that’s a real thing. And this idea that somehow, people are just wrong about their own family finances, I take issue with, and I can show you the math on lots of people. It doesn’t help anyone to pretend that’s not going on.”\nShe continued, “But I think the conversation is sort of there are things we can do to keep more money in your pocket. Number one, again, those good jobs with dignity. Number two, attack the costs that are draining your finances, health care, prescription drugs, housing, child care, those kind of things that are just eating up your money. And then, number three, keep more money in your pocket with a tax code that actually favors middle-class people, as opposed to the ultra-wealthy. And those are the things that Democrats are championing, that I know I feel very strongly about.”\nFollow Ian Hanchett on Twitter @IanHanchett Dem Rep., Sen. Candidate on Anti-GOP Economists: People Struggling Know Better than Them, But Dem Plans Are Best"
        ]
       ],
       "shape": {
        "columns": 2,
        "rows": 1313
       }
      },
      "text/html": [
       "<div>\n",
       "<style scoped>\n",
       "    .dataframe tbody tr th:only-of-type {\n",
       "        vertical-align: middle;\n",
       "    }\n",
       "\n",
       "    .dataframe tbody tr th {\n",
       "        vertical-align: top;\n",
       "    }\n",
       "\n",
       "    .dataframe thead th {\n",
       "        text-align: right;\n",
       "    }\n",
       "</style>\n",
       "<table border=\"1\" class=\"dataframe\">\n",
       "  <thead>\n",
       "    <tr style=\"text-align: right;\">\n",
       "      <th></th>\n",
       "      <th>source</th>\n",
       "      <th>full_content</th>\n",
       "    </tr>\n",
       "  </thead>\n",
       "  <tbody>\n",
       "    <tr>\n",
       "      <th>0</th>\n",
       "      <td>Breitbart</td>\n",
       "      <td>House Republicans say the Biden-Harris White H...</td>\n",
       "    </tr>\n",
       "    <tr>\n",
       "      <th>1</th>\n",
       "      <td>Breitbart</td>\n",
       "      <td>Miriam Adelson, the principal owner of the NBA...</td>\n",
       "    </tr>\n",
       "    <tr>\n",
       "      <th>2</th>\n",
       "      <td>Breitbart</td>\n",
       "      <td>CLAIM: Vice President Kamala Harris’s campaign...</td>\n",
       "    </tr>\n",
       "    <tr>\n",
       "      <th>3</th>\n",
       "      <td>Breitbart</td>\n",
       "      <td>On Tuesday’s broadcast of CNN’s “Laura Coates ...</td>\n",
       "    </tr>\n",
       "    <tr>\n",
       "      <th>4</th>\n",
       "      <td>Breitbart</td>\n",
       "      <td>Former President Donald Trump has a two point ...</td>\n",
       "    </tr>\n",
       "    <tr>\n",
       "      <th>...</th>\n",
       "      <td>...</td>\n",
       "      <td>...</td>\n",
       "    </tr>\n",
       "    <tr>\n",
       "      <th>1308</th>\n",
       "      <td>Guardian</td>\n",
       "      <td>Striking Boeing staff have been urged by their...</td>\n",
       "    </tr>\n",
       "    <tr>\n",
       "      <th>1309</th>\n",
       "      <td>Guardian</td>\n",
       "      <td>Much attention has been paid to the rematch be...</td>\n",
       "    </tr>\n",
       "    <tr>\n",
       "      <th>1310</th>\n",
       "      <td>Guardian</td>\n",
       "      <td>Michigan congresswoman Rashida Tlaib declined ...</td>\n",
       "    </tr>\n",
       "    <tr>\n",
       "      <th>1311</th>\n",
       "      <td>Guardian</td>\n",
       "      <td>Donald Trump said he would meet with Ukrainian...</td>\n",
       "    </tr>\n",
       "    <tr>\n",
       "      <th>1312</th>\n",
       "      <td>Guardian</td>\n",
       "      <td>Middle East crisis live: ‘apocalyptic’ north G...</td>\n",
       "    </tr>\n",
       "  </tbody>\n",
       "</table>\n",
       "<p>1313 rows × 2 columns</p>\n",
       "</div>"
      ],
      "text/plain": [
       "         source                                       full_content\n",
       "0     Breitbart  House Republicans say the Biden-Harris White H...\n",
       "1     Breitbart  Miriam Adelson, the principal owner of the NBA...\n",
       "2     Breitbart  CLAIM: Vice President Kamala Harris’s campaign...\n",
       "3     Breitbart  On Tuesday’s broadcast of CNN’s “Laura Coates ...\n",
       "4     Breitbart  Former President Donald Trump has a two point ...\n",
       "...         ...                                                ...\n",
       "1308   Guardian  Striking Boeing staff have been urged by their...\n",
       "1309   Guardian  Much attention has been paid to the rematch be...\n",
       "1310   Guardian  Michigan congresswoman Rashida Tlaib declined ...\n",
       "1311   Guardian  Donald Trump said he would meet with Ukrainian...\n",
       "1312   Guardian  Middle East crisis live: ‘apocalyptic’ north G...\n",
       "\n",
       "[1313 rows x 2 columns]"
      ]
     },
     "execution_count": 31,
     "metadata": {},
     "output_type": "execute_result"
    }
   ],
   "source": [
    "data"
   ]
  },
  {
   "cell_type": "code",
   "execution_count": 32,
   "metadata": {},
   "outputs": [],
   "source": [
    "data.to_csv('dataset/scrapped_news.csv', index=False)"
   ]
  },
  {
   "cell_type": "markdown",
   "metadata": {},
   "source": [
    "# Applying our best model (CNN + Word2Vec) on the scraped data"
   ]
  },
  {
   "cell_type": "code",
   "execution_count": 33,
   "metadata": {},
   "outputs": [],
   "source": [
    "# Import necessary libraries\n",
    "\n",
    "# Data manipulation\n",
    "import pandas as pd\n",
    "import numpy as np\n",
    "\n",
    "# Statistical functions\n",
    "from scipy.stats import zscore\n",
    "\n",
    "# For concurrency (running functions in parallel)\n",
    "from concurrent.futures import ThreadPoolExecutor\n",
    "\n",
    "# For caching (to speed up repeated function calls)\n",
    "from functools import lru_cache\n",
    "\n",
    "# For progress tracking\n",
    "from tqdm import tqdm\n",
    "\n",
    "from tensorflow.keras.preprocessing.text import Tokenizer\n",
    "from tensorflow.keras.preprocessing.sequence import pad_sequences\n",
    "\n",
    "# Define function to process text\n",
    "import string\n",
    "from nltk.stem import *\n",
    "from nltk.stem.porter import *\n",
    "\n",
    "# Import necessary libraries\n",
    "\n",
    "# Data manipulation\n",
    "import pandas as pd\n",
    "import numpy as np\n",
    "\n",
    "# Statistical functions\n",
    "from scipy.stats import zscore\n",
    "\n",
    "# For concurrency (running functions in parallel)\n",
    "from concurrent.futures import ThreadPoolExecutor\n",
    "\n",
    "# For caching (to speed up repeated function calls)\n",
    "from functools import lru_cache\n",
    "\n",
    "# For progress tracking\n",
    "from tqdm import tqdm\n",
    "\n",
    "# Plotting and Visualisation\n",
    "import matplotlib.pyplot as plt\n",
    "import seaborn as sns\n",
    "\n",
    "# Language Detection packages\n",
    "# `langdetect` for detecting language\n",
    "from langdetect import detect as langdetect_detect, DetectorFactory\n",
    "from langdetect.lang_detect_exception import LangDetectException\n",
    "\n",
    "# `langid` for an alternative language detection method\n",
    "from langid import classify as langid_classify\n",
    "\n",
    "# Text Preprocessing and NLP\n",
    "# Stopwords (common words to ignore) from NLTK\n",
    "from nltk.corpus import stopwords\n",
    "\n",
    "# Tokenizing sentences/words\n",
    "from nltk.tokenize import word_tokenize\n",
    "\n",
    "# Part-of-speech tagging\n",
    "from nltk import pos_tag\n",
    "\n",
    "# Lemmatization (converting words to their base form)\n",
    "from nltk.stem import WordNetLemmatizer\n",
    "import nltk\n",
    "\n",
    "# Regular expressions for text pattern matching\n",
    "import re\n",
    "\n",
    "\n",
    "def process_full_review(text):\n",
    "    # Convert to lowercase and tokenize\n",
    "    text = text.lower()\n",
    "    tokens = word_tokenize(text)\n",
    "    tokens = [word for word in tokens if word not in string.punctuation]\n",
    "    stemmer = PorterStemmer()\n",
    "    # List of stopwords\n",
    "    stop_words = stopwords.words(\"english\")\n",
    "    allowed_words = [\n",
    "        \"no\",\n",
    "        \"not\",\n",
    "        \"don't\",\n",
    "        \"dont\",\n",
    "        \"don\",\n",
    "        \"but\",\n",
    "        \"however\",\n",
    "        \"never\",\n",
    "        \"wasn't\",\n",
    "        \"wasnt\",\n",
    "        \"shouldn't\",\n",
    "        \"shouldnt\",\n",
    "        \"mustn't\",\n",
    "        \"musnt\",\n",
    "    ]\n",
    "\n",
    "    stemmed = [\n",
    "        stemmer.stem(word)\n",
    "        for word in tokens\n",
    "        if word not in stop_words or word in allowed_words\n",
    "    ]\n",
    "    return \" \".join(stemmed)"
   ]
  },
  {
   "cell_type": "code",
   "execution_count": 34,
   "metadata": {},
   "outputs": [
    {
     "name": "stderr",
     "output_type": "stream",
     "text": [
      "/Users/inflaton/anaconda3/envs/fake-news/lib/python3.11/site-packages/tqdm/auto.py:21: TqdmWarning: IProgress not found. Please update jupyter and ipywidgets. See https://ipywidgets.readthedocs.io/en/stable/user_install.html\n",
      "  from .autonotebook import tqdm as notebook_tqdm\n",
      "Generating train split: 54441 examples [00:02, 25634.32 examples/s]\n"
     ]
    },
    {
     "data": {
      "text/plain": [
       "DatasetDict({\n",
       "    train: Dataset({\n",
       "        features: ['label', 'full_content', 'processed_full_content'],\n",
       "        num_rows: 54441\n",
       "    })\n",
       "})"
      ]
     },
     "execution_count": 34,
     "metadata": {},
     "output_type": "execute_result"
    }
   ],
   "source": [
    "from datasets import load_dataset, concatenate_datasets, Dataset\n",
    "\n",
    "datasets = load_dataset(\n",
    "    \"csv\",\n",
    "    data_files={\n",
    "        \"train\": [\n",
    "            \"dataset/train_data_1.csv\",\n",
    "            \"dataset/train_data_2.csv\",\n",
    "            \"dataset/train_data_3.csv\",\n",
    "            \"dataset/train_data_4.csv\",\n",
    "        ],\n",
    "    },\n",
    ")\n",
    "datasets"
   ]
  },
  {
   "cell_type": "code",
   "execution_count": 35,
   "metadata": {},
   "outputs": [
    {
     "name": "stderr",
     "output_type": "stream",
     "text": [
      "/Users/inflaton/anaconda3/envs/fake-news/lib/python3.11/site-packages/keras/src/saving/saving_lib.py:757: UserWarning: Skipping variable loading for optimizer 'rmsprop', because it has 9 variables whereas the saved optimizer has 16 variables. \n",
      "  saveable.load_own_variables(weights_store.get(inner_path))\n"
     ]
    },
    {
     "data": {
      "text/html": [
       "<pre style=\"white-space:pre;overflow-x:auto;line-height:normal;font-family:Menlo,'DejaVu Sans Mono',consolas,'Courier New',monospace\"><span style=\"font-weight: bold\">Model: \"functional_6\"</span>\n",
       "</pre>\n"
      ],
      "text/plain": [
       "\u001b[1mModel: \"functional_6\"\u001b[0m\n"
      ]
     },
     "metadata": {},
     "output_type": "display_data"
    },
    {
     "data": {
      "text/html": [
       "<pre style=\"white-space:pre;overflow-x:auto;line-height:normal;font-family:Menlo,'DejaVu Sans Mono',consolas,'Courier New',monospace\">┏━━━━━━━━━━━━━━━━━━━━━━━━━━━━━━━━━┳━━━━━━━━━━━━━━━━━━━━━━━━┳━━━━━━━━━━━━━━━┓\n",
       "┃<span style=\"font-weight: bold\"> Layer (type)                    </span>┃<span style=\"font-weight: bold\"> Output Shape           </span>┃<span style=\"font-weight: bold\">       Param # </span>┃\n",
       "┡━━━━━━━━━━━━━━━━━━━━━━━━━━━━━━━━━╇━━━━━━━━━━━━━━━━━━━━━━━━╇━━━━━━━━━━━━━━━┩\n",
       "│ input_layer_6 (<span style=\"color: #0087ff; text-decoration-color: #0087ff\">InputLayer</span>)      │ (<span style=\"color: #00d7ff; text-decoration-color: #00d7ff\">None</span>, <span style=\"color: #00af00; text-decoration-color: #00af00\">300</span>)            │             <span style=\"color: #00af00; text-decoration-color: #00af00\">0</span> │\n",
       "├─────────────────────────────────┼────────────────────────┼───────────────┤\n",
       "│ embedding_6 (<span style=\"color: #0087ff; text-decoration-color: #0087ff\">Embedding</span>)         │ (<span style=\"color: #00d7ff; text-decoration-color: #00d7ff\">None</span>, <span style=\"color: #00af00; text-decoration-color: #00af00\">300</span>, <span style=\"color: #00af00; text-decoration-color: #00af00\">100</span>)       │     <span style=\"color: #00af00; text-decoration-color: #00af00\">1,000,000</span> │\n",
       "├─────────────────────────────────┼────────────────────────┼───────────────┤\n",
       "│ conv1d_6 (<span style=\"color: #0087ff; text-decoration-color: #0087ff\">Conv1D</span>)               │ (<span style=\"color: #00d7ff; text-decoration-color: #00d7ff\">None</span>, <span style=\"color: #00af00; text-decoration-color: #00af00\">296</span>, <span style=\"color: #00af00; text-decoration-color: #00af00\">64</span>)        │        <span style=\"color: #00af00; text-decoration-color: #00af00\">32,064</span> │\n",
       "├─────────────────────────────────┼────────────────────────┼───────────────┤\n",
       "│ global_max_pooling1d_6          │ (<span style=\"color: #00d7ff; text-decoration-color: #00d7ff\">None</span>, <span style=\"color: #00af00; text-decoration-color: #00af00\">64</span>)             │             <span style=\"color: #00af00; text-decoration-color: #00af00\">0</span> │\n",
       "│ (<span style=\"color: #0087ff; text-decoration-color: #0087ff\">GlobalMaxPooling1D</span>)            │                        │               │\n",
       "├─────────────────────────────────┼────────────────────────┼───────────────┤\n",
       "│ dense_12 (<span style=\"color: #0087ff; text-decoration-color: #0087ff\">Dense</span>)                │ (<span style=\"color: #00d7ff; text-decoration-color: #00d7ff\">None</span>, <span style=\"color: #00af00; text-decoration-color: #00af00\">64</span>)             │         <span style=\"color: #00af00; text-decoration-color: #00af00\">4,160</span> │\n",
       "├─────────────────────────────────┼────────────────────────┼───────────────┤\n",
       "│ dropout_6 (<span style=\"color: #0087ff; text-decoration-color: #0087ff\">Dropout</span>)             │ (<span style=\"color: #00d7ff; text-decoration-color: #00d7ff\">None</span>, <span style=\"color: #00af00; text-decoration-color: #00af00\">64</span>)             │             <span style=\"color: #00af00; text-decoration-color: #00af00\">0</span> │\n",
       "├─────────────────────────────────┼────────────────────────┼───────────────┤\n",
       "│ dense_13 (<span style=\"color: #0087ff; text-decoration-color: #0087ff\">Dense</span>)                │ (<span style=\"color: #00d7ff; text-decoration-color: #00d7ff\">None</span>, <span style=\"color: #00af00; text-decoration-color: #00af00\">1</span>)              │            <span style=\"color: #00af00; text-decoration-color: #00af00\">65</span> │\n",
       "└─────────────────────────────────┴────────────────────────┴───────────────┘\n",
       "</pre>\n"
      ],
      "text/plain": [
       "┏━━━━━━━━━━━━━━━━━━━━━━━━━━━━━━━━━┳━━━━━━━━━━━━━━━━━━━━━━━━┳━━━━━━━━━━━━━━━┓\n",
       "┃\u001b[1m \u001b[0m\u001b[1mLayer (type)                   \u001b[0m\u001b[1m \u001b[0m┃\u001b[1m \u001b[0m\u001b[1mOutput Shape          \u001b[0m\u001b[1m \u001b[0m┃\u001b[1m \u001b[0m\u001b[1m      Param #\u001b[0m\u001b[1m \u001b[0m┃\n",
       "┡━━━━━━━━━━━━━━━━━━━━━━━━━━━━━━━━━╇━━━━━━━━━━━━━━━━━━━━━━━━╇━━━━━━━━━━━━━━━┩\n",
       "│ input_layer_6 (\u001b[38;5;33mInputLayer\u001b[0m)      │ (\u001b[38;5;45mNone\u001b[0m, \u001b[38;5;34m300\u001b[0m)            │             \u001b[38;5;34m0\u001b[0m │\n",
       "├─────────────────────────────────┼────────────────────────┼───────────────┤\n",
       "│ embedding_6 (\u001b[38;5;33mEmbedding\u001b[0m)         │ (\u001b[38;5;45mNone\u001b[0m, \u001b[38;5;34m300\u001b[0m, \u001b[38;5;34m100\u001b[0m)       │     \u001b[38;5;34m1,000,000\u001b[0m │\n",
       "├─────────────────────────────────┼────────────────────────┼───────────────┤\n",
       "│ conv1d_6 (\u001b[38;5;33mConv1D\u001b[0m)               │ (\u001b[38;5;45mNone\u001b[0m, \u001b[38;5;34m296\u001b[0m, \u001b[38;5;34m64\u001b[0m)        │        \u001b[38;5;34m32,064\u001b[0m │\n",
       "├─────────────────────────────────┼────────────────────────┼───────────────┤\n",
       "│ global_max_pooling1d_6          │ (\u001b[38;5;45mNone\u001b[0m, \u001b[38;5;34m64\u001b[0m)             │             \u001b[38;5;34m0\u001b[0m │\n",
       "│ (\u001b[38;5;33mGlobalMaxPooling1D\u001b[0m)            │                        │               │\n",
       "├─────────────────────────────────┼────────────────────────┼───────────────┤\n",
       "│ dense_12 (\u001b[38;5;33mDense\u001b[0m)                │ (\u001b[38;5;45mNone\u001b[0m, \u001b[38;5;34m64\u001b[0m)             │         \u001b[38;5;34m4,160\u001b[0m │\n",
       "├─────────────────────────────────┼────────────────────────┼───────────────┤\n",
       "│ dropout_6 (\u001b[38;5;33mDropout\u001b[0m)             │ (\u001b[38;5;45mNone\u001b[0m, \u001b[38;5;34m64\u001b[0m)             │             \u001b[38;5;34m0\u001b[0m │\n",
       "├─────────────────────────────────┼────────────────────────┼───────────────┤\n",
       "│ dense_13 (\u001b[38;5;33mDense\u001b[0m)                │ (\u001b[38;5;45mNone\u001b[0m, \u001b[38;5;34m1\u001b[0m)              │            \u001b[38;5;34m65\u001b[0m │\n",
       "└─────────────────────────────────┴────────────────────────┴───────────────┘\n"
      ]
     },
     "metadata": {},
     "output_type": "display_data"
    },
    {
     "data": {
      "text/html": [
       "<pre style=\"white-space:pre;overflow-x:auto;line-height:normal;font-family:Menlo,'DejaVu Sans Mono',consolas,'Courier New',monospace\"><span style=\"font-weight: bold\"> Total params: </span><span style=\"color: #00af00; text-decoration-color: #00af00\">2,072,580</span> (7.91 MB)\n",
       "</pre>\n"
      ],
      "text/plain": [
       "\u001b[1m Total params: \u001b[0m\u001b[38;5;34m2,072,580\u001b[0m (7.91 MB)\n"
      ]
     },
     "metadata": {},
     "output_type": "display_data"
    },
    {
     "data": {
      "text/html": [
       "<pre style=\"white-space:pre;overflow-x:auto;line-height:normal;font-family:Menlo,'DejaVu Sans Mono',consolas,'Courier New',monospace\"><span style=\"font-weight: bold\"> Trainable params: </span><span style=\"color: #00af00; text-decoration-color: #00af00\">1,036,289</span> (3.95 MB)\n",
       "</pre>\n"
      ],
      "text/plain": [
       "\u001b[1m Trainable params: \u001b[0m\u001b[38;5;34m1,036,289\u001b[0m (3.95 MB)\n"
      ]
     },
     "metadata": {},
     "output_type": "display_data"
    },
    {
     "data": {
      "text/html": [
       "<pre style=\"white-space:pre;overflow-x:auto;line-height:normal;font-family:Menlo,'DejaVu Sans Mono',consolas,'Courier New',monospace\"><span style=\"font-weight: bold\"> Non-trainable params: </span><span style=\"color: #00af00; text-decoration-color: #00af00\">0</span> (0.00 B)\n",
       "</pre>\n"
      ],
      "text/plain": [
       "\u001b[1m Non-trainable params: \u001b[0m\u001b[38;5;34m0\u001b[0m (0.00 B)\n"
      ]
     },
     "metadata": {},
     "output_type": "display_data"
    },
    {
     "data": {
      "text/html": [
       "<pre style=\"white-space:pre;overflow-x:auto;line-height:normal;font-family:Menlo,'DejaVu Sans Mono',consolas,'Courier New',monospace\"><span style=\"font-weight: bold\"> Optimizer params: </span><span style=\"color: #00af00; text-decoration-color: #00af00\">1,036,291</span> (3.95 MB)\n",
       "</pre>\n"
      ],
      "text/plain": [
       "\u001b[1m Optimizer params: \u001b[0m\u001b[38;5;34m1,036,291\u001b[0m (3.95 MB)\n"
      ]
     },
     "metadata": {},
     "output_type": "display_data"
    }
   ],
   "source": [
    "# load model\n",
    "from tensorflow.keras.models import load_model\n",
    "\n",
    "model = load_model(\"results/CNN_model.keras\")\n",
    "model.summary()"
   ]
  },
  {
   "cell_type": "code",
   "execution_count": 39,
   "metadata": {},
   "outputs": [],
   "source": [
    "from sklearn.metrics import f1_score, accuracy_score, precision_score, recall_score\n",
    "import pandas as pd\n",
    "from tqdm import tqdm\n",
    "\n",
    "def evaluate_model(model, train_data, val_data, force_reprocess=False):\n",
    "    # Apply process_full_review function with tqdm progress bar and expand the results into separate columns.\n",
    "    processed_columns = \"processed_full_content\"\n",
    "    if force_reprocess or processed_columns not in train_data.columns:\n",
    "        # Enable tqdm for pandas (progress bar)\n",
    "        tqdm.pandas(desc=\"Processing Train Data\")\n",
    "        \n",
    "        train_data[processed_columns] = train_data[\"full_content\"].progress_apply(\n",
    "            lambda x: pd.Series(process_full_review(x))\n",
    "        )\n",
    "\n",
    "    if force_reprocess or processed_columns not in val_data.columns:\n",
    "        # Enable tqdm for pandas (progress bar)\n",
    "        tqdm.pandas(desc=\"Processing Val Data\")\n",
    "\n",
    "        # Apply process_full_review function with tqdm progress bar and expand the results into separate columns.\n",
    "        val_data[processed_columns] = val_data[\"full_content\"].progress_apply(\n",
    "            lambda x: pd.Series(process_full_review(x))\n",
    "        )\n",
    "\n",
    "    print(\"Evaluating Model\")\n",
    "    \n",
    "    max_words = 10000\n",
    "    max_sequence_length = 300\n",
    "\n",
    "    train_texts = train_data[\"processed_full_content\"]\n",
    "    tokenizer = Tokenizer(num_words=max_words)\n",
    "    tokenizer.fit_on_texts(train_texts)\n",
    "\n",
    "    val_texts = val_data[\"processed_full_content\"]\n",
    "\n",
    "    X_val = pad_sequences(\n",
    "        tokenizer.texts_to_sequences(val_texts), maxlen=max_sequence_length\n",
    "    )\n",
    "    y_pred = (model.predict(X_val) > 0.5).astype(int)\n",
    "\n",
    "    if \"label\" not in val_data.columns:\n",
    "        return y_pred\n",
    "\n",
    "    y_val = val_data[\"label\"]\n",
    "    accuracy = accuracy_score(y_val, y_pred)\n",
    "    precision = precision_score(y_val, y_pred)\n",
    "    recall = recall_score(y_val, y_pred)\n",
    "    f1 = f1_score(y_val, y_pred)\n",
    "\n",
    "    print(f\"Accuracy: {accuracy:.4f}\")\n",
    "    print(f\"Precision: {precision:.4f}\")\n",
    "    print(f\"Recall: {recall:.4f}\")\n",
    "    print(f\"F1: {f1:.4f}\")"
   ]
  },
  {
   "cell_type": "code",
   "execution_count": 41,
   "metadata": {},
   "outputs": [
    {
     "name": "stderr",
     "output_type": "stream",
     "text": [
      "Processing Val Data: 100%|██████████| 1313/1313 [00:05<00:00, 240.60it/s]\n"
     ]
    },
    {
     "name": "stdout",
     "output_type": "stream",
     "text": [
      "Evaluating Model\n",
      "\u001b[1m42/42\u001b[0m \u001b[32m━━━━━━━━━━━━━━━━━━━━\u001b[0m\u001b[37m\u001b[0m \u001b[1m0s\u001b[0m 2ms/step\n",
      "\n",
      "Prediction Results:\n",
      "Total articles: 1313\n",
      "Predicted Real: [611]\n",
      "Predicted Fake: [702]\n"
     ]
    }
   ],
   "source": [
    "df_train = datasets[\"train\"].to_pandas()\n",
    "df_test = pd.read_csv(\"dataset/scrapped_news.csv\")\n",
    "predictions = evaluate_model(model, df_train, df_test)\n",
    "\n",
    "# Print results\n",
    "print(\"\\nPrediction Results:\")\n",
    "print(f\"Total articles: {len(predictions)}\")\n",
    "print(f\"Predicted Real: {sum(predictions == 1)}\")\n",
    "print(f\"Predicted Fake: {sum(predictions == 0)}\")"
   ]
  },
  {
   "cell_type": "code",
   "execution_count": 42,
   "metadata": {},
   "outputs": [
    {
     "name": "stdout",
     "output_type": "stream",
     "text": [
      "<class 'pandas.core.frame.DataFrame'>\n",
      "RangeIndex: 1313 entries, 0 to 1312\n",
      "Data columns (total 3 columns):\n",
      " #   Column                  Non-Null Count  Dtype \n",
      "---  ------                  --------------  ----- \n",
      " 0   source                  1313 non-null   object\n",
      " 1   full_content            1313 non-null   object\n",
      " 2   processed_full_content  1313 non-null   object\n",
      "dtypes: object(3)\n",
      "memory usage: 30.9+ KB\n"
     ]
    }
   ],
   "source": [
    "df_test.info()"
   ]
  },
  {
   "cell_type": "code",
   "execution_count": 44,
   "metadata": {},
   "outputs": [],
   "source": [
    "df_test.to_csv(\"dataset/scrapped_news.csv\", index=False)"
   ]
  }
 ],
 "metadata": {
  "kernelspec": {
   "display_name": "fake-news",
   "language": "python",
   "name": "python3"
  },
  "language_info": {
   "codemirror_mode": {
    "name": "ipython",
    "version": 3
   },
   "file_extension": ".py",
   "mimetype": "text/x-python",
   "name": "python",
   "nbconvert_exporter": "python",
   "pygments_lexer": "ipython3",
   "version": "3.11.11"
  }
 },
 "nbformat": 4,
 "nbformat_minor": 2
}
