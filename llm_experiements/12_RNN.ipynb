{
 "cells": [
  {
   "cell_type": "code",
   "execution_count": 6,
   "metadata": {},
   "outputs": [],
   "source": [
    "# Import necessary libraries\n",
    "\n",
    "# Data manipulation\n",
    "import pandas as pd\n",
    "import numpy as np\n",
    "\n",
    "# Statistical functions\n",
    "from scipy.stats import zscore\n",
    "\n",
    "# For concurrency (running functions in parallel)\n",
    "from concurrent.futures import ThreadPoolExecutor\n",
    "\n",
    "# For caching (to speed up repeated function calls)\n",
    "from functools import lru_cache\n",
    "\n",
    "# For progress tracking\n",
    "from tqdm import tqdm\n",
    "\n",
    "# Plotting and Visualisation\n",
    "import matplotlib.pyplot as plt\n",
    "import seaborn as sns\n",
    "\n",
    "# Language Detection packages\n",
    "# `langdetect` for detecting language\n",
    "from langdetect import detect as langdetect_detect, DetectorFactory\n",
    "from langdetect.lang_detect_exception import LangDetectException\n",
    "\n",
    "# `langid` for an alternative language detection method\n",
    "from langid import classify as langid_classify\n",
    "\n",
    "# Text Preprocessing and NLP\n",
    "# Stopwords (common words to ignore) from NLTK\n",
    "from nltk.corpus import stopwords\n",
    "\n",
    "# Tokenizing sentences/words\n",
    "from nltk.tokenize import word_tokenize\n",
    "\n",
    "# Part-of-speech tagging\n",
    "from nltk import pos_tag\n",
    "\n",
    "# Lemmatization (converting words to their base form)\n",
    "from nltk.stem import WordNetLemmatizer\n",
    "import nltk\n",
    "\n",
    "# Regular expressions for text pattern matching\n",
    "import re\n",
    "\n",
    "# Word Cloud generation\n",
    "from wordcloud import WordCloud"
   ]
  },
  {
   "cell_type": "code",
   "execution_count": 1,
   "metadata": {},
   "outputs": [
    {
     "name": "stdout",
     "output_type": "stream",
     "text": [
      "working dir: /home/inflaton/code/CrediNews\n"
     ]
    }
   ],
   "source": [
    "import os\n",
    "import sys\n",
    "from pathlib import Path\n",
    "\n",
    "if \"workding_dir\" not in locals():\n",
    "    workding_dir = str(Path.cwd().parent)\n",
    "os.chdir(workding_dir)\n",
    "sys.path.append(workding_dir)\n",
    "print(\"working dir:\", workding_dir)"
   ]
  },
  {
   "cell_type": "code",
   "execution_count": 11,
   "metadata": {},
   "outputs": [
    {
     "data": {
      "text/plain": [
       "DatasetDict({\n",
       "    train: Dataset({\n",
       "        features: ['label', 'full_content', 'processed_full_content'],\n",
       "        num_rows: 54441\n",
       "    })\n",
       "    test: Dataset({\n",
       "        features: ['label', 'full_content', 'processed_full_content'],\n",
       "        num_rows: 6050\n",
       "    })\n",
       "    rewritten_train: Dataset({\n",
       "        features: ['label', 'full_content', 'processed_full_content'],\n",
       "        num_rows: 54441\n",
       "    })\n",
       "    rewritten_test: Dataset({\n",
       "        features: ['label', 'full_content', 'processed_full_content'],\n",
       "        num_rows: 6050\n",
       "    })\n",
       "})"
      ]
     },
     "execution_count": 11,
     "metadata": {},
     "output_type": "execute_result"
    }
   ],
   "source": [
    "from datasets import load_dataset, concatenate_datasets, Dataset\n",
    "\n",
    "datasets = load_dataset(\n",
    "    \"csv\",\n",
    "    data_files={\n",
    "        \"train\": [\n",
    "            \"dataset/train_data_1.csv\",\n",
    "            \"dataset/train_data_2.csv\",\n",
    "            \"dataset/train_data_3.csv\",\n",
    "            \"dataset/train_data_4.csv\",\n",
    "        ],\n",
    "        \"test\": \"dataset/test_data.csv\",\n",
    "        \"rewritten_train\": [\n",
    "            \"dataset/rewritten_train_data_1.csv\",\n",
    "            \"dataset/rewritten_train_data_2.csv\",\n",
    "            \"dataset/rewritten_train_data_3.csv\",\n",
    "            \"dataset/rewritten_train_data_4.csv\",\n",
    "        ],\n",
    "        \"rewritten_test\": \"dataset/rewritten_test_data.csv\",\n",
    "    },\n",
    ")\n",
    "datasets"
   ]
  },
  {
   "cell_type": "markdown",
   "metadata": {},
   "source": [
    "### RNN with Word2Vec (best RNN model)"
   ]
  },
  {
   "cell_type": "code",
   "execution_count": 3,
   "metadata": {},
   "outputs": [
    {
     "name": "stderr",
     "output_type": "stream",
     "text": [
      "2025-02-21 09:10:21.884386: I tensorflow/core/util/port.cc:153] oneDNN custom operations are on. You may see slightly different numerical results due to floating-point round-off errors from different computation orders. To turn them off, set the environment variable `TF_ENABLE_ONEDNN_OPTS=0`.\n",
      "2025-02-21 09:10:22.039300: E external/local_xla/xla/stream_executor/cuda/cuda_fft.cc:477] Unable to register cuFFT factory: Attempting to register factory for plugin cuFFT when one has already been registered\n",
      "WARNING: All log messages before absl::InitializeLog() is called are written to STDERR\n",
      "E0000 00:00:1740100222.096444    1124 cuda_dnn.cc:8310] Unable to register cuDNN factory: Attempting to register factory for plugin cuDNN when one has already been registered\n",
      "E0000 00:00:1740100222.113366    1124 cuda_blas.cc:1418] Unable to register cuBLAS factory: Attempting to register factory for plugin cuBLAS when one has already been registered\n",
      "2025-02-21 09:10:22.267559: I tensorflow/core/platform/cpu_feature_guard.cc:210] This TensorFlow binary is optimized to use available CPU instructions in performance-critical operations.\n",
      "To enable the following instructions: AVX2 AVX512F AVX512_VNNI AVX512_BF16 AVX_VNNI FMA, in other operations, rebuild TensorFlow with the appropriate compiler flags.\n"
     ]
    }
   ],
   "source": [
    "from tensorflow.keras.models import Sequential\n",
    "from tensorflow.keras.layers import Embedding, SimpleRNN, Dense, Dropout\n",
    "from tensorflow.keras.optimizers import Adam\n",
    "from tensorflow.keras.preprocessing.text import Tokenizer\n",
    "from tensorflow.keras.preprocessing.sequence import pad_sequences\n",
    "from sklearn.model_selection import train_test_split\n",
    "from sklearn.metrics import accuracy_score, precision_score, recall_score, f1_score\n",
    "from gensim.models import Word2Vec\n",
    "import tensorflow as tf\n",
    "import numpy as np\n",
    "import random\n",
    "\n",
    "from gensim.models import Word2Vec\n",
    "import numpy as np\n",
    "\n",
    "\n",
    "def train_word2vec_embeddings(\n",
    "    train_texts, word_index, vocab_size=5000, embedding_dim=128\n",
    "):\n",
    "    \"\"\"Tokenizes text, trains Word2Vec, and creates an embedding matrix.\"\"\"\n",
    "    sentences = [text.split() for text in train_texts]  # Convert text into word lists\n",
    "\n",
    "    # Train Word2Vec\n",
    "    word2vec_model = Word2Vec(\n",
    "        sentences=sentences,\n",
    "        vector_size=embedding_dim,\n",
    "        window=5,\n",
    "        min_count=1,\n",
    "        workers=4,\n",
    "        sg=1,\n",
    "    )\n",
    "\n",
    "    # Initialize embedding matrix\n",
    "    embedding_matrix = np.zeros((vocab_size, embedding_dim))\n",
    "\n",
    "    for word, i in word_index.items():\n",
    "        if i < vocab_size and word in word2vec_model.wv:\n",
    "            embedding_matrix[i] = word2vec_model.wv[word]\n",
    "\n",
    "    return embedding_matrix\n",
    "\n",
    "\n",
    "def create_rnn_model(\n",
    "    vocab_size,\n",
    "    embedding_matrix,\n",
    "    input_length,\n",
    "    rnn_units=64,\n",
    "    dropout_rate=0.5,\n",
    "    learning_rate=0.001,\n",
    "):\n",
    "    \"\"\"Creates an RNN model using Word2Vec embeddings.\"\"\"\n",
    "    model = Sequential(\n",
    "        [\n",
    "            Embedding(\n",
    "                vocab_size,\n",
    "                embedding_matrix.shape[1],\n",
    "                weights=[embedding_matrix],\n",
    "                input_length=input_length,\n",
    "                trainable=True,\n",
    "            ),\n",
    "            SimpleRNN(rnn_units, activation=\"tanh\"),\n",
    "            Dropout(dropout_rate),\n",
    "            Dense(1, activation=\"sigmoid\"),\n",
    "        ]\n",
    "    )\n",
    "\n",
    "    model.compile(\n",
    "        optimizer=Adam(learning_rate), loss=\"binary_crossentropy\", metrics=[\"accuracy\"]\n",
    "    )\n",
    "    return model"
   ]
  },
  {
   "cell_type": "code",
   "execution_count": 4,
   "metadata": {},
   "outputs": [],
   "source": [
    "from tensorflow.keras.preprocessing.text import Tokenizer\n",
    "from tensorflow.keras.preprocessing.sequence import pad_sequences\n",
    "from tensorflow.keras.callbacks import EarlyStopping\n",
    "from sklearn.model_selection import train_test_split\n",
    "\n",
    "\n",
    "def train_model(\n",
    "    train_data,\n",
    "    val_data,\n",
    "    rnn_units=64,\n",
    "    dropout_rate=0.5,\n",
    "    epochs=10,\n",
    "    batch_size=64,\n",
    "    grid_search=False,\n",
    "):\n",
    "    \"\"\"Trains an RNN model using Word2Vec embeddings.\"\"\"\n",
    "    seed = 42\n",
    "    tf.random.set_seed(seed)\n",
    "    np.random.seed(seed)\n",
    "\n",
    "    vocab_size = 5000\n",
    "    embedding_dim = 128\n",
    "    max_sequence_length = 300\n",
    "\n",
    "    print(f\"\\n🚀 Training RNN with rnn_units={rnn_units}, dropout_rate={dropout_rate}\")\n",
    "\n",
    "    # Extract texts and labels\n",
    "    train_texts = train_data[\"processed_full_content\"]\n",
    "    val_texts = val_data[\"processed_full_content\"]\n",
    "    y_train = train_data[\"label\"]\n",
    "    y_val = val_data[\"label\"]\n",
    "\n",
    "    # Tokenize texts\n",
    "    tokenizer = Tokenizer(num_words=vocab_size)\n",
    "    tokenizer.fit_on_texts(train_texts)\n",
    "\n",
    "    # Convert texts to sequences and pad them\n",
    "    X_train = pad_sequences(\n",
    "        tokenizer.texts_to_sequences(train_texts), maxlen=max_sequence_length\n",
    "    )\n",
    "    X_val = pad_sequences(\n",
    "        tokenizer.texts_to_sequences(val_texts), maxlen=max_sequence_length\n",
    "    )\n",
    "\n",
    "    # Train Word2Vec and create embeddings\n",
    "    embedding_matrix = train_word2vec_embeddings(\n",
    "        train_texts, tokenizer.word_index, vocab_size, embedding_dim\n",
    "    )\n",
    "\n",
    "    # Create and compile the RNN model\n",
    "    model = create_rnn_model(\n",
    "        vocab_size=vocab_size,\n",
    "        embedding_matrix=embedding_matrix,\n",
    "        input_length=max_sequence_length,\n",
    "        rnn_units=rnn_units,\n",
    "        dropout_rate=dropout_rate,\n",
    "    )\n",
    "\n",
    "    # Early stopping\n",
    "    early_stopping = EarlyStopping(\n",
    "        monitor=\"val_loss\", patience=3, restore_best_weights=True\n",
    "    )\n",
    "\n",
    "    # Train the model\n",
    "    model.fit(\n",
    "        X_train,\n",
    "        y_train,\n",
    "        epochs=epochs,\n",
    "        batch_size=batch_size,\n",
    "        validation_data=(X_val, y_val),\n",
    "        callbacks=[early_stopping],\n",
    "        verbose=1,\n",
    "    )\n",
    "\n",
    "    # Evaluate model performance on validation data\n",
    "    y_pred = (model.predict(X_val) > 0.5).astype(int).reshape(-1)\n",
    "\n",
    "    accuracy = accuracy_score(y_val, y_pred)\n",
    "    precision = precision_score(y_val, y_pred)\n",
    "    recall = recall_score(y_val, y_pred)\n",
    "    f1 = f1_score(y_val, y_pred)\n",
    "\n",
    "    #  Print evaluation metrics\n",
    "    result = {\n",
    "        \"accuracy\": accuracy,\n",
    "        \"precision\": precision,\n",
    "        \"recall\": recall,\n",
    "        \"f1_score\": f1,\n",
    "    }\n",
    "    print(\"\\n🏆 Training Results:\")\n",
    "\n",
    "    for key, value in result.items():\n",
    "        print(f\"🔹 {key.capitalize()}: {value:.4f}\")\n",
    "\n",
    "    return result if grid_search else model"
   ]
  },
  {
   "cell_type": "code",
   "execution_count": 5,
   "metadata": {},
   "outputs": [],
   "source": [
    "from sklearn.metrics import f1_score, accuracy_score, precision_score, recall_score\n",
    "import pandas as pd\n",
    "from tqdm import tqdm\n",
    "\n",
    "\n",
    "def evaluate_model(model, train_data, val_data):\n",
    "    print(\"Evaluating Model\")\n",
    "\n",
    "    max_words = 10000\n",
    "    max_sequence_length = 300\n",
    "\n",
    "    train_texts = train_data[\"processed_full_content\"]\n",
    "    tokenizer = Tokenizer(num_words=max_words)\n",
    "    tokenizer.fit_on_texts(train_texts)\n",
    "\n",
    "    y_val = val_data[\"label\"]\n",
    "    val_texts = val_data[\"processed_full_content\"]\n",
    "\n",
    "    X_val = pad_sequences(\n",
    "        tokenizer.texts_to_sequences(val_texts), maxlen=max_sequence_length\n",
    "    )\n",
    "    y_pred = (model.predict(X_val) > 0.5).astype(int)\n",
    "\n",
    "    accuracy = accuracy_score(y_val, y_pred)\n",
    "    precision = precision_score(y_val, y_pred)\n",
    "    recall = recall_score(y_val, y_pred)\n",
    "    f1 = f1_score(y_val, y_pred)\n",
    "\n",
    "    print(f\"Accuracy: {accuracy:.4f}\")\n",
    "    print(f\"Precision: {precision:.4f}\")\n",
    "    print(f\"Recall: {recall:.4f}\")\n",
    "    print(f\"F1: {f1:.4f}\")"
   ]
  },
  {
   "cell_type": "code",
   "execution_count": 7,
   "metadata": {},
   "outputs": [],
   "source": [
    "from sklearn.model_selection import StratifiedKFold\n",
    "\n",
    "\n",
    "def do_grid_search(data):\n",
    "    \"\"\"Performs Grid Search for the best RNN hyperparameters.\"\"\"\n",
    "    param_grid = {\"rnn_units\": [32, 64], \"dropout_rate\": [0.3, 0.5]}\n",
    "    results = []\n",
    "    best_score = 0\n",
    "    best_params = None\n",
    "\n",
    "    for rnn_units in param_grid[\"rnn_units\"]:\n",
    "        for dropout_rate in param_grid[\"dropout_rate\"]:\n",
    "            print(f\"\\n🔍 Testing rnn_units={rnn_units}, dropout_rate={dropout_rate}\")\n",
    "\n",
    "            kfold = StratifiedKFold(n_splits=5, shuffle=True, random_state=42)\n",
    "            fold_scores = []\n",
    "\n",
    "            for fold, (train_idx, val_idx) in enumerate(\n",
    "                kfold.split(\n",
    "                    data[\"processed_full_content\"], data[\"label\"].to_numpy().ravel()\n",
    "                ),\n",
    "                1,\n",
    "            ):\n",
    "                print(f\"\\n📂 Fold {fold}\")\n",
    "\n",
    "                train_data = data.iloc[train_idx]\n",
    "                val_data = data.iloc[val_idx]\n",
    "\n",
    "                result = train_model(\n",
    "                    train_data,\n",
    "                    val_data,\n",
    "                    rnn_units=rnn_units,\n",
    "                    dropout_rate=dropout_rate,\n",
    "                    grid_search=True,\n",
    "                )\n",
    "                fold_scores.append(result[\"f1_score\"])\n",
    "\n",
    "            avg_score = np.mean(fold_scores)\n",
    "            print(f\"📊 Average F1-score: {avg_score:.4f}\")\n",
    "\n",
    "            if avg_score > best_score:\n",
    "                best_score = avg_score\n",
    "                best_params = {\"rnn_units\": rnn_units, \"dropout_rate\": dropout_rate}\n",
    "\n",
    "    return best_params"
   ]
  },
  {
   "cell_type": "code",
   "execution_count": 12,
   "metadata": {},
   "outputs": [
    {
     "name": "stdout",
     "output_type": "stream",
     "text": [
      "<class 'pandas.core.frame.DataFrame'>\n",
      "RangeIndex: 60491 entries, 0 to 60490\n",
      "Data columns (total 3 columns):\n",
      " #   Column                  Non-Null Count  Dtype \n",
      "---  ------                  --------------  ----- \n",
      " 0   label                   60491 non-null  int64 \n",
      " 1   full_content            60491 non-null  object\n",
      " 2   processed_full_content  60491 non-null  object\n",
      "dtypes: int64(1), object(2)\n",
      "memory usage: 1.4+ MB\n"
     ]
    }
   ],
   "source": [
    "train_data = datasets[\"train\"].to_pandas()\n",
    "val_data = datasets[\"test\"].to_pandas()\n",
    "data = pd.concat([train_data, val_data], ignore_index=True)\n",
    "data.info()"
   ]
  },
  {
   "cell_type": "code",
   "execution_count": 9,
   "metadata": {},
   "outputs": [
    {
     "name": "stdout",
     "output_type": "stream",
     "text": [
      "\n",
      "🔍 Testing rnn_units=32, dropout_rate=0.3\n",
      "\n",
      "📂 Fold 1\n",
      "\n",
      "🚀 Training RNN with rnn_units=32, dropout_rate=0.3\n"
     ]
    },
    {
     "name": "stderr",
     "output_type": "stream",
     "text": [
      "/home/inflaton/miniconda3/envs/fake-news/lib/python3.11/site-packages/keras/src/layers/core/embedding.py:90: UserWarning: Argument `input_length` is deprecated. Just remove it.\n",
      "  warnings.warn(\n",
      "I0000 00:00:1740053971.517864  477213 gpu_device.cc:2022] Created device /job:localhost/replica:0/task:0/device:GPU:0 with 45525 MB memory:  -> device: 0, name: NVIDIA RTX 6000 Ada Generation, pci bus id: 0000:01:00.0, compute capability: 8.9\n"
     ]
    },
    {
     "name": "stdout",
     "output_type": "stream",
     "text": [
      "Epoch 1/10\n"
     ]
    },
    {
     "name": "stderr",
     "output_type": "stream",
     "text": [
      "WARNING: All log messages before absl::InitializeLog() is called are written to STDERR\n",
      "I0000 00:00:1740054029.613609  477569 service.cc:148] XLA service 0x7f1bb801b160 initialized for platform CUDA (this does not guarantee that XLA will be used). Devices:\n",
      "I0000 00:00:1740054029.613987  477569 service.cc:156]   StreamExecutor device (0): NVIDIA RTX 6000 Ada Generation, Compute Capability 8.9\n",
      "2025-02-20 20:20:29.649901: I tensorflow/compiler/mlir/tensorflow/utils/dump_mlir_util.cc:268] disabling MLIR crash reproducer, set env var `MLIR_CRASH_REPRODUCER_DIRECTORY` to enable.\n",
      "I0000 00:00:1740054029.751974  477569 cuda_dnn.cc:529] Loaded cuDNN version 90300\n"
     ]
    },
    {
     "name": "stdout",
     "output_type": "stream",
     "text": [
      "\u001b[1m  1/757\u001b[0m \u001b[37m━━━━━━━━━━━━━━━━━━━━\u001b[0m \u001b[1m37:56\u001b[0m 3s/step - accuracy: 0.4062 - loss: 0.8048"
     ]
    },
    {
     "name": "stderr",
     "output_type": "stream",
     "text": [
      "I0000 00:00:1740054030.300363  477569 device_compiler.h:188] Compiled cluster using XLA!  This line is logged at most once for the lifetime of the process.\n"
     ]
    },
    {
     "name": "stdout",
     "output_type": "stream",
     "text": [
      "\u001b[1m757/757\u001b[0m \u001b[32m━━━━━━━━━━━━━━━━━━━━\u001b[0m\u001b[37m\u001b[0m \u001b[1m33s\u001b[0m 40ms/step - accuracy: 0.8388 - loss: 0.3478 - val_accuracy: 0.9493 - val_loss: 0.1580\n",
      "Epoch 2/10\n",
      "\u001b[1m757/757\u001b[0m \u001b[32m━━━━━━━━━━━━━━━━━━━━\u001b[0m\u001b[37m\u001b[0m \u001b[1m24s\u001b[0m 32ms/step - accuracy: 0.9433 - loss: 0.1687 - val_accuracy: 0.9356 - val_loss: 0.1963\n",
      "Epoch 3/10\n",
      "\u001b[1m757/757\u001b[0m \u001b[32m━━━━━━━━━━━━━━━━━━━━\u001b[0m\u001b[37m\u001b[0m \u001b[1m24s\u001b[0m 32ms/step - accuracy: 0.9581 - loss: 0.1296 - val_accuracy: 0.9431 - val_loss: 0.1605\n",
      "Epoch 4/10\n",
      "\u001b[1m757/757\u001b[0m \u001b[32m━━━━━━━━━━━━━━━━━━━━\u001b[0m\u001b[37m\u001b[0m \u001b[1m24s\u001b[0m 31ms/step - accuracy: 0.9654 - loss: 0.1124 - val_accuracy: 0.9469 - val_loss: 0.1579\n",
      "Epoch 5/10\n",
      "\u001b[1m757/757\u001b[0m \u001b[32m━━━━━━━━━━━━━━━━━━━━\u001b[0m\u001b[37m\u001b[0m \u001b[1m22s\u001b[0m 29ms/step - accuracy: 0.9732 - loss: 0.0824 - val_accuracy: 0.9496 - val_loss: 0.1608\n",
      "Epoch 6/10\n",
      "\u001b[1m757/757\u001b[0m \u001b[32m━━━━━━━━━━━━━━━━━━━━\u001b[0m\u001b[37m\u001b[0m \u001b[1m24s\u001b[0m 32ms/step - accuracy: 0.9782 - loss: 0.0703 - val_accuracy: 0.9473 - val_loss: 0.1634\n",
      "Epoch 7/10\n",
      "\u001b[1m757/757\u001b[0m \u001b[32m━━━━━━━━━━━━━━━━━━━━\u001b[0m\u001b[37m\u001b[0m \u001b[1m26s\u001b[0m 34ms/step - accuracy: 0.9735 - loss: 0.0827 - val_accuracy: 0.9455 - val_loss: 0.1929\n",
      "\u001b[1m379/379\u001b[0m \u001b[32m━━━━━━━━━━━━━━━━━━━━\u001b[0m\u001b[37m\u001b[0m \u001b[1m10s\u001b[0m 25ms/step\n",
      "\n",
      "🏆 Training Results:\n",
      "🔹 Accuracy: 0.9469\n",
      "🔹 Precision: 0.9197\n",
      "🔹 Recall: 0.9626\n",
      "🔹 F1_score: 0.9406\n",
      "\n",
      "📂 Fold 2\n",
      "\n",
      "🚀 Training RNN with rnn_units=32, dropout_rate=0.3\n",
      "Epoch 1/10\n"
     ]
    },
    {
     "name": "stderr",
     "output_type": "stream",
     "text": [
      "/home/inflaton/miniconda3/envs/fake-news/lib/python3.11/site-packages/keras/src/layers/core/embedding.py:90: UserWarning: Argument `input_length` is deprecated. Just remove it.\n",
      "  warnings.warn(\n"
     ]
    },
    {
     "name": "stdout",
     "output_type": "stream",
     "text": [
      "\u001b[1m757/757\u001b[0m \u001b[32m━━━━━━━━━━━━━━━━━━━━\u001b[0m\u001b[37m\u001b[0m \u001b[1m27s\u001b[0m 34ms/step - accuracy: 0.8443 - loss: 0.3473 - val_accuracy: 0.9192 - val_loss: 0.2704\n",
      "Epoch 2/10\n",
      "\u001b[1m757/757\u001b[0m \u001b[32m━━━━━━━━━━━━━━━━━━━━\u001b[0m\u001b[37m\u001b[0m \u001b[1m25s\u001b[0m 33ms/step - accuracy: 0.9406 - loss: 0.1880 - val_accuracy: 0.9413 - val_loss: 0.1663\n",
      "Epoch 3/10\n",
      "\u001b[1m757/757\u001b[0m \u001b[32m━━━━━━━━━━━━━━━━━━━━\u001b[0m\u001b[37m\u001b[0m \u001b[1m24s\u001b[0m 32ms/step - accuracy: 0.9370 - loss: 0.1752 - val_accuracy: 0.9356 - val_loss: 0.1795\n",
      "Epoch 4/10\n",
      "\u001b[1m757/757\u001b[0m \u001b[32m━━━━━━━━━━━━━━━━━━━━\u001b[0m\u001b[37m\u001b[0m \u001b[1m21s\u001b[0m 28ms/step - accuracy: 0.9647 - loss: 0.1075 - val_accuracy: 0.9494 - val_loss: 0.1583\n",
      "Epoch 5/10\n",
      "\u001b[1m757/757\u001b[0m \u001b[32m━━━━━━━━━━━━━━━━━━━━\u001b[0m\u001b[37m\u001b[0m \u001b[1m26s\u001b[0m 34ms/step - accuracy: 0.9720 - loss: 0.0870 - val_accuracy: 0.9491 - val_loss: 0.1635\n",
      "Epoch 6/10\n",
      "\u001b[1m757/757\u001b[0m \u001b[32m━━━━━━━━━━━━━━━━━━━━\u001b[0m\u001b[37m\u001b[0m \u001b[1m24s\u001b[0m 31ms/step - accuracy: 0.9762 - loss: 0.0732 - val_accuracy: 0.9457 - val_loss: 0.1740\n",
      "Epoch 7/10\n",
      "\u001b[1m757/757\u001b[0m \u001b[32m━━━━━━━━━━━━━━━━━━━━\u001b[0m\u001b[37m\u001b[0m \u001b[1m23s\u001b[0m 31ms/step - accuracy: 0.9639 - loss: 0.1136 - val_accuracy: 0.9491 - val_loss: 0.1767\n",
      "\u001b[1m379/379\u001b[0m \u001b[32m━━━━━━━━━━━━━━━━━━━━\u001b[0m\u001b[37m\u001b[0m \u001b[1m10s\u001b[0m 25ms/step\n",
      "\n",
      "🏆 Training Results:\n",
      "🔹 Accuracy: 0.9494\n",
      "🔹 Precision: 0.9680\n",
      "🔹 Recall: 0.9146\n",
      "🔹 F1_score: 0.9405\n",
      "\n",
      "📂 Fold 3\n",
      "\n",
      "🚀 Training RNN with rnn_units=32, dropout_rate=0.3\n",
      "Epoch 1/10\n"
     ]
    },
    {
     "name": "stderr",
     "output_type": "stream",
     "text": [
      "/home/inflaton/miniconda3/envs/fake-news/lib/python3.11/site-packages/keras/src/layers/core/embedding.py:90: UserWarning: Argument `input_length` is deprecated. Just remove it.\n",
      "  warnings.warn(\n"
     ]
    },
    {
     "name": "stdout",
     "output_type": "stream",
     "text": [
      "\u001b[1m757/757\u001b[0m \u001b[32m━━━━━━━━━━━━━━━━━━━━\u001b[0m\u001b[37m\u001b[0m \u001b[1m30s\u001b[0m 38ms/step - accuracy: 0.8268 - loss: 0.3583 - val_accuracy: 0.9459 - val_loss: 0.1541\n",
      "Epoch 2/10\n",
      "\u001b[1m757/757\u001b[0m \u001b[32m━━━━━━━━━━━━━━━━━━━━\u001b[0m\u001b[37m\u001b[0m \u001b[1m27s\u001b[0m 35ms/step - accuracy: 0.9395 - loss: 0.1716 - val_accuracy: 0.9495 - val_loss: 0.1438\n",
      "Epoch 3/10\n",
      "\u001b[1m757/757\u001b[0m \u001b[32m━━━━━━━━━━━━━━━━━━━━\u001b[0m\u001b[37m\u001b[0m \u001b[1m27s\u001b[0m 36ms/step - accuracy: 0.9109 - loss: 0.2257 - val_accuracy: 0.9482 - val_loss: 0.1641\n",
      "Epoch 4/10\n",
      "\u001b[1m757/757\u001b[0m \u001b[32m━━━━━━━━━━━━━━━━━━━━\u001b[0m\u001b[37m\u001b[0m \u001b[1m29s\u001b[0m 39ms/step - accuracy: 0.9602 - loss: 0.1206 - val_accuracy: 0.8338 - val_loss: 0.3569\n",
      "Epoch 5/10\n",
      "\u001b[1m757/757\u001b[0m \u001b[32m━━━━━━━━━━━━━━━━━━━━\u001b[0m\u001b[37m\u001b[0m \u001b[1m26s\u001b[0m 35ms/step - accuracy: 0.9430 - loss: 0.1475 - val_accuracy: 0.9505 - val_loss: 0.1567\n",
      "\u001b[1m379/379\u001b[0m \u001b[32m━━━━━━━━━━━━━━━━━━━━\u001b[0m\u001b[37m\u001b[0m \u001b[1m9s\u001b[0m 23ms/step\n",
      "\n",
      "🏆 Training Results:\n",
      "🔹 Accuracy: 0.9495\n",
      "🔹 Precision: 0.9507\n",
      "🔹 Recall: 0.9329\n",
      "🔹 F1_score: 0.9417\n",
      "\n",
      "📂 Fold 4\n",
      "\n",
      "🚀 Training RNN with rnn_units=32, dropout_rate=0.3\n",
      "Epoch 1/10\n"
     ]
    },
    {
     "name": "stderr",
     "output_type": "stream",
     "text": [
      "/home/inflaton/miniconda3/envs/fake-news/lib/python3.11/site-packages/keras/src/layers/core/embedding.py:90: UserWarning: Argument `input_length` is deprecated. Just remove it.\n",
      "  warnings.warn(\n"
     ]
    },
    {
     "name": "stdout",
     "output_type": "stream",
     "text": [
      "\u001b[1m757/757\u001b[0m \u001b[32m━━━━━━━━━━━━━━━━━━━━\u001b[0m\u001b[37m\u001b[0m \u001b[1m28s\u001b[0m 35ms/step - accuracy: 0.8379 - loss: 0.3614 - val_accuracy: 0.8963 - val_loss: 0.2620\n",
      "Epoch 2/10\n",
      "\u001b[1m757/757\u001b[0m \u001b[32m━━━━━━━━━━━━━━━━━━━━\u001b[0m\u001b[37m\u001b[0m \u001b[1m24s\u001b[0m 32ms/step - accuracy: 0.9260 - loss: 0.2107 - val_accuracy: 0.9414 - val_loss: 0.1672\n",
      "Epoch 3/10\n",
      "\u001b[1m757/757\u001b[0m \u001b[32m━━━━━━━━━━━━━━━━━━━━\u001b[0m\u001b[37m\u001b[0m \u001b[1m26s\u001b[0m 35ms/step - accuracy: 0.9232 - loss: 0.2201 - val_accuracy: 0.9455 - val_loss: 0.1725\n",
      "Epoch 4/10\n",
      "\u001b[1m757/757\u001b[0m \u001b[32m━━━━━━━━━━━━━━━━━━━━\u001b[0m\u001b[37m\u001b[0m \u001b[1m25s\u001b[0m 33ms/step - accuracy: 0.9535 - loss: 0.1465 - val_accuracy: 0.9371 - val_loss: 0.1846\n",
      "Epoch 5/10\n",
      "\u001b[1m757/757\u001b[0m \u001b[32m━━━━━━━━━━━━━━━━━━━━\u001b[0m\u001b[37m\u001b[0m \u001b[1m28s\u001b[0m 36ms/step - accuracy: 0.9463 - loss: 0.1589 - val_accuracy: 0.8577 - val_loss: 0.3282\n",
      "\u001b[1m379/379\u001b[0m \u001b[32m━━━━━━━━━━━━━━━━━━━━\u001b[0m\u001b[37m\u001b[0m \u001b[1m10s\u001b[0m 26ms/step\n",
      "\n",
      "🏆 Training Results:\n",
      "🔹 Accuracy: 0.9414\n",
      "🔹 Precision: 0.9577\n",
      "🔹 Recall: 0.9061\n",
      "🔹 F1_score: 0.9312\n",
      "\n",
      "📂 Fold 5\n",
      "\n",
      "🚀 Training RNN with rnn_units=32, dropout_rate=0.3\n",
      "Epoch 1/10\n"
     ]
    },
    {
     "name": "stderr",
     "output_type": "stream",
     "text": [
      "/home/inflaton/miniconda3/envs/fake-news/lib/python3.11/site-packages/keras/src/layers/core/embedding.py:90: UserWarning: Argument `input_length` is deprecated. Just remove it.\n",
      "  warnings.warn(\n"
     ]
    },
    {
     "name": "stdout",
     "output_type": "stream",
     "text": [
      "\u001b[1m757/757\u001b[0m \u001b[32m━━━━━━━━━━━━━━━━━━━━\u001b[0m\u001b[37m\u001b[0m \u001b[1m30s\u001b[0m 38ms/step - accuracy: 0.8681 - loss: 0.3074 - val_accuracy: 0.8763 - val_loss: 0.3045\n",
      "Epoch 2/10\n",
      "\u001b[1m757/757\u001b[0m \u001b[32m━━━━━━━━━━━━━━━━━━━━\u001b[0m\u001b[37m\u001b[0m \u001b[1m26s\u001b[0m 35ms/step - accuracy: 0.9255 - loss: 0.2115 - val_accuracy: 0.9440 - val_loss: 0.1701\n",
      "Epoch 3/10\n",
      "\u001b[1m757/757\u001b[0m \u001b[32m━━━━━━━━━━━━━━━━━━━━\u001b[0m\u001b[37m\u001b[0m \u001b[1m25s\u001b[0m 32ms/step - accuracy: 0.9557 - loss: 0.1389 - val_accuracy: 0.9477 - val_loss: 0.1618\n",
      "Epoch 4/10\n",
      "\u001b[1m757/757\u001b[0m \u001b[32m━━━━━━━━━━━━━━━━━━━━\u001b[0m\u001b[37m\u001b[0m \u001b[1m28s\u001b[0m 37ms/step - accuracy: 0.9662 - loss: 0.1073 - val_accuracy: 0.9533 - val_loss: 0.1454\n",
      "Epoch 5/10\n",
      "\u001b[1m757/757\u001b[0m \u001b[32m━━━━━━━━━━━━━━━━━━━━\u001b[0m\u001b[37m\u001b[0m \u001b[1m25s\u001b[0m 33ms/step - accuracy: 0.9701 - loss: 0.0948 - val_accuracy: 0.9528 - val_loss: 0.1564\n",
      "Epoch 6/10\n",
      "\u001b[1m757/757\u001b[0m \u001b[32m━━━━━━━━━━━━━━━━━━━━\u001b[0m\u001b[37m\u001b[0m \u001b[1m25s\u001b[0m 33ms/step - accuracy: 0.9764 - loss: 0.0751 - val_accuracy: 0.9515 - val_loss: 0.1665\n",
      "Epoch 7/10\n",
      "\u001b[1m757/757\u001b[0m \u001b[32m━━━━━━━━━━━━━━━━━━━━\u001b[0m\u001b[37m\u001b[0m \u001b[1m23s\u001b[0m 31ms/step - accuracy: 0.9807 - loss: 0.0641 - val_accuracy: 0.9472 - val_loss: 0.1930\n",
      "\u001b[1m379/379\u001b[0m \u001b[32m━━━━━━━━━━━━━━━━━━━━\u001b[0m\u001b[37m\u001b[0m \u001b[1m9s\u001b[0m 24ms/step\n",
      "\n",
      "🏆 Training Results:\n",
      "🔹 Accuracy: 0.9533\n",
      "🔹 Precision: 0.9445\n",
      "🔹 Recall: 0.9490\n",
      "🔹 F1_score: 0.9467\n",
      "📊 Average F1-score: 0.9402\n",
      "\n",
      "🔍 Testing rnn_units=32, dropout_rate=0.5\n",
      "\n",
      "📂 Fold 1\n",
      "\n",
      "🚀 Training RNN with rnn_units=32, dropout_rate=0.5\n",
      "Epoch 1/10\n"
     ]
    },
    {
     "name": "stderr",
     "output_type": "stream",
     "text": [
      "/home/inflaton/miniconda3/envs/fake-news/lib/python3.11/site-packages/keras/src/layers/core/embedding.py:90: UserWarning: Argument `input_length` is deprecated. Just remove it.\n",
      "  warnings.warn(\n"
     ]
    },
    {
     "name": "stdout",
     "output_type": "stream",
     "text": [
      "\u001b[1m757/757\u001b[0m \u001b[32m━━━━━━━━━━━━━━━━━━━━\u001b[0m\u001b[37m\u001b[0m \u001b[1m31s\u001b[0m 39ms/step - accuracy: 0.8340 - loss: 0.3833 - val_accuracy: 0.8951 - val_loss: 0.2974\n",
      "Epoch 2/10\n",
      "\u001b[1m757/757\u001b[0m \u001b[32m━━━━━━━━━━━━━━━━━━━━\u001b[0m\u001b[37m\u001b[0m \u001b[1m25s\u001b[0m 33ms/step - accuracy: 0.9398 - loss: 0.1902 - val_accuracy: 0.9388 - val_loss: 0.1836\n",
      "Epoch 3/10\n",
      "\u001b[1m757/757\u001b[0m \u001b[32m━━━━━━━━━━━━━━━━━━━━\u001b[0m\u001b[37m\u001b[0m \u001b[1m27s\u001b[0m 35ms/step - accuracy: 0.9473 - loss: 0.1690 - val_accuracy: 0.9445 - val_loss: 0.1674\n",
      "Epoch 4/10\n",
      "\u001b[1m757/757\u001b[0m \u001b[32m━━━━━━━━━━━━━━━━━━━━\u001b[0m\u001b[37m\u001b[0m \u001b[1m26s\u001b[0m 34ms/step - accuracy: 0.9483 - loss: 0.1594 - val_accuracy: 0.9490 - val_loss: 0.1615\n",
      "Epoch 5/10\n",
      "\u001b[1m757/757\u001b[0m \u001b[32m━━━━━━━━━━━━━━━━━━━━\u001b[0m\u001b[37m\u001b[0m \u001b[1m22s\u001b[0m 29ms/step - accuracy: 0.9636 - loss: 0.1201 - val_accuracy: 0.9502 - val_loss: 0.1628\n",
      "Epoch 6/10\n",
      "\u001b[1m757/757\u001b[0m \u001b[32m━━━━━━━━━━━━━━━━━━━━\u001b[0m\u001b[37m\u001b[0m \u001b[1m23s\u001b[0m 30ms/step - accuracy: 0.9727 - loss: 0.0900 - val_accuracy: 0.9462 - val_loss: 0.1758\n",
      "Epoch 7/10\n",
      "\u001b[1m757/757\u001b[0m \u001b[32m━━━━━━━━━━━━━━━━━━━━\u001b[0m\u001b[37m\u001b[0m \u001b[1m23s\u001b[0m 30ms/step - accuracy: 0.9732 - loss: 0.0849 - val_accuracy: 0.9480 - val_loss: 0.1796\n",
      "\u001b[1m379/379\u001b[0m \u001b[32m━━━━━━━━━━━━━━━━━━━━\u001b[0m\u001b[37m\u001b[0m \u001b[1m11s\u001b[0m 30ms/step\n",
      "\n",
      "🏆 Training Results:\n",
      "🔹 Accuracy: 0.9490\n",
      "🔹 Precision: 0.9349\n",
      "🔹 Recall: 0.9496\n",
      "🔹 F1_score: 0.9422\n",
      "\n",
      "📂 Fold 2\n",
      "\n",
      "🚀 Training RNN with rnn_units=32, dropout_rate=0.5\n",
      "Epoch 1/10\n"
     ]
    },
    {
     "name": "stderr",
     "output_type": "stream",
     "text": [
      "/home/inflaton/miniconda3/envs/fake-news/lib/python3.11/site-packages/keras/src/layers/core/embedding.py:90: UserWarning: Argument `input_length` is deprecated. Just remove it.\n",
      "  warnings.warn(\n"
     ]
    },
    {
     "name": "stdout",
     "output_type": "stream",
     "text": [
      "\u001b[1m757/757\u001b[0m \u001b[32m━━━━━━━━━━━━━━━━━━━━\u001b[0m\u001b[37m\u001b[0m \u001b[1m29s\u001b[0m 36ms/step - accuracy: 0.8149 - loss: 0.4027 - val_accuracy: 0.8515 - val_loss: 0.3443\n",
      "Epoch 2/10\n",
      "\u001b[1m757/757\u001b[0m \u001b[32m━━━━━━━━━━━━━━━━━━━━\u001b[0m\u001b[37m\u001b[0m \u001b[1m29s\u001b[0m 39ms/step - accuracy: 0.9066 - loss: 0.2524 - val_accuracy: 0.8707 - val_loss: 0.3750\n",
      "Epoch 3/10\n",
      "\u001b[1m757/757\u001b[0m \u001b[32m━━━━━━━━━━━━━━━━━━━━\u001b[0m\u001b[37m\u001b[0m \u001b[1m26s\u001b[0m 34ms/step - accuracy: 0.8580 - loss: 0.3345 - val_accuracy: 0.7985 - val_loss: 0.4256\n",
      "Epoch 4/10\n",
      "\u001b[1m757/757\u001b[0m \u001b[32m━━━━━━━━━━━━━━━━━━━━\u001b[0m\u001b[37m\u001b[0m \u001b[1m27s\u001b[0m 35ms/step - accuracy: 0.8500 - loss: 0.3527 - val_accuracy: 0.9243 - val_loss: 0.2356\n",
      "Epoch 5/10\n",
      "\u001b[1m757/757\u001b[0m \u001b[32m━━━━━━━━━━━━━━━━━━━━\u001b[0m\u001b[37m\u001b[0m \u001b[1m26s\u001b[0m 34ms/step - accuracy: 0.9385 - loss: 0.2038 - val_accuracy: 0.9246 - val_loss: 0.2001\n",
      "Epoch 6/10\n",
      "\u001b[1m757/757\u001b[0m \u001b[32m━━━━━━━━━━━━━━━━━━━━\u001b[0m\u001b[37m\u001b[0m \u001b[1m22s\u001b[0m 29ms/step - accuracy: 0.8723 - loss: 0.3371 - val_accuracy: 0.9044 - val_loss: 0.2532\n",
      "Epoch 7/10\n",
      "\u001b[1m757/757\u001b[0m \u001b[32m━━━━━━━━━━━━━━━━━━━━\u001b[0m\u001b[37m\u001b[0m \u001b[1m26s\u001b[0m 34ms/step - accuracy: 0.9196 - loss: 0.2270 - val_accuracy: 0.9344 - val_loss: 0.2058\n",
      "Epoch 8/10\n",
      "\u001b[1m757/757\u001b[0m \u001b[32m━━━━━━━━━━━━━━━━━━━━\u001b[0m\u001b[37m\u001b[0m \u001b[1m26s\u001b[0m 34ms/step - accuracy: 0.9470 - loss: 0.1717 - val_accuracy: 0.8457 - val_loss: 0.3600\n",
      "\u001b[1m379/379\u001b[0m \u001b[32m━━━━━━━━━━━━━━━━━━━━\u001b[0m\u001b[37m\u001b[0m \u001b[1m14s\u001b[0m 37ms/step\n",
      "\n",
      "🏆 Training Results:\n",
      "🔹 Accuracy: 0.9246\n",
      "🔹 Precision: 0.9559\n",
      "🔹 Recall: 0.8677\n",
      "🔹 F1_score: 0.9097\n",
      "\n",
      "📂 Fold 3\n",
      "\n",
      "🚀 Training RNN with rnn_units=32, dropout_rate=0.5\n",
      "Epoch 1/10\n"
     ]
    },
    {
     "name": "stderr",
     "output_type": "stream",
     "text": [
      "/home/inflaton/miniconda3/envs/fake-news/lib/python3.11/site-packages/keras/src/layers/core/embedding.py:90: UserWarning: Argument `input_length` is deprecated. Just remove it.\n",
      "  warnings.warn(\n"
     ]
    },
    {
     "name": "stdout",
     "output_type": "stream",
     "text": [
      "\u001b[1m757/757\u001b[0m \u001b[32m━━━━━━━━━━━━━━━━━━━━\u001b[0m\u001b[37m\u001b[0m \u001b[1m25s\u001b[0m 31ms/step - accuracy: 0.8212 - loss: 0.3792 - val_accuracy: 0.9311 - val_loss: 0.2153\n",
      "Epoch 2/10\n",
      "\u001b[1m757/757\u001b[0m \u001b[32m━━━━━━━━━━━━━━━━━━━━\u001b[0m\u001b[37m\u001b[0m \u001b[1m23s\u001b[0m 31ms/step - accuracy: 0.9390 - loss: 0.2012 - val_accuracy: 0.9206 - val_loss: 0.2244\n",
      "Epoch 3/10\n",
      "\u001b[1m757/757\u001b[0m \u001b[32m━━━━━━━━━━━━━━━━━━━━\u001b[0m\u001b[37m\u001b[0m \u001b[1m26s\u001b[0m 34ms/step - accuracy: 0.9457 - loss: 0.1687 - val_accuracy: 0.9130 - val_loss: 0.2325\n",
      "Epoch 4/10\n",
      "\u001b[1m757/757\u001b[0m \u001b[32m━━━━━━━━━━━━━━━━━━━━\u001b[0m\u001b[37m\u001b[0m \u001b[1m24s\u001b[0m 32ms/step - accuracy: 0.9438 - loss: 0.1671 - val_accuracy: 0.9483 - val_loss: 0.1567\n",
      "Epoch 5/10\n",
      "\u001b[1m757/757\u001b[0m \u001b[32m━━━━━━━━━━━━━━━━━━━━\u001b[0m\u001b[37m\u001b[0m \u001b[1m24s\u001b[0m 32ms/step - accuracy: 0.9460 - loss: 0.1628 - val_accuracy: 0.9463 - val_loss: 0.1739\n",
      "Epoch 6/10\n",
      "\u001b[1m757/757\u001b[0m \u001b[32m━━━━━━━━━━━━━━━━━━━━\u001b[0m\u001b[37m\u001b[0m \u001b[1m22s\u001b[0m 29ms/step - accuracy: 0.9633 - loss: 0.1226 - val_accuracy: 0.9235 - val_loss: 0.2414\n",
      "Epoch 7/10\n",
      "\u001b[1m757/757\u001b[0m \u001b[32m━━━━━━━━━━━━━━━━━━━━\u001b[0m\u001b[37m\u001b[0m \u001b[1m26s\u001b[0m 34ms/step - accuracy: 0.9207 - loss: 0.2245 - val_accuracy: 0.9484 - val_loss: 0.1694\n",
      "\u001b[1m379/379\u001b[0m \u001b[32m━━━━━━━━━━━━━━━━━━━━\u001b[0m\u001b[37m\u001b[0m \u001b[1m9s\u001b[0m 23ms/step\n",
      "\n",
      "🏆 Training Results:\n",
      "🔹 Accuracy: 0.9483\n",
      "🔹 Precision: 0.9473\n",
      "🔹 Recall: 0.9339\n",
      "🔹 F1_score: 0.9405\n",
      "\n",
      "📂 Fold 4\n",
      "\n",
      "🚀 Training RNN with rnn_units=32, dropout_rate=0.5\n",
      "Epoch 1/10\n"
     ]
    },
    {
     "name": "stderr",
     "output_type": "stream",
     "text": [
      "/home/inflaton/miniconda3/envs/fake-news/lib/python3.11/site-packages/keras/src/layers/core/embedding.py:90: UserWarning: Argument `input_length` is deprecated. Just remove it.\n",
      "  warnings.warn(\n"
     ]
    },
    {
     "name": "stdout",
     "output_type": "stream",
     "text": [
      "\u001b[1m757/757\u001b[0m \u001b[32m━━━━━━━━━━━━━━━━━━━━\u001b[0m\u001b[37m\u001b[0m \u001b[1m30s\u001b[0m 38ms/step - accuracy: 0.8097 - loss: 0.4060 - val_accuracy: 0.9064 - val_loss: 0.2463\n",
      "Epoch 2/10\n",
      "\u001b[1m757/757\u001b[0m \u001b[32m━━━━━━━━━━━━━━━━━━━━\u001b[0m\u001b[37m\u001b[0m \u001b[1m27s\u001b[0m 35ms/step - accuracy: 0.9250 - loss: 0.2256 - val_accuracy: 0.9475 - val_loss: 0.1739\n",
      "Epoch 3/10\n",
      "\u001b[1m757/757\u001b[0m \u001b[32m━━━━━━━━━━━━━━━━━━━━\u001b[0m\u001b[37m\u001b[0m \u001b[1m29s\u001b[0m 38ms/step - accuracy: 0.9466 - loss: 0.1703 - val_accuracy: 0.9405 - val_loss: 0.1767\n",
      "Epoch 4/10\n",
      "\u001b[1m757/757\u001b[0m \u001b[32m━━━━━━━━━━━━━━━━━━━━\u001b[0m\u001b[37m\u001b[0m \u001b[1m26s\u001b[0m 34ms/step - accuracy: 0.9467 - loss: 0.1588 - val_accuracy: 0.9465 - val_loss: 0.1743\n",
      "Epoch 5/10\n",
      "\u001b[1m757/757\u001b[0m \u001b[32m━━━━━━━━━━━━━━━━━━━━\u001b[0m\u001b[37m\u001b[0m \u001b[1m24s\u001b[0m 32ms/step - accuracy: 0.9561 - loss: 0.1401 - val_accuracy: 0.8992 - val_loss: 0.3077\n",
      "\u001b[1m379/379\u001b[0m \u001b[32m━━━━━━━━━━━━━━━━━━━━\u001b[0m\u001b[37m\u001b[0m \u001b[1m9s\u001b[0m 24ms/step\n",
      "\n",
      "🏆 Training Results:\n",
      "🔹 Accuracy: 0.9475\n",
      "🔹 Precision: 0.9419\n",
      "🔹 Recall: 0.9378\n",
      "🔹 F1_score: 0.9399\n",
      "\n",
      "📂 Fold 5\n",
      "\n",
      "🚀 Training RNN with rnn_units=32, dropout_rate=0.5\n",
      "Epoch 1/10\n"
     ]
    },
    {
     "name": "stderr",
     "output_type": "stream",
     "text": [
      "/home/inflaton/miniconda3/envs/fake-news/lib/python3.11/site-packages/keras/src/layers/core/embedding.py:90: UserWarning: Argument `input_length` is deprecated. Just remove it.\n",
      "  warnings.warn(\n"
     ]
    },
    {
     "name": "stdout",
     "output_type": "stream",
     "text": [
      "\u001b[1m757/757\u001b[0m \u001b[32m━━━━━━━━━━━━━━━━━━━━\u001b[0m\u001b[37m\u001b[0m \u001b[1m28s\u001b[0m 35ms/step - accuracy: 0.8488 - loss: 0.3480 - val_accuracy: 0.9403 - val_loss: 0.1755\n",
      "Epoch 2/10\n",
      "\u001b[1m757/757\u001b[0m \u001b[32m━━━━━━━━━━━━━━━━━━━━\u001b[0m\u001b[37m\u001b[0m \u001b[1m25s\u001b[0m 33ms/step - accuracy: 0.9470 - loss: 0.1694 - val_accuracy: 0.9455 - val_loss: 0.1737\n",
      "Epoch 3/10\n",
      "\u001b[1m757/757\u001b[0m \u001b[32m━━━━━━━━━━━━━━━━━━━━\u001b[0m\u001b[37m\u001b[0m \u001b[1m22s\u001b[0m 30ms/step - accuracy: 0.9507 - loss: 0.1477 - val_accuracy: 0.9296 - val_loss: 0.2046\n",
      "Epoch 4/10\n",
      "\u001b[1m757/757\u001b[0m \u001b[32m━━━━━━━━━━━━━━━━━━━━\u001b[0m\u001b[37m\u001b[0m \u001b[1m26s\u001b[0m 34ms/step - accuracy: 0.9529 - loss: 0.1525 - val_accuracy: 0.9465 - val_loss: 0.1762\n",
      "Epoch 5/10\n",
      "\u001b[1m757/757\u001b[0m \u001b[32m━━━━━━━━━━━━━━━━━━━━\u001b[0m\u001b[37m\u001b[0m \u001b[1m25s\u001b[0m 33ms/step - accuracy: 0.9633 - loss: 0.1198 - val_accuracy: 0.9445 - val_loss: 0.1833\n",
      "\u001b[1m379/379\u001b[0m \u001b[32m━━━━━━━━━━━━━━━━━━━━\u001b[0m\u001b[37m\u001b[0m \u001b[1m14s\u001b[0m 36ms/step\n",
      "\n",
      "🏆 Training Results:\n",
      "🔹 Accuracy: 0.9455\n",
      "🔹 Precision: 0.9614\n",
      "🔹 Recall: 0.9121\n",
      "🔹 F1_score: 0.9361\n",
      "📊 Average F1-score: 0.9337\n",
      "\n",
      "🔍 Testing rnn_units=64, dropout_rate=0.3\n",
      "\n",
      "📂 Fold 1\n",
      "\n",
      "🚀 Training RNN with rnn_units=64, dropout_rate=0.3\n",
      "Epoch 1/10\n"
     ]
    },
    {
     "name": "stderr",
     "output_type": "stream",
     "text": [
      "/home/inflaton/miniconda3/envs/fake-news/lib/python3.11/site-packages/keras/src/layers/core/embedding.py:90: UserWarning: Argument `input_length` is deprecated. Just remove it.\n",
      "  warnings.warn(\n"
     ]
    },
    {
     "name": "stdout",
     "output_type": "stream",
     "text": [
      "\u001b[1m757/757\u001b[0m \u001b[32m━━━━━━━━━━━━━━━━━━━━\u001b[0m\u001b[37m\u001b[0m \u001b[1m34s\u001b[0m 43ms/step - accuracy: 0.8767 - loss: 0.2923 - val_accuracy: 0.9544 - val_loss: 0.1411\n",
      "Epoch 2/10\n",
      "\u001b[1m757/757\u001b[0m \u001b[32m━━━━━━━━━━━━━━━━━━━━\u001b[0m\u001b[37m\u001b[0m \u001b[1m28s\u001b[0m 37ms/step - accuracy: 0.9530 - loss: 0.1413 - val_accuracy: 0.9474 - val_loss: 0.1511\n",
      "Epoch 3/10\n",
      "\u001b[1m757/757\u001b[0m \u001b[32m━━━━━━━━━━━━━━━━━━━━\u001b[0m\u001b[37m\u001b[0m \u001b[1m29s\u001b[0m 39ms/step - accuracy: 0.9630 - loss: 0.1132 - val_accuracy: 0.9496 - val_loss: 0.1498\n",
      "Epoch 4/10\n",
      "\u001b[1m757/757\u001b[0m \u001b[32m━━━━━━━━━━━━━━━━━━━━\u001b[0m\u001b[37m\u001b[0m \u001b[1m33s\u001b[0m 43ms/step - accuracy: 0.9721 - loss: 0.0892 - val_accuracy: 0.9415 - val_loss: 0.1633\n",
      "\u001b[1m379/379\u001b[0m \u001b[32m━━━━━━━━━━━━━━━━━━━━\u001b[0m\u001b[37m\u001b[0m \u001b[1m13s\u001b[0m 34ms/step\n",
      "\n",
      "🏆 Training Results:\n",
      "🔹 Accuracy: 0.9544\n",
      "🔹 Precision: 0.9546\n",
      "🔹 Recall: 0.9405\n",
      "🔹 F1_score: 0.9475\n",
      "\n",
      "📂 Fold 2\n",
      "\n",
      "🚀 Training RNN with rnn_units=64, dropout_rate=0.3\n",
      "Epoch 1/10\n"
     ]
    },
    {
     "name": "stderr",
     "output_type": "stream",
     "text": [
      "/home/inflaton/miniconda3/envs/fake-news/lib/python3.11/site-packages/keras/src/layers/core/embedding.py:90: UserWarning: Argument `input_length` is deprecated. Just remove it.\n",
      "  warnings.warn(\n"
     ]
    },
    {
     "name": "stdout",
     "output_type": "stream",
     "text": [
      "\u001b[1m757/757\u001b[0m \u001b[32m━━━━━━━━━━━━━━━━━━━━\u001b[0m\u001b[37m\u001b[0m \u001b[1m33s\u001b[0m 43ms/step - accuracy: 0.8823 - loss: 0.2872 - val_accuracy: 0.9465 - val_loss: 0.1615\n",
      "Epoch 2/10\n",
      "\u001b[1m757/757\u001b[0m \u001b[32m━━━━━━━━━━━━━━━━━━━━\u001b[0m\u001b[37m\u001b[0m \u001b[1m30s\u001b[0m 39ms/step - accuracy: 0.9506 - loss: 0.1493 - val_accuracy: 0.9531 - val_loss: 0.1449\n",
      "Epoch 3/10\n",
      "\u001b[1m757/757\u001b[0m \u001b[32m━━━━━━━━━━━━━━━━━━━━\u001b[0m\u001b[37m\u001b[0m \u001b[1m27s\u001b[0m 36ms/step - accuracy: 0.9547 - loss: 0.1348 - val_accuracy: 0.9449 - val_loss: 0.1553\n",
      "Epoch 4/10\n",
      "\u001b[1m757/757\u001b[0m \u001b[32m━━━━━━━━━━━━━━━━━━━━\u001b[0m\u001b[37m\u001b[0m \u001b[1m29s\u001b[0m 38ms/step - accuracy: 0.9166 - loss: 0.2171 - val_accuracy: 0.9482 - val_loss: 0.1510\n",
      "Epoch 5/10\n",
      "\u001b[1m757/757\u001b[0m \u001b[32m━━━━━━━━━━━━━━━━━━━━\u001b[0m\u001b[37m\u001b[0m \u001b[1m31s\u001b[0m 41ms/step - accuracy: 0.9602 - loss: 0.1219 - val_accuracy: 0.9440 - val_loss: 0.1775\n",
      "\u001b[1m379/379\u001b[0m \u001b[32m━━━━━━━━━━━━━━━━━━━━\u001b[0m\u001b[37m\u001b[0m \u001b[1m11s\u001b[0m 29ms/step\n",
      "\n",
      "🏆 Training Results:\n",
      "🔹 Accuracy: 0.9531\n",
      "🔹 Precision: 0.9530\n",
      "🔹 Recall: 0.9392\n",
      "🔹 F1_score: 0.9460\n",
      "\n",
      "📂 Fold 3\n",
      "\n",
      "🚀 Training RNN with rnn_units=64, dropout_rate=0.3\n",
      "Epoch 1/10\n"
     ]
    },
    {
     "name": "stderr",
     "output_type": "stream",
     "text": [
      "/home/inflaton/miniconda3/envs/fake-news/lib/python3.11/site-packages/keras/src/layers/core/embedding.py:90: UserWarning: Argument `input_length` is deprecated. Just remove it.\n",
      "  warnings.warn(\n"
     ]
    },
    {
     "name": "stdout",
     "output_type": "stream",
     "text": [
      "\u001b[1m757/757\u001b[0m \u001b[32m━━━━━━━━━━━━━━━━━━━━\u001b[0m\u001b[37m\u001b[0m \u001b[1m38s\u001b[0m 48ms/step - accuracy: 0.8712 - loss: 0.2986 - val_accuracy: 0.9433 - val_loss: 0.1595\n",
      "Epoch 2/10\n",
      "\u001b[1m757/757\u001b[0m \u001b[32m━━━━━━━━━━━━━━━━━━━━\u001b[0m\u001b[37m\u001b[0m \u001b[1m35s\u001b[0m 46ms/step - accuracy: 0.9526 - loss: 0.1383 - val_accuracy: 0.9435 - val_loss: 0.1592\n",
      "Epoch 3/10\n",
      "\u001b[1m757/757\u001b[0m \u001b[32m━━━━━━━━━━━━━━━━━━━━\u001b[0m\u001b[37m\u001b[0m \u001b[1m32s\u001b[0m 43ms/step - accuracy: 0.9499 - loss: 0.1443 - val_accuracy: 0.9523 - val_loss: 0.1421\n",
      "Epoch 4/10\n",
      "\u001b[1m757/757\u001b[0m \u001b[32m━━━━━━━━━━━━━━━━━━━━\u001b[0m\u001b[37m\u001b[0m \u001b[1m29s\u001b[0m 38ms/step - accuracy: 0.9200 - loss: 0.2128 - val_accuracy: 0.9522 - val_loss: 0.1510\n",
      "Epoch 5/10\n",
      "\u001b[1m757/757\u001b[0m \u001b[32m━━━━━━━━━━━━━━━━━━━━\u001b[0m\u001b[37m\u001b[0m \u001b[1m32s\u001b[0m 42ms/step - accuracy: 0.9438 - loss: 0.1590 - val_accuracy: 0.9481 - val_loss: 0.1603\n",
      "Epoch 6/10\n",
      "\u001b[1m757/757\u001b[0m \u001b[32m━━━━━━━━━━━━━━━━━━━━\u001b[0m\u001b[37m\u001b[0m \u001b[1m31s\u001b[0m 41ms/step - accuracy: 0.9553 - loss: 0.1373 - val_accuracy: 0.9464 - val_loss: 0.1661\n",
      "\u001b[1m379/379\u001b[0m \u001b[32m━━━━━━━━━━━━━━━━━━━━\u001b[0m\u001b[37m\u001b[0m \u001b[1m11s\u001b[0m 30ms/step\n",
      "\n",
      "🏆 Training Results:\n",
      "🔹 Accuracy: 0.9523\n",
      "🔹 Precision: 0.9436\n",
      "🔹 Recall: 0.9477\n",
      "🔹 F1_score: 0.9456\n",
      "\n",
      "📂 Fold 4\n",
      "\n",
      "🚀 Training RNN with rnn_units=64, dropout_rate=0.3\n",
      "Epoch 1/10\n"
     ]
    },
    {
     "name": "stderr",
     "output_type": "stream",
     "text": [
      "/home/inflaton/miniconda3/envs/fake-news/lib/python3.11/site-packages/keras/src/layers/core/embedding.py:90: UserWarning: Argument `input_length` is deprecated. Just remove it.\n",
      "  warnings.warn(\n"
     ]
    },
    {
     "name": "stdout",
     "output_type": "stream",
     "text": [
      "\u001b[1m757/757\u001b[0m \u001b[32m━━━━━━━━━━━━━━━━━━━━\u001b[0m\u001b[37m\u001b[0m \u001b[1m35s\u001b[0m 45ms/step - accuracy: 0.8492 - loss: 0.3304 - val_accuracy: 0.9317 - val_loss: 0.1797\n",
      "Epoch 2/10\n",
      "\u001b[1m757/757\u001b[0m \u001b[32m━━━━━━━━━━━━━━━━━━━━\u001b[0m\u001b[37m\u001b[0m \u001b[1m32s\u001b[0m 42ms/step - accuracy: 0.9490 - loss: 0.1510 - val_accuracy: 0.9514 - val_loss: 0.1432\n",
      "Epoch 3/10\n",
      "\u001b[1m757/757\u001b[0m \u001b[32m━━━━━━━━━━━━━━━━━━━━\u001b[0m\u001b[37m\u001b[0m \u001b[1m29s\u001b[0m 38ms/step - accuracy: 0.9547 - loss: 0.1296 - val_accuracy: 0.9452 - val_loss: 0.1601\n",
      "Epoch 4/10\n",
      "\u001b[1m757/757\u001b[0m \u001b[32m━━━━━━━━━━━━━━━━━━━━\u001b[0m\u001b[37m\u001b[0m \u001b[1m31s\u001b[0m 41ms/step - accuracy: 0.9425 - loss: 0.1623 - val_accuracy: 0.9240 - val_loss: 0.2402\n",
      "Epoch 5/10\n",
      "\u001b[1m757/757\u001b[0m \u001b[32m━━━━━━━━━━━━━━━━━━━━\u001b[0m\u001b[37m\u001b[0m \u001b[1m27s\u001b[0m 36ms/step - accuracy: 0.9585 - loss: 0.1317 - val_accuracy: 0.9514 - val_loss: 0.1571\n",
      "\u001b[1m379/379\u001b[0m \u001b[32m━━━━━━━━━━━━━━━━━━━━\u001b[0m\u001b[37m\u001b[0m \u001b[1m11s\u001b[0m 30ms/step\n",
      "\n",
      "🏆 Training Results:\n",
      "🔹 Accuracy: 0.9514\n",
      "🔹 Precision: 0.9413\n",
      "🔹 Recall: 0.9480\n",
      "🔹 F1_score: 0.9446\n",
      "\n",
      "📂 Fold 5\n",
      "\n",
      "🚀 Training RNN with rnn_units=64, dropout_rate=0.3\n",
      "Epoch 1/10\n"
     ]
    },
    {
     "name": "stderr",
     "output_type": "stream",
     "text": [
      "/home/inflaton/miniconda3/envs/fake-news/lib/python3.11/site-packages/keras/src/layers/core/embedding.py:90: UserWarning: Argument `input_length` is deprecated. Just remove it.\n",
      "  warnings.warn(\n"
     ]
    },
    {
     "name": "stdout",
     "output_type": "stream",
     "text": [
      "\u001b[1m757/757\u001b[0m \u001b[32m━━━━━━━━━━━━━━━━━━━━\u001b[0m\u001b[37m\u001b[0m \u001b[1m32s\u001b[0m 41ms/step - accuracy: 0.8615 - loss: 0.3064 - val_accuracy: 0.7930 - val_loss: 0.3943\n",
      "Epoch 2/10\n",
      "\u001b[1m757/757\u001b[0m \u001b[32m━━━━━━━━━━━━━━━━━━━━\u001b[0m\u001b[37m\u001b[0m \u001b[1m25s\u001b[0m 33ms/step - accuracy: 0.8754 - loss: 0.2952 - val_accuracy: 0.7099 - val_loss: 0.7560\n",
      "Epoch 3/10\n",
      "\u001b[1m757/757\u001b[0m \u001b[32m━━━━━━━━━━━━━━━━━━━━\u001b[0m\u001b[37m\u001b[0m \u001b[1m34s\u001b[0m 44ms/step - accuracy: 0.9158 - loss: 0.2140 - val_accuracy: 0.9497 - val_loss: 0.1565\n",
      "Epoch 4/10\n",
      "\u001b[1m757/757\u001b[0m \u001b[32m━━━━━━━━━━━━━━━━━━━━\u001b[0m\u001b[37m\u001b[0m \u001b[1m30s\u001b[0m 39ms/step - accuracy: 0.9638 - loss: 0.1078 - val_accuracy: 0.9365 - val_loss: 0.1872\n",
      "Epoch 5/10\n",
      "\u001b[1m757/757\u001b[0m \u001b[32m━━━━━━━━━━━━━━━━━━━━\u001b[0m\u001b[37m\u001b[0m \u001b[1m44s\u001b[0m 43ms/step - accuracy: 0.9726 - loss: 0.0830 - val_accuracy: 0.9499 - val_loss: 0.1734\n",
      "Epoch 6/10\n",
      "\u001b[1m757/757\u001b[0m \u001b[32m━━━━━━━━━━━━━━━━━━━━\u001b[0m\u001b[37m\u001b[0m \u001b[1m31s\u001b[0m 40ms/step - accuracy: 0.9756 - loss: 0.0733 - val_accuracy: 0.9481 - val_loss: 0.1964\n",
      "\u001b[1m379/379\u001b[0m \u001b[32m━━━━━━━━━━━━━━━━━━━━\u001b[0m\u001b[37m\u001b[0m \u001b[1m14s\u001b[0m 38ms/step\n",
      "\n",
      "🏆 Training Results:\n",
      "🔹 Accuracy: 0.9497\n",
      "🔹 Precision: 0.9576\n",
      "🔹 Recall: 0.9259\n",
      "🔹 F1_score: 0.9415\n",
      "📊 Average F1-score: 0.9450\n",
      "\n",
      "🔍 Testing rnn_units=64, dropout_rate=0.5\n",
      "\n",
      "📂 Fold 1\n",
      "\n",
      "🚀 Training RNN with rnn_units=64, dropout_rate=0.5\n",
      "Epoch 1/10\n"
     ]
    },
    {
     "name": "stderr",
     "output_type": "stream",
     "text": [
      "/home/inflaton/miniconda3/envs/fake-news/lib/python3.11/site-packages/keras/src/layers/core/embedding.py:90: UserWarning: Argument `input_length` is deprecated. Just remove it.\n",
      "  warnings.warn(\n"
     ]
    },
    {
     "name": "stdout",
     "output_type": "stream",
     "text": [
      "\u001b[1m757/757\u001b[0m \u001b[32m━━━━━━━━━━━━━━━━━━━━\u001b[0m\u001b[37m\u001b[0m \u001b[1m33s\u001b[0m 42ms/step - accuracy: 0.8337 - loss: 0.3633 - val_accuracy: 0.9281 - val_loss: 0.1976\n",
      "Epoch 2/10\n",
      "\u001b[1m757/757\u001b[0m \u001b[32m━━━━━━━━━━━━━━━━━━━━\u001b[0m\u001b[37m\u001b[0m \u001b[1m29s\u001b[0m 38ms/step - accuracy: 0.9409 - loss: 0.1749 - val_accuracy: 0.9545 - val_loss: 0.1346\n",
      "Epoch 3/10\n",
      "\u001b[1m757/757\u001b[0m \u001b[32m━━━━━━━━━━━━━━━━━━━━\u001b[0m\u001b[37m\u001b[0m \u001b[1m27s\u001b[0m 36ms/step - accuracy: 0.9556 - loss: 0.1302 - val_accuracy: 0.9474 - val_loss: 0.1486\n",
      "Epoch 4/10\n",
      "\u001b[1m757/757\u001b[0m \u001b[32m━━━━━━━━━━━━━━━━━━━━\u001b[0m\u001b[37m\u001b[0m \u001b[1m31s\u001b[0m 41ms/step - accuracy: 0.9605 - loss: 0.1193 - val_accuracy: 0.9474 - val_loss: 0.1557\n",
      "Epoch 5/10\n",
      "\u001b[1m757/757\u001b[0m \u001b[32m━━━━━━━━━━━━━━━━━━━━\u001b[0m\u001b[37m\u001b[0m \u001b[1m32s\u001b[0m 43ms/step - accuracy: 0.9686 - loss: 0.0959 - val_accuracy: 0.9496 - val_loss: 0.1602\n",
      "\u001b[1m379/379\u001b[0m \u001b[32m━━━━━━━━━━━━━━━━━━━━\u001b[0m\u001b[37m\u001b[0m \u001b[1m13s\u001b[0m 34ms/step\n",
      "\n",
      "🏆 Training Results:\n",
      "🔹 Accuracy: 0.9545\n",
      "🔹 Precision: 0.9509\n",
      "🔹 Recall: 0.9448\n",
      "🔹 F1_score: 0.9479\n",
      "\n",
      "📂 Fold 2\n",
      "\n",
      "🚀 Training RNN with rnn_units=64, dropout_rate=0.5\n",
      "Epoch 1/10\n"
     ]
    },
    {
     "name": "stderr",
     "output_type": "stream",
     "text": [
      "/home/inflaton/miniconda3/envs/fake-news/lib/python3.11/site-packages/keras/src/layers/core/embedding.py:90: UserWarning: Argument `input_length` is deprecated. Just remove it.\n",
      "  warnings.warn(\n"
     ]
    },
    {
     "name": "stdout",
     "output_type": "stream",
     "text": [
      "\u001b[1m757/757\u001b[0m \u001b[32m━━━━━━━━━━━━━━━━━━━━\u001b[0m\u001b[37m\u001b[0m \u001b[1m32s\u001b[0m 41ms/step - accuracy: 0.8547 - loss: 0.3344 - val_accuracy: 0.9302 - val_loss: 0.2101\n",
      "Epoch 2/10\n",
      "\u001b[1m757/757\u001b[0m \u001b[32m━━━━━━━━━━━━━━━━━━━━\u001b[0m\u001b[37m\u001b[0m \u001b[1m29s\u001b[0m 39ms/step - accuracy: 0.8953 - loss: 0.2723 - val_accuracy: 0.9375 - val_loss: 0.1643\n",
      "Epoch 3/10\n",
      "\u001b[1m757/757\u001b[0m \u001b[32m━━━━━━━━━━━━━━━━━━━━\u001b[0m\u001b[37m\u001b[0m \u001b[1m28s\u001b[0m 37ms/step - accuracy: 0.9475 - loss: 0.1526 - val_accuracy: 0.9526 - val_loss: 0.1510\n",
      "Epoch 4/10\n",
      "\u001b[1m757/757\u001b[0m \u001b[32m━━━━━━━━━━━━━━━━━━━━\u001b[0m\u001b[37m\u001b[0m \u001b[1m26s\u001b[0m 34ms/step - accuracy: 0.9426 - loss: 0.1595 - val_accuracy: 0.9230 - val_loss: 0.2171\n",
      "Epoch 5/10\n",
      "\u001b[1m757/757\u001b[0m \u001b[32m━━━━━━━━━━━━━━━━━━━━\u001b[0m\u001b[37m\u001b[0m \u001b[1m28s\u001b[0m 37ms/step - accuracy: 0.9465 - loss: 0.1664 - val_accuracy: 0.9463 - val_loss: 0.1626\n",
      "Epoch 6/10\n",
      "\u001b[1m757/757\u001b[0m \u001b[32m━━━━━━━━━━━━━━━━━━━━\u001b[0m\u001b[37m\u001b[0m \u001b[1m31s\u001b[0m 41ms/step - accuracy: 0.9598 - loss: 0.1233 - val_accuracy: 0.9392 - val_loss: 0.1627\n",
      "\u001b[1m379/379\u001b[0m \u001b[32m━━━━━━━━━━━━━━━━━━━━\u001b[0m\u001b[37m\u001b[0m \u001b[1m11s\u001b[0m 28ms/step\n",
      "\n",
      "🏆 Training Results:\n",
      "🔹 Accuracy: 0.9526\n",
      "🔹 Precision: 0.9433\n",
      "🔹 Recall: 0.9488\n",
      "🔹 F1_score: 0.9460\n",
      "\n",
      "📂 Fold 3\n",
      "\n",
      "🚀 Training RNN with rnn_units=64, dropout_rate=0.5\n",
      "Epoch 1/10\n"
     ]
    },
    {
     "name": "stderr",
     "output_type": "stream",
     "text": [
      "/home/inflaton/miniconda3/envs/fake-news/lib/python3.11/site-packages/keras/src/layers/core/embedding.py:90: UserWarning: Argument `input_length` is deprecated. Just remove it.\n",
      "  warnings.warn(\n"
     ]
    },
    {
     "name": "stdout",
     "output_type": "stream",
     "text": [
      "\u001b[1m757/757\u001b[0m \u001b[32m━━━━━━━━━━━━━━━━━━━━\u001b[0m\u001b[37m\u001b[0m \u001b[1m29s\u001b[0m 37ms/step - accuracy: 0.8767 - loss: 0.2928 - val_accuracy: 0.9411 - val_loss: 0.1726\n",
      "Epoch 2/10\n",
      "\u001b[1m757/757\u001b[0m \u001b[32m━━━━━━━━━━━━━━━━━━━━\u001b[0m\u001b[37m\u001b[0m \u001b[1m29s\u001b[0m 38ms/step - accuracy: 0.9035 - loss: 0.2512 - val_accuracy: 0.9445 - val_loss: 0.1534\n",
      "Epoch 3/10\n",
      "\u001b[1m757/757\u001b[0m \u001b[32m━━━━━━━━━━━━━━━━━━━━\u001b[0m\u001b[37m\u001b[0m \u001b[1m27s\u001b[0m 36ms/step - accuracy: 0.9419 - loss: 0.1770 - val_accuracy: 0.9470 - val_loss: 0.1534\n",
      "Epoch 4/10\n",
      "\u001b[1m757/757\u001b[0m \u001b[32m━━━━━━━━━━━━━━━━━━━━\u001b[0m\u001b[37m\u001b[0m \u001b[1m28s\u001b[0m 37ms/step - accuracy: 0.9597 - loss: 0.1242 - val_accuracy: 0.8277 - val_loss: 0.5195\n",
      "Epoch 5/10\n",
      "\u001b[1m757/757\u001b[0m \u001b[32m━━━━━━━━━━━━━━━━━━━━\u001b[0m\u001b[37m\u001b[0m \u001b[1m27s\u001b[0m 36ms/step - accuracy: 0.9528 - loss: 0.1422 - val_accuracy: 0.9535 - val_loss: 0.1420\n",
      "Epoch 6/10\n",
      "\u001b[1m757/757\u001b[0m \u001b[32m━━━━━━━━━━━━━━━━━━━━\u001b[0m\u001b[37m\u001b[0m \u001b[1m30s\u001b[0m 40ms/step - accuracy: 0.9663 - loss: 0.1057 - val_accuracy: 0.9434 - val_loss: 0.1786\n",
      "Epoch 7/10\n",
      "\u001b[1m757/757\u001b[0m \u001b[32m━━━━━━━━━━━━━━━━━━━━\u001b[0m\u001b[37m\u001b[0m \u001b[1m29s\u001b[0m 39ms/step - accuracy: 0.9646 - loss: 0.1089 - val_accuracy: 0.9335 - val_loss: 0.2006\n",
      "Epoch 8/10\n",
      "\u001b[1m757/757\u001b[0m \u001b[32m━━━━━━━━━━━━━━━━━━━━\u001b[0m\u001b[37m\u001b[0m \u001b[1m30s\u001b[0m 39ms/step - accuracy: 0.9761 - loss: 0.0739 - val_accuracy: 0.9296 - val_loss: 0.2086\n",
      "\u001b[1m379/379\u001b[0m \u001b[32m━━━━━━━━━━━━━━━━━━━━\u001b[0m\u001b[37m\u001b[0m \u001b[1m12s\u001b[0m 32ms/step\n",
      "\n",
      "🏆 Training Results:\n",
      "🔹 Accuracy: 0.9535\n",
      "🔹 Precision: 0.9368\n",
      "🔹 Recall: 0.9582\n",
      "🔹 F1_score: 0.9474\n",
      "\n",
      "📂 Fold 4\n",
      "\n",
      "🚀 Training RNN with rnn_units=64, dropout_rate=0.5\n",
      "Epoch 1/10\n"
     ]
    },
    {
     "name": "stderr",
     "output_type": "stream",
     "text": [
      "/home/inflaton/miniconda3/envs/fake-news/lib/python3.11/site-packages/keras/src/layers/core/embedding.py:90: UserWarning: Argument `input_length` is deprecated. Just remove it.\n",
      "  warnings.warn(\n"
     ]
    },
    {
     "name": "stdout",
     "output_type": "stream",
     "text": [
      "\u001b[1m757/757\u001b[0m \u001b[32m━━━━━━━━━━━━━━━━━━━━\u001b[0m\u001b[37m\u001b[0m \u001b[1m33s\u001b[0m 42ms/step - accuracy: 0.8443 - loss: 0.3528 - val_accuracy: 0.9410 - val_loss: 0.1628\n",
      "Epoch 2/10\n",
      "\u001b[1m757/757\u001b[0m \u001b[32m━━━━━━━━━━━━━━━━━━━━\u001b[0m\u001b[37m\u001b[0m \u001b[1m28s\u001b[0m 37ms/step - accuracy: 0.9462 - loss: 0.1597 - val_accuracy: 0.9468 - val_loss: 0.1570\n",
      "Epoch 3/10\n",
      "\u001b[1m757/757\u001b[0m \u001b[32m━━━━━━━━━━━━━━━━━━━━\u001b[0m\u001b[37m\u001b[0m \u001b[1m29s\u001b[0m 38ms/step - accuracy: 0.9567 - loss: 0.1311 - val_accuracy: 0.9397 - val_loss: 0.1759\n",
      "Epoch 4/10\n",
      "\u001b[1m757/757\u001b[0m \u001b[32m━━━━━━━━━━━━━━━━━━━━\u001b[0m\u001b[37m\u001b[0m \u001b[1m28s\u001b[0m 37ms/step - accuracy: 0.9591 - loss: 0.1276 - val_accuracy: 0.9495 - val_loss: 0.1572\n",
      "Epoch 5/10\n",
      "\u001b[1m757/757\u001b[0m \u001b[32m━━━━━━━━━━━━━━━━━━━━\u001b[0m\u001b[37m\u001b[0m \u001b[1m28s\u001b[0m 37ms/step - accuracy: 0.9664 - loss: 0.1056 - val_accuracy: 0.9459 - val_loss: 0.1645\n",
      "\u001b[1m379/379\u001b[0m \u001b[32m━━━━━━━━━━━━━━━━━━━━\u001b[0m\u001b[37m\u001b[0m \u001b[1m12s\u001b[0m 32ms/step\n",
      "\n",
      "🏆 Training Results:\n",
      "🔹 Accuracy: 0.9468\n",
      "🔹 Precision: 0.9678\n",
      "🔹 Recall: 0.9085\n",
      "🔹 F1_score: 0.9372\n",
      "\n",
      "📂 Fold 5\n",
      "\n",
      "🚀 Training RNN with rnn_units=64, dropout_rate=0.5\n",
      "Epoch 1/10\n"
     ]
    },
    {
     "name": "stderr",
     "output_type": "stream",
     "text": [
      "/home/inflaton/miniconda3/envs/fake-news/lib/python3.11/site-packages/keras/src/layers/core/embedding.py:90: UserWarning: Argument `input_length` is deprecated. Just remove it.\n",
      "  warnings.warn(\n"
     ]
    },
    {
     "name": "stdout",
     "output_type": "stream",
     "text": [
      "\u001b[1m757/757\u001b[0m \u001b[32m━━━━━━━━━━━━━━━━━━━━\u001b[0m\u001b[37m\u001b[0m \u001b[1m29s\u001b[0m 36ms/step - accuracy: 0.8571 - loss: 0.3174 - val_accuracy: 0.9403 - val_loss: 0.1676\n",
      "Epoch 2/10\n",
      "\u001b[1m757/757\u001b[0m \u001b[32m━━━━━━━━━━━━━━━━━━━━\u001b[0m\u001b[37m\u001b[0m \u001b[1m31s\u001b[0m 41ms/step - accuracy: 0.9475 - loss: 0.1517 - val_accuracy: 0.9390 - val_loss: 0.1735\n",
      "Epoch 3/10\n",
      "\u001b[1m757/757\u001b[0m \u001b[32m━━━━━━━━━━━━━━━━━━━━\u001b[0m\u001b[37m\u001b[0m \u001b[1m33s\u001b[0m 43ms/step - accuracy: 0.9603 - loss: 0.1166 - val_accuracy: 0.9011 - val_loss: 0.2458\n",
      "Epoch 4/10\n",
      "\u001b[1m757/757\u001b[0m \u001b[32m━━━━━━━━━━━━━━━━━━━━\u001b[0m\u001b[37m\u001b[0m \u001b[1m32s\u001b[0m 43ms/step - accuracy: 0.9326 - loss: 0.1866 - val_accuracy: 0.9449 - val_loss: 0.1682\n",
      "\u001b[1m379/379\u001b[0m \u001b[32m━━━━━━━━━━━━━━━━━━━━\u001b[0m\u001b[37m\u001b[0m \u001b[1m10s\u001b[0m 27ms/step\n",
      "\n",
      "🏆 Training Results:\n",
      "🔹 Accuracy: 0.9403\n",
      "🔹 Precision: 0.9408\n",
      "🔹 Recall: 0.9216\n",
      "🔹 F1_score: 0.9311\n",
      "📊 Average F1-score: 0.9419\n",
      "CPU times: user 1h 41min 53s, sys: 20min 17s, total: 2h 2min 10s\n",
      "Wall time: 1h 23min 22s\n"
     ]
    }
   ],
   "source": [
    "%%time\n",
    "best_params = do_grid_search(data)"
   ]
  },
  {
   "cell_type": "code",
   "execution_count": 10,
   "metadata": {},
   "outputs": [
    {
     "name": "stdout",
     "output_type": "stream",
     "text": [
      "\n",
      "🚀 Training RNN with rnn_units=64, dropout_rate=0.3\n",
      "Epoch 1/10\n"
     ]
    },
    {
     "name": "stderr",
     "output_type": "stream",
     "text": [
      "/home/inflaton/miniconda3/envs/fake-news/lib/python3.11/site-packages/keras/src/layers/core/embedding.py:90: UserWarning: Argument `input_length` is deprecated. Just remove it.\n",
      "  warnings.warn(\n"
     ]
    },
    {
     "name": "stdout",
     "output_type": "stream",
     "text": [
      "\u001b[1m851/851\u001b[0m \u001b[32m━━━━━━━━━━━━━━━━━━━━\u001b[0m\u001b[37m\u001b[0m \u001b[1m33s\u001b[0m 38ms/step - accuracy: 0.8755 - loss: 0.2881 - val_accuracy: 0.9450 - val_loss: 0.1763\n",
      "Epoch 2/10\n",
      "\u001b[1m851/851\u001b[0m \u001b[32m━━━━━━━━━━━━━━━━━━━━\u001b[0m\u001b[37m\u001b[0m \u001b[1m30s\u001b[0m 36ms/step - accuracy: 0.8983 - loss: 0.2596 - val_accuracy: 0.9458 - val_loss: 0.1523\n",
      "Epoch 3/10\n",
      "\u001b[1m851/851\u001b[0m \u001b[32m━━━━━━━━━━━━━━━━━━━━\u001b[0m\u001b[37m\u001b[0m \u001b[1m30s\u001b[0m 35ms/step - accuracy: 0.8440 - loss: 0.3406 - val_accuracy: 0.9410 - val_loss: 0.1743\n",
      "Epoch 4/10\n",
      "\u001b[1m851/851\u001b[0m \u001b[32m━━━━━━━━━━━━━━━━━━━━\u001b[0m\u001b[37m\u001b[0m \u001b[1m31s\u001b[0m 37ms/step - accuracy: 0.9086 - loss: 0.2363 - val_accuracy: 0.9458 - val_loss: 0.1668\n",
      "Epoch 5/10\n",
      "\u001b[1m851/851\u001b[0m \u001b[32m━━━━━━━━━━━━━━━━━━━━\u001b[0m\u001b[37m\u001b[0m \u001b[1m30s\u001b[0m 35ms/step - accuracy: 0.9525 - loss: 0.1420 - val_accuracy: 0.9471 - val_loss: 0.1551\n",
      "\u001b[1m190/190\u001b[0m \u001b[32m━━━━━━━━━━━━━━━━━━━━\u001b[0m\u001b[37m\u001b[0m \u001b[1m7s\u001b[0m 39ms/step\n",
      "\n",
      "🏆 Training Results:\n",
      "🔹 Accuracy: 0.9458\n",
      "🔹 Precision: 0.9431\n",
      "🔹 Recall: 0.9324\n",
      "🔹 F1_score: 0.9377\n",
      "CPU times: user 5min 36s, sys: 1min 5s, total: 6min 41s\n",
      "Wall time: 4min 4s\n"
     ]
    }
   ],
   "source": [
    "%%time\n",
    "model = train_model(\n",
    "    train_data,\n",
    "    val_data,\n",
    "    rnn_units=best_params[\"rnn_units\"],\n",
    "    dropout_rate=best_params[\"dropout_rate\"],\n",
    ")"
   ]
  },
  {
   "cell_type": "code",
   "execution_count": 11,
   "metadata": {},
   "outputs": [],
   "source": [
    "model.save(\"results/RNN_model_original.keras\")"
   ]
  },
  {
   "cell_type": "code",
   "execution_count": 12,
   "metadata": {},
   "outputs": [
    {
     "data": {
      "text/html": [
       "<pre style=\"white-space:pre;overflow-x:auto;line-height:normal;font-family:Menlo,'DejaVu Sans Mono',consolas,'Courier New',monospace\"><span style=\"font-weight: bold\">Model: \"sequential_20\"</span>\n",
       "</pre>\n"
      ],
      "text/plain": [
       "\u001b[1mModel: \"sequential_20\"\u001b[0m\n"
      ]
     },
     "metadata": {},
     "output_type": "display_data"
    },
    {
     "data": {
      "text/html": [
       "<pre style=\"white-space:pre;overflow-x:auto;line-height:normal;font-family:Menlo,'DejaVu Sans Mono',consolas,'Courier New',monospace\">┏━━━━━━━━━━━━━━━━━━━━━━━━━━━━━━━━━┳━━━━━━━━━━━━━━━━━━━━━━━━┳━━━━━━━━━━━━━━━┓\n",
       "┃<span style=\"font-weight: bold\"> Layer (type)                    </span>┃<span style=\"font-weight: bold\"> Output Shape           </span>┃<span style=\"font-weight: bold\">       Param # </span>┃\n",
       "┡━━━━━━━━━━━━━━━━━━━━━━━━━━━━━━━━━╇━━━━━━━━━━━━━━━━━━━━━━━━╇━━━━━━━━━━━━━━━┩\n",
       "│ embedding_20 (<span style=\"color: #0087ff; text-decoration-color: #0087ff\">Embedding</span>)        │ (<span style=\"color: #00d7ff; text-decoration-color: #00d7ff\">None</span>, <span style=\"color: #00af00; text-decoration-color: #00af00\">300</span>, <span style=\"color: #00af00; text-decoration-color: #00af00\">128</span>)       │       <span style=\"color: #00af00; text-decoration-color: #00af00\">640,000</span> │\n",
       "├─────────────────────────────────┼────────────────────────┼───────────────┤\n",
       "│ simple_rnn_20 (<span style=\"color: #0087ff; text-decoration-color: #0087ff\">SimpleRNN</span>)       │ (<span style=\"color: #00d7ff; text-decoration-color: #00d7ff\">None</span>, <span style=\"color: #00af00; text-decoration-color: #00af00\">64</span>)             │        <span style=\"color: #00af00; text-decoration-color: #00af00\">12,352</span> │\n",
       "├─────────────────────────────────┼────────────────────────┼───────────────┤\n",
       "│ dropout_20 (<span style=\"color: #0087ff; text-decoration-color: #0087ff\">Dropout</span>)            │ (<span style=\"color: #00d7ff; text-decoration-color: #00d7ff\">None</span>, <span style=\"color: #00af00; text-decoration-color: #00af00\">64</span>)             │             <span style=\"color: #00af00; text-decoration-color: #00af00\">0</span> │\n",
       "├─────────────────────────────────┼────────────────────────┼───────────────┤\n",
       "│ dense_20 (<span style=\"color: #0087ff; text-decoration-color: #0087ff\">Dense</span>)                │ (<span style=\"color: #00d7ff; text-decoration-color: #00d7ff\">None</span>, <span style=\"color: #00af00; text-decoration-color: #00af00\">1</span>)              │            <span style=\"color: #00af00; text-decoration-color: #00af00\">65</span> │\n",
       "└─────────────────────────────────┴────────────────────────┴───────────────┘\n",
       "</pre>\n"
      ],
      "text/plain": [
       "┏━━━━━━━━━━━━━━━━━━━━━━━━━━━━━━━━━┳━━━━━━━━━━━━━━━━━━━━━━━━┳━━━━━━━━━━━━━━━┓\n",
       "┃\u001b[1m \u001b[0m\u001b[1mLayer (type)                   \u001b[0m\u001b[1m \u001b[0m┃\u001b[1m \u001b[0m\u001b[1mOutput Shape          \u001b[0m\u001b[1m \u001b[0m┃\u001b[1m \u001b[0m\u001b[1m      Param #\u001b[0m\u001b[1m \u001b[0m┃\n",
       "┡━━━━━━━━━━━━━━━━━━━━━━━━━━━━━━━━━╇━━━━━━━━━━━━━━━━━━━━━━━━╇━━━━━━━━━━━━━━━┩\n",
       "│ embedding_20 (\u001b[38;5;33mEmbedding\u001b[0m)        │ (\u001b[38;5;45mNone\u001b[0m, \u001b[38;5;34m300\u001b[0m, \u001b[38;5;34m128\u001b[0m)       │       \u001b[38;5;34m640,000\u001b[0m │\n",
       "├─────────────────────────────────┼────────────────────────┼───────────────┤\n",
       "│ simple_rnn_20 (\u001b[38;5;33mSimpleRNN\u001b[0m)       │ (\u001b[38;5;45mNone\u001b[0m, \u001b[38;5;34m64\u001b[0m)             │        \u001b[38;5;34m12,352\u001b[0m │\n",
       "├─────────────────────────────────┼────────────────────────┼───────────────┤\n",
       "│ dropout_20 (\u001b[38;5;33mDropout\u001b[0m)            │ (\u001b[38;5;45mNone\u001b[0m, \u001b[38;5;34m64\u001b[0m)             │             \u001b[38;5;34m0\u001b[0m │\n",
       "├─────────────────────────────────┼────────────────────────┼───────────────┤\n",
       "│ dense_20 (\u001b[38;5;33mDense\u001b[0m)                │ (\u001b[38;5;45mNone\u001b[0m, \u001b[38;5;34m1\u001b[0m)              │            \u001b[38;5;34m65\u001b[0m │\n",
       "└─────────────────────────────────┴────────────────────────┴───────────────┘\n"
      ]
     },
     "metadata": {},
     "output_type": "display_data"
    },
    {
     "data": {
      "text/html": [
       "<pre style=\"white-space:pre;overflow-x:auto;line-height:normal;font-family:Menlo,'DejaVu Sans Mono',consolas,'Courier New',monospace\"><span style=\"font-weight: bold\"> Total params: </span><span style=\"color: #00af00; text-decoration-color: #00af00\">1,957,253</span> (7.47 MB)\n",
       "</pre>\n"
      ],
      "text/plain": [
       "\u001b[1m Total params: \u001b[0m\u001b[38;5;34m1,957,253\u001b[0m (7.47 MB)\n"
      ]
     },
     "metadata": {},
     "output_type": "display_data"
    },
    {
     "data": {
      "text/html": [
       "<pre style=\"white-space:pre;overflow-x:auto;line-height:normal;font-family:Menlo,'DejaVu Sans Mono',consolas,'Courier New',monospace\"><span style=\"font-weight: bold\"> Trainable params: </span><span style=\"color: #00af00; text-decoration-color: #00af00\">652,417</span> (2.49 MB)\n",
       "</pre>\n"
      ],
      "text/plain": [
       "\u001b[1m Trainable params: \u001b[0m\u001b[38;5;34m652,417\u001b[0m (2.49 MB)\n"
      ]
     },
     "metadata": {},
     "output_type": "display_data"
    },
    {
     "data": {
      "text/html": [
       "<pre style=\"white-space:pre;overflow-x:auto;line-height:normal;font-family:Menlo,'DejaVu Sans Mono',consolas,'Courier New',monospace\"><span style=\"font-weight: bold\"> Non-trainable params: </span><span style=\"color: #00af00; text-decoration-color: #00af00\">0</span> (0.00 B)\n",
       "</pre>\n"
      ],
      "text/plain": [
       "\u001b[1m Non-trainable params: \u001b[0m\u001b[38;5;34m0\u001b[0m (0.00 B)\n"
      ]
     },
     "metadata": {},
     "output_type": "display_data"
    },
    {
     "data": {
      "text/html": [
       "<pre style=\"white-space:pre;overflow-x:auto;line-height:normal;font-family:Menlo,'DejaVu Sans Mono',consolas,'Courier New',monospace\"><span style=\"font-weight: bold\"> Optimizer params: </span><span style=\"color: #00af00; text-decoration-color: #00af00\">1,304,836</span> (4.98 MB)\n",
       "</pre>\n"
      ],
      "text/plain": [
       "\u001b[1m Optimizer params: \u001b[0m\u001b[38;5;34m1,304,836\u001b[0m (4.98 MB)\n"
      ]
     },
     "metadata": {},
     "output_type": "display_data"
    }
   ],
   "source": [
    "# load model\n",
    "from tensorflow.keras.models import load_model\n",
    "\n",
    "model2 = load_model(\"results/RNN_model_original.keras\")\n",
    "model2.summary()"
   ]
  },
  {
   "cell_type": "code",
   "execution_count": 13,
   "metadata": {},
   "outputs": [
    {
     "name": "stdout",
     "output_type": "stream",
     "text": [
      "Evaluating Model\n",
      "\u001b[1m190/190\u001b[0m \u001b[32m━━━━━━━━━━━━━━━━━━━━\u001b[0m\u001b[37m\u001b[0m \u001b[1m7s\u001b[0m 35ms/step\n",
      "Accuracy: 0.9428\n",
      "Precision: 0.9492\n",
      "Recall: 0.9184\n",
      "F1: 0.9336\n",
      "CPU times: user 8.63 s, sys: 3.26 s, total: 11.9 s\n",
      "Wall time: 12.8 s\n"
     ]
    }
   ],
   "source": [
    "%%time\n",
    "evaluate_model(model, train_data, val_data)"
   ]
  },
  {
   "cell_type": "code",
   "execution_count": 14,
   "metadata": {},
   "outputs": [
    {
     "name": "stdout",
     "output_type": "stream",
     "text": [
      "Evaluating Model\n",
      "\u001b[1m190/190\u001b[0m \u001b[32m━━━━━━━━━━━━━━━━━━━━\u001b[0m\u001b[37m\u001b[0m \u001b[1m6s\u001b[0m 33ms/step\n",
      "Accuracy: 0.9428\n",
      "Precision: 0.9492\n",
      "Recall: 0.9184\n",
      "F1: 0.9336\n",
      "CPU times: user 8.95 s, sys: 1.81 s, total: 10.8 s\n",
      "Wall time: 12.6 s\n"
     ]
    }
   ],
   "source": [
    "%%time\n",
    "evaluate_model(model2, train_data, val_data)"
   ]
  },
  {
   "cell_type": "code",
   "execution_count": 10,
   "metadata": {},
   "outputs": [
    {
     "ename": "NameError",
     "evalue": "name 'train_data' is not defined",
     "output_type": "error",
     "traceback": [
      "\u001b[0;31m---------------------------------------------------------------------------\u001b[0m",
      "\u001b[0;31mNameError\u001b[0m                                 Traceback (most recent call last)",
      "Cell \u001b[0;32mIn[10], line 3\u001b[0m\n\u001b[1;32m      1\u001b[0m val_data_rewritten \u001b[38;5;241m=\u001b[39m datasets[\u001b[38;5;124m\"\u001b[39m\u001b[38;5;124mrewritten_test\u001b[39m\u001b[38;5;124m\"\u001b[39m]\u001b[38;5;241m.\u001b[39mto_pandas()\n\u001b[1;32m      2\u001b[0m train_data_rewritten \u001b[38;5;241m=\u001b[39m datasets[\u001b[38;5;124m\"\u001b[39m\u001b[38;5;124mrewritten_train\u001b[39m\u001b[38;5;124m\"\u001b[39m]\u001b[38;5;241m.\u001b[39mto_pandas()\n\u001b[0;32m----> 3\u001b[0m data_rewritten \u001b[38;5;241m=\u001b[39m pd\u001b[38;5;241m.\u001b[39mconcat([\u001b[43mtrain_data\u001b[49m, train_data_rewritten, val_data, val_data_rewritten], ignore_index\u001b[38;5;241m=\u001b[39m\u001b[38;5;28;01mTrue\u001b[39;00m)\n\u001b[1;32m      4\u001b[0m data_rewritten\u001b[38;5;241m.\u001b[39minfo()\n",
      "\u001b[0;31mNameError\u001b[0m: name 'train_data' is not defined"
     ]
    }
   ],
   "source": [
    "val_data_rewritten = datasets[\"rewritten_test\"].to_pandas()\n",
    "train_data_rewritten = datasets[\"rewritten_train\"].to_pandas()\n",
    "data_rewritten = pd.concat(\n",
    "    [train_data, train_data_rewritten, val_data, val_data_rewritten], ignore_index=True\n",
    ")\n",
    "data_rewritten.info()"
   ]
  },
  {
   "cell_type": "code",
   "execution_count": 16,
   "metadata": {},
   "outputs": [
    {
     "name": "stdout",
     "output_type": "stream",
     "text": [
      "Evaluating Model\n",
      "\u001b[1m190/190\u001b[0m \u001b[32m━━━━━━━━━━━━━━━━━━━━\u001b[0m\u001b[37m\u001b[0m \u001b[1m6s\u001b[0m 33ms/step\n",
      "Accuracy: 0.7476\n",
      "Precision: 0.8222\n",
      "Recall: 0.5399\n",
      "F1: 0.6518\n",
      "CPU times: user 8.62 s, sys: 2.33 s, total: 10.9 s\n",
      "Wall time: 12.6 s\n"
     ]
    }
   ],
   "source": [
    "%%time\n",
    "\n",
    "evaluate_model(model, train_data, val_data_rewritten)"
   ]
  },
  {
   "cell_type": "code",
   "execution_count": 17,
   "metadata": {},
   "outputs": [
    {
     "name": "stdout",
     "output_type": "stream",
     "text": [
      "Evaluating Model\n",
      "\u001b[1m190/190\u001b[0m \u001b[32m━━━━━━━━━━━━━━━━━━━━\u001b[0m\u001b[37m\u001b[0m \u001b[1m6s\u001b[0m 33ms/step\n",
      "Accuracy: 0.7476\n",
      "Precision: 0.8222\n",
      "Recall: 0.5399\n",
      "F1: 0.6518\n",
      "CPU times: user 8.36 s, sys: 3.15 s, total: 11.5 s\n",
      "Wall time: 12.4 s\n"
     ]
    }
   ],
   "source": [
    "%%time\n",
    "\n",
    "evaluate_model(model2, train_data, val_data_rewritten)"
   ]
  },
  {
   "cell_type": "code",
   "execution_count": 18,
   "metadata": {},
   "outputs": [
    {
     "name": "stdout",
     "output_type": "stream",
     "text": [
      "\n",
      "🔍 Testing rnn_units=32, dropout_rate=0.3\n",
      "\n",
      "📂 Fold 1\n",
      "\n",
      "🚀 Training RNN with rnn_units=32, dropout_rate=0.3\n",
      "Epoch 1/10\n"
     ]
    },
    {
     "name": "stderr",
     "output_type": "stream",
     "text": [
      "/home/inflaton/miniconda3/envs/fake-news/lib/python3.11/site-packages/keras/src/layers/core/embedding.py:90: UserWarning: Argument `input_length` is deprecated. Just remove it.\n",
      "  warnings.warn(\n"
     ]
    },
    {
     "name": "stdout",
     "output_type": "stream",
     "text": [
      "\u001b[1m1513/1513\u001b[0m \u001b[32m━━━━━━━━━━━━━━━━━━━━\u001b[0m\u001b[37m\u001b[0m \u001b[1m50s\u001b[0m 32ms/step - accuracy: 0.7651 - loss: 0.4858 - val_accuracy: 0.8893 - val_loss: 0.2961\n",
      "Epoch 2/10\n",
      "\u001b[1m1513/1513\u001b[0m \u001b[32m━━━━━━━━━━━━━━━━━━━━\u001b[0m\u001b[37m\u001b[0m \u001b[1m51s\u001b[0m 33ms/step - accuracy: 0.8557 - loss: 0.3523 - val_accuracy: 0.8897 - val_loss: 0.2829\n",
      "Epoch 3/10\n",
      "\u001b[1m1513/1513\u001b[0m \u001b[32m━━━━━━━━━━━━━━━━━━━━\u001b[0m\u001b[37m\u001b[0m \u001b[1m48s\u001b[0m 32ms/step - accuracy: 0.8482 - loss: 0.3651 - val_accuracy: 0.8579 - val_loss: 0.3296\n",
      "Epoch 4/10\n",
      "\u001b[1m1513/1513\u001b[0m \u001b[32m━━━━━━━━━━━━━━━━━━━━\u001b[0m\u001b[37m\u001b[0m \u001b[1m49s\u001b[0m 32ms/step - accuracy: 0.8860 - loss: 0.2858 - val_accuracy: 0.7471 - val_loss: 0.4992\n",
      "Epoch 5/10\n",
      "\u001b[1m1513/1513\u001b[0m \u001b[32m━━━━━━━━━━━━━━━━━━━━\u001b[0m\u001b[37m\u001b[0m \u001b[1m53s\u001b[0m 35ms/step - accuracy: 0.8256 - loss: 0.3945 - val_accuracy: 0.8469 - val_loss: 0.3139\n",
      "\u001b[1m757/757\u001b[0m \u001b[32m━━━━━━━━━━━━━━━━━━━━\u001b[0m\u001b[37m\u001b[0m \u001b[1m25s\u001b[0m 33ms/step\n",
      "\n",
      "🏆 Training Results:\n",
      "🔹 Accuracy: 0.8897\n",
      "🔹 Precision: 0.9150\n",
      "🔹 Recall: 0.8244\n",
      "🔹 F1_score: 0.8673\n",
      "\n",
      "📂 Fold 2\n",
      "\n",
      "🚀 Training RNN with rnn_units=32, dropout_rate=0.3\n",
      "Epoch 1/10\n"
     ]
    },
    {
     "name": "stderr",
     "output_type": "stream",
     "text": [
      "/home/inflaton/miniconda3/envs/fake-news/lib/python3.11/site-packages/keras/src/layers/core/embedding.py:90: UserWarning: Argument `input_length` is deprecated. Just remove it.\n",
      "  warnings.warn(\n"
     ]
    },
    {
     "name": "stdout",
     "output_type": "stream",
     "text": [
      "\u001b[1m1513/1513\u001b[0m \u001b[32m━━━━━━━━━━━━━━━━━━━━\u001b[0m\u001b[37m\u001b[0m \u001b[1m50s\u001b[0m 33ms/step - accuracy: 0.8014 - loss: 0.4309 - val_accuracy: 0.8612 - val_loss: 0.3659\n",
      "Epoch 2/10\n",
      "\u001b[1m1513/1513\u001b[0m \u001b[32m━━━━━━━━━━━━━━━━━━━━\u001b[0m\u001b[37m\u001b[0m \u001b[1m51s\u001b[0m 33ms/step - accuracy: 0.8126 - loss: 0.4210 - val_accuracy: 0.8885 - val_loss: 0.3054\n",
      "Epoch 3/10\n",
      "\u001b[1m1513/1513\u001b[0m \u001b[32m━━━━━━━━━━━━━━━━━━━━\u001b[0m\u001b[37m\u001b[0m \u001b[1m49s\u001b[0m 32ms/step - accuracy: 0.8621 - loss: 0.3490 - val_accuracy: 0.8428 - val_loss: 0.3574\n",
      "Epoch 4/10\n",
      "\u001b[1m1513/1513\u001b[0m \u001b[32m━━━━━━━━━━━━━━━━━━━━\u001b[0m\u001b[37m\u001b[0m \u001b[1m49s\u001b[0m 33ms/step - accuracy: 0.8862 - loss: 0.2966 - val_accuracy: 0.8853 - val_loss: 0.2860\n",
      "Epoch 5/10\n",
      "\u001b[1m1513/1513\u001b[0m \u001b[32m━━━━━━━━━━━━━━━━━━━━\u001b[0m\u001b[37m\u001b[0m \u001b[1m50s\u001b[0m 33ms/step - accuracy: 0.8955 - loss: 0.2676 - val_accuracy: 0.8994 - val_loss: 0.2669\n",
      "Epoch 6/10\n",
      "\u001b[1m1513/1513\u001b[0m \u001b[32m━━━━━━━━━━━━━━━━━━━━\u001b[0m\u001b[37m\u001b[0m \u001b[1m52s\u001b[0m 35ms/step - accuracy: 0.8883 - loss: 0.2879 - val_accuracy: 0.7937 - val_loss: 0.4373\n",
      "Epoch 7/10\n",
      "\u001b[1m1513/1513\u001b[0m \u001b[32m━━━━━━━━━━━━━━━━━━━━\u001b[0m\u001b[37m\u001b[0m \u001b[1m52s\u001b[0m 34ms/step - accuracy: 0.8371 - loss: 0.3777 - val_accuracy: 0.8404 - val_loss: 0.3535\n",
      "Epoch 8/10\n",
      "\u001b[1m1513/1513\u001b[0m \u001b[32m━━━━━━━━━━━━━━━━━━━━\u001b[0m\u001b[37m\u001b[0m \u001b[1m51s\u001b[0m 34ms/step - accuracy: 0.8774 - loss: 0.2918 - val_accuracy: 0.6688 - val_loss: 0.5618\n",
      "\u001b[1m757/757\u001b[0m \u001b[32m━━━━━━━━━━━━━━━━━━━━\u001b[0m\u001b[37m\u001b[0m \u001b[1m14s\u001b[0m 18ms/step\n",
      "\n",
      "🏆 Training Results:\n",
      "🔹 Accuracy: 0.8994\n",
      "🔹 Precision: 0.9004\n",
      "🔹 Recall: 0.8658\n",
      "🔹 F1_score: 0.8827\n",
      "\n",
      "📂 Fold 3\n",
      "\n",
      "🚀 Training RNN with rnn_units=32, dropout_rate=0.3\n",
      "Epoch 1/10\n"
     ]
    },
    {
     "name": "stderr",
     "output_type": "stream",
     "text": [
      "/home/inflaton/miniconda3/envs/fake-news/lib/python3.11/site-packages/keras/src/layers/core/embedding.py:90: UserWarning: Argument `input_length` is deprecated. Just remove it.\n",
      "  warnings.warn(\n"
     ]
    },
    {
     "name": "stdout",
     "output_type": "stream",
     "text": [
      "\u001b[1m1513/1513\u001b[0m \u001b[32m━━━━━━━━━━━━━━━━━━━━\u001b[0m\u001b[37m\u001b[0m \u001b[1m50s\u001b[0m 32ms/step - accuracy: 0.8135 - loss: 0.4238 - val_accuracy: 0.5136 - val_loss: 0.7978\n",
      "Epoch 2/10\n",
      "\u001b[1m1513/1513\u001b[0m \u001b[32m━━━━━━━━━━━━━━━━━━━━\u001b[0m\u001b[37m\u001b[0m \u001b[1m46s\u001b[0m 31ms/step - accuracy: 0.6866 - loss: 0.5572 - val_accuracy: 0.8806 - val_loss: 0.3226\n",
      "Epoch 3/10\n",
      "\u001b[1m1513/1513\u001b[0m \u001b[32m━━━━━━━━━━━━━━━━━━━━\u001b[0m\u001b[37m\u001b[0m \u001b[1m51s\u001b[0m 34ms/step - accuracy: 0.8739 - loss: 0.3385 - val_accuracy: 0.8672 - val_loss: 0.3543\n",
      "Epoch 4/10\n",
      "\u001b[1m1513/1513\u001b[0m \u001b[32m━━━━━━━━━━━━━━━━━━━━\u001b[0m\u001b[37m\u001b[0m \u001b[1m55s\u001b[0m 36ms/step - accuracy: 0.8663 - loss: 0.3473 - val_accuracy: 0.8806 - val_loss: 0.3144\n",
      "Epoch 5/10\n",
      "\u001b[1m1513/1513\u001b[0m \u001b[32m━━━━━━━━━━━━━━━━━━━━\u001b[0m\u001b[37m\u001b[0m \u001b[1m50s\u001b[0m 33ms/step - accuracy: 0.8849 - loss: 0.3007 - val_accuracy: 0.8825 - val_loss: 0.3118\n",
      "Epoch 6/10\n",
      "\u001b[1m1513/1513\u001b[0m \u001b[32m━━━━━━━━━━━━━━━━━━━━\u001b[0m\u001b[37m\u001b[0m \u001b[1m49s\u001b[0m 33ms/step - accuracy: 0.8778 - loss: 0.3222 - val_accuracy: 0.8372 - val_loss: 0.3423\n",
      "Epoch 7/10\n",
      "\u001b[1m1513/1513\u001b[0m \u001b[32m━━━━━━━━━━━━━━━━━━━━\u001b[0m\u001b[37m\u001b[0m \u001b[1m48s\u001b[0m 32ms/step - accuracy: 0.8856 - loss: 0.2865 - val_accuracy: 0.8784 - val_loss: 0.3490\n",
      "Epoch 8/10\n",
      "\u001b[1m1513/1513\u001b[0m \u001b[32m━━━━━━━━━━━━━━━━━━━━\u001b[0m\u001b[37m\u001b[0m \u001b[1m52s\u001b[0m 34ms/step - accuracy: 0.8849 - loss: 0.3202 - val_accuracy: 0.7748 - val_loss: 0.4514\n",
      "\u001b[1m757/757\u001b[0m \u001b[32m━━━━━━━━━━━━━━━━━━━━\u001b[0m\u001b[37m\u001b[0m \u001b[1m23s\u001b[0m 30ms/step\n",
      "\n",
      "🏆 Training Results:\n",
      "🔹 Accuracy: 0.8825\n",
      "🔹 Precision: 0.8461\n",
      "🔹 Recall: 0.8942\n",
      "🔹 F1_score: 0.8695\n",
      "\n",
      "📂 Fold 4\n",
      "\n",
      "🚀 Training RNN with rnn_units=32, dropout_rate=0.3\n",
      "Epoch 1/10\n"
     ]
    },
    {
     "name": "stderr",
     "output_type": "stream",
     "text": [
      "/home/inflaton/miniconda3/envs/fake-news/lib/python3.11/site-packages/keras/src/layers/core/embedding.py:90: UserWarning: Argument `input_length` is deprecated. Just remove it.\n",
      "  warnings.warn(\n"
     ]
    },
    {
     "name": "stdout",
     "output_type": "stream",
     "text": [
      "\u001b[1m1513/1513\u001b[0m \u001b[32m━━━━━━━━━━━━━━━━━━━━\u001b[0m\u001b[37m\u001b[0m \u001b[1m54s\u001b[0m 35ms/step - accuracy: 0.8081 - loss: 0.4272 - val_accuracy: 0.8929 - val_loss: 0.2943\n",
      "Epoch 2/10\n",
      "\u001b[1m1513/1513\u001b[0m \u001b[32m━━━━━━━━━━━━━━━━━━━━\u001b[0m\u001b[37m\u001b[0m \u001b[1m54s\u001b[0m 36ms/step - accuracy: 0.8209 - loss: 0.4150 - val_accuracy: 0.8919 - val_loss: 0.2956\n",
      "Epoch 3/10\n",
      "\u001b[1m1513/1513\u001b[0m \u001b[32m━━━━━━━━━━━━━━━━━━━━\u001b[0m\u001b[37m\u001b[0m \u001b[1m52s\u001b[0m 34ms/step - accuracy: 0.8743 - loss: 0.3289 - val_accuracy: 0.8735 - val_loss: 0.3195\n",
      "Epoch 4/10\n",
      "\u001b[1m1513/1513\u001b[0m \u001b[32m━━━━━━━━━━━━━━━━━━━━\u001b[0m\u001b[37m\u001b[0m \u001b[1m54s\u001b[0m 36ms/step - accuracy: 0.8811 - loss: 0.3176 - val_accuracy: 0.8899 - val_loss: 0.2808\n",
      "Epoch 5/10\n",
      "\u001b[1m1513/1513\u001b[0m \u001b[32m━━━━━━━━━━━━━━━━━━━━\u001b[0m\u001b[37m\u001b[0m \u001b[1m51s\u001b[0m 34ms/step - accuracy: 0.8913 - loss: 0.2851 - val_accuracy: 0.8549 - val_loss: 0.3778\n",
      "Epoch 6/10\n",
      "\u001b[1m1513/1513\u001b[0m \u001b[32m━━━━━━━━━━━━━━━━━━━━\u001b[0m\u001b[37m\u001b[0m \u001b[1m48s\u001b[0m 32ms/step - accuracy: 0.8839 - loss: 0.3119 - val_accuracy: 0.8945 - val_loss: 0.2715\n",
      "Epoch 7/10\n",
      "\u001b[1m1513/1513\u001b[0m \u001b[32m━━━━━━━━━━━━━━━━━━━━\u001b[0m\u001b[37m\u001b[0m \u001b[1m49s\u001b[0m 33ms/step - accuracy: 0.8954 - loss: 0.2794 - val_accuracy: 0.9009 - val_loss: 0.2782\n",
      "Epoch 8/10\n",
      "\u001b[1m1513/1513\u001b[0m \u001b[32m━━━━━━━━━━━━━━━━━━━━\u001b[0m\u001b[37m\u001b[0m \u001b[1m49s\u001b[0m 33ms/step - accuracy: 0.8446 - loss: 0.3532 - val_accuracy: 0.8725 - val_loss: 0.3124\n",
      "Epoch 9/10\n",
      "\u001b[1m1513/1513\u001b[0m \u001b[32m━━━━━━━━━━━━━━━━━━━━\u001b[0m\u001b[37m\u001b[0m \u001b[1m43s\u001b[0m 29ms/step - accuracy: 0.8951 - loss: 0.2717 - val_accuracy: 0.8939 - val_loss: 0.2794\n",
      "\u001b[1m757/757\u001b[0m \u001b[32m━━━━━━━━━━━━━━━━━━━━\u001b[0m\u001b[37m\u001b[0m \u001b[1m17s\u001b[0m 22ms/step\n",
      "\n",
      "🏆 Training Results:\n",
      "🔹 Accuracy: 0.8945\n",
      "🔹 Precision: 0.8794\n",
      "🔹 Recall: 0.8794\n",
      "🔹 F1_score: 0.8794\n",
      "\n",
      "📂 Fold 5\n",
      "\n",
      "🚀 Training RNN with rnn_units=32, dropout_rate=0.3\n",
      "Epoch 1/10\n"
     ]
    },
    {
     "name": "stderr",
     "output_type": "stream",
     "text": [
      "/home/inflaton/miniconda3/envs/fake-news/lib/python3.11/site-packages/keras/src/layers/core/embedding.py:90: UserWarning: Argument `input_length` is deprecated. Just remove it.\n",
      "  warnings.warn(\n"
     ]
    },
    {
     "name": "stdout",
     "output_type": "stream",
     "text": [
      "\u001b[1m1513/1513\u001b[0m \u001b[32m━━━━━━━━━━━━━━━━━━━━\u001b[0m\u001b[37m\u001b[0m \u001b[1m47s\u001b[0m 30ms/step - accuracy: 0.7504 - loss: 0.5095 - val_accuracy: 0.8587 - val_loss: 0.3684\n",
      "Epoch 2/10\n",
      "\u001b[1m1513/1513\u001b[0m \u001b[32m━━━━━━━━━━━━━━━━━━━━\u001b[0m\u001b[37m\u001b[0m \u001b[1m52s\u001b[0m 35ms/step - accuracy: 0.8564 - loss: 0.3608 - val_accuracy: 0.7334 - val_loss: 0.5084\n",
      "Epoch 3/10\n",
      "\u001b[1m1513/1513\u001b[0m \u001b[32m━━━━━━━━━━━━━━━━━━━━\u001b[0m\u001b[37m\u001b[0m \u001b[1m48s\u001b[0m 32ms/step - accuracy: 0.8191 - loss: 0.4057 - val_accuracy: 0.8618 - val_loss: 0.3444\n",
      "Epoch 4/10\n",
      "\u001b[1m1513/1513\u001b[0m \u001b[32m━━━━━━━━━━━━━━━━━━━━\u001b[0m\u001b[37m\u001b[0m \u001b[1m48s\u001b[0m 32ms/step - accuracy: 0.8730 - loss: 0.3267 - val_accuracy: 0.8691 - val_loss: 0.3300\n",
      "Epoch 5/10\n",
      "\u001b[1m1513/1513\u001b[0m \u001b[32m━━━━━━━━━━━━━━━━━━━━\u001b[0m\u001b[37m\u001b[0m \u001b[1m49s\u001b[0m 32ms/step - accuracy: 0.8610 - loss: 0.3364 - val_accuracy: 0.8689 - val_loss: 0.3235\n",
      "Epoch 6/10\n",
      "\u001b[1m1513/1513\u001b[0m \u001b[32m━━━━━━━━━━━━━━━━━━━━\u001b[0m\u001b[37m\u001b[0m \u001b[1m51s\u001b[0m 34ms/step - accuracy: 0.8823 - loss: 0.3072 - val_accuracy: 0.7728 - val_loss: 0.4351\n",
      "Epoch 7/10\n",
      "\u001b[1m1513/1513\u001b[0m \u001b[32m━━━━━━━━━━━━━━━━━━━━\u001b[0m\u001b[37m\u001b[0m \u001b[1m47s\u001b[0m 31ms/step - accuracy: 0.7897 - loss: 0.4187 - val_accuracy: 0.8146 - val_loss: 0.3794\n",
      "Epoch 8/10\n",
      "\u001b[1m1513/1513\u001b[0m \u001b[32m━━━━━━━━━━━━━━━━━━━━\u001b[0m\u001b[37m\u001b[0m \u001b[1m49s\u001b[0m 33ms/step - accuracy: 0.8608 - loss: 0.3390 - val_accuracy: 0.8616 - val_loss: 0.3474\n",
      "\u001b[1m757/757\u001b[0m \u001b[32m━━━━━━━━━━━━━━━━━━━━\u001b[0m\u001b[37m\u001b[0m \u001b[1m18s\u001b[0m 24ms/step\n",
      "\n",
      "🏆 Training Results:\n",
      "🔹 Accuracy: 0.8689\n",
      "🔹 Precision: 0.9123\n",
      "🔹 Recall: 0.7747\n",
      "🔹 F1_score: 0.8379\n",
      "📊 Average F1-score: 0.8674\n",
      "\n",
      "🔍 Testing rnn_units=32, dropout_rate=0.5\n",
      "\n",
      "📂 Fold 1\n",
      "\n",
      "🚀 Training RNN with rnn_units=32, dropout_rate=0.5\n",
      "Epoch 1/10\n"
     ]
    },
    {
     "name": "stderr",
     "output_type": "stream",
     "text": [
      "/home/inflaton/miniconda3/envs/fake-news/lib/python3.11/site-packages/keras/src/layers/core/embedding.py:90: UserWarning: Argument `input_length` is deprecated. Just remove it.\n",
      "  warnings.warn(\n"
     ]
    },
    {
     "name": "stdout",
     "output_type": "stream",
     "text": [
      "\u001b[1m1513/1513\u001b[0m \u001b[32m━━━━━━━━━━━━━━━━━━━━\u001b[0m\u001b[37m\u001b[0m \u001b[1m52s\u001b[0m 34ms/step - accuracy: 0.6900 - loss: 0.5841 - val_accuracy: 0.8751 - val_loss: 0.3169\n",
      "Epoch 2/10\n",
      "\u001b[1m1513/1513\u001b[0m \u001b[32m━━━━━━━━━━━━━━━━━━━━\u001b[0m\u001b[37m\u001b[0m \u001b[1m49s\u001b[0m 32ms/step - accuracy: 0.8639 - loss: 0.3557 - val_accuracy: 0.8777 - val_loss: 0.3180\n",
      "Epoch 3/10\n",
      "\u001b[1m1513/1513\u001b[0m \u001b[32m━━━━━━━━━━━━━━━━━━━━\u001b[0m\u001b[37m\u001b[0m \u001b[1m50s\u001b[0m 33ms/step - accuracy: 0.8523 - loss: 0.3728 - val_accuracy: 0.8692 - val_loss: 0.3556\n",
      "Epoch 4/10\n",
      "\u001b[1m1513/1513\u001b[0m \u001b[32m━━━━━━━━━━━━━━━━━━━━\u001b[0m\u001b[37m\u001b[0m \u001b[1m56s\u001b[0m 37ms/step - accuracy: 0.8703 - loss: 0.3566 - val_accuracy: 0.8615 - val_loss: 0.3463\n",
      "\u001b[1m757/757\u001b[0m \u001b[32m━━━━━━━━━━━━━━━━━━━━\u001b[0m\u001b[37m\u001b[0m \u001b[1m24s\u001b[0m 31ms/step\n",
      "\n",
      "🏆 Training Results:\n",
      "🔹 Accuracy: 0.8751\n",
      "🔹 Precision: 0.8771\n",
      "🔹 Recall: 0.8309\n",
      "🔹 F1_score: 0.8534\n",
      "\n",
      "📂 Fold 2\n",
      "\n",
      "🚀 Training RNN with rnn_units=32, dropout_rate=0.5\n",
      "Epoch 1/10\n"
     ]
    },
    {
     "name": "stderr",
     "output_type": "stream",
     "text": [
      "/home/inflaton/miniconda3/envs/fake-news/lib/python3.11/site-packages/keras/src/layers/core/embedding.py:90: UserWarning: Argument `input_length` is deprecated. Just remove it.\n",
      "  warnings.warn(\n"
     ]
    },
    {
     "name": "stdout",
     "output_type": "stream",
     "text": [
      "\u001b[1m1513/1513\u001b[0m \u001b[32m━━━━━━━━━━━━━━━━━━━━\u001b[0m\u001b[37m\u001b[0m \u001b[1m54s\u001b[0m 35ms/step - accuracy: 0.7710 - loss: 0.4816 - val_accuracy: 0.8886 - val_loss: 0.3097\n",
      "Epoch 2/10\n",
      "\u001b[1m1513/1513\u001b[0m \u001b[32m━━━━━━━━━━━━━━━━━━━━\u001b[0m\u001b[37m\u001b[0m \u001b[1m54s\u001b[0m 36ms/step - accuracy: 0.8772 - loss: 0.3291 - val_accuracy: 0.8724 - val_loss: 0.3296\n",
      "Epoch 3/10\n",
      "\u001b[1m1513/1513\u001b[0m \u001b[32m━━━━━━━━━━━━━━━━━━━━\u001b[0m\u001b[37m\u001b[0m \u001b[1m55s\u001b[0m 36ms/step - accuracy: 0.8730 - loss: 0.3294 - val_accuracy: 0.8773 - val_loss: 0.3435\n",
      "Epoch 4/10\n",
      "\u001b[1m1513/1513\u001b[0m \u001b[32m━━━━━━━━━━━━━━━━━━━━\u001b[0m\u001b[37m\u001b[0m \u001b[1m51s\u001b[0m 34ms/step - accuracy: 0.8816 - loss: 0.3349 - val_accuracy: 0.8563 - val_loss: 0.3489\n",
      "\u001b[1m757/757\u001b[0m \u001b[32m━━━━━━━━━━━━━━━━━━━━\u001b[0m\u001b[37m\u001b[0m \u001b[1m22s\u001b[0m 30ms/step\n",
      "\n",
      "🏆 Training Results:\n",
      "🔹 Accuracy: 0.8886\n",
      "🔹 Precision: 0.9004\n",
      "🔹 Recall: 0.8380\n",
      "🔹 F1_score: 0.8681\n",
      "\n",
      "📂 Fold 3\n",
      "\n",
      "🚀 Training RNN with rnn_units=32, dropout_rate=0.5\n",
      "Epoch 1/10\n"
     ]
    },
    {
     "name": "stderr",
     "output_type": "stream",
     "text": [
      "/home/inflaton/miniconda3/envs/fake-news/lib/python3.11/site-packages/keras/src/layers/core/embedding.py:90: UserWarning: Argument `input_length` is deprecated. Just remove it.\n",
      "  warnings.warn(\n"
     ]
    },
    {
     "name": "stdout",
     "output_type": "stream",
     "text": [
      "\u001b[1m1513/1513\u001b[0m \u001b[32m━━━━━━━━━━━━━━━━━━━━\u001b[0m\u001b[37m\u001b[0m \u001b[1m57s\u001b[0m 37ms/step - accuracy: 0.7735 - loss: 0.4908 - val_accuracy: 0.8821 - val_loss: 0.2994\n",
      "Epoch 2/10\n",
      "\u001b[1m1513/1513\u001b[0m \u001b[32m━━━━━━━━━━━━━━━━━━━━\u001b[0m\u001b[37m\u001b[0m \u001b[1m53s\u001b[0m 35ms/step - accuracy: 0.8292 - loss: 0.3827 - val_accuracy: 0.7676 - val_loss: 0.4569\n",
      "Epoch 3/10\n",
      "\u001b[1m1513/1513\u001b[0m \u001b[32m━━━━━━━━━━━━━━━━━━━━\u001b[0m\u001b[37m\u001b[0m \u001b[1m52s\u001b[0m 35ms/step - accuracy: 0.8287 - loss: 0.3966 - val_accuracy: 0.8653 - val_loss: 0.3311\n",
      "Epoch 4/10\n",
      "\u001b[1m1513/1513\u001b[0m \u001b[32m━━━━━━━━━━━━━━━━━━━━\u001b[0m\u001b[37m\u001b[0m \u001b[1m53s\u001b[0m 35ms/step - accuracy: 0.8359 - loss: 0.3837 - val_accuracy: 0.8866 - val_loss: 0.2904\n",
      "Epoch 5/10\n",
      "\u001b[1m1513/1513\u001b[0m \u001b[32m━━━━━━━━━━━━━━━━━━━━\u001b[0m\u001b[37m\u001b[0m \u001b[1m51s\u001b[0m 34ms/step - accuracy: 0.8796 - loss: 0.3156 - val_accuracy: 0.8893 - val_loss: 0.2755\n",
      "Epoch 6/10\n",
      "\u001b[1m1513/1513\u001b[0m \u001b[32m━━━━━━━━━━━━━━━━━━━━\u001b[0m\u001b[37m\u001b[0m \u001b[1m53s\u001b[0m 35ms/step - accuracy: 0.8627 - loss: 0.3329 - val_accuracy: 0.8627 - val_loss: 0.3332\n",
      "Epoch 7/10\n",
      "\u001b[1m1513/1513\u001b[0m \u001b[32m━━━━━━━━━━━━━━━━━━━━\u001b[0m\u001b[37m\u001b[0m \u001b[1m57s\u001b[0m 37ms/step - accuracy: 0.8729 - loss: 0.3184 - val_accuracy: 0.8846 - val_loss: 0.3161\n",
      "Epoch 8/10\n",
      "\u001b[1m1513/1513\u001b[0m \u001b[32m━━━━━━━━━━━━━━━━━━━━\u001b[0m\u001b[37m\u001b[0m \u001b[1m50s\u001b[0m 33ms/step - accuracy: 0.8571 - loss: 0.3603 - val_accuracy: 0.7910 - val_loss: 0.4983\n",
      "\u001b[1m757/757\u001b[0m \u001b[32m━━━━━━━━━━━━━━━━━━━━\u001b[0m\u001b[37m\u001b[0m \u001b[1m17s\u001b[0m 22ms/step\n",
      "\n",
      "🏆 Training Results:\n",
      "🔹 Accuracy: 0.8893\n",
      "🔹 Precision: 0.8800\n",
      "🔹 Recall: 0.8650\n",
      "🔹 F1_score: 0.8724\n",
      "\n",
      "📂 Fold 4\n",
      "\n",
      "🚀 Training RNN with rnn_units=32, dropout_rate=0.5\n",
      "Epoch 1/10\n"
     ]
    },
    {
     "name": "stderr",
     "output_type": "stream",
     "text": [
      "/home/inflaton/miniconda3/envs/fake-news/lib/python3.11/site-packages/keras/src/layers/core/embedding.py:90: UserWarning: Argument `input_length` is deprecated. Just remove it.\n",
      "  warnings.warn(\n"
     ]
    },
    {
     "name": "stdout",
     "output_type": "stream",
     "text": [
      "\u001b[1m1513/1513\u001b[0m \u001b[32m━━━━━━━━━━━━━━━━━━━━\u001b[0m\u001b[37m\u001b[0m \u001b[1m63s\u001b[0m 41ms/step - accuracy: 0.7732 - loss: 0.4825 - val_accuracy: 0.6778 - val_loss: 0.7507\n",
      "Epoch 2/10\n",
      "\u001b[1m1513/1513\u001b[0m \u001b[32m━━━━━━━━━━━━━━━━━━━━\u001b[0m\u001b[37m\u001b[0m \u001b[1m56s\u001b[0m 37ms/step - accuracy: 0.8222 - loss: 0.4166 - val_accuracy: 0.8572 - val_loss: 0.3602\n",
      "Epoch 3/10\n",
      "\u001b[1m1513/1513\u001b[0m \u001b[32m━━━━━━━━━━━━━━━━━━━━\u001b[0m\u001b[37m\u001b[0m \u001b[1m60s\u001b[0m 40ms/step - accuracy: 0.8678 - loss: 0.3435 - val_accuracy: 0.7768 - val_loss: 0.4686\n",
      "Epoch 4/10\n",
      "\u001b[1m1513/1513\u001b[0m \u001b[32m━━━━━━━━━━━━━━━━━━━━\u001b[0m\u001b[37m\u001b[0m \u001b[1m56s\u001b[0m 37ms/step - accuracy: 0.7867 - loss: 0.4661 - val_accuracy: 0.7186 - val_loss: 0.5347\n",
      "Epoch 5/10\n",
      "\u001b[1m1513/1513\u001b[0m \u001b[32m━━━━━━━━━━━━━━━━━━━━\u001b[0m\u001b[37m\u001b[0m \u001b[1m52s\u001b[0m 34ms/step - accuracy: 0.7816 - loss: 0.4511 - val_accuracy: 0.8756 - val_loss: 0.3351\n",
      "Epoch 6/10\n",
      "\u001b[1m1513/1513\u001b[0m \u001b[32m━━━━━━━━━━━━━━━━━━━━\u001b[0m\u001b[37m\u001b[0m \u001b[1m50s\u001b[0m 33ms/step - accuracy: 0.8748 - loss: 0.3262 - val_accuracy: 0.8539 - val_loss: 0.3646\n",
      "Epoch 7/10\n",
      "\u001b[1m1513/1513\u001b[0m \u001b[32m━━━━━━━━━━━━━━━━━━━━\u001b[0m\u001b[37m\u001b[0m \u001b[1m49s\u001b[0m 33ms/step - accuracy: 0.8801 - loss: 0.3254 - val_accuracy: 0.8624 - val_loss: 0.3321\n",
      "Epoch 8/10\n",
      "\u001b[1m1513/1513\u001b[0m \u001b[32m━━━━━━━━━━━━━━━━━━━━\u001b[0m\u001b[37m\u001b[0m \u001b[1m57s\u001b[0m 38ms/step - accuracy: 0.8895 - loss: 0.2899 - val_accuracy: 0.8819 - val_loss: 0.2950\n",
      "Epoch 9/10\n",
      "\u001b[1m1513/1513\u001b[0m \u001b[32m━━━━━━━━━━━━━━━━━━━━\u001b[0m\u001b[37m\u001b[0m \u001b[1m51s\u001b[0m 34ms/step - accuracy: 0.8967 - loss: 0.2732 - val_accuracy: 0.8771 - val_loss: 0.3238\n",
      "Epoch 10/10\n",
      "\u001b[1m1513/1513\u001b[0m \u001b[32m━━━━━━━━━━━━━━━━━━━━\u001b[0m\u001b[37m\u001b[0m \u001b[1m51s\u001b[0m 34ms/step - accuracy: 0.8630 - loss: 0.3258 - val_accuracy: 0.8678 - val_loss: 0.4337\n",
      "\u001b[1m757/757\u001b[0m \u001b[32m━━━━━━━━━━━━━━━━━━━━\u001b[0m\u001b[37m\u001b[0m \u001b[1m21s\u001b[0m 28ms/step\n",
      "\n",
      "🏆 Training Results:\n",
      "🔹 Accuracy: 0.8819\n",
      "🔹 Precision: 0.8666\n",
      "🔹 Recall: 0.8629\n",
      "🔹 F1_score: 0.8647\n",
      "\n",
      "📂 Fold 5\n",
      "\n",
      "🚀 Training RNN with rnn_units=32, dropout_rate=0.5\n",
      "Epoch 1/10\n"
     ]
    },
    {
     "name": "stderr",
     "output_type": "stream",
     "text": [
      "/home/inflaton/miniconda3/envs/fake-news/lib/python3.11/site-packages/keras/src/layers/core/embedding.py:90: UserWarning: Argument `input_length` is deprecated. Just remove it.\n",
      "  warnings.warn(\n"
     ]
    },
    {
     "name": "stdout",
     "output_type": "stream",
     "text": [
      "\u001b[1m1513/1513\u001b[0m \u001b[32m━━━━━━━━━━━━━━━━━━━━\u001b[0m\u001b[37m\u001b[0m \u001b[1m51s\u001b[0m 33ms/step - accuracy: 0.7972 - loss: 0.4552 - val_accuracy: 0.8821 - val_loss: 0.3231\n",
      "Epoch 2/10\n",
      "\u001b[1m1513/1513\u001b[0m \u001b[32m━━━━━━━━━━━━━━━━━━━━\u001b[0m\u001b[37m\u001b[0m \u001b[1m54s\u001b[0m 35ms/step - accuracy: 0.8765 - loss: 0.3339 - val_accuracy: 0.8768 - val_loss: 0.3139\n",
      "Epoch 3/10\n",
      "\u001b[1m1513/1513\u001b[0m \u001b[32m━━━━━━━━━━━━━━━━━━━━\u001b[0m\u001b[37m\u001b[0m \u001b[1m53s\u001b[0m 35ms/step - accuracy: 0.8640 - loss: 0.3536 - val_accuracy: 0.7213 - val_loss: 0.5989\n",
      "Epoch 4/10\n",
      "\u001b[1m1513/1513\u001b[0m \u001b[32m━━━━━━━━━━━━━━━━━━━━\u001b[0m\u001b[37m\u001b[0m \u001b[1m61s\u001b[0m 40ms/step - accuracy: 0.8655 - loss: 0.3505 - val_accuracy: 0.8503 - val_loss: 0.3424\n",
      "Epoch 5/10\n",
      "\u001b[1m1513/1513\u001b[0m \u001b[32m━━━━━━━━━━━━━━━━━━━━\u001b[0m\u001b[37m\u001b[0m \u001b[1m52s\u001b[0m 34ms/step - accuracy: 0.8374 - loss: 0.3721 - val_accuracy: 0.8710 - val_loss: 0.3390\n",
      "\u001b[1m757/757\u001b[0m \u001b[32m━━━━━━━━━━━━━━━━━━━━\u001b[0m\u001b[37m\u001b[0m \u001b[1m13s\u001b[0m 18ms/step\n",
      "\n",
      "🏆 Training Results:\n",
      "🔹 Accuracy: 0.8768\n",
      "🔹 Precision: 0.9118\n",
      "🔹 Recall: 0.7954\n",
      "🔹 F1_score: 0.8496\n",
      "📊 Average F1-score: 0.8616\n",
      "\n",
      "🔍 Testing rnn_units=64, dropout_rate=0.3\n",
      "\n",
      "📂 Fold 1\n",
      "\n",
      "🚀 Training RNN with rnn_units=64, dropout_rate=0.3\n",
      "Epoch 1/10\n"
     ]
    },
    {
     "name": "stderr",
     "output_type": "stream",
     "text": [
      "/home/inflaton/miniconda3/envs/fake-news/lib/python3.11/site-packages/keras/src/layers/core/embedding.py:90: UserWarning: Argument `input_length` is deprecated. Just remove it.\n",
      "  warnings.warn(\n"
     ]
    },
    {
     "name": "stdout",
     "output_type": "stream",
     "text": [
      "\u001b[1m1513/1513\u001b[0m \u001b[32m━━━━━━━━━━━━━━━━━━━━\u001b[0m\u001b[37m\u001b[0m \u001b[1m64s\u001b[0m 42ms/step - accuracy: 0.8017 - loss: 0.4326 - val_accuracy: 0.7691 - val_loss: 0.4572\n",
      "Epoch 2/10\n",
      "\u001b[1m1513/1513\u001b[0m \u001b[32m━━━━━━━━━━━━━━━━━━━━\u001b[0m\u001b[37m\u001b[0m \u001b[1m61s\u001b[0m 41ms/step - accuracy: 0.8237 - loss: 0.4046 - val_accuracy: 0.8682 - val_loss: 0.3312\n",
      "Epoch 3/10\n",
      "\u001b[1m1513/1513\u001b[0m \u001b[32m━━━━━━━━━━━━━━━━━━━━\u001b[0m\u001b[37m\u001b[0m \u001b[1m70s\u001b[0m 46ms/step - accuracy: 0.8594 - loss: 0.3526 - val_accuracy: 0.8582 - val_loss: 0.3889\n",
      "Epoch 4/10\n",
      "\u001b[1m1513/1513\u001b[0m \u001b[32m━━━━━━━━━━━━━━━━━━━━\u001b[0m\u001b[37m\u001b[0m \u001b[1m62s\u001b[0m 41ms/step - accuracy: 0.8244 - loss: 0.3977 - val_accuracy: 0.8265 - val_loss: 0.3884\n",
      "Epoch 5/10\n",
      "\u001b[1m1513/1513\u001b[0m \u001b[32m━━━━━━━━━━━━━━━━━━━━\u001b[0m\u001b[37m\u001b[0m \u001b[1m75s\u001b[0m 49ms/step - accuracy: 0.8488 - loss: 0.3606 - val_accuracy: 0.8732 - val_loss: 0.3155\n",
      "Epoch 6/10\n",
      "\u001b[1m1513/1513\u001b[0m \u001b[32m━━━━━━━━━━━━━━━━━━━━\u001b[0m\u001b[37m\u001b[0m \u001b[1m66s\u001b[0m 44ms/step - accuracy: 0.8416 - loss: 0.3622 - val_accuracy: 0.8122 - val_loss: 0.4071\n",
      "Epoch 7/10\n",
      "\u001b[1m1513/1513\u001b[0m \u001b[32m━━━━━━━━━━━━━━━━━━━━\u001b[0m\u001b[37m\u001b[0m \u001b[1m69s\u001b[0m 46ms/step - accuracy: 0.8529 - loss: 0.3534 - val_accuracy: 0.8844 - val_loss: 0.2972\n",
      "Epoch 8/10\n",
      "\u001b[1m1513/1513\u001b[0m \u001b[32m━━━━━━━━━━━━━━━━━━━━\u001b[0m\u001b[37m\u001b[0m \u001b[1m67s\u001b[0m 44ms/step - accuracy: 0.8861 - loss: 0.2829 - val_accuracy: 0.9029 - val_loss: 0.2660\n",
      "Epoch 9/10\n",
      "\u001b[1m1513/1513\u001b[0m \u001b[32m━━━━━━━━━━━━━━━━━━━━\u001b[0m\u001b[37m\u001b[0m \u001b[1m72s\u001b[0m 48ms/step - accuracy: 0.8286 - loss: 0.3775 - val_accuracy: 0.7466 - val_loss: 0.4944\n",
      "Epoch 10/10\n",
      "\u001b[1m1513/1513\u001b[0m \u001b[32m━━━━━━━━━━━━━━━━━━━━\u001b[0m\u001b[37m\u001b[0m \u001b[1m64s\u001b[0m 43ms/step - accuracy: 0.8198 - loss: 0.3876 - val_accuracy: 0.8347 - val_loss: 0.3577\n",
      "\u001b[1m757/757\u001b[0m \u001b[32m━━━━━━━━━━━━━━━━━━━━\u001b[0m\u001b[37m\u001b[0m \u001b[1m19s\u001b[0m 26ms/step\n",
      "\n",
      "🏆 Training Results:\n",
      "🔹 Accuracy: 0.9029\n",
      "🔹 Precision: 0.9246\n",
      "🔹 Recall: 0.8471\n",
      "🔹 F1_score: 0.8842\n",
      "\n",
      "📂 Fold 2\n",
      "\n",
      "🚀 Training RNN with rnn_units=64, dropout_rate=0.3\n",
      "Epoch 1/10\n"
     ]
    },
    {
     "name": "stderr",
     "output_type": "stream",
     "text": [
      "/home/inflaton/miniconda3/envs/fake-news/lib/python3.11/site-packages/keras/src/layers/core/embedding.py:90: UserWarning: Argument `input_length` is deprecated. Just remove it.\n",
      "  warnings.warn(\n"
     ]
    },
    {
     "name": "stdout",
     "output_type": "stream",
     "text": [
      "\u001b[1m1513/1513\u001b[0m \u001b[32m━━━━━━━━━━━━━━━━━━━━\u001b[0m\u001b[37m\u001b[0m \u001b[1m65s\u001b[0m 42ms/step - accuracy: 0.8154 - loss: 0.4141 - val_accuracy: 0.8730 - val_loss: 0.3413\n",
      "Epoch 2/10\n",
      "\u001b[1m1513/1513\u001b[0m \u001b[32m━━━━━━━━━━━━━━━━━━━━\u001b[0m\u001b[37m\u001b[0m \u001b[1m63s\u001b[0m 42ms/step - accuracy: 0.7987 - loss: 0.4324 - val_accuracy: 0.8686 - val_loss: 0.3539\n",
      "Epoch 3/10\n",
      "\u001b[1m1513/1513\u001b[0m \u001b[32m━━━━━━━━━━━━━━━━━━━━\u001b[0m\u001b[37m\u001b[0m \u001b[1m65s\u001b[0m 43ms/step - accuracy: 0.8194 - loss: 0.4100 - val_accuracy: 0.8220 - val_loss: 0.4480\n",
      "Epoch 4/10\n",
      "\u001b[1m1513/1513\u001b[0m \u001b[32m━━━━━━━━━━━━━━━━━━━━\u001b[0m\u001b[37m\u001b[0m \u001b[1m68s\u001b[0m 45ms/step - accuracy: 0.7869 - loss: 0.4526 - val_accuracy: 0.8223 - val_loss: 0.3701\n",
      "\u001b[1m757/757\u001b[0m \u001b[32m━━━━━━━━━━━━━━━━━━━━\u001b[0m\u001b[37m\u001b[0m \u001b[1m27s\u001b[0m 36ms/step\n",
      "\n",
      "🏆 Training Results:\n",
      "🔹 Accuracy: 0.8730\n",
      "🔹 Precision: 0.9319\n",
      "🔹 Recall: 0.7657\n",
      "🔹 F1_score: 0.8407\n",
      "\n",
      "📂 Fold 3\n",
      "\n",
      "🚀 Training RNN with rnn_units=64, dropout_rate=0.3\n",
      "Epoch 1/10\n"
     ]
    },
    {
     "name": "stderr",
     "output_type": "stream",
     "text": [
      "/home/inflaton/miniconda3/envs/fake-news/lib/python3.11/site-packages/keras/src/layers/core/embedding.py:90: UserWarning: Argument `input_length` is deprecated. Just remove it.\n",
      "  warnings.warn(\n"
     ]
    },
    {
     "name": "stdout",
     "output_type": "stream",
     "text": [
      "\u001b[1m1513/1513\u001b[0m \u001b[32m━━━━━━━━━━━━━━━━━━━━\u001b[0m\u001b[37m\u001b[0m \u001b[1m68s\u001b[0m 44ms/step - accuracy: 0.7929 - loss: 0.4537 - val_accuracy: 0.8212 - val_loss: 0.3985\n",
      "Epoch 2/10\n",
      "\u001b[1m1513/1513\u001b[0m \u001b[32m━━━━━━━━━━━━━━━━━━━━\u001b[0m\u001b[37m\u001b[0m \u001b[1m66s\u001b[0m 44ms/step - accuracy: 0.8307 - loss: 0.3940 - val_accuracy: 0.7627 - val_loss: 0.4700\n",
      "Epoch 3/10\n",
      "\u001b[1m1513/1513\u001b[0m \u001b[32m━━━━━━━━━━━━━━━━━━━━\u001b[0m\u001b[37m\u001b[0m \u001b[1m65s\u001b[0m 43ms/step - accuracy: 0.7973 - loss: 0.4180 - val_accuracy: 0.8743 - val_loss: 0.3075\n",
      "Epoch 4/10\n",
      "\u001b[1m1513/1513\u001b[0m \u001b[32m━━━━━━━━━━━━━━━━━━━━\u001b[0m\u001b[37m\u001b[0m \u001b[1m63s\u001b[0m 41ms/step - accuracy: 0.8648 - loss: 0.3333 - val_accuracy: 0.8799 - val_loss: 0.3055\n",
      "Epoch 5/10\n",
      "\u001b[1m1513/1513\u001b[0m \u001b[32m━━━━━━━━━━━━━━━━━━━━\u001b[0m\u001b[37m\u001b[0m \u001b[1m70s\u001b[0m 46ms/step - accuracy: 0.8738 - loss: 0.3103 - val_accuracy: 0.8885 - val_loss: 0.2762\n",
      "Epoch 6/10\n",
      "\u001b[1m1513/1513\u001b[0m \u001b[32m━━━━━━━━━━━━━━━━━━━━\u001b[0m\u001b[37m\u001b[0m \u001b[1m66s\u001b[0m 43ms/step - accuracy: 0.8240 - loss: 0.3801 - val_accuracy: 0.8326 - val_loss: 0.3609\n",
      "Epoch 7/10\n",
      "\u001b[1m1513/1513\u001b[0m \u001b[32m━━━━━━━━━━━━━━━━━━━━\u001b[0m\u001b[37m\u001b[0m \u001b[1m67s\u001b[0m 44ms/step - accuracy: 0.7505 - loss: 0.5068 - val_accuracy: 0.8391 - val_loss: 0.3819\n",
      "Epoch 8/10\n",
      "\u001b[1m1513/1513\u001b[0m \u001b[32m━━━━━━━━━━━━━━━━━━━━\u001b[0m\u001b[37m\u001b[0m \u001b[1m61s\u001b[0m 40ms/step - accuracy: 0.8473 - loss: 0.3670 - val_accuracy: 0.8418 - val_loss: 0.3601\n",
      "\u001b[1m757/757\u001b[0m \u001b[32m━━━━━━━━━━━━━━━━━━━━\u001b[0m\u001b[37m\u001b[0m \u001b[1m29s\u001b[0m 38ms/step\n",
      "\n",
      "🏆 Training Results:\n",
      "🔹 Accuracy: 0.8885\n",
      "🔹 Precision: 0.8664\n",
      "🔹 Recall: 0.8810\n",
      "🔹 F1_score: 0.8736\n",
      "\n",
      "📂 Fold 4\n",
      "\n",
      "🚀 Training RNN with rnn_units=64, dropout_rate=0.3\n",
      "Epoch 1/10\n"
     ]
    },
    {
     "name": "stderr",
     "output_type": "stream",
     "text": [
      "/home/inflaton/miniconda3/envs/fake-news/lib/python3.11/site-packages/keras/src/layers/core/embedding.py:90: UserWarning: Argument `input_length` is deprecated. Just remove it.\n",
      "  warnings.warn(\n"
     ]
    },
    {
     "name": "stdout",
     "output_type": "stream",
     "text": [
      "\u001b[1m1513/1513\u001b[0m \u001b[32m━━━━━━━━━━━━━━━━━━━━\u001b[0m\u001b[37m\u001b[0m \u001b[1m68s\u001b[0m 44ms/step - accuracy: 0.8101 - loss: 0.4152 - val_accuracy: 0.8139 - val_loss: 0.4089\n",
      "Epoch 2/10\n",
      "\u001b[1m1513/1513\u001b[0m \u001b[32m━━━━━━━━━━━━━━━━━━━━\u001b[0m\u001b[37m\u001b[0m \u001b[1m71s\u001b[0m 47ms/step - accuracy: 0.8535 - loss: 0.3617 - val_accuracy: 0.7160 - val_loss: 0.5308\n",
      "Epoch 3/10\n",
      "\u001b[1m1513/1513\u001b[0m \u001b[32m━━━━━━━━━━━━━━━━━━━━\u001b[0m\u001b[37m\u001b[0m \u001b[1m65s\u001b[0m 43ms/step - accuracy: 0.8053 - loss: 0.4239 - val_accuracy: 0.8661 - val_loss: 0.3354\n",
      "Epoch 4/10\n",
      "\u001b[1m1513/1513\u001b[0m \u001b[32m━━━━━━━━━━━━━━━━━━━━\u001b[0m\u001b[37m\u001b[0m \u001b[1m66s\u001b[0m 44ms/step - accuracy: 0.8269 - loss: 0.3937 - val_accuracy: 0.8850 - val_loss: 0.3050\n",
      "Epoch 5/10\n",
      "\u001b[1m1513/1513\u001b[0m \u001b[32m━━━━━━━━━━━━━━━━━━━━\u001b[0m\u001b[37m\u001b[0m \u001b[1m67s\u001b[0m 44ms/step - accuracy: 0.8693 - loss: 0.3378 - val_accuracy: 0.8786 - val_loss: 0.3050\n",
      "Epoch 6/10\n",
      "\u001b[1m1513/1513\u001b[0m \u001b[32m━━━━━━━━━━━━━━━━━━━━\u001b[0m\u001b[37m\u001b[0m \u001b[1m67s\u001b[0m 44ms/step - accuracy: 0.8784 - loss: 0.3234 - val_accuracy: 0.5866 - val_loss: 0.6235\n",
      "Epoch 7/10\n",
      "\u001b[1m1513/1513\u001b[0m \u001b[32m━━━━━━━━━━━━━━━━━━━━\u001b[0m\u001b[37m\u001b[0m \u001b[1m71s\u001b[0m 47ms/step - accuracy: 0.7396 - loss: 0.4931 - val_accuracy: 0.7093 - val_loss: 0.5413\n",
      "Epoch 8/10\n",
      "\u001b[1m1513/1513\u001b[0m \u001b[32m━━━━━━━━━━━━━━━━━━━━\u001b[0m\u001b[37m\u001b[0m \u001b[1m77s\u001b[0m 51ms/step - accuracy: 0.7964 - loss: 0.4171 - val_accuracy: 0.7073 - val_loss: 0.5914\n",
      "\u001b[1m757/757\u001b[0m \u001b[32m━━━━━━━━━━━━━━━━━━━━\u001b[0m\u001b[37m\u001b[0m \u001b[1m29s\u001b[0m 38ms/step\n",
      "\n",
      "🏆 Training Results:\n",
      "🔹 Accuracy: 0.8786\n",
      "🔹 Precision: 0.8644\n",
      "🔹 Recall: 0.8569\n",
      "🔹 F1_score: 0.8606\n",
      "\n",
      "📂 Fold 5\n",
      "\n",
      "🚀 Training RNN with rnn_units=64, dropout_rate=0.3\n",
      "Epoch 1/10\n"
     ]
    },
    {
     "name": "stderr",
     "output_type": "stream",
     "text": [
      "/home/inflaton/miniconda3/envs/fake-news/lib/python3.11/site-packages/keras/src/layers/core/embedding.py:90: UserWarning: Argument `input_length` is deprecated. Just remove it.\n",
      "  warnings.warn(\n"
     ]
    },
    {
     "name": "stdout",
     "output_type": "stream",
     "text": [
      "\u001b[1m1513/1513\u001b[0m \u001b[32m━━━━━━━━━━━━━━━━━━━━\u001b[0m\u001b[37m\u001b[0m \u001b[1m70s\u001b[0m 46ms/step - accuracy: 0.7936 - loss: 0.4411 - val_accuracy: 0.6974 - val_loss: 0.5494\n",
      "Epoch 2/10\n",
      "\u001b[1m1513/1513\u001b[0m \u001b[32m━━━━━━━━━━━━━━━━━━━━\u001b[0m\u001b[37m\u001b[0m \u001b[1m71s\u001b[0m 47ms/step - accuracy: 0.7370 - loss: 0.5086 - val_accuracy: 0.7119 - val_loss: 0.5339\n",
      "Epoch 3/10\n",
      "\u001b[1m1513/1513\u001b[0m \u001b[32m━━━━━━━━━━━━━━━━━━━━\u001b[0m\u001b[37m\u001b[0m \u001b[1m64s\u001b[0m 42ms/step - accuracy: 0.7611 - loss: 0.4783 - val_accuracy: 0.8791 - val_loss: 0.3184\n",
      "Epoch 4/10\n",
      "\u001b[1m1513/1513\u001b[0m \u001b[32m━━━━━━━━━━━━━━━━━━━━\u001b[0m\u001b[37m\u001b[0m \u001b[1m61s\u001b[0m 41ms/step - accuracy: 0.8461 - loss: 0.3743 - val_accuracy: 0.8856 - val_loss: 0.3004\n",
      "Epoch 5/10\n",
      "\u001b[1m1513/1513\u001b[0m \u001b[32m━━━━━━━━━━━━━━━━━━━━\u001b[0m\u001b[37m\u001b[0m \u001b[1m65s\u001b[0m 43ms/step - accuracy: 0.8686 - loss: 0.3276 - val_accuracy: 0.8656 - val_loss: 0.3327\n",
      "Epoch 6/10\n",
      "\u001b[1m1513/1513\u001b[0m \u001b[32m━━━━━━━━━━━━━━━━━━━━\u001b[0m\u001b[37m\u001b[0m \u001b[1m63s\u001b[0m 42ms/step - accuracy: 0.8780 - loss: 0.3140 - val_accuracy: 0.8839 - val_loss: 0.2835\n",
      "Epoch 7/10\n",
      "\u001b[1m1513/1513\u001b[0m \u001b[32m━━━━━━━━━━━━━━━━━━━━\u001b[0m\u001b[37m\u001b[0m \u001b[1m67s\u001b[0m 44ms/step - accuracy: 0.8951 - loss: 0.2743 - val_accuracy: 0.8743 - val_loss: 0.3090\n",
      "Epoch 8/10\n",
      "\u001b[1m1513/1513\u001b[0m \u001b[32m━━━━━━━━━━━━━━━━━━━━\u001b[0m\u001b[37m\u001b[0m \u001b[1m61s\u001b[0m 41ms/step - accuracy: 0.8511 - loss: 0.3436 - val_accuracy: 0.8735 - val_loss: 0.3235\n",
      "Epoch 9/10\n",
      "\u001b[1m1513/1513\u001b[0m \u001b[32m━━━━━━━━━━━━━━━━━━━━\u001b[0m\u001b[37m\u001b[0m \u001b[1m73s\u001b[0m 48ms/step - accuracy: 0.8506 - loss: 0.3513 - val_accuracy: 0.8608 - val_loss: 0.3214\n",
      "\u001b[1m757/757\u001b[0m \u001b[32m━━━━━━━━━━━━━━━━━━━━\u001b[0m\u001b[37m\u001b[0m \u001b[1m25s\u001b[0m 33ms/step\n",
      "\n",
      "🏆 Training Results:\n",
      "🔹 Accuracy: 0.8839\n",
      "🔹 Precision: 0.9126\n",
      "🔹 Recall: 0.8124\n",
      "🔹 F1_score: 0.8596\n",
      "📊 Average F1-score: 0.8637\n",
      "\n",
      "🔍 Testing rnn_units=64, dropout_rate=0.5\n",
      "\n",
      "📂 Fold 1\n",
      "\n",
      "🚀 Training RNN with rnn_units=64, dropout_rate=0.5\n",
      "Epoch 1/10\n"
     ]
    },
    {
     "name": "stderr",
     "output_type": "stream",
     "text": [
      "/home/inflaton/miniconda3/envs/fake-news/lib/python3.11/site-packages/keras/src/layers/core/embedding.py:90: UserWarning: Argument `input_length` is deprecated. Just remove it.\n",
      "  warnings.warn(\n"
     ]
    },
    {
     "name": "stdout",
     "output_type": "stream",
     "text": [
      "\u001b[1m1513/1513\u001b[0m \u001b[32m━━━━━━━━━━━━━━━━━━━━\u001b[0m\u001b[37m\u001b[0m \u001b[1m66s\u001b[0m 43ms/step - accuracy: 0.7747 - loss: 0.4702 - val_accuracy: 0.8068 - val_loss: 0.4152\n",
      "Epoch 2/10\n",
      "\u001b[1m1513/1513\u001b[0m \u001b[32m━━━━━━━━━━━━━━━━━━━━\u001b[0m\u001b[37m\u001b[0m \u001b[1m68s\u001b[0m 45ms/step - accuracy: 0.8593 - loss: 0.3500 - val_accuracy: 0.8931 - val_loss: 0.2964\n",
      "Epoch 3/10\n",
      "\u001b[1m1513/1513\u001b[0m \u001b[32m━━━━━━━━━━━━━━━━━━━━\u001b[0m\u001b[37m\u001b[0m \u001b[1m68s\u001b[0m 45ms/step - accuracy: 0.8923 - loss: 0.2870 - val_accuracy: 0.9019 - val_loss: 0.2757\n",
      "Epoch 4/10\n",
      "\u001b[1m1513/1513\u001b[0m \u001b[32m━━━━━━━━━━━━━━━━━━━━\u001b[0m\u001b[37m\u001b[0m \u001b[1m63s\u001b[0m 42ms/step - accuracy: 0.8803 - loss: 0.2894 - val_accuracy: 0.8696 - val_loss: 0.3051\n",
      "Epoch 5/10\n",
      "\u001b[1m1513/1513\u001b[0m \u001b[32m━━━━━━━━━━━━━━━━━━━━\u001b[0m\u001b[37m\u001b[0m \u001b[1m62s\u001b[0m 41ms/step - accuracy: 0.8490 - loss: 0.3434 - val_accuracy: 0.8512 - val_loss: 0.3646\n",
      "Epoch 6/10\n",
      "\u001b[1m1513/1513\u001b[0m \u001b[32m━━━━━━━━━━━━━━━━━━━━\u001b[0m\u001b[37m\u001b[0m \u001b[1m66s\u001b[0m 44ms/step - accuracy: 0.8534 - loss: 0.3626 - val_accuracy: 0.8782 - val_loss: 0.3187\n",
      "\u001b[1m757/757\u001b[0m \u001b[32m━━━━━━━━━━━━━━━━━━━━\u001b[0m\u001b[37m\u001b[0m \u001b[1m32s\u001b[0m 43ms/step\n",
      "\n",
      "🏆 Training Results:\n",
      "🔹 Accuracy: 0.9019\n",
      "🔹 Precision: 0.9227\n",
      "🔹 Recall: 0.8468\n",
      "🔹 F1_score: 0.8831\n",
      "\n",
      "📂 Fold 2\n",
      "\n",
      "🚀 Training RNN with rnn_units=64, dropout_rate=0.5\n",
      "Epoch 1/10\n"
     ]
    },
    {
     "name": "stderr",
     "output_type": "stream",
     "text": [
      "/home/inflaton/miniconda3/envs/fake-news/lib/python3.11/site-packages/keras/src/layers/core/embedding.py:90: UserWarning: Argument `input_length` is deprecated. Just remove it.\n",
      "  warnings.warn(\n"
     ]
    },
    {
     "name": "stdout",
     "output_type": "stream",
     "text": [
      "\u001b[1m1513/1513\u001b[0m \u001b[32m━━━━━━━━━━━━━━━━━━━━\u001b[0m\u001b[37m\u001b[0m \u001b[1m68s\u001b[0m 44ms/step - accuracy: 0.7734 - loss: 0.4784 - val_accuracy: 0.8909 - val_loss: 0.3034\n",
      "Epoch 2/10\n",
      "\u001b[1m1513/1513\u001b[0m \u001b[32m━━━━━━━━━━━━━━━━━━━━\u001b[0m\u001b[37m\u001b[0m \u001b[1m69s\u001b[0m 46ms/step - accuracy: 0.8525 - loss: 0.3627 - val_accuracy: 0.8705 - val_loss: 0.3118\n",
      "Epoch 3/10\n",
      "\u001b[1m1513/1513\u001b[0m \u001b[32m━━━━━━━━━━━━━━━━━━━━\u001b[0m\u001b[37m\u001b[0m \u001b[1m66s\u001b[0m 43ms/step - accuracy: 0.8457 - loss: 0.3719 - val_accuracy: 0.8344 - val_loss: 0.4084\n",
      "Epoch 4/10\n",
      "\u001b[1m1513/1513\u001b[0m \u001b[32m━━━━━━━━━━━━━━━━━━━━\u001b[0m\u001b[37m\u001b[0m \u001b[1m66s\u001b[0m 44ms/step - accuracy: 0.8712 - loss: 0.3403 - val_accuracy: 0.8595 - val_loss: 0.3653\n",
      "\u001b[1m757/757\u001b[0m \u001b[32m━━━━━━━━━━━━━━━━━━━━\u001b[0m\u001b[37m\u001b[0m \u001b[1m24s\u001b[0m 32ms/step\n",
      "\n",
      "🏆 Training Results:\n",
      "🔹 Accuracy: 0.8909\n",
      "🔹 Precision: 0.8912\n",
      "🔹 Recall: 0.8549\n",
      "🔹 F1_score: 0.8727\n",
      "\n",
      "📂 Fold 3\n",
      "\n",
      "🚀 Training RNN with rnn_units=64, dropout_rate=0.5\n",
      "Epoch 1/10\n"
     ]
    },
    {
     "name": "stderr",
     "output_type": "stream",
     "text": [
      "/home/inflaton/miniconda3/envs/fake-news/lib/python3.11/site-packages/keras/src/layers/core/embedding.py:90: UserWarning: Argument `input_length` is deprecated. Just remove it.\n",
      "  warnings.warn(\n"
     ]
    },
    {
     "name": "stdout",
     "output_type": "stream",
     "text": [
      "\u001b[1m1513/1513\u001b[0m \u001b[32m━━━━━━━━━━━━━━━━━━━━\u001b[0m\u001b[37m\u001b[0m \u001b[1m70s\u001b[0m 45ms/step - accuracy: 0.8013 - loss: 0.4453 - val_accuracy: 0.6771 - val_loss: 0.6175\n",
      "Epoch 2/10\n",
      "\u001b[1m1513/1513\u001b[0m \u001b[32m━━━━━━━━━━━━━━━━━━━━\u001b[0m\u001b[37m\u001b[0m \u001b[1m73s\u001b[0m 49ms/step - accuracy: 0.6747 - loss: 0.5811 - val_accuracy: 0.6645 - val_loss: 0.5544\n",
      "Epoch 3/10\n",
      "\u001b[1m1513/1513\u001b[0m \u001b[32m━━━━━━━━━━━━━━━━━━━━\u001b[0m\u001b[37m\u001b[0m \u001b[1m69s\u001b[0m 45ms/step - accuracy: 0.7377 - loss: 0.5234 - val_accuracy: 0.8326 - val_loss: 0.3749\n",
      "Epoch 4/10\n",
      "\u001b[1m1513/1513\u001b[0m \u001b[32m━━━━━━━━━━━━━━━━━━━━\u001b[0m\u001b[37m\u001b[0m \u001b[1m63s\u001b[0m 42ms/step - accuracy: 0.8340 - loss: 0.4113 - val_accuracy: 0.6990 - val_loss: 0.5577\n",
      "Epoch 5/10\n",
      "\u001b[1m1513/1513\u001b[0m \u001b[32m━━━━━━━━━━━━━━━━━━━━\u001b[0m\u001b[37m\u001b[0m \u001b[1m68s\u001b[0m 45ms/step - accuracy: 0.7191 - loss: 0.5329 - val_accuracy: 0.8360 - val_loss: 0.3883\n",
      "Epoch 6/10\n",
      "\u001b[1m1513/1513\u001b[0m \u001b[32m━━━━━━━━━━━━━━━━━━━━\u001b[0m\u001b[37m\u001b[0m \u001b[1m71s\u001b[0m 47ms/step - accuracy: 0.7435 - loss: 0.5020 - val_accuracy: 0.7386 - val_loss: 0.4947\n",
      "\u001b[1m757/757\u001b[0m \u001b[32m━━━━━━━━━━━━━━━━━━━━\u001b[0m\u001b[37m\u001b[0m \u001b[1m32s\u001b[0m 42ms/step\n",
      "\n",
      "🏆 Training Results:\n",
      "🔹 Accuracy: 0.8326\n",
      "🔹 Precision: 0.9146\n",
      "🔹 Recall: 0.6808\n",
      "🔹 F1_score: 0.7806\n",
      "\n",
      "📂 Fold 4\n",
      "\n",
      "🚀 Training RNN with rnn_units=64, dropout_rate=0.5\n",
      "Epoch 1/10\n"
     ]
    },
    {
     "name": "stderr",
     "output_type": "stream",
     "text": [
      "/home/inflaton/miniconda3/envs/fake-news/lib/python3.11/site-packages/keras/src/layers/core/embedding.py:90: UserWarning: Argument `input_length` is deprecated. Just remove it.\n",
      "  warnings.warn(\n"
     ]
    },
    {
     "name": "stdout",
     "output_type": "stream",
     "text": [
      "\u001b[1m1513/1513\u001b[0m \u001b[32m━━━━━━━━━━━━━━━━━━━━\u001b[0m\u001b[37m\u001b[0m \u001b[1m64s\u001b[0m 42ms/step - accuracy: 0.8214 - loss: 0.4215 - val_accuracy: 0.8703 - val_loss: 0.3375\n",
      "Epoch 2/10\n",
      "\u001b[1m1513/1513\u001b[0m \u001b[32m━━━━━━━━━━━━━━━━━━━━\u001b[0m\u001b[37m\u001b[0m \u001b[1m63s\u001b[0m 42ms/step - accuracy: 0.8609 - loss: 0.3590 - val_accuracy: 0.6267 - val_loss: 0.7126\n",
      "Epoch 3/10\n",
      "\u001b[1m1513/1513\u001b[0m \u001b[32m━━━━━━━━━━━━━━━━━━━━\u001b[0m\u001b[37m\u001b[0m \u001b[1m64s\u001b[0m 42ms/step - accuracy: 0.8006 - loss: 0.4355 - val_accuracy: 0.8545 - val_loss: 0.3667\n",
      "Epoch 4/10\n",
      "\u001b[1m1513/1513\u001b[0m \u001b[32m━━━━━━━━━━━━━━━━━━━━\u001b[0m\u001b[37m\u001b[0m \u001b[1m62s\u001b[0m 41ms/step - accuracy: 0.8335 - loss: 0.3826 - val_accuracy: 0.8774 - val_loss: 0.3035\n",
      "Epoch 5/10\n",
      "\u001b[1m1513/1513\u001b[0m \u001b[32m━━━━━━━━━━━━━━━━━━━━\u001b[0m\u001b[37m\u001b[0m \u001b[1m66s\u001b[0m 44ms/step - accuracy: 0.8674 - loss: 0.3245 - val_accuracy: 0.7265 - val_loss: 0.5197\n",
      "Epoch 6/10\n",
      "\u001b[1m1513/1513\u001b[0m \u001b[32m━━━━━━━━━━━━━━━━━━━━\u001b[0m\u001b[37m\u001b[0m \u001b[1m68s\u001b[0m 45ms/step - accuracy: 0.8195 - loss: 0.4061 - val_accuracy: 0.8606 - val_loss: 0.3587\n",
      "Epoch 7/10\n",
      "\u001b[1m1513/1513\u001b[0m \u001b[32m━━━━━━━━━━━━━━━━━━━━\u001b[0m\u001b[37m\u001b[0m \u001b[1m68s\u001b[0m 45ms/step - accuracy: 0.8771 - loss: 0.3128 - val_accuracy: 0.8859 - val_loss: 0.3171\n",
      "\u001b[1m757/757\u001b[0m \u001b[32m━━━━━━━━━━━━━━━━━━━━\u001b[0m\u001b[37m\u001b[0m \u001b[1m29s\u001b[0m 38ms/step\n",
      "\n",
      "🏆 Training Results:\n",
      "🔹 Accuracy: 0.8774\n",
      "🔹 Precision: 0.8377\n",
      "🔹 Recall: 0.8928\n",
      "🔹 F1_score: 0.8643\n",
      "\n",
      "📂 Fold 5\n",
      "\n",
      "🚀 Training RNN with rnn_units=64, dropout_rate=0.5\n",
      "Epoch 1/10\n"
     ]
    },
    {
     "name": "stderr",
     "output_type": "stream",
     "text": [
      "/home/inflaton/miniconda3/envs/fake-news/lib/python3.11/site-packages/keras/src/layers/core/embedding.py:90: UserWarning: Argument `input_length` is deprecated. Just remove it.\n",
      "  warnings.warn(\n"
     ]
    },
    {
     "name": "stdout",
     "output_type": "stream",
     "text": [
      "\u001b[1m1513/1513\u001b[0m \u001b[32m━━━━━━━━━━━━━━━━━━━━\u001b[0m\u001b[37m\u001b[0m \u001b[1m67s\u001b[0m 43ms/step - accuracy: 0.8054 - loss: 0.4414 - val_accuracy: 0.7964 - val_loss: 0.4228\n",
      "Epoch 2/10\n",
      "\u001b[1m1513/1513\u001b[0m \u001b[32m━━━━━━━━━━━━━━━━━━━━\u001b[0m\u001b[37m\u001b[0m \u001b[1m66s\u001b[0m 44ms/step - accuracy: 0.8176 - loss: 0.4089 - val_accuracy: 0.7462 - val_loss: 0.5200\n",
      "Epoch 3/10\n",
      "\u001b[1m1513/1513\u001b[0m \u001b[32m━━━━━━━━━━━━━━━━━━━━\u001b[0m\u001b[37m\u001b[0m \u001b[1m62s\u001b[0m 41ms/step - accuracy: 0.8316 - loss: 0.3953 - val_accuracy: 0.6835 - val_loss: 0.5544\n",
      "Epoch 4/10\n",
      "\u001b[1m1513/1513\u001b[0m \u001b[32m━━━━━━━━━━━━━━━━━━━━\u001b[0m\u001b[37m\u001b[0m \u001b[1m73s\u001b[0m 48ms/step - accuracy: 0.7708 - loss: 0.4629 - val_accuracy: 0.8843 - val_loss: 0.2879\n",
      "Epoch 5/10\n",
      "\u001b[1m1513/1513\u001b[0m \u001b[32m━━━━━━━━━━━━━━━━━━━━\u001b[0m\u001b[37m\u001b[0m \u001b[1m60s\u001b[0m 39ms/step - accuracy: 0.8701 - loss: 0.3240 - val_accuracy: 0.8677 - val_loss: 0.3675\n",
      "Epoch 6/10\n",
      "\u001b[1m1513/1513\u001b[0m \u001b[32m━━━━━━━━━━━━━━━━━━━━\u001b[0m\u001b[37m\u001b[0m \u001b[1m74s\u001b[0m 49ms/step - accuracy: 0.8327 - loss: 0.3894 - val_accuracy: 0.8311 - val_loss: 0.3872\n",
      "Epoch 7/10\n",
      "\u001b[1m1513/1513\u001b[0m \u001b[32m━━━━━━━━━━━━━━━━━━━━\u001b[0m\u001b[37m\u001b[0m \u001b[1m68s\u001b[0m 45ms/step - accuracy: 0.8676 - loss: 0.3311 - val_accuracy: 0.8818 - val_loss: 0.3063\n",
      "\u001b[1m757/757\u001b[0m \u001b[32m━━━━━━━━━━━━━━━━━━━━\u001b[0m\u001b[37m\u001b[0m \u001b[1m25s\u001b[0m 33ms/step\n",
      "\n",
      "🏆 Training Results:\n",
      "🔹 Accuracy: 0.8843\n",
      "🔹 Precision: 0.8803\n",
      "🔹 Recall: 0.8513\n",
      "🔹 F1_score: 0.8656\n",
      "📊 Average F1-score: 0.8532\n",
      "CPU times: user 3h 8min 57s, sys: 51min 24s, total: 4h 22s\n",
      "Wall time: 3h 6min 16s\n"
     ]
    },
    {
     "data": {
      "text/plain": [
       "{'rnn_units': 32, 'dropout_rate': 0.3}"
      ]
     },
     "execution_count": 18,
     "metadata": {},
     "output_type": "execute_result"
    }
   ],
   "source": [
    "%%time\n",
    "\n",
    "best_params_rewritten = do_grid_search(data_rewritten)\n",
    "best_params_rewritten"
   ]
  },
  {
   "cell_type": "code",
   "execution_count": 19,
   "metadata": {},
   "outputs": [
    {
     "name": "stdout",
     "output_type": "stream",
     "text": [
      "\n",
      "🚀 Training RNN with rnn_units=32, dropout_rate=0.3\n",
      "Epoch 1/10\n"
     ]
    },
    {
     "name": "stderr",
     "output_type": "stream",
     "text": [
      "/home/inflaton/miniconda3/envs/fake-news/lib/python3.11/site-packages/keras/src/layers/core/embedding.py:90: UserWarning: Argument `input_length` is deprecated. Just remove it.\n",
      "  warnings.warn(\n"
     ]
    },
    {
     "name": "stdout",
     "output_type": "stream",
     "text": [
      "\u001b[1m1702/1702\u001b[0m \u001b[32m━━━━━━━━━━━━━━━━━━━━\u001b[0m\u001b[37m\u001b[0m \u001b[1m62s\u001b[0m 36ms/step - accuracy: 0.7540 - loss: 0.5081 - val_accuracy: 0.8737 - val_loss: 0.3421\n",
      "Epoch 2/10\n",
      "\u001b[1m1702/1702\u001b[0m \u001b[32m━━━━━━━━━━━━━━━━━━━━\u001b[0m\u001b[37m\u001b[0m \u001b[1m60s\u001b[0m 35ms/step - accuracy: 0.8478 - loss: 0.3807 - val_accuracy: 0.8814 - val_loss: 0.3203\n",
      "Epoch 3/10\n",
      "\u001b[1m1702/1702\u001b[0m \u001b[32m━━━━━━━━━━━━━━━━━━━━\u001b[0m\u001b[37m\u001b[0m \u001b[1m51s\u001b[0m 30ms/step - accuracy: 0.8550 - loss: 0.3554 - val_accuracy: 0.8807 - val_loss: 0.3291\n",
      "Epoch 4/10\n",
      "\u001b[1m1702/1702\u001b[0m \u001b[32m━━━━━━━━━━━━━━━━━━━━\u001b[0m\u001b[37m\u001b[0m \u001b[1m56s\u001b[0m 33ms/step - accuracy: 0.8766 - loss: 0.3201 - val_accuracy: 0.7088 - val_loss: 0.5368\n",
      "Epoch 5/10\n",
      "\u001b[1m1702/1702\u001b[0m \u001b[32m━━━━━━━━━━━━━━━━━━━━\u001b[0m\u001b[37m\u001b[0m \u001b[1m59s\u001b[0m 35ms/step - accuracy: 0.8562 - loss: 0.3462 - val_accuracy: 0.8691 - val_loss: 0.3031\n",
      "Epoch 6/10\n",
      "\u001b[1m1702/1702\u001b[0m \u001b[32m━━━━━━━━━━━━━━━━━━━━\u001b[0m\u001b[37m\u001b[0m \u001b[1m61s\u001b[0m 36ms/step - accuracy: 0.8900 - loss: 0.2753 - val_accuracy: 0.8904 - val_loss: 0.2817\n",
      "Epoch 7/10\n",
      "\u001b[1m1702/1702\u001b[0m \u001b[32m━━━━━━━━━━━━━━━━━━━━\u001b[0m\u001b[37m\u001b[0m \u001b[1m58s\u001b[0m 34ms/step - accuracy: 0.8822 - loss: 0.3053 - val_accuracy: 0.8774 - val_loss: 0.3367\n",
      "Epoch 8/10\n",
      "\u001b[1m1702/1702\u001b[0m \u001b[32m━━━━━━━━━━━━━━━━━━━━\u001b[0m\u001b[37m\u001b[0m \u001b[1m55s\u001b[0m 32ms/step - accuracy: 0.8848 - loss: 0.3152 - val_accuracy: 0.8818 - val_loss: 0.3274\n",
      "Epoch 9/10\n",
      "\u001b[1m1702/1702\u001b[0m \u001b[32m━━━━━━━━━━━━━━━━━━━━\u001b[0m\u001b[37m\u001b[0m \u001b[1m57s\u001b[0m 34ms/step - accuracy: 0.8945 - loss: 0.2902 - val_accuracy: 0.8885 - val_loss: 0.2974\n",
      "\u001b[1m379/379\u001b[0m \u001b[32m━━━━━━━━━━━━━━━━━━━━\u001b[0m\u001b[37m\u001b[0m \u001b[1m8s\u001b[0m 21ms/step\n",
      "\n",
      "🏆 Training Results:\n",
      "🔹 Accuracy: 0.8904\n",
      "🔹 Precision: 0.8529\n",
      "🔹 Recall: 0.9057\n",
      "🔹 F1_score: 0.8785\n",
      "CPU times: user 10min 55s, sys: 2min 38s, total: 13min 33s\n",
      "Wall time: 11min 7s\n"
     ]
    }
   ],
   "source": [
    "%%time\n",
    "\n",
    "train_data_combined = pd.concat([train_data, train_data_rewritten], ignore_index=True)\n",
    "val_data_combined = pd.concat([val_data, val_data_rewritten], ignore_index=True)\n",
    "model_combined = train_model(\n",
    "    train_data_combined,\n",
    "    val_data_combined,\n",
    "    rnn_units=best_params_rewritten[\"rnn_units\"],\n",
    "    dropout_rate=best_params_rewritten[\"dropout_rate\"],\n",
    ")\n",
    "model_combined.save(\"results/RNN_model_combined.keras\")"
   ]
  },
  {
   "cell_type": "code",
   "execution_count": 20,
   "metadata": {},
   "outputs": [
    {
     "name": "stdout",
     "output_type": "stream",
     "text": [
      "Evaluating Model\n",
      "\u001b[1m379/379\u001b[0m \u001b[32m━━━━━━━━━━━━━━━━━━━━\u001b[0m\u001b[37m\u001b[0m \u001b[1m8s\u001b[0m 21ms/step\n",
      "Accuracy: 0.8800\n",
      "Precision: 0.8245\n",
      "Recall: 0.9220\n",
      "F1: 0.8705\n"
     ]
    }
   ],
   "source": [
    "evaluate_model(model_combined, train_data_combined, val_data_combined)"
   ]
  },
  {
   "cell_type": "code",
   "execution_count": 21,
   "metadata": {},
   "outputs": [
    {
     "name": "stdout",
     "output_type": "stream",
     "text": [
      "Evaluating Model\n"
     ]
    },
    {
     "name": "stdout",
     "output_type": "stream",
     "text": [
      "\u001b[1m190/190\u001b[0m \u001b[32m━━━━━━━━━━━━━━━━━━━━\u001b[0m\u001b[37m\u001b[0m \u001b[1m5s\u001b[0m 26ms/step\n",
      "Accuracy: 0.9367\n",
      "Precision: 0.9081\n",
      "Recall: 0.9516\n",
      "F1: 0.9293\n"
     ]
    }
   ],
   "source": [
    "evaluate_model(model_combined, train_data_combined, val_data)"
   ]
  },
  {
   "cell_type": "code",
   "execution_count": 22,
   "metadata": {},
   "outputs": [
    {
     "name": "stdout",
     "output_type": "stream",
     "text": [
      "Evaluating Model\n",
      "\u001b[1m190/190\u001b[0m \u001b[32m━━━━━━━━━━━━━━━━━━━━\u001b[0m\u001b[37m\u001b[0m \u001b[1m6s\u001b[0m 30ms/step\n",
      "Accuracy: 0.8233\n",
      "Precision: 0.7508\n",
      "Recall: 0.8923\n",
      "F1: 0.8155\n"
     ]
    }
   ],
   "source": [
    "evaluate_model(model_combined, train_data_combined, val_data_rewritten)"
   ]
  },
  {
   "cell_type": "code",
   "execution_count": 23,
   "metadata": {},
   "outputs": [
    {
     "data": {
      "text/html": [
       "<pre style=\"white-space:pre;overflow-x:auto;line-height:normal;font-family:Menlo,'DejaVu Sans Mono',consolas,'Courier New',monospace\"><span style=\"font-weight: bold\">Model: \"sequential_41\"</span>\n",
       "</pre>\n"
      ],
      "text/plain": [
       "\u001b[1mModel: \"sequential_41\"\u001b[0m\n"
      ]
     },
     "metadata": {},
     "output_type": "display_data"
    },
    {
     "data": {
      "text/html": [
       "<pre style=\"white-space:pre;overflow-x:auto;line-height:normal;font-family:Menlo,'DejaVu Sans Mono',consolas,'Courier New',monospace\">┏━━━━━━━━━━━━━━━━━━━━━━━━━━━━━━━━━┳━━━━━━━━━━━━━━━━━━━━━━━━┳━━━━━━━━━━━━━━━┓\n",
       "┃<span style=\"font-weight: bold\"> Layer (type)                    </span>┃<span style=\"font-weight: bold\"> Output Shape           </span>┃<span style=\"font-weight: bold\">       Param # </span>┃\n",
       "┡━━━━━━━━━━━━━━━━━━━━━━━━━━━━━━━━━╇━━━━━━━━━━━━━━━━━━━━━━━━╇━━━━━━━━━━━━━━━┩\n",
       "│ embedding_41 (<span style=\"color: #0087ff; text-decoration-color: #0087ff\">Embedding</span>)        │ (<span style=\"color: #00d7ff; text-decoration-color: #00d7ff\">None</span>, <span style=\"color: #00af00; text-decoration-color: #00af00\">300</span>, <span style=\"color: #00af00; text-decoration-color: #00af00\">128</span>)       │       <span style=\"color: #00af00; text-decoration-color: #00af00\">640,000</span> │\n",
       "├─────────────────────────────────┼────────────────────────┼───────────────┤\n",
       "│ simple_rnn_41 (<span style=\"color: #0087ff; text-decoration-color: #0087ff\">SimpleRNN</span>)       │ (<span style=\"color: #00d7ff; text-decoration-color: #00d7ff\">None</span>, <span style=\"color: #00af00; text-decoration-color: #00af00\">32</span>)             │         <span style=\"color: #00af00; text-decoration-color: #00af00\">5,152</span> │\n",
       "├─────────────────────────────────┼────────────────────────┼───────────────┤\n",
       "│ dropout_41 (<span style=\"color: #0087ff; text-decoration-color: #0087ff\">Dropout</span>)            │ (<span style=\"color: #00d7ff; text-decoration-color: #00d7ff\">None</span>, <span style=\"color: #00af00; text-decoration-color: #00af00\">32</span>)             │             <span style=\"color: #00af00; text-decoration-color: #00af00\">0</span> │\n",
       "├─────────────────────────────────┼────────────────────────┼───────────────┤\n",
       "│ dense_41 (<span style=\"color: #0087ff; text-decoration-color: #0087ff\">Dense</span>)                │ (<span style=\"color: #00d7ff; text-decoration-color: #00d7ff\">None</span>, <span style=\"color: #00af00; text-decoration-color: #00af00\">1</span>)              │            <span style=\"color: #00af00; text-decoration-color: #00af00\">33</span> │\n",
       "└─────────────────────────────────┴────────────────────────┴───────────────┘\n",
       "</pre>\n"
      ],
      "text/plain": [
       "┏━━━━━━━━━━━━━━━━━━━━━━━━━━━━━━━━━┳━━━━━━━━━━━━━━━━━━━━━━━━┳━━━━━━━━━━━━━━━┓\n",
       "┃\u001b[1m \u001b[0m\u001b[1mLayer (type)                   \u001b[0m\u001b[1m \u001b[0m┃\u001b[1m \u001b[0m\u001b[1mOutput Shape          \u001b[0m\u001b[1m \u001b[0m┃\u001b[1m \u001b[0m\u001b[1m      Param #\u001b[0m\u001b[1m \u001b[0m┃\n",
       "┡━━━━━━━━━━━━━━━━━━━━━━━━━━━━━━━━━╇━━━━━━━━━━━━━━━━━━━━━━━━╇━━━━━━━━━━━━━━━┩\n",
       "│ embedding_41 (\u001b[38;5;33mEmbedding\u001b[0m)        │ (\u001b[38;5;45mNone\u001b[0m, \u001b[38;5;34m300\u001b[0m, \u001b[38;5;34m128\u001b[0m)       │       \u001b[38;5;34m640,000\u001b[0m │\n",
       "├─────────────────────────────────┼────────────────────────┼───────────────┤\n",
       "│ simple_rnn_41 (\u001b[38;5;33mSimpleRNN\u001b[0m)       │ (\u001b[38;5;45mNone\u001b[0m, \u001b[38;5;34m32\u001b[0m)             │         \u001b[38;5;34m5,152\u001b[0m │\n",
       "├─────────────────────────────────┼────────────────────────┼───────────────┤\n",
       "│ dropout_41 (\u001b[38;5;33mDropout\u001b[0m)            │ (\u001b[38;5;45mNone\u001b[0m, \u001b[38;5;34m32\u001b[0m)             │             \u001b[38;5;34m0\u001b[0m │\n",
       "├─────────────────────────────────┼────────────────────────┼───────────────┤\n",
       "│ dense_41 (\u001b[38;5;33mDense\u001b[0m)                │ (\u001b[38;5;45mNone\u001b[0m, \u001b[38;5;34m1\u001b[0m)              │            \u001b[38;5;34m33\u001b[0m │\n",
       "└─────────────────────────────────┴────────────────────────┴───────────────┘\n"
      ]
     },
     "metadata": {},
     "output_type": "display_data"
    },
    {
     "data": {
      "text/html": [
       "<pre style=\"white-space:pre;overflow-x:auto;line-height:normal;font-family:Menlo,'DejaVu Sans Mono',consolas,'Courier New',monospace\"><span style=\"font-weight: bold\"> Total params: </span><span style=\"color: #00af00; text-decoration-color: #00af00\">1,935,557</span> (7.38 MB)\n",
       "</pre>\n"
      ],
      "text/plain": [
       "\u001b[1m Total params: \u001b[0m\u001b[38;5;34m1,935,557\u001b[0m (7.38 MB)\n"
      ]
     },
     "metadata": {},
     "output_type": "display_data"
    },
    {
     "data": {
      "text/html": [
       "<pre style=\"white-space:pre;overflow-x:auto;line-height:normal;font-family:Menlo,'DejaVu Sans Mono',consolas,'Courier New',monospace\"><span style=\"font-weight: bold\"> Trainable params: </span><span style=\"color: #00af00; text-decoration-color: #00af00\">645,185</span> (2.46 MB)\n",
       "</pre>\n"
      ],
      "text/plain": [
       "\u001b[1m Trainable params: \u001b[0m\u001b[38;5;34m645,185\u001b[0m (2.46 MB)\n"
      ]
     },
     "metadata": {},
     "output_type": "display_data"
    },
    {
     "data": {
      "text/html": [
       "<pre style=\"white-space:pre;overflow-x:auto;line-height:normal;font-family:Menlo,'DejaVu Sans Mono',consolas,'Courier New',monospace\"><span style=\"font-weight: bold\"> Non-trainable params: </span><span style=\"color: #00af00; text-decoration-color: #00af00\">0</span> (0.00 B)\n",
       "</pre>\n"
      ],
      "text/plain": [
       "\u001b[1m Non-trainable params: \u001b[0m\u001b[38;5;34m0\u001b[0m (0.00 B)\n"
      ]
     },
     "metadata": {},
     "output_type": "display_data"
    },
    {
     "data": {
      "text/html": [
       "<pre style=\"white-space:pre;overflow-x:auto;line-height:normal;font-family:Menlo,'DejaVu Sans Mono',consolas,'Courier New',monospace\"><span style=\"font-weight: bold\"> Optimizer params: </span><span style=\"color: #00af00; text-decoration-color: #00af00\">1,290,372</span> (4.92 MB)\n",
       "</pre>\n"
      ],
      "text/plain": [
       "\u001b[1m Optimizer params: \u001b[0m\u001b[38;5;34m1,290,372\u001b[0m (4.92 MB)\n"
      ]
     },
     "metadata": {},
     "output_type": "display_data"
    }
   ],
   "source": [
    "model_combined2 = load_model(\"results/RNN_model_combined.keras\")\n",
    "model_combined2.summary()"
   ]
  },
  {
   "cell_type": "code",
   "execution_count": 24,
   "metadata": {},
   "outputs": [
    {
     "name": "stdout",
     "output_type": "stream",
     "text": [
      "Evaluating Model\n",
      "\u001b[1m379/379\u001b[0m \u001b[32m━━━━━━━━━━━━━━━━━━━━\u001b[0m\u001b[37m\u001b[0m \u001b[1m10s\u001b[0m 27ms/step\n",
      "Accuracy: 0.8800\n",
      "Precision: 0.8245\n",
      "Recall: 0.9220\n",
      "F1: 0.8705\n"
     ]
    }
   ],
   "source": [
    "evaluate_model(model_combined2, train_data_combined, val_data_combined)"
   ]
  },
  {
   "cell_type": "code",
   "execution_count": 25,
   "metadata": {},
   "outputs": [
    {
     "name": "stdout",
     "output_type": "stream",
     "text": [
      "Evaluating Model\n",
      "\u001b[1m190/190\u001b[0m \u001b[32m━━━━━━━━━━━━━━━━━━━━\u001b[0m\u001b[37m\u001b[0m \u001b[1m4s\u001b[0m 22ms/step\n",
      "Accuracy: 0.9367\n",
      "Precision: 0.9081\n",
      "Recall: 0.9516\n",
      "F1: 0.9293\n"
     ]
    }
   ],
   "source": [
    "evaluate_model(model_combined2, train_data_combined, val_data)"
   ]
  },
  {
   "cell_type": "code",
   "execution_count": 26,
   "metadata": {},
   "outputs": [
    {
     "name": "stdout",
     "output_type": "stream",
     "text": [
      "Evaluating Model\n",
      "\u001b[1m190/190\u001b[0m \u001b[32m━━━━━━━━━━━━━━━━━━━━\u001b[0m\u001b[37m\u001b[0m \u001b[1m5s\u001b[0m 26ms/step\n",
      "Accuracy: 0.8233\n",
      "Precision: 0.7508\n",
      "Recall: 0.8923\n",
      "F1: 0.8155\n"
     ]
    }
   ],
   "source": [
    "evaluate_model(model_combined2, train_data_combined, val_data_rewritten)"
   ]
  },
  {
   "cell_type": "code",
   "execution_count": 27,
   "metadata": {},
   "outputs": [
    {
     "name": "stdout",
     "output_type": "stream",
     "text": [
      "<class 'pandas.core.frame.DataFrame'>\n",
      "RangeIndex: 60491 entries, 0 to 60490\n",
      "Data columns (total 3 columns):\n",
      " #   Column                  Non-Null Count  Dtype \n",
      "---  ------                  --------------  ----- \n",
      " 0   label                   60491 non-null  int64 \n",
      " 1   full_content            60491 non-null  object\n",
      " 2   processed_full_content  60491 non-null  object\n",
      "dtypes: int64(1), object(2)\n",
      "memory usage: 1.4+ MB\n"
     ]
    }
   ],
   "source": [
    "data_rewritten = pd.concat(\n",
    "    [train_data_rewritten, val_data_rewritten], ignore_index=True\n",
    ")\n",
    "data_rewritten.info()"
   ]
  },
  {
   "cell_type": "code",
   "execution_count": 28,
   "metadata": {},
   "outputs": [
    {
     "name": "stdout",
     "output_type": "stream",
     "text": [
      "\n",
      "🔍 Testing rnn_units=32, dropout_rate=0.3\n",
      "\n",
      "📂 Fold 1\n",
      "\n",
      "🚀 Training RNN with rnn_units=32, dropout_rate=0.3\n",
      "Epoch 1/10\n"
     ]
    },
    {
     "name": "stderr",
     "output_type": "stream",
     "text": [
      "/home/inflaton/miniconda3/envs/fake-news/lib/python3.11/site-packages/keras/src/layers/core/embedding.py:90: UserWarning: Argument `input_length` is deprecated. Just remove it.\n",
      "  warnings.warn(\n"
     ]
    },
    {
     "name": "stdout",
     "output_type": "stream",
     "text": [
      "\u001b[1m757/757\u001b[0m \u001b[32m━━━━━━━━━━━━━━━━━━━━\u001b[0m\u001b[37m\u001b[0m \u001b[1m30s\u001b[0m 39ms/step - accuracy: 0.7117 - loss: 0.5622 - val_accuracy: 0.8197 - val_loss: 0.4129\n",
      "Epoch 2/10\n",
      "\u001b[1m757/757\u001b[0m \u001b[32m━━━━━━━━━━━━━━━━━━━━\u001b[0m\u001b[37m\u001b[0m \u001b[1m31s\u001b[0m 40ms/step - accuracy: 0.8100 - loss: 0.4366 - val_accuracy: 0.8206 - val_loss: 0.4314\n",
      "Epoch 3/10\n",
      "\u001b[1m757/757\u001b[0m \u001b[32m━━━━━━━━━━━━━━━━━━━━\u001b[0m\u001b[37m\u001b[0m \u001b[1m27s\u001b[0m 35ms/step - accuracy: 0.8441 - loss: 0.3917 - val_accuracy: 0.4648 - val_loss: 1.0013\n",
      "Epoch 4/10\n",
      "\u001b[1m757/757\u001b[0m \u001b[32m━━━━━━━━━━━━━━━━━━━━\u001b[0m\u001b[37m\u001b[0m \u001b[1m25s\u001b[0m 33ms/step - accuracy: 0.6774 - loss: 0.6000 - val_accuracy: 0.7522 - val_loss: 0.5235\n",
      "\u001b[1m379/379\u001b[0m \u001b[32m━━━━━━━━━━━━━━━━━━━━\u001b[0m\u001b[37m\u001b[0m \u001b[1m11s\u001b[0m 28ms/step\n",
      "\n",
      "🏆 Training Results:\n",
      "🔹 Accuracy: 0.8197\n",
      "🔹 Precision: 0.7526\n",
      "🔹 Recall: 0.8759\n",
      "🔹 F1_score: 0.8096\n",
      "\n",
      "📂 Fold 2\n",
      "\n",
      "🚀 Training RNN with rnn_units=32, dropout_rate=0.3\n",
      "Epoch 1/10\n"
     ]
    },
    {
     "name": "stderr",
     "output_type": "stream",
     "text": [
      "/home/inflaton/miniconda3/envs/fake-news/lib/python3.11/site-packages/keras/src/layers/core/embedding.py:90: UserWarning: Argument `input_length` is deprecated. Just remove it.\n",
      "  warnings.warn(\n"
     ]
    },
    {
     "name": "stdout",
     "output_type": "stream",
     "text": [
      "\u001b[1m757/757\u001b[0m \u001b[32m━━━━━━━━━━━━━━━━━━━━\u001b[0m\u001b[37m\u001b[0m \u001b[1m29s\u001b[0m 37ms/step - accuracy: 0.7131 - loss: 0.5646 - val_accuracy: 0.8136 - val_loss: 0.4314\n",
      "Epoch 2/10\n",
      "\u001b[1m757/757\u001b[0m \u001b[32m━━━━━━━━━━━━━━━━━━━━\u001b[0m\u001b[37m\u001b[0m \u001b[1m28s\u001b[0m 37ms/step - accuracy: 0.7853 - loss: 0.4778 - val_accuracy: 0.8270 - val_loss: 0.4341\n",
      "Epoch 3/10\n",
      "\u001b[1m757/757\u001b[0m \u001b[32m━━━━━━━━━━━━━━━━━━━━\u001b[0m\u001b[37m\u001b[0m \u001b[1m29s\u001b[0m 38ms/step - accuracy: 0.7984 - loss: 0.4800 - val_accuracy: 0.8145 - val_loss: 0.4221\n",
      "Epoch 4/10\n",
      "\u001b[1m757/757\u001b[0m \u001b[32m━━━━━━━━━━━━━━━━━━━━\u001b[0m\u001b[37m\u001b[0m \u001b[1m28s\u001b[0m 36ms/step - accuracy: 0.8349 - loss: 0.4019 - val_accuracy: 0.8084 - val_loss: 0.4507\n",
      "Epoch 5/10\n",
      "\u001b[1m757/757\u001b[0m \u001b[32m━━━━━━━━━━━━━━━━━━━━\u001b[0m\u001b[37m\u001b[0m \u001b[1m27s\u001b[0m 35ms/step - accuracy: 0.8491 - loss: 0.3732 - val_accuracy: 0.7321 - val_loss: 0.5749\n",
      "Epoch 6/10\n",
      "\u001b[1m757/757\u001b[0m \u001b[32m━━━━━━━━━━━━━━━━━━━━\u001b[0m\u001b[37m\u001b[0m \u001b[1m25s\u001b[0m 34ms/step - accuracy: 0.8547 - loss: 0.3674 - val_accuracy: 0.8330 - val_loss: 0.4319\n",
      "\u001b[1m379/379\u001b[0m \u001b[32m━━━━━━━━━━━━━━━━━━━━\u001b[0m\u001b[37m\u001b[0m \u001b[1m7s\u001b[0m 19ms/step\n",
      "\n",
      "🏆 Training Results:\n",
      "🔹 Accuracy: 0.8145\n",
      "🔹 Precision: 0.8294\n",
      "🔹 Recall: 0.7251\n",
      "🔹 F1_score: 0.7737\n",
      "\n",
      "📂 Fold 3\n",
      "\n",
      "🚀 Training RNN with rnn_units=32, dropout_rate=0.3\n",
      "Epoch 1/10\n"
     ]
    },
    {
     "name": "stderr",
     "output_type": "stream",
     "text": [
      "/home/inflaton/miniconda3/envs/fake-news/lib/python3.11/site-packages/keras/src/layers/core/embedding.py:90: UserWarning: Argument `input_length` is deprecated. Just remove it.\n",
      "  warnings.warn(\n"
     ]
    },
    {
     "name": "stdout",
     "output_type": "stream",
     "text": [
      "\u001b[1m757/757\u001b[0m \u001b[32m━━━━━━━━━━━━━━━━━━━━\u001b[0m\u001b[37m\u001b[0m \u001b[1m33s\u001b[0m 42ms/step - accuracy: 0.6984 - loss: 0.5821 - val_accuracy: 0.8248 - val_loss: 0.4262\n",
      "Epoch 2/10\n",
      "\u001b[1m757/757\u001b[0m \u001b[32m━━━━━━━━━━━━━━━━━━━━\u001b[0m\u001b[37m\u001b[0m \u001b[1m30s\u001b[0m 39ms/step - accuracy: 0.8034 - loss: 0.4594 - val_accuracy: 0.6151 - val_loss: 0.6520\n",
      "Epoch 3/10\n",
      "\u001b[1m757/757\u001b[0m \u001b[32m━━━━━━━━━━━━━━━━━━━━\u001b[0m\u001b[37m\u001b[0m \u001b[1m28s\u001b[0m 36ms/step - accuracy: 0.6556 - loss: 0.6098 - val_accuracy: 0.8249 - val_loss: 0.4458\n",
      "Epoch 4/10\n",
      "\u001b[1m757/757\u001b[0m \u001b[32m━━━━━━━━━━━━━━━━━━━━\u001b[0m\u001b[37m\u001b[0m \u001b[1m28s\u001b[0m 37ms/step - accuracy: 0.7048 - loss: 0.5627 - val_accuracy: 0.7812 - val_loss: 0.4952\n",
      "\u001b[1m379/379\u001b[0m \u001b[32m━━━━━━━━━━━━━━━━━━━━\u001b[0m\u001b[37m\u001b[0m \u001b[1m9s\u001b[0m 25ms/step\n",
      "\n",
      "🏆 Training Results:\n",
      "🔹 Accuracy: 0.8248\n",
      "🔹 Precision: 0.8040\n",
      "🔹 Recall: 0.7929\n",
      "🔹 F1_score: 0.7984\n",
      "\n",
      "📂 Fold 4\n",
      "\n",
      "🚀 Training RNN with rnn_units=32, dropout_rate=0.3\n",
      "Epoch 1/10\n"
     ]
    },
    {
     "name": "stderr",
     "output_type": "stream",
     "text": [
      "/home/inflaton/miniconda3/envs/fake-news/lib/python3.11/site-packages/keras/src/layers/core/embedding.py:90: UserWarning: Argument `input_length` is deprecated. Just remove it.\n",
      "  warnings.warn(\n"
     ]
    },
    {
     "name": "stdout",
     "output_type": "stream",
     "text": [
      "\u001b[1m757/757\u001b[0m \u001b[32m━━━━━━━━━━━━━━━━━━━━\u001b[0m\u001b[37m\u001b[0m \u001b[1m30s\u001b[0m 38ms/step - accuracy: 0.7323 - loss: 0.5423 - val_accuracy: 0.7996 - val_loss: 0.4593\n",
      "Epoch 2/10\n",
      "\u001b[1m757/757\u001b[0m \u001b[32m━━━━━━━━━━━━━━━━━━━━\u001b[0m\u001b[37m\u001b[0m \u001b[1m29s\u001b[0m 38ms/step - accuracy: 0.8268 - loss: 0.4186 - val_accuracy: 0.8382 - val_loss: 0.4453\n",
      "Epoch 3/10\n",
      "\u001b[1m757/757\u001b[0m \u001b[32m━━━━━━━━━━━━━━━━━━━━\u001b[0m\u001b[37m\u001b[0m \u001b[1m29s\u001b[0m 39ms/step - accuracy: 0.7524 - loss: 0.5107 - val_accuracy: 0.8368 - val_loss: 0.3987\n",
      "Epoch 4/10\n",
      "\u001b[1m757/757\u001b[0m \u001b[32m━━━━━━━━━━━━━━━━━━━━\u001b[0m\u001b[37m\u001b[0m \u001b[1m31s\u001b[0m 41ms/step - accuracy: 0.8368 - loss: 0.3979 - val_accuracy: 0.6928 - val_loss: 0.5742\n",
      "Epoch 5/10\n",
      "\u001b[1m757/757\u001b[0m \u001b[32m━━━━━━━━━━━━━━━━━━━━\u001b[0m\u001b[37m\u001b[0m \u001b[1m25s\u001b[0m 33ms/step - accuracy: 0.8010 - loss: 0.4387 - val_accuracy: 0.8399 - val_loss: 0.3929\n",
      "Epoch 6/10\n",
      "\u001b[1m757/757\u001b[0m \u001b[32m━━━━━━━━━━━━━━━━━━━━\u001b[0m\u001b[37m\u001b[0m \u001b[1m27s\u001b[0m 36ms/step - accuracy: 0.8346 - loss: 0.4059 - val_accuracy: 0.6833 - val_loss: 0.5910\n",
      "Epoch 7/10\n",
      "\u001b[1m757/757\u001b[0m \u001b[32m━━━━━━━━━━━━━━━━━━━━\u001b[0m\u001b[37m\u001b[0m \u001b[1m28s\u001b[0m 37ms/step - accuracy: 0.7602 - loss: 0.5061 - val_accuracy: 0.6826 - val_loss: 0.5858\n",
      "Epoch 8/10\n",
      "\u001b[1m757/757\u001b[0m \u001b[32m━━━━━━━━━━━━━━━━━━━━\u001b[0m\u001b[37m\u001b[0m \u001b[1m27s\u001b[0m 36ms/step - accuracy: 0.7231 - loss: 0.5425 - val_accuracy: 0.8268 - val_loss: 0.4456\n",
      "\u001b[1m379/379\u001b[0m \u001b[32m━━━━━━━━━━━━━━━━━━━━\u001b[0m\u001b[37m\u001b[0m \u001b[1m11s\u001b[0m 30ms/step\n",
      "\n",
      "🏆 Training Results:\n",
      "🔹 Accuracy: 0.8399\n",
      "🔹 Precision: 0.8759\n",
      "🔹 Recall: 0.7387\n",
      "🔹 F1_score: 0.8014\n",
      "\n",
      "📂 Fold 5\n",
      "\n",
      "🚀 Training RNN with rnn_units=32, dropout_rate=0.3\n",
      "Epoch 1/10\n"
     ]
    },
    {
     "name": "stderr",
     "output_type": "stream",
     "text": [
      "/home/inflaton/miniconda3/envs/fake-news/lib/python3.11/site-packages/keras/src/layers/core/embedding.py:90: UserWarning: Argument `input_length` is deprecated. Just remove it.\n",
      "  warnings.warn(\n"
     ]
    },
    {
     "name": "stdout",
     "output_type": "stream",
     "text": [
      "\u001b[1m757/757\u001b[0m \u001b[32m━━━━━━━━━━━━━━━━━━━━\u001b[0m\u001b[37m\u001b[0m \u001b[1m26s\u001b[0m 33ms/step - accuracy: 0.6927 - loss: 0.5897 - val_accuracy: 0.6734 - val_loss: 0.5984\n",
      "Epoch 2/10\n",
      "\u001b[1m757/757\u001b[0m \u001b[32m━━━━━━━━━━━━━━━━━━━━\u001b[0m\u001b[37m\u001b[0m \u001b[1m26s\u001b[0m 35ms/step - accuracy: 0.7223 - loss: 0.5496 - val_accuracy: 0.7438 - val_loss: 0.5414\n",
      "Epoch 3/10\n",
      "\u001b[1m757/757\u001b[0m \u001b[32m━━━━━━━━━━━━━━━━━━━━\u001b[0m\u001b[37m\u001b[0m \u001b[1m24s\u001b[0m 32ms/step - accuracy: 0.7927 - loss: 0.4917 - val_accuracy: 0.7158 - val_loss: 0.5681\n",
      "Epoch 4/10\n",
      "\u001b[1m757/757\u001b[0m \u001b[32m━━━━━━━━━━━━━━━━━━━━\u001b[0m\u001b[37m\u001b[0m \u001b[1m25s\u001b[0m 34ms/step - accuracy: 0.8066 - loss: 0.4384 - val_accuracy: 0.7825 - val_loss: 0.4993\n",
      "Epoch 5/10\n",
      "\u001b[1m757/757\u001b[0m \u001b[32m━━━━━━━━━━━━━━━━━━━━\u001b[0m\u001b[37m\u001b[0m \u001b[1m26s\u001b[0m 35ms/step - accuracy: 0.8113 - loss: 0.4346 - val_accuracy: 0.8310 - val_loss: 0.4204\n",
      "Epoch 6/10\n",
      "\u001b[1m757/757\u001b[0m \u001b[32m━━━━━━━━━━━━━━━━━━━━\u001b[0m\u001b[37m\u001b[0m \u001b[1m26s\u001b[0m 35ms/step - accuracy: 0.8340 - loss: 0.4024 - val_accuracy: 0.6946 - val_loss: 0.5287\n",
      "Epoch 7/10\n",
      "\u001b[1m757/757\u001b[0m \u001b[32m━━━━━━━━━━━━━━━━━━━━\u001b[0m\u001b[37m\u001b[0m \u001b[1m25s\u001b[0m 33ms/step - accuracy: 0.8089 - loss: 0.4090 - val_accuracy: 0.8513 - val_loss: 0.3977\n",
      "Epoch 8/10\n",
      "\u001b[1m757/757\u001b[0m \u001b[32m━━━━━━━━━━━━━━━━━━━━\u001b[0m\u001b[37m\u001b[0m \u001b[1m24s\u001b[0m 32ms/step - accuracy: 0.8441 - loss: 0.3907 - val_accuracy: 0.8360 - val_loss: 0.4204\n",
      "Epoch 9/10\n",
      "\u001b[1m757/757\u001b[0m \u001b[32m━━━━━━━━━━━━━━━━━━━━\u001b[0m\u001b[37m\u001b[0m \u001b[1m30s\u001b[0m 40ms/step - accuracy: 0.8314 - loss: 0.4146 - val_accuracy: 0.7273 - val_loss: 0.5035\n",
      "Epoch 10/10\n",
      "\u001b[1m757/757\u001b[0m \u001b[32m━━━━━━━━━━━━━━━━━━━━\u001b[0m\u001b[37m\u001b[0m \u001b[1m27s\u001b[0m 36ms/step - accuracy: 0.8290 - loss: 0.3834 - val_accuracy: 0.8358 - val_loss: 0.3961\n",
      "\u001b[1m379/379\u001b[0m \u001b[32m━━━━━━━━━━━━━━━━━━━━\u001b[0m\u001b[37m\u001b[0m \u001b[1m14s\u001b[0m 36ms/step\n",
      "\n",
      "🏆 Training Results:\n",
      "🔹 Accuracy: 0.8358\n",
      "🔹 Precision: 0.8137\n",
      "🔹 Recall: 0.8099\n",
      "🔹 F1_score: 0.8118\n",
      "📊 Average F1-score: 0.7990\n",
      "\n",
      "🔍 Testing rnn_units=32, dropout_rate=0.5\n",
      "\n",
      "📂 Fold 1\n",
      "\n",
      "🚀 Training RNN with rnn_units=32, dropout_rate=0.5\n",
      "Epoch 1/10\n"
     ]
    },
    {
     "name": "stderr",
     "output_type": "stream",
     "text": [
      "/home/inflaton/miniconda3/envs/fake-news/lib/python3.11/site-packages/keras/src/layers/core/embedding.py:90: UserWarning: Argument `input_length` is deprecated. Just remove it.\n",
      "  warnings.warn(\n"
     ]
    },
    {
     "name": "stdout",
     "output_type": "stream",
     "text": [
      "\u001b[1m757/757\u001b[0m \u001b[32m━━━━━━━━━━━━━━━━━━━━\u001b[0m\u001b[37m\u001b[0m \u001b[1m27s\u001b[0m 35ms/step - accuracy: 0.7225 - loss: 0.5627 - val_accuracy: 0.8221 - val_loss: 0.4300\n",
      "Epoch 2/10\n",
      "\u001b[1m757/757\u001b[0m \u001b[32m━━━━━━━━━━━━━━━━━━━━\u001b[0m\u001b[37m\u001b[0m \u001b[1m27s\u001b[0m 35ms/step - accuracy: 0.8131 - loss: 0.4431 - val_accuracy: 0.7044 - val_loss: 0.5762\n",
      "Epoch 3/10\n",
      "\u001b[1m757/757\u001b[0m \u001b[32m━━━━━━━━━━━━━━━━━━━━\u001b[0m\u001b[37m\u001b[0m \u001b[1m30s\u001b[0m 39ms/step - accuracy: 0.7803 - loss: 0.4958 - val_accuracy: 0.7232 - val_loss: 0.5693\n",
      "Epoch 4/10\n",
      "\u001b[1m757/757\u001b[0m \u001b[32m━━━━━━━━━━━━━━━━━━━━\u001b[0m\u001b[37m\u001b[0m \u001b[1m26s\u001b[0m 34ms/step - accuracy: 0.7565 - loss: 0.5358 - val_accuracy: 0.7204 - val_loss: 0.5434\n",
      "\u001b[1m379/379\u001b[0m \u001b[32m━━━━━━━━━━━━━━━━━━━━\u001b[0m\u001b[37m\u001b[0m \u001b[1m8s\u001b[0m 21ms/step\n",
      "\n",
      "🏆 Training Results:\n",
      "🔹 Accuracy: 0.8221\n",
      "🔹 Precision: 0.8443\n",
      "🔹 Recall: 0.7276\n",
      "🔹 F1_score: 0.7816\n",
      "\n",
      "📂 Fold 2\n",
      "\n",
      "🚀 Training RNN with rnn_units=32, dropout_rate=0.5\n",
      "Epoch 1/10\n"
     ]
    },
    {
     "name": "stderr",
     "output_type": "stream",
     "text": [
      "/home/inflaton/miniconda3/envs/fake-news/lib/python3.11/site-packages/keras/src/layers/core/embedding.py:90: UserWarning: Argument `input_length` is deprecated. Just remove it.\n",
      "  warnings.warn(\n"
     ]
    },
    {
     "name": "stdout",
     "output_type": "stream",
     "text": [
      "\u001b[1m757/757\u001b[0m \u001b[32m━━━━━━━━━━━━━━━━━━━━\u001b[0m\u001b[37m\u001b[0m \u001b[1m28s\u001b[0m 36ms/step - accuracy: 0.6758 - loss: 0.6087 - val_accuracy: 0.6525 - val_loss: 0.6192\n",
      "Epoch 2/10\n",
      "\u001b[1m757/757\u001b[0m \u001b[32m━━━━━━━━━━━━━━━━━━━━\u001b[0m\u001b[37m\u001b[0m \u001b[1m28s\u001b[0m 37ms/step - accuracy: 0.7495 - loss: 0.5201 - val_accuracy: 0.8458 - val_loss: 0.4163\n",
      "Epoch 3/10\n",
      "\u001b[1m757/757\u001b[0m \u001b[32m━━━━━━━━━━━━━━━━━━━━\u001b[0m\u001b[37m\u001b[0m \u001b[1m27s\u001b[0m 35ms/step - accuracy: 0.8049 - loss: 0.4530 - val_accuracy: 0.6481 - val_loss: 0.6187\n",
      "Epoch 4/10\n",
      "\u001b[1m757/757\u001b[0m \u001b[32m━━━━━━━━━━━━━━━━━━━━\u001b[0m\u001b[37m\u001b[0m \u001b[1m29s\u001b[0m 38ms/step - accuracy: 0.7142 - loss: 0.5638 - val_accuracy: 0.8099 - val_loss: 0.4557\n",
      "Epoch 5/10\n",
      "\u001b[1m757/757\u001b[0m \u001b[32m━━━━━━━━━━━━━━━━━━━━\u001b[0m\u001b[37m\u001b[0m \u001b[1m44s\u001b[0m 42ms/step - accuracy: 0.8312 - loss: 0.4274 - val_accuracy: 0.7856 - val_loss: 0.4781\n",
      "\u001b[1m379/379\u001b[0m \u001b[32m━━━━━━━━━━━━━━━━━━━━\u001b[0m\u001b[37m\u001b[0m \u001b[1m11s\u001b[0m 29ms/step\n",
      "\n",
      "🏆 Training Results:\n",
      "🔹 Accuracy: 0.8458\n",
      "🔹 Precision: 0.8470\n",
      "🔹 Recall: 0.7901\n",
      "🔹 F1_score: 0.8176\n",
      "\n",
      "📂 Fold 3\n",
      "\n",
      "🚀 Training RNN with rnn_units=32, dropout_rate=0.5\n",
      "Epoch 1/10\n"
     ]
    },
    {
     "name": "stderr",
     "output_type": "stream",
     "text": [
      "/home/inflaton/miniconda3/envs/fake-news/lib/python3.11/site-packages/keras/src/layers/core/embedding.py:90: UserWarning: Argument `input_length` is deprecated. Just remove it.\n",
      "  warnings.warn(\n"
     ]
    },
    {
     "name": "stdout",
     "output_type": "stream",
     "text": [
      "\u001b[1m757/757\u001b[0m \u001b[32m━━━━━━━━━━━━━━━━━━━━\u001b[0m\u001b[37m\u001b[0m \u001b[1m31s\u001b[0m 39ms/step - accuracy: 0.7143 - loss: 0.5754 - val_accuracy: 0.8304 - val_loss: 0.4275\n",
      "Epoch 2/10\n",
      "\u001b[1m757/757\u001b[0m \u001b[32m━━━━━━━━━━━━━━━━━━━━\u001b[0m\u001b[37m\u001b[0m \u001b[1m26s\u001b[0m 35ms/step - accuracy: 0.7806 - loss: 0.4982 - val_accuracy: 0.6842 - val_loss: 0.5889\n",
      "Epoch 3/10\n",
      "\u001b[1m757/757\u001b[0m \u001b[32m━━━━━━━━━━━━━━━━━━━━\u001b[0m\u001b[37m\u001b[0m \u001b[1m28s\u001b[0m 37ms/step - accuracy: 0.7689 - loss: 0.5106 - val_accuracy: 0.7708 - val_loss: 0.4992\n",
      "Epoch 4/10\n",
      "\u001b[1m757/757\u001b[0m \u001b[32m━━━━━━━━━━━━━━━━━━━━\u001b[0m\u001b[37m\u001b[0m \u001b[1m27s\u001b[0m 36ms/step - accuracy: 0.8118 - loss: 0.4467 - val_accuracy: 0.7451 - val_loss: 0.5559\n",
      "\u001b[1m379/379\u001b[0m \u001b[32m━━━━━━━━━━━━━━━━━━━━\u001b[0m\u001b[37m\u001b[0m \u001b[1m10s\u001b[0m 25ms/step\n",
      "\n",
      "🏆 Training Results:\n",
      "🔹 Accuracy: 0.8304\n",
      "🔹 Precision: 0.8158\n",
      "🔹 Recall: 0.7908\n",
      "🔹 F1_score: 0.8031\n",
      "\n",
      "📂 Fold 4\n",
      "\n",
      "🚀 Training RNN with rnn_units=32, dropout_rate=0.5\n",
      "Epoch 1/10\n"
     ]
    },
    {
     "name": "stderr",
     "output_type": "stream",
     "text": [
      "/home/inflaton/miniconda3/envs/fake-news/lib/python3.11/site-packages/keras/src/layers/core/embedding.py:90: UserWarning: Argument `input_length` is deprecated. Just remove it.\n",
      "  warnings.warn(\n"
     ]
    },
    {
     "name": "stdout",
     "output_type": "stream",
     "text": [
      "\u001b[1m757/757\u001b[0m \u001b[32m━━━━━━━━━━━━━━━━━━━━\u001b[0m\u001b[37m\u001b[0m \u001b[1m31s\u001b[0m 39ms/step - accuracy: 0.6967 - loss: 0.5883 - val_accuracy: 0.7918 - val_loss: 0.4772\n",
      "Epoch 2/10\n",
      "\u001b[1m757/757\u001b[0m \u001b[32m━━━━━━━━━━━━━━━━━━━━\u001b[0m\u001b[37m\u001b[0m \u001b[1m30s\u001b[0m 40ms/step - accuracy: 0.7642 - loss: 0.5045 - val_accuracy: 0.8363 - val_loss: 0.4066\n",
      "Epoch 3/10\n",
      "\u001b[1m757/757\u001b[0m \u001b[32m━━━━━━━━━━━━━━━━━━━━\u001b[0m\u001b[37m\u001b[0m \u001b[1m24s\u001b[0m 32ms/step - accuracy: 0.7475 - loss: 0.5279 - val_accuracy: 0.6734 - val_loss: 0.6182\n",
      "Epoch 4/10\n",
      "\u001b[1m757/757\u001b[0m \u001b[32m━━━━━━━━━━━━━━━━━━━━\u001b[0m\u001b[37m\u001b[0m \u001b[1m24s\u001b[0m 31ms/step - accuracy: 0.7581 - loss: 0.5058 - val_accuracy: 0.8274 - val_loss: 0.4325\n",
      "Epoch 5/10\n",
      "\u001b[1m757/757\u001b[0m \u001b[32m━━━━━━━━━━━━━━━━━━━━\u001b[0m\u001b[37m\u001b[0m \u001b[1m28s\u001b[0m 37ms/step - accuracy: 0.8271 - loss: 0.4289 - val_accuracy: 0.8293 - val_loss: 0.4430\n",
      "\u001b[1m379/379\u001b[0m \u001b[32m━━━━━━━━━━━━━━━━━━━━\u001b[0m\u001b[37m\u001b[0m \u001b[1m10s\u001b[0m 25ms/step\n",
      "\n",
      "🏆 Training Results:\n",
      "🔹 Accuracy: 0.8363\n",
      "🔹 Precision: 0.8029\n",
      "🔹 Recall: 0.8292\n",
      "🔹 F1_score: 0.8158\n",
      "\n",
      "📂 Fold 5\n",
      "\n",
      "🚀 Training RNN with rnn_units=32, dropout_rate=0.5\n",
      "Epoch 1/10\n"
     ]
    },
    {
     "name": "stderr",
     "output_type": "stream",
     "text": [
      "/home/inflaton/miniconda3/envs/fake-news/lib/python3.11/site-packages/keras/src/layers/core/embedding.py:90: UserWarning: Argument `input_length` is deprecated. Just remove it.\n",
      "  warnings.warn(\n"
     ]
    },
    {
     "name": "stdout",
     "output_type": "stream",
     "text": [
      "\u001b[1m757/757\u001b[0m \u001b[32m━━━━━━━━━━━━━━━━━━━━\u001b[0m\u001b[37m\u001b[0m \u001b[1m33s\u001b[0m 42ms/step - accuracy: 0.7124 - loss: 0.5806 - val_accuracy: 0.8287 - val_loss: 0.4186\n",
      "Epoch 2/10\n",
      "\u001b[1m757/757\u001b[0m \u001b[32m━━━━━━━━━━━━━━━━━━━━\u001b[0m\u001b[37m\u001b[0m \u001b[1m26s\u001b[0m 35ms/step - accuracy: 0.8310 - loss: 0.4240 - val_accuracy: 0.6791 - val_loss: 0.6033\n",
      "Epoch 3/10\n",
      "\u001b[1m757/757\u001b[0m \u001b[32m━━━━━━━━━━━━━━━━━━━━\u001b[0m\u001b[37m\u001b[0m \u001b[1m26s\u001b[0m 35ms/step - accuracy: 0.7598 - loss: 0.5141 - val_accuracy: 0.8381 - val_loss: 0.4150\n",
      "Epoch 4/10\n",
      "\u001b[1m757/757\u001b[0m \u001b[32m━━━━━━━━━━━━━━━━━━━━\u001b[0m\u001b[37m\u001b[0m \u001b[1m25s\u001b[0m 33ms/step - accuracy: 0.8271 - loss: 0.4332 - val_accuracy: 0.8374 - val_loss: 0.3997\n",
      "Epoch 5/10\n",
      "\u001b[1m757/757\u001b[0m \u001b[32m━━━━━━━━━━━━━━━━━━━━\u001b[0m\u001b[37m\u001b[0m \u001b[1m23s\u001b[0m 30ms/step - accuracy: 0.7781 - loss: 0.4843 - val_accuracy: 0.8178 - val_loss: 0.4493\n",
      "Epoch 6/10\n",
      "\u001b[1m757/757\u001b[0m \u001b[32m━━━━━━━━━━━━━━━━━━━━\u001b[0m\u001b[37m\u001b[0m \u001b[1m29s\u001b[0m 38ms/step - accuracy: 0.7438 - loss: 0.5302 - val_accuracy: 0.6652 - val_loss: 0.5956\n",
      "Epoch 7/10\n",
      "\u001b[1m757/757\u001b[0m \u001b[32m━━━━━━━━━━━━━━━━━━━━\u001b[0m\u001b[37m\u001b[0m \u001b[1m28s\u001b[0m 37ms/step - accuracy: 0.6958 - loss: 0.5706 - val_accuracy: 0.7822 - val_loss: 0.4776\n",
      "\u001b[1m379/379\u001b[0m \u001b[32m━━━━━━━━━━━━━━━━━━━━\u001b[0m\u001b[37m\u001b[0m \u001b[1m12s\u001b[0m 31ms/step\n",
      "\n",
      "🏆 Training Results:\n",
      "🔹 Accuracy: 0.8374\n",
      "🔹 Precision: 0.7895\n",
      "🔹 Recall: 0.8568\n",
      "🔹 F1_score: 0.8217\n",
      "📊 Average F1-score: 0.8080\n",
      "\n",
      "🔍 Testing rnn_units=64, dropout_rate=0.3\n",
      "\n",
      "📂 Fold 1\n",
      "\n",
      "🚀 Training RNN with rnn_units=64, dropout_rate=0.3\n",
      "Epoch 1/10\n"
     ]
    },
    {
     "name": "stderr",
     "output_type": "stream",
     "text": [
      "/home/inflaton/miniconda3/envs/fake-news/lib/python3.11/site-packages/keras/src/layers/core/embedding.py:90: UserWarning: Argument `input_length` is deprecated. Just remove it.\n",
      "  warnings.warn(\n"
     ]
    },
    {
     "name": "stdout",
     "output_type": "stream",
     "text": [
      "\u001b[1m757/757\u001b[0m \u001b[32m━━━━━━━━━━━━━━━━━━━━\u001b[0m\u001b[37m\u001b[0m \u001b[1m33s\u001b[0m 42ms/step - accuracy: 0.7182 - loss: 0.5613 - val_accuracy: 0.8224 - val_loss: 0.4220\n",
      "Epoch 2/10\n",
      "\u001b[1m757/757\u001b[0m \u001b[32m━━━━━━━━━━━━━━━━━━━━\u001b[0m\u001b[37m\u001b[0m \u001b[1m33s\u001b[0m 44ms/step - accuracy: 0.6758 - loss: 0.5998 - val_accuracy: 0.7951 - val_loss: 0.4724\n",
      "Epoch 3/10\n",
      "\u001b[1m757/757\u001b[0m \u001b[32m━━━━━━━━━━━━━━━━━━━━\u001b[0m\u001b[37m\u001b[0m \u001b[1m37s\u001b[0m 49ms/step - accuracy: 0.7354 - loss: 0.5455 - val_accuracy: 0.6712 - val_loss: 0.5899\n",
      "Epoch 4/10\n",
      "\u001b[1m757/757\u001b[0m \u001b[32m━━━━━━━━━━━━━━━━━━━━\u001b[0m\u001b[37m\u001b[0m \u001b[1m37s\u001b[0m 49ms/step - accuracy: 0.7029 - loss: 0.5627 - val_accuracy: 0.8149 - val_loss: 0.4400\n",
      "\u001b[1m379/379\u001b[0m \u001b[32m━━━━━━━━━━━━━━━━━━━━\u001b[0m\u001b[37m\u001b[0m \u001b[1m11s\u001b[0m 29ms/step\n",
      "\n",
      "🏆 Training Results:\n",
      "🔹 Accuracy: 0.8224\n",
      "🔹 Precision: 0.8500\n",
      "🔹 Recall: 0.7213\n",
      "🔹 F1_score: 0.7804\n",
      "\n",
      "📂 Fold 2\n",
      "\n",
      "🚀 Training RNN with rnn_units=64, dropout_rate=0.3\n",
      "Epoch 1/10\n"
     ]
    },
    {
     "name": "stderr",
     "output_type": "stream",
     "text": [
      "/home/inflaton/miniconda3/envs/fake-news/lib/python3.11/site-packages/keras/src/layers/core/embedding.py:90: UserWarning: Argument `input_length` is deprecated. Just remove it.\n",
      "  warnings.warn(\n"
     ]
    },
    {
     "name": "stdout",
     "output_type": "stream",
     "text": [
      "\u001b[1m757/757\u001b[0m \u001b[32m━━━━━━━━━━━━━━━━━━━━\u001b[0m\u001b[37m\u001b[0m \u001b[1m40s\u001b[0m 52ms/step - accuracy: 0.7202 - loss: 0.5581 - val_accuracy: 0.7271 - val_loss: 0.5416\n",
      "Epoch 2/10\n",
      "\u001b[1m757/757\u001b[0m \u001b[32m━━━━━━━━━━━━━━━━━━━━\u001b[0m\u001b[37m\u001b[0m \u001b[1m35s\u001b[0m 46ms/step - accuracy: 0.7850 - loss: 0.4861 - val_accuracy: 0.7659 - val_loss: 0.5780\n",
      "Epoch 3/10\n",
      "\u001b[1m757/757\u001b[0m \u001b[32m━━━━━━━━━━━━━━━━━━━━\u001b[0m\u001b[37m\u001b[0m \u001b[1m33s\u001b[0m 44ms/step - accuracy: 0.7813 - loss: 0.4862 - val_accuracy: 0.6559 - val_loss: 0.5972\n",
      "Epoch 4/10\n",
      "\u001b[1m757/757\u001b[0m \u001b[32m━━━━━━━━━━━━━━━━━━━━\u001b[0m\u001b[37m\u001b[0m \u001b[1m35s\u001b[0m 46ms/step - accuracy: 0.7353 - loss: 0.5296 - val_accuracy: 0.7687 - val_loss: 0.5081\n",
      "Epoch 5/10\n",
      "\u001b[1m757/757\u001b[0m \u001b[32m━━━━━━━━━━━━━━━━━━━━\u001b[0m\u001b[37m\u001b[0m \u001b[1m29s\u001b[0m 39ms/step - accuracy: 0.7343 - loss: 0.5240 - val_accuracy: 0.8139 - val_loss: 0.4513\n",
      "Epoch 6/10\n",
      "\u001b[1m757/757\u001b[0m \u001b[32m━━━━━━━━━━━━━━━━━━━━\u001b[0m\u001b[37m\u001b[0m \u001b[1m35s\u001b[0m 46ms/step - accuracy: 0.8345 - loss: 0.4038 - val_accuracy: 0.8418 - val_loss: 0.4068\n",
      "Epoch 7/10\n",
      "\u001b[1m757/757\u001b[0m \u001b[32m━━━━━━━━━━━━━━━━━━━━\u001b[0m\u001b[37m\u001b[0m \u001b[1m43s\u001b[0m 48ms/step - accuracy: 0.8306 - loss: 0.4024 - val_accuracy: 0.5774 - val_loss: 0.6805\n",
      "Epoch 8/10\n",
      "\u001b[1m757/757\u001b[0m \u001b[32m━━━━━━━━━━━━━━━━━━━━\u001b[0m\u001b[37m\u001b[0m \u001b[1m39s\u001b[0m 52ms/step - accuracy: 0.6941 - loss: 0.5626 - val_accuracy: 0.8222 - val_loss: 0.4606\n",
      "Epoch 9/10\n",
      "\u001b[1m757/757\u001b[0m \u001b[32m━━━━━━━━━━━━━━━━━━━━\u001b[0m\u001b[37m\u001b[0m \u001b[1m34s\u001b[0m 45ms/step - accuracy: 0.8180 - loss: 0.4260 - val_accuracy: 0.8266 - val_loss: 0.4196\n",
      "\u001b[1m379/379\u001b[0m \u001b[32m━━━━━━━━━━━━━━━━━━━━\u001b[0m\u001b[37m\u001b[0m \u001b[1m14s\u001b[0m 37ms/step\n",
      "\n",
      "🏆 Training Results:\n",
      "🔹 Accuracy: 0.8418\n",
      "🔹 Precision: 0.8572\n",
      "🔹 Recall: 0.7659\n",
      "🔹 F1_score: 0.8090\n",
      "\n",
      "📂 Fold 3\n",
      "\n",
      "🚀 Training RNN with rnn_units=64, dropout_rate=0.3\n",
      "Epoch 1/10\n"
     ]
    },
    {
     "name": "stderr",
     "output_type": "stream",
     "text": [
      "/home/inflaton/miniconda3/envs/fake-news/lib/python3.11/site-packages/keras/src/layers/core/embedding.py:90: UserWarning: Argument `input_length` is deprecated. Just remove it.\n",
      "  warnings.warn(\n"
     ]
    },
    {
     "name": "stdout",
     "output_type": "stream",
     "text": [
      "\u001b[1m757/757\u001b[0m \u001b[32m━━━━━━━━━━━━━━━━━━━━\u001b[0m\u001b[37m\u001b[0m \u001b[1m35s\u001b[0m 45ms/step - accuracy: 0.7290 - loss: 0.5390 - val_accuracy: 0.7209 - val_loss: 0.5424\n",
      "Epoch 2/10\n",
      "\u001b[1m757/757\u001b[0m \u001b[32m━━━━━━━━━━━━━━━━━━━━\u001b[0m\u001b[37m\u001b[0m \u001b[1m38s\u001b[0m 51ms/step - accuracy: 0.7680 - loss: 0.4975 - val_accuracy: 0.7533 - val_loss: 0.5035\n",
      "Epoch 3/10\n",
      "\u001b[1m757/757\u001b[0m \u001b[32m━━━━━━━━━━━━━━━━━━━━\u001b[0m\u001b[37m\u001b[0m \u001b[1m31s\u001b[0m 41ms/step - accuracy: 0.7188 - loss: 0.5470 - val_accuracy: 0.8042 - val_loss: 0.4649\n",
      "Epoch 4/10\n",
      "\u001b[1m757/757\u001b[0m \u001b[32m━━━━━━━━━━━━━━━━━━━━\u001b[0m\u001b[37m\u001b[0m \u001b[1m30s\u001b[0m 39ms/step - accuracy: 0.7374 - loss: 0.5354 - val_accuracy: 0.7296 - val_loss: 0.5565\n",
      "Epoch 5/10\n",
      "\u001b[1m757/757\u001b[0m \u001b[32m━━━━━━━━━━━━━━━━━━━━\u001b[0m\u001b[37m\u001b[0m \u001b[1m36s\u001b[0m 47ms/step - accuracy: 0.7231 - loss: 0.5528 - val_accuracy: 0.6871 - val_loss: 0.5860\n",
      "Epoch 6/10\n",
      "\u001b[1m757/757\u001b[0m \u001b[32m━━━━━━━━━━━━━━━━━━━━\u001b[0m\u001b[37m\u001b[0m \u001b[1m33s\u001b[0m 43ms/step - accuracy: 0.7433 - loss: 0.5358 - val_accuracy: 0.6419 - val_loss: 0.6143\n",
      "\u001b[1m379/379\u001b[0m \u001b[32m━━━━━━━━━━━━━━━━━━━━\u001b[0m\u001b[37m\u001b[0m \u001b[1m14s\u001b[0m 36ms/step\n",
      "\n",
      "🏆 Training Results:\n",
      "🔹 Accuracy: 0.8042\n",
      "🔹 Precision: 0.8044\n",
      "🔹 Recall: 0.7298\n",
      "🔹 F1_score: 0.7653\n",
      "\n",
      "📂 Fold 4\n",
      "\n",
      "🚀 Training RNN with rnn_units=64, dropout_rate=0.3\n",
      "Epoch 1/10\n"
     ]
    },
    {
     "name": "stderr",
     "output_type": "stream",
     "text": [
      "/home/inflaton/miniconda3/envs/fake-news/lib/python3.11/site-packages/keras/src/layers/core/embedding.py:90: UserWarning: Argument `input_length` is deprecated. Just remove it.\n",
      "  warnings.warn(\n"
     ]
    },
    {
     "name": "stdout",
     "output_type": "stream",
     "text": [
      "\u001b[1m757/757\u001b[0m \u001b[32m━━━━━━━━━━━━━━━━━━━━\u001b[0m\u001b[37m\u001b[0m \u001b[1m36s\u001b[0m 47ms/step - accuracy: 0.6767 - loss: 0.6004 - val_accuracy: 0.7525 - val_loss: 0.5251\n",
      "Epoch 2/10\n",
      "\u001b[1m757/757\u001b[0m \u001b[32m━━━━━━━━━━━━━━━━━━━━\u001b[0m\u001b[37m\u001b[0m \u001b[1m30s\u001b[0m 40ms/step - accuracy: 0.7898 - loss: 0.4708 - val_accuracy: 0.8394 - val_loss: 0.3935\n",
      "Epoch 3/10\n",
      "\u001b[1m757/757\u001b[0m \u001b[32m━━━━━━━━━━━━━━━━━━━━\u001b[0m\u001b[37m\u001b[0m \u001b[1m36s\u001b[0m 48ms/step - accuracy: 0.8186 - loss: 0.4107 - val_accuracy: 0.8348 - val_loss: 0.3919\n",
      "Epoch 4/10\n",
      "\u001b[1m757/757\u001b[0m \u001b[32m━━━━━━━━━━━━━━━━━━━━\u001b[0m\u001b[37m\u001b[0m \u001b[1m31s\u001b[0m 40ms/step - accuracy: 0.8101 - loss: 0.4268 - val_accuracy: 0.8189 - val_loss: 0.4649\n",
      "Epoch 5/10\n",
      "\u001b[1m757/757\u001b[0m \u001b[32m━━━━━━━━━━━━━━━━━━━━\u001b[0m\u001b[37m\u001b[0m \u001b[1m33s\u001b[0m 44ms/step - accuracy: 0.8243 - loss: 0.4108 - val_accuracy: 0.7761 - val_loss: 0.5071\n",
      "Epoch 6/10\n",
      "\u001b[1m757/757\u001b[0m \u001b[32m━━━━━━━━━━━━━━━━━━━━\u001b[0m\u001b[37m\u001b[0m \u001b[1m44s\u001b[0m 58ms/step - accuracy: 0.7737 - loss: 0.4836 - val_accuracy: 0.8307 - val_loss: 0.4319\n",
      "\u001b[1m379/379\u001b[0m \u001b[32m━━━━━━━━━━━━━━━━━━━━\u001b[0m\u001b[37m\u001b[0m \u001b[1m17s\u001b[0m 45ms/step\n",
      "\n",
      "🏆 Training Results:\n",
      "🔹 Accuracy: 0.8348\n",
      "🔹 Precision: 0.8314\n",
      "🔹 Recall: 0.7806\n",
      "🔹 F1_score: 0.8052\n",
      "\n",
      "📂 Fold 5\n",
      "\n",
      "🚀 Training RNN with rnn_units=64, dropout_rate=0.3\n",
      "Epoch 1/10\n"
     ]
    },
    {
     "name": "stderr",
     "output_type": "stream",
     "text": [
      "/home/inflaton/miniconda3/envs/fake-news/lib/python3.11/site-packages/keras/src/layers/core/embedding.py:90: UserWarning: Argument `input_length` is deprecated. Just remove it.\n",
      "  warnings.warn(\n"
     ]
    },
    {
     "name": "stdout",
     "output_type": "stream",
     "text": [
      "\u001b[1m757/757\u001b[0m \u001b[32m━━━━━━━━━━━━━━━━━━━━\u001b[0m\u001b[37m\u001b[0m \u001b[1m36s\u001b[0m 46ms/step - accuracy: 0.7490 - loss: 0.5205 - val_accuracy: 0.7939 - val_loss: 0.4565\n",
      "Epoch 2/10\n",
      "\u001b[1m757/757\u001b[0m \u001b[32m━━━━━━━━━━━━━━━━━━━━\u001b[0m\u001b[37m\u001b[0m \u001b[1m37s\u001b[0m 49ms/step - accuracy: 0.7564 - loss: 0.5127 - val_accuracy: 0.7847 - val_loss: 0.4688\n",
      "Epoch 3/10\n",
      "\u001b[1m757/757\u001b[0m \u001b[32m━━━━━━━━━━━━━━━━━━━━\u001b[0m\u001b[37m\u001b[0m \u001b[1m35s\u001b[0m 47ms/step - accuracy: 0.8411 - loss: 0.3894 - val_accuracy: 0.8063 - val_loss: 0.4111\n",
      "Epoch 4/10\n",
      "\u001b[1m757/757\u001b[0m \u001b[32m━━━━━━━━━━━━━━━━━━━━\u001b[0m\u001b[37m\u001b[0m \u001b[1m37s\u001b[0m 48ms/step - accuracy: 0.8147 - loss: 0.4197 - val_accuracy: 0.6666 - val_loss: 0.6016\n",
      "Epoch 5/10\n",
      "\u001b[1m757/757\u001b[0m \u001b[32m━━━━━━━━━━━━━━━━━━━━\u001b[0m\u001b[37m\u001b[0m \u001b[1m37s\u001b[0m 49ms/step - accuracy: 0.7513 - loss: 0.5054 - val_accuracy: 0.7697 - val_loss: 0.4864\n",
      "Epoch 6/10\n",
      "\u001b[1m757/757\u001b[0m \u001b[32m━━━━━━━━━━━━━━━━━━━━\u001b[0m\u001b[37m\u001b[0m \u001b[1m33s\u001b[0m 43ms/step - accuracy: 0.7987 - loss: 0.4596 - val_accuracy: 0.6954 - val_loss: 0.5451\n",
      "\u001b[1m379/379\u001b[0m \u001b[32m━━━━━━━━━━━━━━━━━━━━\u001b[0m\u001b[37m\u001b[0m \u001b[1m13s\u001b[0m 33ms/step\n",
      "\n",
      "🏆 Training Results:\n",
      "🔹 Accuracy: 0.8063\n",
      "🔹 Precision: 0.7538\n",
      "🔹 Recall: 0.8275\n",
      "🔹 F1_score: 0.7889\n",
      "📊 Average F1-score: 0.7898\n",
      "\n",
      "🔍 Testing rnn_units=64, dropout_rate=0.5\n",
      "\n",
      "📂 Fold 1\n",
      "\n",
      "🚀 Training RNN with rnn_units=64, dropout_rate=0.5\n",
      "Epoch 1/10\n"
     ]
    },
    {
     "name": "stderr",
     "output_type": "stream",
     "text": [
      "/home/inflaton/miniconda3/envs/fake-news/lib/python3.11/site-packages/keras/src/layers/core/embedding.py:90: UserWarning: Argument `input_length` is deprecated. Just remove it.\n",
      "  warnings.warn(\n"
     ]
    },
    {
     "name": "stdout",
     "output_type": "stream",
     "text": [
      "\u001b[1m757/757\u001b[0m \u001b[32m━━━━━━━━━━━━━━━━━━━━\u001b[0m\u001b[37m\u001b[0m \u001b[1m39s\u001b[0m 50ms/step - accuracy: 0.7305 - loss: 0.5518 - val_accuracy: 0.6862 - val_loss: 0.5875\n",
      "Epoch 2/10\n",
      "\u001b[1m757/757\u001b[0m \u001b[32m━━━━━━━━━━━━━━━━━━━━\u001b[0m\u001b[37m\u001b[0m \u001b[1m36s\u001b[0m 48ms/step - accuracy: 0.7402 - loss: 0.5338 - val_accuracy: 0.6910 - val_loss: 0.5703\n",
      "Epoch 3/10\n",
      "\u001b[1m757/757\u001b[0m \u001b[32m━━━━━━━━━━━━━━━━━━━━\u001b[0m\u001b[37m\u001b[0m \u001b[1m38s\u001b[0m 50ms/step - accuracy: 0.7385 - loss: 0.5322 - val_accuracy: 0.8191 - val_loss: 0.4299\n",
      "Epoch 4/10\n",
      "\u001b[1m757/757\u001b[0m \u001b[32m━━━━━━━━━━━━━━━━━━━━\u001b[0m\u001b[37m\u001b[0m \u001b[1m34s\u001b[0m 45ms/step - accuracy: 0.7948 - loss: 0.4654 - val_accuracy: 0.7452 - val_loss: 0.6238\n",
      "Epoch 5/10\n",
      "\u001b[1m757/757\u001b[0m \u001b[32m━━━━━━━━━━━━━━━━━━━━\u001b[0m\u001b[37m\u001b[0m \u001b[1m33s\u001b[0m 44ms/step - accuracy: 0.6891 - loss: 0.5917 - val_accuracy: 0.7819 - val_loss: 0.4779\n",
      "Epoch 6/10\n",
      "\u001b[1m757/757\u001b[0m \u001b[32m━━━━━━━━━━━━━━━━━━━━\u001b[0m\u001b[37m\u001b[0m \u001b[1m41s\u001b[0m 43ms/step - accuracy: 0.7454 - loss: 0.5197 - val_accuracy: 0.8050 - val_loss: 0.4212\n",
      "Epoch 7/10\n",
      "\u001b[1m757/757\u001b[0m \u001b[32m━━━━━━━━━━━━━━━━━━━━\u001b[0m\u001b[37m\u001b[0m \u001b[1m34s\u001b[0m 45ms/step - accuracy: 0.7959 - loss: 0.4298 - val_accuracy: 0.8195 - val_loss: 0.4099\n",
      "Epoch 8/10\n",
      "\u001b[1m757/757\u001b[0m \u001b[32m━━━━━━━━━━━━━━━━━━━━\u001b[0m\u001b[37m\u001b[0m \u001b[1m30s\u001b[0m 40ms/step - accuracy: 0.7902 - loss: 0.4404 - val_accuracy: 0.8093 - val_loss: 0.4268\n",
      "Epoch 9/10\n",
      "\u001b[1m757/757\u001b[0m \u001b[32m━━━━━━━━━━━━━━━━━━━━\u001b[0m\u001b[37m\u001b[0m \u001b[1m35s\u001b[0m 46ms/step - accuracy: 0.7748 - loss: 0.4779 - val_accuracy: 0.7675 - val_loss: 0.5282\n",
      "Epoch 10/10\n",
      "\u001b[1m757/757\u001b[0m \u001b[32m━━━━━━━━━━━━━━━━━━━━\u001b[0m\u001b[37m\u001b[0m \u001b[1m33s\u001b[0m 44ms/step - accuracy: 0.7984 - loss: 0.4702 - val_accuracy: 0.8044 - val_loss: 0.4625\n",
      "\u001b[1m379/379\u001b[0m \u001b[32m━━━━━━━━━━━━━━━━━━━━\u001b[0m\u001b[37m\u001b[0m \u001b[1m11s\u001b[0m 28ms/step\n",
      "\n",
      "🏆 Training Results:\n",
      "🔹 Accuracy: 0.8195\n",
      "🔹 Precision: 0.7955\n",
      "🔹 Recall: 0.7907\n",
      "🔹 F1_score: 0.7931\n",
      "\n",
      "📂 Fold 2\n",
      "\n",
      "🚀 Training RNN with rnn_units=64, dropout_rate=0.5\n",
      "Epoch 1/10\n"
     ]
    },
    {
     "name": "stderr",
     "output_type": "stream",
     "text": [
      "/home/inflaton/miniconda3/envs/fake-news/lib/python3.11/site-packages/keras/src/layers/core/embedding.py:90: UserWarning: Argument `input_length` is deprecated. Just remove it.\n",
      "  warnings.warn(\n"
     ]
    },
    {
     "name": "stdout",
     "output_type": "stream",
     "text": [
      "\u001b[1m757/757\u001b[0m \u001b[32m━━━━━━━━━━━━━━━━━━━━\u001b[0m\u001b[37m\u001b[0m \u001b[1m34s\u001b[0m 44ms/step - accuracy: 0.7287 - loss: 0.5531 - val_accuracy: 0.6139 - val_loss: 0.6385\n",
      "Epoch 2/10\n",
      "\u001b[1m757/757\u001b[0m \u001b[32m━━━━━━━━━━━━━━━━━━━━\u001b[0m\u001b[37m\u001b[0m \u001b[1m33s\u001b[0m 44ms/step - accuracy: 0.7374 - loss: 0.5358 - val_accuracy: 0.8444 - val_loss: 0.4058\n",
      "Epoch 3/10\n",
      "\u001b[1m757/757\u001b[0m \u001b[32m━━━━━━━━━━━━━━━━━━━━\u001b[0m\u001b[37m\u001b[0m \u001b[1m31s\u001b[0m 41ms/step - accuracy: 0.7982 - loss: 0.4740 - val_accuracy: 0.8265 - val_loss: 0.4370\n",
      "Epoch 4/10\n",
      "\u001b[1m757/757\u001b[0m \u001b[32m━━━━━━━━━━━━━━━━━━━━\u001b[0m\u001b[37m\u001b[0m \u001b[1m36s\u001b[0m 47ms/step - accuracy: 0.8233 - loss: 0.4351 - val_accuracy: 0.8327 - val_loss: 0.4475\n",
      "Epoch 5/10\n",
      "\u001b[1m757/757\u001b[0m \u001b[32m━━━━━━━━━━━━━━━━━━━━\u001b[0m\u001b[37m\u001b[0m \u001b[1m36s\u001b[0m 47ms/step - accuracy: 0.8226 - loss: 0.4251 - val_accuracy: 0.8282 - val_loss: 0.4319\n",
      "\u001b[1m379/379\u001b[0m \u001b[32m━━━━━━━━━━━━━━━━━━━━\u001b[0m\u001b[37m\u001b[0m \u001b[1m14s\u001b[0m 36ms/step\n",
      "\n",
      "🏆 Training Results:\n",
      "🔹 Accuracy: 0.8444\n",
      "🔹 Precision: 0.8537\n",
      "🔹 Recall: 0.7774\n",
      "🔹 F1_score: 0.8138\n",
      "\n",
      "📂 Fold 3\n",
      "\n",
      "🚀 Training RNN with rnn_units=64, dropout_rate=0.5\n",
      "Epoch 1/10\n"
     ]
    },
    {
     "name": "stderr",
     "output_type": "stream",
     "text": [
      "/home/inflaton/miniconda3/envs/fake-news/lib/python3.11/site-packages/keras/src/layers/core/embedding.py:90: UserWarning: Argument `input_length` is deprecated. Just remove it.\n",
      "  warnings.warn(\n"
     ]
    },
    {
     "name": "stdout",
     "output_type": "stream",
     "text": [
      "\u001b[1m757/757\u001b[0m \u001b[32m━━━━━━━━━━━━━━━━━━━━\u001b[0m\u001b[37m\u001b[0m \u001b[1m38s\u001b[0m 49ms/step - accuracy: 0.7096 - loss: 0.5702 - val_accuracy: 0.8279 - val_loss: 0.4159\n",
      "Epoch 2/10\n",
      "\u001b[1m757/757\u001b[0m \u001b[32m━━━━━━━━━━━━━━━━━━━━\u001b[0m\u001b[37m\u001b[0m \u001b[1m31s\u001b[0m 40ms/step - accuracy: 0.7890 - loss: 0.4722 - val_accuracy: 0.6861 - val_loss: 0.5586\n",
      "Epoch 3/10\n",
      "\u001b[1m757/757\u001b[0m \u001b[32m━━━━━━━━━━━━━━━━━━━━\u001b[0m\u001b[37m\u001b[0m \u001b[1m33s\u001b[0m 44ms/step - accuracy: 0.7497 - loss: 0.5271 - val_accuracy: 0.8086 - val_loss: 0.4585\n",
      "Epoch 4/10\n",
      "\u001b[1m757/757\u001b[0m \u001b[32m━━━━━━━━━━━━━━━━━━━━\u001b[0m\u001b[37m\u001b[0m \u001b[1m38s\u001b[0m 50ms/step - accuracy: 0.8245 - loss: 0.4350 - val_accuracy: 0.8141 - val_loss: 0.4368\n",
      "\u001b[1m379/379\u001b[0m \u001b[32m━━━━━━━━━━━━━━━━━━━━\u001b[0m\u001b[37m\u001b[0m \u001b[1m13s\u001b[0m 34ms/step\n",
      "\n",
      "🏆 Training Results:\n",
      "🔹 Accuracy: 0.8279\n",
      "🔹 Precision: 0.8328\n",
      "🔹 Recall: 0.7589\n",
      "🔹 F1_score: 0.7941\n",
      "\n",
      "📂 Fold 4\n",
      "\n",
      "🚀 Training RNN with rnn_units=64, dropout_rate=0.5\n",
      "Epoch 1/10\n"
     ]
    },
    {
     "name": "stderr",
     "output_type": "stream",
     "text": [
      "/home/inflaton/miniconda3/envs/fake-news/lib/python3.11/site-packages/keras/src/layers/core/embedding.py:90: UserWarning: Argument `input_length` is deprecated. Just remove it.\n",
      "  warnings.warn(\n"
     ]
    },
    {
     "name": "stdout",
     "output_type": "stream",
     "text": [
      "\u001b[1m757/757\u001b[0m \u001b[32m━━━━━━━━━━━━━━━━━━━━\u001b[0m\u001b[37m\u001b[0m \u001b[1m40s\u001b[0m 51ms/step - accuracy: 0.6833 - loss: 0.5937 - val_accuracy: 0.6635 - val_loss: 0.6120\n",
      "Epoch 2/10\n",
      "\u001b[1m757/757\u001b[0m \u001b[32m━━━━━━━━━━━━━━━━━━━━\u001b[0m\u001b[37m\u001b[0m \u001b[1m34s\u001b[0m 45ms/step - accuracy: 0.7294 - loss: 0.5479 - val_accuracy: 0.7791 - val_loss: 0.4854\n",
      "Epoch 3/10\n",
      "\u001b[1m757/757\u001b[0m \u001b[32m━━━━━━━━━━━━━━━━━━━━\u001b[0m\u001b[37m\u001b[0m \u001b[1m32s\u001b[0m 42ms/step - accuracy: 0.7659 - loss: 0.5076 - val_accuracy: 0.7163 - val_loss: 0.5570\n",
      "Epoch 4/10\n",
      "\u001b[1m757/757\u001b[0m \u001b[32m━━━━━━━━━━━━━━━━━━━━\u001b[0m\u001b[37m\u001b[0m \u001b[1m36s\u001b[0m 48ms/step - accuracy: 0.7166 - loss: 0.5527 - val_accuracy: 0.8266 - val_loss: 0.4226\n",
      "Epoch 5/10\n",
      "\u001b[1m757/757\u001b[0m \u001b[32m━━━━━━━━━━━━━━━━━━━━\u001b[0m\u001b[37m\u001b[0m \u001b[1m37s\u001b[0m 48ms/step - accuracy: 0.8108 - loss: 0.4424 - val_accuracy: 0.8214 - val_loss: 0.4376\n",
      "Epoch 6/10\n",
      "\u001b[1m757/757\u001b[0m \u001b[32m━━━━━━━━━━━━━━━━━━━━\u001b[0m\u001b[37m\u001b[0m \u001b[1m27s\u001b[0m 36ms/step - accuracy: 0.7840 - loss: 0.4826 - val_accuracy: 0.6814 - val_loss: 0.5773\n",
      "Epoch 7/10\n",
      "\u001b[1m757/757\u001b[0m \u001b[32m━━━━━━━━━━━━━━━━━━━━\u001b[0m\u001b[37m\u001b[0m \u001b[1m35s\u001b[0m 46ms/step - accuracy: 0.7258 - loss: 0.5388 - val_accuracy: 0.8266 - val_loss: 0.4395\n",
      "\u001b[1m379/379\u001b[0m \u001b[32m━━━━━━━━━━━━━━━━━━━━\u001b[0m\u001b[37m\u001b[0m \u001b[1m16s\u001b[0m 42ms/step\n",
      "\n",
      "🏆 Training Results:\n",
      "🔹 Accuracy: 0.8266\n",
      "🔹 Precision: 0.8273\n",
      "🔹 Recall: 0.7628\n",
      "🔹 F1_score: 0.7937\n",
      "\n",
      "📂 Fold 5\n",
      "\n",
      "🚀 Training RNN with rnn_units=64, dropout_rate=0.5\n",
      "Epoch 1/10\n"
     ]
    },
    {
     "name": "stderr",
     "output_type": "stream",
     "text": [
      "/home/inflaton/miniconda3/envs/fake-news/lib/python3.11/site-packages/keras/src/layers/core/embedding.py:90: UserWarning: Argument `input_length` is deprecated. Just remove it.\n",
      "  warnings.warn(\n"
     ]
    },
    {
     "name": "stdout",
     "output_type": "stream",
     "text": [
      "\u001b[1m757/757\u001b[0m \u001b[32m━━━━━━━━━━━━━━━━━━━━\u001b[0m\u001b[37m\u001b[0m \u001b[1m39s\u001b[0m 51ms/step - accuracy: 0.7178 - loss: 0.5652 - val_accuracy: 0.8264 - val_loss: 0.4154\n",
      "Epoch 2/10\n",
      "\u001b[1m757/757\u001b[0m \u001b[32m━━━━━━━━━━━━━━━━━━━━\u001b[0m\u001b[37m\u001b[0m \u001b[1m37s\u001b[0m 49ms/step - accuracy: 0.8085 - loss: 0.4547 - val_accuracy: 0.6484 - val_loss: 0.6221\n",
      "Epoch 3/10\n",
      "\u001b[1m757/757\u001b[0m \u001b[32m━━━━━━━━━━━━━━━━━━━━\u001b[0m\u001b[37m\u001b[0m \u001b[1m39s\u001b[0m 51ms/step - accuracy: 0.7533 - loss: 0.5169 - val_accuracy: 0.8139 - val_loss: 0.4343\n",
      "Epoch 4/10\n",
      "\u001b[1m757/757\u001b[0m \u001b[32m━━━━━━━━━━━━━━━━━━━━\u001b[0m\u001b[37m\u001b[0m \u001b[1m36s\u001b[0m 48ms/step - accuracy: 0.8002 - loss: 0.4493 - val_accuracy: 0.6788 - val_loss: 0.5872\n",
      "\u001b[1m379/379\u001b[0m \u001b[32m━━━━━━━━━━━━━━━━━━━━\u001b[0m\u001b[37m\u001b[0m \u001b[1m11s\u001b[0m 30ms/step\n",
      "\n",
      "🏆 Training Results:\n",
      "🔹 Accuracy: 0.8264\n",
      "🔹 Precision: 0.8073\n",
      "🔹 Recall: 0.7923\n",
      "🔹 F1_score: 0.7997\n",
      "📊 Average F1-score: 0.7989\n",
      "CPU times: user 1h 14min 45s, sys: 23min 24s, total: 1h 38min 10s\n",
      "Wall time: 1h 22min 35s\n"
     ]
    },
    {
     "data": {
      "text/plain": [
       "{'rnn_units': 32, 'dropout_rate': 0.5}"
      ]
     },
     "execution_count": 28,
     "metadata": {},
     "output_type": "execute_result"
    }
   ],
   "source": [
    "%%time\n",
    "\n",
    "best_params_rewritten = do_grid_search(data_rewritten)\n",
    "best_params_rewritten"
   ]
  },
  {
   "cell_type": "code",
   "execution_count": 13,
   "metadata": {},
   "outputs": [
    {
     "name": "stdout",
     "output_type": "stream",
     "text": [
      "\n",
      "🚀 Training RNN with rnn_units=32, dropout_rate=0.5\n"
     ]
    },
    {
     "name": "stderr",
     "output_type": "stream",
     "text": [
      "/home/inflaton/miniconda3/envs/fake-news/lib/python3.11/site-packages/keras/src/layers/core/embedding.py:90: UserWarning: Argument `input_length` is deprecated. Just remove it.\n",
      "  warnings.warn(\n",
      "I0000 00:00:1740100502.123699    1124 gpu_device.cc:2022] Created device /job:localhost/replica:0/task:0/device:GPU:0 with 45689 MB memory:  -> device: 0, name: NVIDIA RTX 6000 Ada Generation, pci bus id: 0000:01:00.0, compute capability: 8.9\n"
     ]
    },
    {
     "name": "stdout",
     "output_type": "stream",
     "text": [
      "Epoch 1/10\n"
     ]
    },
    {
     "name": "stderr",
     "output_type": "stream",
     "text": [
      "WARNING: All log messages before absl::InitializeLog() is called are written to STDERR\n",
      "I0000 00:00:1740100504.135575    2322 service.cc:148] XLA service 0x7efd6400a9e0 initialized for platform CUDA (this does not guarantee that XLA will be used). Devices:\n",
      "I0000 00:00:1740100504.135846    2322 service.cc:156]   StreamExecutor device (0): NVIDIA RTX 6000 Ada Generation, Compute Capability 8.9\n",
      "2025-02-21 09:15:04.162190: I tensorflow/compiler/mlir/tensorflow/utils/dump_mlir_util.cc:268] disabling MLIR crash reproducer, set env var `MLIR_CRASH_REPRODUCER_DIRECTORY` to enable.\n",
      "I0000 00:00:1740100504.247861    2322 cuda_dnn.cc:529] Loaded cuDNN version 90300\n"
     ]
    },
    {
     "name": "stdout",
     "output_type": "stream",
     "text": [
      "\u001b[1m  4/851\u001b[0m \u001b[37m━━━━━━━━━━━━━━━━━━━━\u001b[0m \u001b[1m25s\u001b[0m 30ms/step - accuracy: 0.4515 - loss: 0.8570"
     ]
    },
    {
     "name": "stderr",
     "output_type": "stream",
     "text": [
      "I0000 00:00:1740100504.716820    2322 device_compiler.h:188] Compiled cluster using XLA!  This line is logged at most once for the lifetime of the process.\n"
     ]
    },
    {
     "name": "stdout",
     "output_type": "stream",
     "text": [
      "\u001b[1m851/851\u001b[0m \u001b[32m━━━━━━━━━━━━━━━━━━━━\u001b[0m\u001b[37m\u001b[0m \u001b[1m25s\u001b[0m 29ms/step - accuracy: 0.7100 - loss: 0.5744 - val_accuracy: 0.7944 - val_loss: 0.4637\n",
      "Epoch 2/10\n",
      "\u001b[1m851/851\u001b[0m \u001b[32m━━━━━━━━━━━━━━━━━━━━\u001b[0m\u001b[37m\u001b[0m \u001b[1m25s\u001b[0m 29ms/step - accuracy: 0.7463 - loss: 0.5310 - val_accuracy: 0.8207 - val_loss: 0.4364\n",
      "Epoch 3/10\n",
      "\u001b[1m851/851\u001b[0m \u001b[32m━━━━━━━━━━━━━━━━━━━━\u001b[0m\u001b[37m\u001b[0m \u001b[1m22s\u001b[0m 26ms/step - accuracy: 0.7215 - loss: 0.5539 - val_accuracy: 0.8136 - val_loss: 0.4865\n",
      "Epoch 4/10\n",
      "\u001b[1m851/851\u001b[0m \u001b[32m━━━━━━━━━━━━━━━━━━━━\u001b[0m\u001b[37m\u001b[0m \u001b[1m24s\u001b[0m 28ms/step - accuracy: 0.7745 - loss: 0.5199 - val_accuracy: 0.7898 - val_loss: 0.4899\n",
      "Epoch 5/10\n",
      "\u001b[1m851/851\u001b[0m \u001b[32m━━━━━━━━━━━━━━━━━━━━\u001b[0m\u001b[37m\u001b[0m \u001b[1m24s\u001b[0m 29ms/step - accuracy: 0.7297 - loss: 0.5610 - val_accuracy: 0.7193 - val_loss: 0.5526\n",
      "\u001b[1m190/190\u001b[0m \u001b[32m━━━━━━━━━━━━━━━━━━━━\u001b[0m\u001b[37m\u001b[0m \u001b[1m4s\u001b[0m 18ms/step\n",
      "\n",
      "🏆 Training Results:\n",
      "🔹 Accuracy: 0.8207\n",
      "🔹 Precision: 0.8612\n",
      "🔹 Recall: 0.7034\n",
      "🔹 F1_score: 0.7744\n",
      "CPU times: user 4min 13s, sys: 37.5 s, total: 4min 51s\n",
      "Wall time: 3min 7s\n"
     ]
    }
   ],
   "source": [
    "%%time\n",
    "\n",
    "\n",
    "model_rewritten = train_model(\n",
    "    train_data_rewritten,\n",
    "    val_data_rewritten,\n",
    "    rnn_units=best_params_rewritten[\"rnn_units\"],\n",
    "    dropout_rate=best_params_rewritten[\"dropout_rate\"],\n",
    ")\n",
    "model_rewritten.save(\"results/RNN_model_rewritten.keras\")"
   ]
  },
  {
   "cell_type": "code",
   "execution_count": 16,
   "metadata": {},
   "outputs": [
    {
     "name": "stdout",
     "output_type": "stream",
     "text": [
      "Evaluating Model\n",
      "\u001b[1m379/379\u001b[0m \u001b[32m━━━━━━━━━━━━━━━━━━━━\u001b[0m\u001b[37m\u001b[0m \u001b[1m6s\u001b[0m 15ms/step\n",
      "Accuracy: 0.8617\n",
      "Precision: 0.8835\n",
      "Recall: 0.7879\n",
      "F1: 0.8330\n"
     ]
    }
   ],
   "source": [
    "evaluate_model(model_rewritten, train_data_rewritten, val_data_combined)"
   ]
  },
  {
   "cell_type": "code",
   "execution_count": 17,
   "metadata": {},
   "outputs": [
    {
     "name": "stdout",
     "output_type": "stream",
     "text": [
      "Evaluating Model\n",
      "\u001b[1m190/190\u001b[0m \u001b[32m━━━━━━━━━━━━━━━━━━━━\u001b[0m\u001b[37m\u001b[0m \u001b[1m2s\u001b[0m 9ms/step\n",
      "Accuracy: 0.8231\n",
      "Precision: 0.8466\n",
      "Recall: 0.7276\n",
      "F1: 0.7826\n"
     ]
    }
   ],
   "source": [
    "evaluate_model(model_rewritten, train_data_rewritten, val_data_rewritten)"
   ]
  },
  {
   "cell_type": "code",
   "execution_count": 18,
   "metadata": {},
   "outputs": [
    {
     "name": "stdout",
     "output_type": "stream",
     "text": [
      "Evaluating Model\n",
      "\u001b[1m190/190\u001b[0m \u001b[32m━━━━━━━━━━━━━━━━━━━━\u001b[0m\u001b[37m\u001b[0m \u001b[1m5s\u001b[0m 24ms/step\n",
      "Accuracy: 0.9003\n",
      "Precision: 0.9178\n",
      "Recall: 0.8481\n",
      "F1: 0.8816\n"
     ]
    }
   ],
   "source": [
    "evaluate_model(model_rewritten, train_data_rewritten, val_data)"
   ]
  }
 ],
 "metadata": {
  "kernelspec": {
   "display_name": "fake-news",
   "language": "python",
   "name": "python3"
  },
  "language_info": {
   "codemirror_mode": {
    "name": "ipython",
    "version": 3
   },
   "file_extension": ".py",
   "mimetype": "text/x-python",
   "name": "python",
   "nbconvert_exporter": "python",
   "pygments_lexer": "ipython3",
   "version": "3.11.11"
  }
 },
 "nbformat": 4,
 "nbformat_minor": 2
}
