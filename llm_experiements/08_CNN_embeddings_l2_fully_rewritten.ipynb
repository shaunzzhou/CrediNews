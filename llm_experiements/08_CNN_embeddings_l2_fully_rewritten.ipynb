{
 "cells": [
  {
   "cell_type": "code",
   "execution_count": 1,
   "metadata": {},
   "outputs": [
    {
     "name": "stdout",
     "output_type": "stream",
     "text": [
      "working dir: /home/inflaton/code/CrediNews\n"
     ]
    }
   ],
   "source": [
    "import os\n",
    "import sys\n",
    "from pathlib import Path\n",
    "\n",
    "if \"workding_dir\" not in locals():\n",
    "    workding_dir = str(Path.cwd().parent)\n",
    "os.chdir(workding_dir)\n",
    "sys.path.append(workding_dir)\n",
    "print(\"working dir:\", workding_dir)"
   ]
  },
  {
   "cell_type": "code",
   "execution_count": 6,
   "metadata": {},
   "outputs": [
    {
     "name": "stdout",
     "output_type": "stream",
     "text": [
      "Hello! I'm an AI assistant created by Alibaba Cloud, and I don't have feelings, but I'm here and ready to help you with any questions or tasks you might have. How can I assist you today?\n",
      "I can't provide real-time information like current weather conditions because I don't have access to real-time data or the internet. However, you can easily check the current weather by using a weather app on your smartphone, visiting a weather website such as Weather.com, or checking with intelligent assistants like Siri, Alexa, or Google Assistant. If you give me your location, I can also guide you on how to find this information rather than providing it myself!\n",
      "Sure! Here's a light-hearted joke for you:\n",
      "\n",
      "Why don't程序员 (programmers) ever get lost?\n",
      "\n",
      "Because they always have map reduces!\n"
     ]
    }
   ],
   "source": [
    "import aiohttp\n",
    "import nest_asyncio\n",
    "import asyncio\n",
    "\n",
    "# Apply the nest_asyncio patch\n",
    "nest_asyncio.apply()\n",
    "\n",
    "async def fetch(session, messages):\n",
    "    url = \"http://localhost:11434/v1/chat/completions\"\n",
    "    headers = {\n",
    "        \"Authorization\": f\"Bearer Ollama\",\n",
    "        \"Content-Type\": \"application/json\"\n",
    "    }\n",
    "    data = {\n",
    "        \"model\": \"qwen2.5:7b_8k\",\n",
    "        \"messages\": messages,\n",
    "        \"max_tokens\": 1500\n",
    "    }\n",
    "    async with session.post(url, headers=headers, json=data) as response:\n",
    "        return await response.json()\n",
    "\n",
    "async def main(conversations):\n",
    "    async with aiohttp.ClientSession() as session:\n",
    "        tasks = [fetch(session, convo) for convo in conversations]\n",
    "        responses = await asyncio.gather(*tasks)\n",
    "        for response in responses:\n",
    "            print(response['choices'][0]['message']['content'])\n",
    "\n",
    "conversations = [\n",
    "    [{\"role\": \"user\", \"content\": \"Hello, how are you?\"}],\n",
    "    [{\"role\": \"user\", \"content\": \"What is the weather today?\"}],\n",
    "    [{\"role\": \"user\", \"content\": \"Tell me a joke.\"}]\n",
    "]\n",
    "\n",
    "asyncio.run(main(conversations))"
   ]
  },
  {
   "cell_type": "code",
   "execution_count": 7,
   "metadata": {},
   "outputs": [
    {
     "name": "stderr",
     "output_type": "stream",
     "text": [
      "/home/inflaton/miniconda3/envs/fake-news/lib/python3.11/site-packages/pandas/core/indexes/interval.py:84: RuntimeWarning: coroutine 'main' was never awaited\n",
      "  from pandas.core.indexes.multi import MultiIndex\n",
      "RuntimeWarning: Enable tracemalloc to get the object allocation traceback\n"
     ]
    },
    {
     "name": "stdout",
     "output_type": "stream",
     "text": [
      "<class 'pandas.core.frame.DataFrame'>\n",
      "RangeIndex: 54441 entries, 0 to 54440\n",
      "Data columns (total 2 columns):\n",
      " #   Column        Non-Null Count  Dtype \n",
      "---  ------        --------------  ----- \n",
      " 0   label         54441 non-null  int64 \n",
      " 1   full_content  54441 non-null  object\n",
      "dtypes: int64(1), object(1)\n",
      "memory usage: 850.8+ KB\n"
     ]
    }
   ],
   "source": [
    "import pandas as pd\n",
    "\n",
    "df = pd.read_csv(\"train_data.csv\")\n",
    "df.info()"
   ]
  },
  {
   "cell_type": "code",
   "execution_count": 10,
   "metadata": {},
   "outputs": [
    {
     "name": "stdout",
     "output_type": "stream",
     "text": [
      "<class 'pandas.core.frame.DataFrame'>\n",
      "RangeIndex: 13611 entries, 0 to 13610\n",
      "Data columns (total 2 columns):\n",
      " #   Column        Non-Null Count  Dtype \n",
      "---  ------        --------------  ----- \n",
      " 0   label         13611 non-null  int64 \n",
      " 1   full_content  13611 non-null  object\n",
      "dtypes: int64(1), object(1)\n",
      "memory usage: 212.8+ KB\n",
      "<class 'pandas.core.frame.DataFrame'>\n",
      "RangeIndex: 13610 entries, 13611 to 27220\n",
      "Data columns (total 2 columns):\n",
      " #   Column        Non-Null Count  Dtype \n",
      "---  ------        --------------  ----- \n",
      " 0   label         13610 non-null  int64 \n",
      " 1   full_content  13610 non-null  object\n",
      "dtypes: int64(1), object(1)\n",
      "memory usage: 212.8+ KB\n",
      "<class 'pandas.core.frame.DataFrame'>\n",
      "RangeIndex: 13610 entries, 27221 to 40830\n",
      "Data columns (total 2 columns):\n",
      " #   Column        Non-Null Count  Dtype \n",
      "---  ------        --------------  ----- \n",
      " 0   label         13610 non-null  int64 \n",
      " 1   full_content  13610 non-null  object\n",
      "dtypes: int64(1), object(1)\n",
      "memory usage: 212.8+ KB\n",
      "<class 'pandas.core.frame.DataFrame'>\n",
      "RangeIndex: 13610 entries, 40831 to 54440\n",
      "Data columns (total 2 columns):\n",
      " #   Column        Non-Null Count  Dtype \n",
      "---  ------        --------------  ----- \n",
      " 0   label         13610 non-null  int64 \n",
      " 1   full_content  13610 non-null  object\n",
      "dtypes: int64(1), object(1)\n",
      "memory usage: 212.8+ KB\n"
     ]
    },
    {
     "name": "stderr",
     "output_type": "stream",
     "text": [
      "/home/inflaton/miniconda3/envs/fake-news/lib/python3.11/site-packages/numpy/core/fromnumeric.py:59: FutureWarning: 'DataFrame.swapaxes' is deprecated and will be removed in a future version. Please use 'DataFrame.transpose' instead.\n",
      "  return bound(*args, **kwds)\n"
     ]
    },
    {
     "data": {
      "text/plain": [
       "(None, None, None, None)"
      ]
     },
     "execution_count": 10,
     "metadata": {},
     "output_type": "execute_result"
    }
   ],
   "source": [
    "import numpy as np\n",
    "\n",
    "# split the data into 4 equal parts\n",
    "split = 4\n",
    "df_split = np.array_split(df, split)\n",
    "df_split[0].info(), df_split[1].info(), df_split[2].info(), df_split[3].info()"
   ]
  },
  {
   "cell_type": "code",
   "execution_count": 11,
   "metadata": {},
   "outputs": [],
   "source": [
    "for i in range(split):\n",
    "    df_split[i].to_csv(f\"train_data_{i + 1}.csv\", index=False)"
   ]
  }
 ],
 "metadata": {
  "kernelspec": {
   "display_name": "fake-news",
   "language": "python",
   "name": "python3"
  },
  "language_info": {
   "codemirror_mode": {
    "name": "ipython",
    "version": 3
   },
   "file_extension": ".py",
   "mimetype": "text/x-python",
   "name": "python",
   "nbconvert_exporter": "python",
   "pygments_lexer": "ipython3",
   "version": "3.11.11"
  }
 },
 "nbformat": 4,
 "nbformat_minor": 4
}
