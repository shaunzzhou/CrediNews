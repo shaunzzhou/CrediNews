{
 "cells": [
  {
   "cell_type": "code",
   "execution_count": 1,
   "metadata": {},
   "outputs": [],
   "source": [
    "# Import necessary libraries\n",
    "\n",
    "# Data manipulation\n",
    "import pandas as pd\n",
    "import numpy as np\n",
    "\n",
    "# Statistical functions\n",
    "from scipy.stats import zscore\n",
    "\n",
    "# For concurrency (running functions in parallel)\n",
    "from concurrent.futures import ThreadPoolExecutor\n",
    "\n",
    "# For caching (to speed up repeated function calls)\n",
    "from functools import lru_cache\n",
    "\n",
    "# For progress tracking\n",
    "from tqdm import tqdm\n",
    "\n",
    "# Plotting and Visualisation\n",
    "import matplotlib.pyplot as plt\n",
    "import seaborn as sns\n",
    "\n",
    "# Language Detection packages\n",
    "# `langdetect` for detecting language\n",
    "from langdetect import detect as langdetect_detect, DetectorFactory\n",
    "from langdetect.lang_detect_exception import LangDetectException\n",
    "# `langid` for an alternative language detection method\n",
    "from langid import classify as langid_classify\n",
    "\n",
    "# Text Preprocessing and NLP\n",
    "# Stopwords (common words to ignore) from NLTK\n",
    "from nltk.corpus import stopwords\n",
    "# Tokenizing sentences/words\n",
    "from nltk.tokenize import word_tokenize\n",
    "# Part-of-speech tagging\n",
    "from nltk import pos_tag\n",
    "# Lemmatization (converting words to their base form)\n",
    "from nltk.stem import WordNetLemmatizer\n",
    "import nltk\n",
    "# Regular expressions for text pattern matching\n",
    "import re\n",
    "\n",
    "# Word Cloud generation\n",
    "from wordcloud import WordCloud"
   ]
  },
  {
   "cell_type": "code",
   "execution_count": 2,
   "metadata": {},
   "outputs": [
    {
     "name": "stdout",
     "output_type": "stream",
     "text": [
      "working dir: /home/inflaton/code/CrediNews\n"
     ]
    }
   ],
   "source": [
    "import os\n",
    "import sys\n",
    "from pathlib import Path\n",
    "\n",
    "if \"workding_dir\" not in locals():\n",
    "    workding_dir = str(Path.cwd().parent)\n",
    "os.chdir(workding_dir)\n",
    "sys.path.append(workding_dir)\n",
    "print(\"working dir:\", workding_dir)"
   ]
  },
  {
   "cell_type": "code",
   "execution_count": 3,
   "metadata": {},
   "outputs": [
    {
     "name": "stderr",
     "output_type": "stream",
     "text": [
      "/home/inflaton/miniconda3/envs/fake-news/lib/python3.11/site-packages/tqdm/auto.py:21: TqdmWarning: IProgress not found. Please update jupyter and ipywidgets. See https://ipywidgets.readthedocs.io/en/stable/user_install.html\n",
      "  from .autonotebook import tqdm as notebook_tqdm\n",
      "Generating train split: 54441 examples [00:01, 31171.08 examples/s]\n",
      "Generating test split: 6050 examples [00:00, 29768.12 examples/s]\n",
      "Generating rewritten_train split: 54441 examples [00:01, 38242.54 examples/s]\n",
      "Generating rewritten_test split: 6050 examples [00:00, 40664.04 examples/s]\n"
     ]
    },
    {
     "data": {
      "text/plain": [
       "DatasetDict({\n",
       "    train: Dataset({\n",
       "        features: ['label', 'full_content', 'processed_full_content'],\n",
       "        num_rows: 54441\n",
       "    })\n",
       "    test: Dataset({\n",
       "        features: ['label', 'full_content', 'processed_full_content'],\n",
       "        num_rows: 6050\n",
       "    })\n",
       "    rewritten_train: Dataset({\n",
       "        features: ['label', 'full_content', 'processed_full_content'],\n",
       "        num_rows: 54441\n",
       "    })\n",
       "    rewritten_test: Dataset({\n",
       "        features: ['label', 'full_content', 'processed_full_content'],\n",
       "        num_rows: 6050\n",
       "    })\n",
       "})"
      ]
     },
     "execution_count": 3,
     "metadata": {},
     "output_type": "execute_result"
    }
   ],
   "source": [
    "from datasets import load_dataset, concatenate_datasets, Dataset\n",
    "\n",
    "datasets = load_dataset(\n",
    "    \"csv\",\n",
    "    data_files={\n",
    "        \"train\": [\n",
    "            \"dataset/train_data_1.csv\",\n",
    "            \"dataset/train_data_2.csv\",\n",
    "            \"dataset/train_data_3.csv\",\n",
    "            \"dataset/train_data_4.csv\",\n",
    "        ],\n",
    "        \"test\": \"dataset/test_data.csv\",\n",
    "        \"rewritten_train\": [\n",
    "            \"dataset/rewritten_train_data_1.csv\",\n",
    "            \"dataset/rewritten_train_data_2.csv\",\n",
    "            \"dataset/rewritten_train_data_3.csv\",\n",
    "            \"dataset/rewritten_train_data_4.csv\",\n",
    "        ],\n",
    "        \"rewritten_test\": \"dataset/rewritten_test_data.csv\",\n",
    "    },\n",
    ")\n",
    "datasets"
   ]
  },
  {
   "cell_type": "code",
   "execution_count": 4,
   "metadata": {},
   "outputs": [
    {
     "name": "stderr",
     "output_type": "stream",
     "text": [
      "2025-02-20 19:21:14.031180: I tensorflow/core/util/port.cc:153] oneDNN custom operations are on. You may see slightly different numerical results due to floating-point round-off errors from different computation orders. To turn them off, set the environment variable `TF_ENABLE_ONEDNN_OPTS=0`.\n",
      "2025-02-20 19:21:14.144269: E external/local_xla/xla/stream_executor/cuda/cuda_fft.cc:477] Unable to register cuFFT factory: Attempting to register factory for plugin cuFFT when one has already been registered\n",
      "WARNING: All log messages before absl::InitializeLog() is called are written to STDERR\n",
      "E0000 00:00:1740050474.190904 2448696 cuda_dnn.cc:8310] Unable to register cuDNN factory: Attempting to register factory for plugin cuDNN when one has already been registered\n",
      "E0000 00:00:1740050474.206503 2448696 cuda_blas.cc:1418] Unable to register cuBLAS factory: Attempting to register factory for plugin cuBLAS when one has already been registered\n",
      "2025-02-20 19:21:14.325969: I tensorflow/core/platform/cpu_feature_guard.cc:210] This TensorFlow binary is optimized to use available CPU instructions in performance-critical operations.\n",
      "To enable the following instructions: AVX2 AVX_VNNI FMA, in other operations, rebuild TensorFlow with the appropriate compiler flags.\n"
     ]
    }
   ],
   "source": [
    "from tensorflow.keras.models import Sequential\n",
    "from tensorflow.keras.layers import Embedding, Dense, Dropout, Flatten\n",
    "from tensorflow.keras.optimizers import Adam\n",
    "from tensorflow.keras.regularizers import l2\n",
    "\n",
    "def create_basic_nn(vocab_size=10000, embedding_dim=128, input_length=300, dense_units=64, dropout_rate=0.5, l2_lambda=0.01):\n",
    "    \"\"\"Creates a simple feedforward neural network with an embedding layer and configurable dense units.\"\"\"\n",
    "    \n",
    "    model = Sequential([\n",
    "        Embedding(vocab_size, embedding_dim, input_length=input_length),\n",
    "        Flatten(),  # Flatten the embedding output\n",
    "        Dense(dense_units, activation='relu', kernel_regularizer=l2(l2_lambda)),  \n",
    "        Dropout(dropout_rate),  \n",
    "        Dense(dense_units // 2, activation='relu', kernel_regularizer=l2(l2_lambda)), \n",
    "        Dropout(dropout_rate),\n",
    "        Dense(1, activation='sigmoid', kernel_regularizer=l2(l2_lambda))\n",
    "    ])\n",
    "\n",
    "    model.compile(optimizer=Adam(learning_rate=0.001), loss='binary_crossentropy', metrics=['accuracy'])\n",
    "    return model\n",
    "\n"
   ]
  },
  {
   "cell_type": "code",
   "execution_count": 5,
   "metadata": {},
   "outputs": [],
   "source": [
    "from tensorflow.keras.preprocessing.text import Tokenizer\n",
    "from tensorflow.keras.preprocessing.sequence import pad_sequences\n",
    "from tensorflow.keras.callbacks import EarlyStopping\n",
    "from sklearn.model_selection import train_test_split\n",
    "import tensorflow as tf\n",
    "from sklearn.metrics import accuracy_score, precision_score, recall_score, f1_score\n",
    "\n",
    "\n",
    "def train_model(train_data, val_data, epochs=10, batch_size=64, dense_units=64, dropout_rate=0.3, grid_search=False):\n",
    "    \"\"\"Trains a simple NN model with word embeddings.\"\"\"\n",
    "    seed = 42\n",
    "    tf.random.set_seed(seed)\n",
    "    np.random.seed(seed)\n",
    "\n",
    "    vocab_size = 10000\n",
    "    max_sequence_length = 300\n",
    "\n",
    "    print(f\"\\n🚀 Training Simple NN Model with dense_units = {dense_units}, dropout_rate = {dropout_rate} 🚀\\n\")\n",
    "\n",
    "    # Extract texts and labels\n",
    "    train_texts = train_data[\"processed_full_content\"]\n",
    "    val_texts = val_data[\"processed_full_content\"]\n",
    "    y_train = train_data[\"label\"]\n",
    "    y_val = val_data[\"label\"]\n",
    "\n",
    "    # Tokenize texts\n",
    "    tokenizer = Tokenizer(num_words=vocab_size)\n",
    "    tokenizer.fit_on_texts(train_texts)\n",
    "\n",
    "    # Convert texts to sequences and pad them\n",
    "    X_train = pad_sequences(tokenizer.texts_to_sequences(train_texts), maxlen=max_sequence_length)\n",
    "    X_val = pad_sequences(tokenizer.texts_to_sequences(val_texts), maxlen=max_sequence_length)\n",
    "\n",
    "    # Create and compile the model\n",
    "    model = create_basic_nn(vocab_size=vocab_size, input_length=max_sequence_length)\n",
    "\n",
    "    # Early stopping\n",
    "    early_stopping = EarlyStopping(monitor='val_loss', patience=3, restore_best_weights=True)\n",
    "\n",
    "    # Train the model\n",
    "    model.fit(\n",
    "        X_train, y_train,\n",
    "        epochs=epochs,\n",
    "        batch_size=batch_size,\n",
    "        validation_data=(X_val, y_val),\n",
    "        callbacks=[early_stopping],\n",
    "        verbose=1\n",
    "    )\n",
    "\n",
    "     # Evaluate model performance on validation data\n",
    "    y_pred = (model.predict(X_val) > 0.5).astype(int).reshape(-1)\n",
    "\n",
    "    accuracy = accuracy_score(y_val, y_pred)\n",
    "    precision = precision_score(y_val, y_pred)\n",
    "    recall = recall_score(y_val, y_pred)\n",
    "    f1 = f1_score(y_val, y_pred)\n",
    "\n",
    "    #  Print evaluation metrics\n",
    "    result = {\"accuracy\": accuracy, \"precision\": precision, \"recall\": recall, \"f1_score\": f1}\n",
    "    print(\"\\n🏆 Training Results:\")\n",
    "\n",
    "    for key, value in result.items():\n",
    "        print(f\"🔹 {key.capitalize()}: {value:.4f}\")\n",
    "\n",
    "    return result if grid_search else model"
   ]
  },
  {
   "cell_type": "code",
   "execution_count": 6,
   "metadata": {},
   "outputs": [],
   "source": [
    "from sklearn.metrics import accuracy_score, precision_score, recall_score, f1_score\n",
    "\n",
    "def evaluate_model(model, train_data, val_data):\n",
    "    \"\"\"Evaluates the trained NN model.\"\"\"\n",
    "    print(\"📊 Evaluating Model...\")\n",
    "\n",
    "    max_words = 10000\n",
    "    max_sequence_length = 300\n",
    "\n",
    "    train_texts = train_data[\"processed_full_content\"]\n",
    "    tokenizer = Tokenizer(num_words=max_words)\n",
    "    tokenizer.fit_on_texts(train_texts)\n",
    "\n",
    "    y_val = val_data[\"label\"]\n",
    "    val_texts = val_data[\"processed_full_content\"]\n",
    "\n",
    "    # Convert validation text into padded sequences using the same tokenizer\n",
    "    X_val = pad_sequences(tokenizer.texts_to_sequences(val_texts), maxlen=max_sequence_length)\n",
    "\n",
    "    # Predict and threshold\n",
    "    y_pred = (model.predict(X_val) > 0.5).astype(int).reshape(-1)\n",
    "\n",
    "    # Compute evaluation metrics\n",
    "    accuracy = accuracy_score(y_val, y_pred)\n",
    "    precision = precision_score(y_val, y_pred)\n",
    "    recall = recall_score(y_val, y_pred)\n",
    "    f1 = f1_score(y_val, y_pred)\n",
    "\n",
    "    print(f\"Accuracy: {accuracy:.4f}\")\n",
    "    print(f\"Precision: {precision:.4f}\")\n",
    "    print(f\"Recall: {recall:.4f}\")\n",
    "    print(f\"F1: {f1:.4f}\")\n",
    "\n",
    "    # print(\"\\n🏆 Final Evaluation Results:\")\n",
    "    # for key, value in {\"accuracy\": accuracy, \"precision\": precision, \"recall\": recall, \"f1_score\": f1}.items():\n",
    "    #     print(f\"🔹 {key.capitalize()}: {value:.4f}\")\n",
    "\n",
    "    # return {\"accuracy\": accuracy, \"precision\": precision, \"recall\": recall, \"f1_score\": f1}\n"
   ]
  },
  {
   "cell_type": "code",
   "execution_count": 7,
   "metadata": {},
   "outputs": [],
   "source": [
    "from sklearn.model_selection import StratifiedKFold\n",
    "import numpy as np\n",
    "\n",
    "def do_grid_search(data):\n",
    "    \"\"\"Performs Grid Search for the best NN hyperparameters (dropout_rate, dense_units).\"\"\"\n",
    "    \n",
    "    # ✅ Now testing different dropout rates and dense units\n",
    "    param_grid = {\n",
    "        \"dropout_rate\": [0.3, 0.5],  \n",
    "        \"dense_units\": [64, 128]  \n",
    "    }\n",
    "    \n",
    "    results = []\n",
    "    best_score = 0\n",
    "    best_params = None\n",
    "\n",
    "    for dense_units in param_grid[\"dense_units\"]:\n",
    "        for dropout_rate in param_grid[\"dropout_rate\"]:\n",
    "            print(f\"\\n🔍 Testing dense_units={dense_units}, dropout_rate={dropout_rate}\")\n",
    "\n",
    "            kfold = StratifiedKFold(n_splits=5, shuffle=True, random_state=42)\n",
    "            fold_scores = []\n",
    "\n",
    "            for fold, (train_idx, val_idx) in enumerate(\n",
    "                kfold.split(data[\"processed_full_content\"], data[\"label\"].to_numpy().ravel()), 1\n",
    "            ):\n",
    "                print(f\"\\n📂 Fold {fold}\")\n",
    "\n",
    "                train_data = data.iloc[train_idx]\n",
    "                val_data = data.iloc[val_idx]\n",
    "\n",
    "                # Pass dense_units into train_model\n",
    "                result = train_model(\n",
    "                    train_data=train_data,\n",
    "                    val_data=val_data,\n",
    "                    dense_units=dense_units,\n",
    "                    dropout_rate=dropout_rate,\n",
    "                    grid_search=True\n",
    "                )\n",
    "                \n",
    "                fold_scores.append(result[\"f1_score\"])\n",
    "\n",
    "            avg_score = np.mean(fold_scores)\n",
    "            print(f\"📊 Average F1-score: {avg_score:.4f}\")\n",
    "\n",
    "            if avg_score > best_score:\n",
    "                best_score = avg_score\n",
    "                best_params = {\"dense_units\": dense_units, \"dropout_rate\": dropout_rate}\n",
    "\n",
    "    return best_params\n"
   ]
  },
  {
   "cell_type": "code",
   "execution_count": 8,
   "metadata": {},
   "outputs": [
    {
     "name": "stdout",
     "output_type": "stream",
     "text": [
      "<class 'pandas.core.frame.DataFrame'>\n",
      "RangeIndex: 60491 entries, 0 to 60490\n",
      "Data columns (total 3 columns):\n",
      " #   Column                  Non-Null Count  Dtype \n",
      "---  ------                  --------------  ----- \n",
      " 0   label                   60491 non-null  int64 \n",
      " 1   full_content            60491 non-null  object\n",
      " 2   processed_full_content  60491 non-null  object\n",
      "dtypes: int64(1), object(2)\n",
      "memory usage: 1.4+ MB\n"
     ]
    }
   ],
   "source": [
    "train_data = datasets[\"train\"].to_pandas()\n",
    "val_data = datasets[\"test\"].to_pandas()\n",
    "data = pd.concat([train_data, val_data], ignore_index=True)\n",
    "data.info()"
   ]
  },
  {
   "cell_type": "code",
   "execution_count": 9,
   "metadata": {},
   "outputs": [
    {
     "name": "stdout",
     "output_type": "stream",
     "text": [
      "\n",
      "🔍 Testing dense_units=64, dropout_rate=0.3\n",
      "\n",
      "📂 Fold 1\n",
      "\n",
      "🚀 Training Simple NN Model with dense_units = 64, dropout_rate = 0.3 🚀\n",
      "\n",
      "Epoch 1/10\n"
     ]
    },
    {
     "name": "stderr",
     "output_type": "stream",
     "text": [
      "/home/inflaton/miniconda3/envs/fake-news/lib/python3.11/site-packages/keras/src/layers/core/embedding.py:90: UserWarning: Argument `input_length` is deprecated. Just remove it.\n",
      "  warnings.warn(\n",
      "2025-02-20 19:21:28.755899: E external/local_xla/xla/stream_executor/cuda/cuda_driver.cc:152] failed call to cuInit: INTERNAL: CUDA error: Failed call to cuInit: CUDA_ERROR_INVALID_VALUE: invalid argument\n"
     ]
    },
    {
     "name": "stdout",
     "output_type": "stream",
     "text": [
      "\u001b[1m757/757\u001b[0m \u001b[32m━━━━━━━━━━━━━━━━━━━━\u001b[0m\u001b[37m\u001b[0m \u001b[1m8s\u001b[0m 10ms/step - accuracy: 0.8638 - loss: 0.7606 - val_accuracy: 0.9674 - val_loss: 0.3561\n",
      "Epoch 2/10\n",
      "\u001b[1m757/757\u001b[0m \u001b[32m━━━━━━━━━━━━━━━━━━━━\u001b[0m\u001b[37m\u001b[0m \u001b[1m7s\u001b[0m 10ms/step - accuracy: 0.9699 - loss: 0.3565 - val_accuracy: 0.9668 - val_loss: 0.3262\n",
      "Epoch 3/10\n",
      "\u001b[1m757/757\u001b[0m \u001b[32m━━━━━━━━━━━━━━━━━━━━\u001b[0m\u001b[37m\u001b[0m \u001b[1m9s\u001b[0m 12ms/step - accuracy: 0.9816 - loss: 0.3195 - val_accuracy: 0.9664 - val_loss: 0.3465\n",
      "Epoch 4/10\n",
      "\u001b[1m757/757\u001b[0m \u001b[32m━━━━━━━━━━━━━━━━━━━━\u001b[0m\u001b[37m\u001b[0m \u001b[1m7s\u001b[0m 10ms/step - accuracy: 0.9852 - loss: 0.2994 - val_accuracy: 0.9681 - val_loss: 0.3057\n",
      "Epoch 5/10\n",
      "\u001b[1m757/757\u001b[0m \u001b[32m━━━━━━━━━━━━━━━━━━━━\u001b[0m\u001b[37m\u001b[0m \u001b[1m8s\u001b[0m 10ms/step - accuracy: 0.9870 - loss: 0.2985 - val_accuracy: 0.9686 - val_loss: 0.3216\n",
      "Epoch 6/10\n",
      "\u001b[1m757/757\u001b[0m \u001b[32m━━━━━━━━━━━━━━━━━━━━\u001b[0m\u001b[37m\u001b[0m \u001b[1m8s\u001b[0m 10ms/step - accuracy: 0.9887 - loss: 0.2889 - val_accuracy: 0.9667 - val_loss: 0.3362\n",
      "Epoch 7/10\n",
      "\u001b[1m757/757\u001b[0m \u001b[32m━━━━━━━━━━━━━━━━━━━━\u001b[0m\u001b[37m\u001b[0m \u001b[1m9s\u001b[0m 12ms/step - accuracy: 0.9890 - loss: 0.2902 - val_accuracy: 0.9631 - val_loss: 0.3568\n",
      "\u001b[1m379/379\u001b[0m \u001b[32m━━━━━━━━━━━━━━━━━━━━\u001b[0m\u001b[37m\u001b[0m \u001b[1m1s\u001b[0m 1ms/step\n",
      "\n",
      "🏆 Training Results:\n",
      "🔹 Accuracy: 0.9681\n",
      "🔹 Precision: 0.9620\n",
      "🔹 Recall: 0.9652\n",
      "🔹 F1_score: 0.9636\n",
      "\n",
      "📂 Fold 2\n",
      "\n",
      "🚀 Training Simple NN Model with dense_units = 64, dropout_rate = 0.3 🚀\n",
      "\n",
      "Epoch 1/10\n"
     ]
    },
    {
     "name": "stderr",
     "output_type": "stream",
     "text": [
      "/home/inflaton/miniconda3/envs/fake-news/lib/python3.11/site-packages/keras/src/layers/core/embedding.py:90: UserWarning: Argument `input_length` is deprecated. Just remove it.\n",
      "  warnings.warn(\n"
     ]
    },
    {
     "name": "stdout",
     "output_type": "stream",
     "text": [
      "\u001b[1m757/757\u001b[0m \u001b[32m━━━━━━━━━━━━━━━━━━━━\u001b[0m\u001b[37m\u001b[0m \u001b[1m8s\u001b[0m 10ms/step - accuracy: 0.8616 - loss: 0.7682 - val_accuracy: 0.9620 - val_loss: 0.3749\n",
      "Epoch 2/10\n",
      "\u001b[1m757/757\u001b[0m \u001b[32m━━━━━━━━━━━━━━━━━━━━\u001b[0m\u001b[37m\u001b[0m \u001b[1m7s\u001b[0m 10ms/step - accuracy: 0.9702 - loss: 0.3677 - val_accuracy: 0.9583 - val_loss: 0.3900\n",
      "Epoch 3/10\n",
      "\u001b[1m757/757\u001b[0m \u001b[32m━━━━━━━━━━━━━━━━━━━━\u001b[0m\u001b[37m\u001b[0m \u001b[1m9s\u001b[0m 12ms/step - accuracy: 0.9801 - loss: 0.3235 - val_accuracy: 0.9578 - val_loss: 0.3346\n",
      "Epoch 4/10\n",
      "\u001b[1m757/757\u001b[0m \u001b[32m━━━━━━━━━━━━━━━━━━━━\u001b[0m\u001b[37m\u001b[0m \u001b[1m7s\u001b[0m 10ms/step - accuracy: 0.9836 - loss: 0.2975 - val_accuracy: 0.9589 - val_loss: 0.3844\n",
      "Epoch 5/10\n",
      "\u001b[1m757/757\u001b[0m \u001b[32m━━━━━━━━━━━━━━━━━━━━\u001b[0m\u001b[37m\u001b[0m \u001b[1m7s\u001b[0m 10ms/step - accuracy: 0.9873 - loss: 0.2936 - val_accuracy: 0.9587 - val_loss: 0.4365\n",
      "Epoch 6/10\n",
      "\u001b[1m757/757\u001b[0m \u001b[32m━━━━━━━━━━━━━━━━━━━━\u001b[0m\u001b[37m\u001b[0m \u001b[1m7s\u001b[0m 10ms/step - accuracy: 0.9872 - loss: 0.3007 - val_accuracy: 0.9571 - val_loss: 0.4054\n",
      "\u001b[1m379/379\u001b[0m \u001b[32m━━━━━━━━━━━━━━━━━━━━\u001b[0m\u001b[37m\u001b[0m \u001b[1m1s\u001b[0m 1ms/step\n",
      "\n",
      "🏆 Training Results:\n",
      "🔹 Accuracy: 0.9578\n",
      "🔹 Precision: 0.9731\n",
      "🔹 Recall: 0.9293\n",
      "🔹 F1_score: 0.9507\n",
      "\n",
      "📂 Fold 3\n",
      "\n",
      "🚀 Training Simple NN Model with dense_units = 64, dropout_rate = 0.3 🚀\n",
      "\n",
      "Epoch 1/10\n"
     ]
    },
    {
     "name": "stderr",
     "output_type": "stream",
     "text": [
      "/home/inflaton/miniconda3/envs/fake-news/lib/python3.11/site-packages/keras/src/layers/core/embedding.py:90: UserWarning: Argument `input_length` is deprecated. Just remove it.\n",
      "  warnings.warn(\n"
     ]
    },
    {
     "name": "stdout",
     "output_type": "stream",
     "text": [
      "\u001b[1m757/757\u001b[0m \u001b[32m━━━━━━━━━━━━━━━━━━━━\u001b[0m\u001b[37m\u001b[0m \u001b[1m8s\u001b[0m 10ms/step - accuracy: 0.8580 - loss: 0.7608 - val_accuracy: 0.9652 - val_loss: 0.3425\n",
      "Epoch 2/10\n",
      "\u001b[1m757/757\u001b[0m \u001b[32m━━━━━━━━━━━━━━━━━━━━\u001b[0m\u001b[37m\u001b[0m \u001b[1m7s\u001b[0m 10ms/step - accuracy: 0.9708 - loss: 0.3439 - val_accuracy: 0.9596 - val_loss: 0.4206\n",
      "Epoch 3/10\n",
      "\u001b[1m757/757\u001b[0m \u001b[32m━━━━━━━━━━━━━━━━━━━━\u001b[0m\u001b[37m\u001b[0m \u001b[1m8s\u001b[0m 10ms/step - accuracy: 0.9799 - loss: 0.3217 - val_accuracy: 0.9682 - val_loss: 0.3344\n",
      "Epoch 4/10\n",
      "\u001b[1m757/757\u001b[0m \u001b[32m━━━━━━━━━━━━━━━━━━━━\u001b[0m\u001b[37m\u001b[0m \u001b[1m9s\u001b[0m 12ms/step - accuracy: 0.9847 - loss: 0.2937 - val_accuracy: 0.9650 - val_loss: 0.3462\n",
      "Epoch 5/10\n",
      "\u001b[1m757/757\u001b[0m \u001b[32m━━━━━━━━━━━━━━━━━━━━\u001b[0m\u001b[37m\u001b[0m \u001b[1m8s\u001b[0m 10ms/step - accuracy: 0.9872 - loss: 0.2867 - val_accuracy: 0.9676 - val_loss: 0.3491\n",
      "Epoch 6/10\n",
      "\u001b[1m757/757\u001b[0m \u001b[32m━━━━━━━━━━━━━━━━━━━━\u001b[0m\u001b[37m\u001b[0m \u001b[1m7s\u001b[0m 10ms/step - accuracy: 0.9880 - loss: 0.2837 - val_accuracy: 0.9654 - val_loss: 0.3632\n",
      "\u001b[1m379/379\u001b[0m \u001b[32m━━━━━━━━━━━━━━━━━━━━\u001b[0m\u001b[37m\u001b[0m \u001b[1m1s\u001b[0m 1ms/step\n",
      "\n",
      "🏆 Training Results:\n",
      "🔹 Accuracy: 0.9682\n",
      "🔹 Precision: 0.9719\n",
      "🔹 Recall: 0.9548\n",
      "🔹 F1_score: 0.9633\n",
      "\n",
      "📂 Fold 4\n",
      "\n",
      "🚀 Training Simple NN Model with dense_units = 64, dropout_rate = 0.3 🚀\n",
      "\n",
      "Epoch 1/10\n"
     ]
    },
    {
     "name": "stderr",
     "output_type": "stream",
     "text": [
      "/home/inflaton/miniconda3/envs/fake-news/lib/python3.11/site-packages/keras/src/layers/core/embedding.py:90: UserWarning: Argument `input_length` is deprecated. Just remove it.\n",
      "  warnings.warn(\n"
     ]
    },
    {
     "name": "stdout",
     "output_type": "stream",
     "text": [
      "\u001b[1m757/757\u001b[0m \u001b[32m━━━━━━━━━━━━━━━━━━━━\u001b[0m\u001b[37m\u001b[0m \u001b[1m8s\u001b[0m 10ms/step - accuracy: 0.8655 - loss: 0.7854 - val_accuracy: 0.9495 - val_loss: 0.3752\n",
      "Epoch 2/10\n",
      "\u001b[1m757/757\u001b[0m \u001b[32m━━━━━━━━━━━━━━━━━━━━\u001b[0m\u001b[37m\u001b[0m \u001b[1m7s\u001b[0m 10ms/step - accuracy: 0.9701 - loss: 0.3465 - val_accuracy: 0.9651 - val_loss: 0.3655\n",
      "Epoch 3/10\n",
      "\u001b[1m757/757\u001b[0m \u001b[32m━━━━━━━━━━━━━━━━━━━━\u001b[0m\u001b[37m\u001b[0m \u001b[1m8s\u001b[0m 10ms/step - accuracy: 0.9796 - loss: 0.3188 - val_accuracy: 0.9591 - val_loss: 0.3737\n",
      "Epoch 4/10\n",
      "\u001b[1m757/757\u001b[0m \u001b[32m━━━━━━━━━━━━━━━━━━━━\u001b[0m\u001b[37m\u001b[0m \u001b[1m8s\u001b[0m 10ms/step - accuracy: 0.9837 - loss: 0.3244 - val_accuracy: 0.9618 - val_loss: 0.3245\n",
      "Epoch 5/10\n",
      "\u001b[1m757/757\u001b[0m \u001b[32m━━━━━━━━━━━━━━━━━━━━\u001b[0m\u001b[37m\u001b[0m \u001b[1m9s\u001b[0m 12ms/step - accuracy: 0.9865 - loss: 0.2877 - val_accuracy: 0.9626 - val_loss: 0.4258\n",
      "Epoch 6/10\n",
      "\u001b[1m757/757\u001b[0m \u001b[32m━━━━━━━━━━━━━━━━━━━━\u001b[0m\u001b[37m\u001b[0m \u001b[1m7s\u001b[0m 10ms/step - accuracy: 0.9873 - loss: 0.3064 - val_accuracy: 0.9660 - val_loss: 0.3395\n",
      "Epoch 7/10\n",
      "\u001b[1m757/757\u001b[0m \u001b[32m━━━━━━━━━━━━━━━━━━━━\u001b[0m\u001b[37m\u001b[0m \u001b[1m7s\u001b[0m 10ms/step - accuracy: 0.9900 - loss: 0.2780 - val_accuracy: 0.9591 - val_loss: 0.4331\n",
      "\u001b[1m379/379\u001b[0m \u001b[32m━━━━━━━━━━━━━━━━━━━━\u001b[0m\u001b[37m\u001b[0m \u001b[1m1s\u001b[0m 2ms/step\n",
      "\n",
      "🏆 Training Results:\n",
      "🔹 Accuracy: 0.9618\n",
      "🔹 Precision: 0.9534\n",
      "🔹 Recall: 0.9596\n",
      "🔹 F1_score: 0.9565\n",
      "\n",
      "📂 Fold 5\n",
      "\n",
      "🚀 Training Simple NN Model with dense_units = 64, dropout_rate = 0.3 🚀\n",
      "\n",
      "Epoch 1/10\n"
     ]
    },
    {
     "name": "stderr",
     "output_type": "stream",
     "text": [
      "/home/inflaton/miniconda3/envs/fake-news/lib/python3.11/site-packages/keras/src/layers/core/embedding.py:90: UserWarning: Argument `input_length` is deprecated. Just remove it.\n",
      "  warnings.warn(\n"
     ]
    },
    {
     "name": "stdout",
     "output_type": "stream",
     "text": [
      "\u001b[1m757/757\u001b[0m \u001b[32m━━━━━━━━━━━━━━━━━━━━\u001b[0m\u001b[37m\u001b[0m \u001b[1m9s\u001b[0m 10ms/step - accuracy: 0.8683 - loss: 0.7576 - val_accuracy: 0.9612 - val_loss: 0.3421\n",
      "Epoch 2/10\n",
      "\u001b[1m757/757\u001b[0m \u001b[32m━━━━━━━━━━━━━━━━━━━━\u001b[0m\u001b[37m\u001b[0m \u001b[1m8s\u001b[0m 10ms/step - accuracy: 0.9712 - loss: 0.3426 - val_accuracy: 0.9599 - val_loss: 0.3782\n",
      "Epoch 3/10\n",
      "\u001b[1m757/757\u001b[0m \u001b[32m━━━━━━━━━━━━━━━━━━━━\u001b[0m\u001b[37m\u001b[0m \u001b[1m7s\u001b[0m 10ms/step - accuracy: 0.9809 - loss: 0.3141 - val_accuracy: 0.9617 - val_loss: 0.3202\n",
      "Epoch 4/10\n",
      "\u001b[1m757/757\u001b[0m \u001b[32m━━━━━━━━━━━━━━━━━━━━\u001b[0m\u001b[37m\u001b[0m \u001b[1m10s\u001b[0m 13ms/step - accuracy: 0.9837 - loss: 0.3079 - val_accuracy: 0.9589 - val_loss: 0.3596\n",
      "Epoch 5/10\n",
      "\u001b[1m757/757\u001b[0m \u001b[32m━━━━━━━━━━━━━━━━━━━━\u001b[0m\u001b[37m\u001b[0m \u001b[1m8s\u001b[0m 10ms/step - accuracy: 0.9872 - loss: 0.2987 - val_accuracy: 0.9537 - val_loss: 0.3191\n",
      "Epoch 6/10\n",
      "\u001b[1m757/757\u001b[0m \u001b[32m━━━━━━━━━━━━━━━━━━━━\u001b[0m\u001b[37m\u001b[0m \u001b[1m8s\u001b[0m 10ms/step - accuracy: 0.9865 - loss: 0.2971 - val_accuracy: 0.9604 - val_loss: 0.3633\n",
      "Epoch 7/10\n",
      "\u001b[1m757/757\u001b[0m \u001b[32m━━━━━━━━━━━━━━━━━━━━\u001b[0m\u001b[37m\u001b[0m \u001b[1m8s\u001b[0m 10ms/step - accuracy: 0.9902 - loss: 0.2742 - val_accuracy: 0.9646 - val_loss: 0.3634\n",
      "Epoch 8/10\n",
      "\u001b[1m757/757\u001b[0m \u001b[32m━━━━━━━━━━━━━━━━━━━━\u001b[0m\u001b[37m\u001b[0m \u001b[1m9s\u001b[0m 12ms/step - accuracy: 0.9911 - loss: 0.2748 - val_accuracy: 0.9640 - val_loss: 0.3218\n",
      "\u001b[1m379/379\u001b[0m \u001b[32m━━━━━━━━━━━━━━━━━━━━\u001b[0m\u001b[37m\u001b[0m \u001b[1m1s\u001b[0m 2ms/step\n",
      "\n",
      "🏆 Training Results:\n",
      "🔹 Accuracy: 0.9537\n",
      "🔹 Precision: 0.9310\n",
      "🔹 Recall: 0.9658\n",
      "🔹 F1_score: 0.9481\n",
      "📊 Average F1-score: 0.9564\n",
      "\n",
      "🔍 Testing dense_units=64, dropout_rate=0.5\n",
      "\n",
      "📂 Fold 1\n",
      "\n",
      "🚀 Training Simple NN Model with dense_units = 64, dropout_rate = 0.5 🚀\n",
      "\n",
      "Epoch 1/10\n"
     ]
    },
    {
     "name": "stderr",
     "output_type": "stream",
     "text": [
      "/home/inflaton/miniconda3/envs/fake-news/lib/python3.11/site-packages/keras/src/layers/core/embedding.py:90: UserWarning: Argument `input_length` is deprecated. Just remove it.\n",
      "  warnings.warn(\n"
     ]
    },
    {
     "name": "stdout",
     "output_type": "stream",
     "text": [
      "\u001b[1m757/757\u001b[0m \u001b[32m━━━━━━━━━━━━━━━━━━━━\u001b[0m\u001b[37m\u001b[0m \u001b[1m8s\u001b[0m 10ms/step - accuracy: 0.8553 - loss: 0.7978 - val_accuracy: 0.9665 - val_loss: 0.3597\n",
      "Epoch 2/10\n",
      "\u001b[1m757/757\u001b[0m \u001b[32m━━━━━━━━━━━━━━━━━━━━\u001b[0m\u001b[37m\u001b[0m \u001b[1m7s\u001b[0m 10ms/step - accuracy: 0.9696 - loss: 0.3577 - val_accuracy: 0.9681 - val_loss: 0.3437\n",
      "Epoch 3/10\n",
      "\u001b[1m757/757\u001b[0m \u001b[32m━━━━━━━━━━━━━━━━━━━━\u001b[0m\u001b[37m\u001b[0m \u001b[1m9s\u001b[0m 12ms/step - accuracy: 0.9809 - loss: 0.3301 - val_accuracy: 0.9689 - val_loss: 0.3511\n",
      "Epoch 4/10\n",
      "\u001b[1m757/757\u001b[0m \u001b[32m━━━━━━━━━━━━━━━━━━━━\u001b[0m\u001b[37m\u001b[0m \u001b[1m7s\u001b[0m 10ms/step - accuracy: 0.9838 - loss: 0.3256 - val_accuracy: 0.9671 - val_loss: 0.3409\n",
      "Epoch 5/10\n",
      "\u001b[1m757/757\u001b[0m \u001b[32m━━━━━━━━━━━━━━━━━━━━\u001b[0m\u001b[37m\u001b[0m \u001b[1m7s\u001b[0m 10ms/step - accuracy: 0.9853 - loss: 0.3190 - val_accuracy: 0.9697 - val_loss: 0.3398\n",
      "Epoch 6/10\n",
      "\u001b[1m757/757\u001b[0m \u001b[32m━━━━━━━━━━━━━━━━━━━━\u001b[0m\u001b[37m\u001b[0m \u001b[1m7s\u001b[0m 10ms/step - accuracy: 0.9886 - loss: 0.2950 - val_accuracy: 0.9655 - val_loss: 0.3901\n",
      "Epoch 7/10\n",
      "\u001b[1m757/757\u001b[0m \u001b[32m━━━━━━━━━━━━━━━━━━━━\u001b[0m\u001b[37m\u001b[0m \u001b[1m9s\u001b[0m 12ms/step - accuracy: 0.9888 - loss: 0.3035 - val_accuracy: 0.9666 - val_loss: 0.3137\n",
      "Epoch 8/10\n",
      "\u001b[1m757/757\u001b[0m \u001b[32m━━━━━━━━━━━━━━━━━━━━\u001b[0m\u001b[37m\u001b[0m \u001b[1m8s\u001b[0m 10ms/step - accuracy: 0.9886 - loss: 0.3115 - val_accuracy: 0.9677 - val_loss: 0.2838\n",
      "Epoch 9/10\n",
      "\u001b[1m757/757\u001b[0m \u001b[32m━━━━━━━━━━━━━━━━━━━━\u001b[0m\u001b[37m\u001b[0m \u001b[1m7s\u001b[0m 10ms/step - accuracy: 0.9908 - loss: 0.2747 - val_accuracy: 0.9683 - val_loss: 0.2890\n",
      "Epoch 10/10\n",
      "\u001b[1m757/757\u001b[0m \u001b[32m━━━━━━━━━━━━━━━━━━━━\u001b[0m\u001b[37m\u001b[0m \u001b[1m8s\u001b[0m 10ms/step - accuracy: 0.9904 - loss: 0.2905 - val_accuracy: 0.9701 - val_loss: 0.2230\n",
      "\u001b[1m379/379\u001b[0m \u001b[32m━━━━━━━━━━━━━━━━━━━━\u001b[0m\u001b[37m\u001b[0m \u001b[1m1s\u001b[0m 1ms/step\n",
      "\n",
      "🏆 Training Results:\n",
      "🔹 Accuracy: 0.9701\n",
      "🔹 Precision: 0.9701\n",
      "🔹 Recall: 0.9613\n",
      "🔹 F1_score: 0.9656\n",
      "\n",
      "📂 Fold 2\n",
      "\n",
      "🚀 Training Simple NN Model with dense_units = 64, dropout_rate = 0.5 🚀\n",
      "\n",
      "Epoch 1/10\n"
     ]
    },
    {
     "name": "stderr",
     "output_type": "stream",
     "text": [
      "/home/inflaton/miniconda3/envs/fake-news/lib/python3.11/site-packages/keras/src/layers/core/embedding.py:90: UserWarning: Argument `input_length` is deprecated. Just remove it.\n",
      "  warnings.warn(\n"
     ]
    },
    {
     "name": "stdout",
     "output_type": "stream",
     "text": [
      "\u001b[1m757/757\u001b[0m \u001b[32m━━━━━━━━━━━━━━━━━━━━\u001b[0m\u001b[37m\u001b[0m \u001b[1m8s\u001b[0m 10ms/step - accuracy: 0.8523 - loss: 0.7537 - val_accuracy: 0.9616 - val_loss: 0.4038\n",
      "Epoch 2/10\n",
      "\u001b[1m757/757\u001b[0m \u001b[32m━━━━━━━━━━━━━━━━━━━━\u001b[0m\u001b[37m\u001b[0m \u001b[1m7s\u001b[0m 10ms/step - accuracy: 0.9701 - loss: 0.3656 - val_accuracy: 0.9621 - val_loss: 0.3555\n",
      "Epoch 3/10\n",
      "\u001b[1m757/757\u001b[0m \u001b[32m━━━━━━━━━━━━━━━━━━━━\u001b[0m\u001b[37m\u001b[0m \u001b[1m8s\u001b[0m 10ms/step - accuracy: 0.9789 - loss: 0.3204 - val_accuracy: 0.9624 - val_loss: 0.3539\n",
      "Epoch 4/10\n",
      "\u001b[1m757/757\u001b[0m \u001b[32m━━━━━━━━━━━━━━━━━━━━\u001b[0m\u001b[37m\u001b[0m \u001b[1m9s\u001b[0m 12ms/step - accuracy: 0.9836 - loss: 0.3037 - val_accuracy: 0.9572 - val_loss: 0.4616\n",
      "Epoch 5/10\n",
      "\u001b[1m757/757\u001b[0m \u001b[32m━━━━━━━━━━━━━━━━━━━━\u001b[0m\u001b[37m\u001b[0m \u001b[1m7s\u001b[0m 10ms/step - accuracy: 0.9862 - loss: 0.3045 - val_accuracy: 0.9602 - val_loss: 0.3745\n",
      "Epoch 6/10\n",
      "\u001b[1m757/757\u001b[0m \u001b[32m━━━━━━━━━━━━━━━━━━━━\u001b[0m\u001b[37m\u001b[0m \u001b[1m7s\u001b[0m 9ms/step - accuracy: 0.9892 - loss: 0.2797 - val_accuracy: 0.9602 - val_loss: 0.3823\n",
      "\u001b[1m379/379\u001b[0m \u001b[32m━━━━━━━━━━━━━━━━━━━━\u001b[0m\u001b[37m\u001b[0m \u001b[1m1s\u001b[0m 1ms/step\n",
      "\n",
      "🏆 Training Results:\n",
      "🔹 Accuracy: 0.9624\n",
      "🔹 Precision: 0.9661\n",
      "🔹 Recall: 0.9473\n",
      "🔹 F1_score: 0.9566\n",
      "\n",
      "📂 Fold 3\n",
      "\n",
      "🚀 Training Simple NN Model with dense_units = 64, dropout_rate = 0.5 🚀\n",
      "\n",
      "Epoch 1/10\n"
     ]
    },
    {
     "name": "stderr",
     "output_type": "stream",
     "text": [
      "/home/inflaton/miniconda3/envs/fake-news/lib/python3.11/site-packages/keras/src/layers/core/embedding.py:90: UserWarning: Argument `input_length` is deprecated. Just remove it.\n",
      "  warnings.warn(\n"
     ]
    },
    {
     "name": "stdout",
     "output_type": "stream",
     "text": [
      "\u001b[1m757/757\u001b[0m \u001b[32m━━━━━━━━━━━━━━━━━━━━\u001b[0m\u001b[37m\u001b[0m \u001b[1m10s\u001b[0m 12ms/step - accuracy: 0.8531 - loss: 0.7704 - val_accuracy: 0.9643 - val_loss: 0.3618\n",
      "Epoch 2/10\n",
      "\u001b[1m757/757\u001b[0m \u001b[32m━━━━━━━━━━━━━━━━━━━━\u001b[0m\u001b[37m\u001b[0m \u001b[1m7s\u001b[0m 9ms/step - accuracy: 0.9709 - loss: 0.3541 - val_accuracy: 0.9646 - val_loss: 0.3897\n",
      "Epoch 3/10\n",
      "\u001b[1m757/757\u001b[0m \u001b[32m━━━━━━━━━━━━━━━━━━━━\u001b[0m\u001b[37m\u001b[0m \u001b[1m7s\u001b[0m 10ms/step - accuracy: 0.9800 - loss: 0.3280 - val_accuracy: 0.9597 - val_loss: 0.3910\n",
      "Epoch 4/10\n",
      "\u001b[1m757/757\u001b[0m \u001b[32m━━━━━━━━━━━━━━━━━━━━\u001b[0m\u001b[37m\u001b[0m \u001b[1m8s\u001b[0m 10ms/step - accuracy: 0.9847 - loss: 0.3033 - val_accuracy: 0.9629 - val_loss: 0.3622\n",
      "\u001b[1m379/379\u001b[0m \u001b[32m━━━━━━━━━━━━━━━━━━━━\u001b[0m\u001b[37m\u001b[0m \u001b[1m1s\u001b[0m 2ms/step\n",
      "\n",
      "🏆 Training Results:\n",
      "🔹 Accuracy: 0.9643\n",
      "🔹 Precision: 0.9718\n",
      "🔹 Recall: 0.9458\n",
      "🔹 F1_score: 0.9586\n",
      "\n",
      "📂 Fold 4\n",
      "\n",
      "🚀 Training Simple NN Model with dense_units = 64, dropout_rate = 0.5 🚀\n",
      "\n",
      "Epoch 1/10\n"
     ]
    },
    {
     "name": "stderr",
     "output_type": "stream",
     "text": [
      "/home/inflaton/miniconda3/envs/fake-news/lib/python3.11/site-packages/keras/src/layers/core/embedding.py:90: UserWarning: Argument `input_length` is deprecated. Just remove it.\n",
      "  warnings.warn(\n"
     ]
    },
    {
     "name": "stdout",
     "output_type": "stream",
     "text": [
      "\u001b[1m757/757\u001b[0m \u001b[32m━━━━━━━━━━━━━━━━━━━━\u001b[0m\u001b[37m\u001b[0m \u001b[1m10s\u001b[0m 13ms/step - accuracy: 0.8659 - loss: 0.7792 - val_accuracy: 0.9659 - val_loss: 0.3603\n",
      "Epoch 2/10\n",
      "\u001b[1m757/757\u001b[0m \u001b[32m━━━━━━━━━━━━━━━━━━━━\u001b[0m\u001b[37m\u001b[0m \u001b[1m7s\u001b[0m 10ms/step - accuracy: 0.9709 - loss: 0.3509 - val_accuracy: 0.9604 - val_loss: 0.3896\n",
      "Epoch 3/10\n",
      "\u001b[1m757/757\u001b[0m \u001b[32m━━━━━━━━━━━━━━━━━━━━\u001b[0m\u001b[37m\u001b[0m \u001b[1m7s\u001b[0m 9ms/step - accuracy: 0.9789 - loss: 0.3269 - val_accuracy: 0.9607 - val_loss: 0.3408\n",
      "Epoch 4/10\n",
      "\u001b[1m757/757\u001b[0m \u001b[32m━━━━━━━━━━━━━━━━━━━━\u001b[0m\u001b[37m\u001b[0m \u001b[1m7s\u001b[0m 10ms/step - accuracy: 0.9846 - loss: 0.3030 - val_accuracy: 0.9642 - val_loss: 0.3513\n",
      "Epoch 5/10\n",
      "\u001b[1m757/757\u001b[0m \u001b[32m━━━━━━━━━━━━━━━━━━━━\u001b[0m\u001b[37m\u001b[0m \u001b[1m8s\u001b[0m 10ms/step - accuracy: 0.9858 - loss: 0.3089 - val_accuracy: 0.9608 - val_loss: 0.3429\n",
      "Epoch 6/10\n",
      "\u001b[1m757/757\u001b[0m \u001b[32m━━━━━━━━━━━━━━━━━━━━\u001b[0m\u001b[37m\u001b[0m \u001b[1m10s\u001b[0m 11ms/step - accuracy: 0.9885 - loss: 0.2904 - val_accuracy: 0.9659 - val_loss: 0.3122\n",
      "Epoch 7/10\n",
      "\u001b[1m757/757\u001b[0m \u001b[32m━━━━━━━━━━━━━━━━━━━━\u001b[0m\u001b[37m\u001b[0m \u001b[1m8s\u001b[0m 10ms/step - accuracy: 0.9911 - loss: 0.2614 - val_accuracy: 0.9621 - val_loss: 0.4028\n",
      "Epoch 8/10\n",
      "\u001b[1m757/757\u001b[0m \u001b[32m━━━━━━━━━━━━━━━━━━━━\u001b[0m\u001b[37m\u001b[0m \u001b[1m8s\u001b[0m 10ms/step - accuracy: 0.9900 - loss: 0.2969 - val_accuracy: 0.9620 - val_loss: 0.3364\n",
      "Epoch 9/10\n",
      "\u001b[1m757/757\u001b[0m \u001b[32m━━━━━━━━━━━━━━━━━━━━\u001b[0m\u001b[37m\u001b[0m \u001b[1m8s\u001b[0m 10ms/step - accuracy: 0.9900 - loss: 0.2877 - val_accuracy: 0.9610 - val_loss: 0.3432\n",
      "\u001b[1m379/379\u001b[0m \u001b[32m━━━━━━━━━━━━━━━━━━━━\u001b[0m\u001b[37m\u001b[0m \u001b[1m1s\u001b[0m 2ms/step\n",
      "\n",
      "🏆 Training Results:\n",
      "🔹 Accuracy: 0.9659\n",
      "🔹 Precision: 0.9619\n",
      "🔹 Recall: 0.9599\n",
      "🔹 F1_score: 0.9609\n",
      "\n",
      "📂 Fold 5\n",
      "\n",
      "🚀 Training Simple NN Model with dense_units = 64, dropout_rate = 0.5 🚀\n",
      "\n",
      "Epoch 1/10\n"
     ]
    },
    {
     "name": "stderr",
     "output_type": "stream",
     "text": [
      "/home/inflaton/miniconda3/envs/fake-news/lib/python3.11/site-packages/keras/src/layers/core/embedding.py:90: UserWarning: Argument `input_length` is deprecated. Just remove it.\n",
      "  warnings.warn(\n"
     ]
    },
    {
     "name": "stdout",
     "output_type": "stream",
     "text": [
      "\u001b[1m757/757\u001b[0m \u001b[32m━━━━━━━━━━━━━━━━━━━━\u001b[0m\u001b[37m\u001b[0m \u001b[1m8s\u001b[0m 9ms/step - accuracy: 0.8562 - loss: 0.7798 - val_accuracy: 0.9620 - val_loss: 0.3744\n",
      "Epoch 2/10\n",
      "\u001b[1m757/757\u001b[0m \u001b[32m━━━━━━━━━━━━━━━━━━━━\u001b[0m\u001b[37m\u001b[0m \u001b[1m7s\u001b[0m 10ms/step - accuracy: 0.9701 - loss: 0.3576 - val_accuracy: 0.9612 - val_loss: 0.3507\n",
      "Epoch 3/10\n",
      "\u001b[1m757/757\u001b[0m \u001b[32m━━━━━━━━━━━━━━━━━━━━\u001b[0m\u001b[37m\u001b[0m \u001b[1m9s\u001b[0m 12ms/step - accuracy: 0.9779 - loss: 0.3388 - val_accuracy: 0.9628 - val_loss: 0.3520\n",
      "Epoch 4/10\n",
      "\u001b[1m757/757\u001b[0m \u001b[32m━━━━━━━━━━━━━━━━━━━━\u001b[0m\u001b[37m\u001b[0m \u001b[1m7s\u001b[0m 10ms/step - accuracy: 0.9849 - loss: 0.3225 - val_accuracy: 0.9618 - val_loss: 0.3393\n",
      "Epoch 5/10\n",
      "\u001b[1m757/757\u001b[0m \u001b[32m━━━━━━━━━━━━━━━━━━━━\u001b[0m\u001b[37m\u001b[0m \u001b[1m8s\u001b[0m 10ms/step - accuracy: 0.9870 - loss: 0.3029 - val_accuracy: 0.9634 - val_loss: 0.2979\n",
      "Epoch 6/10\n",
      "\u001b[1m757/757\u001b[0m \u001b[32m━━━━━━━━━━━━━━━━━━━━\u001b[0m\u001b[37m\u001b[0m \u001b[1m8s\u001b[0m 10ms/step - accuracy: 0.9884 - loss: 0.2960 - val_accuracy: 0.9643 - val_loss: 0.3389\n",
      "Epoch 7/10\n",
      "\u001b[1m757/757\u001b[0m \u001b[32m━━━━━━━━━━━━━━━━━━━━\u001b[0m\u001b[37m\u001b[0m \u001b[1m9s\u001b[0m 13ms/step - accuracy: 0.9886 - loss: 0.2834 - val_accuracy: 0.9622 - val_loss: 0.4047\n",
      "Epoch 8/10\n",
      "\u001b[1m757/757\u001b[0m \u001b[32m━━━━━━━━━━━━━━━━━━━━\u001b[0m\u001b[37m\u001b[0m \u001b[1m8s\u001b[0m 11ms/step - accuracy: 0.9899 - loss: 0.2996 - val_accuracy: 0.9609 - val_loss: 0.3459\n",
      "\u001b[1m379/379\u001b[0m \u001b[32m━━━━━━━━━━━━━━━━━━━━\u001b[0m\u001b[37m\u001b[0m \u001b[1m1s\u001b[0m 1ms/step\n",
      "\n",
      "🏆 Training Results:\n",
      "🔹 Accuracy: 0.9634\n",
      "🔹 Precision: 0.9560\n",
      "🔹 Recall: 0.9605\n",
      "🔹 F1_score: 0.9582\n",
      "📊 Average F1-score: 0.9600\n",
      "\n",
      "🔍 Testing dense_units=128, dropout_rate=0.3\n",
      "\n",
      "📂 Fold 1\n",
      "\n",
      "🚀 Training Simple NN Model with dense_units = 128, dropout_rate = 0.3 🚀\n",
      "\n",
      "Epoch 1/10\n"
     ]
    },
    {
     "name": "stderr",
     "output_type": "stream",
     "text": [
      "/home/inflaton/miniconda3/envs/fake-news/lib/python3.11/site-packages/keras/src/layers/core/embedding.py:90: UserWarning: Argument `input_length` is deprecated. Just remove it.\n",
      "  warnings.warn(\n"
     ]
    },
    {
     "name": "stdout",
     "output_type": "stream",
     "text": [
      "\u001b[1m757/757\u001b[0m \u001b[32m━━━━━━━━━━━━━━━━━━━━\u001b[0m\u001b[37m\u001b[0m \u001b[1m8s\u001b[0m 10ms/step - accuracy: 0.8614 - loss: 0.7638 - val_accuracy: 0.9559 - val_loss: 0.3637\n",
      "Epoch 2/10\n",
      "\u001b[1m757/757\u001b[0m \u001b[32m━━━━━━━━━━━━━━━━━━━━\u001b[0m\u001b[37m\u001b[0m \u001b[1m9s\u001b[0m 11ms/step - accuracy: 0.9689 - loss: 0.3551 - val_accuracy: 0.9646 - val_loss: 0.3433\n",
      "Epoch 3/10\n",
      "\u001b[1m757/757\u001b[0m \u001b[32m━━━━━━━━━━━━━━━━━━━━\u001b[0m\u001b[37m\u001b[0m \u001b[1m7s\u001b[0m 10ms/step - accuracy: 0.9778 - loss: 0.3382 - val_accuracy: 0.9668 - val_loss: 0.3357\n",
      "Epoch 4/10\n",
      "\u001b[1m757/757\u001b[0m \u001b[32m━━━━━━━━━━━━━━━━━━━━\u001b[0m\u001b[37m\u001b[0m \u001b[1m8s\u001b[0m 10ms/step - accuracy: 0.9844 - loss: 0.3068 - val_accuracy: 0.9662 - val_loss: 0.3338\n",
      "Epoch 5/10\n",
      "\u001b[1m757/757\u001b[0m \u001b[32m━━━━━━━━━━━━━━━━━━━━\u001b[0m\u001b[37m\u001b[0m \u001b[1m8s\u001b[0m 10ms/step - accuracy: 0.9871 - loss: 0.2994 - val_accuracy: 0.9675 - val_loss: 0.3339\n",
      "Epoch 6/10\n",
      "\u001b[1m757/757\u001b[0m \u001b[32m━━━━━━━━━━━━━━━━━━━━\u001b[0m\u001b[37m\u001b[0m \u001b[1m9s\u001b[0m 12ms/step - accuracy: 0.9873 - loss: 0.3062 - val_accuracy: 0.9642 - val_loss: 0.3165\n",
      "Epoch 7/10\n",
      "\u001b[1m757/757\u001b[0m \u001b[32m━━━━━━━━━━━━━━━━━━━━\u001b[0m\u001b[37m\u001b[0m \u001b[1m8s\u001b[0m 10ms/step - accuracy: 0.9895 - loss: 0.2753 - val_accuracy: 0.9673 - val_loss: 0.3072\n",
      "Epoch 8/10\n",
      "\u001b[1m757/757\u001b[0m \u001b[32m━━━━━━━━━━━━━━━━━━━━\u001b[0m\u001b[37m\u001b[0m \u001b[1m8s\u001b[0m 10ms/step - accuracy: 0.9899 - loss: 0.2827 - val_accuracy: 0.9655 - val_loss: 0.3193\n",
      "Epoch 9/10\n",
      "\u001b[1m757/757\u001b[0m \u001b[32m━━━━━━━━━━━━━━━━━━━━\u001b[0m\u001b[37m\u001b[0m \u001b[1m8s\u001b[0m 10ms/step - accuracy: 0.9907 - loss: 0.2889 - val_accuracy: 0.9665 - val_loss: 0.3699\n",
      "Epoch 10/10\n",
      "\u001b[1m757/757\u001b[0m \u001b[32m━━━━━━━━━━━━━━━━━━━━\u001b[0m\u001b[37m\u001b[0m \u001b[1m9s\u001b[0m 12ms/step - accuracy: 0.9910 - loss: 0.2762 - val_accuracy: 0.9653 - val_loss: 0.3355\n",
      "\u001b[1m379/379\u001b[0m \u001b[32m━━━━━━━━━━━━━━━━━━━━\u001b[0m\u001b[37m\u001b[0m \u001b[1m1s\u001b[0m 1ms/step\n",
      "\n",
      "🏆 Training Results:\n",
      "🔹 Accuracy: 0.9673\n",
      "🔹 Precision: 0.9605\n",
      "🔹 Recall: 0.9649\n",
      "🔹 F1_score: 0.9627\n",
      "\n",
      "📂 Fold 2\n",
      "\n",
      "🚀 Training Simple NN Model with dense_units = 128, dropout_rate = 0.3 🚀\n",
      "\n",
      "Epoch 1/10\n"
     ]
    },
    {
     "name": "stderr",
     "output_type": "stream",
     "text": [
      "/home/inflaton/miniconda3/envs/fake-news/lib/python3.11/site-packages/keras/src/layers/core/embedding.py:90: UserWarning: Argument `input_length` is deprecated. Just remove it.\n",
      "  warnings.warn(\n"
     ]
    },
    {
     "name": "stdout",
     "output_type": "stream",
     "text": [
      "\u001b[1m757/757\u001b[0m \u001b[32m━━━━━━━━━━━━━━━━━━━━\u001b[0m\u001b[37m\u001b[0m \u001b[1m8s\u001b[0m 10ms/step - accuracy: 0.8568 - loss: 0.7630 - val_accuracy: 0.9621 - val_loss: 0.3900\n",
      "Epoch 2/10\n",
      "\u001b[1m757/757\u001b[0m \u001b[32m━━━━━━━━━━━━━━━━━━━━\u001b[0m\u001b[37m\u001b[0m \u001b[1m8s\u001b[0m 10ms/step - accuracy: 0.9693 - loss: 0.3703 - val_accuracy: 0.9554 - val_loss: 0.3906\n",
      "Epoch 3/10\n",
      "\u001b[1m757/757\u001b[0m \u001b[32m━━━━━━━━━━━━━━━━━━━━\u001b[0m\u001b[37m\u001b[0m \u001b[1m10s\u001b[0m 14ms/step - accuracy: 0.9793 - loss: 0.3380 - val_accuracy: 0.9589 - val_loss: 0.4017\n",
      "Epoch 4/10\n",
      "\u001b[1m757/757\u001b[0m \u001b[32m━━━━━━━━━━━━━━━━━━━━\u001b[0m\u001b[37m\u001b[0m \u001b[1m8s\u001b[0m 10ms/step - accuracy: 0.9843 - loss: 0.3179 - val_accuracy: 0.9599 - val_loss: 0.3658\n",
      "Epoch 5/10\n",
      "\u001b[1m757/757\u001b[0m \u001b[32m━━━━━━━━━━━━━━━━━━━━\u001b[0m\u001b[37m\u001b[0m \u001b[1m8s\u001b[0m 10ms/step - accuracy: 0.9861 - loss: 0.3137 - val_accuracy: 0.9583 - val_loss: 0.4599\n",
      "Epoch 6/10\n",
      "\u001b[1m757/757\u001b[0m \u001b[32m━━━━━━━━━━━━━━━━━━━━\u001b[0m\u001b[37m\u001b[0m \u001b[1m8s\u001b[0m 10ms/step - accuracy: 0.9873 - loss: 0.3062 - val_accuracy: 0.9568 - val_loss: 0.3757\n",
      "Epoch 7/10\n",
      "\u001b[1m757/757\u001b[0m \u001b[32m━━━━━━━━━━━━━━━━━━━━\u001b[0m\u001b[37m\u001b[0m \u001b[1m9s\u001b[0m 12ms/step - accuracy: 0.9860 - loss: 0.3060 - val_accuracy: 0.9578 - val_loss: 0.3672\n",
      "\u001b[1m379/379\u001b[0m \u001b[32m━━━━━━━━━━━━━━━━━━━━\u001b[0m\u001b[37m\u001b[0m \u001b[1m1s\u001b[0m 1ms/step\n",
      "\n",
      "🏆 Training Results:\n",
      "🔹 Accuracy: 0.9599\n",
      "🔹 Precision: 0.9661\n",
      "🔹 Recall: 0.9414\n",
      "🔹 F1_score: 0.9536\n",
      "\n",
      "📂 Fold 3\n",
      "\n",
      "🚀 Training Simple NN Model with dense_units = 128, dropout_rate = 0.3 🚀\n",
      "\n",
      "Epoch 1/10\n"
     ]
    },
    {
     "name": "stderr",
     "output_type": "stream",
     "text": [
      "/home/inflaton/miniconda3/envs/fake-news/lib/python3.11/site-packages/keras/src/layers/core/embedding.py:90: UserWarning: Argument `input_length` is deprecated. Just remove it.\n",
      "  warnings.warn(\n"
     ]
    },
    {
     "name": "stdout",
     "output_type": "stream",
     "text": [
      "\u001b[1m757/757\u001b[0m \u001b[32m━━━━━━━━━━━━━━━━━━━━\u001b[0m\u001b[37m\u001b[0m \u001b[1m8s\u001b[0m 10ms/step - accuracy: 0.8454 - loss: 0.7749 - val_accuracy: 0.9628 - val_loss: 0.3723\n",
      "Epoch 2/10\n",
      "\u001b[1m757/757\u001b[0m \u001b[32m━━━━━━━━━━━━━━━━━━━━\u001b[0m\u001b[37m\u001b[0m \u001b[1m9s\u001b[0m 12ms/step - accuracy: 0.9674 - loss: 0.3574 - val_accuracy: 0.9630 - val_loss: 0.3872\n",
      "Epoch 3/10\n",
      "\u001b[1m757/757\u001b[0m \u001b[32m━━━━━━━━━━━━━━━━━━━━\u001b[0m\u001b[37m\u001b[0m \u001b[1m7s\u001b[0m 10ms/step - accuracy: 0.9797 - loss: 0.3220 - val_accuracy: 0.9673 - val_loss: 0.3382\n",
      "Epoch 4/10\n",
      "\u001b[1m757/757\u001b[0m \u001b[32m━━━━━━━━━━━━━━━━━━━━\u001b[0m\u001b[37m\u001b[0m \u001b[1m7s\u001b[0m 10ms/step - accuracy: 0.9839 - loss: 0.3079 - val_accuracy: 0.9648 - val_loss: 0.3388\n",
      "Epoch 5/10\n",
      "\u001b[1m757/757\u001b[0m \u001b[32m━━━━━━━━━━━━━━━━━━━━\u001b[0m\u001b[37m\u001b[0m \u001b[1m8s\u001b[0m 10ms/step - accuracy: 0.9854 - loss: 0.3073 - val_accuracy: 0.9670 - val_loss: 0.3603\n",
      "Epoch 6/10\n",
      "\u001b[1m757/757\u001b[0m \u001b[32m━━━━━━━━━━━━━━━━━━━━\u001b[0m\u001b[37m\u001b[0m \u001b[1m9s\u001b[0m 11ms/step - accuracy: 0.9879 - loss: 0.2807 - val_accuracy: 0.9621 - val_loss: 0.3710\n",
      "\u001b[1m379/379\u001b[0m \u001b[32m━━━━━━━━━━━━━━━━━━━━\u001b[0m\u001b[37m\u001b[0m \u001b[1m2s\u001b[0m 5ms/step\n",
      "\n",
      "🏆 Training Results:\n",
      "🔹 Accuracy: 0.9673\n",
      "🔹 Precision: 0.9666\n",
      "🔹 Recall: 0.9582\n",
      "🔹 F1_score: 0.9624\n",
      "\n",
      "📂 Fold 4\n",
      "\n",
      "🚀 Training Simple NN Model with dense_units = 128, dropout_rate = 0.3 🚀\n",
      "\n",
      "Epoch 1/10\n"
     ]
    },
    {
     "name": "stderr",
     "output_type": "stream",
     "text": [
      "/home/inflaton/miniconda3/envs/fake-news/lib/python3.11/site-packages/keras/src/layers/core/embedding.py:90: UserWarning: Argument `input_length` is deprecated. Just remove it.\n",
      "  warnings.warn(\n"
     ]
    },
    {
     "name": "stdout",
     "output_type": "stream",
     "text": [
      "\u001b[1m757/757\u001b[0m \u001b[32m━━━━━━━━━━━━━━━━━━━━\u001b[0m\u001b[37m\u001b[0m \u001b[1m8s\u001b[0m 10ms/step - accuracy: 0.8582 - loss: 0.7523 - val_accuracy: 0.9650 - val_loss: 0.3602\n",
      "Epoch 2/10\n",
      "\u001b[1m757/757\u001b[0m \u001b[32m━━━━━━━━━━━━━━━━━━━━\u001b[0m\u001b[37m\u001b[0m \u001b[1m8s\u001b[0m 11ms/step - accuracy: 0.9693 - loss: 0.3582 - val_accuracy: 0.9608 - val_loss: 0.3450\n",
      "Epoch 3/10\n",
      "\u001b[1m757/757\u001b[0m \u001b[32m━━━━━━━━━━━━━━━━━━━━\u001b[0m\u001b[37m\u001b[0m \u001b[1m10s\u001b[0m 13ms/step - accuracy: 0.9784 - loss: 0.3311 - val_accuracy: 0.9626 - val_loss: 0.3710\n",
      "Epoch 4/10\n",
      "\u001b[1m757/757\u001b[0m \u001b[32m━━━━━━━━━━━━━━━━━━━━\u001b[0m\u001b[37m\u001b[0m \u001b[1m7s\u001b[0m 10ms/step - accuracy: 0.9827 - loss: 0.3228 - val_accuracy: 0.9631 - val_loss: 0.3366\n",
      "Epoch 5/10\n",
      "\u001b[1m757/757\u001b[0m \u001b[32m━━━━━━━━━━━━━━━━━━━━\u001b[0m\u001b[37m\u001b[0m \u001b[1m8s\u001b[0m 10ms/step - accuracy: 0.9874 - loss: 0.2886 - val_accuracy: 0.9643 - val_loss: 0.3394\n",
      "Epoch 6/10\n",
      "\u001b[1m757/757\u001b[0m \u001b[32m━━━━━━━━━━━━━━━━━━━━\u001b[0m\u001b[37m\u001b[0m \u001b[1m8s\u001b[0m 10ms/step - accuracy: 0.9883 - loss: 0.2895 - val_accuracy: 0.9617 - val_loss: 0.3659\n",
      "Epoch 7/10\n",
      "\u001b[1m757/757\u001b[0m \u001b[32m━━━━━━━━━━━━━━━━━━━━\u001b[0m\u001b[37m\u001b[0m \u001b[1m9s\u001b[0m 12ms/step - accuracy: 0.9889 - loss: 0.2896 - val_accuracy: 0.9625 - val_loss: 0.4095\n",
      "\u001b[1m379/379\u001b[0m \u001b[32m━━━━━━━━━━━━━━━━━━━━\u001b[0m\u001b[37m\u001b[0m \u001b[1m1s\u001b[0m 1ms/step\n",
      "\n",
      "🏆 Training Results:\n",
      "🔹 Accuracy: 0.9631\n",
      "🔹 Precision: 0.9628\n",
      "🔹 Recall: 0.9524\n",
      "🔹 F1_score: 0.9575\n",
      "\n",
      "📂 Fold 5\n",
      "\n",
      "🚀 Training Simple NN Model with dense_units = 128, dropout_rate = 0.3 🚀\n",
      "\n",
      "Epoch 1/10\n"
     ]
    },
    {
     "name": "stderr",
     "output_type": "stream",
     "text": [
      "/home/inflaton/miniconda3/envs/fake-news/lib/python3.11/site-packages/keras/src/layers/core/embedding.py:90: UserWarning: Argument `input_length` is deprecated. Just remove it.\n",
      "  warnings.warn(\n"
     ]
    },
    {
     "name": "stdout",
     "output_type": "stream",
     "text": [
      "\u001b[1m757/757\u001b[0m \u001b[32m━━━━━━━━━━━━━━━━━━━━\u001b[0m\u001b[37m\u001b[0m \u001b[1m8s\u001b[0m 10ms/step - accuracy: 0.8522 - loss: 0.7484 - val_accuracy: 0.9621 - val_loss: 0.3529\n",
      "Epoch 2/10\n",
      "\u001b[1m757/757\u001b[0m \u001b[32m━━━━━━━━━━━━━━━━━━━━\u001b[0m\u001b[37m\u001b[0m \u001b[1m7s\u001b[0m 10ms/step - accuracy: 0.9706 - loss: 0.3440 - val_accuracy: 0.9613 - val_loss: 0.3431\n",
      "Epoch 3/10\n",
      "\u001b[1m757/757\u001b[0m \u001b[32m━━━━━━━━━━━━━━━━━━━━\u001b[0m\u001b[37m\u001b[0m \u001b[1m9s\u001b[0m 12ms/step - accuracy: 0.9786 - loss: 0.3241 - val_accuracy: 0.9652 - val_loss: 0.3404\n",
      "Epoch 4/10\n",
      "\u001b[1m757/757\u001b[0m \u001b[32m━━━━━━━━━━━━━━━━━━━━\u001b[0m\u001b[37m\u001b[0m \u001b[1m8s\u001b[0m 10ms/step - accuracy: 0.9849 - loss: 0.2965 - val_accuracy: 0.9583 - val_loss: 0.3339\n",
      "Epoch 5/10\n",
      "\u001b[1m757/757\u001b[0m \u001b[32m━━━━━━━━━━━━━━━━━━━━\u001b[0m\u001b[37m\u001b[0m \u001b[1m10s\u001b[0m 11ms/step - accuracy: 0.9858 - loss: 0.3013 - val_accuracy: 0.9638 - val_loss: 0.3078\n",
      "Epoch 6/10\n",
      "\u001b[1m757/757\u001b[0m \u001b[32m━━━━━━━━━━━━━━━━━━━━\u001b[0m\u001b[37m\u001b[0m \u001b[1m7s\u001b[0m 10ms/step - accuracy: 0.9878 - loss: 0.2842 - val_accuracy: 0.9630 - val_loss: 0.4194\n",
      "Epoch 7/10\n",
      "\u001b[1m757/757\u001b[0m \u001b[32m━━━━━━━━━━━━━━━━━━━━\u001b[0m\u001b[37m\u001b[0m \u001b[1m9s\u001b[0m 12ms/step - accuracy: 0.9885 - loss: 0.2867 - val_accuracy: 0.9627 - val_loss: 0.3261\n",
      "Epoch 8/10\n",
      "\u001b[1m757/757\u001b[0m \u001b[32m━━━━━━━━━━━━━━━━━━━━\u001b[0m\u001b[37m\u001b[0m \u001b[1m7s\u001b[0m 10ms/step - accuracy: 0.9902 - loss: 0.2789 - val_accuracy: 0.9638 - val_loss: 0.3121\n",
      "\u001b[1m379/379\u001b[0m \u001b[32m━━━━━━━━━━━━━━━━━━━━\u001b[0m\u001b[37m\u001b[0m \u001b[1m1s\u001b[0m 1ms/step\n",
      "\n",
      "🏆 Training Results:\n",
      "🔹 Accuracy: 0.9638\n",
      "🔹 Precision: 0.9584\n",
      "🔹 Recall: 0.9588\n",
      "🔹 F1_score: 0.9586\n",
      "📊 Average F1-score: 0.9590\n",
      "\n",
      "🔍 Testing dense_units=128, dropout_rate=0.5\n",
      "\n",
      "📂 Fold 1\n",
      "\n",
      "🚀 Training Simple NN Model with dense_units = 128, dropout_rate = 0.5 🚀\n",
      "\n",
      "Epoch 1/10\n"
     ]
    },
    {
     "name": "stderr",
     "output_type": "stream",
     "text": [
      "/home/inflaton/miniconda3/envs/fake-news/lib/python3.11/site-packages/keras/src/layers/core/embedding.py:90: UserWarning: Argument `input_length` is deprecated. Just remove it.\n",
      "  warnings.warn(\n"
     ]
    },
    {
     "name": "stdout",
     "output_type": "stream",
     "text": [
      "\u001b[1m757/757\u001b[0m \u001b[32m━━━━━━━━━━━━━━━━━━━━\u001b[0m\u001b[37m\u001b[0m \u001b[1m10s\u001b[0m 12ms/step - accuracy: 0.8658 - loss: 0.7830 - val_accuracy: 0.9662 - val_loss: 0.3631\n",
      "Epoch 2/10\n",
      "\u001b[1m757/757\u001b[0m \u001b[32m━━━━━━━━━━━━━━━━━━━━\u001b[0m\u001b[37m\u001b[0m \u001b[1m7s\u001b[0m 9ms/step - accuracy: 0.9693 - loss: 0.3873 - val_accuracy: 0.9675 - val_loss: 0.3388\n",
      "Epoch 3/10\n",
      "\u001b[1m757/757\u001b[0m \u001b[32m━━━━━━━━━━━━━━━━━━━━\u001b[0m\u001b[37m\u001b[0m \u001b[1m7s\u001b[0m 10ms/step - accuracy: 0.9810 - loss: 0.3140 - val_accuracy: 0.9664 - val_loss: 0.3615\n",
      "Epoch 4/10\n",
      "\u001b[1m757/757\u001b[0m \u001b[32m━━━━━━━━━━━━━━━━━━━━\u001b[0m\u001b[37m\u001b[0m \u001b[1m8s\u001b[0m 10ms/step - accuracy: 0.9850 - loss: 0.3155 - val_accuracy: 0.9675 - val_loss: 0.3281\n",
      "Epoch 5/10\n",
      "\u001b[1m757/757\u001b[0m \u001b[32m━━━━━━━━━━━━━━━━━━━━\u001b[0m\u001b[37m\u001b[0m \u001b[1m8s\u001b[0m 11ms/step - accuracy: 0.9861 - loss: 0.3098 - val_accuracy: 0.9683 - val_loss: 0.3143\n",
      "Epoch 6/10\n",
      "\u001b[1m757/757\u001b[0m \u001b[32m━━━━━━━━━━━━━━━━━━━━\u001b[0m\u001b[37m\u001b[0m \u001b[1m8s\u001b[0m 10ms/step - accuracy: 0.9880 - loss: 0.2861 - val_accuracy: 0.9674 - val_loss: 0.3177\n",
      "Epoch 7/10\n",
      "\u001b[1m757/757\u001b[0m \u001b[32m━━━━━━━━━━━━━━━━━━━━\u001b[0m\u001b[37m\u001b[0m \u001b[1m10s\u001b[0m 13ms/step - accuracy: 0.9891 - loss: 0.2805 - val_accuracy: 0.9648 - val_loss: 0.3960\n",
      "Epoch 8/10\n",
      "\u001b[1m757/757\u001b[0m \u001b[32m━━━━━━━━━━━━━━━━━━━━\u001b[0m\u001b[37m\u001b[0m \u001b[1m8s\u001b[0m 10ms/step - accuracy: 0.9900 - loss: 0.2779 - val_accuracy: 0.9619 - val_loss: 0.4469\n",
      "\u001b[1m379/379\u001b[0m \u001b[32m━━━━━━━━━━━━━━━━━━━━\u001b[0m\u001b[37m\u001b[0m \u001b[1m1s\u001b[0m 1ms/step\n",
      "\n",
      "🏆 Training Results:\n",
      "🔹 Accuracy: 0.9683\n",
      "🔹 Precision: 0.9673\n",
      "🔹 Recall: 0.9599\n",
      "🔹 F1_score: 0.9636\n",
      "\n",
      "📂 Fold 2\n",
      "\n",
      "🚀 Training Simple NN Model with dense_units = 128, dropout_rate = 0.5 🚀\n",
      "\n",
      "Epoch 1/10\n"
     ]
    },
    {
     "name": "stderr",
     "output_type": "stream",
     "text": [
      "/home/inflaton/miniconda3/envs/fake-news/lib/python3.11/site-packages/keras/src/layers/core/embedding.py:90: UserWarning: Argument `input_length` is deprecated. Just remove it.\n",
      "  warnings.warn(\n"
     ]
    },
    {
     "name": "stdout",
     "output_type": "stream",
     "text": [
      "\u001b[1m757/757\u001b[0m \u001b[32m━━━━━━━━━━━━━━━━━━━━\u001b[0m\u001b[37m\u001b[0m \u001b[1m8s\u001b[0m 10ms/step - accuracy: 0.8569 - loss: 0.7579 - val_accuracy: 0.9608 - val_loss: 0.3915\n",
      "Epoch 2/10\n",
      "\u001b[1m757/757\u001b[0m \u001b[32m━━━━━━━━━━━━━━━━━━━━\u001b[0m\u001b[37m\u001b[0m \u001b[1m9s\u001b[0m 12ms/step - accuracy: 0.9701 - loss: 0.3640 - val_accuracy: 0.9556 - val_loss: 0.3855\n",
      "Epoch 3/10\n",
      "\u001b[1m757/757\u001b[0m \u001b[32m━━━━━━━━━━━━━━━━━━━━\u001b[0m\u001b[37m\u001b[0m \u001b[1m7s\u001b[0m 10ms/step - accuracy: 0.9791 - loss: 0.3218 - val_accuracy: 0.9597 - val_loss: 0.3834\n",
      "Epoch 4/10\n",
      "\u001b[1m757/757\u001b[0m \u001b[32m━━━━━━━━━━━━━━━━━━━━\u001b[0m\u001b[37m\u001b[0m \u001b[1m7s\u001b[0m 10ms/step - accuracy: 0.9825 - loss: 0.3146 - val_accuracy: 0.9589 - val_loss: 0.3660\n",
      "Epoch 5/10\n",
      "\u001b[1m757/757\u001b[0m \u001b[32m━━━━━━━━━━━━━━━━━━━━\u001b[0m\u001b[37m\u001b[0m \u001b[1m8s\u001b[0m 10ms/step - accuracy: 0.9842 - loss: 0.3098 - val_accuracy: 0.9589 - val_loss: 0.3706\n",
      "Epoch 6/10\n",
      "\u001b[1m757/757\u001b[0m \u001b[32m━━━━━━━━━━━━━━━━━━━━\u001b[0m\u001b[37m\u001b[0m \u001b[1m8s\u001b[0m 10ms/step - accuracy: 0.9880 - loss: 0.2915 - val_accuracy: 0.9594 - val_loss: 0.3430\n",
      "Epoch 7/10\n",
      "\u001b[1m757/757\u001b[0m \u001b[32m━━━━━━━━━━━━━━━━━━━━\u001b[0m\u001b[37m\u001b[0m \u001b[1m8s\u001b[0m 10ms/step - accuracy: 0.9890 - loss: 0.2820 - val_accuracy: 0.9578 - val_loss: 0.3970\n",
      "Epoch 8/10\n",
      "\u001b[1m757/757\u001b[0m \u001b[32m━━━━━━━━━━━━━━━━━━━━\u001b[0m\u001b[37m\u001b[0m \u001b[1m9s\u001b[0m 12ms/step - accuracy: 0.9895 - loss: 0.3034 - val_accuracy: 0.9621 - val_loss: 0.3990\n",
      "Epoch 9/10\n",
      "\u001b[1m757/757\u001b[0m \u001b[32m━━━━━━━━━━━━━━━━━━━━\u001b[0m\u001b[37m\u001b[0m \u001b[1m7s\u001b[0m 10ms/step - accuracy: 0.9898 - loss: 0.2864 - val_accuracy: 0.9626 - val_loss: 0.3019\n",
      "Epoch 10/10\n",
      "\u001b[1m757/757\u001b[0m \u001b[32m━━━━━━━━━━━━━━━━━━━━\u001b[0m\u001b[37m\u001b[0m \u001b[1m7s\u001b[0m 10ms/step - accuracy: 0.9909 - loss: 0.2639 - val_accuracy: 0.9632 - val_loss: 0.2895\n",
      "\u001b[1m379/379\u001b[0m \u001b[32m━━━━━━━━━━━━━━━━━━━━\u001b[0m\u001b[37m\u001b[0m \u001b[1m1s\u001b[0m 1ms/step\n",
      "\n",
      "🏆 Training Results:\n",
      "🔹 Accuracy: 0.9632\n",
      "🔹 Precision: 0.9707\n",
      "🔹 Recall: 0.9444\n",
      "🔹 F1_score: 0.9574\n",
      "\n",
      "📂 Fold 3\n",
      "\n",
      "🚀 Training Simple NN Model with dense_units = 128, dropout_rate = 0.5 🚀\n",
      "\n",
      "Epoch 1/10\n"
     ]
    },
    {
     "name": "stderr",
     "output_type": "stream",
     "text": [
      "/home/inflaton/miniconda3/envs/fake-news/lib/python3.11/site-packages/keras/src/layers/core/embedding.py:90: UserWarning: Argument `input_length` is deprecated. Just remove it.\n",
      "  warnings.warn(\n"
     ]
    },
    {
     "name": "stdout",
     "output_type": "stream",
     "text": [
      "\u001b[1m757/757\u001b[0m \u001b[32m━━━━━━━━━━━━━━━━━━━━\u001b[0m\u001b[37m\u001b[0m \u001b[1m10s\u001b[0m 12ms/step - accuracy: 0.8516 - loss: 0.7686 - val_accuracy: 0.9661 - val_loss: 0.3488\n",
      "Epoch 2/10\n",
      "\u001b[1m757/757\u001b[0m \u001b[32m━━━━━━━━━━━━━━━━━━━━\u001b[0m\u001b[37m\u001b[0m \u001b[1m7s\u001b[0m 9ms/step - accuracy: 0.9683 - loss: 0.3529 - val_accuracy: 0.9655 - val_loss: 0.3761\n",
      "Epoch 3/10\n",
      "\u001b[1m757/757\u001b[0m \u001b[32m━━━━━━━━━━━━━━━━━━━━\u001b[0m\u001b[37m\u001b[0m \u001b[1m8s\u001b[0m 10ms/step - accuracy: 0.9802 - loss: 0.3164 - val_accuracy: 0.9681 - val_loss: 0.3839\n",
      "Epoch 4/10\n",
      "\u001b[1m757/757\u001b[0m \u001b[32m━━━━━━━━━━━━━━━━━━━━\u001b[0m\u001b[37m\u001b[0m \u001b[1m8s\u001b[0m 10ms/step - accuracy: 0.9840 - loss: 0.3071 - val_accuracy: 0.9649 - val_loss: 0.3266\n",
      "Epoch 5/10\n",
      "\u001b[1m757/757\u001b[0m \u001b[32m━━━━━━━━━━━━━━━━━━━━\u001b[0m\u001b[37m\u001b[0m \u001b[1m8s\u001b[0m 10ms/step - accuracy: 0.9861 - loss: 0.3003 - val_accuracy: 0.9663 - val_loss: 0.3721\n",
      "Epoch 6/10\n",
      "\u001b[1m757/757\u001b[0m \u001b[32m━━━━━━━━━━━━━━━━━━━━\u001b[0m\u001b[37m\u001b[0m \u001b[1m8s\u001b[0m 10ms/step - accuracy: 0.9885 - loss: 0.2871 - val_accuracy: 0.9674 - val_loss: 0.3264\n",
      "Epoch 7/10\n",
      "\u001b[1m757/757\u001b[0m \u001b[32m━━━━━━━━━━━━━━━━━━━━\u001b[0m\u001b[37m\u001b[0m \u001b[1m9s\u001b[0m 12ms/step - accuracy: 0.9888 - loss: 0.2788 - val_accuracy: 0.9668 - val_loss: 0.3135\n",
      "Epoch 8/10\n",
      "\u001b[1m757/757\u001b[0m \u001b[32m━━━━━━━━━━━━━━━━━━━━\u001b[0m\u001b[37m\u001b[0m \u001b[1m8s\u001b[0m 10ms/step - accuracy: 0.9903 - loss: 0.2809 - val_accuracy: 0.9630 - val_loss: 0.3280\n",
      "Epoch 9/10\n",
      "\u001b[1m757/757\u001b[0m \u001b[32m━━━━━━━━━━━━━━━━━━━━\u001b[0m\u001b[37m\u001b[0m \u001b[1m7s\u001b[0m 10ms/step - accuracy: 0.9903 - loss: 0.2809 - val_accuracy: 0.9650 - val_loss: 0.3440\n",
      "Epoch 10/10\n",
      "\u001b[1m757/757\u001b[0m \u001b[32m━━━━━━━━━━━━━━━━━━━━\u001b[0m\u001b[37m\u001b[0m \u001b[1m8s\u001b[0m 10ms/step - accuracy: 0.9910 - loss: 0.2728 - val_accuracy: 0.9624 - val_loss: 0.3462\n",
      "\u001b[1m379/379\u001b[0m \u001b[32m━━━━━━━━━━━━━━━━━━━━\u001b[0m\u001b[37m\u001b[0m \u001b[1m1s\u001b[0m 2ms/step\n",
      "\n",
      "🏆 Training Results:\n",
      "🔹 Accuracy: 0.9668\n",
      "🔹 Precision: 0.9625\n",
      "🔹 Recall: 0.9615\n",
      "🔹 F1_score: 0.9620\n",
      "\n",
      "📂 Fold 4\n",
      "\n",
      "🚀 Training Simple NN Model with dense_units = 128, dropout_rate = 0.5 🚀\n",
      "\n",
      "Epoch 1/10\n"
     ]
    },
    {
     "name": "stderr",
     "output_type": "stream",
     "text": [
      "/home/inflaton/miniconda3/envs/fake-news/lib/python3.11/site-packages/keras/src/layers/core/embedding.py:90: UserWarning: Argument `input_length` is deprecated. Just remove it.\n",
      "  warnings.warn(\n"
     ]
    },
    {
     "name": "stdout",
     "output_type": "stream",
     "text": [
      "\u001b[1m757/757\u001b[0m \u001b[32m━━━━━━━━━━━━━━━━━━━━\u001b[0m\u001b[37m\u001b[0m \u001b[1m8s\u001b[0m 10ms/step - accuracy: 0.8622 - loss: 0.7531 - val_accuracy: 0.9626 - val_loss: 0.3774\n",
      "Epoch 2/10\n",
      "\u001b[1m757/757\u001b[0m \u001b[32m━━━━━━━━━━━━━━━━━━━━\u001b[0m\u001b[37m\u001b[0m \u001b[1m7s\u001b[0m 10ms/step - accuracy: 0.9680 - loss: 0.3614 - val_accuracy: 0.9633 - val_loss: 0.3800\n",
      "Epoch 3/10\n",
      "\u001b[1m757/757\u001b[0m \u001b[32m━━━━━━━━━━━━━━━━━━━━\u001b[0m\u001b[37m\u001b[0m \u001b[1m8s\u001b[0m 11ms/step - accuracy: 0.9783 - loss: 0.3382 - val_accuracy: 0.9645 - val_loss: 0.3408\n",
      "Epoch 4/10\n",
      "\u001b[1m757/757\u001b[0m \u001b[32m━━━━━━━━━━━━━━━━━━━━\u001b[0m\u001b[37m\u001b[0m \u001b[1m9s\u001b[0m 12ms/step - accuracy: 0.9823 - loss: 0.3300 - val_accuracy: 0.9565 - val_loss: 0.3934\n",
      "Epoch 5/10\n",
      "\u001b[1m757/757\u001b[0m \u001b[32m━━━━━━━━━━━━━━━━━━━━\u001b[0m\u001b[37m\u001b[0m \u001b[1m7s\u001b[0m 9ms/step - accuracy: 0.9859 - loss: 0.3213 - val_accuracy: 0.9601 - val_loss: 0.3537\n",
      "Epoch 6/10\n",
      "\u001b[1m757/757\u001b[0m \u001b[32m━━━━━━━━━━━━━━━━━━━━\u001b[0m\u001b[37m\u001b[0m \u001b[1m7s\u001b[0m 9ms/step - accuracy: 0.9877 - loss: 0.2944 - val_accuracy: 0.9640 - val_loss: 0.3659\n",
      "\u001b[1m379/379\u001b[0m \u001b[32m━━━━━━━━━━━━━━━━━━━━\u001b[0m\u001b[37m\u001b[0m \u001b[1m1s\u001b[0m 1ms/step\n",
      "\n",
      "🏆 Training Results:\n",
      "🔹 Accuracy: 0.9645\n",
      "🔹 Precision: 0.9582\n",
      "🔹 Recall: 0.9609\n",
      "🔹 F1_score: 0.9595\n",
      "\n",
      "📂 Fold 5\n",
      "\n",
      "🚀 Training Simple NN Model with dense_units = 128, dropout_rate = 0.5 🚀\n",
      "\n",
      "Epoch 1/10\n"
     ]
    },
    {
     "name": "stderr",
     "output_type": "stream",
     "text": [
      "/home/inflaton/miniconda3/envs/fake-news/lib/python3.11/site-packages/keras/src/layers/core/embedding.py:90: UserWarning: Argument `input_length` is deprecated. Just remove it.\n",
      "  warnings.warn(\n"
     ]
    },
    {
     "name": "stdout",
     "output_type": "stream",
     "text": [
      "\u001b[1m757/757\u001b[0m \u001b[32m━━━━━━━━━━━━━━━━━━━━\u001b[0m\u001b[37m\u001b[0m \u001b[1m8s\u001b[0m 10ms/step - accuracy: 0.8604 - loss: 0.7679 - val_accuracy: 0.9631 - val_loss: 0.3437\n",
      "Epoch 2/10\n",
      "\u001b[1m757/757\u001b[0m \u001b[32m━━━━━━━━━━━━━━━━━━━━\u001b[0m\u001b[37m\u001b[0m \u001b[1m8s\u001b[0m 11ms/step - accuracy: 0.9704 - loss: 0.3564 - val_accuracy: 0.9602 - val_loss: 0.3845\n",
      "Epoch 3/10\n",
      "\u001b[1m757/757\u001b[0m \u001b[32m━━━━━━━━━━━━━━━━━━━━\u001b[0m\u001b[37m\u001b[0m \u001b[1m8s\u001b[0m 10ms/step - accuracy: 0.9785 - loss: 0.3321 - val_accuracy: 0.9641 - val_loss: 0.3644\n",
      "Epoch 4/10\n",
      "\u001b[1m757/757\u001b[0m \u001b[32m━━━━━━━━━━━━━━━━━━━━\u001b[0m\u001b[37m\u001b[0m \u001b[1m7s\u001b[0m 10ms/step - accuracy: 0.9841 - loss: 0.3135 - val_accuracy: 0.9659 - val_loss: 0.2951\n",
      "Epoch 5/10\n",
      "\u001b[1m757/757\u001b[0m \u001b[32m━━━━━━━━━━━━━━━━━━━━\u001b[0m\u001b[37m\u001b[0m \u001b[1m9s\u001b[0m 11ms/step - accuracy: 0.9877 - loss: 0.2923 - val_accuracy: 0.9578 - val_loss: 0.3996\n",
      "Epoch 6/10\n",
      "\u001b[1m757/757\u001b[0m \u001b[32m━━━━━━━━━━━━━━━━━━━━\u001b[0m\u001b[37m\u001b[0m \u001b[1m8s\u001b[0m 11ms/step - accuracy: 0.9879 - loss: 0.2895 - val_accuracy: 0.9637 - val_loss: 0.3108\n",
      "Epoch 7/10\n",
      "\u001b[1m757/757\u001b[0m \u001b[32m━━━━━━━━━━━━━━━━━━━━\u001b[0m\u001b[37m\u001b[0m \u001b[1m7s\u001b[0m 10ms/step - accuracy: 0.9893 - loss: 0.2873 - val_accuracy: 0.9637 - val_loss: 0.3583\n",
      "\u001b[1m379/379\u001b[0m \u001b[32m━━━━━━━━━━━━━━━━━━━━\u001b[0m\u001b[37m\u001b[0m \u001b[1m1s\u001b[0m 1ms/step\n",
      "\n",
      "🏆 Training Results:\n",
      "🔹 Accuracy: 0.9659\n",
      "🔹 Precision: 0.9640\n",
      "🔹 Recall: 0.9577\n",
      "🔹 F1_score: 0.9608\n",
      "📊 Average F1-score: 0.9607\n",
      "CPU times: user 3h 41min 28s, sys: 16min 8s, total: 3h 57min 36s\n",
      "Wall time: 24min 24s\n"
     ]
    }
   ],
   "source": [
    "%%time\n",
    "best_params = do_grid_search(data)\n"
   ]
  },
  {
   "cell_type": "code",
   "execution_count": 10,
   "metadata": {},
   "outputs": [
    {
     "name": "stdout",
     "output_type": "stream",
     "text": [
      "\n",
      "🚀 Training Simple NN Model with dense_units = 128, dropout_rate = 0.5 🚀\n",
      "\n",
      "Epoch 1/10\n"
     ]
    },
    {
     "name": "stderr",
     "output_type": "stream",
     "text": [
      "/home/inflaton/miniconda3/envs/fake-news/lib/python3.11/site-packages/keras/src/layers/core/embedding.py:90: UserWarning: Argument `input_length` is deprecated. Just remove it.\n",
      "  warnings.warn(\n"
     ]
    },
    {
     "name": "stdout",
     "output_type": "stream",
     "text": [
      "\u001b[1m851/851\u001b[0m \u001b[32m━━━━━━━━━━━━━━━━━━━━\u001b[0m\u001b[37m\u001b[0m \u001b[1m9s\u001b[0m 10ms/step - accuracy: 0.8697 - loss: 0.7431 - val_accuracy: 0.9633 - val_loss: 0.3448\n",
      "Epoch 2/10\n",
      "\u001b[1m851/851\u001b[0m \u001b[32m━━━━━━━━━━━━━━━━━━━━\u001b[0m\u001b[37m\u001b[0m \u001b[1m10s\u001b[0m 12ms/step - accuracy: 0.9720 - loss: 0.3471 - val_accuracy: 0.9663 - val_loss: 0.3811\n",
      "Epoch 3/10\n",
      "\u001b[1m851/851\u001b[0m \u001b[32m━━━━━━━━━━━━━━━━━━━━\u001b[0m\u001b[37m\u001b[0m \u001b[1m8s\u001b[0m 9ms/step - accuracy: 0.9789 - loss: 0.3338 - val_accuracy: 0.9646 - val_loss: 0.3242\n",
      "Epoch 4/10\n",
      "\u001b[1m851/851\u001b[0m \u001b[32m━━━━━━━━━━━━━━━━━━━━\u001b[0m\u001b[37m\u001b[0m \u001b[1m8s\u001b[0m 9ms/step - accuracy: 0.9849 - loss: 0.3133 - val_accuracy: 0.9645 - val_loss: 0.3459\n",
      "Epoch 5/10\n",
      "\u001b[1m851/851\u001b[0m \u001b[32m━━━━━━━━━━━━━━━━━━━━\u001b[0m\u001b[37m\u001b[0m \u001b[1m8s\u001b[0m 10ms/step - accuracy: 0.9860 - loss: 0.3119 - val_accuracy: 0.9668 - val_loss: 0.3375\n",
      "Epoch 6/10\n",
      "\u001b[1m851/851\u001b[0m \u001b[32m━━━━━━━━━━━━━━━━━━━━\u001b[0m\u001b[37m\u001b[0m \u001b[1m10s\u001b[0m 11ms/step - accuracy: 0.9870 - loss: 0.3070 - val_accuracy: 0.9660 - val_loss: 0.3237\n",
      "Epoch 7/10\n",
      "\u001b[1m851/851\u001b[0m \u001b[32m━━━━━━━━━━━━━━━━━━━━\u001b[0m\u001b[37m\u001b[0m \u001b[1m8s\u001b[0m 10ms/step - accuracy: 0.9883 - loss: 0.3043 - val_accuracy: 0.9661 - val_loss: 0.3502\n",
      "Epoch 8/10\n",
      "\u001b[1m851/851\u001b[0m \u001b[32m━━━━━━━━━━━━━━━━━━━━\u001b[0m\u001b[37m\u001b[0m \u001b[1m9s\u001b[0m 10ms/step - accuracy: 0.9878 - loss: 0.2910 - val_accuracy: 0.9674 - val_loss: 0.3139\n",
      "Epoch 9/10\n",
      "\u001b[1m851/851\u001b[0m \u001b[32m━━━━━━━━━━━━━━━━━━━━\u001b[0m\u001b[37m\u001b[0m \u001b[1m10s\u001b[0m 12ms/step - accuracy: 0.9888 - loss: 0.2985 - val_accuracy: 0.9650 - val_loss: 0.3846\n",
      "Epoch 10/10\n",
      "\u001b[1m851/851\u001b[0m \u001b[32m━━━━━━━━━━━━━━━━━━━━\u001b[0m\u001b[37m\u001b[0m \u001b[1m8s\u001b[0m 9ms/step - accuracy: 0.9898 - loss: 0.2860 - val_accuracy: 0.9646 - val_loss: 0.3135\n",
      "\u001b[1m190/190\u001b[0m \u001b[32m━━━━━━━━━━━━━━━━━━━━\u001b[0m\u001b[37m\u001b[0m \u001b[1m0s\u001b[0m 1ms/step\n",
      "\n",
      "🏆 Training Results:\n",
      "🔹 Accuracy: 0.9646\n",
      "🔹 Precision: 0.9645\n",
      "🔹 Recall: 0.9543\n",
      "🔹 F1_score: 0.9594\n",
      "CPU times: user 16min 13s, sys: 1min 10s, total: 17min 24s\n",
      "Wall time: 1min 41s\n"
     ]
    }
   ],
   "source": [
    "%%time\n",
    "model = train_model(train_data, val_data, dense_units=best_params[\"dense_units\"], dropout_rate=best_params[\"dropout_rate\"])\n"
   ]
  },
  {
   "cell_type": "code",
   "execution_count": 11,
   "metadata": {},
   "outputs": [],
   "source": [
    "model.save(\"results/NN_model_original.keras\")"
   ]
  },
  {
   "cell_type": "code",
   "execution_count": 12,
   "metadata": {},
   "outputs": [
    {
     "data": {
      "text/html": [
       "<pre style=\"white-space:pre;overflow-x:auto;line-height:normal;font-family:Menlo,'DejaVu Sans Mono',consolas,'Courier New',monospace\"><span style=\"font-weight: bold\">Model: \"sequential_20\"</span>\n",
       "</pre>\n"
      ],
      "text/plain": [
       "\u001b[1mModel: \"sequential_20\"\u001b[0m\n"
      ]
     },
     "metadata": {},
     "output_type": "display_data"
    },
    {
     "data": {
      "text/html": [
       "<pre style=\"white-space:pre;overflow-x:auto;line-height:normal;font-family:Menlo,'DejaVu Sans Mono',consolas,'Courier New',monospace\">┏━━━━━━━━━━━━━━━━━━━━━━━━━━━━━━━━━┳━━━━━━━━━━━━━━━━━━━━━━━━┳━━━━━━━━━━━━━━━┓\n",
       "┃<span style=\"font-weight: bold\"> Layer (type)                    </span>┃<span style=\"font-weight: bold\"> Output Shape           </span>┃<span style=\"font-weight: bold\">       Param # </span>┃\n",
       "┡━━━━━━━━━━━━━━━━━━━━━━━━━━━━━━━━━╇━━━━━━━━━━━━━━━━━━━━━━━━╇━━━━━━━━━━━━━━━┩\n",
       "│ embedding_20 (<span style=\"color: #0087ff; text-decoration-color: #0087ff\">Embedding</span>)        │ (<span style=\"color: #00d7ff; text-decoration-color: #00d7ff\">None</span>, <span style=\"color: #00af00; text-decoration-color: #00af00\">300</span>, <span style=\"color: #00af00; text-decoration-color: #00af00\">128</span>)       │     <span style=\"color: #00af00; text-decoration-color: #00af00\">1,280,000</span> │\n",
       "├─────────────────────────────────┼────────────────────────┼───────────────┤\n",
       "│ flatten_20 (<span style=\"color: #0087ff; text-decoration-color: #0087ff\">Flatten</span>)            │ (<span style=\"color: #00d7ff; text-decoration-color: #00d7ff\">None</span>, <span style=\"color: #00af00; text-decoration-color: #00af00\">38400</span>)          │             <span style=\"color: #00af00; text-decoration-color: #00af00\">0</span> │\n",
       "├─────────────────────────────────┼────────────────────────┼───────────────┤\n",
       "│ dense_60 (<span style=\"color: #0087ff; text-decoration-color: #0087ff\">Dense</span>)                │ (<span style=\"color: #00d7ff; text-decoration-color: #00d7ff\">None</span>, <span style=\"color: #00af00; text-decoration-color: #00af00\">64</span>)             │     <span style=\"color: #00af00; text-decoration-color: #00af00\">2,457,664</span> │\n",
       "├─────────────────────────────────┼────────────────────────┼───────────────┤\n",
       "│ dropout_40 (<span style=\"color: #0087ff; text-decoration-color: #0087ff\">Dropout</span>)            │ (<span style=\"color: #00d7ff; text-decoration-color: #00d7ff\">None</span>, <span style=\"color: #00af00; text-decoration-color: #00af00\">64</span>)             │             <span style=\"color: #00af00; text-decoration-color: #00af00\">0</span> │\n",
       "├─────────────────────────────────┼────────────────────────┼───────────────┤\n",
       "│ dense_61 (<span style=\"color: #0087ff; text-decoration-color: #0087ff\">Dense</span>)                │ (<span style=\"color: #00d7ff; text-decoration-color: #00d7ff\">None</span>, <span style=\"color: #00af00; text-decoration-color: #00af00\">32</span>)             │         <span style=\"color: #00af00; text-decoration-color: #00af00\">2,080</span> │\n",
       "├─────────────────────────────────┼────────────────────────┼───────────────┤\n",
       "│ dropout_41 (<span style=\"color: #0087ff; text-decoration-color: #0087ff\">Dropout</span>)            │ (<span style=\"color: #00d7ff; text-decoration-color: #00d7ff\">None</span>, <span style=\"color: #00af00; text-decoration-color: #00af00\">32</span>)             │             <span style=\"color: #00af00; text-decoration-color: #00af00\">0</span> │\n",
       "├─────────────────────────────────┼────────────────────────┼───────────────┤\n",
       "│ dense_62 (<span style=\"color: #0087ff; text-decoration-color: #0087ff\">Dense</span>)                │ (<span style=\"color: #00d7ff; text-decoration-color: #00d7ff\">None</span>, <span style=\"color: #00af00; text-decoration-color: #00af00\">1</span>)              │            <span style=\"color: #00af00; text-decoration-color: #00af00\">33</span> │\n",
       "└─────────────────────────────────┴────────────────────────┴───────────────┘\n",
       "</pre>\n"
      ],
      "text/plain": [
       "┏━━━━━━━━━━━━━━━━━━━━━━━━━━━━━━━━━┳━━━━━━━━━━━━━━━━━━━━━━━━┳━━━━━━━━━━━━━━━┓\n",
       "┃\u001b[1m \u001b[0m\u001b[1mLayer (type)                   \u001b[0m\u001b[1m \u001b[0m┃\u001b[1m \u001b[0m\u001b[1mOutput Shape          \u001b[0m\u001b[1m \u001b[0m┃\u001b[1m \u001b[0m\u001b[1m      Param #\u001b[0m\u001b[1m \u001b[0m┃\n",
       "┡━━━━━━━━━━━━━━━━━━━━━━━━━━━━━━━━━╇━━━━━━━━━━━━━━━━━━━━━━━━╇━━━━━━━━━━━━━━━┩\n",
       "│ embedding_20 (\u001b[38;5;33mEmbedding\u001b[0m)        │ (\u001b[38;5;45mNone\u001b[0m, \u001b[38;5;34m300\u001b[0m, \u001b[38;5;34m128\u001b[0m)       │     \u001b[38;5;34m1,280,000\u001b[0m │\n",
       "├─────────────────────────────────┼────────────────────────┼───────────────┤\n",
       "│ flatten_20 (\u001b[38;5;33mFlatten\u001b[0m)            │ (\u001b[38;5;45mNone\u001b[0m, \u001b[38;5;34m38400\u001b[0m)          │             \u001b[38;5;34m0\u001b[0m │\n",
       "├─────────────────────────────────┼────────────────────────┼───────────────┤\n",
       "│ dense_60 (\u001b[38;5;33mDense\u001b[0m)                │ (\u001b[38;5;45mNone\u001b[0m, \u001b[38;5;34m64\u001b[0m)             │     \u001b[38;5;34m2,457,664\u001b[0m │\n",
       "├─────────────────────────────────┼────────────────────────┼───────────────┤\n",
       "│ dropout_40 (\u001b[38;5;33mDropout\u001b[0m)            │ (\u001b[38;5;45mNone\u001b[0m, \u001b[38;5;34m64\u001b[0m)             │             \u001b[38;5;34m0\u001b[0m │\n",
       "├─────────────────────────────────┼────────────────────────┼───────────────┤\n",
       "│ dense_61 (\u001b[38;5;33mDense\u001b[0m)                │ (\u001b[38;5;45mNone\u001b[0m, \u001b[38;5;34m32\u001b[0m)             │         \u001b[38;5;34m2,080\u001b[0m │\n",
       "├─────────────────────────────────┼────────────────────────┼───────────────┤\n",
       "│ dropout_41 (\u001b[38;5;33mDropout\u001b[0m)            │ (\u001b[38;5;45mNone\u001b[0m, \u001b[38;5;34m32\u001b[0m)             │             \u001b[38;5;34m0\u001b[0m │\n",
       "├─────────────────────────────────┼────────────────────────┼───────────────┤\n",
       "│ dense_62 (\u001b[38;5;33mDense\u001b[0m)                │ (\u001b[38;5;45mNone\u001b[0m, \u001b[38;5;34m1\u001b[0m)              │            \u001b[38;5;34m33\u001b[0m │\n",
       "└─────────────────────────────────┴────────────────────────┴───────────────┘\n"
      ]
     },
     "metadata": {},
     "output_type": "display_data"
    },
    {
     "data": {
      "text/html": [
       "<pre style=\"white-space:pre;overflow-x:auto;line-height:normal;font-family:Menlo,'DejaVu Sans Mono',consolas,'Courier New',monospace\"><span style=\"font-weight: bold\"> Total params: </span><span style=\"color: #00af00; text-decoration-color: #00af00\">11,219,333</span> (42.80 MB)\n",
       "</pre>\n"
      ],
      "text/plain": [
       "\u001b[1m Total params: \u001b[0m\u001b[38;5;34m11,219,333\u001b[0m (42.80 MB)\n"
      ]
     },
     "metadata": {},
     "output_type": "display_data"
    },
    {
     "data": {
      "text/html": [
       "<pre style=\"white-space:pre;overflow-x:auto;line-height:normal;font-family:Menlo,'DejaVu Sans Mono',consolas,'Courier New',monospace\"><span style=\"font-weight: bold\"> Trainable params: </span><span style=\"color: #00af00; text-decoration-color: #00af00\">3,739,777</span> (14.27 MB)\n",
       "</pre>\n"
      ],
      "text/plain": [
       "\u001b[1m Trainable params: \u001b[0m\u001b[38;5;34m3,739,777\u001b[0m (14.27 MB)\n"
      ]
     },
     "metadata": {},
     "output_type": "display_data"
    },
    {
     "data": {
      "text/html": [
       "<pre style=\"white-space:pre;overflow-x:auto;line-height:normal;font-family:Menlo,'DejaVu Sans Mono',consolas,'Courier New',monospace\"><span style=\"font-weight: bold\"> Non-trainable params: </span><span style=\"color: #00af00; text-decoration-color: #00af00\">0</span> (0.00 B)\n",
       "</pre>\n"
      ],
      "text/plain": [
       "\u001b[1m Non-trainable params: \u001b[0m\u001b[38;5;34m0\u001b[0m (0.00 B)\n"
      ]
     },
     "metadata": {},
     "output_type": "display_data"
    },
    {
     "data": {
      "text/html": [
       "<pre style=\"white-space:pre;overflow-x:auto;line-height:normal;font-family:Menlo,'DejaVu Sans Mono',consolas,'Courier New',monospace\"><span style=\"font-weight: bold\"> Optimizer params: </span><span style=\"color: #00af00; text-decoration-color: #00af00\">7,479,556</span> (28.53 MB)\n",
       "</pre>\n"
      ],
      "text/plain": [
       "\u001b[1m Optimizer params: \u001b[0m\u001b[38;5;34m7,479,556\u001b[0m (28.53 MB)\n"
      ]
     },
     "metadata": {},
     "output_type": "display_data"
    }
   ],
   "source": [
    "# load model\n",
    "from tensorflow.keras.models import load_model\n",
    "\n",
    "model2 = load_model(\"results/NN_model_original.keras\")\n",
    "model2.summary()"
   ]
  },
  {
   "cell_type": "code",
   "execution_count": 13,
   "metadata": {},
   "outputs": [
    {
     "name": "stdout",
     "output_type": "stream",
     "text": [
      "📊 Evaluating Model...\n",
      "\u001b[1m190/190\u001b[0m \u001b[32m━━━━━━━━━━━━━━━━━━━━\u001b[0m\u001b[37m\u001b[0m \u001b[1m0s\u001b[0m 1ms/step\n",
      "Accuracy: 0.9646\n",
      "Precision: 0.9645\n",
      "Recall: 0.9543\n",
      "F1: 0.9594\n",
      "CPU times: user 7.92 s, sys: 199 ms, total: 8.12 s\n",
      "Wall time: 7.1 s\n"
     ]
    }
   ],
   "source": [
    "%%time\n",
    "evaluate_model(model, train_data, val_data)"
   ]
  },
  {
   "cell_type": "code",
   "execution_count": 14,
   "metadata": {},
   "outputs": [
    {
     "name": "stdout",
     "output_type": "stream",
     "text": [
      "📊 Evaluating Model...\n",
      "\u001b[1m190/190\u001b[0m \u001b[32m━━━━━━━━━━━━━━━━━━━━\u001b[0m\u001b[37m\u001b[0m \u001b[1m0s\u001b[0m 1ms/step\n",
      "Accuracy: 0.9646\n",
      "Precision: 0.9645\n",
      "Recall: 0.9543\n",
      "F1: 0.9594\n",
      "CPU times: user 7.93 s, sys: 147 ms, total: 8.08 s\n",
      "Wall time: 7.28 s\n"
     ]
    }
   ],
   "source": [
    "%%time\n",
    "evaluate_model(model2, train_data, val_data)"
   ]
  },
  {
   "cell_type": "code",
   "execution_count": 15,
   "metadata": {},
   "outputs": [
    {
     "name": "stdout",
     "output_type": "stream",
     "text": [
      "<class 'pandas.core.frame.DataFrame'>\n",
      "RangeIndex: 120982 entries, 0 to 120981\n",
      "Data columns (total 3 columns):\n",
      " #   Column                  Non-Null Count   Dtype \n",
      "---  ------                  --------------   ----- \n",
      " 0   label                   120982 non-null  int64 \n",
      " 1   full_content            120982 non-null  object\n",
      " 2   processed_full_content  120982 non-null  object\n",
      "dtypes: int64(1), object(2)\n",
      "memory usage: 2.8+ MB\n"
     ]
    }
   ],
   "source": [
    "val_data_rewritten = datasets[\"rewritten_test\"].to_pandas()\n",
    "train_data_rewritten = datasets[\"rewritten_train\"].to_pandas()\n",
    "data_rewritten = pd.concat([train_data, train_data_rewritten, val_data, val_data_rewritten], ignore_index=True)\n",
    "data_rewritten.info()"
   ]
  },
  {
   "cell_type": "code",
   "execution_count": 16,
   "metadata": {},
   "outputs": [
    {
     "name": "stdout",
     "output_type": "stream",
     "text": [
      "📊 Evaluating Model...\n",
      "\u001b[1m190/190\u001b[0m \u001b[32m━━━━━━━━━━━━━━━━━━━━\u001b[0m\u001b[37m\u001b[0m \u001b[1m0s\u001b[0m 1ms/step\n",
      "Accuracy: 0.7977\n",
      "Precision: 0.8531\n",
      "Recall: 0.6494\n",
      "F1: 0.7375\n",
      "CPU times: user 7.89 s, sys: 58.1 ms, total: 7.94 s\n",
      "Wall time: 7.19 s\n"
     ]
    }
   ],
   "source": [
    "%%time\n",
    "\n",
    "evaluate_model(model, train_data, val_data_rewritten)"
   ]
  },
  {
   "cell_type": "code",
   "execution_count": 17,
   "metadata": {},
   "outputs": [
    {
     "name": "stdout",
     "output_type": "stream",
     "text": [
      "📊 Evaluating Model...\n",
      "\u001b[1m190/190\u001b[0m \u001b[32m━━━━━━━━━━━━━━━━━━━━\u001b[0m\u001b[37m\u001b[0m \u001b[1m0s\u001b[0m 1ms/step\n",
      "Accuracy: 0.7977\n",
      "Precision: 0.8531\n",
      "Recall: 0.6494\n",
      "F1: 0.7375\n",
      "CPU times: user 7.86 s, sys: 83.7 ms, total: 7.94 s\n",
      "Wall time: 8.77 s\n"
     ]
    }
   ],
   "source": [
    "%%time\n",
    "\n",
    "evaluate_model(model2, train_data, val_data_rewritten)"
   ]
  },
  {
   "cell_type": "code",
   "execution_count": 18,
   "metadata": {},
   "outputs": [
    {
     "name": "stdout",
     "output_type": "stream",
     "text": [
      "\n",
      "🔍 Testing dense_units=64, dropout_rate=0.3\n",
      "\n",
      "📂 Fold 1\n",
      "\n",
      "🚀 Training Simple NN Model with dense_units = 64, dropout_rate = 0.3 🚀\n",
      "\n"
     ]
    },
    {
     "name": "stdout",
     "output_type": "stream",
     "text": [
      "Epoch 1/10\n"
     ]
    },
    {
     "name": "stderr",
     "output_type": "stream",
     "text": [
      "/home/inflaton/miniconda3/envs/fake-news/lib/python3.11/site-packages/keras/src/layers/core/embedding.py:90: UserWarning: Argument `input_length` is deprecated. Just remove it.\n",
      "  warnings.warn(\n"
     ]
    },
    {
     "name": "stdout",
     "output_type": "stream",
     "text": [
      "\u001b[1m1513/1513\u001b[0m \u001b[32m━━━━━━━━━━━━━━━━━━━━\u001b[0m\u001b[37m\u001b[0m \u001b[1m17s\u001b[0m 11ms/step - accuracy: 0.8374 - loss: 0.7398 - val_accuracy: 0.9189 - val_loss: 0.4787\n",
      "Epoch 2/10\n",
      "\u001b[1m1513/1513\u001b[0m \u001b[32m━━━━━━━━━━━━━━━━━━━━\u001b[0m\u001b[37m\u001b[0m \u001b[1m15s\u001b[0m 10ms/step - accuracy: 0.9365 - loss: 0.4847 - val_accuracy: 0.9024 - val_loss: 0.5707\n",
      "Epoch 3/10\n",
      "\u001b[1m1513/1513\u001b[0m \u001b[32m━━━━━━━━━━━━━━━━━━━━\u001b[0m\u001b[37m\u001b[0m \u001b[1m16s\u001b[0m 11ms/step - accuracy: 0.9515 - loss: 0.4953 - val_accuracy: 0.9328 - val_loss: 0.5022\n",
      "Epoch 4/10\n",
      "\u001b[1m1513/1513\u001b[0m \u001b[32m━━━━━━━━━━━━━━━━━━━━\u001b[0m\u001b[37m\u001b[0m \u001b[1m15s\u001b[0m 10ms/step - accuracy: 0.9603 - loss: 0.4963 - val_accuracy: 0.9309 - val_loss: 0.5900\n",
      "\u001b[1m757/757\u001b[0m \u001b[32m━━━━━━━━━━━━━━━━━━━━\u001b[0m\u001b[37m\u001b[0m \u001b[1m1s\u001b[0m 1ms/step\n",
      "\n",
      "🏆 Training Results:\n",
      "🔹 Accuracy: 0.9189\n",
      "🔹 Precision: 0.9436\n",
      "🔹 Recall: 0.8663\n",
      "🔹 F1_score: 0.9033\n",
      "\n",
      "📂 Fold 2\n",
      "\n",
      "🚀 Training Simple NN Model with dense_units = 64, dropout_rate = 0.3 🚀\n",
      "\n",
      "Epoch 1/10\n"
     ]
    },
    {
     "name": "stderr",
     "output_type": "stream",
     "text": [
      "/home/inflaton/miniconda3/envs/fake-news/lib/python3.11/site-packages/keras/src/layers/core/embedding.py:90: UserWarning: Argument `input_length` is deprecated. Just remove it.\n",
      "  warnings.warn(\n"
     ]
    },
    {
     "name": "stdout",
     "output_type": "stream",
     "text": [
      "\u001b[1m1513/1513\u001b[0m \u001b[32m━━━━━━━━━━━━━━━━━━━━\u001b[0m\u001b[37m\u001b[0m \u001b[1m18s\u001b[0m 11ms/step - accuracy: 0.8463 - loss: 0.7270 - val_accuracy: 0.9268 - val_loss: 0.4498\n",
      "Epoch 2/10\n",
      "\u001b[1m1513/1513\u001b[0m \u001b[32m━━━━━━━━━━━━━━━━━━━━\u001b[0m\u001b[37m\u001b[0m \u001b[1m15s\u001b[0m 10ms/step - accuracy: 0.9357 - loss: 0.4692 - val_accuracy: 0.9201 - val_loss: 0.5027\n",
      "Epoch 3/10\n",
      "\u001b[1m1513/1513\u001b[0m \u001b[32m━━━━━━━━━━━━━━━━━━━━\u001b[0m\u001b[37m\u001b[0m \u001b[1m16s\u001b[0m 11ms/step - accuracy: 0.9503 - loss: 0.4739 - val_accuracy: 0.9186 - val_loss: 0.5289\n",
      "Epoch 4/10\n",
      "\u001b[1m1513/1513\u001b[0m \u001b[32m━━━━━━━━━━━━━━━━━━━━\u001b[0m\u001b[37m\u001b[0m \u001b[1m16s\u001b[0m 11ms/step - accuracy: 0.9613 - loss: 0.4807 - val_accuracy: 0.9145 - val_loss: 0.5821\n",
      "\u001b[1m757/757\u001b[0m \u001b[32m━━━━━━━━━━━━━━━━━━━━\u001b[0m\u001b[37m\u001b[0m \u001b[1m1s\u001b[0m 1ms/step\n",
      "\n",
      "🏆 Training Results:\n",
      "🔹 Accuracy: 0.9268\n",
      "🔹 Precision: 0.9099\n",
      "🔹 Recall: 0.9241\n",
      "🔹 F1_score: 0.9169\n",
      "\n",
      "📂 Fold 3\n",
      "\n",
      "🚀 Training Simple NN Model with dense_units = 64, dropout_rate = 0.3 🚀\n",
      "\n",
      "Epoch 1/10\n"
     ]
    },
    {
     "name": "stderr",
     "output_type": "stream",
     "text": [
      "/home/inflaton/miniconda3/envs/fake-news/lib/python3.11/site-packages/keras/src/layers/core/embedding.py:90: UserWarning: Argument `input_length` is deprecated. Just remove it.\n",
      "  warnings.warn(\n"
     ]
    },
    {
     "name": "stdout",
     "output_type": "stream",
     "text": [
      "\u001b[1m1513/1513\u001b[0m \u001b[32m━━━━━━━━━━━━━━━━━━━━\u001b[0m\u001b[37m\u001b[0m \u001b[1m18s\u001b[0m 11ms/step - accuracy: 0.8447 - loss: 0.7346 - val_accuracy: 0.9193 - val_loss: 0.4741\n",
      "Epoch 2/10\n",
      "\u001b[1m1513/1513\u001b[0m \u001b[32m━━━━━━━━━━━━━━━━━━━━\u001b[0m\u001b[37m\u001b[0m \u001b[1m15s\u001b[0m 10ms/step - accuracy: 0.9368 - loss: 0.4748 - val_accuracy: 0.9208 - val_loss: 0.5018\n",
      "Epoch 3/10\n",
      "\u001b[1m1513/1513\u001b[0m \u001b[32m━━━━━━━━━━━━━━━━━━━━\u001b[0m\u001b[37m\u001b[0m \u001b[1m15s\u001b[0m 10ms/step - accuracy: 0.9489 - loss: 0.4829 - val_accuracy: 0.9222 - val_loss: 0.5254\n",
      "Epoch 4/10\n",
      "\u001b[1m1513/1513\u001b[0m \u001b[32m━━━━━━━━━━━━━━━━━━━━\u001b[0m\u001b[37m\u001b[0m \u001b[1m23s\u001b[0m 11ms/step - accuracy: 0.9604 - loss: 0.4809 - val_accuracy: 0.9140 - val_loss: 0.6316\n",
      "\u001b[1m757/757\u001b[0m \u001b[32m━━━━━━━━━━━━━━━━━━━━\u001b[0m\u001b[37m\u001b[0m \u001b[1m1s\u001b[0m 2ms/step\n",
      "\n",
      "🏆 Training Results:\n",
      "🔹 Accuracy: 0.9193\n",
      "🔹 Precision: 0.8939\n",
      "🔹 Recall: 0.9253\n",
      "🔹 F1_score: 0.9093\n",
      "\n",
      "📂 Fold 4\n",
      "\n",
      "🚀 Training Simple NN Model with dense_units = 64, dropout_rate = 0.3 🚀\n",
      "\n",
      "Epoch 1/10\n"
     ]
    },
    {
     "name": "stderr",
     "output_type": "stream",
     "text": [
      "/home/inflaton/miniconda3/envs/fake-news/lib/python3.11/site-packages/keras/src/layers/core/embedding.py:90: UserWarning: Argument `input_length` is deprecated. Just remove it.\n",
      "  warnings.warn(\n"
     ]
    },
    {
     "name": "stdout",
     "output_type": "stream",
     "text": [
      "\u001b[1m1513/1513\u001b[0m \u001b[32m━━━━━━━━━━━━━━━━━━━━\u001b[0m\u001b[37m\u001b[0m \u001b[1m17s\u001b[0m 11ms/step - accuracy: 0.8414 - loss: 0.7272 - val_accuracy: 0.9147 - val_loss: 0.4755\n",
      "Epoch 2/10\n",
      "\u001b[1m1513/1513\u001b[0m \u001b[32m━━━━━━━━━━━━━━━━━━━━\u001b[0m\u001b[37m\u001b[0m \u001b[1m15s\u001b[0m 10ms/step - accuracy: 0.9371 - loss: 0.4758 - val_accuracy: 0.9212 - val_loss: 0.4945\n",
      "Epoch 3/10\n",
      "\u001b[1m1513/1513\u001b[0m \u001b[32m━━━━━━━━━━━━━━━━━━━━\u001b[0m\u001b[37m\u001b[0m \u001b[1m17s\u001b[0m 11ms/step - accuracy: 0.9513 - loss: 0.4774 - val_accuracy: 0.9221 - val_loss: 0.5337\n",
      "Epoch 4/10\n",
      "\u001b[1m1513/1513\u001b[0m \u001b[32m━━━━━━━━━━━━━━━━━━━━\u001b[0m\u001b[37m\u001b[0m \u001b[1m16s\u001b[0m 11ms/step - accuracy: 0.9618 - loss: 0.4768 - val_accuracy: 0.9250 - val_loss: 0.5864\n",
      "\u001b[1m757/757\u001b[0m \u001b[32m━━━━━━━━━━━━━━━━━━━━\u001b[0m\u001b[37m\u001b[0m \u001b[1m1s\u001b[0m 1ms/step\n",
      "\n",
      "🏆 Training Results:\n",
      "🔹 Accuracy: 0.9147\n",
      "🔹 Precision: 0.8700\n",
      "🔹 Recall: 0.9462\n",
      "🔹 F1_score: 0.9065\n",
      "\n",
      "📂 Fold 5\n",
      "\n",
      "🚀 Training Simple NN Model with dense_units = 64, dropout_rate = 0.3 🚀\n",
      "\n",
      "Epoch 1/10\n"
     ]
    },
    {
     "name": "stderr",
     "output_type": "stream",
     "text": [
      "/home/inflaton/miniconda3/envs/fake-news/lib/python3.11/site-packages/keras/src/layers/core/embedding.py:90: UserWarning: Argument `input_length` is deprecated. Just remove it.\n",
      "  warnings.warn(\n"
     ]
    },
    {
     "name": "stdout",
     "output_type": "stream",
     "text": [
      "\u001b[1m1513/1513\u001b[0m \u001b[32m━━━━━━━━━━━━━━━━━━━━\u001b[0m\u001b[37m\u001b[0m \u001b[1m16s\u001b[0m 10ms/step - accuracy: 0.8524 - loss: 0.7325 - val_accuracy: 0.9313 - val_loss: 0.4299\n",
      "Epoch 2/10\n",
      "\u001b[1m1513/1513\u001b[0m \u001b[32m━━━━━━━━━━━━━━━━━━━━\u001b[0m\u001b[37m\u001b[0m \u001b[1m16s\u001b[0m 11ms/step - accuracy: 0.9368 - loss: 0.4733 - val_accuracy: 0.9248 - val_loss: 0.4988\n",
      "Epoch 3/10\n",
      "\u001b[1m1513/1513\u001b[0m \u001b[32m━━━━━━━━━━━━━━━━━━━━\u001b[0m\u001b[37m\u001b[0m \u001b[1m15s\u001b[0m 10ms/step - accuracy: 0.9502 - loss: 0.4761 - val_accuracy: 0.9288 - val_loss: 0.5128\n",
      "Epoch 4/10\n",
      "\u001b[1m1513/1513\u001b[0m \u001b[32m━━━━━━━━━━━━━━━━━━━━\u001b[0m\u001b[37m\u001b[0m \u001b[1m18s\u001b[0m 12ms/step - accuracy: 0.9616 - loss: 0.4797 - val_accuracy: 0.9253 - val_loss: 0.6076\n",
      "\u001b[1m757/757\u001b[0m \u001b[32m━━━━━━━━━━━━━━━━━━━━\u001b[0m\u001b[37m\u001b[0m \u001b[1m1s\u001b[0m 2ms/step\n",
      "\n",
      "🏆 Training Results:\n",
      "🔹 Accuracy: 0.9313\n",
      "🔹 Precision: 0.9247\n",
      "🔹 Recall: 0.9176\n",
      "🔹 F1_score: 0.9211\n",
      "📊 Average F1-score: 0.9115\n",
      "\n",
      "🔍 Testing dense_units=64, dropout_rate=0.5\n",
      "\n",
      "📂 Fold 1\n",
      "\n",
      "🚀 Training Simple NN Model with dense_units = 64, dropout_rate = 0.5 🚀\n",
      "\n",
      "Epoch 1/10\n"
     ]
    },
    {
     "name": "stderr",
     "output_type": "stream",
     "text": [
      "/home/inflaton/miniconda3/envs/fake-news/lib/python3.11/site-packages/keras/src/layers/core/embedding.py:90: UserWarning: Argument `input_length` is deprecated. Just remove it.\n",
      "  warnings.warn(\n"
     ]
    },
    {
     "name": "stdout",
     "output_type": "stream",
     "text": [
      "\u001b[1m1513/1513\u001b[0m \u001b[32m━━━━━━━━━━━━━━━━━━━━\u001b[0m\u001b[37m\u001b[0m \u001b[1m18s\u001b[0m 11ms/step - accuracy: 0.8432 - loss: 0.7456 - val_accuracy: 0.9226 - val_loss: 0.4555\n",
      "Epoch 2/10\n",
      "\u001b[1m1513/1513\u001b[0m \u001b[32m━━━━━━━━━━━━━━━━━━━━\u001b[0m\u001b[37m\u001b[0m \u001b[1m14s\u001b[0m 10ms/step - accuracy: 0.9350 - loss: 0.4778 - val_accuracy: 0.9310 - val_loss: 0.4650\n",
      "Epoch 3/10\n",
      "\u001b[1m1513/1513\u001b[0m \u001b[32m━━━━━━━━━━━━━━━━━━━━\u001b[0m\u001b[37m\u001b[0m \u001b[1m16s\u001b[0m 11ms/step - accuracy: 0.9510 - loss: 0.4806 - val_accuracy: 0.9300 - val_loss: 0.5000\n",
      "Epoch 4/10\n",
      "\u001b[1m1513/1513\u001b[0m \u001b[32m━━━━━━━━━━━━━━━━━━━━\u001b[0m\u001b[37m\u001b[0m \u001b[1m15s\u001b[0m 10ms/step - accuracy: 0.9602 - loss: 0.4809 - val_accuracy: 0.9277 - val_loss: 0.5849\n",
      "\u001b[1m757/757\u001b[0m \u001b[32m━━━━━━━━━━━━━━━━━━━━\u001b[0m\u001b[37m\u001b[0m \u001b[1m1s\u001b[0m 1ms/step\n",
      "\n",
      "🏆 Training Results:\n",
      "🔹 Accuracy: 0.9226\n",
      "🔹 Precision: 0.9454\n",
      "🔹 Recall: 0.8736\n",
      "🔹 F1_score: 0.9081\n",
      "\n",
      "📂 Fold 2\n",
      "\n",
      "🚀 Training Simple NN Model with dense_units = 64, dropout_rate = 0.5 🚀\n",
      "\n",
      "Epoch 1/10\n"
     ]
    },
    {
     "name": "stderr",
     "output_type": "stream",
     "text": [
      "/home/inflaton/miniconda3/envs/fake-news/lib/python3.11/site-packages/keras/src/layers/core/embedding.py:90: UserWarning: Argument `input_length` is deprecated. Just remove it.\n",
      "  warnings.warn(\n"
     ]
    },
    {
     "name": "stdout",
     "output_type": "stream",
     "text": [
      "\u001b[1m1513/1513\u001b[0m \u001b[32m━━━━━━━━━━━━━━━━━━━━\u001b[0m\u001b[37m\u001b[0m \u001b[1m16s\u001b[0m 10ms/step - accuracy: 0.8445 - loss: 0.7171 - val_accuracy: 0.9258 - val_loss: 0.4333\n",
      "Epoch 2/10\n",
      "\u001b[1m1513/1513\u001b[0m \u001b[32m━━━━━━━━━━━━━━━━━━━━\u001b[0m\u001b[37m\u001b[0m \u001b[1m16s\u001b[0m 11ms/step - accuracy: 0.9364 - loss: 0.4590 - val_accuracy: 0.9212 - val_loss: 0.4945\n",
      "Epoch 3/10\n",
      "\u001b[1m1513/1513\u001b[0m \u001b[32m━━━━━━━━━━━━━━━━━━━━\u001b[0m\u001b[37m\u001b[0m \u001b[1m16s\u001b[0m 11ms/step - accuracy: 0.9495 - loss: 0.4678 - val_accuracy: 0.9105 - val_loss: 0.5663\n",
      "Epoch 4/10\n",
      "\u001b[1m1513/1513\u001b[0m \u001b[32m━━━━━━━━━━━━━━━━━━━━\u001b[0m\u001b[37m\u001b[0m \u001b[1m17s\u001b[0m 11ms/step - accuracy: 0.9606 - loss: 0.4735 - val_accuracy: 0.9232 - val_loss: 0.5192\n",
      "\u001b[1m757/757\u001b[0m \u001b[32m━━━━━━━━━━━━━━━━━━━━\u001b[0m\u001b[37m\u001b[0m \u001b[1m1s\u001b[0m 1ms/step\n",
      "\n",
      "🏆 Training Results:\n",
      "🔹 Accuracy: 0.9258\n",
      "🔹 Precision: 0.9321\n",
      "🔹 Recall: 0.8955\n",
      "🔹 F1_score: 0.9135\n",
      "\n",
      "📂 Fold 3\n",
      "\n",
      "🚀 Training Simple NN Model with dense_units = 64, dropout_rate = 0.5 🚀\n",
      "\n",
      "Epoch 1/10\n"
     ]
    },
    {
     "name": "stderr",
     "output_type": "stream",
     "text": [
      "/home/inflaton/miniconda3/envs/fake-news/lib/python3.11/site-packages/keras/src/layers/core/embedding.py:90: UserWarning: Argument `input_length` is deprecated. Just remove it.\n",
      "  warnings.warn(\n"
     ]
    },
    {
     "name": "stdout",
     "output_type": "stream",
     "text": [
      "\u001b[1m1513/1513\u001b[0m \u001b[32m━━━━━━━━━━━━━━━━━━━━\u001b[0m\u001b[37m\u001b[0m \u001b[1m18s\u001b[0m 11ms/step - accuracy: 0.8462 - loss: 0.7380 - val_accuracy: 0.9237 - val_loss: 0.4527\n",
      "Epoch 2/10\n",
      "\u001b[1m1513/1513\u001b[0m \u001b[32m━━━━━━━━━━━━━━━━━━━━\u001b[0m\u001b[37m\u001b[0m \u001b[1m14s\u001b[0m 9ms/step - accuracy: 0.9356 - loss: 0.4744 - val_accuracy: 0.9230 - val_loss: 0.5081\n",
      "Epoch 3/10\n",
      "\u001b[1m1513/1513\u001b[0m \u001b[32m━━━━━━━━━━━━━━━━━━━━\u001b[0m\u001b[37m\u001b[0m \u001b[1m18s\u001b[0m 12ms/step - accuracy: 0.9478 - loss: 0.4854 - val_accuracy: 0.9183 - val_loss: 0.5562\n",
      "Epoch 4/10\n",
      "\u001b[1m1513/1513\u001b[0m \u001b[32m━━━━━━━━━━━━━━━━━━━━\u001b[0m\u001b[37m\u001b[0m \u001b[1m14s\u001b[0m 9ms/step - accuracy: 0.9588 - loss: 0.4789 - val_accuracy: 0.9202 - val_loss: 0.5879\n",
      "\u001b[1m757/757\u001b[0m \u001b[32m━━━━━━━━━━━━━━━━━━━━\u001b[0m\u001b[37m\u001b[0m \u001b[1m1s\u001b[0m 1ms/step\n",
      "\n",
      "🏆 Training Results:\n",
      "🔹 Accuracy: 0.9237\n",
      "🔹 Precision: 0.9041\n",
      "🔹 Recall: 0.9235\n",
      "🔹 F1_score: 0.9137\n",
      "\n",
      "📂 Fold 4\n",
      "\n",
      "🚀 Training Simple NN Model with dense_units = 64, dropout_rate = 0.5 🚀\n",
      "\n",
      "Epoch 1/10\n"
     ]
    },
    {
     "name": "stderr",
     "output_type": "stream",
     "text": [
      "/home/inflaton/miniconda3/envs/fake-news/lib/python3.11/site-packages/keras/src/layers/core/embedding.py:90: UserWarning: Argument `input_length` is deprecated. Just remove it.\n",
      "  warnings.warn(\n"
     ]
    },
    {
     "name": "stdout",
     "output_type": "stream",
     "text": [
      "\u001b[1m1513/1513\u001b[0m \u001b[32m━━━━━━━━━━━━━━━━━━━━\u001b[0m\u001b[37m\u001b[0m \u001b[1m15s\u001b[0m 9ms/step - accuracy: 0.8433 - loss: 0.7408 - val_accuracy: 0.9256 - val_loss: 0.4540\n",
      "Epoch 2/10\n",
      "\u001b[1m1513/1513\u001b[0m \u001b[32m━━━━━━━━━━━━━━━━━━━━\u001b[0m\u001b[37m\u001b[0m \u001b[1m17s\u001b[0m 11ms/step - accuracy: 0.9381 - loss: 0.4695 - val_accuracy: 0.9254 - val_loss: 0.4905\n",
      "Epoch 3/10\n",
      "\u001b[1m1513/1513\u001b[0m \u001b[32m━━━━━━━━━━━━━━━━━━━━\u001b[0m\u001b[37m\u001b[0m \u001b[1m14s\u001b[0m 9ms/step - accuracy: 0.9516 - loss: 0.4810 - val_accuracy: 0.9223 - val_loss: 0.6012\n",
      "Epoch 4/10\n",
      "\u001b[1m1513/1513\u001b[0m \u001b[32m━━━━━━━━━━━━━━━━━━━━\u001b[0m\u001b[37m\u001b[0m \u001b[1m18s\u001b[0m 12ms/step - accuracy: 0.9603 - loss: 0.4859 - val_accuracy: 0.9259 - val_loss: 0.5350\n",
      "\u001b[1m757/757\u001b[0m \u001b[32m━━━━━━━━━━━━━━━━━━━━\u001b[0m\u001b[37m\u001b[0m \u001b[1m1s\u001b[0m 1ms/step\n",
      "\n",
      "🏆 Training Results:\n",
      "🔹 Accuracy: 0.9256\n",
      "🔹 Precision: 0.8998\n",
      "🔹 Recall: 0.9339\n",
      "🔹 F1_score: 0.9165\n",
      "\n",
      "📂 Fold 5\n",
      "\n",
      "🚀 Training Simple NN Model with dense_units = 64, dropout_rate = 0.5 🚀\n",
      "\n",
      "Epoch 1/10\n"
     ]
    },
    {
     "name": "stderr",
     "output_type": "stream",
     "text": [
      "/home/inflaton/miniconda3/envs/fake-news/lib/python3.11/site-packages/keras/src/layers/core/embedding.py:90: UserWarning: Argument `input_length` is deprecated. Just remove it.\n",
      "  warnings.warn(\n"
     ]
    },
    {
     "name": "stdout",
     "output_type": "stream",
     "text": [
      "\u001b[1m1513/1513\u001b[0m \u001b[32m━━━━━━━━━━━━━━━━━━━━\u001b[0m\u001b[37m\u001b[0m \u001b[1m18s\u001b[0m 11ms/step - accuracy: 0.8533 - loss: 0.7535 - val_accuracy: 0.9245 - val_loss: 0.4850\n",
      "Epoch 2/10\n",
      "\u001b[1m1513/1513\u001b[0m \u001b[32m━━━━━━━━━━━━━━━━━━━━\u001b[0m\u001b[37m\u001b[0m \u001b[1m14s\u001b[0m 9ms/step - accuracy: 0.9366 - loss: 0.4821 - val_accuracy: 0.9250 - val_loss: 0.5034\n",
      "Epoch 3/10\n",
      "\u001b[1m1513/1513\u001b[0m \u001b[32m━━━━━━━━━━━━━━━━━━━━\u001b[0m\u001b[37m\u001b[0m \u001b[1m17s\u001b[0m 11ms/step - accuracy: 0.9520 - loss: 0.4961 - val_accuracy: 0.9217 - val_loss: 0.5429\n",
      "Epoch 4/10\n",
      "\u001b[1m1513/1513\u001b[0m \u001b[32m━━━━━━━━━━━━━━━━━━━━\u001b[0m\u001b[37m\u001b[0m \u001b[1m14s\u001b[0m 9ms/step - accuracy: 0.9606 - loss: 0.4977 - val_accuracy: 0.9216 - val_loss: 0.6401\n",
      "\u001b[1m757/757\u001b[0m \u001b[32m━━━━━━━━━━━━━━━━━━━━\u001b[0m\u001b[37m\u001b[0m \u001b[1m1s\u001b[0m 1ms/step\n",
      "\n",
      "🏆 Training Results:\n",
      "🔹 Accuracy: 0.9245\n",
      "🔹 Precision: 0.8949\n",
      "🔹 Recall: 0.9375\n",
      "🔹 F1_score: 0.9157\n",
      "📊 Average F1-score: 0.9135\n",
      "\n",
      "🔍 Testing dense_units=128, dropout_rate=0.3\n",
      "\n",
      "📂 Fold 1\n",
      "\n",
      "🚀 Training Simple NN Model with dense_units = 128, dropout_rate = 0.3 🚀\n",
      "\n",
      "Epoch 1/10\n"
     ]
    },
    {
     "name": "stderr",
     "output_type": "stream",
     "text": [
      "/home/inflaton/miniconda3/envs/fake-news/lib/python3.11/site-packages/keras/src/layers/core/embedding.py:90: UserWarning: Argument `input_length` is deprecated. Just remove it.\n",
      "  warnings.warn(\n"
     ]
    },
    {
     "name": "stdout",
     "output_type": "stream",
     "text": [
      "\u001b[1m1513/1513\u001b[0m \u001b[32m━━━━━━━━━━━━━━━━━━━━\u001b[0m\u001b[37m\u001b[0m \u001b[1m15s\u001b[0m 9ms/step - accuracy: 0.8489 - loss: 0.7308 - val_accuracy: 0.9116 - val_loss: 0.4775\n",
      "Epoch 2/10\n",
      "\u001b[1m1513/1513\u001b[0m \u001b[32m━━━━━━━━━━━━━━━━━━━━\u001b[0m\u001b[37m\u001b[0m \u001b[1m18s\u001b[0m 12ms/step - accuracy: 0.9368 - loss: 0.4685 - val_accuracy: 0.9328 - val_loss: 0.4561\n",
      "Epoch 3/10\n",
      "\u001b[1m1513/1513\u001b[0m \u001b[32m━━━━━━━━━━━━━━━━━━━━\u001b[0m\u001b[37m\u001b[0m \u001b[1m15s\u001b[0m 10ms/step - accuracy: 0.9506 - loss: 0.4751 - val_accuracy: 0.9230 - val_loss: 0.5334\n",
      "Epoch 4/10\n",
      "\u001b[1m1513/1513\u001b[0m \u001b[32m━━━━━━━━━━━━━━━━━━━━\u001b[0m\u001b[37m\u001b[0m \u001b[1m17s\u001b[0m 11ms/step - accuracy: 0.9611 - loss: 0.4813 - val_accuracy: 0.9279 - val_loss: 0.5803\n",
      "Epoch 5/10\n",
      "\u001b[1m1513/1513\u001b[0m \u001b[32m━━━━━━━━━━━━━━━━━━━━\u001b[0m\u001b[37m\u001b[0m \u001b[1m14s\u001b[0m 10ms/step - accuracy: 0.9677 - loss: 0.4740 - val_accuracy: 0.9287 - val_loss: 0.5991\n",
      "\u001b[1m757/757\u001b[0m \u001b[32m━━━━━━━━━━━━━━━━━━━━\u001b[0m\u001b[37m\u001b[0m \u001b[1m1s\u001b[0m 1ms/step\n",
      "\n",
      "🏆 Training Results:\n",
      "🔹 Accuracy: 0.9328\n",
      "🔹 Precision: 0.9381\n",
      "🔹 Recall: 0.9062\n",
      "🔹 F1_score: 0.9219\n",
      "\n",
      "📂 Fold 2\n",
      "\n",
      "🚀 Training Simple NN Model with dense_units = 128, dropout_rate = 0.3 🚀\n",
      "\n",
      "Epoch 1/10\n"
     ]
    },
    {
     "name": "stderr",
     "output_type": "stream",
     "text": [
      "/home/inflaton/miniconda3/envs/fake-news/lib/python3.11/site-packages/keras/src/layers/core/embedding.py:90: UserWarning: Argument `input_length` is deprecated. Just remove it.\n",
      "  warnings.warn(\n"
     ]
    },
    {
     "name": "stdout",
     "output_type": "stream",
     "text": [
      "\u001b[1m1513/1513\u001b[0m \u001b[32m━━━━━━━━━━━━━━━━━━━━\u001b[0m\u001b[37m\u001b[0m \u001b[1m15s\u001b[0m 10ms/step - accuracy: 0.8446 - loss: 0.7497 - val_accuracy: 0.9269 - val_loss: 0.4534\n",
      "Epoch 2/10\n",
      "\u001b[1m1513/1513\u001b[0m \u001b[32m━━━━━━━━━━━━━━━━━━━━\u001b[0m\u001b[37m\u001b[0m \u001b[1m16s\u001b[0m 11ms/step - accuracy: 0.9357 - loss: 0.4736 - val_accuracy: 0.9220 - val_loss: 0.5057\n",
      "Epoch 3/10\n",
      "\u001b[1m1513/1513\u001b[0m \u001b[32m━━━━━━━━━━━━━━━━━━━━\u001b[0m\u001b[37m\u001b[0m \u001b[1m16s\u001b[0m 10ms/step - accuracy: 0.9504 - loss: 0.4789 - val_accuracy: 0.9238 - val_loss: 0.5444\n",
      "Epoch 4/10\n",
      "\u001b[1m1513/1513\u001b[0m \u001b[32m━━━━━━━━━━━━━━━━━━━━\u001b[0m\u001b[37m\u001b[0m \u001b[1m17s\u001b[0m 11ms/step - accuracy: 0.9602 - loss: 0.4976 - val_accuracy: 0.9226 - val_loss: 0.5818\n",
      "\u001b[1m757/757\u001b[0m \u001b[32m━━━━━━━━━━━━━━━━━━━━\u001b[0m\u001b[37m\u001b[0m \u001b[1m1s\u001b[0m 1ms/step\n",
      "\n",
      "🏆 Training Results:\n",
      "🔹 Accuracy: 0.9269\n",
      "🔹 Precision: 0.9161\n",
      "🔹 Recall: 0.9168\n",
      "🔹 F1_score: 0.9164\n",
      "\n",
      "📂 Fold 3\n",
      "\n",
      "🚀 Training Simple NN Model with dense_units = 128, dropout_rate = 0.3 🚀\n",
      "\n",
      "Epoch 1/10\n"
     ]
    },
    {
     "name": "stderr",
     "output_type": "stream",
     "text": [
      "/home/inflaton/miniconda3/envs/fake-news/lib/python3.11/site-packages/keras/src/layers/core/embedding.py:90: UserWarning: Argument `input_length` is deprecated. Just remove it.\n",
      "  warnings.warn(\n"
     ]
    },
    {
     "name": "stdout",
     "output_type": "stream",
     "text": [
      "\u001b[1m1513/1513\u001b[0m \u001b[32m━━━━━━━━━━━━━━━━━━━━\u001b[0m\u001b[37m\u001b[0m \u001b[1m17s\u001b[0m 10ms/step - accuracy: 0.8513 - loss: 0.7453 - val_accuracy: 0.9195 - val_loss: 0.4633\n",
      "Epoch 2/10\n",
      "\u001b[1m1513/1513\u001b[0m \u001b[32m━━━━━━━━━━━━━━━━━━━━\u001b[0m\u001b[37m\u001b[0m \u001b[1m14s\u001b[0m 10ms/step - accuracy: 0.9365 - loss: 0.4631 - val_accuracy: 0.9278 - val_loss: 0.4889\n",
      "Epoch 3/10\n",
      "\u001b[1m1513/1513\u001b[0m \u001b[32m━━━━━━━━━━━━━━━━━━━━\u001b[0m\u001b[37m\u001b[0m \u001b[1m18s\u001b[0m 12ms/step - accuracy: 0.9498 - loss: 0.4715 - val_accuracy: 0.9230 - val_loss: 0.5503\n",
      "Epoch 4/10\n",
      "\u001b[1m1513/1513\u001b[0m \u001b[32m━━━━━━━━━━━━━━━━━━━━\u001b[0m\u001b[37m\u001b[0m \u001b[1m14s\u001b[0m 10ms/step - accuracy: 0.9592 - loss: 0.4808 - val_accuracy: 0.9252 - val_loss: 0.5465\n",
      "\u001b[1m757/757\u001b[0m \u001b[32m━━━━━━━━━━━━━━━━━━━━\u001b[0m\u001b[37m\u001b[0m \u001b[1m1s\u001b[0m 1ms/step\n",
      "\n",
      "🏆 Training Results:\n",
      "🔹 Accuracy: 0.9195\n",
      "🔹 Precision: 0.9001\n",
      "🔹 Recall: 0.9178\n",
      "🔹 F1_score: 0.9089\n",
      "\n",
      "📂 Fold 4\n",
      "\n",
      "🚀 Training Simple NN Model with dense_units = 128, dropout_rate = 0.3 🚀\n",
      "\n",
      "Epoch 1/10\n"
     ]
    },
    {
     "name": "stderr",
     "output_type": "stream",
     "text": [
      "/home/inflaton/miniconda3/envs/fake-news/lib/python3.11/site-packages/keras/src/layers/core/embedding.py:90: UserWarning: Argument `input_length` is deprecated. Just remove it.\n",
      "  warnings.warn(\n"
     ]
    },
    {
     "name": "stdout",
     "output_type": "stream",
     "text": [
      "\u001b[1m1513/1513\u001b[0m \u001b[32m━━━━━━━━━━━━━━━━━━━━\u001b[0m\u001b[37m\u001b[0m \u001b[1m17s\u001b[0m 11ms/step - accuracy: 0.8412 - loss: 0.7171 - val_accuracy: 0.9266 - val_loss: 0.4369\n",
      "Epoch 2/10\n",
      "\u001b[1m1513/1513\u001b[0m \u001b[32m━━━━━━━━━━━━━━━━━━━━\u001b[0m\u001b[37m\u001b[0m \u001b[1m15s\u001b[0m 10ms/step - accuracy: 0.9371 - loss: 0.4612 - val_accuracy: 0.9308 - val_loss: 0.4764\n",
      "Epoch 3/10\n",
      "\u001b[1m1513/1513\u001b[0m \u001b[32m━━━━━━━━━━━━━━━━━━━━\u001b[0m\u001b[37m\u001b[0m \u001b[1m14s\u001b[0m 10ms/step - accuracy: 0.9496 - loss: 0.4614 - val_accuracy: 0.9291 - val_loss: 0.5066\n",
      "Epoch 4/10\n",
      "\u001b[1m1513/1513\u001b[0m \u001b[32m━━━━━━━━━━━━━━━━━━━━\u001b[0m\u001b[37m\u001b[0m \u001b[1m16s\u001b[0m 11ms/step - accuracy: 0.9594 - loss: 0.4622 - val_accuracy: 0.9240 - val_loss: 0.5636\n",
      "\u001b[1m757/757\u001b[0m \u001b[32m━━━━━━━━━━━━━━━━━━━━\u001b[0m\u001b[37m\u001b[0m \u001b[1m1s\u001b[0m 1ms/step\n",
      "\n",
      "🏆 Training Results:\n",
      "🔹 Accuracy: 0.9266\n",
      "🔹 Precision: 0.8994\n",
      "🔹 Recall: 0.9371\n",
      "🔹 F1_score: 0.9179\n",
      "\n",
      "📂 Fold 5\n",
      "\n",
      "🚀 Training Simple NN Model with dense_units = 128, dropout_rate = 0.3 🚀\n",
      "\n",
      "Epoch 1/10\n"
     ]
    },
    {
     "name": "stderr",
     "output_type": "stream",
     "text": [
      "/home/inflaton/miniconda3/envs/fake-news/lib/python3.11/site-packages/keras/src/layers/core/embedding.py:90: UserWarning: Argument `input_length` is deprecated. Just remove it.\n",
      "  warnings.warn(\n"
     ]
    },
    {
     "name": "stdout",
     "output_type": "stream",
     "text": [
      "\u001b[1m1513/1513\u001b[0m \u001b[32m━━━━━━━━━━━━━━━━━━━━\u001b[0m\u001b[37m\u001b[0m \u001b[1m17s\u001b[0m 11ms/step - accuracy: 0.8531 - loss: 0.7229 - val_accuracy: 0.9324 - val_loss: 0.4387\n",
      "Epoch 2/10\n",
      "\u001b[1m1513/1513\u001b[0m \u001b[32m━━━━━━━━━━━━━━━━━━━━\u001b[0m\u001b[37m\u001b[0m \u001b[1m15s\u001b[0m 10ms/step - accuracy: 0.9363 - loss: 0.4621 - val_accuracy: 0.9256 - val_loss: 0.4774\n",
      "Epoch 3/10\n",
      "\u001b[1m1513/1513\u001b[0m \u001b[32m━━━━━━━━━━━━━━━━━━━━\u001b[0m\u001b[37m\u001b[0m \u001b[1m17s\u001b[0m 11ms/step - accuracy: 0.9497 - loss: 0.4628 - val_accuracy: 0.9265 - val_loss: 0.4895\n",
      "Epoch 4/10\n",
      "\u001b[1m1513/1513\u001b[0m \u001b[32m━━━━━━━━━━━━━━━━━━━━\u001b[0m\u001b[37m\u001b[0m \u001b[1m15s\u001b[0m 10ms/step - accuracy: 0.9589 - loss: 0.4665 - val_accuracy: 0.9261 - val_loss: 0.5283\n",
      "\u001b[1m757/757\u001b[0m \u001b[32m━━━━━━━━━━━━━━━━━━━━\u001b[0m\u001b[37m\u001b[0m \u001b[1m1s\u001b[0m 1ms/step\n",
      "\n",
      "🏆 Training Results:\n",
      "🔹 Accuracy: 0.9324\n",
      "🔹 Precision: 0.9159\n",
      "🔹 Recall: 0.9310\n",
      "🔹 F1_score: 0.9234\n",
      "📊 Average F1-score: 0.9177\n",
      "\n",
      "🔍 Testing dense_units=128, dropout_rate=0.5\n",
      "\n",
      "📂 Fold 1\n",
      "\n",
      "🚀 Training Simple NN Model with dense_units = 128, dropout_rate = 0.5 🚀\n",
      "\n",
      "Epoch 1/10\n"
     ]
    },
    {
     "name": "stderr",
     "output_type": "stream",
     "text": [
      "/home/inflaton/miniconda3/envs/fake-news/lib/python3.11/site-packages/keras/src/layers/core/embedding.py:90: UserWarning: Argument `input_length` is deprecated. Just remove it.\n",
      "  warnings.warn(\n"
     ]
    },
    {
     "name": "stdout",
     "output_type": "stream",
     "text": [
      "\u001b[1m1513/1513\u001b[0m \u001b[32m━━━━━━━━━━━━━━━━━━━━\u001b[0m\u001b[37m\u001b[0m \u001b[1m16s\u001b[0m 10ms/step - accuracy: 0.8420 - loss: 0.7469 - val_accuracy: 0.9140 - val_loss: 0.4672\n",
      "Epoch 2/10\n",
      "\u001b[1m1513/1513\u001b[0m \u001b[32m━━━━━━━━━━━━━━━━━━━━\u001b[0m\u001b[37m\u001b[0m \u001b[1m16s\u001b[0m 11ms/step - accuracy: 0.9373 - loss: 0.4727 - val_accuracy: 0.9106 - val_loss: 0.5350\n",
      "Epoch 3/10\n",
      "\u001b[1m1513/1513\u001b[0m \u001b[32m━━━━━━━━━━━━━━━━━━━━\u001b[0m\u001b[37m\u001b[0m \u001b[1m15s\u001b[0m 10ms/step - accuracy: 0.9509 - loss: 0.4770 - val_accuracy: 0.9321 - val_loss: 0.5380\n",
      "Epoch 4/10\n",
      "\u001b[1m1513/1513\u001b[0m \u001b[32m━━━━━━━━━━━━━━━━━━━━\u001b[0m\u001b[37m\u001b[0m \u001b[1m16s\u001b[0m 11ms/step - accuracy: 0.9617 - loss: 0.4813 - val_accuracy: 0.9296 - val_loss: 0.5095\n",
      "\u001b[1m757/757\u001b[0m \u001b[32m━━━━━━━━━━━━━━━━━━━━\u001b[0m\u001b[37m\u001b[0m \u001b[1m1s\u001b[0m 1ms/step\n",
      "\n",
      "🏆 Training Results:\n",
      "🔹 Accuracy: 0.9140\n",
      "🔹 Precision: 0.9530\n",
      "🔹 Recall: 0.8452\n",
      "🔹 F1_score: 0.8959\n",
      "\n",
      "📂 Fold 2\n",
      "\n",
      "🚀 Training Simple NN Model with dense_units = 128, dropout_rate = 0.5 🚀\n",
      "\n",
      "Epoch 1/10\n"
     ]
    },
    {
     "name": "stderr",
     "output_type": "stream",
     "text": [
      "/home/inflaton/miniconda3/envs/fake-news/lib/python3.11/site-packages/keras/src/layers/core/embedding.py:90: UserWarning: Argument `input_length` is deprecated. Just remove it.\n",
      "  warnings.warn(\n"
     ]
    },
    {
     "name": "stdout",
     "output_type": "stream",
     "text": [
      "\u001b[1m1513/1513\u001b[0m \u001b[32m━━━━━━━━━━━━━━━━━━━━\u001b[0m\u001b[37m\u001b[0m \u001b[1m18s\u001b[0m 11ms/step - accuracy: 0.8390 - loss: 0.7093 - val_accuracy: 0.9193 - val_loss: 0.4668\n",
      "Epoch 2/10\n",
      "\u001b[1m1513/1513\u001b[0m \u001b[32m━━━━━━━━━━━━━━━━━━━━\u001b[0m\u001b[37m\u001b[0m \u001b[1m14s\u001b[0m 9ms/step - accuracy: 0.9345 - loss: 0.4557 - val_accuracy: 0.9245 - val_loss: 0.4920\n",
      "Epoch 3/10\n",
      "\u001b[1m1513/1513\u001b[0m \u001b[32m━━━━━━━━━━━━━━━━━━━━\u001b[0m\u001b[37m\u001b[0m \u001b[1m17s\u001b[0m 11ms/step - accuracy: 0.9475 - loss: 0.4551 - val_accuracy: 0.9142 - val_loss: 0.5150\n",
      "Epoch 4/10\n",
      "\u001b[1m1513/1513\u001b[0m \u001b[32m━━━━━━━━━━━━━━━━━━━━\u001b[0m\u001b[37m\u001b[0m \u001b[1m16s\u001b[0m 10ms/step - accuracy: 0.9576 - loss: 0.4650 - val_accuracy: 0.9197 - val_loss: 0.5093\n",
      "\u001b[1m757/757\u001b[0m \u001b[32m━━━━━━━━━━━━━━━━━━━━\u001b[0m\u001b[37m\u001b[0m \u001b[1m1s\u001b[0m 2ms/step\n",
      "\n",
      "🏆 Training Results:\n",
      "🔹 Accuracy: 0.9193\n",
      "🔹 Precision: 0.9423\n",
      "🔹 Recall: 0.8688\n",
      "🔹 F1_score: 0.9041\n",
      "\n",
      "📂 Fold 3\n",
      "\n",
      "🚀 Training Simple NN Model with dense_units = 128, dropout_rate = 0.5 🚀\n",
      "\n",
      "Epoch 1/10\n"
     ]
    },
    {
     "name": "stderr",
     "output_type": "stream",
     "text": [
      "/home/inflaton/miniconda3/envs/fake-news/lib/python3.11/site-packages/keras/src/layers/core/embedding.py:90: UserWarning: Argument `input_length` is deprecated. Just remove it.\n",
      "  warnings.warn(\n"
     ]
    },
    {
     "name": "stdout",
     "output_type": "stream",
     "text": [
      "\u001b[1m1513/1513\u001b[0m \u001b[32m━━━━━━━━━━━━━━━━━━━━\u001b[0m\u001b[37m\u001b[0m \u001b[1m15s\u001b[0m 10ms/step - accuracy: 0.8447 - loss: 0.7313 - val_accuracy: 0.9133 - val_loss: 0.5002\n",
      "Epoch 2/10\n",
      "\u001b[1m1513/1513\u001b[0m \u001b[32m━━━━━━━━━━━━━━━━━━━━\u001b[0m\u001b[37m\u001b[0m \u001b[1m16s\u001b[0m 11ms/step - accuracy: 0.9361 - loss: 0.4808 - val_accuracy: 0.9208 - val_loss: 0.5229\n",
      "Epoch 3/10\n",
      "\u001b[1m1513/1513\u001b[0m \u001b[32m━━━━━━━━━━━━━━━━━━━━\u001b[0m\u001b[37m\u001b[0m \u001b[1m16s\u001b[0m 10ms/step - accuracy: 0.9502 - loss: 0.4779 - val_accuracy: 0.9225 - val_loss: 0.5273\n",
      "Epoch 4/10\n",
      "\u001b[1m1513/1513\u001b[0m \u001b[32m━━━━━━━━━━━━━━━━━━━━\u001b[0m\u001b[37m\u001b[0m \u001b[1m17s\u001b[0m 11ms/step - accuracy: 0.9589 - loss: 0.4896 - val_accuracy: 0.9228 - val_loss: 0.5384\n",
      "\u001b[1m757/757\u001b[0m \u001b[32m━━━━━━━━━━━━━━━━━━━━\u001b[0m\u001b[37m\u001b[0m \u001b[1m1s\u001b[0m 1ms/step\n",
      "\n",
      "🏆 Training Results:\n",
      "🔹 Accuracy: 0.9133\n",
      "🔹 Precision: 0.8782\n",
      "🔹 Recall: 0.9310\n",
      "🔹 F1_score: 0.9038\n",
      "\n",
      "📂 Fold 4\n",
      "\n",
      "🚀 Training Simple NN Model with dense_units = 128, dropout_rate = 0.5 🚀\n",
      "\n",
      "Epoch 1/10\n"
     ]
    },
    {
     "name": "stderr",
     "output_type": "stream",
     "text": [
      "/home/inflaton/miniconda3/envs/fake-news/lib/python3.11/site-packages/keras/src/layers/core/embedding.py:90: UserWarning: Argument `input_length` is deprecated. Just remove it.\n",
      "  warnings.warn(\n"
     ]
    },
    {
     "name": "stdout",
     "output_type": "stream",
     "text": [
      "\u001b[1m1513/1513\u001b[0m \u001b[32m━━━━━━━━━━━━━━━━━━━━\u001b[0m\u001b[37m\u001b[0m \u001b[1m18s\u001b[0m 11ms/step - accuracy: 0.8374 - loss: 0.7332 - val_accuracy: 0.9245 - val_loss: 0.4514\n",
      "Epoch 2/10\n",
      "\u001b[1m1513/1513\u001b[0m \u001b[32m━━━━━━━━━━━━━━━━━━━━\u001b[0m\u001b[37m\u001b[0m \u001b[1m15s\u001b[0m 10ms/step - accuracy: 0.9374 - loss: 0.4598 - val_accuracy: 0.9218 - val_loss: 0.4859\n",
      "Epoch 3/10\n",
      "\u001b[1m1513/1513\u001b[0m \u001b[32m━━━━━━━━━━━━━━━━━━━━\u001b[0m\u001b[37m\u001b[0m \u001b[1m15s\u001b[0m 10ms/step - accuracy: 0.9504 - loss: 0.4689 - val_accuracy: 0.9277 - val_loss: 0.5276\n",
      "Epoch 4/10\n",
      "\u001b[1m1513/1513\u001b[0m \u001b[32m━━━━━━━━━━━━━━━━━━━━\u001b[0m\u001b[37m\u001b[0m \u001b[1m18s\u001b[0m 12ms/step - accuracy: 0.9601 - loss: 0.4734 - val_accuracy: 0.9234 - val_loss: 0.5937\n",
      "\u001b[1m757/757\u001b[0m \u001b[32m━━━━━━━━━━━━━━━━━━━━\u001b[0m\u001b[37m\u001b[0m \u001b[1m1s\u001b[0m 2ms/step\n",
      "\n",
      "🏆 Training Results:\n",
      "🔹 Accuracy: 0.9245\n",
      "🔹 Precision: 0.9001\n",
      "🔹 Recall: 0.9307\n",
      "🔹 F1_score: 0.9152\n",
      "\n",
      "📂 Fold 5\n",
      "\n",
      "🚀 Training Simple NN Model with dense_units = 128, dropout_rate = 0.5 🚀\n",
      "\n",
      "Epoch 1/10\n"
     ]
    },
    {
     "name": "stderr",
     "output_type": "stream",
     "text": [
      "/home/inflaton/miniconda3/envs/fake-news/lib/python3.11/site-packages/keras/src/layers/core/embedding.py:90: UserWarning: Argument `input_length` is deprecated. Just remove it.\n",
      "  warnings.warn(\n"
     ]
    },
    {
     "name": "stdout",
     "output_type": "stream",
     "text": [
      "\u001b[1m1513/1513\u001b[0m \u001b[32m━━━━━━━━━━━━━━━━━━━━\u001b[0m\u001b[37m\u001b[0m \u001b[1m18s\u001b[0m 11ms/step - accuracy: 0.8500 - loss: 0.7300 - val_accuracy: 0.9301 - val_loss: 0.4583\n",
      "Epoch 2/10\n",
      "\u001b[1m1513/1513\u001b[0m \u001b[32m━━━━━━━━━━━━━━━━━━━━\u001b[0m\u001b[37m\u001b[0m \u001b[1m15s\u001b[0m 10ms/step - accuracy: 0.9385 - loss: 0.4700 - val_accuracy: 0.9223 - val_loss: 0.5104\n",
      "Epoch 3/10\n",
      "\u001b[1m1513/1513\u001b[0m \u001b[32m━━━━━━━━━━━━━━━━━━━━\u001b[0m\u001b[37m\u001b[0m \u001b[1m17s\u001b[0m 11ms/step - accuracy: 0.9509 - loss: 0.4804 - val_accuracy: 0.9156 - val_loss: 0.5627\n",
      "Epoch 4/10\n",
      "\u001b[1m1513/1513\u001b[0m \u001b[32m━━━━━━━━━━━━━━━━━━━━\u001b[0m\u001b[37m\u001b[0m \u001b[1m15s\u001b[0m 10ms/step - accuracy: 0.9596 - loss: 0.4839 - val_accuracy: 0.9197 - val_loss: 0.5723\n",
      "\u001b[1m757/757\u001b[0m \u001b[32m━━━━━━━━━━━━━━━━━━━━\u001b[0m\u001b[37m\u001b[0m \u001b[1m1s\u001b[0m 1ms/step\n",
      "\n",
      "🏆 Training Results:\n",
      "🔹 Accuracy: 0.9301\n",
      "🔹 Precision: 0.9166\n",
      "🔹 Recall: 0.9242\n",
      "🔹 F1_score: 0.9204\n",
      "📊 Average F1-score: 0.9079\n",
      "CPU times: user 4h 2min 49s, sys: 16min 36s, total: 4h 19min 25s\n",
      "Wall time: 29min 31s\n"
     ]
    },
    {
     "data": {
      "text/plain": [
       "{'dense_units': 128, 'dropout_rate': 0.3}"
      ]
     },
     "execution_count": 18,
     "metadata": {},
     "output_type": "execute_result"
    }
   ],
   "source": [
    "%%time\n",
    "\n",
    "best_params_rewritten = do_grid_search(data_rewritten)\n",
    "best_params_rewritten"
   ]
  },
  {
   "cell_type": "code",
   "execution_count": 19,
   "metadata": {},
   "outputs": [
    {
     "name": "stdout",
     "output_type": "stream",
     "text": [
      "\n",
      "🚀 Training Simple NN Model with dense_units = 128, dropout_rate = 0.3 🚀\n",
      "\n",
      "Epoch 1/10\n"
     ]
    },
    {
     "name": "stderr",
     "output_type": "stream",
     "text": [
      "/home/inflaton/miniconda3/envs/fake-news/lib/python3.11/site-packages/keras/src/layers/core/embedding.py:90: UserWarning: Argument `input_length` is deprecated. Just remove it.\n",
      "  warnings.warn(\n"
     ]
    },
    {
     "name": "stdout",
     "output_type": "stream",
     "text": [
      "\u001b[1m1702/1702\u001b[0m \u001b[32m━━━━━━━━━━━━━━━━━━━━\u001b[0m\u001b[37m\u001b[0m \u001b[1m20s\u001b[0m 11ms/step - accuracy: 0.8493 - loss: 0.7068 - val_accuracy: 0.9269 - val_loss: 0.4306\n",
      "Epoch 2/10\n",
      "\u001b[1m1702/1702\u001b[0m \u001b[32m━━━━━━━━━━━━━━━━━━━━\u001b[0m\u001b[37m\u001b[0m \u001b[1m16s\u001b[0m 9ms/step - accuracy: 0.9365 - loss: 0.4637 - val_accuracy: 0.9303 - val_loss: 0.4593\n",
      "Epoch 3/10\n",
      "\u001b[1m1702/1702\u001b[0m \u001b[32m━━━━━━━━━━━━━━━━━━━━\u001b[0m\u001b[37m\u001b[0m \u001b[1m18s\u001b[0m 10ms/step - accuracy: 0.9466 - loss: 0.4701 - val_accuracy: 0.9243 - val_loss: 0.5353\n",
      "Epoch 4/10\n",
      "\u001b[1m1702/1702\u001b[0m \u001b[32m━━━━━━━━━━━━━━━━━━━━\u001b[0m\u001b[37m\u001b[0m \u001b[1m16s\u001b[0m 9ms/step - accuracy: 0.9568 - loss: 0.4832 - val_accuracy: 0.9259 - val_loss: 0.5218\n",
      "\u001b[1m379/379\u001b[0m \u001b[32m━━━━━━━━━━━━━━━━━━━━\u001b[0m\u001b[37m\u001b[0m \u001b[1m1s\u001b[0m 1ms/step\n",
      "\n",
      "🏆 Training Results:\n",
      "🔹 Accuracy: 0.9269\n",
      "🔹 Precision: 0.9227\n",
      "🔹 Recall: 0.9091\n",
      "🔹 F1_score: 0.9159\n",
      "CPU times: user 13min 24s, sys: 52.7 s, total: 14min 17s\n",
      "Wall time: 1min 34s\n"
     ]
    }
   ],
   "source": [
    "%%time\n",
    "\n",
    "train_data_combined = pd.concat([train_data, train_data_rewritten], ignore_index=True)\n",
    "val_data_combined = pd.concat([val_data, val_data_rewritten], ignore_index=True)\n",
    "model_combined = train_model(train_data_combined, val_data_combined, \n",
    "                             dense_units=best_params_rewritten[\"dense_units\"], \n",
    "                             dropout_rate=best_params_rewritten[\"dropout_rate\"])\n",
    "model_combined.save(\"results/NN_model_combined.keras\")"
   ]
  },
  {
   "cell_type": "code",
   "execution_count": 20,
   "metadata": {},
   "outputs": [
    {
     "name": "stdout",
     "output_type": "stream",
     "text": [
      "📊 Evaluating Model...\n",
      "\u001b[1m379/379\u001b[0m \u001b[32m━━━━━━━━━━━━━━━━━━━━\u001b[0m\u001b[37m\u001b[0m \u001b[1m0s\u001b[0m 1ms/step\n",
      "Accuracy: 0.9269\n",
      "Precision: 0.9227\n",
      "Recall: 0.9091\n",
      "F1: 0.9159\n"
     ]
    }
   ],
   "source": [
    "evaluate_model(model_combined, train_data_combined, val_data_combined)"
   ]
  },
  {
   "cell_type": "code",
   "execution_count": 21,
   "metadata": {},
   "outputs": [
    {
     "name": "stdout",
     "output_type": "stream",
     "text": [
      "📊 Evaluating Model...\n",
      "\u001b[1m190/190\u001b[0m \u001b[32m━━━━━━━━━━━━━━━━━━━━\u001b[0m\u001b[37m\u001b[0m \u001b[1m0s\u001b[0m 1ms/step\n",
      "Accuracy: 0.9597\n",
      "Precision: 0.9605\n",
      "Recall: 0.9467\n",
      "F1: 0.9536\n"
     ]
    }
   ],
   "source": [
    "evaluate_model(model_combined, train_data_combined, val_data)"
   ]
  },
  {
   "cell_type": "code",
   "execution_count": 22,
   "metadata": {},
   "outputs": [
    {
     "name": "stdout",
     "output_type": "stream",
     "text": [
      "📊 Evaluating Model...\n",
      "\u001b[1m190/190\u001b[0m \u001b[32m━━━━━━━━━━━━━━━━━━━━\u001b[0m\u001b[37m\u001b[0m \u001b[1m0s\u001b[0m 1ms/step\n",
      "Accuracy: 0.8942\n",
      "Precision: 0.8849\n",
      "Recall: 0.8716\n",
      "F1: 0.8782\n"
     ]
    }
   ],
   "source": [
    "evaluate_model(model_combined, train_data_combined, val_data_rewritten)"
   ]
  },
  {
   "cell_type": "code",
   "execution_count": 23,
   "metadata": {},
   "outputs": [
    {
     "data": {
      "text/html": [
       "<pre style=\"white-space:pre;overflow-x:auto;line-height:normal;font-family:Menlo,'DejaVu Sans Mono',consolas,'Courier New',monospace\"><span style=\"font-weight: bold\">Model: \"sequential_41\"</span>\n",
       "</pre>\n"
      ],
      "text/plain": [
       "\u001b[1mModel: \"sequential_41\"\u001b[0m\n"
      ]
     },
     "metadata": {},
     "output_type": "display_data"
    },
    {
     "data": {
      "text/html": [
       "<pre style=\"white-space:pre;overflow-x:auto;line-height:normal;font-family:Menlo,'DejaVu Sans Mono',consolas,'Courier New',monospace\">┏━━━━━━━━━━━━━━━━━━━━━━━━━━━━━━━━━┳━━━━━━━━━━━━━━━━━━━━━━━━┳━━━━━━━━━━━━━━━┓\n",
       "┃<span style=\"font-weight: bold\"> Layer (type)                    </span>┃<span style=\"font-weight: bold\"> Output Shape           </span>┃<span style=\"font-weight: bold\">       Param # </span>┃\n",
       "┡━━━━━━━━━━━━━━━━━━━━━━━━━━━━━━━━━╇━━━━━━━━━━━━━━━━━━━━━━━━╇━━━━━━━━━━━━━━━┩\n",
       "│ embedding_41 (<span style=\"color: #0087ff; text-decoration-color: #0087ff\">Embedding</span>)        │ (<span style=\"color: #00d7ff; text-decoration-color: #00d7ff\">None</span>, <span style=\"color: #00af00; text-decoration-color: #00af00\">300</span>, <span style=\"color: #00af00; text-decoration-color: #00af00\">128</span>)       │     <span style=\"color: #00af00; text-decoration-color: #00af00\">1,280,000</span> │\n",
       "├─────────────────────────────────┼────────────────────────┼───────────────┤\n",
       "│ flatten_41 (<span style=\"color: #0087ff; text-decoration-color: #0087ff\">Flatten</span>)            │ (<span style=\"color: #00d7ff; text-decoration-color: #00d7ff\">None</span>, <span style=\"color: #00af00; text-decoration-color: #00af00\">38400</span>)          │             <span style=\"color: #00af00; text-decoration-color: #00af00\">0</span> │\n",
       "├─────────────────────────────────┼────────────────────────┼───────────────┤\n",
       "│ dense_123 (<span style=\"color: #0087ff; text-decoration-color: #0087ff\">Dense</span>)               │ (<span style=\"color: #00d7ff; text-decoration-color: #00d7ff\">None</span>, <span style=\"color: #00af00; text-decoration-color: #00af00\">64</span>)             │     <span style=\"color: #00af00; text-decoration-color: #00af00\">2,457,664</span> │\n",
       "├─────────────────────────────────┼────────────────────────┼───────────────┤\n",
       "│ dropout_82 (<span style=\"color: #0087ff; text-decoration-color: #0087ff\">Dropout</span>)            │ (<span style=\"color: #00d7ff; text-decoration-color: #00d7ff\">None</span>, <span style=\"color: #00af00; text-decoration-color: #00af00\">64</span>)             │             <span style=\"color: #00af00; text-decoration-color: #00af00\">0</span> │\n",
       "├─────────────────────────────────┼────────────────────────┼───────────────┤\n",
       "│ dense_124 (<span style=\"color: #0087ff; text-decoration-color: #0087ff\">Dense</span>)               │ (<span style=\"color: #00d7ff; text-decoration-color: #00d7ff\">None</span>, <span style=\"color: #00af00; text-decoration-color: #00af00\">32</span>)             │         <span style=\"color: #00af00; text-decoration-color: #00af00\">2,080</span> │\n",
       "├─────────────────────────────────┼────────────────────────┼───────────────┤\n",
       "│ dropout_83 (<span style=\"color: #0087ff; text-decoration-color: #0087ff\">Dropout</span>)            │ (<span style=\"color: #00d7ff; text-decoration-color: #00d7ff\">None</span>, <span style=\"color: #00af00; text-decoration-color: #00af00\">32</span>)             │             <span style=\"color: #00af00; text-decoration-color: #00af00\">0</span> │\n",
       "├─────────────────────────────────┼────────────────────────┼───────────────┤\n",
       "│ dense_125 (<span style=\"color: #0087ff; text-decoration-color: #0087ff\">Dense</span>)               │ (<span style=\"color: #00d7ff; text-decoration-color: #00d7ff\">None</span>, <span style=\"color: #00af00; text-decoration-color: #00af00\">1</span>)              │            <span style=\"color: #00af00; text-decoration-color: #00af00\">33</span> │\n",
       "└─────────────────────────────────┴────────────────────────┴───────────────┘\n",
       "</pre>\n"
      ],
      "text/plain": [
       "┏━━━━━━━━━━━━━━━━━━━━━━━━━━━━━━━━━┳━━━━━━━━━━━━━━━━━━━━━━━━┳━━━━━━━━━━━━━━━┓\n",
       "┃\u001b[1m \u001b[0m\u001b[1mLayer (type)                   \u001b[0m\u001b[1m \u001b[0m┃\u001b[1m \u001b[0m\u001b[1mOutput Shape          \u001b[0m\u001b[1m \u001b[0m┃\u001b[1m \u001b[0m\u001b[1m      Param #\u001b[0m\u001b[1m \u001b[0m┃\n",
       "┡━━━━━━━━━━━━━━━━━━━━━━━━━━━━━━━━━╇━━━━━━━━━━━━━━━━━━━━━━━━╇━━━━━━━━━━━━━━━┩\n",
       "│ embedding_41 (\u001b[38;5;33mEmbedding\u001b[0m)        │ (\u001b[38;5;45mNone\u001b[0m, \u001b[38;5;34m300\u001b[0m, \u001b[38;5;34m128\u001b[0m)       │     \u001b[38;5;34m1,280,000\u001b[0m │\n",
       "├─────────────────────────────────┼────────────────────────┼───────────────┤\n",
       "│ flatten_41 (\u001b[38;5;33mFlatten\u001b[0m)            │ (\u001b[38;5;45mNone\u001b[0m, \u001b[38;5;34m38400\u001b[0m)          │             \u001b[38;5;34m0\u001b[0m │\n",
       "├─────────────────────────────────┼────────────────────────┼───────────────┤\n",
       "│ dense_123 (\u001b[38;5;33mDense\u001b[0m)               │ (\u001b[38;5;45mNone\u001b[0m, \u001b[38;5;34m64\u001b[0m)             │     \u001b[38;5;34m2,457,664\u001b[0m │\n",
       "├─────────────────────────────────┼────────────────────────┼───────────────┤\n",
       "│ dropout_82 (\u001b[38;5;33mDropout\u001b[0m)            │ (\u001b[38;5;45mNone\u001b[0m, \u001b[38;5;34m64\u001b[0m)             │             \u001b[38;5;34m0\u001b[0m │\n",
       "├─────────────────────────────────┼────────────────────────┼───────────────┤\n",
       "│ dense_124 (\u001b[38;5;33mDense\u001b[0m)               │ (\u001b[38;5;45mNone\u001b[0m, \u001b[38;5;34m32\u001b[0m)             │         \u001b[38;5;34m2,080\u001b[0m │\n",
       "├─────────────────────────────────┼────────────────────────┼───────────────┤\n",
       "│ dropout_83 (\u001b[38;5;33mDropout\u001b[0m)            │ (\u001b[38;5;45mNone\u001b[0m, \u001b[38;5;34m32\u001b[0m)             │             \u001b[38;5;34m0\u001b[0m │\n",
       "├─────────────────────────────────┼────────────────────────┼───────────────┤\n",
       "│ dense_125 (\u001b[38;5;33mDense\u001b[0m)               │ (\u001b[38;5;45mNone\u001b[0m, \u001b[38;5;34m1\u001b[0m)              │            \u001b[38;5;34m33\u001b[0m │\n",
       "└─────────────────────────────────┴────────────────────────┴───────────────┘\n"
      ]
     },
     "metadata": {},
     "output_type": "display_data"
    },
    {
     "data": {
      "text/html": [
       "<pre style=\"white-space:pre;overflow-x:auto;line-height:normal;font-family:Menlo,'DejaVu Sans Mono',consolas,'Courier New',monospace\"><span style=\"font-weight: bold\"> Total params: </span><span style=\"color: #00af00; text-decoration-color: #00af00\">11,219,333</span> (42.80 MB)\n",
       "</pre>\n"
      ],
      "text/plain": [
       "\u001b[1m Total params: \u001b[0m\u001b[38;5;34m11,219,333\u001b[0m (42.80 MB)\n"
      ]
     },
     "metadata": {},
     "output_type": "display_data"
    },
    {
     "data": {
      "text/html": [
       "<pre style=\"white-space:pre;overflow-x:auto;line-height:normal;font-family:Menlo,'DejaVu Sans Mono',consolas,'Courier New',monospace\"><span style=\"font-weight: bold\"> Trainable params: </span><span style=\"color: #00af00; text-decoration-color: #00af00\">3,739,777</span> (14.27 MB)\n",
       "</pre>\n"
      ],
      "text/plain": [
       "\u001b[1m Trainable params: \u001b[0m\u001b[38;5;34m3,739,777\u001b[0m (14.27 MB)\n"
      ]
     },
     "metadata": {},
     "output_type": "display_data"
    },
    {
     "data": {
      "text/html": [
       "<pre style=\"white-space:pre;overflow-x:auto;line-height:normal;font-family:Menlo,'DejaVu Sans Mono',consolas,'Courier New',monospace\"><span style=\"font-weight: bold\"> Non-trainable params: </span><span style=\"color: #00af00; text-decoration-color: #00af00\">0</span> (0.00 B)\n",
       "</pre>\n"
      ],
      "text/plain": [
       "\u001b[1m Non-trainable params: \u001b[0m\u001b[38;5;34m0\u001b[0m (0.00 B)\n"
      ]
     },
     "metadata": {},
     "output_type": "display_data"
    },
    {
     "data": {
      "text/html": [
       "<pre style=\"white-space:pre;overflow-x:auto;line-height:normal;font-family:Menlo,'DejaVu Sans Mono',consolas,'Courier New',monospace\"><span style=\"font-weight: bold\"> Optimizer params: </span><span style=\"color: #00af00; text-decoration-color: #00af00\">7,479,556</span> (28.53 MB)\n",
       "</pre>\n"
      ],
      "text/plain": [
       "\u001b[1m Optimizer params: \u001b[0m\u001b[38;5;34m7,479,556\u001b[0m (28.53 MB)\n"
      ]
     },
     "metadata": {},
     "output_type": "display_data"
    }
   ],
   "source": [
    "model_combined2 = load_model(\"results/NN_model_combined.keras\")\n",
    "model_combined2.summary()"
   ]
  },
  {
   "cell_type": "code",
   "execution_count": 24,
   "metadata": {},
   "outputs": [
    {
     "name": "stdout",
     "output_type": "stream",
     "text": [
      "📊 Evaluating Model...\n",
      "\u001b[1m379/379\u001b[0m \u001b[32m━━━━━━━━━━━━━━━━━━━━\u001b[0m\u001b[37m\u001b[0m \u001b[1m0s\u001b[0m 1ms/step\n",
      "Accuracy: 0.9269\n",
      "Precision: 0.9227\n",
      "Recall: 0.9091\n",
      "F1: 0.9159\n"
     ]
    }
   ],
   "source": [
    "evaluate_model(model_combined2, train_data_combined, val_data_combined)"
   ]
  },
  {
   "cell_type": "code",
   "execution_count": 25,
   "metadata": {},
   "outputs": [
    {
     "name": "stdout",
     "output_type": "stream",
     "text": [
      "📊 Evaluating Model...\n",
      "\u001b[1m190/190\u001b[0m \u001b[32m━━━━━━━━━━━━━━━━━━━━\u001b[0m\u001b[37m\u001b[0m \u001b[1m0s\u001b[0m 1ms/step\n",
      "Accuracy: 0.9597\n",
      "Precision: 0.9605\n",
      "Recall: 0.9467\n",
      "F1: 0.9536\n"
     ]
    }
   ],
   "source": [
    "evaluate_model(model_combined2, train_data_combined, val_data)"
   ]
  },
  {
   "cell_type": "code",
   "execution_count": 26,
   "metadata": {},
   "outputs": [
    {
     "name": "stdout",
     "output_type": "stream",
     "text": [
      "📊 Evaluating Model...\n",
      "\u001b[1m190/190\u001b[0m \u001b[32m━━━━━━━━━━━━━━━━━━━━\u001b[0m\u001b[37m\u001b[0m \u001b[1m0s\u001b[0m 1ms/step\n",
      "Accuracy: 0.8942\n",
      "Precision: 0.8849\n",
      "Recall: 0.8716\n",
      "F1: 0.8782\n"
     ]
    }
   ],
   "source": [
    "evaluate_model(model_combined2, train_data_combined, val_data_rewritten)"
   ]
  },
  {
   "cell_type": "code",
   "execution_count": 27,
   "metadata": {},
   "outputs": [
    {
     "name": "stdout",
     "output_type": "stream",
     "text": [
      "\n",
      "🔍 Testing dense_units=64, dropout_rate=0.3\n",
      "\n",
      "📂 Fold 1\n",
      "\n",
      "🚀 Training Simple NN Model with dense_units = 64, dropout_rate = 0.3 🚀\n",
      "\n",
      "Epoch 1/10\n"
     ]
    },
    {
     "name": "stderr",
     "output_type": "stream",
     "text": [
      "/home/inflaton/miniconda3/envs/fake-news/lib/python3.11/site-packages/keras/src/layers/core/embedding.py:90: UserWarning: Argument `input_length` is deprecated. Just remove it.\n",
      "  warnings.warn(\n"
     ]
    },
    {
     "name": "stdout",
     "output_type": "stream",
     "text": [
      "\u001b[1m1513/1513\u001b[0m \u001b[32m━━━━━━━━━━━━━━━━━━━━\u001b[0m\u001b[37m\u001b[0m \u001b[1m16s\u001b[0m 10ms/step - accuracy: 0.8452 - loss: 0.7428 - val_accuracy: 0.9211 - val_loss: 0.4668\n",
      "Epoch 2/10\n",
      "\u001b[1m1513/1513\u001b[0m \u001b[32m━━━━━━━━━━━━━━━━━━━━\u001b[0m\u001b[37m\u001b[0m \u001b[1m18s\u001b[0m 12ms/step - accuracy: 0.9370 - loss: 0.4734 - val_accuracy: 0.9173 - val_loss: 0.4828\n",
      "Epoch 3/10\n",
      "\u001b[1m1513/1513\u001b[0m \u001b[32m━━━━━━━━━━━━━━━━━━━━\u001b[0m\u001b[37m\u001b[0m \u001b[1m16s\u001b[0m 11ms/step - accuracy: 0.9510 - loss: 0.4806 - val_accuracy: 0.9285 - val_loss: 0.5170\n",
      "Epoch 4/10\n",
      "\u001b[1m1513/1513\u001b[0m \u001b[32m━━━━━━━━━━━━━━━━━━━━\u001b[0m\u001b[37m\u001b[0m \u001b[1m17s\u001b[0m 11ms/step - accuracy: 0.9613 - loss: 0.4817 - val_accuracy: 0.9237 - val_loss: 0.5483\n",
      "\u001b[1m757/757\u001b[0m \u001b[32m━━━━━━━━━━━━━━━━━━━━\u001b[0m\u001b[37m\u001b[0m \u001b[1m1s\u001b[0m 1ms/step\n",
      "\n",
      "🏆 Training Results:\n",
      "🔹 Accuracy: 0.9211\n",
      "🔹 Precision: 0.9534\n",
      "🔹 Recall: 0.8617\n",
      "🔹 F1_score: 0.9052\n",
      "\n",
      "📂 Fold 2\n",
      "\n",
      "🚀 Training Simple NN Model with dense_units = 64, dropout_rate = 0.3 🚀\n",
      "\n",
      "Epoch 1/10\n"
     ]
    },
    {
     "name": "stderr",
     "output_type": "stream",
     "text": [
      "/home/inflaton/miniconda3/envs/fake-news/lib/python3.11/site-packages/keras/src/layers/core/embedding.py:90: UserWarning: Argument `input_length` is deprecated. Just remove it.\n",
      "  warnings.warn(\n"
     ]
    },
    {
     "name": "stdout",
     "output_type": "stream",
     "text": [
      "\u001b[1m1513/1513\u001b[0m \u001b[32m━━━━━━━━━━━━━━━━━━━━\u001b[0m\u001b[37m\u001b[0m \u001b[1m16s\u001b[0m 10ms/step - accuracy: 0.8408 - loss: 0.7192 - val_accuracy: 0.9286 - val_loss: 0.4447\n",
      "Epoch 2/10\n",
      "\u001b[1m1513/1513\u001b[0m \u001b[32m━━━━━━━━━━━━━━━━━━━━\u001b[0m\u001b[37m\u001b[0m \u001b[1m17s\u001b[0m 11ms/step - accuracy: 0.9352 - loss: 0.4774 - val_accuracy: 0.9238 - val_loss: 0.4977\n",
      "Epoch 3/10\n",
      "\u001b[1m1513/1513\u001b[0m \u001b[32m━━━━━━━━━━━━━━━━━━━━\u001b[0m\u001b[37m\u001b[0m \u001b[1m15s\u001b[0m 10ms/step - accuracy: 0.9492 - loss: 0.4778 - val_accuracy: 0.9129 - val_loss: 0.5662\n",
      "Epoch 4/10\n",
      "\u001b[1m1513/1513\u001b[0m \u001b[32m━━━━━━━━━━━━━━━━━━━━\u001b[0m\u001b[37m\u001b[0m \u001b[1m17s\u001b[0m 12ms/step - accuracy: 0.9605 - loss: 0.4854 - val_accuracy: 0.9172 - val_loss: 0.5498\n",
      "\u001b[1m757/757\u001b[0m \u001b[32m━━━━━━━━━━━━━━━━━━━━\u001b[0m\u001b[37m\u001b[0m \u001b[1m1s\u001b[0m 1ms/step\n",
      "\n",
      "🏆 Training Results:\n",
      "🔹 Accuracy: 0.9286\n",
      "🔹 Precision: 0.9187\n",
      "🔹 Recall: 0.9181\n",
      "🔹 F1_score: 0.9184\n",
      "\n",
      "📂 Fold 3\n",
      "\n",
      "🚀 Training Simple NN Model with dense_units = 64, dropout_rate = 0.3 🚀\n",
      "\n",
      "Epoch 1/10\n"
     ]
    },
    {
     "name": "stderr",
     "output_type": "stream",
     "text": [
      "/home/inflaton/miniconda3/envs/fake-news/lib/python3.11/site-packages/keras/src/layers/core/embedding.py:90: UserWarning: Argument `input_length` is deprecated. Just remove it.\n",
      "  warnings.warn(\n"
     ]
    },
    {
     "name": "stdout",
     "output_type": "stream",
     "text": [
      "\u001b[1m1513/1513\u001b[0m \u001b[32m━━━━━━━━━━━━━━━━━━━━\u001b[0m\u001b[37m\u001b[0m \u001b[1m15s\u001b[0m 10ms/step - accuracy: 0.8538 - loss: 0.7340 - val_accuracy: 0.9118 - val_loss: 0.5061\n",
      "Epoch 2/10\n",
      "\u001b[1m1513/1513\u001b[0m \u001b[32m━━━━━━━━━━━━━━━━━━━━\u001b[0m\u001b[37m\u001b[0m \u001b[1m18s\u001b[0m 12ms/step - accuracy: 0.9355 - loss: 0.4762 - val_accuracy: 0.9209 - val_loss: 0.5152\n",
      "Epoch 3/10\n",
      "\u001b[1m1513/1513\u001b[0m \u001b[32m━━━━━━━━━━━━━━━━━━━━\u001b[0m\u001b[37m\u001b[0m \u001b[1m15s\u001b[0m 10ms/step - accuracy: 0.9497 - loss: 0.4779 - val_accuracy: 0.9205 - val_loss: 0.5451\n",
      "Epoch 4/10\n",
      "\u001b[1m1513/1513\u001b[0m \u001b[32m━━━━━━━━━━━━━━━━━━━━\u001b[0m\u001b[37m\u001b[0m \u001b[1m17s\u001b[0m 11ms/step - accuracy: 0.9606 - loss: 0.4761 - val_accuracy: 0.9156 - val_loss: 0.5603\n",
      "\u001b[1m757/757\u001b[0m \u001b[32m━━━━━━━━━━━━━━━━━━━━\u001b[0m\u001b[37m\u001b[0m \u001b[1m1s\u001b[0m 1ms/step\n",
      "\n",
      "🏆 Training Results:\n",
      "🔹 Accuracy: 0.9118\n",
      "🔹 Precision: 0.8718\n",
      "🔹 Recall: 0.9361\n",
      "🔹 F1_score: 0.9028\n",
      "\n",
      "📂 Fold 4\n",
      "\n",
      "🚀 Training Simple NN Model with dense_units = 64, dropout_rate = 0.3 🚀\n",
      "\n",
      "Epoch 1/10\n"
     ]
    },
    {
     "name": "stderr",
     "output_type": "stream",
     "text": [
      "/home/inflaton/miniconda3/envs/fake-news/lib/python3.11/site-packages/keras/src/layers/core/embedding.py:90: UserWarning: Argument `input_length` is deprecated. Just remove it.\n",
      "  warnings.warn(\n"
     ]
    },
    {
     "name": "stdout",
     "output_type": "stream",
     "text": [
      "\u001b[1m1513/1513\u001b[0m \u001b[32m━━━━━━━━━━━━━━━━━━━━\u001b[0m\u001b[37m\u001b[0m \u001b[1m19s\u001b[0m 12ms/step - accuracy: 0.8358 - loss: 0.7270 - val_accuracy: 0.9259 - val_loss: 0.4518\n",
      "Epoch 2/10\n",
      "\u001b[1m1513/1513\u001b[0m \u001b[32m━━━━━━━━━━━━━━━━━━━━\u001b[0m\u001b[37m\u001b[0m \u001b[1m15s\u001b[0m 10ms/step - accuracy: 0.9366 - loss: 0.4702 - val_accuracy: 0.9256 - val_loss: 0.4741\n",
      "Epoch 3/10\n",
      "\u001b[1m1513/1513\u001b[0m \u001b[32m━━━━━━━━━━━━━━━━━━━━\u001b[0m\u001b[37m\u001b[0m \u001b[1m18s\u001b[0m 12ms/step - accuracy: 0.9500 - loss: 0.4741 - val_accuracy: 0.9243 - val_loss: 0.4866\n",
      "Epoch 4/10\n",
      "\u001b[1m1513/1513\u001b[0m \u001b[32m━━━━━━━━━━━━━━━━━━━━\u001b[0m\u001b[37m\u001b[0m \u001b[1m15s\u001b[0m 10ms/step - accuracy: 0.9597 - loss: 0.4723 - val_accuracy: 0.9272 - val_loss: 0.5330\n",
      "\u001b[1m757/757\u001b[0m \u001b[32m━━━━━━━━━━━━━━━━━━━━\u001b[0m\u001b[37m\u001b[0m \u001b[1m1s\u001b[0m 1ms/step\n",
      "\n",
      "🏆 Training Results:\n",
      "🔹 Accuracy: 0.9259\n",
      "🔹 Precision: 0.8945\n",
      "🔹 Recall: 0.9416\n",
      "🔹 F1_score: 0.9175\n",
      "\n",
      "📂 Fold 5\n",
      "\n",
      "🚀 Training Simple NN Model with dense_units = 64, dropout_rate = 0.3 🚀\n",
      "\n",
      "Epoch 1/10\n"
     ]
    },
    {
     "name": "stderr",
     "output_type": "stream",
     "text": [
      "/home/inflaton/miniconda3/envs/fake-news/lib/python3.11/site-packages/keras/src/layers/core/embedding.py:90: UserWarning: Argument `input_length` is deprecated. Just remove it.\n",
      "  warnings.warn(\n"
     ]
    },
    {
     "name": "stdout",
     "output_type": "stream",
     "text": [
      "\u001b[1m1513/1513\u001b[0m \u001b[32m━━━━━━━━━━━━━━━━━━━━\u001b[0m\u001b[37m\u001b[0m \u001b[1m15s\u001b[0m 10ms/step - accuracy: 0.8503 - loss: 0.7283 - val_accuracy: 0.9298 - val_loss: 0.4426\n",
      "Epoch 2/10\n",
      "\u001b[1m1513/1513\u001b[0m \u001b[32m━━━━━━━━━━━━━━━━━━━━\u001b[0m\u001b[37m\u001b[0m \u001b[1m17s\u001b[0m 11ms/step - accuracy: 0.9366 - loss: 0.4700 - val_accuracy: 0.9273 - val_loss: 0.5055\n",
      "Epoch 3/10\n",
      "\u001b[1m1513/1513\u001b[0m \u001b[32m━━━━━━━━━━━━━━━━━━━━\u001b[0m\u001b[37m\u001b[0m \u001b[1m14s\u001b[0m 9ms/step - accuracy: 0.9510 - loss: 0.4785 - val_accuracy: 0.9306 - val_loss: 0.5681\n",
      "Epoch 4/10\n",
      "\u001b[1m1513/1513\u001b[0m \u001b[32m━━━━━━━━━━━━━━━━━━━━\u001b[0m\u001b[37m\u001b[0m \u001b[1m18s\u001b[0m 12ms/step - accuracy: 0.9597 - loss: 0.4968 - val_accuracy: 0.9280 - val_loss: 0.5906\n",
      "\u001b[1m757/757\u001b[0m \u001b[32m━━━━━━━━━━━━━━━━━━━━\u001b[0m\u001b[37m\u001b[0m \u001b[1m1s\u001b[0m 1ms/step\n",
      "\n",
      "🏆 Training Results:\n",
      "🔹 Accuracy: 0.9298\n",
      "🔹 Precision: 0.9081\n",
      "🔹 Recall: 0.9341\n",
      "🔹 F1_score: 0.9209\n",
      "📊 Average F1-score: 0.9130\n",
      "\n",
      "🔍 Testing dense_units=64, dropout_rate=0.5\n",
      "\n",
      "📂 Fold 1\n",
      "\n",
      "🚀 Training Simple NN Model with dense_units = 64, dropout_rate = 0.5 🚀\n",
      "\n",
      "Epoch 1/10\n"
     ]
    },
    {
     "name": "stderr",
     "output_type": "stream",
     "text": [
      "/home/inflaton/miniconda3/envs/fake-news/lib/python3.11/site-packages/keras/src/layers/core/embedding.py:90: UserWarning: Argument `input_length` is deprecated. Just remove it.\n",
      "  warnings.warn(\n"
     ]
    },
    {
     "name": "stdout",
     "output_type": "stream",
     "text": [
      "\u001b[1m1513/1513\u001b[0m \u001b[32m━━━━━━━━━━━━━━━━━━━━\u001b[0m\u001b[37m\u001b[0m \u001b[1m18s\u001b[0m 11ms/step - accuracy: 0.8365 - loss: 0.7295 - val_accuracy: 0.9236 - val_loss: 0.4648\n",
      "Epoch 2/10\n",
      "\u001b[1m1513/1513\u001b[0m \u001b[32m━━━━━━━━━━━━━━━━━━━━\u001b[0m\u001b[37m\u001b[0m \u001b[1m14s\u001b[0m 10ms/step - accuracy: 0.9358 - loss: 0.4741 - val_accuracy: 0.9231 - val_loss: 0.5022\n",
      "Epoch 3/10\n",
      "\u001b[1m1513/1513\u001b[0m \u001b[32m━━━━━━━━━━━━━━━━━━━━\u001b[0m\u001b[37m\u001b[0m \u001b[1m17s\u001b[0m 11ms/step - accuracy: 0.9507 - loss: 0.4790 - val_accuracy: 0.9131 - val_loss: 0.5453\n",
      "Epoch 4/10\n",
      "\u001b[1m1513/1513\u001b[0m \u001b[32m━━━━━━━━━━━━━━━━━━━━\u001b[0m\u001b[37m\u001b[0m \u001b[1m15s\u001b[0m 10ms/step - accuracy: 0.9595 - loss: 0.4840 - val_accuracy: 0.9219 - val_loss: 0.5771\n",
      "\u001b[1m757/757\u001b[0m \u001b[32m━━━━━━━━━━━━━━━━━━━━\u001b[0m\u001b[37m\u001b[0m \u001b[1m1s\u001b[0m 1ms/step\n",
      "\n",
      "🏆 Training Results:\n",
      "🔹 Accuracy: 0.9236\n",
      "🔹 Precision: 0.9496\n",
      "🔹 Recall: 0.8717\n",
      "🔹 F1_score: 0.9090\n",
      "\n",
      "📂 Fold 2\n",
      "\n",
      "🚀 Training Simple NN Model with dense_units = 64, dropout_rate = 0.5 🚀\n",
      "\n",
      "Epoch 1/10\n"
     ]
    },
    {
     "name": "stderr",
     "output_type": "stream",
     "text": [
      "/home/inflaton/miniconda3/envs/fake-news/lib/python3.11/site-packages/keras/src/layers/core/embedding.py:90: UserWarning: Argument `input_length` is deprecated. Just remove it.\n",
      "  warnings.warn(\n"
     ]
    },
    {
     "name": "stdout",
     "output_type": "stream",
     "text": [
      "\u001b[1m1513/1513\u001b[0m \u001b[32m━━━━━━━━━━━━━━━━━━━━\u001b[0m\u001b[37m\u001b[0m \u001b[1m16s\u001b[0m 10ms/step - accuracy: 0.8463 - loss: 0.7333 - val_accuracy: 0.9277 - val_loss: 0.4317\n",
      "Epoch 2/10\n",
      "\u001b[1m1513/1513\u001b[0m \u001b[32m━━━━━━━━━━━━━━━━━━━━\u001b[0m\u001b[37m\u001b[0m \u001b[1m18s\u001b[0m 12ms/step - accuracy: 0.9358 - loss: 0.4634 - val_accuracy: 0.9233 - val_loss: 0.5103\n",
      "Epoch 3/10\n",
      "\u001b[1m1513/1513\u001b[0m \u001b[32m━━━━━━━━━━━━━━━━━━━━\u001b[0m\u001b[37m\u001b[0m \u001b[1m15s\u001b[0m 10ms/step - accuracy: 0.9513 - loss: 0.4720 - val_accuracy: 0.9173 - val_loss: 0.5356\n",
      "Epoch 4/10\n",
      "\u001b[1m1513/1513\u001b[0m \u001b[32m━━━━━━━━━━━━━━━━━━━━\u001b[0m\u001b[37m\u001b[0m \u001b[1m17s\u001b[0m 11ms/step - accuracy: 0.9604 - loss: 0.4797 - val_accuracy: 0.9192 - val_loss: 0.5568\n",
      "\u001b[1m757/757\u001b[0m \u001b[32m━━━━━━━━━━━━━━━━━━━━\u001b[0m\u001b[37m\u001b[0m \u001b[1m1s\u001b[0m 1ms/step\n",
      "\n",
      "🏆 Training Results:\n",
      "🔹 Accuracy: 0.9277\n",
      "🔹 Precision: 0.9287\n",
      "🔹 Recall: 0.9041\n",
      "🔹 F1_score: 0.9162\n",
      "\n",
      "📂 Fold 3\n",
      "\n",
      "🚀 Training Simple NN Model with dense_units = 64, dropout_rate = 0.5 🚀\n",
      "\n",
      "Epoch 1/10\n"
     ]
    },
    {
     "name": "stderr",
     "output_type": "stream",
     "text": [
      "/home/inflaton/miniconda3/envs/fake-news/lib/python3.11/site-packages/keras/src/layers/core/embedding.py:90: UserWarning: Argument `input_length` is deprecated. Just remove it.\n",
      "  warnings.warn(\n"
     ]
    },
    {
     "name": "stdout",
     "output_type": "stream",
     "text": [
      "\u001b[1m1513/1513\u001b[0m \u001b[32m━━━━━━━━━━━━━━━━━━━━\u001b[0m\u001b[37m\u001b[0m \u001b[1m18s\u001b[0m 10ms/step - accuracy: 0.8475 - loss: 0.7283 - val_accuracy: 0.9232 - val_loss: 0.4535\n",
      "Epoch 2/10\n",
      "\u001b[1m1513/1513\u001b[0m \u001b[32m━━━━━━━━━━━━━━━━━━━━\u001b[0m\u001b[37m\u001b[0m \u001b[1m15s\u001b[0m 10ms/step - accuracy: 0.9370 - loss: 0.4677 - val_accuracy: 0.9196 - val_loss: 0.4975\n",
      "Epoch 3/10\n",
      "\u001b[1m1513/1513\u001b[0m \u001b[32m━━━━━━━━━━━━━━━━━━━━\u001b[0m\u001b[37m\u001b[0m \u001b[1m17s\u001b[0m 11ms/step - accuracy: 0.9504 - loss: 0.4826 - val_accuracy: 0.9264 - val_loss: 0.5330\n",
      "Epoch 4/10\n",
      "\u001b[1m1513/1513\u001b[0m \u001b[32m━━━━━━━━━━━━━━━━━━━━\u001b[0m\u001b[37m\u001b[0m \u001b[1m15s\u001b[0m 10ms/step - accuracy: 0.9603 - loss: 0.4790 - val_accuracy: 0.9257 - val_loss: 0.5507\n",
      "\u001b[1m757/757\u001b[0m \u001b[32m━━━━━━━━━━━━━━━━━━━━\u001b[0m\u001b[37m\u001b[0m \u001b[1m1s\u001b[0m 1ms/step\n",
      "\n",
      "🏆 Training Results:\n",
      "🔹 Accuracy: 0.9232\n",
      "🔹 Precision: 0.9006\n",
      "🔹 Recall: 0.9266\n",
      "🔹 F1_score: 0.9134\n",
      "\n",
      "📂 Fold 4\n",
      "\n",
      "🚀 Training Simple NN Model with dense_units = 64, dropout_rate = 0.5 🚀\n",
      "\n",
      "Epoch 1/10\n"
     ]
    },
    {
     "name": "stderr",
     "output_type": "stream",
     "text": [
      "/home/inflaton/miniconda3/envs/fake-news/lib/python3.11/site-packages/keras/src/layers/core/embedding.py:90: UserWarning: Argument `input_length` is deprecated. Just remove it.\n",
      "  warnings.warn(\n"
     ]
    },
    {
     "name": "stdout",
     "output_type": "stream",
     "text": [
      "\u001b[1m1513/1513\u001b[0m \u001b[32m━━━━━━━━━━━━━━━━━━━━\u001b[0m\u001b[37m\u001b[0m \u001b[1m16s\u001b[0m 10ms/step - accuracy: 0.8439 - loss: 0.7438 - val_accuracy: 0.9223 - val_loss: 0.4561\n",
      "Epoch 2/10\n",
      "\u001b[1m1513/1513\u001b[0m \u001b[32m━━━━━━━━━━━━━━━━━━━━\u001b[0m\u001b[37m\u001b[0m \u001b[1m18s\u001b[0m 12ms/step - accuracy: 0.9382 - loss: 0.4781 - val_accuracy: 0.9275 - val_loss: 0.5006\n",
      "Epoch 3/10\n",
      "\u001b[1m1513/1513\u001b[0m \u001b[32m━━━━━━━━━━━━━━━━━━━━\u001b[0m\u001b[37m\u001b[0m \u001b[1m15s\u001b[0m 10ms/step - accuracy: 0.9523 - loss: 0.4769 - val_accuracy: 0.9257 - val_loss: 0.5026\n",
      "Epoch 4/10\n",
      "\u001b[1m1513/1513\u001b[0m \u001b[32m━━━━━━━━━━━━━━━━━━━━\u001b[0m\u001b[37m\u001b[0m \u001b[1m15s\u001b[0m 10ms/step - accuracy: 0.9632 - loss: 0.4787 - val_accuracy: 0.9156 - val_loss: 0.6122\n",
      "\u001b[1m757/757\u001b[0m \u001b[32m━━━━━━━━━━━━━━━━━━━━\u001b[0m\u001b[37m\u001b[0m \u001b[1m1s\u001b[0m 1ms/step\n",
      "\n",
      "🏆 Training Results:\n",
      "🔹 Accuracy: 0.9223\n",
      "🔹 Precision: 0.9272\n",
      "🔹 Recall: 0.8924\n",
      "🔹 F1_score: 0.9094\n",
      "\n",
      "📂 Fold 5\n",
      "\n",
      "🚀 Training Simple NN Model with dense_units = 64, dropout_rate = 0.5 🚀\n",
      "\n",
      "Epoch 1/10\n"
     ]
    },
    {
     "name": "stderr",
     "output_type": "stream",
     "text": [
      "/home/inflaton/miniconda3/envs/fake-news/lib/python3.11/site-packages/keras/src/layers/core/embedding.py:90: UserWarning: Argument `input_length` is deprecated. Just remove it.\n",
      "  warnings.warn(\n"
     ]
    },
    {
     "name": "stdout",
     "output_type": "stream",
     "text": [
      "\u001b[1m1513/1513\u001b[0m \u001b[32m━━━━━━━━━━━━━━━━━━━━\u001b[0m\u001b[37m\u001b[0m \u001b[1m18s\u001b[0m 11ms/step - accuracy: 0.8372 - loss: 0.7392 - val_accuracy: 0.9255 - val_loss: 0.4528\n",
      "Epoch 2/10\n",
      "\u001b[1m1513/1513\u001b[0m \u001b[32m━━━━━━━━━━━━━━━━━━━━\u001b[0m\u001b[37m\u001b[0m \u001b[1m15s\u001b[0m 10ms/step - accuracy: 0.9364 - loss: 0.4668 - val_accuracy: 0.9290 - val_loss: 0.4859\n",
      "Epoch 3/10\n",
      "\u001b[1m1513/1513\u001b[0m \u001b[32m━━━━━━━━━━━━━━━━━━━━\u001b[0m\u001b[37m\u001b[0m \u001b[1m15s\u001b[0m 10ms/step - accuracy: 0.9489 - loss: 0.4777 - val_accuracy: 0.9199 - val_loss: 0.5396\n",
      "Epoch 4/10\n",
      "\u001b[1m1513/1513\u001b[0m \u001b[32m━━━━━━━━━━━━━━━━━━━━\u001b[0m\u001b[37m\u001b[0m \u001b[1m17s\u001b[0m 10ms/step - accuracy: 0.9586 - loss: 0.4805 - val_accuracy: 0.9276 - val_loss: 0.5749\n",
      "\u001b[1m757/757\u001b[0m \u001b[32m━━━━━━━━━━━━━━━━━━━━\u001b[0m\u001b[37m\u001b[0m \u001b[1m1s\u001b[0m 1ms/step\n",
      "\n",
      "🏆 Training Results:\n",
      "🔹 Accuracy: 0.9255\n",
      "🔹 Precision: 0.8987\n",
      "🔹 Recall: 0.9352\n",
      "🔹 F1_score: 0.9166\n",
      "📊 Average F1-score: 0.9129\n",
      "\n",
      "🔍 Testing dense_units=128, dropout_rate=0.3\n",
      "\n",
      "📂 Fold 1\n",
      "\n",
      "🚀 Training Simple NN Model with dense_units = 128, dropout_rate = 0.3 🚀\n",
      "\n",
      "Epoch 1/10\n"
     ]
    },
    {
     "name": "stderr",
     "output_type": "stream",
     "text": [
      "/home/inflaton/miniconda3/envs/fake-news/lib/python3.11/site-packages/keras/src/layers/core/embedding.py:90: UserWarning: Argument `input_length` is deprecated. Just remove it.\n",
      "  warnings.warn(\n"
     ]
    },
    {
     "name": "stdout",
     "output_type": "stream",
     "text": [
      "\u001b[1m1513/1513\u001b[0m \u001b[32m━━━━━━━━━━━━━━━━━━━━\u001b[0m\u001b[37m\u001b[0m \u001b[1m16s\u001b[0m 10ms/step - accuracy: 0.8436 - loss: 0.7428 - val_accuracy: 0.8995 - val_loss: 0.5044\n",
      "Epoch 2/10\n",
      "\u001b[1m1513/1513\u001b[0m \u001b[32m━━━━━━━━━━━━━━━━━━━━\u001b[0m\u001b[37m\u001b[0m \u001b[1m17s\u001b[0m 11ms/step - accuracy: 0.9380 - loss: 0.4709 - val_accuracy: 0.9299 - val_loss: 0.4599\n",
      "Epoch 3/10\n",
      "\u001b[1m1513/1513\u001b[0m \u001b[32m━━━━━━━━━━━━━━━━━━━━\u001b[0m\u001b[37m\u001b[0m \u001b[1m15s\u001b[0m 10ms/step - accuracy: 0.9533 - loss: 0.4785 - val_accuracy: 0.9179 - val_loss: 0.5712\n",
      "Epoch 4/10\n",
      "\u001b[1m1513/1513\u001b[0m \u001b[32m━━━━━━━━━━━━━━━━━━━━\u001b[0m\u001b[37m\u001b[0m \u001b[1m15s\u001b[0m 10ms/step - accuracy: 0.9621 - loss: 0.4882 - val_accuracy: 0.9267 - val_loss: 0.6008\n",
      "Epoch 5/10\n",
      "\u001b[1m1513/1513\u001b[0m \u001b[32m━━━━━━━━━━━━━━━━━━━━\u001b[0m\u001b[37m\u001b[0m \u001b[1m17s\u001b[0m 10ms/step - accuracy: 0.9672 - loss: 0.4896 - val_accuracy: 0.9264 - val_loss: 0.6350\n",
      "\u001b[1m757/757\u001b[0m \u001b[32m━━━━━━━━━━━━━━━━━━━━\u001b[0m\u001b[37m\u001b[0m \u001b[1m1s\u001b[0m 1ms/step\n",
      "\n",
      "🏆 Training Results:\n",
      "🔹 Accuracy: 0.9299\n",
      "🔹 Precision: 0.9489\n",
      "🔹 Recall: 0.8877\n",
      "🔹 F1_score: 0.9173\n",
      "\n",
      "📂 Fold 2\n",
      "\n",
      "🚀 Training Simple NN Model with dense_units = 128, dropout_rate = 0.3 🚀\n",
      "\n",
      "Epoch 1/10\n"
     ]
    },
    {
     "name": "stderr",
     "output_type": "stream",
     "text": [
      "/home/inflaton/miniconda3/envs/fake-news/lib/python3.11/site-packages/keras/src/layers/core/embedding.py:90: UserWarning: Argument `input_length` is deprecated. Just remove it.\n",
      "  warnings.warn(\n"
     ]
    },
    {
     "name": "stdout",
     "output_type": "stream",
     "text": [
      "\u001b[1m1513/1513\u001b[0m \u001b[32m━━━━━━━━━━━━━━━━━━━━\u001b[0m\u001b[37m\u001b[0m \u001b[1m16s\u001b[0m 10ms/step - accuracy: 0.8488 - loss: 0.7332 - val_accuracy: 0.9286 - val_loss: 0.4497\n",
      "Epoch 2/10\n",
      "\u001b[1m1513/1513\u001b[0m \u001b[32m━━━━━━━━━━━━━━━━━━━━\u001b[0m\u001b[37m\u001b[0m \u001b[1m17s\u001b[0m 11ms/step - accuracy: 0.9351 - loss: 0.4673 - val_accuracy: 0.9218 - val_loss: 0.4948\n",
      "Epoch 3/10\n",
      "\u001b[1m1513/1513\u001b[0m \u001b[32m━━━━━━━━━━━━━━━━━━━━\u001b[0m\u001b[37m\u001b[0m \u001b[1m15s\u001b[0m 10ms/step - accuracy: 0.9487 - loss: 0.4783 - val_accuracy: 0.9204 - val_loss: 0.5422\n",
      "Epoch 4/10\n",
      "\u001b[1m1513/1513\u001b[0m \u001b[32m━━━━━━━━━━━━━━━━━━━━\u001b[0m\u001b[37m\u001b[0m \u001b[1m14s\u001b[0m 9ms/step - accuracy: 0.9609 - loss: 0.4751 - val_accuracy: 0.9188 - val_loss: 0.5548\n",
      "\u001b[1m757/757\u001b[0m \u001b[32m━━━━━━━━━━━━━━━━━━━━\u001b[0m\u001b[37m\u001b[0m \u001b[1m3s\u001b[0m 4ms/step\n",
      "\n",
      "🏆 Training Results:\n",
      "🔹 Accuracy: 0.9286\n",
      "🔹 Precision: 0.9246\n",
      "🔹 Recall: 0.9112\n",
      "🔹 F1_score: 0.9178\n",
      "\n",
      "📂 Fold 3\n",
      "\n",
      "🚀 Training Simple NN Model with dense_units = 128, dropout_rate = 0.3 🚀\n",
      "\n",
      "Epoch 1/10\n"
     ]
    },
    {
     "name": "stderr",
     "output_type": "stream",
     "text": [
      "/home/inflaton/miniconda3/envs/fake-news/lib/python3.11/site-packages/keras/src/layers/core/embedding.py:90: UserWarning: Argument `input_length` is deprecated. Just remove it.\n",
      "  warnings.warn(\n"
     ]
    },
    {
     "name": "stdout",
     "output_type": "stream",
     "text": [
      "\u001b[1m1513/1513\u001b[0m \u001b[32m━━━━━━━━━━━━━━━━━━━━\u001b[0m\u001b[37m\u001b[0m \u001b[1m18s\u001b[0m 12ms/step - accuracy: 0.8501 - loss: 0.7344 - val_accuracy: 0.9182 - val_loss: 0.4842\n",
      "Epoch 2/10\n",
      "\u001b[1m1513/1513\u001b[0m \u001b[32m━━━━━━━━━━━━━━━━━━━━\u001b[0m\u001b[37m\u001b[0m \u001b[1m14s\u001b[0m 9ms/step - accuracy: 0.9359 - loss: 0.4693 - val_accuracy: 0.9247 - val_loss: 0.5000\n",
      "Epoch 3/10\n",
      "\u001b[1m1513/1513\u001b[0m \u001b[32m━━━━━━━━━━━━━━━━━━━━\u001b[0m\u001b[37m\u001b[0m \u001b[1m17s\u001b[0m 11ms/step - accuracy: 0.9508 - loss: 0.4767 - val_accuracy: 0.9206 - val_loss: 0.5400\n",
      "Epoch 4/10\n",
      "\u001b[1m1513/1513\u001b[0m \u001b[32m━━━━━━━━━━━━━━━━━━━━\u001b[0m\u001b[37m\u001b[0m \u001b[1m15s\u001b[0m 10ms/step - accuracy: 0.9589 - loss: 0.4842 - val_accuracy: 0.9117 - val_loss: 0.6135\n",
      "\u001b[1m757/757\u001b[0m \u001b[32m━━━━━━━━━━━━━━━━━━━━\u001b[0m\u001b[37m\u001b[0m \u001b[1m1s\u001b[0m 1ms/step\n",
      "\n",
      "🏆 Training Results:\n",
      "🔹 Accuracy: 0.9182\n",
      "🔹 Precision: 0.9100\n",
      "🔹 Recall: 0.9021\n",
      "🔹 F1_score: 0.9061\n",
      "\n",
      "📂 Fold 4\n",
      "\n",
      "🚀 Training Simple NN Model with dense_units = 128, dropout_rate = 0.3 🚀\n",
      "\n",
      "Epoch 1/10\n"
     ]
    },
    {
     "name": "stderr",
     "output_type": "stream",
     "text": [
      "/home/inflaton/miniconda3/envs/fake-news/lib/python3.11/site-packages/keras/src/layers/core/embedding.py:90: UserWarning: Argument `input_length` is deprecated. Just remove it.\n",
      "  warnings.warn(\n"
     ]
    },
    {
     "name": "stdout",
     "output_type": "stream",
     "text": [
      "\u001b[1m1513/1513\u001b[0m \u001b[32m━━━━━━━━━━━━━━━━━━━━\u001b[0m\u001b[37m\u001b[0m \u001b[1m15s\u001b[0m 10ms/step - accuracy: 0.8476 - loss: 0.7408 - val_accuracy: 0.9009 - val_loss: 0.5136\n",
      "Epoch 2/10\n",
      "\u001b[1m1513/1513\u001b[0m \u001b[32m━━━━━━━━━━━━━━━━━━━━\u001b[0m\u001b[37m\u001b[0m \u001b[1m17s\u001b[0m 11ms/step - accuracy: 0.9374 - loss: 0.4757 - val_accuracy: 0.9267 - val_loss: 0.5016\n",
      "Epoch 3/10\n",
      "\u001b[1m1513/1513\u001b[0m \u001b[32m━━━━━━━━━━━━━━━━━━━━\u001b[0m\u001b[37m\u001b[0m \u001b[1m15s\u001b[0m 10ms/step - accuracy: 0.9515 - loss: 0.4770 - val_accuracy: 0.9218 - val_loss: 0.5211\n",
      "Epoch 4/10\n",
      "\u001b[1m1513/1513\u001b[0m \u001b[32m━━━━━━━━━━━━━━━━━━━━\u001b[0m\u001b[37m\u001b[0m \u001b[1m18s\u001b[0m 12ms/step - accuracy: 0.9607 - loss: 0.4806 - val_accuracy: 0.9198 - val_loss: 0.5926\n",
      "Epoch 5/10\n",
      "\u001b[1m1513/1513\u001b[0m \u001b[32m━━━━━━━━━━━━━━━━━━━━\u001b[0m\u001b[37m\u001b[0m \u001b[1m15s\u001b[0m 10ms/step - accuracy: 0.9672 - loss: 0.4846 - val_accuracy: 0.9113 - val_loss: 0.6581\n",
      "\u001b[1m757/757\u001b[0m \u001b[32m━━━━━━━━━━━━━━━━━━━━\u001b[0m\u001b[37m\u001b[0m \u001b[1m1s\u001b[0m 1ms/step\n",
      "\n",
      "🏆 Training Results:\n",
      "🔹 Accuracy: 0.9267\n",
      "🔹 Precision: 0.9265\n",
      "🔹 Recall: 0.9042\n",
      "🔹 F1_score: 0.9152\n",
      "\n",
      "📂 Fold 5\n",
      "\n",
      "🚀 Training Simple NN Model with dense_units = 128, dropout_rate = 0.3 🚀\n",
      "\n",
      "Epoch 1/10\n"
     ]
    },
    {
     "name": "stderr",
     "output_type": "stream",
     "text": [
      "/home/inflaton/miniconda3/envs/fake-news/lib/python3.11/site-packages/keras/src/layers/core/embedding.py:90: UserWarning: Argument `input_length` is deprecated. Just remove it.\n",
      "  warnings.warn(\n"
     ]
    },
    {
     "name": "stdout",
     "output_type": "stream",
     "text": [
      "\u001b[1m1513/1513\u001b[0m \u001b[32m━━━━━━━━━━━━━━━━━━━━\u001b[0m\u001b[37m\u001b[0m \u001b[1m16s\u001b[0m 10ms/step - accuracy: 0.8512 - loss: 0.7426 - val_accuracy: 0.9308 - val_loss: 0.4428\n",
      "Epoch 2/10\n",
      "\u001b[1m1513/1513\u001b[0m \u001b[32m━━━━━━━━━━━━━━━━━━━━\u001b[0m\u001b[37m\u001b[0m \u001b[1m17s\u001b[0m 11ms/step - accuracy: 0.9387 - loss: 0.4741 - val_accuracy: 0.9256 - val_loss: 0.5054\n",
      "Epoch 3/10\n",
      "\u001b[1m1513/1513\u001b[0m \u001b[32m━━━━━━━━━━━━━━━━━━━━\u001b[0m\u001b[37m\u001b[0m \u001b[1m14s\u001b[0m 9ms/step - accuracy: 0.9504 - loss: 0.4850 - val_accuracy: 0.9329 - val_loss: 0.5319\n",
      "Epoch 4/10\n",
      "\u001b[1m1513/1513\u001b[0m \u001b[32m━━━━━━━━━━━━━━━━━━━━\u001b[0m\u001b[37m\u001b[0m \u001b[1m17s\u001b[0m 12ms/step - accuracy: 0.9621 - loss: 0.4773 - val_accuracy: 0.9206 - val_loss: 0.6317\n",
      "\u001b[1m757/757\u001b[0m \u001b[32m━━━━━━━━━━━━━━━━━━━━\u001b[0m\u001b[37m\u001b[0m \u001b[1m1s\u001b[0m 1ms/step\n",
      "\n",
      "🏆 Training Results:\n",
      "🔹 Accuracy: 0.9308\n",
      "🔹 Precision: 0.9240\n",
      "🔹 Recall: 0.9171\n",
      "🔹 F1_score: 0.9206\n",
      "📊 Average F1-score: 0.9154\n",
      "\n",
      "🔍 Testing dense_units=128, dropout_rate=0.5\n",
      "\n",
      "📂 Fold 1\n",
      "\n",
      "🚀 Training Simple NN Model with dense_units = 128, dropout_rate = 0.5 🚀\n",
      "\n",
      "Epoch 1/10\n"
     ]
    },
    {
     "name": "stderr",
     "output_type": "stream",
     "text": [
      "/home/inflaton/miniconda3/envs/fake-news/lib/python3.11/site-packages/keras/src/layers/core/embedding.py:90: UserWarning: Argument `input_length` is deprecated. Just remove it.\n",
      "  warnings.warn(\n"
     ]
    },
    {
     "name": "stdout",
     "output_type": "stream",
     "text": [
      "\u001b[1m1513/1513\u001b[0m \u001b[32m━━━━━━━━━━━━━━━━━━━━\u001b[0m\u001b[37m\u001b[0m \u001b[1m19s\u001b[0m 12ms/step - accuracy: 0.8443 - loss: 0.7346 - val_accuracy: 0.9288 - val_loss: 0.4445\n",
      "Epoch 2/10\n",
      "\u001b[1m1513/1513\u001b[0m \u001b[32m━━━━━━━━━━━━━━━━━━━━\u001b[0m\u001b[37m\u001b[0m \u001b[1m14s\u001b[0m 9ms/step - accuracy: 0.9387 - loss: 0.4710 - val_accuracy: 0.9264 - val_loss: 0.4788\n",
      "Epoch 3/10\n",
      "\u001b[1m1513/1513\u001b[0m \u001b[32m━━━━━━━━━━━━━━━━━━━━\u001b[0m\u001b[37m\u001b[0m \u001b[1m17s\u001b[0m 11ms/step - accuracy: 0.9506 - loss: 0.4721 - val_accuracy: 0.9252 - val_loss: 0.5477\n",
      "Epoch 4/10\n",
      "\u001b[1m1513/1513\u001b[0m \u001b[32m━━━━━━━━━━━━━━━━━━━━\u001b[0m\u001b[37m\u001b[0m \u001b[1m14s\u001b[0m 9ms/step - accuracy: 0.9597 - loss: 0.4900 - val_accuracy: 0.9300 - val_loss: 0.6024\n",
      "\u001b[1m757/757\u001b[0m \u001b[32m━━━━━━━━━━━━━━━━━━━━\u001b[0m\u001b[37m\u001b[0m \u001b[1m1s\u001b[0m 1ms/step\n",
      "\n",
      "🏆 Training Results:\n",
      "🔹 Accuracy: 0.9288\n",
      "🔹 Precision: 0.9471\n",
      "🔹 Recall: 0.8867\n",
      "🔹 F1_score: 0.9159\n",
      "\n",
      "📂 Fold 2\n",
      "\n",
      "🚀 Training Simple NN Model with dense_units = 128, dropout_rate = 0.5 🚀\n",
      "\n",
      "Epoch 1/10\n"
     ]
    },
    {
     "name": "stderr",
     "output_type": "stream",
     "text": [
      "/home/inflaton/miniconda3/envs/fake-news/lib/python3.11/site-packages/keras/src/layers/core/embedding.py:90: UserWarning: Argument `input_length` is deprecated. Just remove it.\n",
      "  warnings.warn(\n"
     ]
    },
    {
     "name": "stdout",
     "output_type": "stream",
     "text": [
      "\u001b[1m1513/1513\u001b[0m \u001b[32m━━━━━━━━━━━━━━━━━━━━\u001b[0m\u001b[37m\u001b[0m \u001b[1m19s\u001b[0m 12ms/step - accuracy: 0.8464 - loss: 0.7494 - val_accuracy: 0.9259 - val_loss: 0.4570\n",
      "Epoch 2/10\n",
      "\u001b[1m1513/1513\u001b[0m \u001b[32m━━━━━━━━━━━━━━━━━━━━\u001b[0m\u001b[37m\u001b[0m \u001b[1m16s\u001b[0m 11ms/step - accuracy: 0.9368 - loss: 0.4722 - val_accuracy: 0.9251 - val_loss: 0.5246\n",
      "Epoch 3/10\n",
      "\u001b[1m1513/1513\u001b[0m \u001b[32m━━━━━━━━━━━━━━━━━━━━\u001b[0m\u001b[37m\u001b[0m \u001b[1m17s\u001b[0m 11ms/step - accuracy: 0.9513 - loss: 0.4848 - val_accuracy: 0.9216 - val_loss: 0.5160\n",
      "Epoch 4/10\n",
      "\u001b[1m1513/1513\u001b[0m \u001b[32m━━━━━━━━━━━━━━━━━━━━\u001b[0m\u001b[37m\u001b[0m \u001b[1m15s\u001b[0m 10ms/step - accuracy: 0.9635 - loss: 0.4747 - val_accuracy: 0.9138 - val_loss: 0.6255\n",
      "\u001b[1m757/757\u001b[0m \u001b[32m━━━━━━━━━━━━━━━━━━━━\u001b[0m\u001b[37m\u001b[0m \u001b[1m1s\u001b[0m 1ms/step\n",
      "\n",
      "🏆 Training Results:\n",
      "🔹 Accuracy: 0.9259\n",
      "🔹 Precision: 0.9348\n",
      "🔹 Recall: 0.8930\n",
      "🔹 F1_score: 0.9134\n",
      "\n",
      "📂 Fold 3\n",
      "\n",
      "🚀 Training Simple NN Model with dense_units = 128, dropout_rate = 0.5 🚀\n",
      "\n",
      "Epoch 1/10\n"
     ]
    },
    {
     "name": "stderr",
     "output_type": "stream",
     "text": [
      "/home/inflaton/miniconda3/envs/fake-news/lib/python3.11/site-packages/keras/src/layers/core/embedding.py:90: UserWarning: Argument `input_length` is deprecated. Just remove it.\n",
      "  warnings.warn(\n"
     ]
    },
    {
     "name": "stdout",
     "output_type": "stream",
     "text": [
      "\u001b[1m1513/1513\u001b[0m \u001b[32m━━━━━━━━━━━━━━━━━━━━\u001b[0m\u001b[37m\u001b[0m \u001b[1m16s\u001b[0m 10ms/step - accuracy: 0.8496 - loss: 0.7486 - val_accuracy: 0.9139 - val_loss: 0.4803\n",
      "Epoch 2/10\n",
      "\u001b[1m1513/1513\u001b[0m \u001b[32m━━━━━━━━━━━━━━━━━━━━\u001b[0m\u001b[37m\u001b[0m \u001b[1m18s\u001b[0m 12ms/step - accuracy: 0.9364 - loss: 0.4867 - val_accuracy: 0.9193 - val_loss: 0.5389\n",
      "Epoch 3/10\n",
      "\u001b[1m1513/1513\u001b[0m \u001b[32m━━━━━━━━━━━━━━━━━━━━\u001b[0m\u001b[37m\u001b[0m \u001b[1m15s\u001b[0m 10ms/step - accuracy: 0.9509 - loss: 0.4951 - val_accuracy: 0.9152 - val_loss: 0.5995\n",
      "Epoch 4/10\n",
      "\u001b[1m1513/1513\u001b[0m \u001b[32m━━━━━━━━━━━━━━━━━━━━\u001b[0m\u001b[37m\u001b[0m \u001b[1m17s\u001b[0m 11ms/step - accuracy: 0.9600 - loss: 0.5205 - val_accuracy: 0.9101 - val_loss: 0.6492\n",
      "\u001b[1m757/757\u001b[0m \u001b[32m━━━━━━━━━━━━━━━━━━━━\u001b[0m\u001b[37m\u001b[0m \u001b[1m1s\u001b[0m 1ms/step\n",
      "\n",
      "🏆 Training Results:\n",
      "🔹 Accuracy: 0.9139\n",
      "🔹 Precision: 0.8770\n",
      "🔹 Recall: 0.9341\n",
      "🔹 F1_score: 0.9047\n",
      "\n",
      "📂 Fold 4\n",
      "\n",
      "🚀 Training Simple NN Model with dense_units = 128, dropout_rate = 0.5 🚀\n",
      "\n",
      "Epoch 1/10\n"
     ]
    },
    {
     "name": "stderr",
     "output_type": "stream",
     "text": [
      "/home/inflaton/miniconda3/envs/fake-news/lib/python3.11/site-packages/keras/src/layers/core/embedding.py:90: UserWarning: Argument `input_length` is deprecated. Just remove it.\n",
      "  warnings.warn(\n"
     ]
    },
    {
     "name": "stdout",
     "output_type": "stream",
     "text": [
      "\u001b[1m1513/1513\u001b[0m \u001b[32m━━━━━━━━━━━━━━━━━━━━\u001b[0m\u001b[37m\u001b[0m \u001b[1m15s\u001b[0m 10ms/step - accuracy: 0.8369 - loss: 0.7211 - val_accuracy: 0.9242 - val_loss: 0.4447\n",
      "Epoch 2/10\n",
      "\u001b[1m1513/1513\u001b[0m \u001b[32m━━━━━━━━━━━━━━━━━━━━\u001b[0m\u001b[37m\u001b[0m \u001b[1m15s\u001b[0m 10ms/step - accuracy: 0.9382 - loss: 0.4644 - val_accuracy: 0.9218 - val_loss: 0.4820\n",
      "Epoch 3/10\n",
      "\u001b[1m1513/1513\u001b[0m \u001b[32m━━━━━━━━━━━━━━━━━━━━\u001b[0m\u001b[37m\u001b[0m \u001b[1m17s\u001b[0m 11ms/step - accuracy: 0.9508 - loss: 0.4679 - val_accuracy: 0.9292 - val_loss: 0.4908\n",
      "Epoch 4/10\n",
      "\u001b[1m1513/1513\u001b[0m \u001b[32m━━━━━━━━━━━━━━━━━━━━\u001b[0m\u001b[37m\u001b[0m \u001b[1m15s\u001b[0m 10ms/step - accuracy: 0.9613 - loss: 0.4694 - val_accuracy: 0.9262 - val_loss: 0.5356\n",
      "\u001b[1m757/757\u001b[0m \u001b[32m━━━━━━━━━━━━━━━━━━━━\u001b[0m\u001b[37m\u001b[0m \u001b[1m1s\u001b[0m 1ms/step\n",
      "\n",
      "🏆 Training Results:\n",
      "🔹 Accuracy: 0.9242\n",
      "🔹 Precision: 0.9322\n",
      "🔹 Recall: 0.8914\n",
      "🔹 F1_score: 0.9114\n",
      "\n",
      "📂 Fold 5\n",
      "\n",
      "🚀 Training Simple NN Model with dense_units = 128, dropout_rate = 0.5 🚀\n",
      "\n",
      "Epoch 1/10\n"
     ]
    },
    {
     "name": "stderr",
     "output_type": "stream",
     "text": [
      "/home/inflaton/miniconda3/envs/fake-news/lib/python3.11/site-packages/keras/src/layers/core/embedding.py:90: UserWarning: Argument `input_length` is deprecated. Just remove it.\n",
      "  warnings.warn(\n"
     ]
    },
    {
     "name": "stdout",
     "output_type": "stream",
     "text": [
      "\u001b[1m1513/1513\u001b[0m \u001b[32m━━━━━━━━━━━━━━━━━━━━\u001b[0m\u001b[37m\u001b[0m \u001b[1m18s\u001b[0m 11ms/step - accuracy: 0.8494 - loss: 0.7203 - val_accuracy: 0.9304 - val_loss: 0.4417\n",
      "Epoch 2/10\n",
      "\u001b[1m1513/1513\u001b[0m \u001b[32m━━━━━━━━━━━━━━━━━━━━\u001b[0m\u001b[37m\u001b[0m \u001b[1m15s\u001b[0m 10ms/step - accuracy: 0.9354 - loss: 0.4782 - val_accuracy: 0.9256 - val_loss: 0.4804\n",
      "Epoch 3/10\n",
      "\u001b[1m1513/1513\u001b[0m \u001b[32m━━━━━━━━━━━━━━━━━━━━\u001b[0m\u001b[37m\u001b[0m \u001b[1m15s\u001b[0m 10ms/step - accuracy: 0.9501 - loss: 0.4796 - val_accuracy: 0.9245 - val_loss: 0.5176\n",
      "Epoch 4/10\n",
      "\u001b[1m1513/1513\u001b[0m \u001b[32m━━━━━━━━━━━━━━━━━━━━\u001b[0m\u001b[37m\u001b[0m \u001b[1m17s\u001b[0m 11ms/step - accuracy: 0.9594 - loss: 0.4841 - val_accuracy: 0.9281 - val_loss: 0.5567\n",
      "\u001b[1m757/757\u001b[0m \u001b[32m━━━━━━━━━━━━━━━━━━━━\u001b[0m\u001b[37m\u001b[0m \u001b[1m1s\u001b[0m 1ms/step\n",
      "\n",
      "🏆 Training Results:\n",
      "🔹 Accuracy: 0.9304\n",
      "🔹 Precision: 0.9214\n",
      "🔹 Recall: 0.9194\n",
      "🔹 F1_score: 0.9204\n",
      "📊 Average F1-score: 0.9132\n",
      "CPU times: user 4h 10min 17s, sys: 16min 44s, total: 4h 27min 2s\n",
      "Wall time: 29min 51s\n"
     ]
    },
    {
     "data": {
      "text/plain": [
       "{'dense_units': 128, 'dropout_rate': 0.3}"
      ]
     },
     "execution_count": 27,
     "metadata": {},
     "output_type": "execute_result"
    }
   ],
   "source": [
    "%%time\n",
    "\n",
    "best_params_rewritten = do_grid_search(data_rewritten)\n",
    "best_params_rewritten"
   ]
  },
  {
   "cell_type": "code",
   "execution_count": 28,
   "metadata": {},
   "outputs": [
    {
     "name": "stdout",
     "output_type": "stream",
     "text": [
      "\n",
      "🚀 Training Simple NN Model with dense_units = 128, dropout_rate = 0.3 🚀\n",
      "\n",
      "Epoch 1/10\n"
     ]
    },
    {
     "name": "stderr",
     "output_type": "stream",
     "text": [
      "/home/inflaton/miniconda3/envs/fake-news/lib/python3.11/site-packages/keras/src/layers/core/embedding.py:90: UserWarning: Argument `input_length` is deprecated. Just remove it.\n",
      "  warnings.warn(\n"
     ]
    },
    {
     "name": "stdout",
     "output_type": "stream",
     "text": [
      "\u001b[1m851/851\u001b[0m \u001b[32m━━━━━━━━━━━━━━━━━━━━\u001b[0m\u001b[37m\u001b[0m \u001b[1m9s\u001b[0m 10ms/step - accuracy: 0.7613 - loss: 0.8937 - val_accuracy: 0.8864 - val_loss: 0.5564\n",
      "Epoch 2/10\n",
      "\u001b[1m851/851\u001b[0m \u001b[32m━━━━━━━━━━━━━━━━━━━━\u001b[0m\u001b[37m\u001b[0m \u001b[1m8s\u001b[0m 9ms/step - accuracy: 0.9074 - loss: 0.5597 - val_accuracy: 0.8964 - val_loss: 0.6191\n",
      "Epoch 3/10\n",
      "\u001b[1m851/851\u001b[0m \u001b[32m━━━━━━━━━━━━━━━━━━━━\u001b[0m\u001b[37m\u001b[0m \u001b[1m11s\u001b[0m 13ms/step - accuracy: 0.9372 - loss: 0.5721 - val_accuracy: 0.8828 - val_loss: 0.7143\n",
      "Epoch 4/10\n",
      "\u001b[1m851/851\u001b[0m \u001b[32m━━━━━━━━━━━━━━━━━━━━\u001b[0m\u001b[37m\u001b[0m \u001b[1m9s\u001b[0m 10ms/step - accuracy: 0.9544 - loss: 0.5628 - val_accuracy: 0.8691 - val_loss: 0.8268\n",
      "\u001b[1m190/190\u001b[0m \u001b[32m━━━━━━━━━━━━━━━━━━━━\u001b[0m\u001b[37m\u001b[0m \u001b[1m0s\u001b[0m 2ms/step\n",
      "\n",
      "🏆 Training Results:\n",
      "🔹 Accuracy: 0.8864\n",
      "🔹 Precision: 0.8977\n",
      "🔹 Recall: 0.8357\n",
      "🔹 F1_score: 0.8656\n",
      "CPU times: user 6min 41s, sys: 27.6 s, total: 7min 9s\n",
      "Wall time: 47.6 s\n"
     ]
    }
   ],
   "source": [
    "%%time\n",
    "\n",
    "\n",
    "model_rewritten = train_model(train_data_rewritten, val_data_rewritten, \n",
    "                             dense_units=best_params_rewritten[\"dense_units\"], \n",
    "                             dropout_rate=best_params_rewritten[\"dropout_rate\"])\n",
    "model_rewritten.save(\"results/NN_model_rewritten.keras\")"
   ]
  },
  {
   "cell_type": "code",
   "execution_count": 29,
   "metadata": {},
   "outputs": [
    {
     "name": "stdout",
     "output_type": "stream",
     "text": [
      "📊 Evaluating Model...\n",
      "\u001b[1m379/379\u001b[0m \u001b[32m━━━━━━━━━━━━━━━━━━━━\u001b[0m\u001b[37m\u001b[0m \u001b[1m0s\u001b[0m 1ms/step\n",
      "Accuracy: 0.8961\n",
      "Precision: 0.9336\n",
      "Recall: 0.8209\n",
      "F1: 0.8737\n"
     ]
    }
   ],
   "source": [
    "evaluate_model(model_rewritten, train_data_rewritten, val_data_combined)"
   ]
  },
  {
   "cell_type": "code",
   "execution_count": 30,
   "metadata": {},
   "outputs": [
    {
     "name": "stdout",
     "output_type": "stream",
     "text": [
      "📊 Evaluating Model...\n",
      "\u001b[1m190/190\u001b[0m \u001b[32m━━━━━━━━━━━━━━━━━━━━\u001b[0m\u001b[37m\u001b[0m \u001b[1m0s\u001b[0m 1ms/step\n",
      "Accuracy: 0.8864\n",
      "Precision: 0.8977\n",
      "Recall: 0.8357\n",
      "F1: 0.8656\n"
     ]
    }
   ],
   "source": [
    "evaluate_model(model_rewritten, train_data_rewritten, val_data_rewritten)"
   ]
  },
  {
   "cell_type": "code",
   "execution_count": 31,
   "metadata": {},
   "outputs": [
    {
     "name": "stdout",
     "output_type": "stream",
     "text": [
      "📊 Evaluating Model...\n",
      "\u001b[1m190/190\u001b[0m \u001b[32m━━━━━━━━━━━━━━━━━━━━\u001b[0m\u001b[37m\u001b[0m \u001b[1m0s\u001b[0m 1ms/step\n",
      "Accuracy: 0.9058\n",
      "Precision: 0.9740\n",
      "Recall: 0.8062\n",
      "F1: 0.8822\n"
     ]
    }
   ],
   "source": [
    "evaluate_model(model_rewritten, train_data_rewritten, val_data)"
   ]
  }
 ],
 "metadata": {
  "kernelspec": {
   "display_name": "fake-news",
   "language": "python",
   "name": "python3"
  },
  "language_info": {
   "codemirror_mode": {
    "name": "ipython",
    "version": 3
   },
   "file_extension": ".py",
   "mimetype": "text/x-python",
   "name": "python",
   "nbconvert_exporter": "python",
   "pygments_lexer": "ipython3",
   "version": "3.11.11"
  }
 },
 "nbformat": 4,
 "nbformat_minor": 2
}
