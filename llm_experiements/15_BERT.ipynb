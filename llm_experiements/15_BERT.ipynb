{
  "cells": [
    {
      "cell_type": "code",
      "execution_count": null,
      "metadata": {},
      "outputs": [
        {
          "name": "stdout",
          "output_type": "stream",
          "text": [
            "working dir: /home/inflaton/code/CrediNews\n"
          ]
        }
      ],
      "source": [
        "import os\n",
        "import sys\n",
        "from pathlib import Path\n",
        "\n",
        "if \"workding_dir\" not in locals():\n",
        "    workding_dir = str(Path.cwd().parent)\n",
        "os.chdir(workding_dir)\n",
        "sys.path.append(workding_dir)\n",
        "print(\"working dir:\", workding_dir)"
      ]
    },
    {
      "cell_type": "code",
      "execution_count": null,
      "metadata": {},
      "outputs": [
        {
          "name": "stdout",
          "output_type": "stream",
          "text": [
            "loading env vars from: /home/inflaton/code/CrediNews/.env\n"
          ]
        },
        {
          "data": {
            "text/plain": [
              "True"
            ]
          },
          "execution_count": 4,
          "metadata": {},
          "output_type": "execute_result"
        }
      ],
      "source": [
        "from dotenv import find_dotenv, load_dotenv\n",
        "\n",
        "found_dotenv = find_dotenv(\".env\")\n",
        "\n",
        "if len(found_dotenv) == 0:\n",
        "    found_dotenv = find_dotenv(\".env.example\")\n",
        "print(f\"loading env vars from: {found_dotenv}\")\n",
        "load_dotenv(found_dotenv, override=True)"
      ]
    },
    {
      "cell_type": "code",
      "execution_count": null,
      "metadata": {
        "id": "Jqhhzz6YtRqD"
      },
      "outputs": [
        {
          "data": {
            "text/plain": [
              "'f541b'"
            ]
          },
          "execution_count": 5,
          "metadata": {},
          "output_type": "execute_result"
        }
      ],
      "source": [
        "# !pip install wandb\n",
        "import os\n",
        "os.getenv(\"WANDB_API_KEY\", \"empty\")[-5:]"
      ]
    },
    {
      "cell_type": "code",
      "execution_count": null,
      "metadata": {
        "id": "UiAD-EtCvdtB"
      },
      "outputs": [
        {
          "name": "stderr",
          "output_type": "stream",
          "text": [
            "2025-02-22 11:26:37,905\tINFO worker.py:1841 -- Started a local Ray instance.\n"
          ]
        },
        {
          "data": {
            "application/vnd.jupyter.widget-view+json": {
              "model_id": "2a9f48933e4a45c2b49401c4bbf342b2",
              "version_major": 2,
              "version_minor": 0
            },
            "text/html": [
              "<div class=\"lm-Widget p-Widget lm-Panel p-Panel jp-Cell-outputWrapper\">\n",
              "    <div style=\"margin-left: 50px;display: flex;flex-direction: row;align-items: center\">\n",
              "        <div class=\"jp-RenderedHTMLCommon\" style=\"display: flex; flex-direction: row;\">\n",
              "  <svg viewBox=\"0 0 567 224\" fill=\"none\" xmlns=\"http://www.w3.org/2000/svg\" style=\"height: 3em;\">\n",
              "    <g clip-path=\"url(#clip0_4338_178347)\">\n",
              "        <path d=\"M341.29 165.561H355.29L330.13 129.051C345.63 123.991 354.21 112.051 354.21 94.2307C354.21 71.3707 338.72 58.1807 311.88 58.1807H271V165.561H283.27V131.661H311.8C314.25 131.661 316.71 131.501 319.01 131.351L341.25 165.561H341.29ZM283.29 119.851V70.0007H311.82C331.3 70.0007 342.34 78.2907 342.34 94.5507C342.34 111.271 331.34 119.861 311.82 119.861L283.29 119.851ZM451.4 138.411L463.4 165.561H476.74L428.74 58.1807H416L367.83 165.561H380.83L392.83 138.411H451.4ZM446.19 126.601H398L422 72.1407L446.24 126.601H446.19ZM526.11 128.741L566.91 58.1807H554.35L519.99 114.181L485.17 58.1807H472.44L514.01 129.181V165.541H526.13V128.741H526.11Z\" fill=\"var(--jp-ui-font-color0)\"/>\n",
              "        <path d=\"M82.35 104.44C84.0187 97.8827 87.8248 92.0678 93.1671 87.9146C98.5094 83.7614 105.083 81.5067 111.85 81.5067C118.617 81.5067 125.191 83.7614 130.533 87.9146C135.875 92.0678 139.681 97.8827 141.35 104.44H163.75C164.476 101.562 165.622 98.8057 167.15 96.2605L127.45 56.5605C121.071 60.3522 113.526 61.6823 106.235 60.3005C98.9443 58.9187 92.4094 54.9203 87.8602 49.0574C83.3109 43.1946 81.0609 35.8714 81.5332 28.4656C82.0056 21.0599 85.1679 14.0819 90.4252 8.8446C95.6824 3.60726 102.672 0.471508 110.08 0.0272655C117.487 -0.416977 124.802 1.86091 130.647 6.4324C136.493 11.0039 140.467 17.5539 141.821 24.8501C143.175 32.1463 141.816 39.6859 138 46.0505L177.69 85.7505C182.31 82.9877 187.58 81.4995 192.962 81.4375C198.345 81.3755 203.648 82.742 208.33 85.3976C213.012 88.0532 216.907 91.9029 219.616 96.5544C222.326 101.206 223.753 106.492 223.753 111.875C223.753 117.258 222.326 122.545 219.616 127.197C216.907 131.848 213.012 135.698 208.33 138.353C203.648 141.009 198.345 142.375 192.962 142.313C187.58 142.251 182.31 140.763 177.69 138L138 177.7C141.808 184.071 143.155 191.614 141.79 198.91C140.424 206.205 136.44 212.75 130.585 217.313C124.731 221.875 117.412 224.141 110.004 223.683C102.596 223.226 95.6103 220.077 90.3621 214.828C85.1139 209.58 81.9647 202.595 81.5072 195.187C81.0497 187.779 83.3154 180.459 87.878 174.605C92.4405 168.751 98.9853 164.766 106.281 163.401C113.576 162.035 121.119 163.383 127.49 167.19L167.19 127.49C165.664 124.941 164.518 122.182 163.79 119.3H141.39C139.721 125.858 135.915 131.673 130.573 135.826C125.231 139.98 118.657 142.234 111.89 142.234C105.123 142.234 98.5494 139.98 93.2071 135.826C87.8648 131.673 84.0587 125.858 82.39 119.3H60C58.1878 126.495 53.8086 132.78 47.6863 136.971C41.5641 141.163 34.1211 142.972 26.7579 142.059C19.3947 141.146 12.6191 137.574 7.70605 132.014C2.79302 126.454 0.0813599 119.29 0.0813599 111.87C0.0813599 104.451 2.79302 97.2871 7.70605 91.7272C12.6191 86.1673 19.3947 82.5947 26.7579 81.6817C34.1211 80.7686 41.5641 82.5781 47.6863 86.7696C53.8086 90.9611 58.1878 97.2456 60 104.44H82.35ZM100.86 204.32C103.407 206.868 106.759 208.453 110.345 208.806C113.93 209.159 117.527 208.258 120.522 206.256C123.517 204.254 125.725 201.276 126.771 197.828C127.816 194.38 127.633 190.677 126.253 187.349C124.874 184.021 122.383 181.274 119.205 179.577C116.027 177.88 112.359 177.337 108.826 178.042C105.293 178.746 102.113 180.654 99.8291 183.44C97.5451 186.226 96.2979 189.718 96.3 193.32C96.2985 195.364 96.7006 197.388 97.4831 199.275C98.2656 201.163 99.4132 202.877 100.86 204.32ZM204.32 122.88C206.868 120.333 208.453 116.981 208.806 113.396C209.159 109.811 208.258 106.214 206.256 103.219C204.254 100.223 201.275 98.0151 197.827 96.97C194.38 95.9249 190.676 96.1077 187.348 97.4873C184.02 98.8669 181.274 101.358 179.577 104.536C177.879 107.714 177.337 111.382 178.041 114.915C178.746 118.448 180.653 121.627 183.439 123.911C186.226 126.195 189.717 127.443 193.32 127.44C195.364 127.443 197.388 127.042 199.275 126.259C201.163 125.476 202.878 124.328 204.32 122.88ZM122.88 19.4205C120.333 16.8729 116.981 15.2876 113.395 14.9347C109.81 14.5817 106.213 15.483 103.218 17.4849C100.223 19.4868 98.0146 22.4654 96.9696 25.9131C95.9245 29.3608 96.1073 33.0642 97.4869 36.3922C98.8665 39.7202 101.358 42.4668 104.535 44.1639C107.713 45.861 111.381 46.4036 114.914 45.6992C118.447 44.9949 121.627 43.0871 123.911 40.301C126.195 37.515 127.442 34.0231 127.44 30.4205C127.44 28.3772 127.038 26.3539 126.255 24.4664C125.473 22.5788 124.326 20.8642 122.88 19.4205ZM19.42 100.86C16.8725 103.408 15.2872 106.76 14.9342 110.345C14.5813 113.93 15.4826 117.527 17.4844 120.522C19.4863 123.518 22.4649 125.726 25.9127 126.771C29.3604 127.816 33.0638 127.633 36.3918 126.254C39.7198 124.874 42.4664 122.383 44.1635 119.205C45.8606 116.027 46.4032 112.359 45.6988 108.826C44.9944 105.293 43.0866 102.114 40.3006 99.8296C37.5145 97.5455 34.0227 96.2983 30.42 96.3005C26.2938 96.3018 22.337 97.9421 19.42 100.86ZM100.86 100.86C98.3125 103.408 96.7272 106.76 96.3742 110.345C96.0213 113.93 96.9226 117.527 98.9244 120.522C100.926 123.518 103.905 125.726 107.353 126.771C110.8 127.816 114.504 127.633 117.832 126.254C121.16 124.874 123.906 122.383 125.604 119.205C127.301 116.027 127.843 112.359 127.139 108.826C126.434 105.293 124.527 102.114 121.741 99.8296C118.955 97.5455 115.463 96.2983 111.86 96.3005C109.817 96.299 107.793 96.701 105.905 97.4835C104.018 98.2661 102.303 99.4136 100.86 100.86Z\" fill=\"#00AEEF\"/>\n",
              "    </g>\n",
              "    <defs>\n",
              "        <clipPath id=\"clip0_4338_178347\">\n",
              "            <rect width=\"566.93\" height=\"223.75\" fill=\"white\"/>\n",
              "        </clipPath>\n",
              "    </defs>\n",
              "  </svg>\n",
              "</div>\n",
              "\n",
              "        <table class=\"jp-RenderedHTMLCommon\" style=\"border-collapse: collapse;color: var(--jp-ui-font-color1);font-size: var(--jp-ui-font-size1);\">\n",
              "    <tr>\n",
              "        <td style=\"text-align: left\"><b>Python version:</b></td>\n",
              "        <td style=\"text-align: left\"><b>3.11.11</b></td>\n",
              "    </tr>\n",
              "    <tr>\n",
              "        <td style=\"text-align: left\"><b>Ray version:</b></td>\n",
              "        <td style=\"text-align: left\"><b>2.42.1</b></td>\n",
              "    </tr>\n",
              "    \n",
              "</table>\n",
              "\n",
              "    </div>\n",
              "</div>\n"
            ],
            "text/plain": [
              "RayContext(dashboard_url='', python_version='3.11.11', ray_version='2.42.1', ray_commit='c2e38f7b75be223c0c033986472daada8622d64f')"
            ]
          },
          "execution_count": 6,
          "metadata": {},
          "output_type": "execute_result"
        }
      ],
      "source": [
        "import ray\n",
        "\n",
        "# If running on a cluster uncomment use the line below instead\n",
        "# ray.init(address=\"auto\", log_to_driver=False)\n",
        "\n",
        "ray.shutdown()\n",
        "ray.init(log_to_driver=True, ignore_reinit_error=True)"
      ]
    },
    {
      "cell_type": "code",
      "execution_count": null,
      "metadata": {
        "id": "hcfbQ8FmuIM9"
      },
      "outputs": [
        {
          "name": "stderr",
          "output_type": "stream",
          "text": [
            "2025-02-22 11:26:39.561327: I tensorflow/core/util/port.cc:153] oneDNN custom operations are on. You may see slightly different numerical results due to floating-point round-off errors from different computation orders. To turn them off, set the environment variable `TF_ENABLE_ONEDNN_OPTS=0`.\n",
            "2025-02-22 11:26:39.568810: E external/local_xla/xla/stream_executor/cuda/cuda_fft.cc:477] Unable to register cuFFT factory: Attempting to register factory for plugin cuFFT when one has already been registered\n",
            "WARNING: All log messages before absl::InitializeLog() is called are written to STDERR\n",
            "E0000 00:00:1740194799.577332  375902 cuda_dnn.cc:8310] Unable to register cuDNN factory: Attempting to register factory for plugin cuDNN when one has already been registered\n",
            "E0000 00:00:1740194799.579587  375902 cuda_blas.cc:1418] Unable to register cuBLAS factory: Attempting to register factory for plugin cuBLAS when one has already been registered\n",
            "2025-02-22 11:26:39.588130: I tensorflow/core/platform/cpu_feature_guard.cc:210] This TensorFlow binary is optimized to use available CPU instructions in performance-critical operations.\n",
            "To enable the following instructions: AVX2 AVX512F AVX512_VNNI AVX512_BF16 AVX_VNNI FMA, in other operations, rebuild TensorFlow with the appropriate compiler flags.\n"
          ]
        },
        {
          "name": "stdout",
          "output_type": "stream",
          "text": [
            "Downloading and caching pre-trained model\n"
          ]
        },
        {
          "name": "stderr",
          "output_type": "stream",
          "text": [
            "Some weights of BertForSequenceClassification were not initialized from the model checkpoint at bert-base-uncased and are newly initialized: ['classifier.bias', 'classifier.weight']\n",
            "You should probably TRAIN this model on a down-stream task to be able to use it for predictions and inference.\n"
          ]
        },
        {
          "data": {
            "text/plain": [
              "BertForSequenceClassification(\n",
              "  (bert): BertModel(\n",
              "    (embeddings): BertEmbeddings(\n",
              "      (word_embeddings): Embedding(30522, 768, padding_idx=0)\n",
              "      (position_embeddings): Embedding(512, 768)\n",
              "      (token_type_embeddings): Embedding(2, 768)\n",
              "      (LayerNorm): LayerNorm((768,), eps=1e-12, elementwise_affine=True)\n",
              "      (dropout): Dropout(p=0.1, inplace=False)\n",
              "    )\n",
              "    (encoder): BertEncoder(\n",
              "      (layer): ModuleList(\n",
              "        (0-11): 12 x BertLayer(\n",
              "          (attention): BertAttention(\n",
              "            (self): BertSdpaSelfAttention(\n",
              "              (query): Linear(in_features=768, out_features=768, bias=True)\n",
              "              (key): Linear(in_features=768, out_features=768, bias=True)\n",
              "              (value): Linear(in_features=768, out_features=768, bias=True)\n",
              "              (dropout): Dropout(p=0.1, inplace=False)\n",
              "            )\n",
              "            (output): BertSelfOutput(\n",
              "              (dense): Linear(in_features=768, out_features=768, bias=True)\n",
              "              (LayerNorm): LayerNorm((768,), eps=1e-12, elementwise_affine=True)\n",
              "              (dropout): Dropout(p=0.1, inplace=False)\n",
              "            )\n",
              "          )\n",
              "          (intermediate): BertIntermediate(\n",
              "            (dense): Linear(in_features=768, out_features=3072, bias=True)\n",
              "            (intermediate_act_fn): GELUActivation()\n",
              "          )\n",
              "          (output): BertOutput(\n",
              "            (dense): Linear(in_features=3072, out_features=768, bias=True)\n",
              "            (LayerNorm): LayerNorm((768,), eps=1e-12, elementwise_affine=True)\n",
              "            (dropout): Dropout(p=0.1, inplace=False)\n",
              "          )\n",
              "        )\n",
              "      )\n",
              "    )\n",
              "    (pooler): BertPooler(\n",
              "      (dense): Linear(in_features=768, out_features=768, bias=True)\n",
              "      (activation): Tanh()\n",
              "    )\n",
              "  )\n",
              "  (dropout): Dropout(p=0.1, inplace=False)\n",
              "  (classifier): Linear(in_features=768, out_features=2, bias=True)\n",
              ")"
            ]
          },
          "execution_count": 7,
          "metadata": {},
          "output_type": "execute_result"
        }
      ],
      "source": [
        "import os\n",
        "from transformers import DataCollatorWithPadding, AutoTokenizer, AutoModelForSequenceClassification\n",
        "\n",
        "# Change these as needed.\n",
        "model_name = \"bert-base-uncased\"\n",
        "\n",
        "# Triggers tokenizer download to cache\n",
        "tokenizer = AutoTokenizer.from_pretrained(model_name)\n",
        "print(\"Downloading and caching pre-trained model\")\n",
        "\n",
        "tokenizer = AutoTokenizer.from_pretrained(\"bert-base-uncased\")\n",
        "data_collator = DataCollatorWithPadding(tokenizer=tokenizer)\n",
        "\n",
        "# Triggers model download to cache\n",
        "AutoModelForSequenceClassification.from_pretrained(model_name)"
      ]
    },
    {
      "cell_type": "markdown",
      "metadata": {
        "id": "KB5BLmKev_6-"
      },
      "source": [
        "## Training"
      ]
    },
    {
      "cell_type": "markdown",
      "metadata": {
        "id": "u3ICOgXTwEIh"
      },
      "source": [
        "With everything now downloaded and cached, we can now set up our training function. Our training function defines the training execution for a single hyperparameter configuration. For now we pull these hyperparameters from a config argument, but we’ll see later how this is passed in."
      ]
    },
    {
      "cell_type": "markdown",
      "metadata": {
        "id": "m9GTvUzawE5b"
      },
      "source": [
        "First we get our datasets- we only use the first half of the dev dataset for validation, and leave the rest of testing:"
      ]
    },
    {
      "cell_type": "code",
      "execution_count": null,
      "metadata": {
        "id": "uikm4YpavIOh"
      },
      "outputs": [
        {
          "data": {
            "application/vnd.jupyter.widget-view+json": {
              "model_id": "d3e9105fd09f4be0b0620d6323b93c2f",
              "version_major": 2,
              "version_minor": 0
            },
            "text/plain": [
              "Map:   0%|          | 0/6050 [00:00<?, ? examples/s]"
            ]
          },
          "metadata": {},
          "output_type": "display_data"
        },
        {
          "data": {
            "text/plain": [
              "(Dataset({\n",
              "     features: ['label', 'full_content', 'processed_full_content', 'input_ids', 'token_type_ids', 'attention_mask'],\n",
              "     num_rows: 54441\n",
              " }),\n",
              " Dataset({\n",
              "     features: ['label', 'full_content', 'processed_full_content', 'input_ids', 'token_type_ids', 'attention_mask'],\n",
              "     num_rows: 6050\n",
              " }))"
            ]
          },
          "execution_count": 8,
          "metadata": {},
          "output_type": "execute_result"
        }
      ],
      "source": [
        "from datasets import load_dataset, concatenate_datasets, Dataset\n",
        "\n",
        "def get_datasets(config=\"original\"):\n",
        "    datasets = load_dataset(\n",
        "        \"csv\",\n",
        "        data_files={\n",
        "            \"train\": [\n",
        "                \"dataset/train_data_1.csv\",\n",
        "                \"dataset/train_data_2.csv\",\n",
        "                \"dataset/train_data_3.csv\",\n",
        "                \"dataset/train_data_4.csv\",\n",
        "            ],\n",
        "            \"test\": \"dataset/test_data.csv\",\n",
        "            \"rewritten_train\": [\n",
        "                \"dataset/rewritten_train_data_1.csv\",\n",
        "                \"dataset/rewritten_train_data_2.csv\",\n",
        "                \"dataset/rewritten_train_data_3.csv\",\n",
        "                \"dataset/rewritten_train_data_4.csv\",\n",
        "            ],\n",
        "            \"rewritten_test\": \"dataset/rewritten_test_data.csv\",\n",
        "        },\n",
        "    )\n",
        "\n",
        "    # Tokenize the dataset\n",
        "    def tokenize_function(example):\n",
        "        return tokenizer(example[\"processed_full_content\"], padding=\"max_length\", truncation=True)\n",
        "\n",
        "    tokenized_datasets = datasets.map(tokenize_function, batched=True)\n",
        "    \n",
        "    train_dataset = tokenized_datasets[\"train\"]\n",
        "    eval_dataset = tokenized_datasets[\"test\"]\n",
        "\n",
        "    return train_dataset, eval_dataset\n",
        "\n",
        "get_datasets()"
      ]
    },
    {
      "cell_type": "markdown",
      "metadata": {
        "id": "sd7nAyxZ16W_"
      },
      "source": [
        "### Checkpointing"
      ]
    },
    {
      "cell_type": "markdown",
      "metadata": {
        "id": "Rw14Ot7n1HQ-"
      },
      "source": [
        "We also need to add extra functionality for *checkpointing*. After every epoch of training, we need to save our training state. This is crucial for Population Based Training since it allows us to continue training from where we left off even when hyperparameters are perturbed. The Huggingface Trainer provides functionality to save and load from a checkpoint, but we do have to make some modifications to integrate this with Ray Tune checkpointing and to checkpoint after every epoch. The first step is to subclass the Trainer from the transformers library. Ray Tune provides this [TuneTransformerTrainer](https://github.com/ray-project/ray/blob/master/python/ray/tune/examples/pbt_transformers/trainer.py) subclass which we utilize. Take a look at the class- we see that it handles reporting evaluation metrics to Tune, checkpointing everytime evaluate is called, and even a way to pass in custom W&B arguments"
      ]
    },
    {
      "cell_type": "code",
      "execution_count": null,
      "metadata": {
        "id": "CoXMZicduw3Q"
      },
      "outputs": [],
      "source": [
        "from ray import tune\n",
        "\n",
        "def ray_hp_space(trial):\n",
        "    return {\n",
        "        \"learning_rate\": tune.loguniform(1e-6, 1e-4),\n",
        "        \"per_device_train_batch_size\": tune.choice([16, 32, 64, 128]),\n",
        "    }"
      ]
    },
    {
      "cell_type": "code",
      "execution_count": null,
      "metadata": {},
      "outputs": [],
      "source": [
        "def wandb_hp_space(trial):\n",
        "    return {\n",
        "        \"method\": \"random\",\n",
        "        \"metric\": {\"name\": \"accuracy\", \"goal\": \"maximize\"},\n",
        "        \"parameters\": {\n",
        "            \"learning_rate\": {\"distribution\": \"uniform\", \"min\": 1e-6, \"max\": 1e-4},\n",
        "            \"per_device_train_batch_size\": {\"values\": [16, 32, 64, 128]},\n",
        "        },\n",
        "    }"
      ]
    },
    {
      "cell_type": "code",
      "execution_count": null,
      "metadata": {},
      "outputs": [],
      "source": [
        "from transformers import AutoModelForSequenceClassification\n",
        "import numpy as np\n",
        "import evaluate\n",
        "from transformers import EvalPrediction\n",
        "\n",
        "# Load the accuracy metric from the evaluate library\n",
        "accuracy_metric = evaluate.load(\"accuracy\")\n",
        "\n",
        "def compute_metrics(eval_pred: EvalPrediction) -> dict:\n",
        "    logits, labels = eval_pred\n",
        "    predictions = np.argmax(logits, axis=-1)\n",
        "    accuracy = accuracy_metric.compute(predictions=predictions, references=labels)\n",
        "    return accuracy\n",
        "\n",
        "def model_init():\n",
        "    return AutoModelForSequenceClassification.from_pretrained(model_name, num_labels=2)\n"
      ]
    },
    {
      "cell_type": "code",
      "execution_count": null,
      "metadata": {},
      "outputs": [
        {
          "name": "stderr",
          "output_type": "stream",
          "text": [
            "/home/inflaton/miniconda3/envs/fake-news/lib/python3.11/site-packages/transformers/training_args.py:1575: FutureWarning: `evaluation_strategy` is deprecated and will be removed in version 4.46 of 🤗 Transformers. Use `eval_strategy` instead\n",
            "  warnings.warn(\n",
            "/tmp/ipykernel_375902/4166464530.py:15: FutureWarning: `tokenizer` is deprecated and will be removed in version 5.0.0 for `Trainer.__init__`. Use `processing_class` instead.\n",
            "  trainer = Trainer(\n",
            "Some weights of BertForSequenceClassification were not initialized from the model checkpoint at bert-base-uncased and are newly initialized: ['classifier.bias', 'classifier.weight']\n",
            "You should probably TRAIN this model on a down-stream task to be able to use it for predictions and inference.\n"
          ]
        }
      ],
      "source": [
        "from transformers import Trainer, TrainingArguments\n",
        "\n",
        "training_args = TrainingArguments(\n",
        "    output_dir=\"./results\",\n",
        "    evaluation_strategy=\"epoch\",\n",
        "    save_strategy=\"epoch\",\n",
        "    per_device_train_batch_size=8,\n",
        "    per_device_eval_batch_size=8,\n",
        "    num_train_epochs=3,\n",
        "    weight_decay=0.01,\n",
        ")\n",
        "\n",
        "train_dataset, eval_dataset = get_datasets()\n",
        "\n",
        "trainer = Trainer(\n",
        "    model_init=model_init,\n",
        "    args=training_args,\n",
        "    train_dataset=train_dataset,\n",
        "    eval_dataset=eval_dataset,\n",
        "    compute_metrics=compute_metrics,\n",
        "    tokenizer=tokenizer,\n",
        "    data_collator=data_collator,\n",
        ")"
      ]
    },
    {
      "cell_type": "code",
      "execution_count": null,
      "metadata": {
        "id": "wekJMP34FUK1"
      },
      "outputs": [
        {
          "name": "stderr",
          "output_type": "stream",
          "text": [
            "\u001b[34m\u001b[1mwandb\u001b[0m: Using wandb-core as the SDK backend.  Please refer to https://wandb.me/wandb-core for more information.\n"
          ]
        },
        {
          "name": "stdout",
          "output_type": "stream",
          "text": [
            "Create sweep with ID: b6xneouv\n",
            "Sweep URL: https://wandb.ai/inflaton-ai/uncategorized/sweeps/b6xneouv\n"
          ]
        },
        {
          "name": "stderr",
          "output_type": "stream",
          "text": [
            "\u001b[34m\u001b[1mwandb\u001b[0m: Agent Starting Run: dwrdunne with config:\n",
            "\u001b[34m\u001b[1mwandb\u001b[0m: \tlearning_rate: 5.517943384545444e-06\n",
            "\u001b[34m\u001b[1mwandb\u001b[0m: \tper_device_train_batch_size: 16\n",
            "Run dwrdunne errored:\n",
            "Traceback (most recent call last):\n",
            "  File \"/home/inflaton/miniconda3/envs/fake-news/lib/python3.11/site-packages/wandb/agents/pyagent.py\", line 306, in _run_job\n",
            "    self._function()\n",
            "  File \"/home/inflaton/miniconda3/envs/fake-news/lib/python3.11/site-packages/transformers/integrations/integration_utils.py\", line 552, in _objective\n",
            "    run = wandb.run if wandb.run else wandb.init()\n",
            "                                      ^^^^^^^^^^^^\n",
            "  File \"/home/inflaton/miniconda3/envs/fake-news/lib/python3.11/site-packages/wandb/sdk/wandb_init.py\", line 1485, in init\n",
            "    wandb._sentry.reraise(e)\n",
            "  File \"/home/inflaton/miniconda3/envs/fake-news/lib/python3.11/site-packages/wandb/analytics/sentry.py\", line 156, in reraise\n",
            "    raise exc.with_traceback(sys.exc_info()[2])\n",
            "  File \"/home/inflaton/miniconda3/envs/fake-news/lib/python3.11/site-packages/wandb/sdk/wandb_init.py\", line 1433, in init\n",
            "    wi.maybe_login(init_settings)\n",
            "  File \"/home/inflaton/miniconda3/envs/fake-news/lib/python3.11/site-packages/wandb/sdk/wandb_init.py\", line 175, in maybe_login\n",
            "    wandb_login._login(\n",
            "  File \"/home/inflaton/miniconda3/envs/fake-news/lib/python3.11/site-packages/wandb/sdk/wandb_login.py\", line 273, in _login\n",
            "    wlogin = _WandbLogin(\n",
            "             ^^^^^^^^^^^^\n",
            "  File \"/home/inflaton/miniconda3/envs/fake-news/lib/python3.11/site-packages/wandb/sdk/wandb_login.py\", line 115, in __init__\n",
            "    self._wandb_setup = wandb.setup()\n",
            "                        ^^^^^^^^^^^^^\n",
            "  File \"/home/inflaton/miniconda3/envs/fake-news/lib/python3.11/site-packages/wandb/sdk/wandb_setup.py\", line 382, in setup\n",
            "    return _setup(settings=settings)\n",
            "           ^^^^^^^^^^^^^^^^^^^^^^^^^\n",
            "  File \"/home/inflaton/miniconda3/envs/fake-news/lib/python3.11/site-packages/wandb/sdk/wandb_setup.py\", line 321, in _setup\n",
            "    _singleton.ensure_service()\n",
            "  File \"/home/inflaton/miniconda3/envs/fake-news/lib/python3.11/site-packages/wandb/sdk/wandb_setup.py\", line 264, in ensure_service\n",
            "    self._connection = service_connection.connect_to_service(self._settings)\n",
            "                       ^^^^^^^^^^^^^^^^^^^^^^^^^^^^^^^^^^^^^^^^^^^^^^^^^^^^^\n",
            "  File \"/home/inflaton/miniconda3/envs/fake-news/lib/python3.11/site-packages/wandb/sdk/lib/service_connection.py\", line 40, in connect_to_service\n",
            "    return _start_and_connect_service(settings)\n",
            "           ^^^^^^^^^^^^^^^^^^^^^^^^^^^^^^^^^^^^\n",
            "  File \"/home/inflaton/miniconda3/envs/fake-news/lib/python3.11/site-packages/wandb/sdk/lib/service_connection.py\", line 80, in _start_and_connect_service\n",
            "    client.connect(port)\n",
            "  File \"/home/inflaton/miniconda3/envs/fake-news/lib/python3.11/site-packages/wandb/sdk/lib/sock_client.py\", line 102, in connect\n",
            "    s.connect((\"localhost\", port))\n",
            "ConnectionRefusedError: [Errno 111] Connection refused\n",
            "\n",
            "\u001b[34m\u001b[1mwandb\u001b[0m: \u001b[32m\u001b[41mERROR\u001b[0m Run dwrdunne errored:\n",
            "\u001b[34m\u001b[1mwandb\u001b[0m: \u001b[32m\u001b[41mERROR\u001b[0m Traceback (most recent call last):\n",
            "\u001b[34m\u001b[1mwandb\u001b[0m: \u001b[32m\u001b[41mERROR\u001b[0m   File \"/home/inflaton/miniconda3/envs/fake-news/lib/python3.11/site-packages/wandb/agents/pyagent.py\", line 306, in _run_job\n",
            "\u001b[34m\u001b[1mwandb\u001b[0m: \u001b[32m\u001b[41mERROR\u001b[0m     self._function()\n",
            "\u001b[34m\u001b[1mwandb\u001b[0m: \u001b[32m\u001b[41mERROR\u001b[0m   File \"/home/inflaton/miniconda3/envs/fake-news/lib/python3.11/site-packages/transformers/integrations/integration_utils.py\", line 552, in _objective\n",
            "\u001b[34m\u001b[1mwandb\u001b[0m: \u001b[32m\u001b[41mERROR\u001b[0m     run = wandb.run if wandb.run else wandb.init()\n",
            "\u001b[34m\u001b[1mwandb\u001b[0m: \u001b[32m\u001b[41mERROR\u001b[0m                                       ^^^^^^^^^^^^\n",
            "\u001b[34m\u001b[1mwandb\u001b[0m: \u001b[32m\u001b[41mERROR\u001b[0m   File \"/home/inflaton/miniconda3/envs/fake-news/lib/python3.11/site-packages/wandb/sdk/wandb_init.py\", line 1485, in init\n",
            "\u001b[34m\u001b[1mwandb\u001b[0m: \u001b[32m\u001b[41mERROR\u001b[0m     wandb._sentry.reraise(e)\n",
            "\u001b[34m\u001b[1mwandb\u001b[0m: \u001b[32m\u001b[41mERROR\u001b[0m   File \"/home/inflaton/miniconda3/envs/fake-news/lib/python3.11/site-packages/wandb/analytics/sentry.py\", line 156, in reraise\n",
            "\u001b[34m\u001b[1mwandb\u001b[0m: \u001b[32m\u001b[41mERROR\u001b[0m     raise exc.with_traceback(sys.exc_info()[2])\n",
            "\u001b[34m\u001b[1mwandb\u001b[0m: \u001b[32m\u001b[41mERROR\u001b[0m   File \"/home/inflaton/miniconda3/envs/fake-news/lib/python3.11/site-packages/wandb/sdk/wandb_init.py\", line 1433, in init\n",
            "\u001b[34m\u001b[1mwandb\u001b[0m: \u001b[32m\u001b[41mERROR\u001b[0m     wi.maybe_login(init_settings)\n",
            "\u001b[34m\u001b[1mwandb\u001b[0m: \u001b[32m\u001b[41mERROR\u001b[0m   File \"/home/inflaton/miniconda3/envs/fake-news/lib/python3.11/site-packages/wandb/sdk/wandb_init.py\", line 175, in maybe_login\n",
            "\u001b[34m\u001b[1mwandb\u001b[0m: \u001b[32m\u001b[41mERROR\u001b[0m     wandb_login._login(\n",
            "\u001b[34m\u001b[1mwandb\u001b[0m: \u001b[32m\u001b[41mERROR\u001b[0m   File \"/home/inflaton/miniconda3/envs/fake-news/lib/python3.11/site-packages/wandb/sdk/wandb_login.py\", line 273, in _login\n",
            "\u001b[34m\u001b[1mwandb\u001b[0m: \u001b[32m\u001b[41mERROR\u001b[0m     wlogin = _WandbLogin(\n",
            "\u001b[34m\u001b[1mwandb\u001b[0m: \u001b[32m\u001b[41mERROR\u001b[0m              ^^^^^^^^^^^^\n",
            "\u001b[34m\u001b[1mwandb\u001b[0m: \u001b[32m\u001b[41mERROR\u001b[0m   File \"/home/inflaton/miniconda3/envs/fake-news/lib/python3.11/site-packages/wandb/sdk/wandb_login.py\", line 115, in __init__\n",
            "\u001b[34m\u001b[1mwandb\u001b[0m: \u001b[32m\u001b[41mERROR\u001b[0m     self._wandb_setup = wandb.setup()\n",
            "\u001b[34m\u001b[1mwandb\u001b[0m: \u001b[32m\u001b[41mERROR\u001b[0m                         ^^^^^^^^^^^^^\n",
            "\u001b[34m\u001b[1mwandb\u001b[0m: \u001b[32m\u001b[41mERROR\u001b[0m   File \"/home/inflaton/miniconda3/envs/fake-news/lib/python3.11/site-packages/wandb/sdk/wandb_setup.py\", line 382, in setup\n",
            "\u001b[34m\u001b[1mwandb\u001b[0m: \u001b[32m\u001b[41mERROR\u001b[0m     return _setup(settings=settings)\n",
            "\u001b[34m\u001b[1mwandb\u001b[0m: \u001b[32m\u001b[41mERROR\u001b[0m            ^^^^^^^^^^^^^^^^^^^^^^^^^\n",
            "\u001b[34m\u001b[1mwandb\u001b[0m: \u001b[32m\u001b[41mERROR\u001b[0m   File \"/home/inflaton/miniconda3/envs/fake-news/lib/python3.11/site-packages/wandb/sdk/wandb_setup.py\", line 321, in _setup\n",
            "\u001b[34m\u001b[1mwandb\u001b[0m: \u001b[32m\u001b[41mERROR\u001b[0m     _singleton.ensure_service()\n",
            "\u001b[34m\u001b[1mwandb\u001b[0m: \u001b[32m\u001b[41mERROR\u001b[0m   File \"/home/inflaton/miniconda3/envs/fake-news/lib/python3.11/site-packages/wandb/sdk/wandb_setup.py\", line 264, in ensure_service\n",
            "\u001b[34m\u001b[1mwandb\u001b[0m: \u001b[32m\u001b[41mERROR\u001b[0m     self._connection = service_connection.connect_to_service(self._settings)\n",
            "\u001b[34m\u001b[1mwandb\u001b[0m: \u001b[32m\u001b[41mERROR\u001b[0m                        ^^^^^^^^^^^^^^^^^^^^^^^^^^^^^^^^^^^^^^^^^^^^^^^^^^^^^\n",
            "\u001b[34m\u001b[1mwandb\u001b[0m: \u001b[32m\u001b[41mERROR\u001b[0m   File \"/home/inflaton/miniconda3/envs/fake-news/lib/python3.11/site-packages/wandb/sdk/lib/service_connection.py\", line 40, in connect_to_service\n",
            "\u001b[34m\u001b[1mwandb\u001b[0m: \u001b[32m\u001b[41mERROR\u001b[0m     return _start_and_connect_service(settings)\n",
            "\u001b[34m\u001b[1mwandb\u001b[0m: \u001b[32m\u001b[41mERROR\u001b[0m            ^^^^^^^^^^^^^^^^^^^^^^^^^^^^^^^^^^^^\n",
            "\u001b[34m\u001b[1mwandb\u001b[0m: \u001b[32m\u001b[41mERROR\u001b[0m   File \"/home/inflaton/miniconda3/envs/fake-news/lib/python3.11/site-packages/wandb/sdk/lib/service_connection.py\", line 80, in _start_and_connect_service\n",
            "\u001b[34m\u001b[1mwandb\u001b[0m: \u001b[32m\u001b[41mERROR\u001b[0m     client.connect(port)\n",
            "\u001b[34m\u001b[1mwandb\u001b[0m: \u001b[32m\u001b[41mERROR\u001b[0m   File \"/home/inflaton/miniconda3/envs/fake-news/lib/python3.11/site-packages/wandb/sdk/lib/sock_client.py\", line 102, in connect\n",
            "\u001b[34m\u001b[1mwandb\u001b[0m: \u001b[32m\u001b[41mERROR\u001b[0m     s.connect((\"localhost\", port))\n",
            "\u001b[34m\u001b[1mwandb\u001b[0m: \u001b[32m\u001b[41mERROR\u001b[0m ConnectionRefusedError: [Errno 111] Connection refused\n",
            "\u001b[34m\u001b[1mwandb\u001b[0m: \u001b[32m\u001b[41mERROR\u001b[0m \n",
            "\u001b[34m\u001b[1mwandb\u001b[0m: Sweep Agent: Waiting for job.\n",
            "\u001b[34m\u001b[1mwandb\u001b[0m: Job received.\n",
            "\u001b[34m\u001b[1mwandb\u001b[0m: Agent Starting Run: o0an3789 with config:\n",
            "\u001b[34m\u001b[1mwandb\u001b[0m: \tlearning_rate: 6.279028612157984e-06\n",
            "\u001b[34m\u001b[1mwandb\u001b[0m: \tper_device_train_batch_size: 128\n",
            "Run o0an3789 errored:\n",
            "Traceback (most recent call last):\n",
            "  File \"/home/inflaton/miniconda3/envs/fake-news/lib/python3.11/site-packages/wandb/agents/pyagent.py\", line 306, in _run_job\n",
            "    self._function()\n",
            "  File \"/home/inflaton/miniconda3/envs/fake-news/lib/python3.11/site-packages/transformers/integrations/integration_utils.py\", line 552, in _objective\n",
            "    run = wandb.run if wandb.run else wandb.init()\n",
            "                                      ^^^^^^^^^^^^\n",
            "  File \"/home/inflaton/miniconda3/envs/fake-news/lib/python3.11/site-packages/wandb/sdk/wandb_init.py\", line 1485, in init\n",
            "    wandb._sentry.reraise(e)\n",
            "  File \"/home/inflaton/miniconda3/envs/fake-news/lib/python3.11/site-packages/wandb/analytics/sentry.py\", line 156, in reraise\n",
            "    raise exc.with_traceback(sys.exc_info()[2])\n",
            "  File \"/home/inflaton/miniconda3/envs/fake-news/lib/python3.11/site-packages/wandb/sdk/wandb_init.py\", line 1433, in init\n",
            "    wi.maybe_login(init_settings)\n",
            "  File \"/home/inflaton/miniconda3/envs/fake-news/lib/python3.11/site-packages/wandb/sdk/wandb_init.py\", line 175, in maybe_login\n",
            "    wandb_login._login(\n",
            "  File \"/home/inflaton/miniconda3/envs/fake-news/lib/python3.11/site-packages/wandb/sdk/wandb_login.py\", line 273, in _login\n",
            "    wlogin = _WandbLogin(\n",
            "             ^^^^^^^^^^^^\n",
            "  File \"/home/inflaton/miniconda3/envs/fake-news/lib/python3.11/site-packages/wandb/sdk/wandb_login.py\", line 115, in __init__\n",
            "    self._wandb_setup = wandb.setup()\n",
            "                        ^^^^^^^^^^^^^\n",
            "  File \"/home/inflaton/miniconda3/envs/fake-news/lib/python3.11/site-packages/wandb/sdk/wandb_setup.py\", line 382, in setup\n",
            "    return _setup(settings=settings)\n",
            "           ^^^^^^^^^^^^^^^^^^^^^^^^^\n",
            "  File \"/home/inflaton/miniconda3/envs/fake-news/lib/python3.11/site-packages/wandb/sdk/wandb_setup.py\", line 321, in _setup\n",
            "    _singleton.ensure_service()\n",
            "  File \"/home/inflaton/miniconda3/envs/fake-news/lib/python3.11/site-packages/wandb/sdk/wandb_setup.py\", line 264, in ensure_service\n",
            "    self._connection = service_connection.connect_to_service(self._settings)\n",
            "                       ^^^^^^^^^^^^^^^^^^^^^^^^^^^^^^^^^^^^^^^^^^^^^^^^^^^^^\n",
            "  File \"/home/inflaton/miniconda3/envs/fake-news/lib/python3.11/site-packages/wandb/sdk/lib/service_connection.py\", line 40, in connect_to_service\n",
            "    return _start_and_connect_service(settings)\n",
            "           ^^^^^^^^^^^^^^^^^^^^^^^^^^^^^^^^^^^^\n",
            "  File \"/home/inflaton/miniconda3/envs/fake-news/lib/python3.11/site-packages/wandb/sdk/lib/service_connection.py\", line 80, in _start_and_connect_service\n",
            "    client.connect(port)\n",
            "  File \"/home/inflaton/miniconda3/envs/fake-news/lib/python3.11/site-packages/wandb/sdk/lib/sock_client.py\", line 102, in connect\n",
            "    s.connect((\"localhost\", port))\n",
            "ConnectionRefusedError: [Errno 111] Connection refused\n",
            "\n",
            "\u001b[34m\u001b[1mwandb\u001b[0m: \u001b[32m\u001b[41mERROR\u001b[0m Run o0an3789 errored:\n",
            "\u001b[34m\u001b[1mwandb\u001b[0m: \u001b[32m\u001b[41mERROR\u001b[0m Traceback (most recent call last):\n",
            "\u001b[34m\u001b[1mwandb\u001b[0m: \u001b[32m\u001b[41mERROR\u001b[0m   File \"/home/inflaton/miniconda3/envs/fake-news/lib/python3.11/site-packages/wandb/agents/pyagent.py\", line 306, in _run_job\n",
            "\u001b[34m\u001b[1mwandb\u001b[0m: \u001b[32m\u001b[41mERROR\u001b[0m     self._function()\n",
            "\u001b[34m\u001b[1mwandb\u001b[0m: \u001b[32m\u001b[41mERROR\u001b[0m   File \"/home/inflaton/miniconda3/envs/fake-news/lib/python3.11/site-packages/transformers/integrations/integration_utils.py\", line 552, in _objective\n",
            "\u001b[34m\u001b[1mwandb\u001b[0m: \u001b[32m\u001b[41mERROR\u001b[0m     run = wandb.run if wandb.run else wandb.init()\n",
            "\u001b[34m\u001b[1mwandb\u001b[0m: \u001b[32m\u001b[41mERROR\u001b[0m                                       ^^^^^^^^^^^^\n",
            "\u001b[34m\u001b[1mwandb\u001b[0m: \u001b[32m\u001b[41mERROR\u001b[0m   File \"/home/inflaton/miniconda3/envs/fake-news/lib/python3.11/site-packages/wandb/sdk/wandb_init.py\", line 1485, in init\n",
            "\u001b[34m\u001b[1mwandb\u001b[0m: \u001b[32m\u001b[41mERROR\u001b[0m     wandb._sentry.reraise(e)\n",
            "\u001b[34m\u001b[1mwandb\u001b[0m: \u001b[32m\u001b[41mERROR\u001b[0m   File \"/home/inflaton/miniconda3/envs/fake-news/lib/python3.11/site-packages/wandb/analytics/sentry.py\", line 156, in reraise\n",
            "\u001b[34m\u001b[1mwandb\u001b[0m: \u001b[32m\u001b[41mERROR\u001b[0m     raise exc.with_traceback(sys.exc_info()[2])\n",
            "\u001b[34m\u001b[1mwandb\u001b[0m: \u001b[32m\u001b[41mERROR\u001b[0m   File \"/home/inflaton/miniconda3/envs/fake-news/lib/python3.11/site-packages/wandb/sdk/wandb_init.py\", line 1433, in init\n",
            "\u001b[34m\u001b[1mwandb\u001b[0m: \u001b[32m\u001b[41mERROR\u001b[0m     wi.maybe_login(init_settings)\n",
            "\u001b[34m\u001b[1mwandb\u001b[0m: \u001b[32m\u001b[41mERROR\u001b[0m   File \"/home/inflaton/miniconda3/envs/fake-news/lib/python3.11/site-packages/wandb/sdk/wandb_init.py\", line 175, in maybe_login\n",
            "\u001b[34m\u001b[1mwandb\u001b[0m: \u001b[32m\u001b[41mERROR\u001b[0m     wandb_login._login(\n",
            "\u001b[34m\u001b[1mwandb\u001b[0m: \u001b[32m\u001b[41mERROR\u001b[0m   File \"/home/inflaton/miniconda3/envs/fake-news/lib/python3.11/site-packages/wandb/sdk/wandb_login.py\", line 273, in _login\n",
            "\u001b[34m\u001b[1mwandb\u001b[0m: \u001b[32m\u001b[41mERROR\u001b[0m     wlogin = _WandbLogin(\n",
            "\u001b[34m\u001b[1mwandb\u001b[0m: \u001b[32m\u001b[41mERROR\u001b[0m              ^^^^^^^^^^^^\n",
            "\u001b[34m\u001b[1mwandb\u001b[0m: \u001b[32m\u001b[41mERROR\u001b[0m   File \"/home/inflaton/miniconda3/envs/fake-news/lib/python3.11/site-packages/wandb/sdk/wandb_login.py\", line 115, in __init__\n",
            "\u001b[34m\u001b[1mwandb\u001b[0m: \u001b[32m\u001b[41mERROR\u001b[0m     self._wandb_setup = wandb.setup()\n",
            "\u001b[34m\u001b[1mwandb\u001b[0m: \u001b[32m\u001b[41mERROR\u001b[0m                         ^^^^^^^^^^^^^\n",
            "\u001b[34m\u001b[1mwandb\u001b[0m: \u001b[32m\u001b[41mERROR\u001b[0m   File \"/home/inflaton/miniconda3/envs/fake-news/lib/python3.11/site-packages/wandb/sdk/wandb_setup.py\", line 382, in setup\n",
            "\u001b[34m\u001b[1mwandb\u001b[0m: \u001b[32m\u001b[41mERROR\u001b[0m     return _setup(settings=settings)\n",
            "\u001b[34m\u001b[1mwandb\u001b[0m: \u001b[32m\u001b[41mERROR\u001b[0m            ^^^^^^^^^^^^^^^^^^^^^^^^^\n",
            "\u001b[34m\u001b[1mwandb\u001b[0m: \u001b[32m\u001b[41mERROR\u001b[0m   File \"/home/inflaton/miniconda3/envs/fake-news/lib/python3.11/site-packages/wandb/sdk/wandb_setup.py\", line 321, in _setup\n",
            "\u001b[34m\u001b[1mwandb\u001b[0m: \u001b[32m\u001b[41mERROR\u001b[0m     _singleton.ensure_service()\n",
            "\u001b[34m\u001b[1mwandb\u001b[0m: \u001b[32m\u001b[41mERROR\u001b[0m   File \"/home/inflaton/miniconda3/envs/fake-news/lib/python3.11/site-packages/wandb/sdk/wandb_setup.py\", line 264, in ensure_service\n",
            "\u001b[34m\u001b[1mwandb\u001b[0m: \u001b[32m\u001b[41mERROR\u001b[0m     self._connection = service_connection.connect_to_service(self._settings)\n",
            "\u001b[34m\u001b[1mwandb\u001b[0m: \u001b[32m\u001b[41mERROR\u001b[0m                        ^^^^^^^^^^^^^^^^^^^^^^^^^^^^^^^^^^^^^^^^^^^^^^^^^^^^^\n",
            "\u001b[34m\u001b[1mwandb\u001b[0m: \u001b[32m\u001b[41mERROR\u001b[0m   File \"/home/inflaton/miniconda3/envs/fake-news/lib/python3.11/site-packages/wandb/sdk/lib/service_connection.py\", line 40, in connect_to_service\n",
            "\u001b[34m\u001b[1mwandb\u001b[0m: \u001b[32m\u001b[41mERROR\u001b[0m     return _start_and_connect_service(settings)\n",
            "\u001b[34m\u001b[1mwandb\u001b[0m: \u001b[32m\u001b[41mERROR\u001b[0m            ^^^^^^^^^^^^^^^^^^^^^^^^^^^^^^^^^^^^\n",
            "\u001b[34m\u001b[1mwandb\u001b[0m: \u001b[32m\u001b[41mERROR\u001b[0m   File \"/home/inflaton/miniconda3/envs/fake-news/lib/python3.11/site-packages/wandb/sdk/lib/service_connection.py\", line 80, in _start_and_connect_service\n",
            "\u001b[34m\u001b[1mwandb\u001b[0m: \u001b[32m\u001b[41mERROR\u001b[0m     client.connect(port)\n",
            "\u001b[34m\u001b[1mwandb\u001b[0m: \u001b[32m\u001b[41mERROR\u001b[0m   File \"/home/inflaton/miniconda3/envs/fake-news/lib/python3.11/site-packages/wandb/sdk/lib/sock_client.py\", line 102, in connect\n",
            "\u001b[34m\u001b[1mwandb\u001b[0m: \u001b[32m\u001b[41mERROR\u001b[0m     s.connect((\"localhost\", port))\n",
            "\u001b[34m\u001b[1mwandb\u001b[0m: \u001b[32m\u001b[41mERROR\u001b[0m ConnectionRefusedError: [Errno 111] Connection refused\n",
            "\u001b[34m\u001b[1mwandb\u001b[0m: \u001b[32m\u001b[41mERROR\u001b[0m \n",
            "\u001b[34m\u001b[1mwandb\u001b[0m: Agent Starting Run: wvqlqx0f with config:\n",
            "\u001b[34m\u001b[1mwandb\u001b[0m: \tlearning_rate: 4.314624839396187e-05\n",
            "\u001b[34m\u001b[1mwandb\u001b[0m: \tper_device_train_batch_size: 16\n",
            "Run wvqlqx0f errored:\n",
            "Traceback (most recent call last):\n",
            "  File \"/home/inflaton/miniconda3/envs/fake-news/lib/python3.11/site-packages/wandb/agents/pyagent.py\", line 306, in _run_job\n",
            "    self._function()\n",
            "  File \"/home/inflaton/miniconda3/envs/fake-news/lib/python3.11/site-packages/transformers/integrations/integration_utils.py\", line 552, in _objective\n",
            "    run = wandb.run if wandb.run else wandb.init()\n",
            "                                      ^^^^^^^^^^^^\n",
            "  File \"/home/inflaton/miniconda3/envs/fake-news/lib/python3.11/site-packages/wandb/sdk/wandb_init.py\", line 1485, in init\n",
            "    wandb._sentry.reraise(e)\n",
            "  File \"/home/inflaton/miniconda3/envs/fake-news/lib/python3.11/site-packages/wandb/analytics/sentry.py\", line 156, in reraise\n",
            "    raise exc.with_traceback(sys.exc_info()[2])\n",
            "  File \"/home/inflaton/miniconda3/envs/fake-news/lib/python3.11/site-packages/wandb/sdk/wandb_init.py\", line 1433, in init\n",
            "    wi.maybe_login(init_settings)\n",
            "  File \"/home/inflaton/miniconda3/envs/fake-news/lib/python3.11/site-packages/wandb/sdk/wandb_init.py\", line 175, in maybe_login\n",
            "    wandb_login._login(\n",
            "  File \"/home/inflaton/miniconda3/envs/fake-news/lib/python3.11/site-packages/wandb/sdk/wandb_login.py\", line 273, in _login\n",
            "    wlogin = _WandbLogin(\n",
            "             ^^^^^^^^^^^^\n",
            "  File \"/home/inflaton/miniconda3/envs/fake-news/lib/python3.11/site-packages/wandb/sdk/wandb_login.py\", line 115, in __init__\n",
            "    self._wandb_setup = wandb.setup()\n",
            "                        ^^^^^^^^^^^^^\n",
            "  File \"/home/inflaton/miniconda3/envs/fake-news/lib/python3.11/site-packages/wandb/sdk/wandb_setup.py\", line 382, in setup\n",
            "    return _setup(settings=settings)\n",
            "           ^^^^^^^^^^^^^^^^^^^^^^^^^\n",
            "  File \"/home/inflaton/miniconda3/envs/fake-news/lib/python3.11/site-packages/wandb/sdk/wandb_setup.py\", line 321, in _setup\n",
            "    _singleton.ensure_service()\n",
            "  File \"/home/inflaton/miniconda3/envs/fake-news/lib/python3.11/site-packages/wandb/sdk/wandb_setup.py\", line 264, in ensure_service\n",
            "    self._connection = service_connection.connect_to_service(self._settings)\n",
            "                       ^^^^^^^^^^^^^^^^^^^^^^^^^^^^^^^^^^^^^^^^^^^^^^^^^^^^^\n",
            "  File \"/home/inflaton/miniconda3/envs/fake-news/lib/python3.11/site-packages/wandb/sdk/lib/service_connection.py\", line 40, in connect_to_service\n",
            "    return _start_and_connect_service(settings)\n",
            "           ^^^^^^^^^^^^^^^^^^^^^^^^^^^^^^^^^^^^\n",
            "  File \"/home/inflaton/miniconda3/envs/fake-news/lib/python3.11/site-packages/wandb/sdk/lib/service_connection.py\", line 80, in _start_and_connect_service\n",
            "    client.connect(port)\n",
            "  File \"/home/inflaton/miniconda3/envs/fake-news/lib/python3.11/site-packages/wandb/sdk/lib/sock_client.py\", line 102, in connect\n",
            "    s.connect((\"localhost\", port))\n",
            "ConnectionRefusedError: [Errno 111] Connection refused\n",
            "\n",
            "\u001b[34m\u001b[1mwandb\u001b[0m: \u001b[32m\u001b[41mERROR\u001b[0m Run wvqlqx0f errored:\n",
            "\u001b[34m\u001b[1mwandb\u001b[0m: \u001b[32m\u001b[41mERROR\u001b[0m Traceback (most recent call last):\n",
            "\u001b[34m\u001b[1mwandb\u001b[0m: \u001b[32m\u001b[41mERROR\u001b[0m   File \"/home/inflaton/miniconda3/envs/fake-news/lib/python3.11/site-packages/wandb/agents/pyagent.py\", line 306, in _run_job\n",
            "\u001b[34m\u001b[1mwandb\u001b[0m: \u001b[32m\u001b[41mERROR\u001b[0m     self._function()\n",
            "\u001b[34m\u001b[1mwandb\u001b[0m: \u001b[32m\u001b[41mERROR\u001b[0m   File \"/home/inflaton/miniconda3/envs/fake-news/lib/python3.11/site-packages/transformers/integrations/integration_utils.py\", line 552, in _objective\n",
            "\u001b[34m\u001b[1mwandb\u001b[0m: \u001b[32m\u001b[41mERROR\u001b[0m     run = wandb.run if wandb.run else wandb.init()\n",
            "\u001b[34m\u001b[1mwandb\u001b[0m: \u001b[32m\u001b[41mERROR\u001b[0m                                       ^^^^^^^^^^^^\n",
            "\u001b[34m\u001b[1mwandb\u001b[0m: \u001b[32m\u001b[41mERROR\u001b[0m   File \"/home/inflaton/miniconda3/envs/fake-news/lib/python3.11/site-packages/wandb/sdk/wandb_init.py\", line 1485, in init\n",
            "\u001b[34m\u001b[1mwandb\u001b[0m: \u001b[32m\u001b[41mERROR\u001b[0m     wandb._sentry.reraise(e)\n",
            "\u001b[34m\u001b[1mwandb\u001b[0m: \u001b[32m\u001b[41mERROR\u001b[0m   File \"/home/inflaton/miniconda3/envs/fake-news/lib/python3.11/site-packages/wandb/analytics/sentry.py\", line 156, in reraise\n",
            "\u001b[34m\u001b[1mwandb\u001b[0m: \u001b[32m\u001b[41mERROR\u001b[0m     raise exc.with_traceback(sys.exc_info()[2])\n",
            "\u001b[34m\u001b[1mwandb\u001b[0m: \u001b[32m\u001b[41mERROR\u001b[0m   File \"/home/inflaton/miniconda3/envs/fake-news/lib/python3.11/site-packages/wandb/sdk/wandb_init.py\", line 1433, in init\n",
            "\u001b[34m\u001b[1mwandb\u001b[0m: \u001b[32m\u001b[41mERROR\u001b[0m     wi.maybe_login(init_settings)\n",
            "\u001b[34m\u001b[1mwandb\u001b[0m: \u001b[32m\u001b[41mERROR\u001b[0m   File \"/home/inflaton/miniconda3/envs/fake-news/lib/python3.11/site-packages/wandb/sdk/wandb_init.py\", line 175, in maybe_login\n",
            "\u001b[34m\u001b[1mwandb\u001b[0m: \u001b[32m\u001b[41mERROR\u001b[0m     wandb_login._login(\n",
            "\u001b[34m\u001b[1mwandb\u001b[0m: \u001b[32m\u001b[41mERROR\u001b[0m   File \"/home/inflaton/miniconda3/envs/fake-news/lib/python3.11/site-packages/wandb/sdk/wandb_login.py\", line 273, in _login\n",
            "\u001b[34m\u001b[1mwandb\u001b[0m: \u001b[32m\u001b[41mERROR\u001b[0m     wlogin = _WandbLogin(\n",
            "\u001b[34m\u001b[1mwandb\u001b[0m: \u001b[32m\u001b[41mERROR\u001b[0m              ^^^^^^^^^^^^\n",
            "\u001b[34m\u001b[1mwandb\u001b[0m: \u001b[32m\u001b[41mERROR\u001b[0m   File \"/home/inflaton/miniconda3/envs/fake-news/lib/python3.11/site-packages/wandb/sdk/wandb_login.py\", line 115, in __init__\n",
            "\u001b[34m\u001b[1mwandb\u001b[0m: \u001b[32m\u001b[41mERROR\u001b[0m     self._wandb_setup = wandb.setup()\n",
            "\u001b[34m\u001b[1mwandb\u001b[0m: \u001b[32m\u001b[41mERROR\u001b[0m                         ^^^^^^^^^^^^^\n",
            "\u001b[34m\u001b[1mwandb\u001b[0m: \u001b[32m\u001b[41mERROR\u001b[0m   File \"/home/inflaton/miniconda3/envs/fake-news/lib/python3.11/site-packages/wandb/sdk/wandb_setup.py\", line 382, in setup\n",
            "\u001b[34m\u001b[1mwandb\u001b[0m: \u001b[32m\u001b[41mERROR\u001b[0m     return _setup(settings=settings)\n",
            "\u001b[34m\u001b[1mwandb\u001b[0m: \u001b[32m\u001b[41mERROR\u001b[0m            ^^^^^^^^^^^^^^^^^^^^^^^^^\n",
            "\u001b[34m\u001b[1mwandb\u001b[0m: \u001b[32m\u001b[41mERROR\u001b[0m   File \"/home/inflaton/miniconda3/envs/fake-news/lib/python3.11/site-packages/wandb/sdk/wandb_setup.py\", line 321, in _setup\n",
            "\u001b[34m\u001b[1mwandb\u001b[0m: \u001b[32m\u001b[41mERROR\u001b[0m     _singleton.ensure_service()\n",
            "\u001b[34m\u001b[1mwandb\u001b[0m: \u001b[32m\u001b[41mERROR\u001b[0m   File \"/home/inflaton/miniconda3/envs/fake-news/lib/python3.11/site-packages/wandb/sdk/wandb_setup.py\", line 264, in ensure_service\n",
            "\u001b[34m\u001b[1mwandb\u001b[0m: \u001b[32m\u001b[41mERROR\u001b[0m     self._connection = service_connection.connect_to_service(self._settings)\n",
            "\u001b[34m\u001b[1mwandb\u001b[0m: \u001b[32m\u001b[41mERROR\u001b[0m                        ^^^^^^^^^^^^^^^^^^^^^^^^^^^^^^^^^^^^^^^^^^^^^^^^^^^^^\n",
            "\u001b[34m\u001b[1mwandb\u001b[0m: \u001b[32m\u001b[41mERROR\u001b[0m   File \"/home/inflaton/miniconda3/envs/fake-news/lib/python3.11/site-packages/wandb/sdk/lib/service_connection.py\", line 40, in connect_to_service\n",
            "\u001b[34m\u001b[1mwandb\u001b[0m: \u001b[32m\u001b[41mERROR\u001b[0m     return _start_and_connect_service(settings)\n",
            "\u001b[34m\u001b[1mwandb\u001b[0m: \u001b[32m\u001b[41mERROR\u001b[0m            ^^^^^^^^^^^^^^^^^^^^^^^^^^^^^^^^^^^^\n",
            "\u001b[34m\u001b[1mwandb\u001b[0m: \u001b[32m\u001b[41mERROR\u001b[0m   File \"/home/inflaton/miniconda3/envs/fake-news/lib/python3.11/site-packages/wandb/sdk/lib/service_connection.py\", line 80, in _start_and_connect_service\n",
            "\u001b[34m\u001b[1mwandb\u001b[0m: \u001b[32m\u001b[41mERROR\u001b[0m     client.connect(port)\n",
            "\u001b[34m\u001b[1mwandb\u001b[0m: \u001b[32m\u001b[41mERROR\u001b[0m   File \"/home/inflaton/miniconda3/envs/fake-news/lib/python3.11/site-packages/wandb/sdk/lib/sock_client.py\", line 102, in connect\n",
            "\u001b[34m\u001b[1mwandb\u001b[0m: \u001b[32m\u001b[41mERROR\u001b[0m     s.connect((\"localhost\", port))\n",
            "\u001b[34m\u001b[1mwandb\u001b[0m: \u001b[32m\u001b[41mERROR\u001b[0m ConnectionRefusedError: [Errno 111] Connection refused\n",
            "\u001b[34m\u001b[1mwandb\u001b[0m: \u001b[32m\u001b[41mERROR\u001b[0m \n",
            "Detected 3 failed runs in the first 60 seconds, killing sweep.\n",
            "\u001b[34m\u001b[1mwandb\u001b[0m: \u001b[32m\u001b[41mERROR\u001b[0m Detected 3 failed runs in the first 60 seconds, killing sweep.\n",
            "\u001b[34m\u001b[1mwandb\u001b[0m: To disable this check set WANDB_AGENT_DISABLE_FLAPPING=true\n"
          ]
        }
      ],
      "source": [
        "best_trial = trainer.hyperparameter_search(\n",
        "    direction=\"maximize\",\n",
        "    backend=\"wandb\", #\"ray\",  # or \"optuna\", \"sigopt\", \"wandb\"\n",
        "    hp_space=wandb_hp_space, #ray_hp_space, \n",
        "    n_trials=20,\n",
        ")"
      ]
    }
  ],
  "metadata": {
    "accelerator": "GPU",
    "colab": {
      "private_outputs": true,
      "provenance": [],
      "toc_visible": true
    },
    "kernelspec": {
      "display_name": "Python 3",
      "name": "python3"
    }
  },
  "nbformat": 4,
  "nbformat_minor": 0
}
